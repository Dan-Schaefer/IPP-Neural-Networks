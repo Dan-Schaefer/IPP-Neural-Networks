{
 "cells": [
  {
   "cell_type": "code",
   "execution_count": 1,
   "metadata": {},
   "outputs": [],
   "source": [
    "#import python packages\n",
    "import numpy as np\n",
    "import matplotlib.pyplot as plt\n",
    "import matplotlib.image as mpimg\n",
    "import matplotlib as mpl\n",
    "import pandas as pd\n",
    "\n",
    "%matplotlib inline"
   ]
  },
  {
   "cell_type": "code",
   "execution_count": 2,
   "metadata": {},
   "outputs": [],
   "source": [
    "#Serifenschrift, sieht in LaTeX-Dokumenten uU besser aus\n",
    "plt.rc('font', family='sans-serif')\n",
    "#Labelgrösssen, bringen nur was wenn man die figsize nicht gross ändert\n",
    "plt.rc('figure', figsize = [5,3])\n",
    "plt.rc('xtick', labelsize='x-small')\n",
    "plt.rc('ytick', labelsize='x-small')\n",
    "#Schriftgrösse\n",
    "plt.rc('legend', fontsize='x-small')\n",
    "# Damit kann man die Labels auch vom LaTeX-Backend generieren lassen. Passt wieder etwas besser ins Dokument, dauert aber viel länger.\n",
    "plt.rc('text', usetex=False)\n",
    "#Schriftart beim Text zwsichen '$'\n",
    "plt.rc('mathtext', default='regular')\n",
    "#Auflösung in der abgespeichert wird. Ansonsten in plt.savefig('blabla.png', dpi = 100)\n",
    "plt.rc('figure', dpi = 80)"
   ]
  },
  {
   "cell_type": "code",
   "execution_count": 3,
   "metadata": {},
   "outputs": [],
   "source": [
    "# Stats on the current network in RAPTOR"
   ]
  },
  {
   "cell_type": "code",
   "execution_count": 4,
   "metadata": {},
   "outputs": [],
   "source": [
    "df = pd.read_csv('slicestat_results_Run0164.csv')"
   ]
  },
  {
   "cell_type": "code",
   "execution_count": 5,
   "metadata": {},
   "outputs": [
    {
     "data": {
      "text/html": [
       "<div>\n",
       "<style scoped>\n",
       "    .dataframe tbody tr th:only-of-type {\n",
       "        vertical-align: middle;\n",
       "    }\n",
       "\n",
       "    .dataframe tbody tr th {\n",
       "        vertical-align: top;\n",
       "    }\n",
       "\n",
       "    .dataframe thead th {\n",
       "        text-align: right;\n",
       "    }\n",
       "</style>\n",
       "<table border=\"1\" class=\"dataframe\">\n",
       "  <thead>\n",
       "    <tr style=\"text-align: right;\">\n",
       "      <th></th>\n",
       "      <th>network_label</th>\n",
       "      <th>target_names</th>\n",
       "      <th>thresh_rel_mis_median</th>\n",
       "      <th>thresh_rel_mis_95width</th>\n",
       "      <th>pop_rel_mis_median</th>\n",
       "      <th>pop_rel_mis_95width</th>\n",
       "      <th>thresh_abs_mis_median</th>\n",
       "      <th>thresh_abs_mis_95width</th>\n",
       "      <th>no_thresh_frac</th>\n",
       "      <th>pop_abs_mis_median</th>\n",
       "      <th>pop_abs_mis_95width</th>\n",
       "      <th>no_pop_frac</th>\n",
       "      <th>wobble_unstab</th>\n",
       "      <th>wobble_qlkunstab</th>\n",
       "      <th>wobble_tot</th>\n",
       "    </tr>\n",
       "  </thead>\n",
       "  <tbody>\n",
       "    <tr>\n",
       "      <th>0</th>\n",
       "      <td>164</td>\n",
       "      <td>efeETG_GB</td>\n",
       "      <td>0.053997</td>\n",
       "      <td>0.536511</td>\n",
       "      <td>NaN</td>\n",
       "      <td>NaN</td>\n",
       "      <td>0.356784</td>\n",
       "      <td>3.914573</td>\n",
       "      <td>0.02799</td>\n",
       "      <td>NaN</td>\n",
       "      <td>NaN</td>\n",
       "      <td>1.0</td>\n",
       "      <td>0.009619</td>\n",
       "      <td>0.019263</td>\n",
       "      <td>0.010035</td>\n",
       "    </tr>\n",
       "  </tbody>\n",
       "</table>\n",
       "</div>"
      ],
      "text/plain": [
       "   network_label target_names  thresh_rel_mis_median  thresh_rel_mis_95width  \\\n",
       "0            164    efeETG_GB               0.053997                0.536511   \n",
       "\n",
       "   pop_rel_mis_median  pop_rel_mis_95width  thresh_abs_mis_median  \\\n",
       "0                 NaN                  NaN               0.356784   \n",
       "\n",
       "   thresh_abs_mis_95width  no_thresh_frac  pop_abs_mis_median  \\\n",
       "0                3.914573         0.02799                 NaN   \n",
       "\n",
       "   pop_abs_mis_95width  no_pop_frac  wobble_unstab  wobble_qlkunstab  \\\n",
       "0                  NaN          1.0       0.009619          0.019263   \n",
       "\n",
       "   wobble_tot  \n",
       "0    0.010035  "
      ]
     },
     "execution_count": 5,
     "metadata": {},
     "output_type": "execute_result"
    }
   ],
   "source": [
    "df"
   ]
  },
  {
   "cell_type": "code",
   "execution_count": 6,
   "metadata": {},
   "outputs": [
    {
     "data": {
      "text/plain": [
       "(array([0., 0., 0., 0., 0., 1., 0., 0., 0., 0.]),\n",
       " array([-0.14321608, -0.04321608,  0.05678392,  0.15678392,  0.25678392,\n",
       "         0.35678392,  0.45678392,  0.55678392,  0.65678392,  0.75678392,\n",
       "         0.85678392]),\n",
       " <a list of 10 Patch objects>)"
      ]
     },
     "execution_count": 6,
     "metadata": {},
     "output_type": "execute_result"
    },
    {
     "data": {
      "image/png": "[encoded data removed]",
      "text/plain": [
       "<Figure size 400x240 with 1 Axes>"
      ]
     },
     "metadata": {
      "needs_background": "light"
     },
     "output_type": "display_data"
    }
   ],
   "source": [
    "plt.hist(df['thresh_abs_mis_median'].values.astype(float) )"
   ]
  },
  {
   "cell_type": "code",
   "execution_count": null,
   "metadata": {},
   "outputs": [],
   "source": []
  }
 ],
 "metadata": {
  "kernelspec": {
   "display_name": "Python 3",
   "language": "python",
   "name": "python3"
  },
  "language_info": {
   "codemirror_mode": {
    "name": "ipython",
    "version": 3
   },
   "file_extension": ".py",
   "mimetype": "text/x-python",
   "name": "python",
   "nbconvert_exporter": "python",
   "pygments_lexer": "ipython3",
   "version": "3.6.7"
  }
 },
 "nbformat": 4,
 "nbformat_minor": 2
}
