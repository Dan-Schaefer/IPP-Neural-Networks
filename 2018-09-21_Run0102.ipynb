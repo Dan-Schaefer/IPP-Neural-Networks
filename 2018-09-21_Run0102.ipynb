{
 "cells": [
  {
   "cell_type": "markdown",
   "metadata": {},
   "source": [
    "# Run Objective:"
   ]
  },
  {
   "cell_type": "markdown",
   "metadata": {},
   "source": [
    "Added the following:\n",
    "-  Based on Run0101c\n",
    "\n",
    "-  Added EarlyStoppingCallback\n",
    "\n",
    "-  Starting to implement LateFusionActivationFunction"
   ]
  },
  {
   "cell_type": "code",
   "execution_count": null,
   "metadata": {},
   "outputs": [],
   "source": [
    "# DO NOT RUN THIS PART"
   ]
  },
  {
   "cell_type": "code",
   "execution_count": null,
   "metadata": {},
   "outputs": [],
   "source": [
    "import os\n",
    "import sys\n",
    "import time\n",
    "\n",
    "# Gets the current file name. Useful for procedurally generating output/log files.\n",
    "file_name =  os.path.basename(sys.argv[0][:-3])\n",
    "print(file_name)\n",
    "\n",
    "if file_name == \"ipykernel_launcher\":\n",
    "    print(\"This is the Jupyter version.\")\n",
    "    print(\"Now MANUALLY run the next two cells!\")\n",
    "    print(\"STOP! This should not be in your code!!\")\n",
    "    exit(0)\n",
    "    time.sleep(10)\n",
    "    print(\"Testing if script has really stopped.\")\n",
    "else:\n",
    "    print(\"This is the Atom version\")"
   ]
  },
  {
   "cell_type": "code",
   "execution_count": 1,
   "metadata": {},
   "outputs": [],
   "source": [
    "# RUN ONLY IN JUPYTER!!\n",
    "# Start here (manual)"
   ]
  },
  {
   "cell_type": "code",
   "execution_count": 2,
   "metadata": {},
   "outputs": [
    {
     "data": {
      "application/javascript": [
       "IPython.notebook.kernel.execute('file_name = \"' + IPython.notebook.notebook_name + '\"');"
      ],
      "text/plain": [
       "<IPython.core.display.Javascript object>"
      ]
     },
     "metadata": {},
     "output_type": "display_data"
    }
   ],
   "source": [
    "%%javascript\n",
    "IPython.notebook.kernel.execute('file_name = \"' + IPython.notebook.notebook_name + '\"');"
   ]
  },
  {
   "cell_type": "code",
   "execution_count": 3,
   "metadata": {},
   "outputs": [
    {
     "name": "stdout",
     "output_type": "stream",
     "text": [
      "2018-09-21_Run0102.ipynb\n"
     ]
    }
   ],
   "source": [
    "print(file_name)"
   ]
  },
  {
   "cell_type": "code",
   "execution_count": 4,
   "metadata": {},
   "outputs": [
    {
     "name": "stdout",
     "output_type": "stream",
     "text": [
      "2018-09-21_Run0102\n",
      "True\n"
     ]
    }
   ],
   "source": [
    "file_name = file_name[:-6]\n",
    "print(file_name)\n",
    "\n",
    "is_Jupyter = True\n",
    "print(is_Jupyter)"
   ]
  },
  {
   "cell_type": "code",
   "execution_count": null,
   "metadata": {},
   "outputs": [],
   "source": []
  },
  {
   "cell_type": "code",
   "execution_count": 5,
   "metadata": {},
   "outputs": [],
   "source": [
    "# Same code for both ATOM & JUPYTER from now (Run all cells below now)"
   ]
  },
  {
   "cell_type": "code",
   "execution_count": 49,
   "metadata": {},
   "outputs": [],
   "source": [
    "'''\n",
    "Late Fusion Module (test) - Functional API\n",
    "'''\n",
    "\n",
    "# Multiple Inputs\n",
    "import keras\n",
    "from keras.optimizers import RMSprop, adam, Adam\n",
    "from keras.initializers import TruncatedNormal, glorot_normal\n",
    "from keras.utils import plot_model\n",
    "from keras.models import Model\n",
    "from keras.layers import Input\n",
    "from keras.layers import Dense\n",
    "from keras.layers.merge import concatenate\n",
    "from keras import regularizers\n",
    "from keras import backend as K\n",
    "from keras.backend import switch\n",
    "import pandas\n",
    "import numpy\n",
    "import sys\n",
    "import os\n",
    "from copy import deepcopy\n",
    "import tensorflow as tf\n",
    "from keras.utils.generic_utils import get_custom_objects\n",
    "from keras.layers.advanced_activations import ThresholdedReLU\n",
    "\n",
    "keras.backend.clear_session()"
   ]
  },
  {
   "cell_type": "code",
   "execution_count": null,
   "metadata": {},
   "outputs": [],
   "source": [
    "# Defining custom variable to go inside `def custom_activation(LateFusionActivation):`"
   ]
  },
  {
   "cell_type": "code",
   "execution_count": null,
   "metadata": {},
   "outputs": [],
   "source": [
    "# Late Fusion variable c_1\n",
    "tf.keras.backend.variable(\n",
    "    0.1,\n",
    "    dtype=None,\n",
    "    name=\"c_1\",\n",
    "    constraint=None\n",
    ")\n",
    "\n",
    "# Late Fusion variable c_2\n",
    "tf.keras.backend.variable(\n",
    "    0.1,\n",
    "    dtype=None,\n",
    "    name=\"c_2\",\n",
    "    constraint=None\n",
    ")\n",
    "\n",
    "# Late Fusion variable c_3\n",
    "tf.keras.backend.variable(\n",
    "    0.1,\n",
    "    dtype=None,\n",
    "    name=\"c_3\",\n",
    "    constraint=None\n",
    ")"
   ]
  },
  {
   "cell_type": "code",
   "execution_count": null,
   "metadata": {},
   "outputs": [],
   "source": [
    "# Late Fusion variables\n",
    "c_1 = tf.Variable(0.1)\n",
    "c_2 = tf.Variable(0.1)\n",
    "c_3 = tf.Variable(0.1)"
   ]
  },
  {
   "cell_type": "code",
   "execution_count": null,
   "metadata": {},
   "outputs": [],
   "source": [
    "# Add an Op to initialize global variables.\n",
    "init_op = tf.global_variables_initializer()\n",
    "\n",
    "# Launch the graph in a session.\n",
    "with tf.Session() as sess:\n",
    "    # Run the Op that initializes global variables.\n",
    "    sess.run(init_op)\n",
    "    # ...you can now run any Op that uses variable values..."
   ]
  },
  {
   "cell_type": "code",
   "execution_count": null,
   "metadata": {},
   "outputs": [],
   "source": []
  },
  {
   "cell_type": "code",
   "execution_count": 50,
   "metadata": {},
   "outputs": [],
   "source": [
    "# Define new Metric: rmse = Root Mean Square Error\n",
    "def rmse(y_true, y_pred):\n",
    "    return K.sqrt(K.mean(K.square( y_true-y_pred )))\n",
    "\n",
    "# Define custon LateFusionActivation function\n",
    "def LateFusionActivation(x):\n",
    "    #return c_1*x\n",
    "    return keras.backend.switch(x > 0.1, 1, 0)\n",
    "    \n",
    "    \n",
    "#    return c_1*(numpy.heaviside(c_2, 1))*((numpy.heaviside(c_2, 1))^tf.maximum(0, c_3))\n",
    "\n",
    "# c_1*H(Ate-c2)*(Ate-c_2)^tf.maximum(0, c_3)"
   ]
  },
  {
   "cell_type": "code",
   "execution_count": null,
   "metadata": {},
   "outputs": [],
   "source": []
  },
  {
   "cell_type": "code",
   "execution_count": 8,
   "metadata": {},
   "outputs": [],
   "source": [
    "#TEST"
   ]
  },
  {
   "cell_type": "code",
   "execution_count": 9,
   "metadata": {},
   "outputs": [],
   "source": [
    "def spiky(x):\n",
    "    r = x % 1\n",
    "    if r <= 0.5:\n",
    "        return r\n",
    "    else:\n",
    "        return 0"
   ]
  },
  {
   "cell_type": "code",
   "execution_count": 10,
   "metadata": {},
   "outputs": [],
   "source": [
    "import numpy as np\n",
    "np_spiky = np.vectorize(spiky)"
   ]
  },
  {
   "cell_type": "code",
   "execution_count": 11,
   "metadata": {},
   "outputs": [],
   "source": [
    "def d_spiky(x):\n",
    "    r = x % 1\n",
    "    if r <= 0.5:\n",
    "        return 1\n",
    "    else:\n",
    "        return 0\n",
    "np_d_spiky = np.vectorize(d_spiky)"
   ]
  },
  {
   "cell_type": "code",
   "execution_count": 12,
   "metadata": {},
   "outputs": [],
   "source": [
    "import tensorflow as tf\n",
    "from tensorflow.python.framework import ops\n",
    "\n",
    "np_d_spiky_32 = lambda x: np_d_spiky(x).astype(np.float32)\n",
    "\n",
    "\n",
    "def tf_d_spiky(x,name=None):\n",
    "    with tf.name_scope(name, \"d_spiky\", [x]) as name:\n",
    "        y = tf.py_func(np_d_spiky_32,\n",
    "                        [x],\n",
    "                        [tf.float32],\n",
    "                        name=name,\n",
    "                        stateful=False)\n",
    "        return y[0]"
   ]
  },
  {
   "cell_type": "code",
   "execution_count": 13,
   "metadata": {},
   "outputs": [],
   "source": [
    "def py_func(func, inp, Tout, stateful=True, name=None, grad=None):\n",
    "\n",
    "    # Need to generate a unique name to avoid duplicates:\n",
    "    rnd_name = 'PyFuncGrad' + str(np.random.randint(0, 1E+8))\n",
    "\n",
    "    tf.RegisterGradient(rnd_name)(grad)  # see _MySquareGrad for grad example\n",
    "    g = tf.get_default_graph()\n",
    "    with g.gradient_override_map({\"PyFunc\": rnd_name}):\n",
    "        return tf.py_func(func, inp, Tout, stateful=stateful, name=name)"
   ]
  },
  {
   "cell_type": "code",
   "execution_count": 14,
   "metadata": {},
   "outputs": [],
   "source": [
    "def spikygrad(op, grad):\n",
    "    x = op.inputs[0]\n",
    "\n",
    "    n_gr = tf_d_spiky(x)\n",
    "    return grad * n_gr  "
   ]
  },
  {
   "cell_type": "code",
   "execution_count": 15,
   "metadata": {},
   "outputs": [],
   "source": [
    "def spikygrad2(op, grad):\n",
    "    x = op.inputs[0]\n",
    "    r = tf.mod(x,1)\n",
    "    n_gr = tf.to_float(tf.less_equal(r, 0.5))\n",
    "    return grad * n_gr  "
   ]
  },
  {
   "cell_type": "code",
   "execution_count": 16,
   "metadata": {},
   "outputs": [],
   "source": [
    "np_spiky_32 = lambda x: np_spiky(x).astype(np.float32)\n",
    "\n",
    "def tf_spiky(x, name=None):\n",
    "\n",
    "    with tf.name_scope(name, \"spiky\", [x]) as name:\n",
    "        y = py_func(np_spiky_32,\n",
    "                        [x],\n",
    "                        [tf.float32],\n",
    "                        name=name,\n",
    "                        grad=spikygrad)  # <-- here's the call to the gradient\n",
    "        return y[0]"
   ]
  },
  {
   "cell_type": "code",
   "execution_count": 33,
   "metadata": {},
   "outputs": [
    {
     "name": "stdout",
     "output_type": "stream",
     "text": [
      "[0.2 0.7 1.2 1.7] [0.2        0.         0.20000005 0.        ] [1. 0. 1. 0.]\n"
     ]
    }
   ],
   "source": [
    "with tf.Session() as sess:\n",
    "\n",
    "    x = tf.constant([0.2,0.7,1.2,1.7])\n",
    "    y = tf_spiky(x)\n",
    "    tf.global_variables_initializer().run()\n",
    "\n",
    "    print(x.eval(), y.eval(), tf.gradients(y, [x])[0].eval())"
   ]
  },
  {
   "cell_type": "code",
   "execution_count": null,
   "metadata": {},
   "outputs": [],
   "source": []
  },
  {
   "cell_type": "code",
   "execution_count": null,
   "metadata": {},
   "outputs": [],
   "source": []
  },
  {
   "cell_type": "code",
   "execution_count": 51,
   "metadata": {},
   "outputs": [],
   "source": [
    "# Modify for ATOM use"
   ]
  },
  {
   "cell_type": "code",
   "execution_count": 52,
   "metadata": {},
   "outputs": [],
   "source": [
    "if is_Jupyter == True:\n",
    "    pass\n",
    "else:\n",
    "    # Gets the current file name. Useful for procedurally generating output/log files.\n",
    "    file_name =  os.path.basename(sys.argv[0][:-3])"
   ]
  },
  {
   "cell_type": "code",
   "execution_count": null,
   "metadata": {},
   "outputs": [],
   "source": []
  },
  {
   "cell_type": "code",
   "execution_count": 53,
   "metadata": {},
   "outputs": [],
   "source": [
    "# Define neural network parameters\n",
    "batch_size = 10\n",
    "#num_classes = 1\n",
    "epochs = 100"
   ]
  },
  {
   "cell_type": "code",
   "execution_count": 54,
   "metadata": {},
   "outputs": [],
   "source": [
    "# Load Data (which is in HDF5 or .h5 format)\n",
    "store = pandas.HDFStore(\"unstable_training_gen3_7D_nions0_flat_filter8.h5\")\n",
    "target_df = store['/output/efeETG_GB'].to_frame()  # This one is relatively easy to train\n",
    "input_df = store['input']\n",
    "\n",
    "# Puts inputs and outputs in the same pandas dataframe.\n",
    "# Also only keeps overlapping entries.\n",
    "joined_dataFrame = target_df.join(input_df)\n",
    "\n",
    "# Make a copy of joined_dataFrame for later use\n",
    "joined_dataFrame_original = deepcopy(joined_dataFrame)\n",
    "\n",
    "\n",
    "# *************************************************************************** #\n",
    "# Normalize data by standard deviation and mean-centering the data\n",
    "# Standard configuration\n",
    "joined_dataFrame['efeETG_GB'] = (joined_dataFrame['efeETG_GB'] - joined_dataFrame['efeETG_GB'].mean()) / joined_dataFrame['efeETG_GB'].std()\n",
    "joined_dataFrame['Ati'] = (joined_dataFrame['Ati'] - joined_dataFrame['Ati'].mean()) / joined_dataFrame['Ati'].std()\n",
    "joined_dataFrame['Ate'] = (joined_dataFrame['Ate'] - joined_dataFrame['Ate'].mean()) / joined_dataFrame['Ate'].std()\n",
    "joined_dataFrame['An'] = (joined_dataFrame['An'] - joined_dataFrame['An'].mean()) / joined_dataFrame['An'].std()\n",
    "joined_dataFrame['q'] = (joined_dataFrame['q'] - joined_dataFrame['q'].mean()) / joined_dataFrame['q'].std()\n",
    "joined_dataFrame['smag'] = (joined_dataFrame['smag'] - joined_dataFrame['smag'].mean()) / joined_dataFrame['smag'].std()\n",
    "joined_dataFrame['x'] = (joined_dataFrame['x'] - joined_dataFrame['x'].mean()) / joined_dataFrame['x'].std()\n",
    "joined_dataFrame['Ti_Te'] = (joined_dataFrame['Ti_Te'] - joined_dataFrame['Ti_Te'].mean()) / joined_dataFrame['Ti_Te'].std()\n",
    "\n",
    "# Shuffles dataset\n",
    "shuffled_joined_dataFrame = joined_dataFrame.reindex(numpy.random.permutation(\n",
    "                                                joined_dataFrame.index))\n",
    "\n",
    "# Creates a pandas dataframe for the outputs\n",
    "shuffled_clean_output_df = shuffled_joined_dataFrame['efeETG_GB']\n",
    "\n",
    "# Make a copy of shuffled_joined_dataFrame for later use\n",
    "shuffled_joined_dataFrame_base = deepcopy(shuffled_joined_dataFrame)\n",
    "\n",
    "\n",
    "\n",
    "# *************************************************************************** #\n",
    "# Creates a pandas dataframe for the inputs (7D)\n",
    "shuffled_clean_input_df_7D = shuffled_joined_dataFrame.drop('efeETG_GB', axis=1)\n",
    "\n",
    "# Creates training dataset (90% of total data) for outputs\n",
    "y_train = shuffled_clean_output_df.iloc[:int(\n",
    "    numpy.round(len(shuffled_clean_output_df)*0.9))]\n",
    "\n",
    "# Creates training dataset (90% of total data) for inputs\n",
    "x_train = shuffled_clean_input_df_7D.iloc[:int(\n",
    "    numpy.round(len(shuffled_clean_input_df_7D)*0.9))]\n",
    "\n",
    "# Creates testing dataset (10% of total data) for outputs\n",
    "y_test = shuffled_clean_output_df.iloc[int(\n",
    "    numpy.round(len(shuffled_clean_output_df)*0.9)):]\n",
    "\n",
    "# Creates testing dataset (10% of total data) for inputs\n",
    "x_test = shuffled_clean_input_df_7D.iloc[int(\n",
    "    numpy.round(len(shuffled_clean_input_df_7D)*0.9)):]\n",
    "# *************************************************************************** #\n",
    "\n",
    "\n",
    "# Deletes pandas dataframes that are no longer needed\n",
    "del target_df, input_df\n",
    "\n",
    "# Closes the HDFStore. This is good practice.\n",
    "store.close()\n"
   ]
  },
  {
   "cell_type": "code",
   "execution_count": 55,
   "metadata": {},
   "outputs": [
    {
     "data": {
      "text/html": [
       "<div>\n",
       "<style scoped>\n",
       "    .dataframe tbody tr th:only-of-type {\n",
       "        vertical-align: middle;\n",
       "    }\n",
       "\n",
       "    .dataframe tbody tr th {\n",
       "        vertical-align: top;\n",
       "    }\n",
       "\n",
       "    .dataframe thead th {\n",
       "        text-align: right;\n",
       "    }\n",
       "</style>\n",
       "<table border=\"1\" class=\"dataframe\">\n",
       "  <thead>\n",
       "    <tr style=\"text-align: right;\">\n",
       "      <th></th>\n",
       "      <th>Ati</th>\n",
       "      <th>Ate</th>\n",
       "      <th>An</th>\n",
       "      <th>q</th>\n",
       "      <th>smag</th>\n",
       "      <th>x</th>\n",
       "      <th>Ti_Te</th>\n",
       "    </tr>\n",
       "  </thead>\n",
       "  <tbody>\n",
       "    <tr>\n",
       "      <th>count</th>\n",
       "      <td>6.393280e+05</td>\n",
       "      <td>6.393280e+05</td>\n",
       "      <td>6.393280e+05</td>\n",
       "      <td>6.393280e+05</td>\n",
       "      <td>6.393280e+05</td>\n",
       "      <td>6.393280e+05</td>\n",
       "      <td>6.393280e+05</td>\n",
       "    </tr>\n",
       "    <tr>\n",
       "      <th>mean</th>\n",
       "      <td>1.633424e-12</td>\n",
       "      <td>-6.496300e-13</td>\n",
       "      <td>-4.409594e-14</td>\n",
       "      <td>3.983713e-14</td>\n",
       "      <td>-8.762553e-14</td>\n",
       "      <td>2.687112e-14</td>\n",
       "      <td>5.456717e-14</td>\n",
       "    </tr>\n",
       "    <tr>\n",
       "      <th>std</th>\n",
       "      <td>1.000000e+00</td>\n",
       "      <td>1.000000e+00</td>\n",
       "      <td>1.000000e+00</td>\n",
       "      <td>1.000000e+00</td>\n",
       "      <td>1.000000e+00</td>\n",
       "      <td>1.000000e+00</td>\n",
       "      <td>1.000000e+00</td>\n",
       "    </tr>\n",
       "    <tr>\n",
       "      <th>min</th>\n",
       "      <td>-1.848237e+00</td>\n",
       "      <td>-2.151511e+00</td>\n",
       "      <td>-4.175202e+00</td>\n",
       "      <td>-8.733971e-01</td>\n",
       "      <td>-1.264253e+00</td>\n",
       "      <td>-1.375717e+00</td>\n",
       "      <td>-1.667450e+00</td>\n",
       "    </tr>\n",
       "    <tr>\n",
       "      <th>25%</th>\n",
       "      <td>-6.585430e-01</td>\n",
       "      <td>-6.647545e-01</td>\n",
       "      <td>-6.345777e-01</td>\n",
       "      <td>-6.748652e-01</td>\n",
       "      <td>-3.148231e-01</td>\n",
       "      <td>-9.568879e-01</td>\n",
       "      <td>-9.268335e-01</td>\n",
       "    </tr>\n",
       "    <tr>\n",
       "      <th>50%</th>\n",
       "      <td>-1.486741e-01</td>\n",
       "      <td>-1.691691e-01</td>\n",
       "      <td>-4.447369e-02</td>\n",
       "      <td>-4.385177e-01</td>\n",
       "      <td>-5.588771e-02</td>\n",
       "      <td>-1.192290e-01</td>\n",
       "      <td>-6.771858e-02</td>\n",
       "    </tr>\n",
       "    <tr>\n",
       "      <th>75%</th>\n",
       "      <td>6.161291e-01</td>\n",
       "      <td>4.916113e-01</td>\n",
       "      <td>5.456303e-01</td>\n",
       "      <td>1.523511e-01</td>\n",
       "      <td>4.619831e-01</td>\n",
       "      <td>7.184299e-01</td>\n",
       "      <td>4.210880e-01</td>\n",
       "    </tr>\n",
       "    <tr>\n",
       "      <th>max</th>\n",
       "      <td>2.910539e+00</td>\n",
       "      <td>1.813172e+00</td>\n",
       "      <td>2.315942e+00</td>\n",
       "      <td>2.515826e+00</td>\n",
       "      <td>3.914455e+00</td>\n",
       "      <td>1.765503e+00</td>\n",
       "      <td>1.665323e+00</td>\n",
       "    </tr>\n",
       "  </tbody>\n",
       "</table>\n",
       "</div>"
      ],
      "text/plain": [
       "                Ati           Ate            An             q          smag  \\\n",
       "count  6.393280e+05  6.393280e+05  6.393280e+05  6.393280e+05  6.393280e+05   \n",
       "mean   1.633424e-12 -6.496300e-13 -4.409594e-14  3.983713e-14 -8.762553e-14   \n",
       "std    1.000000e+00  1.000000e+00  1.000000e+00  1.000000e+00  1.000000e+00   \n",
       "min   -1.848237e+00 -2.151511e+00 -4.175202e+00 -8.733971e-01 -1.264253e+00   \n",
       "25%   -6.585430e-01 -6.647545e-01 -6.345777e-01 -6.748652e-01 -3.148231e-01   \n",
       "50%   -1.486741e-01 -1.691691e-01 -4.447369e-02 -4.385177e-01 -5.588771e-02   \n",
       "75%    6.161291e-01  4.916113e-01  5.456303e-01  1.523511e-01  4.619831e-01   \n",
       "max    2.910539e+00  1.813172e+00  2.315942e+00  2.515826e+00  3.914455e+00   \n",
       "\n",
       "                  x         Ti_Te  \n",
       "count  6.393280e+05  6.393280e+05  \n",
       "mean   2.687112e-14  5.456717e-14  \n",
       "std    1.000000e+00  1.000000e+00  \n",
       "min   -1.375717e+00 -1.667450e+00  \n",
       "25%   -9.568879e-01 -9.268335e-01  \n",
       "50%   -1.192290e-01 -6.771858e-02  \n",
       "75%    7.184299e-01  4.210880e-01  \n",
       "max    1.765503e+00  1.665323e+00  "
      ]
     },
     "execution_count": 55,
     "metadata": {},
     "output_type": "execute_result"
    }
   ],
   "source": [
    "shuffled_clean_input_df_7D.describe(include='all')"
   ]
  },
  {
   "cell_type": "code",
   "execution_count": 56,
   "metadata": {},
   "outputs": [],
   "source": [
    "# Creates a pandas dataframe for the inputs\n",
    "shuffled_clean_input_df_1 = shuffled_clean_input_df_7D.drop('Ate', axis=1)"
   ]
  },
  {
   "cell_type": "code",
   "execution_count": 57,
   "metadata": {},
   "outputs": [
    {
     "data": {
      "text/html": [
       "<div>\n",
       "<style scoped>\n",
       "    .dataframe tbody tr th:only-of-type {\n",
       "        vertical-align: middle;\n",
       "    }\n",
       "\n",
       "    .dataframe tbody tr th {\n",
       "        vertical-align: top;\n",
       "    }\n",
       "\n",
       "    .dataframe thead th {\n",
       "        text-align: right;\n",
       "    }\n",
       "</style>\n",
       "<table border=\"1\" class=\"dataframe\">\n",
       "  <thead>\n",
       "    <tr style=\"text-align: right;\">\n",
       "      <th></th>\n",
       "      <th>Ati</th>\n",
       "      <th>An</th>\n",
       "      <th>q</th>\n",
       "      <th>smag</th>\n",
       "      <th>x</th>\n",
       "      <th>Ti_Te</th>\n",
       "    </tr>\n",
       "  </thead>\n",
       "  <tbody>\n",
       "    <tr>\n",
       "      <th>count</th>\n",
       "      <td>6.393280e+05</td>\n",
       "      <td>6.393280e+05</td>\n",
       "      <td>6.393280e+05</td>\n",
       "      <td>6.393280e+05</td>\n",
       "      <td>6.393280e+05</td>\n",
       "      <td>6.393280e+05</td>\n",
       "    </tr>\n",
       "    <tr>\n",
       "      <th>mean</th>\n",
       "      <td>1.633424e-12</td>\n",
       "      <td>-4.409594e-14</td>\n",
       "      <td>3.983713e-14</td>\n",
       "      <td>-8.762553e-14</td>\n",
       "      <td>2.687112e-14</td>\n",
       "      <td>5.456717e-14</td>\n",
       "    </tr>\n",
       "    <tr>\n",
       "      <th>std</th>\n",
       "      <td>1.000000e+00</td>\n",
       "      <td>1.000000e+00</td>\n",
       "      <td>1.000000e+00</td>\n",
       "      <td>1.000000e+00</td>\n",
       "      <td>1.000000e+00</td>\n",
       "      <td>1.000000e+00</td>\n",
       "    </tr>\n",
       "    <tr>\n",
       "      <th>min</th>\n",
       "      <td>-1.848237e+00</td>\n",
       "      <td>-4.175202e+00</td>\n",
       "      <td>-8.733971e-01</td>\n",
       "      <td>-1.264253e+00</td>\n",
       "      <td>-1.375717e+00</td>\n",
       "      <td>-1.667450e+00</td>\n",
       "    </tr>\n",
       "    <tr>\n",
       "      <th>25%</th>\n",
       "      <td>-6.585430e-01</td>\n",
       "      <td>-6.345777e-01</td>\n",
       "      <td>-6.748652e-01</td>\n",
       "      <td>-3.148231e-01</td>\n",
       "      <td>-9.568879e-01</td>\n",
       "      <td>-9.268335e-01</td>\n",
       "    </tr>\n",
       "    <tr>\n",
       "      <th>50%</th>\n",
       "      <td>-1.486741e-01</td>\n",
       "      <td>-4.447369e-02</td>\n",
       "      <td>-4.385177e-01</td>\n",
       "      <td>-5.588771e-02</td>\n",
       "      <td>-1.192290e-01</td>\n",
       "      <td>-6.771858e-02</td>\n",
       "    </tr>\n",
       "    <tr>\n",
       "      <th>75%</th>\n",
       "      <td>6.161291e-01</td>\n",
       "      <td>5.456303e-01</td>\n",
       "      <td>1.523511e-01</td>\n",
       "      <td>4.619831e-01</td>\n",
       "      <td>7.184299e-01</td>\n",
       "      <td>4.210880e-01</td>\n",
       "    </tr>\n",
       "    <tr>\n",
       "      <th>max</th>\n",
       "      <td>2.910539e+00</td>\n",
       "      <td>2.315942e+00</td>\n",
       "      <td>2.515826e+00</td>\n",
       "      <td>3.914455e+00</td>\n",
       "      <td>1.765503e+00</td>\n",
       "      <td>1.665323e+00</td>\n",
       "    </tr>\n",
       "  </tbody>\n",
       "</table>\n",
       "</div>"
      ],
      "text/plain": [
       "                Ati            An             q          smag             x  \\\n",
       "count  6.393280e+05  6.393280e+05  6.393280e+05  6.393280e+05  6.393280e+05   \n",
       "mean   1.633424e-12 -4.409594e-14  3.983713e-14 -8.762553e-14  2.687112e-14   \n",
       "std    1.000000e+00  1.000000e+00  1.000000e+00  1.000000e+00  1.000000e+00   \n",
       "min   -1.848237e+00 -4.175202e+00 -8.733971e-01 -1.264253e+00 -1.375717e+00   \n",
       "25%   -6.585430e-01 -6.345777e-01 -6.748652e-01 -3.148231e-01 -9.568879e-01   \n",
       "50%   -1.486741e-01 -4.447369e-02 -4.385177e-01 -5.588771e-02 -1.192290e-01   \n",
       "75%    6.161291e-01  5.456303e-01  1.523511e-01  4.619831e-01  7.184299e-01   \n",
       "max    2.910539e+00  2.315942e+00  2.515826e+00  3.914455e+00  1.765503e+00   \n",
       "\n",
       "              Ti_Te  \n",
       "count  6.393280e+05  \n",
       "mean   5.456717e-14  \n",
       "std    1.000000e+00  \n",
       "min   -1.667450e+00  \n",
       "25%   -9.268335e-01  \n",
       "50%   -6.771858e-02  \n",
       "75%    4.210880e-01  \n",
       "max    1.665323e+00  "
      ]
     },
     "execution_count": 57,
     "metadata": {},
     "output_type": "execute_result"
    }
   ],
   "source": [
    "shuffled_clean_input_df_1.describe(include='all')"
   ]
  },
  {
   "cell_type": "code",
   "execution_count": 58,
   "metadata": {},
   "outputs": [
    {
     "name": "stdout",
     "output_type": "stream",
     "text": [
      "(639328, 6)\n"
     ]
    }
   ],
   "source": [
    "print(shuffled_clean_input_df_1.shape)"
   ]
  },
  {
   "cell_type": "code",
   "execution_count": 59,
   "metadata": {},
   "outputs": [],
   "source": [
    "shuffled_clean_input_df_2 = shuffled_clean_input_df_7D.drop('Ati', axis=1)\n",
    "shuffled_clean_input_df_2 = shuffled_clean_input_df_2.drop('An', axis=1)\n",
    "shuffled_clean_input_df_2 = shuffled_clean_input_df_2.drop('q', axis=1)\n",
    "shuffled_clean_input_df_2 = shuffled_clean_input_df_2.drop('smag', axis=1)\n",
    "shuffled_clean_input_df_2 = shuffled_clean_input_df_2.drop('x', axis=1)\n",
    "shuffled_clean_input_df_2 = shuffled_clean_input_df_2.drop('Ti_Te', axis=1)"
   ]
  },
  {
   "cell_type": "code",
   "execution_count": 60,
   "metadata": {},
   "outputs": [
    {
     "data": {
      "text/html": [
       "<div>\n",
       "<style scoped>\n",
       "    .dataframe tbody tr th:only-of-type {\n",
       "        vertical-align: middle;\n",
       "    }\n",
       "\n",
       "    .dataframe tbody tr th {\n",
       "        vertical-align: top;\n",
       "    }\n",
       "\n",
       "    .dataframe thead th {\n",
       "        text-align: right;\n",
       "    }\n",
       "</style>\n",
       "<table border=\"1\" class=\"dataframe\">\n",
       "  <thead>\n",
       "    <tr style=\"text-align: right;\">\n",
       "      <th></th>\n",
       "      <th>Ate</th>\n",
       "    </tr>\n",
       "  </thead>\n",
       "  <tbody>\n",
       "    <tr>\n",
       "      <th>count</th>\n",
       "      <td>6.393280e+05</td>\n",
       "    </tr>\n",
       "    <tr>\n",
       "      <th>mean</th>\n",
       "      <td>-6.496300e-13</td>\n",
       "    </tr>\n",
       "    <tr>\n",
       "      <th>std</th>\n",
       "      <td>1.000000e+00</td>\n",
       "    </tr>\n",
       "    <tr>\n",
       "      <th>min</th>\n",
       "      <td>-2.151511e+00</td>\n",
       "    </tr>\n",
       "    <tr>\n",
       "      <th>25%</th>\n",
       "      <td>-6.647545e-01</td>\n",
       "    </tr>\n",
       "    <tr>\n",
       "      <th>50%</th>\n",
       "      <td>-1.691691e-01</td>\n",
       "    </tr>\n",
       "    <tr>\n",
       "      <th>75%</th>\n",
       "      <td>4.916113e-01</td>\n",
       "    </tr>\n",
       "    <tr>\n",
       "      <th>max</th>\n",
       "      <td>1.813172e+00</td>\n",
       "    </tr>\n",
       "  </tbody>\n",
       "</table>\n",
       "</div>"
      ],
      "text/plain": [
       "                Ate\n",
       "count  6.393280e+05\n",
       "mean  -6.496300e-13\n",
       "std    1.000000e+00\n",
       "min   -2.151511e+00\n",
       "25%   -6.647545e-01\n",
       "50%   -1.691691e-01\n",
       "75%    4.916113e-01\n",
       "max    1.813172e+00"
      ]
     },
     "execution_count": 60,
     "metadata": {},
     "output_type": "execute_result"
    }
   ],
   "source": [
    "shuffled_clean_input_df_2.describe(include='all')"
   ]
  },
  {
   "cell_type": "code",
   "execution_count": 61,
   "metadata": {},
   "outputs": [
    {
     "name": "stdout",
     "output_type": "stream",
     "text": [
      "(639328, 1)\n"
     ]
    }
   ],
   "source": [
    "print(shuffled_clean_input_df_2.shape)"
   ]
  },
  {
   "cell_type": "code",
   "execution_count": 62,
   "metadata": {},
   "outputs": [],
   "source": [
    "# *************************************************************************** #\n",
    "# Branch 1\n",
    "\n",
    "# Creates training dataset (90% of total data) for inputs\n",
    "x_train_1 = shuffled_clean_input_df_1.iloc[:int(\n",
    "    numpy.round(len(shuffled_clean_input_df_1)*0.9))]\n",
    "\n",
    "# Creates testing dataset (10% of total data) for inputs\n",
    "x_test_1 = shuffled_clean_input_df_1.iloc[int(\n",
    "    numpy.round(len(shuffled_clean_input_df_1)*0.9)):]\n",
    "# *************************************************************************** #"
   ]
  },
  {
   "cell_type": "code",
   "execution_count": 63,
   "metadata": {},
   "outputs": [],
   "source": [
    "# *************************************************************************** #\n",
    "# Branch 2\n",
    "\n",
    "# Creates training dataset (90% of total data) for inputs\n",
    "x_train_2 = shuffled_clean_input_df_2.iloc[:int(\n",
    "    numpy.round(len(shuffled_clean_input_df_2)*0.9))]\n",
    "\n",
    "# Creates testing dataset (10% of total data) for inputs\n",
    "x_test_2 = shuffled_clean_input_df_2.iloc[int(\n",
    "    numpy.round(len(shuffled_clean_input_df_2)*0.9)):]\n",
    "# *************************************************************************** #"
   ]
  },
  {
   "cell_type": "code",
   "execution_count": 66,
   "metadata": {},
   "outputs": [
    {
     "name": "stdout",
     "output_type": "stream",
     "text": [
      "__________________________________________________________________________________________________\n",
      "Layer (type)                    Output Shape         Param #     Connected to                     \n",
      "==================================================================================================\n",
      "input_5 (InputLayer)            (None, 6)            0                                            \n",
      "__________________________________________________________________________________________________\n",
      "dense_7 (Dense)                 (None, 30)           210         input_5[0][0]                    \n",
      "__________________________________________________________________________________________________\n",
      "dense_8 (Dense)                 (None, 30)           930         dense_7[0][0]                    \n",
      "__________________________________________________________________________________________________\n",
      "input_6 (InputLayer)            (None, 1)            0                                            \n",
      "__________________________________________________________________________________________________\n",
      "concatenate_3 (Concatenate)     (None, 31)           0           dense_8[0][0]                    \n",
      "                                                                 input_6[0][0]                    \n",
      "__________________________________________________________________________________________________\n",
      "dense_9 (Dense)                 (None, 1)            32          concatenate_3[0][0]              \n",
      "==================================================================================================\n",
      "Total params: 1,172\n",
      "Trainable params: 1,172\n",
      "Non-trainable params: 0\n",
      "__________________________________________________________________________________________________\n",
      "None\n"
     ]
    }
   ],
   "source": [
    "# branch1\n",
    "visible_branch1 = Input(shape=(6,))\n",
    "hidden1_branch1 = Dense(30,\n",
    "        activation='tanh',\n",
    "        kernel_initializer='glorot_normal',\n",
    "        kernel_regularizer=regularizers.l2(0.00005),\n",
    "        use_bias=True, bias_initializer='glorot_normal')(visible_branch1)\n",
    "hidden2_branch1 = Dense(30,\n",
    "        activation='tanh',\n",
    "        kernel_initializer='glorot_normal',\n",
    "        kernel_regularizer=regularizers.l2(0.00005),\n",
    "        use_bias=True, bias_initializer='glorot_normal')(hidden1_branch1)\n",
    "\n",
    "# branch2\n",
    "visible_branch2 = Input(shape=(1,))\n",
    "\n",
    "# merge input models\n",
    "merge = concatenate([hidden2_branch1, visible_branch2])\n",
    "\n",
    "# interpretation model\n",
    "\n",
    "#output = Dense(1, activation=LateFusionActivation)(merge)\n",
    "#output = Dense(1, activation=tf_spiky)(merge)\n",
    "TR = ThresholdedReLU(theta=0.8)(merge)\n",
    "#output = Dense(1, activation='keras.layers.advanced_activations.ThresholdedReLU(theta=0.8)')(merge)\n",
    "output = Dense(1, activation='linear')(merge)\n",
    "\n",
    "model = Model(inputs=[visible_branch1, visible_branch2], outputs=output)\n",
    "\n",
    "# summarize layers\n",
    "print(model.summary())\n",
    "\n",
    "# plot graph\n",
    "plot_model(model, 'ModelPlots/' + str(file_name) + '_model_plot.png')"
   ]
  },
  {
   "cell_type": "code",
   "execution_count": 67,
   "metadata": {},
   "outputs": [
    {
     "name": "stdout",
     "output_type": "stream",
     "text": [
      "Train on 575395 samples, validate on 63933 samples\n",
      "Epoch 1/100\n",
      " - 81s - loss: 0.2586 - mean_absolute_error: 0.3632 - mean_squared_error: 0.2538 - rmse: 0.4753 - val_loss: 0.2754 - val_mean_absolute_error: 0.3734 - val_mean_squared_error: 0.2696 - val_rmse: 0.4589\n",
      "Epoch 2/100\n",
      " - 78s - loss: 0.2126 - mean_absolute_error: 0.3268 - mean_squared_error: 0.2067 - rmse: 0.4310 - val_loss: 0.2826 - val_mean_absolute_error: 0.3907 - val_mean_squared_error: 0.2765 - val_rmse: 0.4729\n",
      "Epoch 3/100\n",
      " - 73s - loss: 0.2081 - mean_absolute_error: 0.3223 - mean_squared_error: 0.2019 - rmse: 0.4255 - val_loss: 0.2668 - val_mean_absolute_error: 0.3663 - val_mean_squared_error: 0.2603 - val_rmse: 0.4503\n",
      "Epoch 4/100\n",
      " - 83s - loss: 0.2061 - mean_absolute_error: 0.3200 - mean_squared_error: 0.1996 - rmse: 0.4230 - val_loss: 0.3178 - val_mean_absolute_error: 0.4045 - val_mean_squared_error: 0.3111 - val_rmse: 0.4888\n",
      "Epoch 5/100\n",
      " - 83s - loss: 0.2046 - mean_absolute_error: 0.3184 - mean_squared_error: 0.1978 - rmse: 0.4210 - val_loss: 0.2636 - val_mean_absolute_error: 0.3642 - val_mean_squared_error: 0.2566 - val_rmse: 0.4479\n",
      "Epoch 6/100\n",
      " - 83s - loss: 0.2039 - mean_absolute_error: 0.3176 - mean_squared_error: 0.1968 - rmse: 0.4200 - val_loss: 0.2696 - val_mean_absolute_error: 0.3671 - val_mean_squared_error: 0.2624 - val_rmse: 0.4511\n",
      "Epoch 7/100\n",
      " - 80s - loss: 0.2032 - mean_absolute_error: 0.3167 - mean_squared_error: 0.1959 - rmse: 0.4189 - val_loss: 0.2701 - val_mean_absolute_error: 0.3705 - val_mean_squared_error: 0.2627 - val_rmse: 0.4488\n",
      "Epoch 8/100\n",
      " - 85s - loss: 0.2024 - mean_absolute_error: 0.3157 - mean_squared_error: 0.1950 - rmse: 0.4178 - val_loss: 0.2925 - val_mean_absolute_error: 0.3908 - val_mean_squared_error: 0.2849 - val_rmse: 0.4691\n",
      "Epoch 9/100\n",
      " - 73s - loss: 0.2023 - mean_absolute_error: 0.3155 - mean_squared_error: 0.1947 - rmse: 0.4174 - val_loss: 0.2640 - val_mean_absolute_error: 0.3611 - val_mean_squared_error: 0.2564 - val_rmse: 0.4416\n",
      "Epoch 10/100\n",
      " - 78s - loss: 0.2020 - mean_absolute_error: 0.3150 - mean_squared_error: 0.1943 - rmse: 0.4172 - val_loss: 0.2972 - val_mean_absolute_error: 0.3908 - val_mean_squared_error: 0.2894 - val_rmse: 0.4696\n",
      "Epoch 11/100\n",
      " - 85s - loss: 0.2014 - mean_absolute_error: 0.3144 - mean_squared_error: 0.1936 - rmse: 0.4161 - val_loss: 0.2636 - val_mean_absolute_error: 0.3661 - val_mean_squared_error: 0.2557 - val_rmse: 0.4489\n",
      "Epoch 12/100\n",
      " - 75s - loss: 0.2012 - mean_absolute_error: 0.3140 - mean_squared_error: 0.1933 - rmse: 0.4159 - val_loss: 0.2619 - val_mean_absolute_error: 0.3616 - val_mean_squared_error: 0.2539 - val_rmse: 0.4441\n",
      "Epoch 13/100\n",
      " - 78s - loss: 0.2010 - mean_absolute_error: 0.3139 - mean_squared_error: 0.1930 - rmse: 0.4157 - val_loss: 0.2655 - val_mean_absolute_error: 0.3657 - val_mean_squared_error: 0.2575 - val_rmse: 0.4476\n",
      "Epoch 14/100\n",
      " - 79s - loss: 0.2008 - mean_absolute_error: 0.3136 - mean_squared_error: 0.1928 - rmse: 0.4154 - val_loss: 0.2701 - val_mean_absolute_error: 0.3652 - val_mean_squared_error: 0.2620 - val_rmse: 0.4453\n",
      "Epoch 15/100\n",
      " - 74s - loss: 0.2007 - mean_absolute_error: 0.3133 - mean_squared_error: 0.1926 - rmse: 0.4150 - val_loss: 0.2757 - val_mean_absolute_error: 0.3693 - val_mean_squared_error: 0.2676 - val_rmse: 0.4515\n",
      "Epoch 16/100\n",
      " - 83s - loss: 0.2005 - mean_absolute_error: 0.3130 - mean_squared_error: 0.1924 - rmse: 0.4148 - val_loss: 0.2564 - val_mean_absolute_error: 0.3621 - val_mean_squared_error: 0.2483 - val_rmse: 0.4437\n",
      "Epoch 17/100\n",
      " - 79s - loss: 0.2002 - mean_absolute_error: 0.3127 - mean_squared_error: 0.1920 - rmse: 0.4146 - val_loss: 0.2800 - val_mean_absolute_error: 0.3794 - val_mean_squared_error: 0.2718 - val_rmse: 0.4589\n",
      "Epoch 18/100\n",
      " - 77s - loss: 0.2001 - mean_absolute_error: 0.3127 - mean_squared_error: 0.1919 - rmse: 0.4141 - val_loss: 0.2804 - val_mean_absolute_error: 0.3698 - val_mean_squared_error: 0.2721 - val_rmse: 0.4521\n",
      "Epoch 19/100\n",
      " - 84s - loss: 0.2000 - mean_absolute_error: 0.3126 - mean_squared_error: 0.1918 - rmse: 0.4141 - val_loss: 0.2601 - val_mean_absolute_error: 0.3645 - val_mean_squared_error: 0.2519 - val_rmse: 0.4461\n",
      "Epoch 20/100\n",
      " - 83s - loss: 0.1997 - mean_absolute_error: 0.3124 - mean_squared_error: 0.1915 - rmse: 0.4141 - val_loss: 0.2770 - val_mean_absolute_error: 0.3672 - val_mean_squared_error: 0.2688 - val_rmse: 0.4470\n",
      "Epoch 21/100\n",
      " - 76s - loss: 0.1998 - mean_absolute_error: 0.3123 - mean_squared_error: 0.1916 - rmse: 0.4138 - val_loss: 0.2721 - val_mean_absolute_error: 0.3653 - val_mean_squared_error: 0.2638 - val_rmse: 0.4457\n",
      "Epoch 22/100\n",
      " - 83s - loss: 0.1999 - mean_absolute_error: 0.3125 - mean_squared_error: 0.1916 - rmse: 0.4139 - val_loss: 0.2624 - val_mean_absolute_error: 0.3605 - val_mean_squared_error: 0.2541 - val_rmse: 0.4409\n",
      "Epoch 23/100\n",
      " - 81s - loss: 0.1997 - mean_absolute_error: 0.3121 - mean_squared_error: 0.1914 - rmse: 0.4137 - val_loss: 0.2856 - val_mean_absolute_error: 0.3768 - val_mean_squared_error: 0.2773 - val_rmse: 0.4570\n",
      "Epoch 24/100\n",
      " - 78s - loss: 0.1996 - mean_absolute_error: 0.3120 - mean_squared_error: 0.1913 - rmse: 0.4137 - val_loss: 0.2663 - val_mean_absolute_error: 0.3658 - val_mean_squared_error: 0.2580 - val_rmse: 0.4454\n",
      "Epoch 25/100\n",
      " - 81s - loss: 0.1996 - mean_absolute_error: 0.3121 - mean_squared_error: 0.1913 - rmse: 0.4136 - val_loss: 0.2655 - val_mean_absolute_error: 0.3572 - val_mean_squared_error: 0.2572 - val_rmse: 0.4408\n",
      "Epoch 26/100\n",
      " - 81s - loss: 0.1994 - mean_absolute_error: 0.3120 - mean_squared_error: 0.1911 - rmse: 0.4135 - val_loss: 0.2717 - val_mean_absolute_error: 0.3652 - val_mean_squared_error: 0.2634 - val_rmse: 0.4471\n",
      "Epoch 27/100\n",
      " - 75s - loss: 0.1994 - mean_absolute_error: 0.3120 - mean_squared_error: 0.1910 - rmse: 0.4134 - val_loss: 0.2568 - val_mean_absolute_error: 0.3517 - val_mean_squared_error: 0.2485 - val_rmse: 0.4330\n",
      "Epoch 28/100\n",
      " - 80s - loss: 0.1995 - mean_absolute_error: 0.3118 - mean_squared_error: 0.1912 - rmse: 0.4133 - val_loss: 0.2718 - val_mean_absolute_error: 0.3668 - val_mean_squared_error: 0.2635 - val_rmse: 0.4491\n",
      "Epoch 29/100\n",
      " - 82s - loss: 0.1993 - mean_absolute_error: 0.3118 - mean_squared_error: 0.1910 - rmse: 0.4132 - val_loss: 0.2737 - val_mean_absolute_error: 0.3664 - val_mean_squared_error: 0.2654 - val_rmse: 0.4474\n",
      "Epoch 30/100\n",
      " - 76s - loss: 0.1993 - mean_absolute_error: 0.3117 - mean_squared_error: 0.1909 - rmse: 0.4131 - val_loss: 0.2604 - val_mean_absolute_error: 0.3606 - val_mean_squared_error: 0.2520 - val_rmse: 0.4442\n",
      "Epoch 31/100\n",
      " - 85s - loss: 0.1992 - mean_absolute_error: 0.3116 - mean_squared_error: 0.1908 - rmse: 0.4132 - val_loss: 0.2844 - val_mean_absolute_error: 0.3762 - val_mean_squared_error: 0.2760 - val_rmse: 0.4543\n",
      "Epoch 32/100\n",
      " - 84s - loss: 0.1992 - mean_absolute_error: 0.3116 - mean_squared_error: 0.1908 - rmse: 0.4131 - val_loss: 0.2581 - val_mean_absolute_error: 0.3605 - val_mean_squared_error: 0.2497 - val_rmse: 0.4453\n",
      "Epoch 33/100\n",
      " - 78s - loss: 0.1991 - mean_absolute_error: 0.3117 - mean_squared_error: 0.1908 - rmse: 0.4131 - val_loss: 0.2612 - val_mean_absolute_error: 0.3495 - val_mean_squared_error: 0.2528 - val_rmse: 0.4314\n",
      "Epoch 34/100\n",
      " - 81s - loss: 0.1992 - mean_absolute_error: 0.3117 - mean_squared_error: 0.1908 - rmse: 0.4132 - val_loss: 0.2560 - val_mean_absolute_error: 0.3614 - val_mean_squared_error: 0.2476 - val_rmse: 0.4426\n",
      "Epoch 35/100\n",
      " - 82s - loss: 0.1991 - mean_absolute_error: 0.3117 - mean_squared_error: 0.1907 - rmse: 0.4131 - val_loss: 0.2617 - val_mean_absolute_error: 0.3656 - val_mean_squared_error: 0.2533 - val_rmse: 0.4480\n",
      "Epoch 36/100\n",
      " - 76s - loss: 0.1991 - mean_absolute_error: 0.3115 - mean_squared_error: 0.1907 - rmse: 0.4128 - val_loss: 0.2485 - val_mean_absolute_error: 0.3528 - val_mean_squared_error: 0.2401 - val_rmse: 0.4336\n",
      "Epoch 37/100\n",
      " - 79s - loss: 0.1990 - mean_absolute_error: 0.3115 - mean_squared_error: 0.1905 - rmse: 0.4128 - val_loss: 0.2631 - val_mean_absolute_error: 0.3593 - val_mean_squared_error: 0.2547 - val_rmse: 0.4397\n",
      "Epoch 38/100\n",
      " - 81s - loss: 0.1989 - mean_absolute_error: 0.3115 - mean_squared_error: 0.1905 - rmse: 0.4127 - val_loss: 0.2652 - val_mean_absolute_error: 0.3635 - val_mean_squared_error: 0.2568 - val_rmse: 0.4439\n",
      "Epoch 39/100\n",
      " - 74s - loss: 0.1989 - mean_absolute_error: 0.3113 - mean_squared_error: 0.1905 - rmse: 0.4126 - val_loss: 0.2616 - val_mean_absolute_error: 0.3543 - val_mean_squared_error: 0.2532 - val_rmse: 0.4356\n"
     ]
    },
    {
     "name": "stdout",
     "output_type": "stream",
     "text": [
      "Epoch 40/100\n",
      " - 83s - loss: 0.1988 - mean_absolute_error: 0.3115 - mean_squared_error: 0.1904 - rmse: 0.4127 - val_loss: 0.2551 - val_mean_absolute_error: 0.3578 - val_mean_squared_error: 0.2467 - val_rmse: 0.4395\n",
      "Epoch 41/100\n",
      " - 86s - loss: 0.1988 - mean_absolute_error: 0.3113 - mean_squared_error: 0.1904 - rmse: 0.4126 - val_loss: 0.2549 - val_mean_absolute_error: 0.3590 - val_mean_squared_error: 0.2465 - val_rmse: 0.4391\n",
      "Epoch 42/100\n",
      " - 76s - loss: 0.1988 - mean_absolute_error: 0.3114 - mean_squared_error: 0.1904 - rmse: 0.4127 - val_loss: 0.2719 - val_mean_absolute_error: 0.3686 - val_mean_squared_error: 0.2634 - val_rmse: 0.4509\n",
      "Epoch 43/100\n",
      " - 78s - loss: 0.1988 - mean_absolute_error: 0.3113 - mean_squared_error: 0.1903 - rmse: 0.4126 - val_loss: 0.2719 - val_mean_absolute_error: 0.3684 - val_mean_squared_error: 0.2635 - val_rmse: 0.4486\n",
      "Epoch 44/100\n",
      " - 81s - loss: 0.1986 - mean_absolute_error: 0.3114 - mean_squared_error: 0.1902 - rmse: 0.4125 - val_loss: 0.2456 - val_mean_absolute_error: 0.3456 - val_mean_squared_error: 0.2372 - val_rmse: 0.4298\n",
      "Epoch 45/100\n",
      " - 78s - loss: 0.1988 - mean_absolute_error: 0.3113 - mean_squared_error: 0.1903 - rmse: 0.4126 - val_loss: 0.2481 - val_mean_absolute_error: 0.3516 - val_mean_squared_error: 0.2397 - val_rmse: 0.4332\n",
      "Epoch 46/100\n",
      " - 81s - loss: 0.1988 - mean_absolute_error: 0.3114 - mean_squared_error: 0.1903 - rmse: 0.4127 - val_loss: 0.2559 - val_mean_absolute_error: 0.3568 - val_mean_squared_error: 0.2474 - val_rmse: 0.4407\n",
      "Epoch 47/100\n",
      " - 81s - loss: 0.1987 - mean_absolute_error: 0.3114 - mean_squared_error: 0.1902 - rmse: 0.4123 - val_loss: 0.2638 - val_mean_absolute_error: 0.3616 - val_mean_squared_error: 0.2553 - val_rmse: 0.4452\n",
      "Epoch 48/100\n",
      " - 76s - loss: 0.1987 - mean_absolute_error: 0.3114 - mean_squared_error: 0.1903 - rmse: 0.4126 - val_loss: 0.2671 - val_mean_absolute_error: 0.3628 - val_mean_squared_error: 0.2586 - val_rmse: 0.4464\n",
      "Epoch 49/100\n",
      " - 83s - loss: 0.1987 - mean_absolute_error: 0.3112 - mean_squared_error: 0.1902 - rmse: 0.4123 - val_loss: 0.2592 - val_mean_absolute_error: 0.3636 - val_mean_squared_error: 0.2507 - val_rmse: 0.4425\n",
      "Epoch 50/100\n",
      " - 82s - loss: 0.1985 - mean_absolute_error: 0.3111 - mean_squared_error: 0.1900 - rmse: 0.4123 - val_loss: 0.2733 - val_mean_absolute_error: 0.3657 - val_mean_squared_error: 0.2648 - val_rmse: 0.4449\n",
      "Epoch 51/100\n",
      " - 78s - loss: 0.1986 - mean_absolute_error: 0.3111 - mean_squared_error: 0.1901 - rmse: 0.4123 - val_loss: 0.2641 - val_mean_absolute_error: 0.3623 - val_mean_squared_error: 0.2556 - val_rmse: 0.4454\n",
      "Epoch 52/100\n",
      " - 95s - loss: 0.1986 - mean_absolute_error: 0.3111 - mean_squared_error: 0.1900 - rmse: 0.4123 - val_loss: 0.2768 - val_mean_absolute_error: 0.3728 - val_mean_squared_error: 0.2682 - val_rmse: 0.4547\n",
      "Epoch 53/100\n",
      " - 105s - loss: 0.1985 - mean_absolute_error: 0.3110 - mean_squared_error: 0.1899 - rmse: 0.4122 - val_loss: 0.2609 - val_mean_absolute_error: 0.3675 - val_mean_squared_error: 0.2523 - val_rmse: 0.4514\n",
      "Epoch 54/100\n",
      " - 101s - loss: 0.1985 - mean_absolute_error: 0.3111 - mean_squared_error: 0.1899 - rmse: 0.4123 - val_loss: 0.2491 - val_mean_absolute_error: 0.3529 - val_mean_squared_error: 0.2406 - val_rmse: 0.4353\n",
      "Epoch 55/100\n",
      " - 89s - loss: 0.1984 - mean_absolute_error: 0.3109 - mean_squared_error: 0.1899 - rmse: 0.4120 - val_loss: 0.2554 - val_mean_absolute_error: 0.3539 - val_mean_squared_error: 0.2469 - val_rmse: 0.4363\n",
      "Epoch 56/100\n",
      " - 95s - loss: 0.1987 - mean_absolute_error: 0.3110 - mean_squared_error: 0.1901 - rmse: 0.4123 - val_loss: 0.2615 - val_mean_absolute_error: 0.3537 - val_mean_squared_error: 0.2529 - val_rmse: 0.4359\n",
      "Epoch 57/100\n",
      " - 96s - loss: 0.1983 - mean_absolute_error: 0.3108 - mean_squared_error: 0.1898 - rmse: 0.4120 - val_loss: 0.2578 - val_mean_absolute_error: 0.3538 - val_mean_squared_error: 0.2492 - val_rmse: 0.4371\n",
      "Epoch 58/100\n",
      " - 101s - loss: 0.1984 - mean_absolute_error: 0.3108 - mean_squared_error: 0.1898 - rmse: 0.4120 - val_loss: 0.2650 - val_mean_absolute_error: 0.3586 - val_mean_squared_error: 0.2565 - val_rmse: 0.4402\n",
      "Epoch 59/100\n",
      " - 99s - loss: 0.1984 - mean_absolute_error: 0.3109 - mean_squared_error: 0.1899 - rmse: 0.4120 - val_loss: 0.2570 - val_mean_absolute_error: 0.3549 - val_mean_squared_error: 0.2485 - val_rmse: 0.4369\n",
      "Test loss: 0.25700325244319544\n",
      "val_mean_absolute_error: 0.3548756908890662\n",
      "score\n",
      "[0.25700325244319544, 0.3548756908890662, 0.2484702945935844, 0.45507114028806855]\n",
      "model.metrics_names\n",
      "['loss', 'mean_absolute_error', 'mean_squared_error', 'rmse']\n"
     ]
    }
   ],
   "source": [
    "model.compile(loss='mean_squared_error',   #categorical_crossentropy\n",
    "              optimizer=Adam(lr=0.001, beta_1=0.9, beta_2=0.999),\n",
    "              metrics=[\"mae\", \"mean_squared_error\", rmse])\n",
    "\n",
    "# Add CallBacks (including TensorBoard)\n",
    "tbCallBack = keras.callbacks.TensorBoard(\n",
    "        log_dir='TensorBoard_logs/' + str(file_name), write_graph = False, write_images=False, write_grads=False)\n",
    "EarlyStoppingCallBack = keras.callbacks.EarlyStopping(\n",
    "        monitor='val_rmse', min_delta=0, patience=15, verbose=0, mode='auto')\n",
    "\n",
    "history = model.fit([x_train_1, x_train_2],\n",
    "                    y = y_train,\n",
    "                    batch_size=batch_size,\n",
    "                    epochs=epochs,\n",
    "                    shuffle=True,\n",
    "                    verbose=2,\n",
    "                    # validation_data=(x_test, y_test),\n",
    "                    validation_data=([x_test_1, x_test_2], y_test),\n",
    "                    callbacks=[tbCallBack, EarlyStoppingCallBack])\n",
    "\n",
    "# score = model.evaluate(x_test, y_test, verbose=0)\n",
    "score = model.evaluate([x_test_1, x_test_2], y_test, verbose=0)\n",
    "\n",
    "print('Test loss:', score[0])\n",
    "print('val_mean_absolute_error:', score[1])\n",
    "\n",
    "print(\"score\")\n",
    "print(score)\n",
    "\n",
    "print(\"model.metrics_names\")\n",
    "print(model.metrics_names)\n",
    "\n",
    "# creates a HDF5 file 'my_model.h5'\n",
    "model.save(\"./Saved-Networks/\" + str(file_name) +\".h5\")\n",
    "\n",
    "# Create output file\n",
    "OutputFile = open(\"./Loss-Values/\" +str(file_name) +\".txt\", \"w+\")\n",
    "OutputFile.write(\"Test loss: \" + str(score[0]) + \"\\n\")\n",
    "OutputFile.write(\"val_mean_absolute_error: \" +str(score[1]) + \"\\n\")\n",
    "OutputFile.write(\"val_mean_squared_error: \" +str(score[2]) + \"\\n\")\n",
    "OutputFile.write(\"RMSE: \" +str(score[3]) + \"\\n\")\n",
    "OutputFile.close()\n",
    "\n",
    "del history\n",
    "del model\n"
   ]
  },
  {
   "cell_type": "code",
   "execution_count": null,
   "metadata": {},
   "outputs": [],
   "source": []
  }
 ],
 "metadata": {
  "kernelspec": {
   "display_name": "Python 3",
   "language": "python",
   "name": "python3"
  },
  "language_info": {
   "codemirror_mode": {
    "name": "ipython",
    "version": 3
   },
   "file_extension": ".py",
   "mimetype": "text/x-python",
   "name": "python",
   "nbconvert_exporter": "python",
   "pygments_lexer": "ipython3",
   "version": "3.6.6"
  }
 },
 "nbformat": 4,
 "nbformat_minor": 2
}
