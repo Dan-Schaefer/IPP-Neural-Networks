{
 "cells": [
  {
   "cell_type": "markdown",
   "metadata": {},
   "source": [
    "# Run Objective:"
   ]
  },
  {
   "cell_type": "markdown",
   "metadata": {},
   "source": [
    "### Run0130-SERIES\n",
    "\n",
    "This is Run0129d with the variable gradient from `Run0127` added.\n",
    "\n",
    "-  `Run0130`"
   ]
  },
  {
   "cell_type": "code",
   "execution_count": null,
   "metadata": {},
   "outputs": [],
   "source": [
    "# DO NOT RUN THIS PART"
   ]
  },
  {
   "cell_type": "code",
   "execution_count": null,
   "metadata": {},
   "outputs": [],
   "source": [
    "import os\n",
    "import sys\n",
    "import time\n",
    "\n",
    "# Gets the current file name. Useful for procedurally generating output/log files.\n",
    "file_name =  os.path.basename(sys.argv[0][:-3])\n",
    "print(file_name)\n",
    "\n",
    "if file_name == \"ipykernel_launcher\":\n",
    "    print(\"This is the Jupyter version.\")\n",
    "    print(\"Now MANUALLY run the next two cells!\")\n",
    "    print(\"STOP! This should not be in your code!!\")\n",
    "    exit(0)\n",
    "    time.sleep(10)\n",
    "    print(\"Testing if script has really stopped.\")\n",
    "else:\n",
    "    print(\"This is the Atom version\")"
   ]
  },
  {
   "cell_type": "code",
   "execution_count": 1,
   "metadata": {},
   "outputs": [],
   "source": [
    "# RUN ONLY IN JUPYTER!!\n",
    "# Start here (manual)"
   ]
  },
  {
   "cell_type": "code",
   "execution_count": 1,
   "metadata": {},
   "outputs": [
    {
     "data": {
      "application/javascript": [
       "IPython.notebook.kernel.execute('file_name = \"' + IPython.notebook.notebook_name + '\"');\n"
      ],
      "text/plain": [
       "<IPython.core.display.Javascript object>"
      ]
     },
     "metadata": {},
     "output_type": "display_data"
    }
   ],
   "source": [
    "%%javascript\n",
    "IPython.notebook.kernel.execute('file_name = \"' + IPython.notebook.notebook_name + '\"');"
   ]
  },
  {
   "cell_type": "code",
   "execution_count": 2,
   "metadata": {},
   "outputs": [
    {
     "name": "stdout",
     "output_type": "stream",
     "text": [
      "2018-10-26_Run0131.ipynb\n"
     ]
    }
   ],
   "source": [
    "print(file_name)"
   ]
  },
  {
   "cell_type": "code",
   "execution_count": 3,
   "metadata": {},
   "outputs": [
    {
     "name": "stdout",
     "output_type": "stream",
     "text": [
      "2018-10-26_Run0131\n",
      "True\n"
     ]
    }
   ],
   "source": [
    "file_name = file_name[:-6]\n",
    "print(file_name)\n",
    "\n",
    "is_Jupyter = True\n",
    "print(is_Jupyter)"
   ]
  },
  {
   "cell_type": "code",
   "execution_count": null,
   "metadata": {},
   "outputs": [],
   "source": []
  },
  {
   "cell_type": "code",
   "execution_count": 5,
   "metadata": {},
   "outputs": [],
   "source": [
    "# Same code for both ATOM & JUPYTER from now (Run all cells below now)"
   ]
  },
  {
   "cell_type": "code",
   "execution_count": 4,
   "metadata": {},
   "outputs": [
    {
     "name": "stderr",
     "output_type": "stream",
     "text": [
      "Using TensorFlow backend.\n"
     ]
    }
   ],
   "source": [
    "'''\n",
    "Late Fusion Module (test) - Functional API\n",
    "'''\n",
    "\n",
    "# Multiple Inputs\n",
    "import keras\n",
    "from keras.optimizers import RMSprop, adam, Adam\n",
    "from keras.initializers import TruncatedNormal, glorot_normal, Constant\n",
    "from keras.utils import plot_model\n",
    "from keras.models import Model\n",
    "from keras.layers.core import Lambda\n",
    "from keras.layers import Input\n",
    "from keras.layers import Dense\n",
    "from keras.layers.merge import concatenate\n",
    "from keras import regularizers\n",
    "from keras import backend as K\n",
    "#from keras.backend import switch\n",
    "import pandas\n",
    "import numpy\n",
    "import sys\n",
    "import os\n",
    "from copy import deepcopy\n",
    "import tensorflow as tf\n",
    "from keras.utils.generic_utils import get_custom_objects\n",
    "from keras.layers.advanced_activations import ThresholdedReLU\n",
    "\n",
    "#keras.backend.clear_session()\n",
    "K.clear_session()"
   ]
  },
  {
   "cell_type": "code",
   "execution_count": 5,
   "metadata": {},
   "outputs": [],
   "source": [
    "# Define new Metric: rmse = Root Mean Square Error\n",
    "def rmse(y_true, y_pred):\n",
    "    return K.sqrt(K.mean(K.square( y_true-y_pred )))"
   ]
  },
  {
   "cell_type": "code",
   "execution_count": null,
   "metadata": {},
   "outputs": [],
   "source": []
  },
  {
   "cell_type": "code",
   "execution_count": 8,
   "metadata": {},
   "outputs": [],
   "source": [
    "# Modify for ATOM use"
   ]
  },
  {
   "cell_type": "code",
   "execution_count": 6,
   "metadata": {},
   "outputs": [],
   "source": [
    "if is_Jupyter == True:\n",
    "    pass\n",
    "else:\n",
    "    # Gets the current file name. Useful for procedurally generating output/log files.\n",
    "    file_name =  os.path.basename(sys.argv[0][:-3])"
   ]
  },
  {
   "cell_type": "code",
   "execution_count": null,
   "metadata": {},
   "outputs": [],
   "source": []
  },
  {
   "cell_type": "code",
   "execution_count": 7,
   "metadata": {},
   "outputs": [],
   "source": [
    "# Define neural network parameters\n",
    "batch_size = 10\n",
    "#num_classes = 1\n",
    "epochs = 100"
   ]
  },
  {
   "cell_type": "code",
   "execution_count": 8,
   "metadata": {},
   "outputs": [],
   "source": [
    "# Load Data (which is in HDF5 or .h5 format)\n",
    "store = pandas.HDFStore(\"training_gen3_7D_nions0_flat_filter8.h5\")\n",
    "target_df = store['/output/efeETG_GB'].to_frame()  # This one is relatively easy to train\n",
    "input_df = store['input']\n",
    "\n",
    "# Puts inputs and outputs in the same pandas dataframe.\n",
    "# Also only keeps overlapping entries.\n",
    "joined_dataFrame = target_df.join(input_df)\n",
    "\n",
    "# Make a copy of joined_dataFrame for later use\n",
    "joined_dataFrame_original = deepcopy(joined_dataFrame)\n",
    "\n",
    "\n",
    "# *************************************************************************** #\n",
    "# Normalize data by standard deviation and mean-centering the data\n",
    "# Standard configuration\n",
    "joined_dataFrame['efeETG_GB'] = (joined_dataFrame['efeETG_GB'] - joined_dataFrame['efeETG_GB'].mean()) / joined_dataFrame['efeETG_GB'].std()\n",
    "joined_dataFrame['Ati'] = (joined_dataFrame['Ati'] - joined_dataFrame['Ati'].mean()) / joined_dataFrame['Ati'].std()\n",
    "joined_dataFrame['Ate'] = (joined_dataFrame['Ate'] - joined_dataFrame['Ate'].mean()) / joined_dataFrame['Ate'].std()\n",
    "joined_dataFrame['An'] = (joined_dataFrame['An'] - joined_dataFrame['An'].mean()) / joined_dataFrame['An'].std()\n",
    "joined_dataFrame['q'] = (joined_dataFrame['q'] - joined_dataFrame['q'].mean()) / joined_dataFrame['q'].std()\n",
    "joined_dataFrame['smag'] = (joined_dataFrame['smag'] - joined_dataFrame['smag'].mean()) / joined_dataFrame['smag'].std()\n",
    "joined_dataFrame['x'] = (joined_dataFrame['x'] - joined_dataFrame['x'].mean()) / joined_dataFrame['x'].std()\n",
    "joined_dataFrame['Ti_Te'] = (joined_dataFrame['Ti_Te'] - joined_dataFrame['Ti_Te'].mean()) / joined_dataFrame['Ti_Te'].std()\n",
    "\n",
    "# Shuffles dataset\n",
    "shuffled_joined_dataFrame = joined_dataFrame.reindex(numpy.random.permutation(\n",
    "                                                joined_dataFrame.index))\n",
    "\n",
    "# Creates a pandas dataframe for the outputs\n",
    "shuffled_clean_output_df = shuffled_joined_dataFrame['efeETG_GB']\n",
    "\n",
    "# Make a copy of shuffled_joined_dataFrame for later use\n",
    "shuffled_joined_dataFrame_base = deepcopy(shuffled_joined_dataFrame)\n",
    "\n",
    "\n",
    "\n",
    "# *************************************************************************** #\n",
    "# Creates a pandas dataframe for the inputs (7D)\n",
    "shuffled_clean_input_df_7D = shuffled_joined_dataFrame.drop('efeETG_GB', axis=1)\n",
    "\n",
    "# Creates training dataset (90% of total data) for outputs\n",
    "y_train = shuffled_clean_output_df.iloc[:int(\n",
    "    numpy.round(len(shuffled_clean_output_df)*0.9))]\n",
    "\n",
    "# Creates training dataset (90% of total data) for inputs\n",
    "x_train = shuffled_clean_input_df_7D.iloc[:int(\n",
    "    numpy.round(len(shuffled_clean_input_df_7D)*0.9))]\n",
    "\n",
    "# Creates testing dataset (10% of total data) for outputs\n",
    "y_test = shuffled_clean_output_df.iloc[int(\n",
    "    numpy.round(len(shuffled_clean_output_df)*0.9)):]\n",
    "\n",
    "# Creates testing dataset (10% of total data) for inputs\n",
    "x_test = shuffled_clean_input_df_7D.iloc[int(\n",
    "    numpy.round(len(shuffled_clean_input_df_7D)*0.9)):]\n",
    "# *************************************************************************** #\n",
    "\n",
    "\n",
    "# Deletes pandas dataframes that are no longer needed\n",
    "del target_df, input_df\n",
    "\n",
    "# Closes the HDFStore. This is good practice.\n",
    "store.close()\n"
   ]
  },
  {
   "cell_type": "code",
   "execution_count": 9,
   "metadata": {},
   "outputs": [
    {
     "data": {
      "text/html": [
       "<div>\n",
       "<table border=\"1\" class=\"dataframe\">\n",
       "  <thead>\n",
       "    <tr style=\"text-align: right;\">\n",
       "      <th></th>\n",
       "      <th>Ati</th>\n",
       "      <th>Ate</th>\n",
       "      <th>An</th>\n",
       "      <th>q</th>\n",
       "      <th>smag</th>\n",
       "      <th>x</th>\n",
       "      <th>Ti_Te</th>\n",
       "    </tr>\n",
       "  </thead>\n",
       "  <tbody>\n",
       "    <tr>\n",
       "      <th>count</th>\n",
       "      <td>6.479137e+06</td>\n",
       "      <td>6.479137e+06</td>\n",
       "      <td>6.479137e+06</td>\n",
       "      <td>6.479137e+06</td>\n",
       "      <td>6.479137e+06</td>\n",
       "      <td>6.479137e+06</td>\n",
       "      <td>6.479137e+06</td>\n",
       "    </tr>\n",
       "    <tr>\n",
       "      <th>mean</th>\n",
       "      <td>-2.555908e-15</td>\n",
       "      <td>-4.941123e-17</td>\n",
       "      <td>2.201046e-16</td>\n",
       "      <td>3.881308e-17</td>\n",
       "      <td>-4.491930e-17</td>\n",
       "      <td>5.509633e-18</td>\n",
       "      <td>5.804416e-17</td>\n",
       "    </tr>\n",
       "    <tr>\n",
       "      <th>std</th>\n",
       "      <td>1.000000e+00</td>\n",
       "      <td>1.000000e+00</td>\n",
       "      <td>1.000000e+00</td>\n",
       "      <td>1.000000e+00</td>\n",
       "      <td>1.000000e+00</td>\n",
       "      <td>1.000000e+00</td>\n",
       "      <td>1.000000e+00</td>\n",
       "    </tr>\n",
       "    <tr>\n",
       "      <th>min</th>\n",
       "      <td>-1.632300e+00</td>\n",
       "      <td>-1.639065e+00</td>\n",
       "      <td>-1.901001e+00</td>\n",
       "      <td>-8.370116e-01</td>\n",
       "      <td>-1.574307e+00</td>\n",
       "      <td>-1.405340e+00</td>\n",
       "      <td>-1.235044e+00</td>\n",
       "    </tr>\n",
       "    <tr>\n",
       "      <th>25%</th>\n",
       "      <td>-7.928000e-01</td>\n",
       "      <td>-7.898708e-01</td>\n",
       "      <td>-5.438138e-01</td>\n",
       "      <td>-6.367600e-01</td>\n",
       "      <td>-8.011463e-01</td>\n",
       "      <td>-9.907529e-01</td>\n",
       "      <td>-8.817246e-01</td>\n",
       "    </tr>\n",
       "    <tr>\n",
       "      <th>50%</th>\n",
       "      <td>-1.059360e-01</td>\n",
       "      <td>-9.507533e-02</td>\n",
       "      <td>1.347799e-01</td>\n",
       "      <td>-3.983652e-01</td>\n",
       "      <td>-1.936629e-01</td>\n",
       "      <td>-1.615792e-01</td>\n",
       "      <td>-1.750863e-01</td>\n",
       "    </tr>\n",
       "    <tr>\n",
       "      <th>75%</th>\n",
       "      <td>5.809279e-01</td>\n",
       "      <td>5.997202e-01</td>\n",
       "      <td>6.437252e-01</td>\n",
       "      <td>1.976217e-01</td>\n",
       "      <td>9.108525e-01</td>\n",
       "      <td>6.675945e-01</td>\n",
       "      <td>7.576761e-01</td>\n",
       "    </tr>\n",
       "    <tr>\n",
       "      <th>max</th>\n",
       "      <td>2.641520e+00</td>\n",
       "      <td>2.684107e+00</td>\n",
       "      <td>1.831264e+00</td>\n",
       "      <td>2.581570e+00</td>\n",
       "      <td>1.739239e+00</td>\n",
       "      <td>1.704062e+00</td>\n",
       "      <td>1.944828e+00</td>\n",
       "    </tr>\n",
       "  </tbody>\n",
       "</table>\n",
       "</div>"
      ],
      "text/plain": [
       "                Ati           Ate            An             q          smag  \\\n",
       "count  6.479137e+06  6.479137e+06  6.479137e+06  6.479137e+06  6.479137e+06   \n",
       "mean  -2.555908e-15 -4.941123e-17  2.201046e-16  3.881308e-17 -4.491930e-17   \n",
       "std    1.000000e+00  1.000000e+00  1.000000e+00  1.000000e+00  1.000000e+00   \n",
       "min   -1.632300e+00 -1.639065e+00 -1.901001e+00 -8.370116e-01 -1.574307e+00   \n",
       "25%   -7.928000e-01 -7.898708e-01 -5.438138e-01 -6.367600e-01 -8.011463e-01   \n",
       "50%   -1.059360e-01 -9.507533e-02  1.347799e-01 -3.983652e-01 -1.936629e-01   \n",
       "75%    5.809279e-01  5.997202e-01  6.437252e-01  1.976217e-01  9.108525e-01   \n",
       "max    2.641520e+00  2.684107e+00  1.831264e+00  2.581570e+00  1.739239e+00   \n",
       "\n",
       "                  x         Ti_Te  \n",
       "count  6.479137e+06  6.479137e+06  \n",
       "mean   5.509633e-18  5.804416e-17  \n",
       "std    1.000000e+00  1.000000e+00  \n",
       "min   -1.405340e+00 -1.235044e+00  \n",
       "25%   -9.907529e-01 -8.817246e-01  \n",
       "50%   -1.615792e-01 -1.750863e-01  \n",
       "75%    6.675945e-01  7.576761e-01  \n",
       "max    1.704062e+00  1.944828e+00  "
      ]
     },
     "execution_count": 9,
     "metadata": {},
     "output_type": "execute_result"
    }
   ],
   "source": [
    "shuffled_clean_input_df_7D.describe(include='all')"
   ]
  },
  {
   "cell_type": "code",
   "execution_count": 10,
   "metadata": {},
   "outputs": [],
   "source": [
    "# Creates a pandas dataframe for the inputs\n",
    "shuffled_clean_input_df_1 = shuffled_clean_input_df_7D.drop('Ate', axis=1)"
   ]
  },
  {
   "cell_type": "code",
   "execution_count": 11,
   "metadata": {},
   "outputs": [
    {
     "data": {
      "text/html": [
       "<div>\n",
       "<table border=\"1\" class=\"dataframe\">\n",
       "  <thead>\n",
       "    <tr style=\"text-align: right;\">\n",
       "      <th></th>\n",
       "      <th>Ati</th>\n",
       "      <th>An</th>\n",
       "      <th>q</th>\n",
       "      <th>smag</th>\n",
       "      <th>x</th>\n",
       "      <th>Ti_Te</th>\n",
       "    </tr>\n",
       "  </thead>\n",
       "  <tbody>\n",
       "    <tr>\n",
       "      <th>count</th>\n",
       "      <td>6.479137e+06</td>\n",
       "      <td>6.479137e+06</td>\n",
       "      <td>6.479137e+06</td>\n",
       "      <td>6.479137e+06</td>\n",
       "      <td>6.479137e+06</td>\n",
       "      <td>6.479137e+06</td>\n",
       "    </tr>\n",
       "    <tr>\n",
       "      <th>mean</th>\n",
       "      <td>-2.555908e-15</td>\n",
       "      <td>2.201046e-16</td>\n",
       "      <td>3.881308e-17</td>\n",
       "      <td>-4.491930e-17</td>\n",
       "      <td>5.509633e-18</td>\n",
       "      <td>5.804416e-17</td>\n",
       "    </tr>\n",
       "    <tr>\n",
       "      <th>std</th>\n",
       "      <td>1.000000e+00</td>\n",
       "      <td>1.000000e+00</td>\n",
       "      <td>1.000000e+00</td>\n",
       "      <td>1.000000e+00</td>\n",
       "      <td>1.000000e+00</td>\n",
       "      <td>1.000000e+00</td>\n",
       "    </tr>\n",
       "    <tr>\n",
       "      <th>min</th>\n",
       "      <td>-1.632300e+00</td>\n",
       "      <td>-1.901001e+00</td>\n",
       "      <td>-8.370116e-01</td>\n",
       "      <td>-1.574307e+00</td>\n",
       "      <td>-1.405340e+00</td>\n",
       "      <td>-1.235044e+00</td>\n",
       "    </tr>\n",
       "    <tr>\n",
       "      <th>25%</th>\n",
       "      <td>-7.928000e-01</td>\n",
       "      <td>-5.438138e-01</td>\n",
       "      <td>-6.367600e-01</td>\n",
       "      <td>-8.011463e-01</td>\n",
       "      <td>-9.907529e-01</td>\n",
       "      <td>-8.817246e-01</td>\n",
       "    </tr>\n",
       "    <tr>\n",
       "      <th>50%</th>\n",
       "      <td>-1.059360e-01</td>\n",
       "      <td>1.347799e-01</td>\n",
       "      <td>-3.983652e-01</td>\n",
       "      <td>-1.936629e-01</td>\n",
       "      <td>-1.615792e-01</td>\n",
       "      <td>-1.750863e-01</td>\n",
       "    </tr>\n",
       "    <tr>\n",
       "      <th>75%</th>\n",
       "      <td>5.809279e-01</td>\n",
       "      <td>6.437252e-01</td>\n",
       "      <td>1.976217e-01</td>\n",
       "      <td>9.108525e-01</td>\n",
       "      <td>6.675945e-01</td>\n",
       "      <td>7.576761e-01</td>\n",
       "    </tr>\n",
       "    <tr>\n",
       "      <th>max</th>\n",
       "      <td>2.641520e+00</td>\n",
       "      <td>1.831264e+00</td>\n",
       "      <td>2.581570e+00</td>\n",
       "      <td>1.739239e+00</td>\n",
       "      <td>1.704062e+00</td>\n",
       "      <td>1.944828e+00</td>\n",
       "    </tr>\n",
       "  </tbody>\n",
       "</table>\n",
       "</div>"
      ],
      "text/plain": [
       "                Ati            An             q          smag             x  \\\n",
       "count  6.479137e+06  6.479137e+06  6.479137e+06  6.479137e+06  6.479137e+06   \n",
       "mean  -2.555908e-15  2.201046e-16  3.881308e-17 -4.491930e-17  5.509633e-18   \n",
       "std    1.000000e+00  1.000000e+00  1.000000e+00  1.000000e+00  1.000000e+00   \n",
       "min   -1.632300e+00 -1.901001e+00 -8.370116e-01 -1.574307e+00 -1.405340e+00   \n",
       "25%   -7.928000e-01 -5.438138e-01 -6.367600e-01 -8.011463e-01 -9.907529e-01   \n",
       "50%   -1.059360e-01  1.347799e-01 -3.983652e-01 -1.936629e-01 -1.615792e-01   \n",
       "75%    5.809279e-01  6.437252e-01  1.976217e-01  9.108525e-01  6.675945e-01   \n",
       "max    2.641520e+00  1.831264e+00  2.581570e+00  1.739239e+00  1.704062e+00   \n",
       "\n",
       "              Ti_Te  \n",
       "count  6.479137e+06  \n",
       "mean   5.804416e-17  \n",
       "std    1.000000e+00  \n",
       "min   -1.235044e+00  \n",
       "25%   -8.817246e-01  \n",
       "50%   -1.750863e-01  \n",
       "75%    7.576761e-01  \n",
       "max    1.944828e+00  "
      ]
     },
     "execution_count": 11,
     "metadata": {},
     "output_type": "execute_result"
    }
   ],
   "source": [
    "shuffled_clean_input_df_1.describe(include='all')"
   ]
  },
  {
   "cell_type": "code",
   "execution_count": 12,
   "metadata": {},
   "outputs": [
    {
     "name": "stdout",
     "output_type": "stream",
     "text": [
      "(6479137, 6)\n"
     ]
    }
   ],
   "source": [
    "print(shuffled_clean_input_df_1.shape)"
   ]
  },
  {
   "cell_type": "code",
   "execution_count": 13,
   "metadata": {},
   "outputs": [],
   "source": [
    "shuffled_clean_input_df_2 = shuffled_clean_input_df_7D.drop('Ati', axis=1)\n",
    "shuffled_clean_input_df_2 = shuffled_clean_input_df_2.drop('An', axis=1)\n",
    "shuffled_clean_input_df_2 = shuffled_clean_input_df_2.drop('q', axis=1)\n",
    "shuffled_clean_input_df_2 = shuffled_clean_input_df_2.drop('smag', axis=1)\n",
    "shuffled_clean_input_df_2 = shuffled_clean_input_df_2.drop('x', axis=1)\n",
    "shuffled_clean_input_df_2 = shuffled_clean_input_df_2.drop('Ti_Te', axis=1)"
   ]
  },
  {
   "cell_type": "code",
   "execution_count": 14,
   "metadata": {},
   "outputs": [
    {
     "data": {
      "text/html": [
       "<div>\n",
       "<table border=\"1\" class=\"dataframe\">\n",
       "  <thead>\n",
       "    <tr style=\"text-align: right;\">\n",
       "      <th></th>\n",
       "      <th>Ate</th>\n",
       "    </tr>\n",
       "  </thead>\n",
       "  <tbody>\n",
       "    <tr>\n",
       "      <th>count</th>\n",
       "      <td>6.479137e+06</td>\n",
       "    </tr>\n",
       "    <tr>\n",
       "      <th>mean</th>\n",
       "      <td>-4.941123e-17</td>\n",
       "    </tr>\n",
       "    <tr>\n",
       "      <th>std</th>\n",
       "      <td>1.000000e+00</td>\n",
       "    </tr>\n",
       "    <tr>\n",
       "      <th>min</th>\n",
       "      <td>-1.639065e+00</td>\n",
       "    </tr>\n",
       "    <tr>\n",
       "      <th>25%</th>\n",
       "      <td>-7.898708e-01</td>\n",
       "    </tr>\n",
       "    <tr>\n",
       "      <th>50%</th>\n",
       "      <td>-9.507533e-02</td>\n",
       "    </tr>\n",
       "    <tr>\n",
       "      <th>75%</th>\n",
       "      <td>5.997202e-01</td>\n",
       "    </tr>\n",
       "    <tr>\n",
       "      <th>max</th>\n",
       "      <td>2.684107e+00</td>\n",
       "    </tr>\n",
       "  </tbody>\n",
       "</table>\n",
       "</div>"
      ],
      "text/plain": [
       "                Ate\n",
       "count  6.479137e+06\n",
       "mean  -4.941123e-17\n",
       "std    1.000000e+00\n",
       "min   -1.639065e+00\n",
       "25%   -7.898708e-01\n",
       "50%   -9.507533e-02\n",
       "75%    5.997202e-01\n",
       "max    2.684107e+00"
      ]
     },
     "execution_count": 14,
     "metadata": {},
     "output_type": "execute_result"
    }
   ],
   "source": [
    "shuffled_clean_input_df_2.describe(include='all')"
   ]
  },
  {
   "cell_type": "code",
   "execution_count": 15,
   "metadata": {},
   "outputs": [
    {
     "name": "stdout",
     "output_type": "stream",
     "text": [
      "(6479137, 1)\n"
     ]
    }
   ],
   "source": [
    "print(shuffled_clean_input_df_2.shape)"
   ]
  },
  {
   "cell_type": "code",
   "execution_count": 16,
   "metadata": {},
   "outputs": [],
   "source": [
    "# *************************************************************************** #\n",
    "# Branch 1\n",
    "\n",
    "# Creates training dataset (90% of total data) for inputs\n",
    "x_train_1 = shuffled_clean_input_df_1.iloc[:int(\n",
    "    numpy.round(len(shuffled_clean_input_df_1)*0.9))]\n",
    "\n",
    "# Creates testing dataset (10% of total data) for inputs\n",
    "x_test_1 = shuffled_clean_input_df_1.iloc[int(\n",
    "    numpy.round(len(shuffled_clean_input_df_1)*0.9)):]\n",
    "# *************************************************************************** #"
   ]
  },
  {
   "cell_type": "code",
   "execution_count": 17,
   "metadata": {},
   "outputs": [],
   "source": [
    "# *************************************************************************** #\n",
    "# Branch 2\n",
    "\n",
    "# Creates training dataset (90% of total data) for inputs\n",
    "x_train_2 = shuffled_clean_input_df_2.iloc[:int(\n",
    "    numpy.round(len(shuffled_clean_input_df_2)*0.9))]\n",
    "\n",
    "# Creates testing dataset (10% of total data) for inputs\n",
    "x_test_2 = shuffled_clean_input_df_2.iloc[int(\n",
    "    numpy.round(len(shuffled_clean_input_df_2)*0.9)):]\n",
    "# *************************************************************************** #"
   ]
  },
  {
   "cell_type": "code",
   "execution_count": null,
   "metadata": {},
   "outputs": [],
   "source": []
  },
  {
   "cell_type": "code",
   "execution_count": 21,
   "metadata": {},
   "outputs": [
    {
     "ename": "NameError",
     "evalue": "name 'model' is not defined",
     "output_type": "error",
     "traceback": [
      "\u001b[1;31m---------------------------------------------------------------------------\u001b[0m",
      "\u001b[1;31mNameError\u001b[0m                                 Traceback (most recent call last)",
      "\u001b[1;32m<ipython-input-21-1d637571c7cf>\u001b[0m in \u001b[0;36m<module>\u001b[1;34m\u001b[0m\n\u001b[1;32m----> 1\u001b[1;33m \u001b[0mmodel\u001b[0m\u001b[1;33m.\u001b[0m\u001b[0mlayers\u001b[0m\u001b[1;33m[\u001b[0m\u001b[1;36m7\u001b[0m\u001b[1;33m]\u001b[0m\u001b[1;33m.\u001b[0m\u001b[0mget_weights\u001b[0m\u001b[1;33m(\u001b[0m\u001b[1;33m)\u001b[0m\u001b[1;33m\u001b[0m\u001b[0m\n\u001b[0m",
      "\u001b[1;31mNameError\u001b[0m: name 'model' is not defined"
     ]
    }
   ],
   "source": [
    "model.layers[7].get_weights()"
   ]
  },
  {
   "cell_type": "code",
   "execution_count": null,
   "metadata": {},
   "outputs": [],
   "source": [
    "#model.layers[3].get_weights()"
   ]
  },
  {
   "cell_type": "code",
   "execution_count": null,
   "metadata": {},
   "outputs": [],
   "source": [
    "model.get_layer(\"c_3_branch3_feeder\").get_weights()"
   ]
  },
  {
   "cell_type": "code",
   "execution_count": null,
   "metadata": {},
   "outputs": [],
   "source": [
    "model.get_layer(\"c_3_branch3_feeder\").get_weights()[0]"
   ]
  },
  {
   "cell_type": "code",
   "execution_count": null,
   "metadata": {},
   "outputs": [],
   "source": [
    "model.get_layer(\"c_3_branch3_feeder\").get_weights()[0][0]"
   ]
  },
  {
   "cell_type": "code",
   "execution_count": null,
   "metadata": {},
   "outputs": [],
   "source": [
    "model.get_layer(\"c_3_branch3_feeder\").get_weights()[0][0][0]"
   ]
  },
  {
   "cell_type": "code",
   "execution_count": null,
   "metadata": {},
   "outputs": [],
   "source": []
  },
  {
   "cell_type": "code",
   "execution_count": null,
   "metadata": {},
   "outputs": [],
   "source": []
  },
  {
   "cell_type": "code",
   "execution_count": null,
   "metadata": {},
   "outputs": [],
   "source": [
    "model.layers[14] "
   ]
  },
  {
   "cell_type": "code",
   "execution_count": null,
   "metadata": {},
   "outputs": [],
   "source": [
    "model.layers[14].get_weights()"
   ]
  },
  {
   "cell_type": "code",
   "execution_count": null,
   "metadata": {},
   "outputs": [],
   "source": []
  },
  {
   "cell_type": "code",
   "execution_count": null,
   "metadata": {},
   "outputs": [],
   "source": []
  },
  {
   "cell_type": "code",
   "execution_count": null,
   "metadata": {},
   "outputs": [],
   "source": []
  },
  {
   "cell_type": "code",
   "execution_count": null,
   "metadata": {},
   "outputs": [],
   "source": []
  },
  {
   "cell_type": "code",
   "execution_count": null,
   "metadata": {},
   "outputs": [],
   "source": [
    "def power_function(x):\n",
    "    #from keras import backend as K\n",
    "    x = model.get_layer(\"c_3_branch3_feeder\").get_weights()[0]\n",
    "    c_3 = K.cast(x, dtype='float32')\n",
    "    if (c_3 >= 0.0):\n",
    "        return c_3\n",
    "    else:\n",
    "        return 0.0\n",
    "    \n",
    "    return 1.0 ** c_3"
   ]
  },
  {
   "cell_type": "code",
   "execution_count": 22,
   "metadata": {},
   "outputs": [],
   "source": [
    "def power_function(x):\n",
    "    #from keras import backend as K\n",
    "    x = model.get_layer(\"c_3_branch3_feeder\").get_weights()[0]\n",
    "    c_3 = K.cast(x, dtype='float32')\n",
    "    #if (c_3 >= 0.0):\n",
    "    #    pass\n",
    "    #else:\n",
    "    #    c_3 = 0.0\n",
    "    #\n",
    "    return 1.0 ** c_3"
   ]
  },
  {
   "cell_type": "code",
   "execution_count": null,
   "metadata": {},
   "outputs": [],
   "source": []
  },
  {
   "cell_type": "code",
   "execution_count": null,
   "metadata": {},
   "outputs": [],
   "source": [
    "counter = 0"
   ]
  },
  {
   "cell_type": "code",
   "execution_count": null,
   "metadata": {},
   "outputs": [],
   "source": [
    "def power_function(x):\n",
    "    print(\"counter = 0\")\n",
    "    print(\"x: \")\n",
    "    print(x)\n",
    "    print(\"type(x): \")\n",
    "    print(type(x))\n",
    "    counter = 1\n",
    "    if (counter == 0):\n",
    "        pass\n",
    "    else:\n",
    "        print(\"counter = 1\")\n",
    "        print(\"x: \")\n",
    "        print(x)\n",
    "        print(\"type(x): \")\n",
    "        print(type(x))\n",
    "        a = K.cast(x, dtype='float32')\n",
    "        print(\"a: \")\n",
    "        print(a)\n",
    "        try:\n",
    "            print(model.layers[14])\n",
    "            c_3 = model.layers[14].get_weights()[0][0][0]\n",
    "            print(c_3)\n",
    "            print(\"type(c_3): \")\n",
    "            print(type(c_3))\n",
    "            if (c_3 >= 0.0):\n",
    "                pass\n",
    "            else:\n",
    "                c_3 = 0.0\n",
    "            pooling = 1.0 ** c_3\n",
    "            power_pooling_output = K.cast(pooling, dtype='float32')\n",
    "        except:\n",
    "            print(\"An exception occurred\")\n",
    "    return power_pooling_output"
   ]
  },
  {
   "cell_type": "code",
   "execution_count": null,
   "metadata": {},
   "outputs": [],
   "source": []
  },
  {
   "cell_type": "code",
   "execution_count": null,
   "metadata": {},
   "outputs": [],
   "source": [
    "model.add(Lambda(lambda x: 1 ** x))"
   ]
  },
  {
   "cell_type": "code",
   "execution_count": null,
   "metadata": {},
   "outputs": [],
   "source": []
  },
  {
   "cell_type": "code",
   "execution_count": null,
   "metadata": {},
   "outputs": [],
   "source": []
  },
  {
   "cell_type": "code",
   "execution_count": 24,
   "metadata": {
    "scrolled": true
   },
   "outputs": [
    {
     "name": "stdout",
     "output_type": "stream",
     "text": [
      "__________________________________________________________________________________________________\n",
      "Layer (type)                    Output Shape         Param #     Connected to                     \n",
      "==================================================================================================\n",
      "6D_INPUTS (InputLayer)          (None, 6)            0                                            \n",
      "__________________________________________________________________________________________________\n",
      "hidden1_branch3 (Dense)         (None, 30)           210         6D_INPUTS[0][0]                  \n",
      "__________________________________________________________________________________________________\n",
      "hidden1_branch4 (Dense)         (None, 30)           210         6D_INPUTS[0][0]                  \n",
      "__________________________________________________________________________________________________\n",
      "hidden2_branch3 (Dense)         (None, 30)           930         hidden1_branch3[0][0]            \n",
      "__________________________________________________________________________________________________\n",
      "hidden2_branch4 (Dense)         (None, 30)           930         hidden1_branch4[0][0]            \n",
      "__________________________________________________________________________________________________\n",
      "c_3_branch3 (Dense)             (None, 1)            31          hidden2_branch3[0][0]            \n",
      "__________________________________________________________________________________________________\n",
      "m_branch4 (Dense)               (None, 1)            31          hidden2_branch4[0][0]            \n",
      "__________________________________________________________________________________________________\n",
      "c_3_branch3_feeder (Dense)      (None, 1)            2           c_3_branch3[0][0]                \n",
      "__________________________________________________________________________________________________\n",
      "m_branch3_feeder (Dense)        (None, 1)            2           m_branch4[0][0]                  \n",
      "__________________________________________________________________________________________________\n",
      "lambda_7 (Lambda)               (None, 1)            0           c_3_branch3_feeder[0][0]         \n",
      "__________________________________________________________________________________________________\n",
      "Multiplication_Pooling (Multipl (None, 1)            0           m_branch3_feeder[0][0]           \n",
      "                                                                 lambda_7[0][0]                   \n",
      "__________________________________________________________________________________________________\n",
      "Output_Layer (Dense)            (None, 1)            2           Multiplication_Pooling[0][0]     \n",
      "==================================================================================================\n",
      "Total params: 2,348\n",
      "Trainable params: 2,344\n",
      "Non-trainable params: 4\n",
      "__________________________________________________________________________________________________\n",
      "None\n"
     ]
    },
    {
     "data": {
      "image/svg+xml": [
       "<svg height=\"556pt\" viewBox=\"0.00 0.00 333.00 556.00\" width=\"333pt\" xmlns=\"http://www.w3.org/2000/svg\" xmlns:xlink=\"http://www.w3.org/1999/xlink\">\n",
       "<g class=\"graph\" id=\"graph0\" transform=\"scale(1 1) rotate(0) translate(4 552)\">\n",
       "<title>G</title>\n",
       "<polygon fill=\"white\" points=\"-4,4 -4,-552 329,-552 329,4 -4,4\" stroke=\"none\"/>\n",
       "<!-- 139640010815808 -->\n",
       "<g class=\"node\" id=\"node1\"><title>139640010815808</title>\n",
       "<polygon fill=\"none\" points=\"85.5,-511.5 85.5,-547.5 240.5,-547.5 240.5,-511.5 85.5,-511.5\" stroke=\"black\"/>\n",
       "<text font-family=\"Times,serif\" font-size=\"14.00\" text-anchor=\"middle\" x=\"163\" y=\"-525.8\">6D_INPUTS: InputLayer</text>\n",
       "</g>\n",
       "<!-- 139640010830680 -->\n",
       "<g class=\"node\" id=\"node2\"><title>139640010830680</title>\n",
       "<polygon fill=\"none\" points=\"19,-438.5 19,-474.5 171,-474.5 171,-438.5 19,-438.5\" stroke=\"black\"/>\n",
       "<text font-family=\"Times,serif\" font-size=\"14.00\" text-anchor=\"middle\" x=\"95\" y=\"-452.8\">hidden1_branch3: Dense</text>\n",
       "</g>\n",
       "<!-- 139640010815808&#45;&gt;139640010830680 -->\n",
       "<g class=\"edge\" id=\"edge1\"><title>139640010815808-&gt;139640010830680</title>\n",
       "<path d=\"M146.539,-511.313C138.103,-502.505 127.683,-491.625 118.425,-481.958\" fill=\"none\" stroke=\"black\"/>\n",
       "<polygon fill=\"black\" points=\"120.754,-479.33 111.309,-474.529 115.698,-484.172 120.754,-479.33\" stroke=\"black\"/>\n",
       "</g>\n",
       "<!-- 139640010175936 -->\n",
       "<g class=\"node\" id=\"node3\"><title>139640010175936</title>\n",
       "<polygon fill=\"none\" points=\"173,-365.5 173,-401.5 325,-401.5 325,-365.5 173,-365.5\" stroke=\"black\"/>\n",
       "<text font-family=\"Times,serif\" font-size=\"14.00\" text-anchor=\"middle\" x=\"249\" y=\"-379.8\">hidden1_branch4: Dense</text>\n",
       "</g>\n",
       "<!-- 139640010815808&#45;&gt;139640010175936 -->\n",
       "<g class=\"edge\" id=\"edge2\"><title>139640010815808-&gt;139640010175936</title>\n",
       "<path d=\"M173.203,-511.416C188.138,-486.408 216.069,-439.64 233.537,-410.392\" fill=\"none\" stroke=\"black\"/>\n",
       "<polygon fill=\"black\" points=\"236.688,-411.942 238.81,-401.562 230.678,-408.353 236.688,-411.942\" stroke=\"black\"/>\n",
       "</g>\n",
       "<!-- 139640399236344 -->\n",
       "<g class=\"node\" id=\"node4\"><title>139640399236344</title>\n",
       "<polygon fill=\"none\" points=\"3,-365.5 3,-401.5 155,-401.5 155,-365.5 3,-365.5\" stroke=\"black\"/>\n",
       "<text font-family=\"Times,serif\" font-size=\"14.00\" text-anchor=\"middle\" x=\"79\" y=\"-379.8\">hidden2_branch3: Dense</text>\n",
       "</g>\n",
       "<!-- 139640010830680&#45;&gt;139640399236344 -->\n",
       "<g class=\"edge\" id=\"edge3\"><title>139640010830680-&gt;139640399236344</title>\n",
       "<path d=\"M91.1268,-438.313C89.3188,-430.289 87.1234,-420.547 85.1001,-411.569\" fill=\"none\" stroke=\"black\"/>\n",
       "<polygon fill=\"black\" points=\"88.4503,-410.515 82.8375,-401.529 81.6216,-412.054 88.4503,-410.515\" stroke=\"black\"/>\n",
       "</g>\n",
       "<!-- 139640009809256 -->\n",
       "<g class=\"node\" id=\"node5\"><title>139640009809256</title>\n",
       "<polygon fill=\"none\" points=\"172,-292.5 172,-328.5 324,-328.5 324,-292.5 172,-292.5\" stroke=\"black\"/>\n",
       "<text font-family=\"Times,serif\" font-size=\"14.00\" text-anchor=\"middle\" x=\"248\" y=\"-306.8\">hidden2_branch4: Dense</text>\n",
       "</g>\n",
       "<!-- 139640010175936&#45;&gt;139640009809256 -->\n",
       "<g class=\"edge\" id=\"edge4\"><title>139640010175936-&gt;139640009809256</title>\n",
       "<path d=\"M248.758,-365.313C248.645,-357.289 248.508,-347.547 248.381,-338.569\" fill=\"none\" stroke=\"black\"/>\n",
       "<polygon fill=\"black\" points=\"251.88,-338.479 248.24,-328.529 244.881,-338.577 251.88,-338.479\" stroke=\"black\"/>\n",
       "</g>\n",
       "<!-- 139640010803800 -->\n",
       "<g class=\"node\" id=\"node6\"><title>139640010803800</title>\n",
       "<polygon fill=\"none\" points=\"19,-292.5 19,-328.5 147,-328.5 147,-292.5 19,-292.5\" stroke=\"black\"/>\n",
       "<text font-family=\"Times,serif\" font-size=\"14.00\" text-anchor=\"middle\" x=\"83\" y=\"-306.8\">c_3_branch3: Dense</text>\n",
       "</g>\n",
       "<!-- 139640399236344&#45;&gt;139640010803800 -->\n",
       "<g class=\"edge\" id=\"edge5\"><title>139640399236344-&gt;139640010803800</title>\n",
       "<path d=\"M79.9683,-365.313C80.4203,-357.289 80.9692,-347.547 81.475,-338.569\" fill=\"none\" stroke=\"black\"/>\n",
       "<polygon fill=\"black\" points=\"84.9725,-338.71 82.0406,-328.529 77.9836,-338.316 84.9725,-338.71\" stroke=\"black\"/>\n",
       "</g>\n",
       "<!-- 139640009508232 -->\n",
       "<g class=\"node\" id=\"node7\"><title>139640009508232</title>\n",
       "<polygon fill=\"none\" points=\"186.5,-219.5 186.5,-255.5 305.5,-255.5 305.5,-219.5 186.5,-219.5\" stroke=\"black\"/>\n",
       "<text font-family=\"Times,serif\" font-size=\"14.00\" text-anchor=\"middle\" x=\"246\" y=\"-233.8\">m_branch4: Dense</text>\n",
       "</g>\n",
       "<!-- 139640009809256&#45;&gt;139640009508232 -->\n",
       "<g class=\"edge\" id=\"edge6\"><title>139640009809256-&gt;139640009508232</title>\n",
       "<path d=\"M247.516,-292.313C247.29,-284.289 247.015,-274.547 246.763,-265.569\" fill=\"none\" stroke=\"black\"/>\n",
       "<polygon fill=\"black\" points=\"250.26,-265.426 246.48,-255.529 243.263,-265.623 250.26,-265.426\" stroke=\"black\"/>\n",
       "</g>\n",
       "<!-- 139640010862264 -->\n",
       "<g class=\"node\" id=\"node8\"><title>139640010862264</title>\n",
       "<polygon fill=\"none\" points=\"0,-219.5 0,-255.5 168,-255.5 168,-219.5 0,-219.5\" stroke=\"black\"/>\n",
       "<text font-family=\"Times,serif\" font-size=\"14.00\" text-anchor=\"middle\" x=\"84\" y=\"-233.8\">c_3_branch3_feeder: Dense</text>\n",
       "</g>\n",
       "<!-- 139640010803800&#45;&gt;139640010862264 -->\n",
       "<g class=\"edge\" id=\"edge7\"><title>139640010803800-&gt;139640010862264</title>\n",
       "<path d=\"M83.2421,-292.313C83.3551,-284.289 83.4923,-274.547 83.6187,-265.569\" fill=\"none\" stroke=\"black\"/>\n",
       "<polygon fill=\"black\" points=\"87.1189,-265.577 83.7602,-255.529 80.1196,-265.479 87.1189,-265.577\" stroke=\"black\"/>\n",
       "</g>\n",
       "<!-- 139640009621288 -->\n",
       "<g class=\"node\" id=\"node9\"><title>139640009621288</title>\n",
       "<polygon fill=\"none\" points=\"165,-146.5 165,-182.5 325,-182.5 325,-146.5 165,-146.5\" stroke=\"black\"/>\n",
       "<text font-family=\"Times,serif\" font-size=\"14.00\" text-anchor=\"middle\" x=\"245\" y=\"-160.8\">m_branch3_feeder: Dense</text>\n",
       "</g>\n",
       "<!-- 139640009508232&#45;&gt;139640009621288 -->\n",
       "<g class=\"edge\" id=\"edge8\"><title>139640009508232-&gt;139640009621288</title>\n",
       "<path d=\"M245.758,-219.313C245.645,-211.289 245.508,-201.547 245.381,-192.569\" fill=\"none\" stroke=\"black\"/>\n",
       "<polygon fill=\"black\" points=\"248.88,-192.479 245.24,-182.529 241.881,-192.577 248.88,-192.479\" stroke=\"black\"/>\n",
       "</g>\n",
       "<!-- 139640010804976 -->\n",
       "<g class=\"node\" id=\"node10\"><title>139640010804976</title>\n",
       "<polygon fill=\"none\" points=\"23.5,-146.5 23.5,-182.5 146.5,-182.5 146.5,-146.5 23.5,-146.5\" stroke=\"black\"/>\n",
       "<text font-family=\"Times,serif\" font-size=\"14.00\" text-anchor=\"middle\" x=\"85\" y=\"-160.8\">lambda_7: Lambda</text>\n",
       "</g>\n",
       "<!-- 139640010862264&#45;&gt;139640010804976 -->\n",
       "<g class=\"edge\" id=\"edge9\"><title>139640010862264-&gt;139640010804976</title>\n",
       "<path d=\"M84.2421,-219.313C84.3551,-211.289 84.4923,-201.547 84.6187,-192.569\" fill=\"none\" stroke=\"black\"/>\n",
       "<polygon fill=\"black\" points=\"88.1189,-192.577 84.7602,-182.529 81.1196,-192.479 88.1189,-192.577\" stroke=\"black\"/>\n",
       "</g>\n",
       "<!-- 139640009508400 -->\n",
       "<g class=\"node\" id=\"node11\"><title>139640009508400</title>\n",
       "<polygon fill=\"none\" points=\"65.5,-73.5 65.5,-109.5 264.5,-109.5 264.5,-73.5 65.5,-73.5\" stroke=\"black\"/>\n",
       "<text font-family=\"Times,serif\" font-size=\"14.00\" text-anchor=\"middle\" x=\"165\" y=\"-87.8\">Multiplication_Pooling: Multiply</text>\n",
       "</g>\n",
       "<!-- 139640009621288&#45;&gt;139640009508400 -->\n",
       "<g class=\"edge\" id=\"edge10\"><title>139640009621288-&gt;139640009508400</title>\n",
       "<path d=\"M225.634,-146.313C215.513,-137.33 202.964,-126.193 191.913,-116.386\" fill=\"none\" stroke=\"black\"/>\n",
       "<polygon fill=\"black\" points=\"193.99,-113.549 184.187,-109.529 189.343,-118.784 193.99,-113.549\" stroke=\"black\"/>\n",
       "</g>\n",
       "<!-- 139640010804976&#45;&gt;139640009508400 -->\n",
       "<g class=\"edge\" id=\"edge11\"><title>139640010804976-&gt;139640009508400</title>\n",
       "<path d=\"M104.366,-146.313C114.487,-137.33 127.036,-126.193 138.087,-116.386\" fill=\"none\" stroke=\"black\"/>\n",
       "<polygon fill=\"black\" points=\"140.657,-118.784 145.813,-109.529 136.01,-113.549 140.657,-118.784\" stroke=\"black\"/>\n",
       "</g>\n",
       "<!-- 139640009620448 -->\n",
       "<g class=\"node\" id=\"node12\"><title>139640009620448</title>\n",
       "<polygon fill=\"none\" points=\"98,-0.5 98,-36.5 232,-36.5 232,-0.5 98,-0.5\" stroke=\"black\"/>\n",
       "<text font-family=\"Times,serif\" font-size=\"14.00\" text-anchor=\"middle\" x=\"165\" y=\"-14.8\">Output_Layer: Dense</text>\n",
       "</g>\n",
       "<!-- 139640009508400&#45;&gt;139640009620448 -->\n",
       "<g class=\"edge\" id=\"edge12\"><title>139640009508400-&gt;139640009620448</title>\n",
       "<path d=\"M165,-73.3129C165,-65.2895 165,-55.5475 165,-46.5691\" fill=\"none\" stroke=\"black\"/>\n",
       "<polygon fill=\"black\" points=\"168.5,-46.5288 165,-36.5288 161.5,-46.5289 168.5,-46.5288\" stroke=\"black\"/>\n",
       "</g>\n",
       "</g>\n",
       "</svg>"
      ],
      "text/plain": [
       "<IPython.core.display.SVG object>"
      ]
     },
     "execution_count": 24,
     "metadata": {},
     "output_type": "execute_result"
    }
   ],
   "source": [
    "# branch1\n",
    "visible_branch1 = Input(shape=(6, ), name=\"6D_INPUTS\")\n",
    "hidden1_branch1 = Dense(30,\n",
    "        activation='tanh',\n",
    "        kernel_initializer='glorot_normal',\n",
    "        kernel_regularizer=regularizers.l2(0.00005),\n",
    "        use_bias=True, bias_initializer='glorot_normal',\n",
    "        name=\"hidden1_branch1\")(visible_branch1)\n",
    "hidden2_branch1 = Dense(30,\n",
    "        activation='tanh',\n",
    "        kernel_initializer='glorot_normal',\n",
    "        kernel_regularizer=regularizers.l2(0.00005),\n",
    "        use_bias=True, bias_initializer='glorot_normal',\n",
    "        name=\"hidden2_branch1\")(hidden1_branch1)\n",
    "theta_branch1 = Dense(1,\n",
    "        activation='tanh',\n",
    "        kernel_initializer='glorot_normal',\n",
    "        kernel_regularizer=regularizers.l2(0.00005),\n",
    "        use_bias=True, bias_initializer='glorot_normal',\n",
    "        name=\"theta_branch1\")(hidden2_branch1)\n",
    "theta_branch1_feeder = Dense(1,\n",
    "        activation='linear',\n",
    "        kernel_initializer=Constant(value=-1),\n",
    "        bias_initializer='Zeros',\n",
    "        trainable=False,\n",
    "        name=\"theta_branch1_feeder\")(theta_branch1)\n",
    "\n",
    "# branch2 (Ate input)\n",
    "visible_branch2 = Input(shape=(1, ), name=\"Ate_INPUT\")\n",
    "visible_branch2_feeder = Dense(1,\n",
    "                activation='linear',\n",
    "                name=\"visible_branch2_feeder\")(visible_branch2)\n",
    "\n",
    "# addition_pooling (effectively subtraction though...)\n",
    "addition_pooling = keras.layers.Add(name=\"Addition_Pooling\")([theta_branch1_feeder, visible_branch2_feeder])\n",
    "\n",
    "TR = Dense(1, activation='relu',\n",
    "           kernel_initializer='Ones',\n",
    "           bias_initializer='Zeros',\n",
    "           trainable=False,\n",
    "           name=\"TR\")(addition_pooling)\n",
    "\n",
    "# branch 3 (for c_3)\n",
    "hidden1_branch3 = Dense(30,\n",
    "        activation='tanh',\n",
    "        kernel_initializer='glorot_normal',\n",
    "        kernel_regularizer=regularizers.l2(0.00005),\n",
    "        use_bias=True, bias_initializer='glorot_normal',\n",
    "        name=\"hidden1_branch3\")(visible_branch1)\n",
    "hidden2_branch3 = Dense(30,\n",
    "        activation='tanh',\n",
    "        kernel_initializer='glorot_normal',\n",
    "        kernel_regularizer=regularizers.l2(0.00005),\n",
    "        use_bias=True, bias_initializer='glorot_normal',\n",
    "        name=\"hidden2_branch3\")(hidden1_branch3)\n",
    "c_3_branch3 = Dense(1,\n",
    "        activation='tanh',\n",
    "        kernel_initializer='glorot_normal',\n",
    "        kernel_regularizer=regularizers.l2(0.00005),\n",
    "        use_bias=True, bias_initializer='glorot_normal',\n",
    "        name=\"c_3_branch3\")(hidden2_branch3)\n",
    "c_3_branch3_feeder = Dense(1,\n",
    "        activation='linear',\n",
    "        kernel_initializer=Constant(value=+1),\n",
    "        bias_initializer='Zeros',\n",
    "        trainable=False,\n",
    "        name=\"c_3_branch3_feeder\")(c_3_branch3)\n",
    "\n",
    "# Power_Pooling\n",
    "#merge = concatenate([TR, c_3_branch3_feeder], name=\"merge\")\n",
    "#power_pooling = Lambda(power_function, name=\"Power_Pooling\")(merge)\n",
    "power_pooling = Lambda(lambda x: 1 ** x)(c_3_branch3_feeder)\n",
    "\n",
    "\n",
    "# branch 4 (for the gradient)\n",
    "hidden1_branch4 = Dense(30,\n",
    "        activation='tanh',\n",
    "        kernel_initializer='glorot_normal',\n",
    "        kernel_regularizer=regularizers.l2(0.00005),\n",
    "        use_bias=True, bias_initializer='glorot_normal',\n",
    "        name=\"hidden1_branch4\")(visible_branch1)\n",
    "hidden2_branch4 = Dense(30,\n",
    "        activation='tanh',\n",
    "        kernel_initializer='glorot_normal',\n",
    "        kernel_regularizer=regularizers.l2(0.00005),\n",
    "        use_bias=True, bias_initializer='glorot_normal',\n",
    "        name=\"hidden2_branch4\")(hidden1_branch4)\n",
    "m_branch4 = Dense(1,\n",
    "        activation='tanh',\n",
    "        kernel_initializer='glorot_normal',\n",
    "        kernel_regularizer=regularizers.l2(0.00005),\n",
    "        use_bias=True, bias_initializer='glorot_normal',\n",
    "        name=\"m_branch4\")(hidden2_branch4)\n",
    "m_branch4_feeder = Dense(1,\n",
    "        activation='linear',\n",
    "        kernel_initializer=Constant(value=+1),\n",
    "        bias_initializer='Zeros',\n",
    "        trainable=False,\n",
    "        name=\"m_branch3_feeder\")(m_branch4)\n",
    "\n",
    "# multiplication pooling\n",
    "multiplication_pooling = keras.layers.Multiply(name=\"Multiplication_Pooling\")([m_branch4_feeder, power_pooling])\n",
    "\n",
    "# interpretation model\n",
    "output = Dense(1, activation='linear',\n",
    "           kernel_initializer='Ones',\n",
    "           bias_initializer='Zeros',\n",
    "           trainable=True,\n",
    "           name=\"Output_Layer\")(multiplication_pooling)\n",
    "\n",
    "model = Model(inputs=[visible_branch1, visible_branch2], outputs=output)\n",
    "\n",
    "# summarize layers\n",
    "print(model.summary())\n",
    "\n",
    "# plot graph\n",
    "plot_model(model, 'ModelPlots/' + str(file_name) + '_model_plot.png')\n",
    "from IPython.display import SVG\n",
    "from keras.utils.vis_utils import model_to_dot\n",
    "\n",
    "SVG(model_to_dot(model).create(prog='dot', format='svg'))"
   ]
  },
  {
   "cell_type": "code",
   "execution_count": null,
   "metadata": {},
   "outputs": [],
   "source": [
    "model.compile(loss='mean_squared_error',   #categorical_crossentropy\n",
    "              optimizer=Adam(lr=0.001, beta_1=0.9, beta_2=0.999),\n",
    "              metrics=[\"mae\", \"mean_squared_error\", rmse])\n",
    "\n",
    "# Add CallBacks (including TensorBoard)\n",
    "tbCallBack = keras.callbacks.TensorBoard(\n",
    "        log_dir='TensorBoard_logs/' + str(file_name), write_graph = False, write_images=False, write_grads=False)\n",
    "EarlyStoppingCallBack = keras.callbacks.EarlyStopping(\n",
    "        monitor='val_rmse', min_delta=0, patience=15, verbose=0, mode='auto')\n",
    "\n",
    "history = model.fit([x_train_1, x_train_2],\n",
    "                    y = y_train,\n",
    "                    batch_size=batch_size,\n",
    "                    epochs=epochs,\n",
    "                    shuffle=True,\n",
    "                    verbose=2,\n",
    "                    # validation_data=(x_test, y_test),\n",
    "                    validation_data=([x_test_1, x_test_2], y_test),\n",
    "                    callbacks=[tbCallBack, EarlyStoppingCallBack])\n",
    "\n",
    "# score = model.evaluate(x_test, y_test, verbose=0)\n",
    "score = model.evaluate([x_test_1, x_test_2], y_test, verbose=0)\n",
    "\n",
    "print('Test loss:', score[0])\n",
    "print('val_mean_absolute_error:', score[1])\n",
    "\n",
    "print(\"score\")\n",
    "print(score)\n",
    "\n",
    "print(\"model.metrics_names\")\n",
    "print(model.metrics_names)\n",
    "\n",
    "# creates a HDF5 file 'my_model.h5'\n",
    "model.save(\"./Saved-Networks/\" + str(file_name) +\".h5\")\n",
    "\n",
    "# Create output file\n",
    "OutputFile = open(\"./Loss-Values/\" +str(file_name) +\".txt\", \"w+\")\n",
    "OutputFile.write(\"Test loss: \" + str(score[0]) + \"\\n\")\n",
    "OutputFile.write(\"val_mean_absolute_error: \" +str(score[1]) + \"\\n\")\n",
    "OutputFile.write(\"val_mean_squared_error: \" +str(score[2]) + \"\\n\")\n",
    "OutputFile.write(\"RMSE: \" +str(score[3]) + \"\\n\")\n",
    "OutputFile.close()\n",
    "\n",
    "del history\n",
    "del model\n"
   ]
  }
 ],
 "metadata": {
  "kernelspec": {
   "display_name": "Python 3",
   "language": "python",
   "name": "python3"
  },
  "language_info": {
   "codemirror_mode": {
    "name": "ipython",
    "version": 3
   },
   "file_extension": ".py",
   "mimetype": "text/x-python",
   "name": "python",
   "nbconvert_exporter": "python",
   "pygments_lexer": "ipython3",
   "version": "3.5.2"
  }
 },
 "nbformat": 4,
 "nbformat_minor": 2
}
