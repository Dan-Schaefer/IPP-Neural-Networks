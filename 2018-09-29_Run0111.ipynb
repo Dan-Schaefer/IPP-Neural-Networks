{
 "cells": [
  {
   "cell_type": "markdown",
   "metadata": {},
   "source": [
    "# Run Objective:"
   ]
  },
  {
   "cell_type": "markdown",
   "metadata": {},
   "source": [
    "Added the following:\n",
    "-  Run0104 based model\n",
    "\n",
    "-  theta = 0.6"
   ]
  },
  {
   "cell_type": "code",
   "execution_count": null,
   "metadata": {},
   "outputs": [],
   "source": [
    "# DO NOT RUN THIS PART"
   ]
  },
  {
   "cell_type": "code",
   "execution_count": null,
   "metadata": {},
   "outputs": [],
   "source": [
    "import os\n",
    "import sys\n",
    "import time\n",
    "\n",
    "# Gets the current file name. Useful for procedurally generating output/log files.\n",
    "file_name =  os.path.basename(sys.argv[0][:-3])\n",
    "print(file_name)\n",
    "\n",
    "if file_name == \"ipykernel_launcher\":\n",
    "    print(\"This is the Jupyter version.\")\n",
    "    print(\"Now MANUALLY run the next two cells!\")\n",
    "    print(\"STOP! This should not be in your code!!\")\n",
    "    exit(0)\n",
    "    time.sleep(10)\n",
    "    print(\"Testing if script has really stopped.\")\n",
    "else:\n",
    "    print(\"This is the Atom version\")"
   ]
  },
  {
   "cell_type": "code",
   "execution_count": 1,
   "metadata": {},
   "outputs": [],
   "source": [
    "# RUN ONLY IN JUPYTER!!\n",
    "# Start here (manual)"
   ]
  },
  {
   "cell_type": "code",
   "execution_count": 2,
   "metadata": {},
   "outputs": [
    {
     "data": {
      "application/javascript": [
       "IPython.notebook.kernel.execute('file_name = \"' + IPython.notebook.notebook_name + '\"');"
      ],
      "text/plain": [
       "<IPython.core.display.Javascript object>"
      ]
     },
     "metadata": {},
     "output_type": "display_data"
    }
   ],
   "source": [
    "%%javascript\n",
    "IPython.notebook.kernel.execute('file_name = \"' + IPython.notebook.notebook_name + '\"');"
   ]
  },
  {
   "cell_type": "code",
   "execution_count": 3,
   "metadata": {},
   "outputs": [
    {
     "name": "stdout",
     "output_type": "stream",
     "text": [
      "2018-09-29_Run0111.ipynb\n"
     ]
    }
   ],
   "source": [
    "print(file_name)"
   ]
  },
  {
   "cell_type": "code",
   "execution_count": 4,
   "metadata": {},
   "outputs": [
    {
     "name": "stdout",
     "output_type": "stream",
     "text": [
      "2018-09-29_Run0111\n",
      "True\n"
     ]
    }
   ],
   "source": [
    "file_name = file_name[:-6]\n",
    "print(file_name)\n",
    "\n",
    "is_Jupyter = True\n",
    "print(is_Jupyter)"
   ]
  },
  {
   "cell_type": "code",
   "execution_count": null,
   "metadata": {},
   "outputs": [],
   "source": []
  },
  {
   "cell_type": "code",
   "execution_count": 5,
   "metadata": {},
   "outputs": [],
   "source": [
    "# Same code for both ATOM & JUPYTER from now (Run all cells below now)"
   ]
  },
  {
   "cell_type": "code",
   "execution_count": 6,
   "metadata": {},
   "outputs": [
    {
     "name": "stderr",
     "output_type": "stream",
     "text": [
      "Using TensorFlow backend.\n"
     ]
    }
   ],
   "source": [
    "'''\n",
    "Late Fusion Module (test) - Functional API\n",
    "'''\n",
    "\n",
    "# Multiple Inputs\n",
    "import keras\n",
    "from keras.optimizers import RMSprop, adam, Adam\n",
    "from keras.initializers import TruncatedNormal, glorot_normal\n",
    "from keras.utils import plot_model\n",
    "from keras.models import Model\n",
    "from keras.layers import Input\n",
    "from keras.layers import Dense\n",
    "from keras.layers.merge import concatenate\n",
    "from keras import regularizers\n",
    "from keras import backend as K\n",
    "from keras.backend import switch\n",
    "import pandas\n",
    "import numpy\n",
    "import sys\n",
    "import os\n",
    "from copy import deepcopy\n",
    "import tensorflow as tf\n",
    "from keras.utils.generic_utils import get_custom_objects\n",
    "from keras.layers.advanced_activations import ThresholdedReLU\n",
    "\n",
    "keras.backend.clear_session()"
   ]
  },
  {
   "cell_type": "code",
   "execution_count": 7,
   "metadata": {},
   "outputs": [],
   "source": [
    "# Define new Metric: rmse = Root Mean Square Error\n",
    "def rmse(y_true, y_pred):\n",
    "    return K.sqrt(K.mean(K.square( y_true-y_pred )))"
   ]
  },
  {
   "cell_type": "code",
   "execution_count": null,
   "metadata": {},
   "outputs": [],
   "source": []
  },
  {
   "cell_type": "code",
   "execution_count": 8,
   "metadata": {},
   "outputs": [],
   "source": [
    "# Modify for ATOM use"
   ]
  },
  {
   "cell_type": "code",
   "execution_count": 9,
   "metadata": {},
   "outputs": [],
   "source": [
    "if is_Jupyter == True:\n",
    "    pass\n",
    "else:\n",
    "    # Gets the current file name. Useful for procedurally generating output/log files.\n",
    "    file_name =  os.path.basename(sys.argv[0][:-3])"
   ]
  },
  {
   "cell_type": "code",
   "execution_count": null,
   "metadata": {},
   "outputs": [],
   "source": []
  },
  {
   "cell_type": "code",
   "execution_count": 10,
   "metadata": {},
   "outputs": [],
   "source": [
    "# Define neural network parameters\n",
    "batch_size = 10\n",
    "#num_classes = 1\n",
    "epochs = 100"
   ]
  },
  {
   "cell_type": "code",
   "execution_count": 11,
   "metadata": {},
   "outputs": [],
   "source": [
    "# Load Data (which is in HDF5 or .h5 format)\n",
    "store = pandas.HDFStore(\"unstable_training_gen3_7D_nions0_flat_filter8.h5\")\n",
    "target_df = store['/output/efeETG_GB'].to_frame()  # This one is relatively easy to train\n",
    "input_df = store['input']\n",
    "\n",
    "# Puts inputs and outputs in the same pandas dataframe.\n",
    "# Also only keeps overlapping entries.\n",
    "joined_dataFrame = target_df.join(input_df)\n",
    "\n",
    "# Make a copy of joined_dataFrame for later use\n",
    "joined_dataFrame_original = deepcopy(joined_dataFrame)\n",
    "\n",
    "\n",
    "# *************************************************************************** #\n",
    "# Normalize data by standard deviation and mean-centering the data\n",
    "# Standard configuration\n",
    "joined_dataFrame['efeETG_GB'] = (joined_dataFrame['efeETG_GB'] - joined_dataFrame['efeETG_GB'].mean()) / joined_dataFrame['efeETG_GB'].std()\n",
    "joined_dataFrame['Ati'] = (joined_dataFrame['Ati'] - joined_dataFrame['Ati'].mean()) / joined_dataFrame['Ati'].std()\n",
    "joined_dataFrame['Ate'] = (joined_dataFrame['Ate'] - joined_dataFrame['Ate'].mean()) / joined_dataFrame['Ate'].std()\n",
    "joined_dataFrame['An'] = (joined_dataFrame['An'] - joined_dataFrame['An'].mean()) / joined_dataFrame['An'].std()\n",
    "joined_dataFrame['q'] = (joined_dataFrame['q'] - joined_dataFrame['q'].mean()) / joined_dataFrame['q'].std()\n",
    "joined_dataFrame['smag'] = (joined_dataFrame['smag'] - joined_dataFrame['smag'].mean()) / joined_dataFrame['smag'].std()\n",
    "joined_dataFrame['x'] = (joined_dataFrame['x'] - joined_dataFrame['x'].mean()) / joined_dataFrame['x'].std()\n",
    "joined_dataFrame['Ti_Te'] = (joined_dataFrame['Ti_Te'] - joined_dataFrame['Ti_Te'].mean()) / joined_dataFrame['Ti_Te'].std()\n",
    "\n",
    "# Shuffles dataset\n",
    "shuffled_joined_dataFrame = joined_dataFrame.reindex(numpy.random.permutation(\n",
    "                                                joined_dataFrame.index))\n",
    "\n",
    "# Creates a pandas dataframe for the outputs\n",
    "shuffled_clean_output_df = shuffled_joined_dataFrame['efeETG_GB']\n",
    "\n",
    "# Make a copy of shuffled_joined_dataFrame for later use\n",
    "shuffled_joined_dataFrame_base = deepcopy(shuffled_joined_dataFrame)\n",
    "\n",
    "\n",
    "\n",
    "# *************************************************************************** #\n",
    "# Creates a pandas dataframe for the inputs (7D)\n",
    "shuffled_clean_input_df_7D = shuffled_joined_dataFrame.drop('efeETG_GB', axis=1)\n",
    "\n",
    "# Creates training dataset (90% of total data) for outputs\n",
    "y_train = shuffled_clean_output_df.iloc[:int(\n",
    "    numpy.round(len(shuffled_clean_output_df)*0.9))]\n",
    "\n",
    "# Creates training dataset (90% of total data) for inputs\n",
    "x_train = shuffled_clean_input_df_7D.iloc[:int(\n",
    "    numpy.round(len(shuffled_clean_input_df_7D)*0.9))]\n",
    "\n",
    "# Creates testing dataset (10% of total data) for outputs\n",
    "y_test = shuffled_clean_output_df.iloc[int(\n",
    "    numpy.round(len(shuffled_clean_output_df)*0.9)):]\n",
    "\n",
    "# Creates testing dataset (10% of total data) for inputs\n",
    "x_test = shuffled_clean_input_df_7D.iloc[int(\n",
    "    numpy.round(len(shuffled_clean_input_df_7D)*0.9)):]\n",
    "# *************************************************************************** #\n",
    "\n",
    "\n",
    "# Deletes pandas dataframes that are no longer needed\n",
    "del target_df, input_df\n",
    "\n",
    "# Closes the HDFStore. This is good practice.\n",
    "store.close()\n"
   ]
  },
  {
   "cell_type": "code",
   "execution_count": 12,
   "metadata": {},
   "outputs": [
    {
     "data": {
      "text/html": [
       "<div>\n",
       "<style scoped>\n",
       "    .dataframe tbody tr th:only-of-type {\n",
       "        vertical-align: middle;\n",
       "    }\n",
       "\n",
       "    .dataframe tbody tr th {\n",
       "        vertical-align: top;\n",
       "    }\n",
       "\n",
       "    .dataframe thead th {\n",
       "        text-align: right;\n",
       "    }\n",
       "</style>\n",
       "<table border=\"1\" class=\"dataframe\">\n",
       "  <thead>\n",
       "    <tr style=\"text-align: right;\">\n",
       "      <th></th>\n",
       "      <th>Ati</th>\n",
       "      <th>Ate</th>\n",
       "      <th>An</th>\n",
       "      <th>q</th>\n",
       "      <th>smag</th>\n",
       "      <th>x</th>\n",
       "      <th>Ti_Te</th>\n",
       "    </tr>\n",
       "  </thead>\n",
       "  <tbody>\n",
       "    <tr>\n",
       "      <th>count</th>\n",
       "      <td>6.393280e+05</td>\n",
       "      <td>6.393280e+05</td>\n",
       "      <td>6.393280e+05</td>\n",
       "      <td>6.393280e+05</td>\n",
       "      <td>6.393280e+05</td>\n",
       "      <td>6.393280e+05</td>\n",
       "      <td>6.393280e+05</td>\n",
       "    </tr>\n",
       "    <tr>\n",
       "      <th>mean</th>\n",
       "      <td>1.633424e-12</td>\n",
       "      <td>-6.496300e-13</td>\n",
       "      <td>-4.409594e-14</td>\n",
       "      <td>3.983713e-14</td>\n",
       "      <td>-8.762553e-14</td>\n",
       "      <td>2.687112e-14</td>\n",
       "      <td>5.456717e-14</td>\n",
       "    </tr>\n",
       "    <tr>\n",
       "      <th>std</th>\n",
       "      <td>1.000000e+00</td>\n",
       "      <td>1.000000e+00</td>\n",
       "      <td>1.000000e+00</td>\n",
       "      <td>1.000000e+00</td>\n",
       "      <td>1.000000e+00</td>\n",
       "      <td>1.000000e+00</td>\n",
       "      <td>1.000000e+00</td>\n",
       "    </tr>\n",
       "    <tr>\n",
       "      <th>min</th>\n",
       "      <td>-1.848237e+00</td>\n",
       "      <td>-2.151511e+00</td>\n",
       "      <td>-4.175202e+00</td>\n",
       "      <td>-8.733971e-01</td>\n",
       "      <td>-1.264253e+00</td>\n",
       "      <td>-1.375717e+00</td>\n",
       "      <td>-1.667450e+00</td>\n",
       "    </tr>\n",
       "    <tr>\n",
       "      <th>25%</th>\n",
       "      <td>-6.585430e-01</td>\n",
       "      <td>-6.647545e-01</td>\n",
       "      <td>-6.345777e-01</td>\n",
       "      <td>-6.748652e-01</td>\n",
       "      <td>-3.148231e-01</td>\n",
       "      <td>-9.568879e-01</td>\n",
       "      <td>-9.268335e-01</td>\n",
       "    </tr>\n",
       "    <tr>\n",
       "      <th>50%</th>\n",
       "      <td>-1.486741e-01</td>\n",
       "      <td>-1.691691e-01</td>\n",
       "      <td>-4.447369e-02</td>\n",
       "      <td>-4.385177e-01</td>\n",
       "      <td>-5.588771e-02</td>\n",
       "      <td>-1.192290e-01</td>\n",
       "      <td>-6.771858e-02</td>\n",
       "    </tr>\n",
       "    <tr>\n",
       "      <th>75%</th>\n",
       "      <td>6.161291e-01</td>\n",
       "      <td>4.916113e-01</td>\n",
       "      <td>5.456303e-01</td>\n",
       "      <td>1.523511e-01</td>\n",
       "      <td>4.619831e-01</td>\n",
       "      <td>7.184299e-01</td>\n",
       "      <td>4.210880e-01</td>\n",
       "    </tr>\n",
       "    <tr>\n",
       "      <th>max</th>\n",
       "      <td>2.910539e+00</td>\n",
       "      <td>1.813172e+00</td>\n",
       "      <td>2.315942e+00</td>\n",
       "      <td>2.515826e+00</td>\n",
       "      <td>3.914455e+00</td>\n",
       "      <td>1.765503e+00</td>\n",
       "      <td>1.665323e+00</td>\n",
       "    </tr>\n",
       "  </tbody>\n",
       "</table>\n",
       "</div>"
      ],
      "text/plain": [
       "                Ati           Ate            An             q          smag  \\\n",
       "count  6.393280e+05  6.393280e+05  6.393280e+05  6.393280e+05  6.393280e+05   \n",
       "mean   1.633424e-12 -6.496300e-13 -4.409594e-14  3.983713e-14 -8.762553e-14   \n",
       "std    1.000000e+00  1.000000e+00  1.000000e+00  1.000000e+00  1.000000e+00   \n",
       "min   -1.848237e+00 -2.151511e+00 -4.175202e+00 -8.733971e-01 -1.264253e+00   \n",
       "25%   -6.585430e-01 -6.647545e-01 -6.345777e-01 -6.748652e-01 -3.148231e-01   \n",
       "50%   -1.486741e-01 -1.691691e-01 -4.447369e-02 -4.385177e-01 -5.588771e-02   \n",
       "75%    6.161291e-01  4.916113e-01  5.456303e-01  1.523511e-01  4.619831e-01   \n",
       "max    2.910539e+00  1.813172e+00  2.315942e+00  2.515826e+00  3.914455e+00   \n",
       "\n",
       "                  x         Ti_Te  \n",
       "count  6.393280e+05  6.393280e+05  \n",
       "mean   2.687112e-14  5.456717e-14  \n",
       "std    1.000000e+00  1.000000e+00  \n",
       "min   -1.375717e+00 -1.667450e+00  \n",
       "25%   -9.568879e-01 -9.268335e-01  \n",
       "50%   -1.192290e-01 -6.771858e-02  \n",
       "75%    7.184299e-01  4.210880e-01  \n",
       "max    1.765503e+00  1.665323e+00  "
      ]
     },
     "execution_count": 12,
     "metadata": {},
     "output_type": "execute_result"
    }
   ],
   "source": [
    "shuffled_clean_input_df_7D.describe(include='all')"
   ]
  },
  {
   "cell_type": "code",
   "execution_count": 13,
   "metadata": {},
   "outputs": [],
   "source": [
    "# Creates a pandas dataframe for the inputs\n",
    "shuffled_clean_input_df_1 = shuffled_clean_input_df_7D.drop('Ate', axis=1)"
   ]
  },
  {
   "cell_type": "code",
   "execution_count": 14,
   "metadata": {},
   "outputs": [
    {
     "data": {
      "text/html": [
       "<div>\n",
       "<style scoped>\n",
       "    .dataframe tbody tr th:only-of-type {\n",
       "        vertical-align: middle;\n",
       "    }\n",
       "\n",
       "    .dataframe tbody tr th {\n",
       "        vertical-align: top;\n",
       "    }\n",
       "\n",
       "    .dataframe thead th {\n",
       "        text-align: right;\n",
       "    }\n",
       "</style>\n",
       "<table border=\"1\" class=\"dataframe\">\n",
       "  <thead>\n",
       "    <tr style=\"text-align: right;\">\n",
       "      <th></th>\n",
       "      <th>Ati</th>\n",
       "      <th>An</th>\n",
       "      <th>q</th>\n",
       "      <th>smag</th>\n",
       "      <th>x</th>\n",
       "      <th>Ti_Te</th>\n",
       "    </tr>\n",
       "  </thead>\n",
       "  <tbody>\n",
       "    <tr>\n",
       "      <th>count</th>\n",
       "      <td>6.393280e+05</td>\n",
       "      <td>6.393280e+05</td>\n",
       "      <td>6.393280e+05</td>\n",
       "      <td>6.393280e+05</td>\n",
       "      <td>6.393280e+05</td>\n",
       "      <td>6.393280e+05</td>\n",
       "    </tr>\n",
       "    <tr>\n",
       "      <th>mean</th>\n",
       "      <td>1.633424e-12</td>\n",
       "      <td>-4.409594e-14</td>\n",
       "      <td>3.983713e-14</td>\n",
       "      <td>-8.762553e-14</td>\n",
       "      <td>2.687112e-14</td>\n",
       "      <td>5.456717e-14</td>\n",
       "    </tr>\n",
       "    <tr>\n",
       "      <th>std</th>\n",
       "      <td>1.000000e+00</td>\n",
       "      <td>1.000000e+00</td>\n",
       "      <td>1.000000e+00</td>\n",
       "      <td>1.000000e+00</td>\n",
       "      <td>1.000000e+00</td>\n",
       "      <td>1.000000e+00</td>\n",
       "    </tr>\n",
       "    <tr>\n",
       "      <th>min</th>\n",
       "      <td>-1.848237e+00</td>\n",
       "      <td>-4.175202e+00</td>\n",
       "      <td>-8.733971e-01</td>\n",
       "      <td>-1.264253e+00</td>\n",
       "      <td>-1.375717e+00</td>\n",
       "      <td>-1.667450e+00</td>\n",
       "    </tr>\n",
       "    <tr>\n",
       "      <th>25%</th>\n",
       "      <td>-6.585430e-01</td>\n",
       "      <td>-6.345777e-01</td>\n",
       "      <td>-6.748652e-01</td>\n",
       "      <td>-3.148231e-01</td>\n",
       "      <td>-9.568879e-01</td>\n",
       "      <td>-9.268335e-01</td>\n",
       "    </tr>\n",
       "    <tr>\n",
       "      <th>50%</th>\n",
       "      <td>-1.486741e-01</td>\n",
       "      <td>-4.447369e-02</td>\n",
       "      <td>-4.385177e-01</td>\n",
       "      <td>-5.588771e-02</td>\n",
       "      <td>-1.192290e-01</td>\n",
       "      <td>-6.771858e-02</td>\n",
       "    </tr>\n",
       "    <tr>\n",
       "      <th>75%</th>\n",
       "      <td>6.161291e-01</td>\n",
       "      <td>5.456303e-01</td>\n",
       "      <td>1.523511e-01</td>\n",
       "      <td>4.619831e-01</td>\n",
       "      <td>7.184299e-01</td>\n",
       "      <td>4.210880e-01</td>\n",
       "    </tr>\n",
       "    <tr>\n",
       "      <th>max</th>\n",
       "      <td>2.910539e+00</td>\n",
       "      <td>2.315942e+00</td>\n",
       "      <td>2.515826e+00</td>\n",
       "      <td>3.914455e+00</td>\n",
       "      <td>1.765503e+00</td>\n",
       "      <td>1.665323e+00</td>\n",
       "    </tr>\n",
       "  </tbody>\n",
       "</table>\n",
       "</div>"
      ],
      "text/plain": [
       "                Ati            An             q          smag             x  \\\n",
       "count  6.393280e+05  6.393280e+05  6.393280e+05  6.393280e+05  6.393280e+05   \n",
       "mean   1.633424e-12 -4.409594e-14  3.983713e-14 -8.762553e-14  2.687112e-14   \n",
       "std    1.000000e+00  1.000000e+00  1.000000e+00  1.000000e+00  1.000000e+00   \n",
       "min   -1.848237e+00 -4.175202e+00 -8.733971e-01 -1.264253e+00 -1.375717e+00   \n",
       "25%   -6.585430e-01 -6.345777e-01 -6.748652e-01 -3.148231e-01 -9.568879e-01   \n",
       "50%   -1.486741e-01 -4.447369e-02 -4.385177e-01 -5.588771e-02 -1.192290e-01   \n",
       "75%    6.161291e-01  5.456303e-01  1.523511e-01  4.619831e-01  7.184299e-01   \n",
       "max    2.910539e+00  2.315942e+00  2.515826e+00  3.914455e+00  1.765503e+00   \n",
       "\n",
       "              Ti_Te  \n",
       "count  6.393280e+05  \n",
       "mean   5.456717e-14  \n",
       "std    1.000000e+00  \n",
       "min   -1.667450e+00  \n",
       "25%   -9.268335e-01  \n",
       "50%   -6.771858e-02  \n",
       "75%    4.210880e-01  \n",
       "max    1.665323e+00  "
      ]
     },
     "execution_count": 14,
     "metadata": {},
     "output_type": "execute_result"
    }
   ],
   "source": [
    "shuffled_clean_input_df_1.describe(include='all')"
   ]
  },
  {
   "cell_type": "code",
   "execution_count": 15,
   "metadata": {},
   "outputs": [
    {
     "name": "stdout",
     "output_type": "stream",
     "text": [
      "(639328, 6)\n"
     ]
    }
   ],
   "source": [
    "print(shuffled_clean_input_df_1.shape)"
   ]
  },
  {
   "cell_type": "code",
   "execution_count": 16,
   "metadata": {},
   "outputs": [],
   "source": [
    "shuffled_clean_input_df_2 = shuffled_clean_input_df_7D.drop('Ati', axis=1)\n",
    "shuffled_clean_input_df_2 = shuffled_clean_input_df_2.drop('An', axis=1)\n",
    "shuffled_clean_input_df_2 = shuffled_clean_input_df_2.drop('q', axis=1)\n",
    "shuffled_clean_input_df_2 = shuffled_clean_input_df_2.drop('smag', axis=1)\n",
    "shuffled_clean_input_df_2 = shuffled_clean_input_df_2.drop('x', axis=1)\n",
    "shuffled_clean_input_df_2 = shuffled_clean_input_df_2.drop('Ti_Te', axis=1)"
   ]
  },
  {
   "cell_type": "code",
   "execution_count": 17,
   "metadata": {},
   "outputs": [
    {
     "data": {
      "text/html": [
       "<div>\n",
       "<style scoped>\n",
       "    .dataframe tbody tr th:only-of-type {\n",
       "        vertical-align: middle;\n",
       "    }\n",
       "\n",
       "    .dataframe tbody tr th {\n",
       "        vertical-align: top;\n",
       "    }\n",
       "\n",
       "    .dataframe thead th {\n",
       "        text-align: right;\n",
       "    }\n",
       "</style>\n",
       "<table border=\"1\" class=\"dataframe\">\n",
       "  <thead>\n",
       "    <tr style=\"text-align: right;\">\n",
       "      <th></th>\n",
       "      <th>Ate</th>\n",
       "    </tr>\n",
       "  </thead>\n",
       "  <tbody>\n",
       "    <tr>\n",
       "      <th>count</th>\n",
       "      <td>6.393280e+05</td>\n",
       "    </tr>\n",
       "    <tr>\n",
       "      <th>mean</th>\n",
       "      <td>-6.496300e-13</td>\n",
       "    </tr>\n",
       "    <tr>\n",
       "      <th>std</th>\n",
       "      <td>1.000000e+00</td>\n",
       "    </tr>\n",
       "    <tr>\n",
       "      <th>min</th>\n",
       "      <td>-2.151511e+00</td>\n",
       "    </tr>\n",
       "    <tr>\n",
       "      <th>25%</th>\n",
       "      <td>-6.647545e-01</td>\n",
       "    </tr>\n",
       "    <tr>\n",
       "      <th>50%</th>\n",
       "      <td>-1.691691e-01</td>\n",
       "    </tr>\n",
       "    <tr>\n",
       "      <th>75%</th>\n",
       "      <td>4.916113e-01</td>\n",
       "    </tr>\n",
       "    <tr>\n",
       "      <th>max</th>\n",
       "      <td>1.813172e+00</td>\n",
       "    </tr>\n",
       "  </tbody>\n",
       "</table>\n",
       "</div>"
      ],
      "text/plain": [
       "                Ate\n",
       "count  6.393280e+05\n",
       "mean  -6.496300e-13\n",
       "std    1.000000e+00\n",
       "min   -2.151511e+00\n",
       "25%   -6.647545e-01\n",
       "50%   -1.691691e-01\n",
       "75%    4.916113e-01\n",
       "max    1.813172e+00"
      ]
     },
     "execution_count": 17,
     "metadata": {},
     "output_type": "execute_result"
    }
   ],
   "source": [
    "shuffled_clean_input_df_2.describe(include='all')"
   ]
  },
  {
   "cell_type": "code",
   "execution_count": 18,
   "metadata": {},
   "outputs": [
    {
     "name": "stdout",
     "output_type": "stream",
     "text": [
      "(639328, 1)\n"
     ]
    }
   ],
   "source": [
    "print(shuffled_clean_input_df_2.shape)"
   ]
  },
  {
   "cell_type": "code",
   "execution_count": 19,
   "metadata": {},
   "outputs": [],
   "source": [
    "# *************************************************************************** #\n",
    "# Branch 1\n",
    "\n",
    "# Creates training dataset (90% of total data) for inputs\n",
    "x_train_1 = shuffled_clean_input_df_1.iloc[:int(\n",
    "    numpy.round(len(shuffled_clean_input_df_1)*0.9))]\n",
    "\n",
    "# Creates testing dataset (10% of total data) for inputs\n",
    "x_test_1 = shuffled_clean_input_df_1.iloc[int(\n",
    "    numpy.round(len(shuffled_clean_input_df_1)*0.9)):]\n",
    "# *************************************************************************** #"
   ]
  },
  {
   "cell_type": "code",
   "execution_count": 20,
   "metadata": {},
   "outputs": [],
   "source": [
    "# *************************************************************************** #\n",
    "# Branch 2\n",
    "\n",
    "# Creates training dataset (90% of total data) for inputs\n",
    "x_train_2 = shuffled_clean_input_df_2.iloc[:int(\n",
    "    numpy.round(len(shuffled_clean_input_df_2)*0.9))]\n",
    "\n",
    "# Creates testing dataset (10% of total data) for inputs\n",
    "x_test_2 = shuffled_clean_input_df_2.iloc[int(\n",
    "    numpy.round(len(shuffled_clean_input_df_2)*0.9)):]\n",
    "# *************************************************************************** #"
   ]
  },
  {
   "cell_type": "code",
   "execution_count": 21,
   "metadata": {},
   "outputs": [
    {
     "name": "stdout",
     "output_type": "stream",
     "text": [
      "__________________________________________________________________________________________________\n",
      "Layer (type)                    Output Shape         Param #     Connected to                     \n",
      "==================================================================================================\n",
      "input_1 (InputLayer)            (None, 6)            0                                            \n",
      "__________________________________________________________________________________________________\n",
      "input_2 (InputLayer)            (None, 1)            0                                            \n",
      "__________________________________________________________________________________________________\n",
      "dense_1 (Dense)                 (None, 30)           210         input_1[0][0]                    \n",
      "__________________________________________________________________________________________________\n",
      "dense_3 (Dense)                 (None, 1)            2           input_2[0][0]                    \n",
      "__________________________________________________________________________________________________\n",
      "dense_2 (Dense)                 (None, 30)           930         dense_1[0][0]                    \n",
      "__________________________________________________________________________________________________\n",
      "thresholded_re_lu_1 (Thresholde (None, 1)            0           dense_3[0][0]                    \n",
      "__________________________________________________________________________________________________\n",
      "concatenate_1 (Concatenate)     (None, 31)           0           dense_2[0][0]                    \n",
      "                                                                 thresholded_re_lu_1[0][0]        \n",
      "__________________________________________________________________________________________________\n",
      "dense_4 (Dense)                 (None, 1)            32          concatenate_1[0][0]              \n",
      "==================================================================================================\n",
      "Total params: 1,174\n",
      "Trainable params: 1,174\n",
      "Non-trainable params: 0\n",
      "__________________________________________________________________________________________________\n",
      "None\n"
     ]
    }
   ],
   "source": [
    "# branch1\n",
    "visible_branch1 = Input(shape=(6,))\n",
    "hidden1_branch1 = Dense(30,\n",
    "        activation='tanh',\n",
    "        kernel_initializer='glorot_normal',\n",
    "        kernel_regularizer=regularizers.l2(0.00005),\n",
    "        use_bias=True, bias_initializer='glorot_normal')(visible_branch1)\n",
    "hidden2_branch1 = Dense(30,\n",
    "        activation='tanh',\n",
    "        kernel_initializer='glorot_normal',\n",
    "        kernel_regularizer=regularizers.l2(0.00005),\n",
    "        use_bias=True, bias_initializer='glorot_normal')(hidden1_branch1)\n",
    "\n",
    "# branch2 (Ate input)\n",
    "visible_branch2 = Input(shape=(1,))\n",
    "visible_branch2_feeder = Dense(1,\n",
    "                activation='relu')(visible_branch2)\n",
    "#TR = Dense(1, activation='relu')(visible_branch2_feeder)\n",
    "#TR = Dense(1, activation=ThresholdedReLU(theta=0.8))(visible_branch2_feeder)\n",
    "TR = ThresholdedReLU(theta=0.6)(visible_branch2_feeder)\n",
    "\n",
    "# merge input models\n",
    "merge = concatenate([hidden2_branch1, TR])\n",
    "\n",
    "# interpretation model\n",
    "output = Dense(1, activation='linear')(merge)\n",
    "\n",
    "model = Model(inputs=[visible_branch1, visible_branch2], outputs=output)\n",
    "\n",
    "# summarize layers\n",
    "print(model.summary())\n",
    "\n",
    "# plot graph\n",
    "plot_model(model, 'ModelPlots/' + str(file_name) + '_model_plot.png')"
   ]
  },
  {
   "cell_type": "code",
   "execution_count": 22,
   "metadata": {},
   "outputs": [
    {
     "name": "stdout",
     "output_type": "stream",
     "text": [
      "Train on 575395 samples, validate on 63933 samples\n",
      "Epoch 1/100\n",
      " - 94s - loss: 0.2947 - mean_absolute_error: 0.3991 - mean_squared_error: 0.2895 - rmse: 0.5104 - val_loss: 0.3029 - val_mean_absolute_error: 0.4041 - val_mean_squared_error: 0.2967 - val_rmse: 0.4855\n",
      "Epoch 2/100\n",
      " - 94s - loss: 0.2418 - mean_absolute_error: 0.3612 - mean_squared_error: 0.2356 - rmse: 0.4650 - val_loss: 0.2868 - val_mean_absolute_error: 0.3814 - val_mean_squared_error: 0.2804 - val_rmse: 0.4664\n",
      "Epoch 3/100\n",
      " - 91s - loss: 0.2375 - mean_absolute_error: 0.3571 - mean_squared_error: 0.2309 - rmse: 0.4600 - val_loss: 0.2964 - val_mean_absolute_error: 0.4026 - val_mean_squared_error: 0.2895 - val_rmse: 0.4856\n",
      "Epoch 4/100\n",
      " - 85s - loss: 0.2351 - mean_absolute_error: 0.3545 - mean_squared_error: 0.2280 - rmse: 0.4570 - val_loss: 0.2991 - val_mean_absolute_error: 0.4023 - val_mean_squared_error: 0.2917 - val_rmse: 0.4854\n",
      "Epoch 5/100\n",
      " - 90s - loss: 0.2334 - mean_absolute_error: 0.3526 - mean_squared_error: 0.2259 - rmse: 0.4546 - val_loss: 0.2848 - val_mean_absolute_error: 0.3832 - val_mean_squared_error: 0.2771 - val_rmse: 0.4682\n",
      "Epoch 6/100\n",
      " - 94s - loss: 0.2321 - mean_absolute_error: 0.3513 - mean_squared_error: 0.2243 - rmse: 0.4531 - val_loss: 0.2578 - val_mean_absolute_error: 0.3578 - val_mean_squared_error: 0.2499 - val_rmse: 0.4402\n",
      "Epoch 7/100\n",
      " - 94s - loss: 0.2312 - mean_absolute_error: 0.3500 - mean_squared_error: 0.2232 - rmse: 0.4521 - val_loss: 0.2560 - val_mean_absolute_error: 0.3660 - val_mean_squared_error: 0.2479 - val_rmse: 0.4476\n",
      "Epoch 8/100\n",
      " - 87s - loss: 0.2303 - mean_absolute_error: 0.3492 - mean_squared_error: 0.2220 - rmse: 0.4508 - val_loss: 0.2658 - val_mean_absolute_error: 0.3813 - val_mean_squared_error: 0.2575 - val_rmse: 0.4620\n",
      "Epoch 9/100\n",
      " - 86s - loss: 0.2298 - mean_absolute_error: 0.3487 - mean_squared_error: 0.2215 - rmse: 0.4501 - val_loss: 0.2568 - val_mean_absolute_error: 0.3666 - val_mean_squared_error: 0.2484 - val_rmse: 0.4471\n",
      "Epoch 10/100\n",
      " - 90s - loss: 0.2293 - mean_absolute_error: 0.3481 - mean_squared_error: 0.2208 - rmse: 0.4495 - val_loss: 0.2692 - val_mean_absolute_error: 0.3800 - val_mean_squared_error: 0.2606 - val_rmse: 0.4627\n",
      "Epoch 11/100\n",
      " - 90s - loss: 0.2289 - mean_absolute_error: 0.3475 - mean_squared_error: 0.2203 - rmse: 0.4488 - val_loss: 0.2543 - val_mean_absolute_error: 0.3601 - val_mean_squared_error: 0.2456 - val_rmse: 0.4405\n",
      "Epoch 12/100\n",
      " - 85s - loss: 0.2285 - mean_absolute_error: 0.3471 - mean_squared_error: 0.2197 - rmse: 0.4483 - val_loss: 0.2543 - val_mean_absolute_error: 0.3635 - val_mean_squared_error: 0.2455 - val_rmse: 0.4417\n",
      "Epoch 13/100\n",
      " - 90s - loss: 0.2281 - mean_absolute_error: 0.3468 - mean_squared_error: 0.2193 - rmse: 0.4480 - val_loss: 0.2648 - val_mean_absolute_error: 0.3614 - val_mean_squared_error: 0.2559 - val_rmse: 0.4466\n",
      "Epoch 14/100\n",
      " - 92s - loss: 0.2279 - mean_absolute_error: 0.3465 - mean_squared_error: 0.2191 - rmse: 0.4477 - val_loss: 0.2622 - val_mean_absolute_error: 0.3682 - val_mean_squared_error: 0.2534 - val_rmse: 0.4480\n",
      "Epoch 15/100\n",
      " - 93s - loss: 0.2277 - mean_absolute_error: 0.3461 - mean_squared_error: 0.2189 - rmse: 0.4474 - val_loss: 0.2502 - val_mean_absolute_error: 0.3535 - val_mean_squared_error: 0.2413 - val_rmse: 0.4342\n",
      "Epoch 16/100\n",
      " - 87s - loss: 0.2277 - mean_absolute_error: 0.3461 - mean_squared_error: 0.2188 - rmse: 0.4474 - val_loss: 0.2498 - val_mean_absolute_error: 0.3564 - val_mean_squared_error: 0.2409 - val_rmse: 0.4352\n",
      "Epoch 17/100\n",
      " - 87s - loss: 0.2274 - mean_absolute_error: 0.3459 - mean_squared_error: 0.2185 - rmse: 0.4470 - val_loss: 0.2517 - val_mean_absolute_error: 0.3582 - val_mean_squared_error: 0.2427 - val_rmse: 0.4406\n",
      "Epoch 18/100\n",
      " - 95s - loss: 0.2275 - mean_absolute_error: 0.3459 - mean_squared_error: 0.2185 - rmse: 0.4470 - val_loss: 0.2583 - val_mean_absolute_error: 0.3642 - val_mean_squared_error: 0.2493 - val_rmse: 0.4439\n",
      "Epoch 19/100\n",
      " - 90s - loss: 0.2271 - mean_absolute_error: 0.3455 - mean_squared_error: 0.2182 - rmse: 0.4468 - val_loss: 0.2685 - val_mean_absolute_error: 0.3686 - val_mean_squared_error: 0.2596 - val_rmse: 0.4524\n",
      "Epoch 20/100\n",
      " - 86s - loss: 0.2273 - mean_absolute_error: 0.3456 - mean_squared_error: 0.2183 - rmse: 0.4469 - val_loss: 0.2552 - val_mean_absolute_error: 0.3598 - val_mean_squared_error: 0.2463 - val_rmse: 0.4407\n",
      "Epoch 21/100\n",
      " - 90s - loss: 0.2272 - mean_absolute_error: 0.3456 - mean_squared_error: 0.2182 - rmse: 0.4466 - val_loss: 0.2529 - val_mean_absolute_error: 0.3567 - val_mean_squared_error: 0.2439 - val_rmse: 0.4385\n",
      "Epoch 22/100\n",
      " - 94s - loss: 0.2272 - mean_absolute_error: 0.3455 - mean_squared_error: 0.2182 - rmse: 0.4468 - val_loss: 0.2657 - val_mean_absolute_error: 0.3728 - val_mean_squared_error: 0.2567 - val_rmse: 0.4542\n",
      "Epoch 23/100\n",
      " - 92s - loss: 0.2270 - mean_absolute_error: 0.3451 - mean_squared_error: 0.2180 - rmse: 0.4464 - val_loss: 0.2506 - val_mean_absolute_error: 0.3574 - val_mean_squared_error: 0.2416 - val_rmse: 0.4389\n",
      "Epoch 24/100\n",
      " - 85s - loss: 0.2269 - mean_absolute_error: 0.3453 - mean_squared_error: 0.2180 - rmse: 0.4464 - val_loss: 0.2555 - val_mean_absolute_error: 0.3588 - val_mean_squared_error: 0.2465 - val_rmse: 0.4399\n",
      "Epoch 25/100\n",
      " - 89s - loss: 0.2268 - mean_absolute_error: 0.3452 - mean_squared_error: 0.2178 - rmse: 0.4463 - val_loss: 0.2543 - val_mean_absolute_error: 0.3629 - val_mean_squared_error: 0.2452 - val_rmse: 0.4446\n",
      "Epoch 26/100\n",
      " - 94s - loss: 0.2268 - mean_absolute_error: 0.3452 - mean_squared_error: 0.2178 - rmse: 0.4464 - val_loss: 0.2615 - val_mean_absolute_error: 0.3742 - val_mean_squared_error: 0.2525 - val_rmse: 0.4522\n",
      "Epoch 27/100\n",
      " - 93s - loss: 0.2268 - mean_absolute_error: 0.3453 - mean_squared_error: 0.2178 - rmse: 0.4461 - val_loss: 0.2494 - val_mean_absolute_error: 0.3595 - val_mean_squared_error: 0.2404 - val_rmse: 0.4406\n",
      "Epoch 28/100\n",
      " - 89s - loss: 0.2268 - mean_absolute_error: 0.3452 - mean_squared_error: 0.2178 - rmse: 0.4462 - val_loss: 0.2656 - val_mean_absolute_error: 0.3688 - val_mean_squared_error: 0.2566 - val_rmse: 0.4486\n",
      "Epoch 29/100\n",
      " - 91s - loss: 0.2266 - mean_absolute_error: 0.3451 - mean_squared_error: 0.2176 - rmse: 0.4461 - val_loss: 0.2658 - val_mean_absolute_error: 0.3660 - val_mean_squared_error: 0.2568 - val_rmse: 0.4479\n",
      "Epoch 30/100\n",
      " - 94s - loss: 0.2267 - mean_absolute_error: 0.3451 - mean_squared_error: 0.2177 - rmse: 0.4463 - val_loss: 0.2556 - val_mean_absolute_error: 0.3540 - val_mean_squared_error: 0.2466 - val_rmse: 0.4366\n",
      "Test loss: 0.25563215309090886\n",
      "val_mean_absolute_error: 0.3540409461982765\n",
      "score\n",
      "[0.25563215309090886, 0.3540409461982765, 0.2466228448287222, 0.45574306043450025]\n",
      "model.metrics_names\n",
      "['loss', 'mean_absolute_error', 'mean_squared_error', 'rmse']\n"
     ]
    }
   ],
   "source": [
    "model.compile(loss='mean_squared_error',   #categorical_crossentropy\n",
    "              optimizer=Adam(lr=0.001, beta_1=0.9, beta_2=0.999),\n",
    "              metrics=[\"mae\", \"mean_squared_error\", rmse])\n",
    "\n",
    "# Add CallBacks (including TensorBoard)\n",
    "tbCallBack = keras.callbacks.TensorBoard(\n",
    "        log_dir='TensorBoard_logs/' + str(file_name), write_graph = False, write_images=False, write_grads=False)\n",
    "EarlyStoppingCallBack = keras.callbacks.EarlyStopping(\n",
    "        monitor='val_rmse', min_delta=0, patience=15, verbose=0, mode='auto')\n",
    "\n",
    "history = model.fit([x_train_1, x_train_2],\n",
    "                    y = y_train,\n",
    "                    batch_size=batch_size,\n",
    "                    epochs=epochs,\n",
    "                    shuffle=True,\n",
    "                    verbose=2,\n",
    "                    # validation_data=(x_test, y_test),\n",
    "                    validation_data=([x_test_1, x_test_2], y_test),\n",
    "                    callbacks=[tbCallBack, EarlyStoppingCallBack])\n",
    "\n",
    "# score = model.evaluate(x_test, y_test, verbose=0)\n",
    "score = model.evaluate([x_test_1, x_test_2], y_test, verbose=0)\n",
    "\n",
    "print('Test loss:', score[0])\n",
    "print('val_mean_absolute_error:', score[1])\n",
    "\n",
    "print(\"score\")\n",
    "print(score)\n",
    "\n",
    "print(\"model.metrics_names\")\n",
    "print(model.metrics_names)\n",
    "\n",
    "# creates a HDF5 file 'my_model.h5'\n",
    "model.save(\"./Saved-Networks/\" + str(file_name) +\".h5\")\n",
    "\n",
    "# Create output file\n",
    "OutputFile = open(\"./Loss-Values/\" +str(file_name) +\".txt\", \"w+\")\n",
    "OutputFile.write(\"Test loss: \" + str(score[0]) + \"\\n\")\n",
    "OutputFile.write(\"val_mean_absolute_error: \" +str(score[1]) + \"\\n\")\n",
    "OutputFile.write(\"val_mean_squared_error: \" +str(score[2]) + \"\\n\")\n",
    "OutputFile.write(\"RMSE: \" +str(score[3]) + \"\\n\")\n",
    "OutputFile.close()\n",
    "\n",
    "del history\n",
    "del model\n"
   ]
  },
  {
   "cell_type": "code",
   "execution_count": null,
   "metadata": {},
   "outputs": [],
   "source": []
  }
 ],
 "metadata": {
  "kernelspec": {
   "display_name": "Python 3",
   "language": "python",
   "name": "python3"
  },
  "language_info": {
   "codemirror_mode": {
    "name": "ipython",
    "version": 3
   },
   "file_extension": ".py",
   "mimetype": "text/x-python",
   "name": "python",
   "nbconvert_exporter": "python",
   "pygments_lexer": "ipython3",
   "version": "3.6.6"
  }
 },
 "nbformat": 4,
 "nbformat_minor": 2
}
