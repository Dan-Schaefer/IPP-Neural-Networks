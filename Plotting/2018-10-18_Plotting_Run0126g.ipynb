{
 "cells": [
  {
   "cell_type": "markdown",
   "metadata": {},
   "source": [
    "# Plotting dataslices for Run0126g"
   ]
  },
  {
   "cell_type": "markdown",
   "metadata": {},
   "source": [
    "###### Plotting_Run0126g\n",
    "-  Experiment: see if cut-off in Bokeh viewer is possible a Bokeh front-end artefact or not."
   ]
  },
  {
   "cell_type": "code",
   "execution_count": null,
   "metadata": {},
   "outputs": [],
   "source": [
    "# DO NOT RUN THIS PART"
   ]
  },
  {
   "cell_type": "code",
   "execution_count": null,
   "metadata": {},
   "outputs": [],
   "source": [
    "import os\n",
    "import sys\n",
    "import time\n",
    "\n",
    "# Gets the current file name. Useful for procedurally generating output/log files.\n",
    "file_name =  os.path.basename(sys.argv[0][:-3])\n",
    "print(file_name)\n",
    "\n",
    "if file_name == \"ipykernel_launcher\":\n",
    "    print(\"This is the Jupyter version.\")\n",
    "    print(\"Now MANUALLY run the next two cells!\")\n",
    "    print(\"STOP! This should not be in your code!!\")\n",
    "    exit(0)\n",
    "    time.sleep(10)\n",
    "    print(\"Testing if script has really stopped.\")\n",
    "else:\n",
    "    print(\"This is the Atom version\")"
   ]
  },
  {
   "cell_type": "code",
   "execution_count": 1,
   "metadata": {},
   "outputs": [],
   "source": [
    "# RUN ONLY IN JUPYTER!!\n",
    "# Start here (manual)"
   ]
  },
  {
   "cell_type": "code",
   "execution_count": 2,
   "metadata": {},
   "outputs": [
    {
     "data": {
      "application/javascript": [
       "IPython.notebook.kernel.execute('file_name = \"' + IPython.notebook.notebook_name + '\"');\n"
      ],
      "text/plain": [
       "<IPython.core.display.Javascript object>"
      ]
     },
     "metadata": {},
     "output_type": "display_data"
    }
   ],
   "source": [
    "%%javascript\n",
    "IPython.notebook.kernel.execute('file_name = \"' + IPython.notebook.notebook_name + '\"');"
   ]
  },
  {
   "cell_type": "code",
   "execution_count": 3,
   "metadata": {},
   "outputs": [
    {
     "name": "stdout",
     "output_type": "stream",
     "text": [
      "2018-10-18_Plotting_Run0126g.ipynb\n"
     ]
    }
   ],
   "source": [
    "print(file_name)"
   ]
  },
  {
   "cell_type": "code",
   "execution_count": 4,
   "metadata": {},
   "outputs": [
    {
     "name": "stdout",
     "output_type": "stream",
     "text": [
      "2018-10-18_Plotting_Run0126g\n",
      "True\n"
     ]
    }
   ],
   "source": [
    "file_name = file_name[:-6]\n",
    "print(file_name)\n",
    "\n",
    "is_Jupyter = True\n",
    "print(is_Jupyter)"
   ]
  },
  {
   "cell_type": "code",
   "execution_count": null,
   "metadata": {},
   "outputs": [],
   "source": []
  },
  {
   "cell_type": "code",
   "execution_count": 5,
   "metadata": {},
   "outputs": [],
   "source": [
    "# Same code for both ATOM & JUPYTER from now (Run all cells below now)"
   ]
  },
  {
   "cell_type": "code",
   "execution_count": 6,
   "metadata": {},
   "outputs": [
    {
     "name": "stderr",
     "output_type": "stream",
     "text": [
      "Using TensorFlow backend.\n"
     ]
    }
   ],
   "source": [
    "'''\n",
    "Late Fusion Module - Functional API\n",
    "'''\n",
    "\n",
    "# Multiple Inputs\n",
    "import keras\n",
    "from keras.optimizers import RMSprop, adam, Adam\n",
    "from keras.initializers import TruncatedNormal, glorot_normal\n",
    "from keras.utils import plot_model\n",
    "from keras.models import Model\n",
    "from keras.layers import Input\n",
    "from keras.layers import Dense\n",
    "from keras.layers.merge import concatenate\n",
    "from keras import regularizers\n",
    "from keras import backend as K\n",
    "from keras.backend import switch\n",
    "import pandas\n",
    "import numpy\n",
    "import sys\n",
    "import os\n",
    "from copy import deepcopy\n",
    "import tensorflow as tf\n",
    "from keras.utils.generic_utils import get_custom_objects\n",
    "from keras.layers.advanced_activations import ThresholdedReLU\n",
    "\n",
    "keras.backend.clear_session()"
   ]
  },
  {
   "cell_type": "code",
   "execution_count": 7,
   "metadata": {},
   "outputs": [],
   "source": [
    "# Define new Metric: rmse = Root Mean Square Error\n",
    "def rmse(y_true, y_pred):\n",
    "    return K.sqrt(K.mean(K.square( y_true-y_pred )))"
   ]
  },
  {
   "cell_type": "code",
   "execution_count": null,
   "metadata": {},
   "outputs": [],
   "source": []
  },
  {
   "cell_type": "code",
   "execution_count": 8,
   "metadata": {},
   "outputs": [],
   "source": [
    "# Modify for ATOM use"
   ]
  },
  {
   "cell_type": "code",
   "execution_count": 9,
   "metadata": {},
   "outputs": [],
   "source": [
    "if is_Jupyter == True:\n",
    "    pass\n",
    "else:\n",
    "    # Gets the current file name. Useful for procedurally generating output/log files.\n",
    "    file_name =  os.path.basename(sys.argv[0][:-3])"
   ]
  },
  {
   "cell_type": "code",
   "execution_count": null,
   "metadata": {},
   "outputs": [],
   "source": []
  },
  {
   "cell_type": "code",
   "execution_count": 10,
   "metadata": {},
   "outputs": [],
   "source": [
    "# Define neural network parameters\n",
    "batch_size = 10\n",
    "#num_classes = 1\n",
    "epochs = 100"
   ]
  },
  {
   "cell_type": "code",
   "execution_count": 11,
   "metadata": {},
   "outputs": [],
   "source": [
    "# Load Data (which is in HDF5 or .h5 format)\n",
    "store = pandas.HDFStore(\"../unstable_training_gen3_7D_nions0_flat_filter8.h5\")\n",
    "target_df = store['/output/efeETG_GB'].to_frame()  # This one is relatively easy to train\n",
    "input_df = store['input']\n",
    "\n",
    "# Puts inputs and outputs in the same pandas dataframe.\n",
    "# Also only keeps overlapping entries.\n",
    "joined_dataFrame = target_df.join(input_df)\n",
    "\n",
    "# Make a copy of joined_dataFrame for later use\n",
    "joined_dataFrame_original = deepcopy(joined_dataFrame)\n",
    "\n",
    "\n",
    "# *************************************************************************** #\n",
    "# Normalize data by standard deviation and mean-centering the data\n",
    "# Standard configuration\n",
    "joined_dataFrame['efeETG_GB'] = (joined_dataFrame['efeETG_GB'] - joined_dataFrame['efeETG_GB'].mean()) / joined_dataFrame['efeETG_GB'].std()\n",
    "joined_dataFrame['Ati'] = (joined_dataFrame['Ati'] - joined_dataFrame['Ati'].mean()) / joined_dataFrame['Ati'].std()\n",
    "joined_dataFrame['Ate'] = (joined_dataFrame['Ate'] - joined_dataFrame['Ate'].mean()) / joined_dataFrame['Ate'].std()\n",
    "joined_dataFrame['An'] = (joined_dataFrame['An'] - joined_dataFrame['An'].mean()) / joined_dataFrame['An'].std()\n",
    "joined_dataFrame['q'] = (joined_dataFrame['q'] - joined_dataFrame['q'].mean()) / joined_dataFrame['q'].std()\n",
    "joined_dataFrame['smag'] = (joined_dataFrame['smag'] - joined_dataFrame['smag'].mean()) / joined_dataFrame['smag'].std()\n",
    "joined_dataFrame['x'] = (joined_dataFrame['x'] - joined_dataFrame['x'].mean()) / joined_dataFrame['x'].std()\n",
    "joined_dataFrame['Ti_Te'] = (joined_dataFrame['Ti_Te'] - joined_dataFrame['Ti_Te'].mean()) / joined_dataFrame['Ti_Te'].std()\n",
    "\n",
    "# Shuffles dataset\n",
    "shuffled_joined_dataFrame = joined_dataFrame.reindex(numpy.random.permutation(\n",
    "                                                joined_dataFrame.index))\n",
    "\n",
    "# Creates a pandas dataframe for the outputs\n",
    "shuffled_clean_output_df = shuffled_joined_dataFrame['efeETG_GB']\n",
    "\n",
    "# Make a copy of shuffled_joined_dataFrame for later use\n",
    "shuffled_joined_dataFrame_base = deepcopy(shuffled_joined_dataFrame)\n",
    "\n",
    "\n",
    "\n",
    "# *************************************************************************** #\n",
    "# Creates a pandas dataframe for the inputs (7D)\n",
    "shuffled_clean_input_df_7D = shuffled_joined_dataFrame.drop('efeETG_GB', axis=1)\n",
    "\n",
    "# Creates training dataset (90% of total data) for outputs\n",
    "y_train = shuffled_clean_output_df.iloc[:int(\n",
    "    numpy.round(len(shuffled_clean_output_df)*0.9))]\n",
    "\n",
    "# Creates training dataset (90% of total data) for inputs\n",
    "x_train = shuffled_clean_input_df_7D.iloc[:int(\n",
    "    numpy.round(len(shuffled_clean_input_df_7D)*0.9))]\n",
    "\n",
    "# Creates testing dataset (10% of total data) for outputs\n",
    "y_test = shuffled_clean_output_df.iloc[int(\n",
    "    numpy.round(len(shuffled_clean_output_df)*0.9)):]\n",
    "\n",
    "# Creates testing dataset (10% of total data) for inputs\n",
    "x_test = shuffled_clean_input_df_7D.iloc[int(\n",
    "    numpy.round(len(shuffled_clean_input_df_7D)*0.9)):]\n",
    "# *************************************************************************** #\n",
    "\n",
    "\n",
    "# Deletes pandas dataframes that are no longer needed\n",
    "del target_df, input_df\n",
    "\n",
    "# Closes the HDFStore. This is good practice.\n",
    "store.close()\n"
   ]
  },
  {
   "cell_type": "code",
   "execution_count": 12,
   "metadata": {},
   "outputs": [
    {
     "data": {
      "text/html": [
       "<div>\n",
       "<style scoped>\n",
       "    .dataframe tbody tr th:only-of-type {\n",
       "        vertical-align: middle;\n",
       "    }\n",
       "\n",
       "    .dataframe tbody tr th {\n",
       "        vertical-align: top;\n",
       "    }\n",
       "\n",
       "    .dataframe thead th {\n",
       "        text-align: right;\n",
       "    }\n",
       "</style>\n",
       "<table border=\"1\" class=\"dataframe\">\n",
       "  <thead>\n",
       "    <tr style=\"text-align: right;\">\n",
       "      <th></th>\n",
       "      <th>Ati</th>\n",
       "      <th>Ate</th>\n",
       "      <th>An</th>\n",
       "      <th>q</th>\n",
       "      <th>smag</th>\n",
       "      <th>x</th>\n",
       "      <th>Ti_Te</th>\n",
       "    </tr>\n",
       "  </thead>\n",
       "  <tbody>\n",
       "    <tr>\n",
       "      <th>count</th>\n",
       "      <td>6.393280e+05</td>\n",
       "      <td>6.393280e+05</td>\n",
       "      <td>6.393280e+05</td>\n",
       "      <td>6.393280e+05</td>\n",
       "      <td>6.393280e+05</td>\n",
       "      <td>6.393280e+05</td>\n",
       "      <td>6.393280e+05</td>\n",
       "    </tr>\n",
       "    <tr>\n",
       "      <th>mean</th>\n",
       "      <td>1.633424e-12</td>\n",
       "      <td>-6.496300e-13</td>\n",
       "      <td>-4.409594e-14</td>\n",
       "      <td>3.983713e-14</td>\n",
       "      <td>-8.762553e-14</td>\n",
       "      <td>2.687112e-14</td>\n",
       "      <td>5.456717e-14</td>\n",
       "    </tr>\n",
       "    <tr>\n",
       "      <th>std</th>\n",
       "      <td>1.000000e+00</td>\n",
       "      <td>1.000000e+00</td>\n",
       "      <td>1.000000e+00</td>\n",
       "      <td>1.000000e+00</td>\n",
       "      <td>1.000000e+00</td>\n",
       "      <td>1.000000e+00</td>\n",
       "      <td>1.000000e+00</td>\n",
       "    </tr>\n",
       "    <tr>\n",
       "      <th>min</th>\n",
       "      <td>-1.848237e+00</td>\n",
       "      <td>-2.151511e+00</td>\n",
       "      <td>-4.175202e+00</td>\n",
       "      <td>-8.733971e-01</td>\n",
       "      <td>-1.264253e+00</td>\n",
       "      <td>-1.375717e+00</td>\n",
       "      <td>-1.667450e+00</td>\n",
       "    </tr>\n",
       "    <tr>\n",
       "      <th>25%</th>\n",
       "      <td>-6.585430e-01</td>\n",
       "      <td>-6.647545e-01</td>\n",
       "      <td>-6.345777e-01</td>\n",
       "      <td>-6.748652e-01</td>\n",
       "      <td>-3.148231e-01</td>\n",
       "      <td>-9.568879e-01</td>\n",
       "      <td>-9.268335e-01</td>\n",
       "    </tr>\n",
       "    <tr>\n",
       "      <th>50%</th>\n",
       "      <td>-1.486741e-01</td>\n",
       "      <td>-1.691691e-01</td>\n",
       "      <td>-4.447369e-02</td>\n",
       "      <td>-4.385177e-01</td>\n",
       "      <td>-5.588771e-02</td>\n",
       "      <td>-1.192290e-01</td>\n",
       "      <td>-6.771858e-02</td>\n",
       "    </tr>\n",
       "    <tr>\n",
       "      <th>75%</th>\n",
       "      <td>6.161291e-01</td>\n",
       "      <td>4.916113e-01</td>\n",
       "      <td>5.456303e-01</td>\n",
       "      <td>1.523511e-01</td>\n",
       "      <td>4.619831e-01</td>\n",
       "      <td>7.184299e-01</td>\n",
       "      <td>4.210880e-01</td>\n",
       "    </tr>\n",
       "    <tr>\n",
       "      <th>max</th>\n",
       "      <td>2.910539e+00</td>\n",
       "      <td>1.813172e+00</td>\n",
       "      <td>2.315942e+00</td>\n",
       "      <td>2.515826e+00</td>\n",
       "      <td>3.914455e+00</td>\n",
       "      <td>1.765503e+00</td>\n",
       "      <td>1.665323e+00</td>\n",
       "    </tr>\n",
       "  </tbody>\n",
       "</table>\n",
       "</div>"
      ],
      "text/plain": [
       "                Ati           Ate            An             q          smag  \\\n",
       "count  6.393280e+05  6.393280e+05  6.393280e+05  6.393280e+05  6.393280e+05   \n",
       "mean   1.633424e-12 -6.496300e-13 -4.409594e-14  3.983713e-14 -8.762553e-14   \n",
       "std    1.000000e+00  1.000000e+00  1.000000e+00  1.000000e+00  1.000000e+00   \n",
       "min   -1.848237e+00 -2.151511e+00 -4.175202e+00 -8.733971e-01 -1.264253e+00   \n",
       "25%   -6.585430e-01 -6.647545e-01 -6.345777e-01 -6.748652e-01 -3.148231e-01   \n",
       "50%   -1.486741e-01 -1.691691e-01 -4.447369e-02 -4.385177e-01 -5.588771e-02   \n",
       "75%    6.161291e-01  4.916113e-01  5.456303e-01  1.523511e-01  4.619831e-01   \n",
       "max    2.910539e+00  1.813172e+00  2.315942e+00  2.515826e+00  3.914455e+00   \n",
       "\n",
       "                  x         Ti_Te  \n",
       "count  6.393280e+05  6.393280e+05  \n",
       "mean   2.687112e-14  5.456717e-14  \n",
       "std    1.000000e+00  1.000000e+00  \n",
       "min   -1.375717e+00 -1.667450e+00  \n",
       "25%   -9.568879e-01 -9.268335e-01  \n",
       "50%   -1.192290e-01 -6.771858e-02  \n",
       "75%    7.184299e-01  4.210880e-01  \n",
       "max    1.765503e+00  1.665323e+00  "
      ]
     },
     "execution_count": 12,
     "metadata": {},
     "output_type": "execute_result"
    }
   ],
   "source": [
    "shuffled_clean_input_df_7D.describe(include='all')"
   ]
  },
  {
   "cell_type": "code",
   "execution_count": 13,
   "metadata": {},
   "outputs": [],
   "source": [
    "# Creates a pandas dataframe for the inputs\n",
    "shuffled_clean_input_df_1 = shuffled_clean_input_df_7D.drop('Ate', axis=1)"
   ]
  },
  {
   "cell_type": "code",
   "execution_count": 14,
   "metadata": {},
   "outputs": [
    {
     "data": {
      "text/html": [
       "<div>\n",
       "<style scoped>\n",
       "    .dataframe tbody tr th:only-of-type {\n",
       "        vertical-align: middle;\n",
       "    }\n",
       "\n",
       "    .dataframe tbody tr th {\n",
       "        vertical-align: top;\n",
       "    }\n",
       "\n",
       "    .dataframe thead th {\n",
       "        text-align: right;\n",
       "    }\n",
       "</style>\n",
       "<table border=\"1\" class=\"dataframe\">\n",
       "  <thead>\n",
       "    <tr style=\"text-align: right;\">\n",
       "      <th></th>\n",
       "      <th>Ati</th>\n",
       "      <th>An</th>\n",
       "      <th>q</th>\n",
       "      <th>smag</th>\n",
       "      <th>x</th>\n",
       "      <th>Ti_Te</th>\n",
       "    </tr>\n",
       "  </thead>\n",
       "  <tbody>\n",
       "    <tr>\n",
       "      <th>count</th>\n",
       "      <td>6.393280e+05</td>\n",
       "      <td>6.393280e+05</td>\n",
       "      <td>6.393280e+05</td>\n",
       "      <td>6.393280e+05</td>\n",
       "      <td>6.393280e+05</td>\n",
       "      <td>6.393280e+05</td>\n",
       "    </tr>\n",
       "    <tr>\n",
       "      <th>mean</th>\n",
       "      <td>1.633424e-12</td>\n",
       "      <td>-4.409594e-14</td>\n",
       "      <td>3.983713e-14</td>\n",
       "      <td>-8.762553e-14</td>\n",
       "      <td>2.687112e-14</td>\n",
       "      <td>5.456717e-14</td>\n",
       "    </tr>\n",
       "    <tr>\n",
       "      <th>std</th>\n",
       "      <td>1.000000e+00</td>\n",
       "      <td>1.000000e+00</td>\n",
       "      <td>1.000000e+00</td>\n",
       "      <td>1.000000e+00</td>\n",
       "      <td>1.000000e+00</td>\n",
       "      <td>1.000000e+00</td>\n",
       "    </tr>\n",
       "    <tr>\n",
       "      <th>min</th>\n",
       "      <td>-1.848237e+00</td>\n",
       "      <td>-4.175202e+00</td>\n",
       "      <td>-8.733971e-01</td>\n",
       "      <td>-1.264253e+00</td>\n",
       "      <td>-1.375717e+00</td>\n",
       "      <td>-1.667450e+00</td>\n",
       "    </tr>\n",
       "    <tr>\n",
       "      <th>25%</th>\n",
       "      <td>-6.585430e-01</td>\n",
       "      <td>-6.345777e-01</td>\n",
       "      <td>-6.748652e-01</td>\n",
       "      <td>-3.148231e-01</td>\n",
       "      <td>-9.568879e-01</td>\n",
       "      <td>-9.268335e-01</td>\n",
       "    </tr>\n",
       "    <tr>\n",
       "      <th>50%</th>\n",
       "      <td>-1.486741e-01</td>\n",
       "      <td>-4.447369e-02</td>\n",
       "      <td>-4.385177e-01</td>\n",
       "      <td>-5.588771e-02</td>\n",
       "      <td>-1.192290e-01</td>\n",
       "      <td>-6.771858e-02</td>\n",
       "    </tr>\n",
       "    <tr>\n",
       "      <th>75%</th>\n",
       "      <td>6.161291e-01</td>\n",
       "      <td>5.456303e-01</td>\n",
       "      <td>1.523511e-01</td>\n",
       "      <td>4.619831e-01</td>\n",
       "      <td>7.184299e-01</td>\n",
       "      <td>4.210880e-01</td>\n",
       "    </tr>\n",
       "    <tr>\n",
       "      <th>max</th>\n",
       "      <td>2.910539e+00</td>\n",
       "      <td>2.315942e+00</td>\n",
       "      <td>2.515826e+00</td>\n",
       "      <td>3.914455e+00</td>\n",
       "      <td>1.765503e+00</td>\n",
       "      <td>1.665323e+00</td>\n",
       "    </tr>\n",
       "  </tbody>\n",
       "</table>\n",
       "</div>"
      ],
      "text/plain": [
       "                Ati            An             q          smag             x  \\\n",
       "count  6.393280e+05  6.393280e+05  6.393280e+05  6.393280e+05  6.393280e+05   \n",
       "mean   1.633424e-12 -4.409594e-14  3.983713e-14 -8.762553e-14  2.687112e-14   \n",
       "std    1.000000e+00  1.000000e+00  1.000000e+00  1.000000e+00  1.000000e+00   \n",
       "min   -1.848237e+00 -4.175202e+00 -8.733971e-01 -1.264253e+00 -1.375717e+00   \n",
       "25%   -6.585430e-01 -6.345777e-01 -6.748652e-01 -3.148231e-01 -9.568879e-01   \n",
       "50%   -1.486741e-01 -4.447369e-02 -4.385177e-01 -5.588771e-02 -1.192290e-01   \n",
       "75%    6.161291e-01  5.456303e-01  1.523511e-01  4.619831e-01  7.184299e-01   \n",
       "max    2.910539e+00  2.315942e+00  2.515826e+00  3.914455e+00  1.765503e+00   \n",
       "\n",
       "              Ti_Te  \n",
       "count  6.393280e+05  \n",
       "mean   5.456717e-14  \n",
       "std    1.000000e+00  \n",
       "min   -1.667450e+00  \n",
       "25%   -9.268335e-01  \n",
       "50%   -6.771858e-02  \n",
       "75%    4.210880e-01  \n",
       "max    1.665323e+00  "
      ]
     },
     "execution_count": 14,
     "metadata": {},
     "output_type": "execute_result"
    }
   ],
   "source": [
    "shuffled_clean_input_df_1.describe(include='all')"
   ]
  },
  {
   "cell_type": "code",
   "execution_count": 15,
   "metadata": {},
   "outputs": [
    {
     "name": "stdout",
     "output_type": "stream",
     "text": [
      "(639328, 6)\n"
     ]
    }
   ],
   "source": [
    "print(shuffled_clean_input_df_1.shape)"
   ]
  },
  {
   "cell_type": "code",
   "execution_count": 16,
   "metadata": {},
   "outputs": [],
   "source": [
    "shuffled_clean_input_df_2 = shuffled_clean_input_df_7D.drop('Ati', axis=1)\n",
    "shuffled_clean_input_df_2 = shuffled_clean_input_df_2.drop('An', axis=1)\n",
    "shuffled_clean_input_df_2 = shuffled_clean_input_df_2.drop('q', axis=1)\n",
    "shuffled_clean_input_df_2 = shuffled_clean_input_df_2.drop('smag', axis=1)\n",
    "shuffled_clean_input_df_2 = shuffled_clean_input_df_2.drop('x', axis=1)\n",
    "shuffled_clean_input_df_2 = shuffled_clean_input_df_2.drop('Ti_Te', axis=1)"
   ]
  },
  {
   "cell_type": "code",
   "execution_count": 17,
   "metadata": {},
   "outputs": [
    {
     "data": {
      "text/html": [
       "<div>\n",
       "<style scoped>\n",
       "    .dataframe tbody tr th:only-of-type {\n",
       "        vertical-align: middle;\n",
       "    }\n",
       "\n",
       "    .dataframe tbody tr th {\n",
       "        vertical-align: top;\n",
       "    }\n",
       "\n",
       "    .dataframe thead th {\n",
       "        text-align: right;\n",
       "    }\n",
       "</style>\n",
       "<table border=\"1\" class=\"dataframe\">\n",
       "  <thead>\n",
       "    <tr style=\"text-align: right;\">\n",
       "      <th></th>\n",
       "      <th>Ate</th>\n",
       "    </tr>\n",
       "  </thead>\n",
       "  <tbody>\n",
       "    <tr>\n",
       "      <th>count</th>\n",
       "      <td>6.393280e+05</td>\n",
       "    </tr>\n",
       "    <tr>\n",
       "      <th>mean</th>\n",
       "      <td>-6.496300e-13</td>\n",
       "    </tr>\n",
       "    <tr>\n",
       "      <th>std</th>\n",
       "      <td>1.000000e+00</td>\n",
       "    </tr>\n",
       "    <tr>\n",
       "      <th>min</th>\n",
       "      <td>-2.151511e+00</td>\n",
       "    </tr>\n",
       "    <tr>\n",
       "      <th>25%</th>\n",
       "      <td>-6.647545e-01</td>\n",
       "    </tr>\n",
       "    <tr>\n",
       "      <th>50%</th>\n",
       "      <td>-1.691691e-01</td>\n",
       "    </tr>\n",
       "    <tr>\n",
       "      <th>75%</th>\n",
       "      <td>4.916113e-01</td>\n",
       "    </tr>\n",
       "    <tr>\n",
       "      <th>max</th>\n",
       "      <td>1.813172e+00</td>\n",
       "    </tr>\n",
       "  </tbody>\n",
       "</table>\n",
       "</div>"
      ],
      "text/plain": [
       "                Ate\n",
       "count  6.393280e+05\n",
       "mean  -6.496300e-13\n",
       "std    1.000000e+00\n",
       "min   -2.151511e+00\n",
       "25%   -6.647545e-01\n",
       "50%   -1.691691e-01\n",
       "75%    4.916113e-01\n",
       "max    1.813172e+00"
      ]
     },
     "execution_count": 17,
     "metadata": {},
     "output_type": "execute_result"
    }
   ],
   "source": [
    "shuffled_clean_input_df_2.describe(include='all')"
   ]
  },
  {
   "cell_type": "code",
   "execution_count": 18,
   "metadata": {},
   "outputs": [
    {
     "name": "stdout",
     "output_type": "stream",
     "text": [
      "(639328, 1)\n"
     ]
    }
   ],
   "source": [
    "print(shuffled_clean_input_df_2.shape)"
   ]
  },
  {
   "cell_type": "code",
   "execution_count": 19,
   "metadata": {},
   "outputs": [],
   "source": [
    "# *************************************************************************** #\n",
    "# Branch 1\n",
    "\n",
    "# Creates training dataset (90% of total data) for inputs\n",
    "x_train_1 = shuffled_clean_input_df_1.iloc[:int(\n",
    "    numpy.round(len(shuffled_clean_input_df_1)*0.9))]\n",
    "\n",
    "# Creates testing dataset (10% of total data) for inputs\n",
    "x_test_1 = shuffled_clean_input_df_1.iloc[int(\n",
    "    numpy.round(len(shuffled_clean_input_df_1)*0.9)):]\n",
    "# *************************************************************************** #"
   ]
  },
  {
   "cell_type": "code",
   "execution_count": 20,
   "metadata": {},
   "outputs": [],
   "source": [
    "# *************************************************************************** #\n",
    "# Branch 2\n",
    "\n",
    "# Creates training dataset (90% of total data) for inputs\n",
    "x_train_2 = shuffled_clean_input_df_2.iloc[:int(\n",
    "    numpy.round(len(shuffled_clean_input_df_2)*0.9))]\n",
    "\n",
    "# Creates testing dataset (10% of total data) for inputs\n",
    "x_test_2 = shuffled_clean_input_df_2.iloc[int(\n",
    "    numpy.round(len(shuffled_clean_input_df_2)*0.9)):]\n",
    "# *************************************************************************** #"
   ]
  },
  {
   "cell_type": "markdown",
   "metadata": {},
   "source": [
    "# Load Model"
   ]
  },
  {
   "cell_type": "code",
   "execution_count": 21,
   "metadata": {},
   "outputs": [],
   "source": [
    "from keras.models import load_model"
   ]
  },
  {
   "cell_type": "code",
   "execution_count": 22,
   "metadata": {},
   "outputs": [],
   "source": [
    "new_model = load_model('../Saved-Networks/2018-10-18_Run0126g.h5', custom_objects={'rmse': rmse})"
   ]
  },
  {
   "cell_type": "markdown",
   "metadata": {},
   "source": [
    "#### Model information"
   ]
  },
  {
   "cell_type": "code",
   "execution_count": 23,
   "metadata": {},
   "outputs": [
    {
     "name": "stdout",
     "output_type": "stream",
     "text": [
      "__________________________________________________________________________________________________\n",
      "Layer (type)                    Output Shape         Param #     Connected to                     \n",
      "==================================================================================================\n",
      "input_1 (InputLayer)            (None, 6)            0                                            \n",
      "__________________________________________________________________________________________________\n",
      "dense_1 (Dense)                 (None, 30)           210         input_1[0][0]                    \n",
      "__________________________________________________________________________________________________\n",
      "dense_2 (Dense)                 (None, 30)           930         dense_1[0][0]                    \n",
      "__________________________________________________________________________________________________\n",
      "dense_3 (Dense)                 (None, 1)            31          dense_2[0][0]                    \n",
      "__________________________________________________________________________________________________\n",
      "input_2 (InputLayer)            (None, 1)            0                                            \n",
      "__________________________________________________________________________________________________\n",
      "dense_4 (Dense)                 (None, 1)            2           dense_3[0][0]                    \n",
      "__________________________________________________________________________________________________\n",
      "dense_5 (Dense)                 (None, 1)            2           input_2[0][0]                    \n",
      "__________________________________________________________________________________________________\n",
      "add_1 (Add)                     (None, 1)            0           dense_4[0][0]                    \n",
      "                                                                 dense_5[0][0]                    \n",
      "__________________________________________________________________________________________________\n",
      "dense_6 (Dense)                 (None, 1)            2           add_1[0][0]                      \n",
      "__________________________________________________________________________________________________\n",
      "dense_7 (Dense)                 (None, 1)            2           dense_6[0][0]                    \n",
      "==================================================================================================\n",
      "Total params: 1,179\n",
      "Trainable params: 1,173\n",
      "Non-trainable params: 6\n",
      "__________________________________________________________________________________________________\n"
     ]
    }
   ],
   "source": [
    "new_model.summary()"
   ]
  },
  {
   "cell_type": "code",
   "execution_count": 24,
   "metadata": {},
   "outputs": [
    {
     "data": {
      "text/plain": [
       "[array([[ 2.23780155e-01,  1.18534327e-01,  3.15492541e-01,\n",
       "         -2.88944691e-01,  1.58605248e-01, -1.66145504e-01,\n",
       "          7.82648399e-02, -4.92131989e-03,  8.35425854e-02,\n",
       "         -6.33136928e-03, -1.56355593e-02,  1.63096070e-01,\n",
       "          2.17151478e-01,  8.97295475e-02,  1.01835795e-01,\n",
       "         -8.15368518e-02, -2.72553027e-01, -1.27302900e-01,\n",
       "          5.94060794e-02,  1.48944318e-01,  4.55785356e-02,\n",
       "         -8.61439407e-02, -8.98850337e-02, -1.35483705e-02,\n",
       "         -5.64942462e-03, -6.89428300e-02,  1.81734875e-01,\n",
       "         -6.03670254e-02, -5.98080993e-01,  9.44872759e-03],\n",
       "        [ 8.84777680e-02, -1.27527320e+00, -1.10800028e+00,\n",
       "         -4.26018685e-01,  4.98568118e-01, -2.90183406e-02,\n",
       "         -1.26930043e-01,  1.80361862e-03,  6.69333413e-02,\n",
       "         -5.48220016e-02,  1.52280107e-01,  9.00219679e-01,\n",
       "          9.15664658e-02, -4.30337600e-02, -1.07582003e-01,\n",
       "         -6.16068721e-01, -1.09066904e+00,  1.52502382e+00,\n",
       "          1.05583417e+00, -2.20264271e-02, -3.25915188e-01,\n",
       "         -1.28805745e+00,  1.97526049e-02, -2.93484062e-01,\n",
       "          1.06696854e-03,  4.03539896e-01, -8.07097077e-01,\n",
       "         -9.98204529e-01,  3.34747992e-02, -4.08622414e-01],\n",
       "        [ 3.69646102e-01,  2.31263787e-01, -5.29422015e-02,\n",
       "         -2.72561580e-01,  2.89639533e-02,  9.23391581e-02,\n",
       "         -2.04836488e+00, -7.15600979e-03,  2.64623780e-02,\n",
       "         -3.29239178e+00,  4.77248728e-02, -6.98111504e-02,\n",
       "         -9.31699276e-02, -4.34237570e-02,  3.35114360e-01,\n",
       "         -4.24836613e-02, -1.26993254e-01, -2.79411197e-01,\n",
       "         -5.71139641e-02, -1.01436719e-01, -5.48030317e-01,\n",
       "         -2.58984119e-02, -7.13655651e-01, -5.16810315e-03,\n",
       "         -8.68979748e-03,  9.66416955e-01,  1.44350857e-01,\n",
       "          1.37707382e-01,  2.49288335e-01,  9.93200839e-01],\n",
       "        [-5.73347092e-01,  4.08156216e-02, -8.19066584e-01,\n",
       "         -1.99778005e-01, -6.95944667e-01, -1.61720902e-01,\n",
       "         -2.46771321e-01,  3.96380574e-03, -2.87241864e+00,\n",
       "         -3.47552560e-02, -1.99776769e+00, -2.71341205e-01,\n",
       "          2.64324576e-01,  2.03162909e+00, -3.37725252e-01,\n",
       "         -1.61320269e+00, -4.22331929e-01, -1.68928516e+00,\n",
       "         -8.01617026e-01, -9.48325932e-01,  1.29996490e+00,\n",
       "          3.21966290e-01,  4.69566882e-01, -1.56662428e+00,\n",
       "          4.01439285e-03, -7.86128819e-01, -8.36544156e-01,\n",
       "          1.58502027e-01, -2.12630957e-01,  8.13246846e-01],\n",
       "        [-5.64416908e-02, -3.66867363e-01,  2.54061744e-02,\n",
       "         -2.83483773e-01, -3.09157908e-01,  5.68544678e-02,\n",
       "          2.60901332e-01,  5.08680753e-03, -4.05818373e-02,\n",
       "         -1.52002707e-01, -5.20086773e-02, -6.95834517e-01,\n",
       "          2.58883655e-01,  5.11143684e-01, -1.25101995e+00,\n",
       "         -2.54568547e-01,  3.28443170e-01,  1.61295593e-01,\n",
       "          8.40107277e-02,  2.93033451e-01, -4.15889472e-01,\n",
       "         -2.71747768e-01, -2.28819221e-01,  6.71838045e-01,\n",
       "          5.45659708e-03,  4.41101521e-01,  6.09655201e-01,\n",
       "          1.72586277e-01,  2.27577001e-01, -2.42483720e-01],\n",
       "        [ 7.88114071e-01, -4.99524713e-01,  2.62113154e-01,\n",
       "          9.37616944e-01,  2.14977622e-01, -1.71658659e+00,\n",
       "         -1.42922416e-01,  6.12506922e-03,  2.05853790e-01,\n",
       "          1.34664744e-01, -4.33206707e-01, -6.49786294e-01,\n",
       "         -1.36474121e+00,  2.48426139e-01,  1.12593949e-01,\n",
       "         -1.06520019e-01,  8.13218594e-01, -3.51343483e-01,\n",
       "         -2.60134697e-01,  1.10974967e+00, -1.94536805e-01,\n",
       "         -3.49038303e-01,  3.31595480e-01,  3.39176804e-01,\n",
       "          6.64734095e-03, -1.61179796e-01, -1.49750233e-01,\n",
       "          7.74872541e-01,  2.57954504e-02,  2.58951426e-01]], dtype=float32),\n",
       " array([-0.31941262,  1.8642478 ,  1.4330251 ,  0.47129133, -0.56314635,\n",
       "        -2.2186964 , -0.7747941 , -4.4233074 , -0.31665614, -2.759064  ,\n",
       "        -1.8222698 ,  1.7776514 , -1.3917385 ,  0.99097294, -1.3530005 ,\n",
       "         0.46471187,  0.95466375,  1.8598206 ,  2.4310193 ,  1.6601541 ,\n",
       "        -2.3357844 , -0.5032748 , -0.7410327 ,  0.79921025, -4.2718463 ,\n",
       "         1.7816651 ,  2.5684848 , -0.43175325,  0.2024856 ,  0.67426306],\n",
       "       dtype=float32),\n",
       " array([[-1.09063571e-04, -1.90537930e-01,  7.00281203e-01,\n",
       "         -2.02166091e-04, -1.00977930e-04, -2.15449840e-01,\n",
       "          5.05341470e-01,  9.19162921e-05, -1.79502851e-04,\n",
       "         -5.23316920e-01, -4.35493365e-02, -4.17016208e-01,\n",
       "         -3.67247872e-02, -1.25564658e-03, -7.40794977e-03,\n",
       "          6.88817129e-02, -8.91982019e-03,  1.40619457e-01,\n",
       "         -7.19896629e-02,  5.92580810e-02, -3.48556302e-02,\n",
       "         -1.05122082e-01,  1.26024708e-04, -1.90549660e-02,\n",
       "         -2.71360040e-01,  7.54401907e-02, -5.37216544e-01,\n",
       "         -3.68088746e-04,  6.67999964e-03, -1.91466679e-04],\n",
       "        [ 3.41480190e-04, -2.79825777e-01, -3.34165424e-01,\n",
       "          4.89824743e-04,  2.39042536e-04, -3.45764995e-01,\n",
       "          2.28481710e-01, -2.54775019e-04,  4.71636682e-04,\n",
       "         -1.54139742e-01, -1.26592740e-01, -2.99382061e-01,\n",
       "          5.24740247e-03, -2.18956526e-02,  7.55125463e-01,\n",
       "         -1.85063079e-01,  4.87704396e-01,  5.39457977e-01,\n",
       "          2.61875033e-01, -5.99137306e-01,  7.24121369e-03,\n",
       "         -3.54506880e-01, -2.65248935e-04,  3.78292762e-02,\n",
       "          8.72430980e-01, -2.16463152e-02, -1.37466684e-01,\n",
       "          7.80917821e-04,  1.14212511e-03,  5.12772938e-04],\n",
       "        [ 5.38138323e-04,  1.02373064e-01, -2.34717965e-01,\n",
       "          6.44535001e-04,  4.35067748e-04, -2.11161226e-01,\n",
       "          1.17594235e-01, -5.26661053e-04,  6.45956607e-04,\n",
       "         -1.18472733e-01,  4.46768671e-01, -1.72352239e-01,\n",
       "         -3.26006906e-03, -9.16206976e-04, -1.25197560e-01,\n",
       "          3.02402467e-01,  4.68790978e-01,  4.01492596e-01,\n",
       "          5.90671062e-01, -1.52917579e-01,  4.28718962e-02,\n",
       "         -2.53110796e-01, -4.59242670e-04,  2.03527994e-02,\n",
       "          1.34037796e-03, -3.46140593e-01, -6.90316260e-01,\n",
       "          7.87721132e-04,  2.14249026e-02,  7.04870035e-04],\n",
       "        [ 5.46822150e-04,  2.26682499e-01, -2.32309729e-01,\n",
       "          5.83105895e-04,  4.51780623e-04,  3.19059938e-02,\n",
       "         -1.88654121e-02, -5.02318842e-04,  6.16569479e-04,\n",
       "         -1.92108914e-01, -8.92350003e-02, -5.94381154e-01,\n",
       "          3.13636032e-03, -1.43354898e-02,  5.26701570e-01,\n",
       "          1.36139780e-01, -6.30759075e-02,  3.52348864e-01,\n",
       "          2.35920727e-01,  4.70040292e-01,  5.64874290e-03,\n",
       "          1.00498758e-02, -4.54203313e-04,  7.86541309e-03,\n",
       "         -2.08343357e-01, -1.87622860e-01, -4.09317315e-01,\n",
       "          7.63173157e-04,  2.87875067e-03,  6.43327599e-04],\n",
       "        [-1.37493946e-04,  2.48969227e-01,  2.18298510e-01,\n",
       "         -2.39667177e-04, -1.67275226e-04,  5.78814782e-02,\n",
       "         -4.51103151e-01,  1.20823097e-04, -2.10805913e-04,\n",
       "         -4.07624096e-01, -1.91004530e-01, -5.19983649e-01,\n",
       "         -3.84073704e-02,  1.22844847e-02, -1.50666581e-02,\n",
       "          2.56254934e-02, -2.65899003e-01, -2.02121283e-03,\n",
       "         -2.22386718e-01,  2.55836874e-01, -4.33965847e-02,\n",
       "          5.57745211e-02,  1.20017867e-04, -4.42045629e-02,\n",
       "         -3.05688977e-01, -5.37740104e-02, -3.94137859e-01,\n",
       "         -3.72809649e-04,  1.14938319e-02, -2.30331760e-04],\n",
       "        [ 1.75251131e-04,  1.47861401e-02, -3.14282924e-01,\n",
       "          3.11761250e-05,  1.80718998e-04, -5.06800227e-02,\n",
       "         -1.08900726e+00, -1.55715257e-04,  6.74467738e-05,\n",
       "          1.37182379e+00, -8.16515982e-01,  4.39161986e-01,\n",
       "         -8.29600822e-03,  9.84875765e-03, -5.11474669e-01,\n",
       "          1.11765668e-01,  6.21645510e-01,  1.00765191e-01,\n",
       "          3.90105397e-01, -8.04741010e-02,  4.06754343e-03,\n",
       "          3.87403995e-01, -2.19210822e-04,  5.64508839e-03,\n",
       "          6.47689462e-01,  1.42696396e-01,  2.67071694e-01,\n",
       "         -6.45470282e-05, -1.30675640e-02,  2.38682114e-05],\n",
       "        [-1.50183900e-04, -3.84467989e-01, -2.60629784e-02,\n",
       "         -1.59874180e-04, -2.31685131e-04, -3.93855184e-01,\n",
       "         -1.17270792e+00,  1.58219715e-04, -1.51596454e-04,\n",
       "          2.93994099e-01,  1.55069157e-01,  1.03096998e+00,\n",
       "          3.15349400e-02, -3.71871330e-02, -8.89355838e-01,\n",
       "          1.48857668e-01,  3.88132095e-01, -7.36703491e-03,\n",
       "          8.02123472e-02,  9.07668024e-02,  1.69479591e-03,\n",
       "          3.88475776e-01,  2.17142820e-04,  8.63019936e-03,\n",
       "          2.55111903e-01,  7.82618672e-03,  3.74206096e-01,\n",
       "         -2.18748886e-04,  1.02929063e-02, -9.76512383e-05],\n",
       "        [-2.95666803e-04,  7.59820826e-03,  5.32385707e-02,\n",
       "         -4.65108402e-04, -2.59315129e-04, -1.09892868e-01,\n",
       "          2.60514051e-01,  2.72528850e-04, -4.13533533e-04,\n",
       "         -7.30589777e-02,  5.56147575e-01, -1.72968045e-01,\n",
       "         -1.00860726e-02,  7.41052814e-03,  1.20292746e-01,\n",
       "         -1.45657489e-03,  1.52762665e-03, -7.25536048e-03,\n",
       "         -2.72878222e-02, -6.74371258e-04,  5.57707332e-04,\n",
       "         -5.50169200e-02,  2.45537725e-04, -1.72717439e-03,\n",
       "         -3.40619296e-01, -7.22673684e-02, -2.94105411e-01,\n",
       "         -6.16472622e-04,  4.92010126e-03, -4.57556976e-04],\n",
       "        [-4.53679939e-04,  6.86953902e-01,  4.05056745e-01,\n",
       "         -4.28865082e-04, -4.97509143e-04,  7.60496497e-01,\n",
       "         -1.31270206e+00,  4.25296254e-04, -4.23804566e-04,\n",
       "          4.15001154e-01, -1.28318202e+00, -1.87779576e-01,\n",
       "         -2.23951824e-02,  4.53785015e-03, -4.32357758e-01,\n",
       "          4.50321892e-03,  1.31986544e-01,  4.92995977e-01,\n",
       "         -1.62441820e-01,  5.01149178e-01, -1.71981007e-02,\n",
       "          2.34732449e-01,  4.58213268e-04, -4.93605435e-03,\n",
       "         -2.87762105e-01, -3.25338930e-01,  6.16903961e-01,\n",
       "         -4.21883014e-04, -8.27282388e-03, -4.27747553e-04],\n",
       "        [-1.55511661e-04,  8.09079587e-01, -4.36049439e-02,\n",
       "         -3.00715095e-04, -1.56095310e-04, -1.17845798e+00,\n",
       "         -1.86691260e+00,  9.33783449e-05, -2.43000104e-04,\n",
       "         -1.18074439e-01, -1.19676363e+00,  2.17333749e-01,\n",
       "          7.45131914e-03, -1.66471358e-02, -7.93810189e-01,\n",
       "          1.81344002e-02,  6.75711095e-01, -7.71886408e-02,\n",
       "          1.16313301e-01, -5.06944895e-01, -1.49152931e-02,\n",
       "          7.28954421e-03,  1.38923380e-04,  4.67444741e-04,\n",
       "          9.77341712e-01,  3.48123670e-01,  6.68409944e-01,\n",
       "         -5.72073273e-04,  7.11235870e-03, -2.51210993e-04],\n",
       "        [-5.47130068e-04,  3.24438453e-01,  2.57641405e-01,\n",
       "         -6.07419177e-04, -5.64614660e-04, -4.82962191e-01,\n",
       "         -7.20439136e-01,  5.10833866e-04, -5.65798488e-04,\n",
       "          9.54753995e-01,  3.45814065e-03, -6.45226300e-01,\n",
       "         -4.60736081e-03,  1.52864866e-02, -1.15801118e-01,\n",
       "         -1.91779453e-02,  5.13013721e-01,  5.66786945e-01,\n",
       "          4.86950368e-01,  3.63092832e-02, -7.61860283e-03,\n",
       "          8.30881819e-02,  4.98675683e-04, -1.62551198e-02,\n",
       "          1.18477583e+00,  2.21031114e-01, -6.54676199e-01,\n",
       "         -6.73408620e-04, -8.83758825e-04, -5.95734804e-04],\n",
       "        [ 7.58591923e-05,  6.65010393e-01,  1.71123639e-01,\n",
       "          2.16470158e-04,  6.18712511e-06, -6.40409112e-01,\n",
       "          2.64809132e-01, -1.75423920e-05,  1.90362014e-04,\n",
       "          1.09010562e-01, -1.41247571e-01,  7.42771327e-01,\n",
       "         -7.77910370e-03, -1.23503117e-03, -1.18609488e-01,\n",
       "          1.28895715e-01,  2.84692943e-01, -3.16178918e-01,\n",
       "          6.44017160e-02, -1.23209409e-01, -4.91590891e-03,\n",
       "          8.92520472e-02, -1.83330994e-05, -1.60135347e-02,\n",
       "          2.95574546e-01,  8.96267831e-01, -6.03497088e-01,\n",
       "          4.68909799e-04,  1.71608813e-02,  1.66368598e-04],\n",
       "        [ 1.06157291e-04,  1.52990073e-01, -3.78725857e-01,\n",
       "         -1.86370598e-05,  1.03387167e-04,  2.99714576e-03,\n",
       "         -3.19159240e-01, -6.79936202e-05,  2.72094112e-05,\n",
       "          1.25665665e+00, -2.33659953e-01,  1.36169970e-01,\n",
       "         -2.27958779e-03, -8.71511083e-03, -4.97618437e-01,\n",
       "          8.04908425e-02,  5.70368208e-02, -1.09957725e-01,\n",
       "          2.86093831e-01, -1.94289550e-01,  1.11339884e-02,\n",
       "          1.53124511e-01, -1.26976200e-04, -8.40971060e-03,\n",
       "         -5.23338579e-02,  1.45893291e-01,  4.78411674e-01,\n",
       "         -9.52309783e-05,  1.86491273e-02, -8.30060162e-06],\n",
       "        [ 5.19886613e-04, -8.44579220e-01,  8.93521160e-02,\n",
       "          5.45031449e-04,  5.82108274e-04, -3.56087476e-01,\n",
       "          8.22916687e-01, -4.81499737e-04,  5.03669842e-04,\n",
       "         -3.28092843e-01,  6.76092327e-01,  3.82376432e-01,\n",
       "         -4.30593081e-03,  1.33278512e-03,  4.35858458e-01,\n",
       "          2.75878906e-02, -7.53259510e-02, -5.42303145e-01,\n",
       "         -9.13574576e-01, -5.66763401e-01,  1.05781313e-02,\n",
       "         -3.74104559e-01, -5.03571588e-04,  2.48245150e-02,\n",
       "         -1.33624226e-01,  1.11184873e-01, -1.00992464e-01,\n",
       "          5.58508153e-04, -9.29927826e-03,  5.34828578e-04],\n",
       "        [-4.94327920e-04, -1.81512520e-01, -2.48187408e-02,\n",
       "         -6.49435795e-04, -5.54844097e-04,  1.28601909e-01,\n",
       "          6.86561823e-01,  4.49187006e-04, -5.60067478e-04,\n",
       "          1.50365993e-01,  5.43145537e-01, -3.49065930e-01,\n",
       "          5.14838565e-03, -1.02559691e-02,  2.87439466e-01,\n",
       "          2.51485765e-01, -5.13407290e-01,  7.11360872e-02,\n",
       "          3.10762137e-01,  4.62404549e-01, -2.04837369e-03,\n",
       "         -1.64828882e-01,  5.27969620e-04,  2.20016558e-02,\n",
       "         -4.58834291e-01, -4.97916847e-01,  9.60418582e-02,\n",
       "         -7.78191665e-04, -2.88747298e-03, -6.40261802e-04],\n",
       "        [-3.58693302e-04,  5.11347771e-01,  3.91380489e-02,\n",
       "         -2.87843926e-04, -4.40411328e-04, -6.04504645e-01,\n",
       "          8.09141099e-01,  3.10635485e-04, -2.77618121e-04,\n",
       "         -3.37472916e-01,  8.24136376e-01, -7.86082596e-02,\n",
       "         -8.43931176e-03, -4.97354101e-03,  1.30784869e-01,\n",
       "          2.44660288e-01,  8.16637456e-01, -9.86163467e-02,\n",
       "          2.85711408e-01,  7.19415903e-01, -1.70998853e-02,\n",
       "          2.50259936e-01,  3.76428943e-04, -1.45220440e-02,\n",
       "          3.42520893e-01,  1.01317748e-01,  3.31498861e-01,\n",
       "         -2.18516390e-04, -2.22136229e-02, -2.55877123e-04],\n",
       "        [ 1.02496019e-03,  3.93019356e-02, -7.52017722e-02,\n",
       "          1.13861647e-03,  9.45977576e-04, -2.07397833e-01,\n",
       "          3.75005454e-01, -9.85236373e-04,  1.14096177e-03,\n",
       "         -3.19763154e-01,  6.81337416e-02, -2.25892439e-01,\n",
       "          1.71020371e-03, -1.68327261e-02, -2.90321916e-01,\n",
       "         -1.15005322e-01,  3.53042543e-01,  2.26478279e-01,\n",
       "          1.12753399e-01,  1.36949390e-01,  1.29550602e-02,\n",
       "         -3.38919073e-01, -9.58389719e-04, -8.40189867e-03,\n",
       "          5.12896538e-01,  2.07653776e-01, -8.70321453e-01,\n",
       "          1.34087412e-03,  1.25988750e-02,  1.20055350e-03],\n",
       "        [-8.45300616e-04, -1.22153535e-01,  1.53262079e-01,\n",
       "         -7.60095601e-04, -8.68095900e-04, -8.11473429e-02,\n",
       "          3.80916744e-02,  8.00803595e-04, -8.11187201e-04,\n",
       "         -1.99501663e-01,  1.62482631e+00,  1.93359004e-03,\n",
       "         -2.96005644e-02,  1.01454780e-02, -4.16198969e-01,\n",
       "          2.55314559e-01,  8.10635090e-01,  1.99814211e-03,\n",
       "         -4.21013057e-01,  2.48352960e-01, -2.37132292e-02,\n",
       "          2.82929242e-01,  8.64429283e-04, -3.72297019e-02,\n",
       "          4.28745329e-01,  2.88413912e-01, -1.13363184e-01,\n",
       "         -7.74991815e-04,  1.38656739e-02, -8.26433883e-04],\n",
       "        [ 3.35253135e-05, -3.75152200e-01,  5.07027030e-01,\n",
       "          2.00213384e-04,  1.01059268e-05, -7.70115256e-02,\n",
       "          7.86786258e-01, -3.03806883e-05,  1.48432751e-04,\n",
       "         -3.19993854e-01, -2.33520046e-02, -4.49816231e-03,\n",
       "          5.63778030e-03, -3.21551086e-03, -4.46849734e-01,\n",
       "          4.32233572e-01,  4.00762483e-02, -3.51811886e-01,\n",
       "         -1.61826804e-01, -2.03902200e-01, -6.52388437e-03,\n",
       "          9.77284983e-02, -4.91709216e-08, -5.91111602e-03,\n",
       "          2.03364417e-01,  1.41284490e+00, -2.24661201e-01,\n",
       "          3.54529388e-04, -3.14093172e-03,  1.77092821e-04],\n",
       "        [ 5.56153791e-05,  3.48330200e-01,  5.39939106e-01,\n",
       "          1.76423171e-04,  7.91927741e-05, -1.06272392e-01,\n",
       "          3.87745827e-01, -1.26542669e-04,  1.40774311e-04,\n",
       "         -1.25789058e+00,  7.67653763e-01,  5.95410541e-02,\n",
       "          5.77659765e-03,  2.55658844e-04,  3.08007419e-01,\n",
       "          4.37499225e-01,  9.62208435e-02,  9.54392403e-02,\n",
       "         -3.58653883e-03,  5.58985949e-01,  1.08961137e-02,\n",
       "         -5.37390888e-01, -4.41362026e-05, -2.38089799e-03,\n",
       "         -5.46688855e-01, -9.35466960e-02,  1.00103103e-01,\n",
       "          1.28649728e-04,  2.59734434e-03,  1.97516929e-04],\n",
       "        [ 9.08946386e-05, -2.75922418e-01, -5.13701260e-01,\n",
       "         -5.17239314e-05,  9.14953780e-05, -1.07171096e-01,\n",
       "         -1.13170612e+00, -5.49200413e-05, -6.93633046e-06,\n",
       "          6.51250362e-01,  5.92540167e-02, -1.63233310e-01,\n",
       "          1.35590257e-02, -1.01506077e-02,  2.93466181e-01,\n",
       "         -4.99109775e-01,  1.57527909e-01,  1.50852680e-01,\n",
       "         -7.10041597e-02, -2.11379081e-01,  2.22693123e-02,\n",
       "          6.76880628e-02, -1.10206856e-04,  4.12359228e-03,\n",
       "         -3.14236850e-01, -3.00507516e-01, -3.78126017e-04,\n",
       "         -8.87164424e-05,  2.14245752e-03, -5.39085086e-05],\n",
       "        [ 1.13021029e-04,  7.95682594e-02, -2.36889616e-01,\n",
       "          1.12863665e-04,  2.00878712e-05,  4.51477647e-01,\n",
       "         -3.22984189e-01, -1.43975747e-04,  1.92476189e-04,\n",
       "          4.14746940e-01, -6.13126218e-01,  4.40066218e-01,\n",
       "          1.73389819e-02,  1.69793554e-02,  6.49899095e-02,\n",
       "         -2.86907852e-01, -2.88425416e-01,  5.54831803e-01,\n",
       "          1.68036625e-01, -9.84913558e-02,  1.86046455e-02,\n",
       "          1.61680505e-01, -5.56187879e-05,  1.61567386e-02,\n",
       "         -1.18510902e+00, -3.69649321e-01, -9.47553739e-02,\n",
       "          2.15072068e-04,  7.01375073e-03,  1.72095504e-04],\n",
       "        [ 4.82850126e-04, -3.01595360e-01, -3.94802690e-01,\n",
       "          3.88173066e-04,  4.59479488e-04, -2.91276604e-01,\n",
       "         -3.84488404e-01, -4.41327196e-04,  4.26790677e-04,\n",
       "          4.31094654e-02,  1.34286404e-01,  1.18576951e-01,\n",
       "          5.50983194e-03, -1.01489471e-02,  3.07672322e-01,\n",
       "         -1.20299794e-02,  1.63890511e-01, -2.87156880e-01,\n",
       "         -2.03641966e-01, -1.97573259e-01,  8.71489476e-03,\n",
       "         -1.63856119e-01, -4.44455829e-04, -2.09822822e-02,\n",
       "          2.68826485e-01,  3.71114075e-01,  2.07730368e-01,\n",
       "          3.33511882e-04,  5.91746811e-03,  3.99627461e-04],\n",
       "        [-2.57103704e-04,  3.76415312e-01,  1.49721980e-01,\n",
       "         -1.87396217e-04, -3.12749064e-04,  2.38683701e-01,\n",
       "          3.37781340e-01,  2.02214811e-04, -2.06792160e-04,\n",
       "          9.31317285e-02,  5.83969474e-01, -2.02385828e-01,\n",
       "         -5.29710762e-03,  7.14321015e-03,  4.56454009e-01,\n",
       "          1.61846906e-01, -8.87137726e-02,  2.60101676e-01,\n",
       "          4.52683866e-02,  6.10604763e-01,  2.97363894e-03,\n",
       "         -1.50212288e-01,  2.66234507e-04,  3.67984176e-03,\n",
       "         -1.15920186e+00, -2.34292131e-02,  9.44498897e-01,\n",
       "         -2.11370527e-04, -2.26447042e-02, -1.26628991e-04],\n",
       "        [-2.95523205e-04,  6.76687993e-03,  5.33044934e-02,\n",
       "         -4.64956509e-04, -2.59178167e-04, -1.08457305e-01,\n",
       "          2.60920882e-01,  2.72392179e-04, -4.13386180e-04,\n",
       "         -7.37060830e-02,  5.53244531e-01, -1.72902197e-01,\n",
       "         -1.00855213e-02,  7.41047040e-03,  1.16387919e-01,\n",
       "         -1.45222677e-03,  1.51548022e-03, -7.32587557e-03,\n",
       "         -2.72230953e-02, -6.26152672e-04,  5.57649590e-04,\n",
       "         -5.49556687e-02,  2.45397561e-04, -1.72696053e-03,\n",
       "         -3.42240810e-01, -7.22596049e-02, -2.93042362e-01,\n",
       "         -6.16336474e-04,  4.91973106e-03, -4.57404298e-04],\n",
       "        [-1.45605518e-04,  3.89649153e-01,  6.20633066e-01,\n",
       "          2.32481398e-06, -1.35243696e-04,  3.33430618e-01,\n",
       "          9.42681670e-01,  1.23904872e-04, -6.01456195e-05,\n",
       "          8.69071633e-02, -1.73652276e-01,  4.49587665e-02,\n",
       "         -3.00791170e-02,  6.33734139e-03, -1.07501909e-01,\n",
       "          1.45293912e-02, -3.55426937e-01,  2.37900554e-03,\n",
       "          5.23707047e-02,  3.24815333e-01, -2.38269325e-02,\n",
       "          6.99816495e-02,  1.44379155e-04, -3.85782658e-03,\n",
       "         -7.45319054e-02,  1.86823532e-02,  2.69832313e-02,\n",
       "          9.75565999e-05,  1.89919805e-03, -1.47306055e-05],\n",
       "        [ 3.63553496e-04,  1.83429450e-01,  3.32877100e-01,\n",
       "          5.16186003e-04,  3.23196320e-04, -1.30747139e-01,\n",
       "          1.73287347e-01, -3.65401385e-04,  4.78822447e-04,\n",
       "         -1.22656143e+00,  3.03958714e-01,  1.54446542e-01,\n",
       "          6.10949052e-03,  2.24355422e-02, -1.12430258e-02,\n",
       "          7.80740753e-02,  3.40007067e-01,  1.47827372e-01,\n",
       "          1.33762673e-01,  1.39249817e-01,  1.09312497e-02,\n",
       "         -2.42749527e-01, -3.20484804e-04,  5.62009634e-03,\n",
       "          2.60016471e-01, -1.20274797e-01, -5.62227011e-01,\n",
       "          6.10365882e-04,  7.71294860e-03,  5.37815562e-04],\n",
       "        [ 3.66765482e-04,  1.21958256e-02, -7.42537975e-02,\n",
       "          3.24233784e-04,  3.64499108e-04, -5.72840199e-02,\n",
       "          2.90094316e-01, -3.95770796e-04,  3.89054738e-04,\n",
       "         -2.38325819e-01,  5.48651695e-01, -2.93362916e-01,\n",
       "          2.05212533e-02, -1.06369574e-02,  3.04934859e-01,\n",
       "         -2.70798296e-01, -6.10220492e-01,  3.78718078e-01,\n",
       "          3.16327572e-01, -7.49893719e-03, -3.29333218e-03,\n",
       "         -3.11929196e-01, -3.17274971e-04,  2.22762059e-02,\n",
       "         -1.46658286e-01, -6.09800965e-02, -3.32683146e-01,\n",
       "          2.30134683e-04, -8.23091529e-03,  4.18267999e-04],\n",
       "        [ 7.36717629e-05, -1.45422220e-01,  1.78265765e-01,\n",
       "          1.18806391e-04,  6.73437171e-05, -1.28926471e-01,\n",
       "          2.82144517e-01, -9.76026349e-05,  9.92539790e-05,\n",
       "         -2.67871827e-01,  2.55541075e-02, -1.88553020e-01,\n",
       "         -1.42117590e-02,  2.98899412e-02, -2.04324480e-02,\n",
       "         -9.80896526e-04,  2.72654593e-01,  4.18725282e-01,\n",
       "         -1.22258738e-01, -2.79327899e-01, -4.93387617e-02,\n",
       "          4.19547200e-01, -1.02237362e-04,  1.97438840e-02,\n",
       "         -1.07960425e-01, -1.19391650e-01, -2.21946880e-01,\n",
       "          1.27154839e-04, -3.30498181e-02,  1.32053363e-04],\n",
       "        [ 3.58887803e-04, -8.22796047e-01, -5.32282054e-01,\n",
       "          3.97911499e-04,  4.05357336e-04,  2.38307491e-01,\n",
       "          2.72117138e-01, -3.61902232e-04,  4.15137445e-04,\n",
       "         -6.80050105e-02,  2.11200535e-01, -4.80033755e-01,\n",
       "          1.58740375e-02, -3.90185812e-03,  3.84109132e-02,\n",
       "         -1.72432363e-02, -1.07765406e-01, -1.98513076e-01,\n",
       "          7.60447583e-04, -6.74728513e-01, -1.00777706e-03,\n",
       "         -2.12315395e-01, -3.57297657e-04, -6.53477386e-03,\n",
       "          1.73139460e-02, -1.50648534e-01, -2.04833120e-01,\n",
       "          4.84726857e-04, -8.83522350e-03,  3.80050042e-04]], dtype=float32),\n",
       " array([ 7.0780249e+00, -1.4255046e-02, -6.4018875e-01,  7.0305958e+00,\n",
       "         7.1246090e+00,  2.1642118e+00, -2.4858165e+00, -7.1393132e+00,\n",
       "         7.0269327e+00,  6.4611304e-01, -4.8998089e+00,  4.1662941e+00,\n",
       "         1.0423836e-02, -2.1876877e-03, -1.2110238e+00,  1.7817229e+00,\n",
       "         4.1756988e-01,  1.0490044e+00, -1.0304453e-01,  8.3505076e-01,\n",
       "         1.0542405e-02,  1.9757512e-01, -7.0337214e+00, -2.1668118e-03,\n",
       "         1.6233138e+00,  2.8320174e+00,  4.2943344e+00,  6.8504672e+00,\n",
       "        -3.0430644e-03,  7.0447564e+00], dtype=float32),\n",
       " array([[ 3.87229830e-01],\n",
       "        [ 4.81265426e-01],\n",
       "        [-3.07129890e-01],\n",
       "        [ 3.66294295e-01],\n",
       "        [ 4.14321780e-01],\n",
       "        [-6.37693882e-01],\n",
       "        [-2.12882948e+00],\n",
       "        [-4.03809667e-01],\n",
       "        [ 3.62963378e-01],\n",
       "        [ 1.99121523e+00],\n",
       "        [-1.83881903e+00],\n",
       "        [ 1.11472356e+00],\n",
       "        [-9.34489537e-04],\n",
       "        [ 5.47769654e-04],\n",
       "        [-3.73963177e-01],\n",
       "        [ 1.69315636e-01],\n",
       "        [-2.80717820e-01],\n",
       "        [-1.90228507e-01],\n",
       "        [ 1.71207279e-01],\n",
       "        [-3.07892948e-01],\n",
       "        [ 7.63735967e-04],\n",
       "        [ 1.22073725e-01],\n",
       "        [-3.53769988e-01],\n",
       "        [-2.07097619e-03],\n",
       "        [-8.79016995e-01],\n",
       "        [-1.05052280e+00],\n",
       "        [ 1.16248250e+00],\n",
       "        [ 3.11763465e-01],\n",
       "        [ 1.03274384e-03],\n",
       "        [ 3.76898408e-01]], dtype=float32),\n",
       " array([-0.42444777], dtype=float32),\n",
       " array([[-1.]], dtype=float32),\n",
       " array([0.], dtype=float32),\n",
       " array([[0.9534124]], dtype=float32),\n",
       " array([-0.16973768], dtype=float32),\n",
       " array([[1.]], dtype=float32),\n",
       " array([0.], dtype=float32),\n",
       " array([[1.]], dtype=float32),\n",
       " array([0.], dtype=float32)]"
      ]
     },
     "execution_count": 24,
     "metadata": {},
     "output_type": "execute_result"
    }
   ],
   "source": [
    "new_model.get_weights()"
   ]
  },
  {
   "cell_type": "code",
   "execution_count": 25,
   "metadata": {},
   "outputs": [
    {
     "data": {
      "text/plain": [
       "<keras.optimizers.Adam at 0x272402e00b8>"
      ]
     },
     "execution_count": 25,
     "metadata": {},
     "output_type": "execute_result"
    }
   ],
   "source": [
    "new_model.optimizer"
   ]
  },
  {
   "cell_type": "markdown",
   "metadata": {},
   "source": [
    "# Predictions (Global)"
   ]
  },
  {
   "cell_type": "markdown",
   "metadata": {},
   "source": [
    "\"Global\" in this sense means that I've fed model.predict() with all the possible parameters. This gives a good overview of the overall performance of the network. This can be useful to spot large-scale phenomena like network overfitting but is not so great at looking at say individual data slices. This is done later.\n",
    "\n",
    "***Nota Bene: all data here is NORMALIZED at this stage.***"
   ]
  },
  {
   "cell_type": "code",
   "execution_count": 26,
   "metadata": {},
   "outputs": [
    {
     "name": "stdout",
     "output_type": "stream",
     "text": [
      "[-1.00778849 -0.90798589 -0.74548873 ... -0.36189134 -1.04351651\n",
      "  0.85297783]\n",
      "(63933,)\n"
     ]
    }
   ],
   "source": [
    "y_test_np_array = y_test.values\n",
    "print(y_test_np_array)\n",
    "print(y_test_np_array.shape)"
   ]
  },
  {
   "cell_type": "code",
   "execution_count": 27,
   "metadata": {},
   "outputs": [
    {
     "name": "stdout",
     "output_type": "stream",
     "text": [
      "[[ 1.55088864 -0.91254716  0.25057832 ... -0.31482312  0.29960042\n",
      "  -0.06771858]\n",
      " [ 1.55088864 -0.91254716  0.25057832 ... -0.31482312  0.29960042\n",
      "   0.42108802]\n",
      " [ 1.55088864 -0.91254716  0.25057832 ... -0.31482312  0.29960042\n",
      "   1.66532336]\n",
      " ...\n",
      " [ 2.91053885  1.81317227  2.31594238 ...  3.91445512  1.76550348\n",
      "  -0.55652537]\n",
      " [ 2.91053885  1.81317227  2.31594238 ...  3.91445512  1.76550348\n",
      "   0.42108802]\n",
      " [ 2.91053885  1.81317227  2.31594238 ...  3.91445512  1.76550348\n",
      "   1.66532336]]\n"
     ]
    }
   ],
   "source": [
    "x_test_np_array = x_test.values\n",
    "print(x_test_np_array)"
   ]
  },
  {
   "cell_type": "code",
   "execution_count": 28,
   "metadata": {},
   "outputs": [],
   "source": [
    "x_test_1_np_array = x_test_1.values\n",
    "x_test_2_np_array = x_test_2.values"
   ]
  },
  {
   "cell_type": "code",
   "execution_count": 29,
   "metadata": {},
   "outputs": [
    {
     "name": "stdout",
     "output_type": "stream",
     "text": [
      "(63933, 6)\n"
     ]
    }
   ],
   "source": [
    "print(x_test_1_np_array.shape)"
   ]
  },
  {
   "cell_type": "code",
   "execution_count": 30,
   "metadata": {},
   "outputs": [
    {
     "name": "stdout",
     "output_type": "stream",
     "text": [
      "(63933, 1)\n"
     ]
    }
   ],
   "source": [
    "print(x_test_2_np_array.shape)"
   ]
  },
  {
   "cell_type": "code",
   "execution_count": 31,
   "metadata": {},
   "outputs": [
    {
     "name": "stdout",
     "output_type": "stream",
     "text": [
      "(63933, 7)\n"
     ]
    }
   ],
   "source": [
    "print(x_test_np_array.shape)"
   ]
  },
  {
   "cell_type": "code",
   "execution_count": 32,
   "metadata": {},
   "outputs": [
    {
     "name": "stdout",
     "output_type": "stream",
     "text": [
      "<class 'numpy.ndarray'>\n",
      "(63933,)\n",
      "<class 'numpy.ndarray'>\n"
     ]
    }
   ],
   "source": [
    "predictions_global = new_model.predict([x_test_1_np_array, x_test_2_np_array], batch_size = 10, verbose=0)\n",
    "print(type(predictions_global))\n",
    "\n",
    "predictions_global = predictions_global.flatten()\n",
    "print(predictions_global.shape)\n",
    "print(type(predictions_global))"
   ]
  },
  {
   "cell_type": "markdown",
   "metadata": {},
   "source": [
    "### Predictions (Global) review - De-Normalized"
   ]
  },
  {
   "cell_type": "code",
   "execution_count": 33,
   "metadata": {},
   "outputs": [],
   "source": [
    "predictions_global_deNormalized = (predictions_global * joined_dataFrame_original['efeETG_GB'].std()) + joined_dataFrame_original['efeETG_GB'].mean()"
   ]
  },
  {
   "cell_type": "code",
   "execution_count": 34,
   "metadata": {},
   "outputs": [],
   "source": [
    "y_test_deNormalized = (y_test * joined_dataFrame_original['efeETG_GB'].std()) + joined_dataFrame_original['efeETG_GB'].mean()"
   ]
  },
  {
   "cell_type": "code",
   "execution_count": 35,
   "metadata": {},
   "outputs": [],
   "source": [
    "y_test_deNormalized_np_array = y_test_deNormalized.values"
   ]
  },
  {
   "cell_type": "code",
   "execution_count": 36,
   "metadata": {},
   "outputs": [],
   "source": [
    "import matplotlib.pyplot as plt\n",
    "from matplotlib.colors import LogNorm"
   ]
  },
  {
   "cell_type": "code",
   "execution_count": 37,
   "metadata": {},
   "outputs": [
    {
     "data": {
      "image/png": "[encoded data removed]",
      "text/plain": [
       "<Figure size 432x288 with 1 Axes>"
      ]
     },
     "metadata": {
      "needs_background": "light"
     },
     "output_type": "display_data"
    }
   ],
   "source": [
    "plt.hist(predictions_global_deNormalized)\n",
    "plt.title('QuaLiKiz-NN Predictions (De-Normalized) Histogram')\n",
    "plt.xlabel('Values')\n",
    "plt.ylabel('Counts')\n",
    "# plt.savefig('./2018-07-10_Run0050b_DataSlicerPlot/NN_Predictions.png', dpi = 100)\n",
    "plt.show()"
   ]
  },
  {
   "cell_type": "code",
   "execution_count": 38,
   "metadata": {},
   "outputs": [
    {
     "name": "stdout",
     "output_type": "stream",
     "text": [
      "(63933,)\n"
     ]
    }
   ],
   "source": [
    "print(predictions_global.shape)"
   ]
  },
  {
   "cell_type": "code",
   "execution_count": 39,
   "metadata": {},
   "outputs": [
    {
     "data": {
      "image/png": "[encoded data removed]",
      "text/plain": [
       "<Figure size 432x288 with 1 Axes>"
      ]
     },
     "metadata": {
      "needs_background": "light"
     },
     "output_type": "display_data"
    }
   ],
   "source": [
    "plt.plot(y_test_deNormalized_np_array, predictions_global_deNormalized, 'r.', ms = 5, label = 'QuaLiKiz-NN')\n",
    "plt.title('QuaLiKiz-NN predictions (De-Normalized) (efeETG_GB) vs. QuaLiKiz (efeETG_GB)')\n",
    "plt.xlabel('QuaLiKiz')\n",
    "plt.ylabel('Neural Network')\n",
    "plt.show()"
   ]
  },
  {
   "cell_type": "code",
   "execution_count": 40,
   "metadata": {},
   "outputs": [
    {
     "data": {
      "image/png": "[encoded data removed]",
      "text/plain": [
       "<Figure size 432x288 with 2 Axes>"
      ]
     },
     "metadata": {
      "needs_background": "light"
     },
     "output_type": "display_data"
    }
   ],
   "source": [
    "plt.hist2d(y_test_deNormalized_np_array, predictions_global_deNormalized, bins=100, cmin=5)\n",
    "# plt.plot( [0,1],[0,1] )\n",
    "plt.title('QuaLiKiz vs Neural Network (De-Normalized) (non-log scale)')\n",
    "plt.xlabel('QuaLiKiz')\n",
    "plt.ylabel('Neural Network')\n",
    "plt.ylim(0)\n",
    "plt.xlim(0)\n",
    "cbar = plt.colorbar()\n",
    "cbar.ax.set_ylabel('Counts')\n",
    "# plt.savefig('./2018-07-10_Run0050b_DataSlicerPlot/QuaLiKiz-vs-NN_nonLogScale_bins100.png', dpi = 100)\n",
    "plt.show()"
   ]
  },
  {
   "cell_type": "markdown",
   "metadata": {},
   "source": [
    "### Sigmas (De-Normalized)"
   ]
  },
  {
   "cell_type": "code",
   "execution_count": 41,
   "metadata": {},
   "outputs": [
    {
     "data": {
      "image/png": "[encoded data removed]",
      "text/plain": [
       "<Figure size 432x288 with 1 Axes>"
      ]
     },
     "metadata": {
      "needs_background": "light"
     },
     "output_type": "display_data"
    }
   ],
   "source": [
    "h = plt.hist2d(y_test_np_array, predictions_global,bins = 100)"
   ]
  },
  {
   "cell_type": "code",
   "execution_count": 42,
   "metadata": {},
   "outputs": [
    {
     "data": {
      "image/png": "[encoded data removed]",
      "text/plain": [
       "<Figure size 432x288 with 1 Axes>"
      ]
     },
     "metadata": {
      "needs_background": "light"
     },
     "output_type": "display_data"
    }
   ],
   "source": [
    "h_deNormalized = plt.hist2d(y_test_deNormalized_np_array, predictions_global_deNormalized,bins = 100)"
   ]
  },
  {
   "cell_type": "code",
   "execution_count": 43,
   "metadata": {},
   "outputs": [
    {
     "name": "stderr",
     "output_type": "stream",
     "text": [
      "C:\\Users\\danie\\Anaconda3\\lib\\site-packages\\ipykernel_launcher.py:4: RuntimeWarning: invalid value encountered in true_divide\n",
      "  after removing the cwd from sys.path.\n"
     ]
    }
   ],
   "source": [
    "sigmas_deNormalized = []\n",
    "Qualikiz_deNormalized = y_test_deNormalized_np_array\n",
    "for i in range(len(h[0])):\n",
    "    sigmas_deNormalized.append(numpy.std(h_deNormalized[0][i] / numpy.max(h_deNormalized[0][i])))"
   ]
  },
  {
   "cell_type": "code",
   "execution_count": 44,
   "metadata": {},
   "outputs": [
    {
     "data": {
      "image/png": "[encoded data removed]",
      "text/plain": [
       "<Figure size 432x288 with 1 Axes>"
      ]
     },
     "metadata": {
      "needs_background": "light"
     },
     "output_type": "display_data"
    }
   ],
   "source": [
    "plt.plot((numpy.array(h_deNormalized[1][1:]) + numpy.array(h_deNormalized[1][:-1]))/2.,sigmas_deNormalized)\n",
    "plt.show()"
   ]
  },
  {
   "cell_type": "code",
   "execution_count": 45,
   "metadata": {},
   "outputs": [
    {
     "data": {
      "image/png": "[encoded data removed]",
      "text/plain": [
       "<Figure size 432x288 with 1 Axes>"
      ]
     },
     "metadata": {
      "needs_background": "light"
     },
     "output_type": "display_data"
    }
   ],
   "source": [
    "for i in range(10):\n",
    "    plt.plot((h_deNormalized[1][1:] + h_deNormalized[1][:-1])/2., h_deNormalized[0][i]/numpy.max(h_deNormalized[0][i]) )"
   ]
  },
  {
   "cell_type": "code",
   "execution_count": 46,
   "metadata": {},
   "outputs": [
    {
     "data": {
      "image/png": "[encoded data removed]",
      "text/plain": [
       "<Figure size 432x288 with 1 Axes>"
      ]
     },
     "metadata": {
      "needs_background": "light"
     },
     "output_type": "display_data"
    }
   ],
   "source": [
    "plt.plot(y_test_deNormalized_np_array, predictions_global_deNormalized - y_test_deNormalized_np_array, 'b.', ms = 0.5)\n",
    "plt.title('Neural Network predictions (De-Normalized) vs. QuaLiKiz input')\n",
    "plt.xlabel('QuaLiKiz')\n",
    "plt.ylabel('NN Predictions - QuaLiKiz')\n",
    "plt.show()"
   ]
  },
  {
   "cell_type": "code",
   "execution_count": 47,
   "metadata": {},
   "outputs": [
    {
     "data": {
      "image/png": "[encoded data removed]",
      "text/plain": [
       "<Figure size 432x288 with 1 Axes>"
      ]
     },
     "metadata": {
      "needs_background": "light"
     },
     "output_type": "display_data"
    }
   ],
   "source": [
    "plt.plot(y_test_deNormalized_np_array, predictions_global_deNormalized - y_test_deNormalized_np_array, 'b.', ms = 0.1, alpha=0.5)\n",
    "plt.title('Neural Network predictions vs. QuaLiKiz input (De-Normalized)')\n",
    "plt.xlabel('QuaLiKiz')\n",
    "plt.ylabel('NN Predictions - QuaLiKiz')\n",
    "plt.show()"
   ]
  },
  {
   "cell_type": "markdown",
   "metadata": {},
   "source": [
    "# Predictions (single Data Slice)"
   ]
  },
  {
   "cell_type": "markdown",
   "metadata": {},
   "source": [
    "### Predictions - Initialise table to feed predictions"
   ]
  },
  {
   "cell_type": "code",
   "execution_count": 48,
   "metadata": {},
   "outputs": [
    {
     "data": {
      "text/plain": [
       "array([[ 5.75      ,  2.        ,  3.        , ...,  0.7       ,\n",
       "         0.45      ,  1.33      ],\n",
       "       [ 5.75      ,  2.06030151,  3.        , ...,  0.7       ,\n",
       "         0.45      ,  1.33      ],\n",
       "       [ 5.75      ,  2.12060302,  3.        , ...,  0.7       ,\n",
       "         0.45      ,  1.33      ],\n",
       "       ...,\n",
       "       [ 5.75      , 13.87939698,  3.        , ...,  0.7       ,\n",
       "         0.45      ,  1.33      ],\n",
       "       [ 5.75      , 13.93969849,  3.        , ...,  0.7       ,\n",
       "         0.45      ,  1.33      ],\n",
       "       [ 5.75      , 14.        ,  3.        , ...,  0.7       ,\n",
       "         0.45      ,  1.33      ]])"
      ]
     },
     "execution_count": 48,
     "metadata": {},
     "output_type": "execute_result"
    }
   ],
   "source": [
    "# table (Original values from input file unstable_training_gen2_7D_nions0_flat_filter7.h5)\n",
    "# Hard-coded variables for the data slice\n",
    "\n",
    "table = numpy.zeros((200,7))\n",
    "\n",
    "table[:,0] = 5.75    # Ati\n",
    "table[:,1] = numpy.linspace(2,14,200)   # Ate\n",
    "table[:,2] = 3       # An\n",
    "table[:,3] = 3       # qx\n",
    "table[:,4] = 0.7     # smag\n",
    "table[:,5] = 0.45    # x\n",
    "table[:,6] = 1.33    # Ti_Te\n",
    "\n",
    "table"
   ]
  },
  {
   "cell_type": "code",
   "execution_count": 49,
   "metadata": {},
   "outputs": [],
   "source": [
    "# Normalized table (inputs for model.predict())\n",
    "table_normalized = numpy.zeros((200,7))\n",
    "\n",
    "DataSlice_Ati = 5.75\n",
    "DataSlice_Ate = numpy.linspace(2,14,200)\n",
    "DataSlice_An = 3\n",
    "DataSlice_q = 3\n",
    "DataSlice_smag = 0.7\n",
    "DataSlice_x = 0.45\n",
    "DataSlice_Ti_Te = 1.33\n",
    "\n",
    "# Normalize data by standard deviation and mean-centering the data\n",
    "table_normalized[:,0] = (DataSlice_Ati - joined_dataFrame_original['Ati'].mean()) / joined_dataFrame_original['Ati'].std()\n",
    "table_normalized[:,1] = (DataSlice_Ate - joined_dataFrame_original['Ate'].mean()) / joined_dataFrame_original['Ate'].std()\n",
    "table_normalized[:,2] = (DataSlice_An - joined_dataFrame_original['An'].mean()) / joined_dataFrame_original['An'].std()\n",
    "table_normalized[:,3] = (DataSlice_q - joined_dataFrame_original['q'].mean()) / joined_dataFrame_original['q'].std()\n",
    "table_normalized[:,4] = (DataSlice_smag - joined_dataFrame_original['smag'].mean()) / joined_dataFrame_original['smag'].std()\n",
    "table_normalized[:,5] = (DataSlice_x - joined_dataFrame_original['x'].mean()) / joined_dataFrame_original['x'].std()\n",
    "table_normalized[:,6] = (DataSlice_Ti_Te - joined_dataFrame_original['Ti_Te'].mean()) / joined_dataFrame_original['Ti_Te'].std()"
   ]
  },
  {
   "cell_type": "code",
   "execution_count": 50,
   "metadata": {},
   "outputs": [
    {
     "data": {
      "text/plain": [
       "array([[ 0.10626029, -2.15151054,  0.54563033, ...,  0.20304769,\n",
       "        -0.11922898, -0.06771865],\n",
       "       [ 0.10626029, -2.13158751,  0.54563033, ...,  0.20304769,\n",
       "        -0.11922898, -0.06771865],\n",
       "       [ 0.10626029, -2.11166448,  0.54563033, ...,  0.20304769,\n",
       "        -0.11922898, -0.06771865],\n",
       "       ...,\n",
       "       [ 0.10626029,  1.77332621,  0.54563033, ...,  0.20304769,\n",
       "        -0.11922898, -0.06771865],\n",
       "       [ 0.10626029,  1.79324924,  0.54563033, ...,  0.20304769,\n",
       "        -0.11922898, -0.06771865],\n",
       "       [ 0.10626029,  1.81317227,  0.54563033, ...,  0.20304769,\n",
       "        -0.11922898, -0.06771865]])"
      ]
     },
     "execution_count": 50,
     "metadata": {},
     "output_type": "execute_result"
    }
   ],
   "source": [
    "table_normalized"
   ]
  },
  {
   "cell_type": "code",
   "execution_count": 51,
   "metadata": {},
   "outputs": [],
   "source": [
    "# Normalized table (inputs for model.predict())\n",
    "table_branch1_normalized = numpy.zeros((200,6))\n",
    "\n",
    "DataSlice_Ati = 5.75\n",
    "#DataSlice_Ate = numpy.linspace(2,14,200)\n",
    "DataSlice_An = 3\n",
    "DataSlice_q = 3\n",
    "DataSlice_smag = 0.7\n",
    "DataSlice_x = 0.45\n",
    "DataSlice_Ti_Te = 1.33\n",
    "\n",
    "# Normalize data by standard deviation and mean-centering the data\n",
    "table_branch1_normalized[:,0] = (DataSlice_Ati - joined_dataFrame_original['Ati'].mean()) / joined_dataFrame_original['Ati'].std()\n",
    "#table_normalized[:,1] = (DataSlice_Ate - joined_dataFrame_original['Ate'].mean()) / joined_dataFrame_original['Ate'].std()\n",
    "table_branch1_normalized[:,1] = (DataSlice_An - joined_dataFrame_original['An'].mean()) / joined_dataFrame_original['An'].std()\n",
    "table_branch1_normalized[:,2] = (DataSlice_q - joined_dataFrame_original['q'].mean()) / joined_dataFrame_original['q'].std()\n",
    "table_branch1_normalized[:,3] = (DataSlice_smag - joined_dataFrame_original['smag'].mean()) / joined_dataFrame_original['smag'].std()\n",
    "table_branch1_normalized[:,4] = (DataSlice_x - joined_dataFrame_original['x'].mean()) / joined_dataFrame_original['x'].std()\n",
    "table_branch1_normalized[:,5] = (DataSlice_Ti_Te - joined_dataFrame_original['Ti_Te'].mean()) / joined_dataFrame_original['Ti_Te'].std()"
   ]
  },
  {
   "cell_type": "code",
   "execution_count": 52,
   "metadata": {},
   "outputs": [],
   "source": [
    "# Normalized table (inputs for model.predict())\n",
    "table_branch2_normalized = numpy.zeros((200,1))\n",
    "\n",
    "DataSlice_Ate = numpy.linspace(2,14,200)\n",
    "\n",
    "# Normalize data by standard deviation and mean-centering the data\n",
    "table_branch2_normalized[:,0] = (DataSlice_Ate - joined_dataFrame_original['Ate'].mean()) / joined_dataFrame_original['Ate'].std()"
   ]
  },
  {
   "cell_type": "code",
   "execution_count": 53,
   "metadata": {},
   "outputs": [
    {
     "name": "stdout",
     "output_type": "stream",
     "text": [
      "<class 'numpy.ndarray'>\n",
      "(200,)\n",
      "<class 'numpy.ndarray'>\n"
     ]
    }
   ],
   "source": [
    "predictions = new_model.predict([table_branch1_normalized] + [table_branch2_normalized], batch_size = 10, verbose=0)\n",
    "print(type(predictions))\n",
    "\n",
    "predictions = predictions.flatten()\n",
    "print(predictions.shape)\n",
    "print(type(predictions))"
   ]
  },
  {
   "cell_type": "code",
   "execution_count": 54,
   "metadata": {},
   "outputs": [
    {
     "data": {
      "image/png": "[encoded data removed]",
      "text/plain": [
       "<Figure size 432x288 with 1 Axes>"
      ]
     },
     "metadata": {
      "needs_background": "light"
     },
     "output_type": "display_data"
    }
   ],
   "source": [
    "plt.hist(predictions)\n",
    "plt.show()"
   ]
  },
  {
   "cell_type": "markdown",
   "metadata": {},
   "source": [
    "# Masks"
   ]
  },
  {
   "cell_type": "markdown",
   "metadata": {},
   "source": [
    "These are used to rapidly select which parameters to look at (for a given data slice)."
   ]
  },
  {
   "cell_type": "markdown",
   "metadata": {},
   "source": [
    "#### Ate"
   ]
  },
  {
   "cell_type": "code",
   "execution_count": 55,
   "metadata": {},
   "outputs": [],
   "source": [
    "Ate_mask1 = joined_dataFrame_original.Ate == 2\n",
    "Ate_mask2 = joined_dataFrame_original.Ate == 2.75\n",
    "Ate_mask3 = joined_dataFrame_original.Ate == 3.5\n",
    "Ate_mask4 = joined_dataFrame_original.Ate == 4.25\n",
    "Ate_mask5 = joined_dataFrame_original.Ate == 5\n",
    "Ate_mask6 = joined_dataFrame_original.Ate == 5.75\n",
    "Ate_mask7 = joined_dataFrame_original.Ate == 6.5\n",
    "Ate_mask8 = joined_dataFrame_original.Ate == 7.25\n",
    "Ate_mask9 = joined_dataFrame_original.Ate == 8\n",
    "Ate_mask10 = joined_dataFrame_original.Ate == 10\n",
    "Ate_mask11 = joined_dataFrame_original.Ate == 14\n",
    "\n",
    "Ate_anti_mask1 = joined_dataFrame_original.Ate != 2\n",
    "Ate_anti_mask2 = joined_dataFrame_original.Ate != 2.75\n",
    "Ate_anti_mask3 = joined_dataFrame_original.Ate != 3.5\n",
    "Ate_anti_mask4 = joined_dataFrame_original.Ate != 4.25\n",
    "Ate_anti_mask5 = joined_dataFrame_original.Ate != 5\n",
    "Ate_anti_mask6 = joined_dataFrame_original.Ate != 5.75\n",
    "Ate_anti_mask7 = joined_dataFrame_original.Ate != 6.5\n",
    "Ate_anti_mask8 = joined_dataFrame_original.Ate != 7.25\n",
    "Ate_anti_mask9 = joined_dataFrame_original.Ate != 8\n",
    "Ate_anti_mask10 = joined_dataFrame_original.Ate != 10\n",
    "Ate_anti_mask11 = joined_dataFrame_original.Ate != 14"
   ]
  },
  {
   "cell_type": "markdown",
   "metadata": {},
   "source": [
    "#### An"
   ]
  },
  {
   "cell_type": "code",
   "execution_count": 56,
   "metadata": {},
   "outputs": [],
   "source": [
    "An_mask1 = joined_dataFrame_original.An == -5\n",
    "An_mask2 = joined_dataFrame_original.An == -3\n",
    "An_mask3 = joined_dataFrame_original.An == -1\n",
    "An_mask4 = numpy.array(joined_dataFrame_original.An <= 1.1e-14) * numpy.array(joined_dataFrame_original.An >= 9E-15)\n",
    "An_mask5 = joined_dataFrame_original.An == 0.5\n",
    "An_mask6 = joined_dataFrame_original.An == 1.0\n",
    "An_mask7 = joined_dataFrame_original.An == 1.5\n",
    "An_mask8 = joined_dataFrame_original.An == 2.0\n",
    "An_mask9 = joined_dataFrame_original.An == 2.5\n",
    "An_mask10 = joined_dataFrame_original.An == 3.0\n",
    "An_mask11 = joined_dataFrame_original.An == 4.0\n",
    "An_mask12 = joined_dataFrame_original.An == 6.0\n",
    "\n",
    "An_anti_mask1 = joined_dataFrame_original.An != -5\n",
    "An_anti_mask2 = joined_dataFrame_original.An != -3\n",
    "An_anti_mask3 = joined_dataFrame_original.An != -1\n",
    "An_anti_mask4 = numpy.array(joined_dataFrame_original.An >= 1.1e-14) * numpy.array(joined_dataFrame_original.An <= 9E-15)\n",
    "An_anti_mask5 = joined_dataFrame_original.An != 0.5\n",
    "An_anti_mask6 = joined_dataFrame_original.An != 1.0\n",
    "An_anti_mask7 = joined_dataFrame_original.An != 1.5\n",
    "An_anti_mask8 = joined_dataFrame_original.An != 2.0\n",
    "An_anti_mask9 = joined_dataFrame_original.An != 2.5\n",
    "An_anti_mask10 = joined_dataFrame_original.An != 3.0\n",
    "An_anti_mask11 = joined_dataFrame_original.An != 4.0\n",
    "An_anti_mask12 = joined_dataFrame_original.An != 6.0"
   ]
  },
  {
   "cell_type": "markdown",
   "metadata": {},
   "source": [
    "#### Ati"
   ]
  },
  {
   "cell_type": "code",
   "execution_count": 57,
   "metadata": {},
   "outputs": [],
   "source": [
    "Ati_mask1 = numpy.array(joined_dataFrame_original.Ati <= 1.1e-14) * numpy.array(joined_dataFrame_original.Ati >= 9E-15)\n",
    "Ati_mask2 = joined_dataFrame_original.Ati == 2\n",
    "Ati_mask3 = joined_dataFrame_original.Ati == 2.75\n",
    "Ati_mask4 = joined_dataFrame_original.Ati == 3.5\n",
    "Ati_mask5 = joined_dataFrame_original.Ati == 4.25\n",
    "Ati_mask6 = joined_dataFrame_original.Ati == 5\n",
    "Ati_mask7 = joined_dataFrame_original.Ati == 5.75\n",
    "Ati_mask8 = joined_dataFrame_original.Ati == 6.5\n",
    "Ati_mask9 = joined_dataFrame_original.Ati == 7.25\n",
    "Ati_mask10 = joined_dataFrame_original.Ati == 8\n",
    "Ati_mask11 = joined_dataFrame_original.Ati == 10\n",
    "Ati_mask12 = joined_dataFrame_original.Ati == 14"
   ]
  },
  {
   "cell_type": "markdown",
   "metadata": {},
   "source": [
    "#### qx"
   ]
  },
  {
   "cell_type": "code",
   "execution_count": 58,
   "metadata": {},
   "outputs": [],
   "source": [
    "q_mask0 = numpy.array(joined_dataFrame_original.q <= 0.67) * numpy.array(joined_dataFrame_original.q >= 0.65)  #0.66\n",
    "q_mask1 = joined_dataFrame_original.q == 1.0\n",
    "q_mask2 = joined_dataFrame_original.q == 1.5\n",
    "q_mask3 = joined_dataFrame_original.q == 2.0\n",
    "q_mask4 = joined_dataFrame_original.q == 2.5\n",
    "q_mask5 = joined_dataFrame_original.q == 3.0\n",
    "q_mask6 = joined_dataFrame_original.q == 4.0\n",
    "q_mask7 = joined_dataFrame_original.q == 5.0\n",
    "q_mask8 = joined_dataFrame_original.q == 10.00\n",
    "q_mask9 = joined_dataFrame_original.q == 15.00\n",
    "\n",
    "q_anti_mask0 = numpy.array(joined_dataFrame_original.q >= 0.67) * numpy.array(joined_dataFrame_original.q <= 0.65)  #0.66\n",
    "q_anti_mask1 = joined_dataFrame_original.q != 1.0\n",
    "q_anti_mask2 = joined_dataFrame_original.q != 1.5\n",
    "q_anti_mask3 = joined_dataFrame_original.q != 2.0\n",
    "q_anti_mask4 = joined_dataFrame_original.q != 2.5\n",
    "q_anti_mask5 = joined_dataFrame_original.q != 3.0\n",
    "q_anti_mask6 = joined_dataFrame_original.q != 4.0\n",
    "q_anti_mask7 = joined_dataFrame_original.q != 5.0\n",
    "q_anti_mask8 = joined_dataFrame_original.q != 10.00\n",
    "q_anti_mask9 = joined_dataFrame_original.q != 15.00"
   ]
  },
  {
   "cell_type": "markdown",
   "metadata": {},
   "source": [
    "#### smag"
   ]
  },
  {
   "cell_type": "code",
   "execution_count": 59,
   "metadata": {},
   "outputs": [],
   "source": [
    "smag_mask1 = joined_dataFrame_original.smag == -1.0\n",
    "smag_mask2 = numpy.array(joined_dataFrame_original.smag <= 0.11) * numpy.array(joined_dataFrame_original.smag >= 0.09)   # 0.1\n",
    "smag_mask3 = numpy.array(joined_dataFrame_original.smag <= 0.41) * numpy.array(joined_dataFrame_original.smag >= 0.39)   # 0.4\n",
    "smag_mask4 = numpy.array(joined_dataFrame_original.smag <= 0.71) * numpy.array(joined_dataFrame_original.smag >= 0.68)   # 0.7\n",
    "smag_mask5 = joined_dataFrame_original.smag == 1\n",
    "smag_mask6 = joined_dataFrame_original.smag == 1.5\n",
    "smag_mask7 = joined_dataFrame_original.smag == 2.0\n",
    "smag_mask8 = joined_dataFrame_original.smag == 2.75\n",
    "smag_mask9 = joined_dataFrame_original.smag == 3.5\n",
    "smag_mask10 = joined_dataFrame_original.smag == 5.0\n",
    "\n",
    "smag_anti_mask1 = joined_dataFrame_original.smag != -1.0\n",
    "smag_anti_mask2 = numpy.array(joined_dataFrame_original.smag >= 0.11) * numpy.array(joined_dataFrame_original.smag <= 0.09)   # 0.1\n",
    "smag_anti_mask3 = numpy.array(joined_dataFrame_original.smag >= 0.41) * numpy.array(joined_dataFrame_original.smag <= 0.39)   # 0.4\n",
    "smag_anti_mask4 = numpy.array(joined_dataFrame_original.smag >= 0.71) * numpy.array(joined_dataFrame_original.smag <= 0.68)   # 0.7\n",
    "smag_anti_mask5 = joined_dataFrame_original.smag != 1\n",
    "smag_anti_mask6 = joined_dataFrame_original.smag != 1.5\n",
    "smag_anti_mask7 = joined_dataFrame_original.smag != 2.0\n",
    "smag_anti_mask8 = joined_dataFrame_original.smag != 2.75\n",
    "smag_anti_mask9 = joined_dataFrame_original.smag != 3.5\n",
    "smag_anti_mask10 = joined_dataFrame_original.smag != 5.0"
   ]
  },
  {
   "cell_type": "markdown",
   "metadata": {},
   "source": [
    "#### x"
   ]
  },
  {
   "cell_type": "code",
   "execution_count": 60,
   "metadata": {},
   "outputs": [],
   "source": [
    "x_mask1 = numpy.array(joined_dataFrame_original.x <= 0.10) * numpy.array(joined_dataFrame_original.x >= 0.08)   # 0.09\n",
    "x_mask2 = numpy.array(joined_dataFrame_original.x <= 0.22) * numpy.array(joined_dataFrame_original.x >= 0.20)   # 0.21\n",
    "x_mask3 = numpy.array(joined_dataFrame_original.x <= 0.34) * numpy.array(joined_dataFrame_original.x >= 0.32)   # 0.33\n",
    "x_mask4 = numpy.array(joined_dataFrame_original.x <= 0.46) * numpy.array(joined_dataFrame_original.x >= 0.44)   # 0.45\n",
    "x_mask5 = numpy.array(joined_dataFrame_original.x <= 0.58) * numpy.array(joined_dataFrame_original.x >= 0.56)   # 0.57\n",
    "x_mask6 = numpy.array(joined_dataFrame_original.x <= 0.70) * numpy.array(joined_dataFrame_original.x >= 0.68)   # 0.69\n",
    "x_mask7 = numpy.array(joined_dataFrame_original.x <= 0.85) * numpy.array(joined_dataFrame_original.x >= 0.83)   # 0.84\n",
    "x_mask8 = numpy.array(joined_dataFrame_original.x <= 1.00) * numpy.array(joined_dataFrame_original.x >= 0.98)   # 0.99\n",
    "x_mask = {0.09: x_mask1}\n",
    "\n",
    "x_anti_mask1 = numpy.array(joined_dataFrame_original.x >= 0.10) * numpy.array(joined_dataFrame_original.x <= 0.08)   # 0.09\n",
    "x_anti_mask2 = numpy.array(joined_dataFrame_original.x >= 0.22) * numpy.array(joined_dataFrame_original.x <= 0.20)   # 0.21\n",
    "x_anti_mask3 = numpy.array(joined_dataFrame_original.x >= 0.34) * numpy.array(joined_dataFrame_original.x <= 0.32)   # 0.33\n",
    "x_anti_mask4 = numpy.array(joined_dataFrame_original.x >= 0.46) * numpy.array(joined_dataFrame_original.x <= 0.44)   # 0.45\n",
    "x_anti_mask5 = numpy.array(joined_dataFrame_original.x >= 0.58) * numpy.array(joined_dataFrame_original.x <= 0.56)   # 0.57\n",
    "x_anti_mask6 = numpy.array(joined_dataFrame_original.x >= 0.70) * numpy.array(joined_dataFrame_original.x <= 0.68)   # 0.69\n",
    "x_anti_mask7 = numpy.array(joined_dataFrame_original.x >= 0.85) * numpy.array(joined_dataFrame_original.x <= 0.83)   # 0.84\n",
    "x_anti_mask8 = numpy.array(joined_dataFrame_original.x >= 1.00) * numpy.array(joined_dataFrame_original.x <= 0.98)   # 0.99"
   ]
  },
  {
   "cell_type": "markdown",
   "metadata": {},
   "source": [
    "#### Ti_Te"
   ]
  },
  {
   "cell_type": "code",
   "execution_count": 61,
   "metadata": {},
   "outputs": [],
   "source": [
    "Ti_Te_mask1 = joined_dataFrame_original.Ti_Te == 0.25\n",
    "Ti_Te_mask2 = joined_dataFrame_original.Ti_Te == 0.5\n",
    "Ti_Te_mask3 = joined_dataFrame_original.Ti_Te == 0.75\n",
    "Ti_Te_mask4 = joined_dataFrame_original.Ti_Te == 1\n",
    "Ti_Te_mask5 = numpy.array(joined_dataFrame_original.Ti_Te <= 1.34) * numpy.array(joined_dataFrame_original.Ti_Te >= 1.32)   # 1.33\n",
    "Ti_Te_mask6 = numpy.array(joined_dataFrame_original.Ti_Te <= 1.67) * numpy.array(joined_dataFrame_original.Ti_Te >= 1.65)   # 1.66\n",
    "Ti_Te_mask7 = joined_dataFrame_original.Ti_Te == 2.50"
   ]
  },
  {
   "cell_type": "markdown",
   "metadata": {},
   "source": [
    "# Plots"
   ]
  },
  {
   "cell_type": "markdown",
   "metadata": {},
   "source": [
    "## Slice 1"
   ]
  },
  {
   "cell_type": "code",
   "execution_count": 62,
   "metadata": {},
   "outputs": [
    {
     "name": "stdout",
     "output_type": "stream",
     "text": [
      "          efeETG_GB      Ati       Ate       An         q      smag         x  \\\n",
      "12677755  -0.813469  0.10626 -1.408133  0.54563 -0.320344  0.203048 -0.119229   \n",
      "18922843  -0.557189  0.10626 -1.160340  0.54563 -0.320344  0.203048 -0.119229   \n",
      "8384953    1.642665  0.10626 -0.416962  0.54563 -0.320344  0.203048 -0.119229   \n",
      "\n",
      "             Ti_Te  \n",
      "12677755 -0.067719  \n",
      "18922843 -0.067719  \n",
      "8384953  -0.067719  \n",
      "<class 'pandas.core.frame.DataFrame'>\n",
      "          efeETG_GB   Ati   Ate   An    q  smag     x  Ti_Te\n",
      "12677755   7.413384  5.75  4.25  3.0  3.0   0.7  0.45   1.33\n",
      "18922843  13.286460  5.75  5.00  3.0  3.0   0.7  0.45   1.33\n",
      "8384953   63.699650  5.75  7.25  3.0  3.0   0.7  0.45   1.33\n",
      "<class 'pandas.core.frame.DataFrame'>\n"
     ]
    }
   ],
   "source": [
    "'''\n",
    "{'An': 3,\n",
    "'Ati': 5.75,\n",
    "'Ti_Te': 1.33,\n",
    "'q': 3,\n",
    "'smag': 0.7,\n",
    "'x': 0.45}\n",
    "'''\n",
    "newDF = joined_dataFrame[An_mask10 & Ati_mask7 & q_mask5 & smag_mask4 & x_mask4 & Ti_Te_mask5]  # Variable \n",
    "newDF_Mk2 = joined_dataFrame_original[An_mask10 & Ati_mask7 & q_mask5 & smag_mask4 & x_mask4 & Ti_Te_mask5]  # Variable \n",
    "print(newDF)\n",
    "print(type(newDF))\n",
    "\n",
    "print(newDF_Mk2)\n",
    "print(type(newDF_Mk2))"
   ]
  },
  {
   "cell_type": "code",
   "execution_count": 63,
   "metadata": {},
   "outputs": [
    {
     "name": "stdout",
     "output_type": "stream",
     "text": [
      "[-0.81346937 -0.55718902  1.642665  ]\n",
      "[-1.40813251 -1.16033984 -0.41696181]\n"
     ]
    }
   ],
   "source": [
    "efeETG_DF = newDF['efeETG_GB']\n",
    "efeETG_DF_np_array = efeETG_DF.values\n",
    "print(efeETG_DF_np_array)\n",
    "\n",
    "Ate_DF = newDF['Ate']\n",
    "Ate_DF_np_array = Ate_DF.values\n",
    "print(Ate_DF_np_array)"
   ]
  },
  {
   "cell_type": "code",
   "execution_count": 64,
   "metadata": {},
   "outputs": [
    {
     "name": "stdout",
     "output_type": "stream",
     "text": [
      "[ 7.413384 13.28646  63.69965 ]\n",
      "[4.25 5.   7.25]\n"
     ]
    }
   ],
   "source": [
    "efeETG_DF_Mk2 = newDF_Mk2['efeETG_GB']\n",
    "efeETG_DF_Mk2_np_array = efeETG_DF_Mk2.values\n",
    "print(efeETG_DF_Mk2_np_array)\n",
    "\n",
    "Ate_DF_Mk2 = newDF_Mk2['Ate']\n",
    "Ate_DF_Mk2_np_array = Ate_DF_Mk2.values\n",
    "print(Ate_DF_Mk2_np_array)"
   ]
  },
  {
   "cell_type": "code",
   "execution_count": 65,
   "metadata": {},
   "outputs": [
    {
     "data": {
      "image/png": "[encoded data removed]",
      "text/plain": [
       "<Figure size 432x288 with 1 Axes>"
      ]
     },
     "metadata": {
      "needs_background": "light"
     },
     "output_type": "display_data"
    }
   ],
   "source": [
    "efeETG_DF = newDF['efeETG_GB']\n",
    "Ate_DF = newDF['Ate']\n",
    "plt.plot(table_normalized[:,1], predictions, 'r.', ms = 5, label = 'QuaLiKiz-NN')\n",
    "plt.plot(Ate_DF_np_array, efeETG_DF_np_array, 'b.', ms = 5, label = 'QuaLiKiz')\n",
    "plt.title('Data Slice NN vs. QuaLiKiz (Non-Normalized)')\n",
    "plt.xlabel('Ate')\n",
    "plt.ylabel('efeETG_GB')\n",
    "plt.legend()\n",
    "plt.show()"
   ]
  },
  {
   "cell_type": "code",
   "execution_count": 66,
   "metadata": {},
   "outputs": [
    {
     "name": "stdout",
     "output_type": "stream",
     "text": [
      "(200,)\n"
     ]
    }
   ],
   "source": [
    "predictions_deNormalized = (predictions * joined_dataFrame_original['efeETG_GB'].std()) + joined_dataFrame_original['efeETG_GB'].mean()\n",
    "print(predictions_deNormalized.shape)"
   ]
  },
  {
   "cell_type": "code",
   "execution_count": 67,
   "metadata": {},
   "outputs": [
    {
     "data": {
      "image/png": "[encoded data removed]",
      "text/plain": [
       "<Figure size 432x288 with 1 Axes>"
      ]
     },
     "metadata": {
      "needs_background": "light"
     },
     "output_type": "display_data"
    }
   ],
   "source": [
    "plt.plot(table[:,1], predictions_deNormalized, 'r-', ms = 5, label = 'QuaLiKiz-NN')\n",
    "plt.plot(Ate_DF_Mk2_np_array, efeETG_DF_Mk2_np_array, 'b.', ms = 5, label = 'QuaLiKiz')\n",
    "plt.title('Data Slice NN vs. QuaLiKiz (De-Normalized)')\n",
    "plt.ylim(-15, 110)\n",
    "plt.xlabel('Ate')\n",
    "plt.ylabel('efeETG_GB')\n",
    "plt.legend()\n",
    "# plt.savefig('./2018-07-19_Plotting-Clean-Run0054/NN_Predictions.png', dpi = 100)\n",
    "plt.show()"
   ]
  },
  {
   "cell_type": "code",
   "execution_count": 68,
   "metadata": {},
   "outputs": [
    {
     "data": {
      "image/png": "[encoded data removed]",
      "text/plain": [
       "<Figure size 432x288 with 1 Axes>"
      ]
     },
     "metadata": {
      "needs_background": "light"
     },
     "output_type": "display_data"
    }
   ],
   "source": [
    "plt.plot(table[:,1], predictions_deNormalized, 'r-', ms = 5, label = 'QuaLiKiz-NN')\n",
    "plt.plot(Ate_DF_Mk2_np_array, efeETG_DF_Mk2_np_array, 'b.', ms = 5, label = 'QuaLiKiz')\n",
    "plt.title('Data Slice NN vs. QuaLiKiz (De-Normalized)')\n",
    "#plt.ylim(-15, 110)\n",
    "plt.xlabel('Ate')\n",
    "plt.ylabel('efeETG_GB')\n",
    "plt.legend()\n",
    "# plt.savefig('./2018-07-19_Plotting-Clean-Run0054/NN_Predictions.png', dpi = 100)\n",
    "plt.show()"
   ]
  },
  {
   "cell_type": "markdown",
   "metadata": {},
   "source": [
    "## Slice 2"
   ]
  },
  {
   "cell_type": "code",
   "execution_count": null,
   "metadata": {},
   "outputs": [],
   "source": [
    "# TODO"
   ]
  },
  {
   "cell_type": "code",
   "execution_count": null,
   "metadata": {},
   "outputs": [],
   "source": []
  }
 ],
 "metadata": {
  "kernelspec": {
   "display_name": "Python 3",
   "language": "python",
   "name": "python3"
  },
  "language_info": {
   "codemirror_mode": {
    "name": "ipython",
    "version": 3
   },
   "file_extension": ".py",
   "mimetype": "text/x-python",
   "name": "python",
   "nbconvert_exporter": "python",
   "pygments_lexer": "ipython3",
   "version": "3.5.2"
  }
 },
 "nbformat": 4,
 "nbformat_minor": 2
}
