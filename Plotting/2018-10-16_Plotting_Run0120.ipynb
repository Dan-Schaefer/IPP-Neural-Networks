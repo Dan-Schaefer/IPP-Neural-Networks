{
 "cells": [
  {
   "cell_type": "markdown",
   "metadata": {},
   "source": [
    "# Plotting dataslices for Run0120"
   ]
  },
  {
   "cell_type": "markdown",
   "metadata": {},
   "source": [
    "Recap, Run0120:\n",
    "    \n",
    "Added the following:\n",
    "-  Based on Run0104 but with the following changes:\n",
    "\n",
    "> ```# branch2 (Ate input)\n",
    "   visible_branch2 = Input(shape=(1,))\n",
    "   visible_branch2_feeder = Dense(1,\n",
    "       activation='relu')(visible_branch2)```\n",
    "\n",
    "> `relu` is replaced by `linear`\n",
    "\n",
    "\n",
    "-  This series contains Run0115 - Run0125\n",
    "\n",
    "\n",
    "Settings:\n",
    "-  theta = 0.5"
   ]
  },
  {
   "cell_type": "code",
   "execution_count": 3,
   "metadata": {},
   "outputs": [],
   "source": [
    "# DO NOT RUN THIS PART"
   ]
  },
  {
   "cell_type": "code",
   "execution_count": null,
   "metadata": {},
   "outputs": [],
   "source": [
    "import os\n",
    "import sys\n",
    "import time\n",
    "\n",
    "# Gets the current file name. Useful for procedurally generating output/log files.\n",
    "file_name =  os.path.basename(sys.argv[0][:-3])\n",
    "print(file_name)\n",
    "\n",
    "if file_name == \"ipykernel_launcher\":\n",
    "    print(\"This is the Jupyter version.\")\n",
    "    print(\"Now MANUALLY run the next two cells!\")\n",
    "    print(\"STOP! This should not be in your code!!\")\n",
    "    exit(0)\n",
    "    time.sleep(10)\n",
    "    print(\"Testing if script has really stopped.\")\n",
    "else:\n",
    "    print(\"This is the Atom version\")"
   ]
  },
  {
   "cell_type": "code",
   "execution_count": 4,
   "metadata": {},
   "outputs": [],
   "source": [
    "# RUN ONLY IN JUPYTER!!\n",
    "# Start here (manual)"
   ]
  },
  {
   "cell_type": "code",
   "execution_count": 5,
   "metadata": {},
   "outputs": [
    {
     "data": {
      "application/javascript": [
       "IPython.notebook.kernel.execute('file_name = \"' + IPython.notebook.notebook_name + '\"');\n"
      ],
      "text/plain": [
       "<IPython.core.display.Javascript object>"
      ]
     },
     "metadata": {},
     "output_type": "display_data"
    }
   ],
   "source": [
    "%%javascript\n",
    "IPython.notebook.kernel.execute('file_name = \"' + IPython.notebook.notebook_name + '\"');"
   ]
  },
  {
   "cell_type": "code",
   "execution_count": 6,
   "metadata": {},
   "outputs": [
    {
     "name": "stdout",
     "output_type": "stream",
     "text": [
      "2018-10-16_Plotting_Run0120.ipynb\n"
     ]
    }
   ],
   "source": [
    "print(file_name)"
   ]
  },
  {
   "cell_type": "code",
   "execution_count": 7,
   "metadata": {},
   "outputs": [
    {
     "name": "stdout",
     "output_type": "stream",
     "text": [
      "2018-10-16_Plotting_Run0120\n",
      "True\n"
     ]
    }
   ],
   "source": [
    "file_name = file_name[:-6]\n",
    "print(file_name)\n",
    "\n",
    "is_Jupyter = True\n",
    "print(is_Jupyter)"
   ]
  },
  {
   "cell_type": "code",
   "execution_count": null,
   "metadata": {},
   "outputs": [],
   "source": []
  },
  {
   "cell_type": "code",
   "execution_count": 8,
   "metadata": {},
   "outputs": [],
   "source": [
    "# Same code for both ATOM & JUPYTER from now (Run all cells below now)"
   ]
  },
  {
   "cell_type": "code",
   "execution_count": 9,
   "metadata": {},
   "outputs": [
    {
     "name": "stderr",
     "output_type": "stream",
     "text": [
      "Using TensorFlow backend.\n"
     ]
    }
   ],
   "source": [
    "'''\n",
    "Late Fusion Module - Functional API\n",
    "'''\n",
    "\n",
    "# Multiple Inputs\n",
    "import keras\n",
    "from keras.optimizers import RMSprop, adam, Adam\n",
    "from keras.initializers import TruncatedNormal, glorot_normal\n",
    "from keras.utils import plot_model\n",
    "from keras.models import Model\n",
    "from keras.layers import Input\n",
    "from keras.layers import Dense\n",
    "from keras.layers.merge import concatenate\n",
    "from keras import regularizers\n",
    "from keras import backend as K\n",
    "from keras.backend import switch\n",
    "import pandas\n",
    "import numpy\n",
    "import sys\n",
    "import os\n",
    "from copy import deepcopy\n",
    "import tensorflow as tf\n",
    "from keras.utils.generic_utils import get_custom_objects\n",
    "from keras.layers.advanced_activations import ThresholdedReLU\n",
    "\n",
    "keras.backend.clear_session()"
   ]
  },
  {
   "cell_type": "code",
   "execution_count": 10,
   "metadata": {},
   "outputs": [],
   "source": [
    "# Define new Metric: rmse = Root Mean Square Error\n",
    "def rmse(y_true, y_pred):\n",
    "    return K.sqrt(K.mean(K.square( y_true-y_pred )))"
   ]
  },
  {
   "cell_type": "code",
   "execution_count": null,
   "metadata": {},
   "outputs": [],
   "source": []
  },
  {
   "cell_type": "code",
   "execution_count": 11,
   "metadata": {},
   "outputs": [],
   "source": [
    "# Modify for ATOM use"
   ]
  },
  {
   "cell_type": "code",
   "execution_count": 12,
   "metadata": {},
   "outputs": [],
   "source": [
    "if is_Jupyter == True:\n",
    "    pass\n",
    "else:\n",
    "    # Gets the current file name. Useful for procedurally generating output/log files.\n",
    "    file_name =  os.path.basename(sys.argv[0][:-3])"
   ]
  },
  {
   "cell_type": "code",
   "execution_count": null,
   "metadata": {},
   "outputs": [],
   "source": []
  },
  {
   "cell_type": "code",
   "execution_count": 13,
   "metadata": {},
   "outputs": [],
   "source": [
    "# Define neural network parameters\n",
    "batch_size = 10\n",
    "#num_classes = 1\n",
    "epochs = 100"
   ]
  },
  {
   "cell_type": "code",
   "execution_count": 16,
   "metadata": {},
   "outputs": [],
   "source": [
    "# Load Data (which is in HDF5 or .h5 format)\n",
    "store = pandas.HDFStore(\"../unstable_training_gen3_7D_nions0_flat_filter8.h5\")\n",
    "target_df = store['/output/efeETG_GB'].to_frame()  # This one is relatively easy to train\n",
    "input_df = store['input']\n",
    "\n",
    "# Puts inputs and outputs in the same pandas dataframe.\n",
    "# Also only keeps overlapping entries.\n",
    "joined_dataFrame = target_df.join(input_df)\n",
    "\n",
    "# Make a copy of joined_dataFrame for later use\n",
    "joined_dataFrame_original = deepcopy(joined_dataFrame)\n",
    "\n",
    "\n",
    "# *************************************************************************** #\n",
    "# Normalize data by standard deviation and mean-centering the data\n",
    "# Standard configuration\n",
    "joined_dataFrame['efeETG_GB'] = (joined_dataFrame['efeETG_GB'] - joined_dataFrame['efeETG_GB'].mean()) / joined_dataFrame['efeETG_GB'].std()\n",
    "joined_dataFrame['Ati'] = (joined_dataFrame['Ati'] - joined_dataFrame['Ati'].mean()) / joined_dataFrame['Ati'].std()\n",
    "joined_dataFrame['Ate'] = (joined_dataFrame['Ate'] - joined_dataFrame['Ate'].mean()) / joined_dataFrame['Ate'].std()\n",
    "joined_dataFrame['An'] = (joined_dataFrame['An'] - joined_dataFrame['An'].mean()) / joined_dataFrame['An'].std()\n",
    "joined_dataFrame['q'] = (joined_dataFrame['q'] - joined_dataFrame['q'].mean()) / joined_dataFrame['q'].std()\n",
    "joined_dataFrame['smag'] = (joined_dataFrame['smag'] - joined_dataFrame['smag'].mean()) / joined_dataFrame['smag'].std()\n",
    "joined_dataFrame['x'] = (joined_dataFrame['x'] - joined_dataFrame['x'].mean()) / joined_dataFrame['x'].std()\n",
    "joined_dataFrame['Ti_Te'] = (joined_dataFrame['Ti_Te'] - joined_dataFrame['Ti_Te'].mean()) / joined_dataFrame['Ti_Te'].std()\n",
    "\n",
    "# Shuffles dataset\n",
    "shuffled_joined_dataFrame = joined_dataFrame.reindex(numpy.random.permutation(\n",
    "                                                joined_dataFrame.index))\n",
    "\n",
    "# Creates a pandas dataframe for the outputs\n",
    "shuffled_clean_output_df = shuffled_joined_dataFrame['efeETG_GB']\n",
    "\n",
    "# Make a copy of shuffled_joined_dataFrame for later use\n",
    "shuffled_joined_dataFrame_base = deepcopy(shuffled_joined_dataFrame)\n",
    "\n",
    "\n",
    "\n",
    "# *************************************************************************** #\n",
    "# Creates a pandas dataframe for the inputs (7D)\n",
    "shuffled_clean_input_df_7D = shuffled_joined_dataFrame.drop('efeETG_GB', axis=1)\n",
    "\n",
    "# Creates training dataset (90% of total data) for outputs\n",
    "y_train = shuffled_clean_output_df.iloc[:int(\n",
    "    numpy.round(len(shuffled_clean_output_df)*0.9))]\n",
    "\n",
    "# Creates training dataset (90% of total data) for inputs\n",
    "x_train = shuffled_clean_input_df_7D.iloc[:int(\n",
    "    numpy.round(len(shuffled_clean_input_df_7D)*0.9))]\n",
    "\n",
    "# Creates testing dataset (10% of total data) for outputs\n",
    "y_test = shuffled_clean_output_df.iloc[int(\n",
    "    numpy.round(len(shuffled_clean_output_df)*0.9)):]\n",
    "\n",
    "# Creates testing dataset (10% of total data) for inputs\n",
    "x_test = shuffled_clean_input_df_7D.iloc[int(\n",
    "    numpy.round(len(shuffled_clean_input_df_7D)*0.9)):]\n",
    "# *************************************************************************** #\n",
    "\n",
    "\n",
    "# Deletes pandas dataframes that are no longer needed\n",
    "del target_df, input_df\n",
    "\n",
    "# Closes the HDFStore. This is good practice.\n",
    "store.close()\n"
   ]
  },
  {
   "cell_type": "code",
   "execution_count": 17,
   "metadata": {},
   "outputs": [
    {
     "data": {
      "text/html": [
       "<div>\n",
       "<style scoped>\n",
       "    .dataframe tbody tr th:only-of-type {\n",
       "        vertical-align: middle;\n",
       "    }\n",
       "\n",
       "    .dataframe tbody tr th {\n",
       "        vertical-align: top;\n",
       "    }\n",
       "\n",
       "    .dataframe thead th {\n",
       "        text-align: right;\n",
       "    }\n",
       "</style>\n",
       "<table border=\"1\" class=\"dataframe\">\n",
       "  <thead>\n",
       "    <tr style=\"text-align: right;\">\n",
       "      <th></th>\n",
       "      <th>Ati</th>\n",
       "      <th>Ate</th>\n",
       "      <th>An</th>\n",
       "      <th>q</th>\n",
       "      <th>smag</th>\n",
       "      <th>x</th>\n",
       "      <th>Ti_Te</th>\n",
       "    </tr>\n",
       "  </thead>\n",
       "  <tbody>\n",
       "    <tr>\n",
       "      <th>count</th>\n",
       "      <td>6.393280e+05</td>\n",
       "      <td>6.393280e+05</td>\n",
       "      <td>6.393280e+05</td>\n",
       "      <td>6.393280e+05</td>\n",
       "      <td>6.393280e+05</td>\n",
       "      <td>6.393280e+05</td>\n",
       "      <td>6.393280e+05</td>\n",
       "    </tr>\n",
       "    <tr>\n",
       "      <th>mean</th>\n",
       "      <td>1.633424e-12</td>\n",
       "      <td>-6.496300e-13</td>\n",
       "      <td>-4.409594e-14</td>\n",
       "      <td>3.983713e-14</td>\n",
       "      <td>-8.762553e-14</td>\n",
       "      <td>2.687112e-14</td>\n",
       "      <td>5.456717e-14</td>\n",
       "    </tr>\n",
       "    <tr>\n",
       "      <th>std</th>\n",
       "      <td>1.000000e+00</td>\n",
       "      <td>1.000000e+00</td>\n",
       "      <td>1.000000e+00</td>\n",
       "      <td>1.000000e+00</td>\n",
       "      <td>1.000000e+00</td>\n",
       "      <td>1.000000e+00</td>\n",
       "      <td>1.000000e+00</td>\n",
       "    </tr>\n",
       "    <tr>\n",
       "      <th>min</th>\n",
       "      <td>-1.848237e+00</td>\n",
       "      <td>-2.151511e+00</td>\n",
       "      <td>-4.175202e+00</td>\n",
       "      <td>-8.733971e-01</td>\n",
       "      <td>-1.264253e+00</td>\n",
       "      <td>-1.375717e+00</td>\n",
       "      <td>-1.667450e+00</td>\n",
       "    </tr>\n",
       "    <tr>\n",
       "      <th>25%</th>\n",
       "      <td>-6.585430e-01</td>\n",
       "      <td>-6.647545e-01</td>\n",
       "      <td>-6.345777e-01</td>\n",
       "      <td>-6.748652e-01</td>\n",
       "      <td>-3.148231e-01</td>\n",
       "      <td>-9.568879e-01</td>\n",
       "      <td>-9.268335e-01</td>\n",
       "    </tr>\n",
       "    <tr>\n",
       "      <th>50%</th>\n",
       "      <td>-1.486741e-01</td>\n",
       "      <td>-1.691691e-01</td>\n",
       "      <td>-4.447369e-02</td>\n",
       "      <td>-4.385177e-01</td>\n",
       "      <td>-5.588771e-02</td>\n",
       "      <td>-1.192290e-01</td>\n",
       "      <td>-6.771858e-02</td>\n",
       "    </tr>\n",
       "    <tr>\n",
       "      <th>75%</th>\n",
       "      <td>6.161291e-01</td>\n",
       "      <td>4.916113e-01</td>\n",
       "      <td>5.456303e-01</td>\n",
       "      <td>1.523511e-01</td>\n",
       "      <td>4.619831e-01</td>\n",
       "      <td>7.184299e-01</td>\n",
       "      <td>4.210880e-01</td>\n",
       "    </tr>\n",
       "    <tr>\n",
       "      <th>max</th>\n",
       "      <td>2.910539e+00</td>\n",
       "      <td>1.813172e+00</td>\n",
       "      <td>2.315942e+00</td>\n",
       "      <td>2.515826e+00</td>\n",
       "      <td>3.914455e+00</td>\n",
       "      <td>1.765503e+00</td>\n",
       "      <td>1.665323e+00</td>\n",
       "    </tr>\n",
       "  </tbody>\n",
       "</table>\n",
       "</div>"
      ],
      "text/plain": [
       "                Ati           Ate            An             q          smag  \\\n",
       "count  6.393280e+05  6.393280e+05  6.393280e+05  6.393280e+05  6.393280e+05   \n",
       "mean   1.633424e-12 -6.496300e-13 -4.409594e-14  3.983713e-14 -8.762553e-14   \n",
       "std    1.000000e+00  1.000000e+00  1.000000e+00  1.000000e+00  1.000000e+00   \n",
       "min   -1.848237e+00 -2.151511e+00 -4.175202e+00 -8.733971e-01 -1.264253e+00   \n",
       "25%   -6.585430e-01 -6.647545e-01 -6.345777e-01 -6.748652e-01 -3.148231e-01   \n",
       "50%   -1.486741e-01 -1.691691e-01 -4.447369e-02 -4.385177e-01 -5.588771e-02   \n",
       "75%    6.161291e-01  4.916113e-01  5.456303e-01  1.523511e-01  4.619831e-01   \n",
       "max    2.910539e+00  1.813172e+00  2.315942e+00  2.515826e+00  3.914455e+00   \n",
       "\n",
       "                  x         Ti_Te  \n",
       "count  6.393280e+05  6.393280e+05  \n",
       "mean   2.687112e-14  5.456717e-14  \n",
       "std    1.000000e+00  1.000000e+00  \n",
       "min   -1.375717e+00 -1.667450e+00  \n",
       "25%   -9.568879e-01 -9.268335e-01  \n",
       "50%   -1.192290e-01 -6.771858e-02  \n",
       "75%    7.184299e-01  4.210880e-01  \n",
       "max    1.765503e+00  1.665323e+00  "
      ]
     },
     "execution_count": 17,
     "metadata": {},
     "output_type": "execute_result"
    }
   ],
   "source": [
    "shuffled_clean_input_df_7D.describe(include='all')"
   ]
  },
  {
   "cell_type": "code",
   "execution_count": 18,
   "metadata": {},
   "outputs": [],
   "source": [
    "# Creates a pandas dataframe for the inputs\n",
    "shuffled_clean_input_df_1 = shuffled_clean_input_df_7D.drop('Ate', axis=1)"
   ]
  },
  {
   "cell_type": "code",
   "execution_count": 19,
   "metadata": {},
   "outputs": [
    {
     "data": {
      "text/html": [
       "<div>\n",
       "<style scoped>\n",
       "    .dataframe tbody tr th:only-of-type {\n",
       "        vertical-align: middle;\n",
       "    }\n",
       "\n",
       "    .dataframe tbody tr th {\n",
       "        vertical-align: top;\n",
       "    }\n",
       "\n",
       "    .dataframe thead th {\n",
       "        text-align: right;\n",
       "    }\n",
       "</style>\n",
       "<table border=\"1\" class=\"dataframe\">\n",
       "  <thead>\n",
       "    <tr style=\"text-align: right;\">\n",
       "      <th></th>\n",
       "      <th>Ati</th>\n",
       "      <th>An</th>\n",
       "      <th>q</th>\n",
       "      <th>smag</th>\n",
       "      <th>x</th>\n",
       "      <th>Ti_Te</th>\n",
       "    </tr>\n",
       "  </thead>\n",
       "  <tbody>\n",
       "    <tr>\n",
       "      <th>count</th>\n",
       "      <td>6.393280e+05</td>\n",
       "      <td>6.393280e+05</td>\n",
       "      <td>6.393280e+05</td>\n",
       "      <td>6.393280e+05</td>\n",
       "      <td>6.393280e+05</td>\n",
       "      <td>6.393280e+05</td>\n",
       "    </tr>\n",
       "    <tr>\n",
       "      <th>mean</th>\n",
       "      <td>1.633424e-12</td>\n",
       "      <td>-4.409594e-14</td>\n",
       "      <td>3.983713e-14</td>\n",
       "      <td>-8.762553e-14</td>\n",
       "      <td>2.687112e-14</td>\n",
       "      <td>5.456717e-14</td>\n",
       "    </tr>\n",
       "    <tr>\n",
       "      <th>std</th>\n",
       "      <td>1.000000e+00</td>\n",
       "      <td>1.000000e+00</td>\n",
       "      <td>1.000000e+00</td>\n",
       "      <td>1.000000e+00</td>\n",
       "      <td>1.000000e+00</td>\n",
       "      <td>1.000000e+00</td>\n",
       "    </tr>\n",
       "    <tr>\n",
       "      <th>min</th>\n",
       "      <td>-1.848237e+00</td>\n",
       "      <td>-4.175202e+00</td>\n",
       "      <td>-8.733971e-01</td>\n",
       "      <td>-1.264253e+00</td>\n",
       "      <td>-1.375717e+00</td>\n",
       "      <td>-1.667450e+00</td>\n",
       "    </tr>\n",
       "    <tr>\n",
       "      <th>25%</th>\n",
       "      <td>-6.585430e-01</td>\n",
       "      <td>-6.345777e-01</td>\n",
       "      <td>-6.748652e-01</td>\n",
       "      <td>-3.148231e-01</td>\n",
       "      <td>-9.568879e-01</td>\n",
       "      <td>-9.268335e-01</td>\n",
       "    </tr>\n",
       "    <tr>\n",
       "      <th>50%</th>\n",
       "      <td>-1.486741e-01</td>\n",
       "      <td>-4.447369e-02</td>\n",
       "      <td>-4.385177e-01</td>\n",
       "      <td>-5.588771e-02</td>\n",
       "      <td>-1.192290e-01</td>\n",
       "      <td>-6.771858e-02</td>\n",
       "    </tr>\n",
       "    <tr>\n",
       "      <th>75%</th>\n",
       "      <td>6.161291e-01</td>\n",
       "      <td>5.456303e-01</td>\n",
       "      <td>1.523511e-01</td>\n",
       "      <td>4.619831e-01</td>\n",
       "      <td>7.184299e-01</td>\n",
       "      <td>4.210880e-01</td>\n",
       "    </tr>\n",
       "    <tr>\n",
       "      <th>max</th>\n",
       "      <td>2.910539e+00</td>\n",
       "      <td>2.315942e+00</td>\n",
       "      <td>2.515826e+00</td>\n",
       "      <td>3.914455e+00</td>\n",
       "      <td>1.765503e+00</td>\n",
       "      <td>1.665323e+00</td>\n",
       "    </tr>\n",
       "  </tbody>\n",
       "</table>\n",
       "</div>"
      ],
      "text/plain": [
       "                Ati            An             q          smag             x  \\\n",
       "count  6.393280e+05  6.393280e+05  6.393280e+05  6.393280e+05  6.393280e+05   \n",
       "mean   1.633424e-12 -4.409594e-14  3.983713e-14 -8.762553e-14  2.687112e-14   \n",
       "std    1.000000e+00  1.000000e+00  1.000000e+00  1.000000e+00  1.000000e+00   \n",
       "min   -1.848237e+00 -4.175202e+00 -8.733971e-01 -1.264253e+00 -1.375717e+00   \n",
       "25%   -6.585430e-01 -6.345777e-01 -6.748652e-01 -3.148231e-01 -9.568879e-01   \n",
       "50%   -1.486741e-01 -4.447369e-02 -4.385177e-01 -5.588771e-02 -1.192290e-01   \n",
       "75%    6.161291e-01  5.456303e-01  1.523511e-01  4.619831e-01  7.184299e-01   \n",
       "max    2.910539e+00  2.315942e+00  2.515826e+00  3.914455e+00  1.765503e+00   \n",
       "\n",
       "              Ti_Te  \n",
       "count  6.393280e+05  \n",
       "mean   5.456717e-14  \n",
       "std    1.000000e+00  \n",
       "min   -1.667450e+00  \n",
       "25%   -9.268335e-01  \n",
       "50%   -6.771858e-02  \n",
       "75%    4.210880e-01  \n",
       "max    1.665323e+00  "
      ]
     },
     "execution_count": 19,
     "metadata": {},
     "output_type": "execute_result"
    }
   ],
   "source": [
    "shuffled_clean_input_df_1.describe(include='all')"
   ]
  },
  {
   "cell_type": "code",
   "execution_count": 20,
   "metadata": {},
   "outputs": [
    {
     "name": "stdout",
     "output_type": "stream",
     "text": [
      "(639328, 6)\n"
     ]
    }
   ],
   "source": [
    "print(shuffled_clean_input_df_1.shape)"
   ]
  },
  {
   "cell_type": "code",
   "execution_count": 22,
   "metadata": {},
   "outputs": [],
   "source": [
    "shuffled_clean_input_df_2 = shuffled_clean_input_df_7D.drop('Ati', axis=1)\n",
    "shuffled_clean_input_df_2 = shuffled_clean_input_df_2.drop('An', axis=1)\n",
    "shuffled_clean_input_df_2 = shuffled_clean_input_df_2.drop('q', axis=1)\n",
    "shuffled_clean_input_df_2 = shuffled_clean_input_df_2.drop('smag', axis=1)\n",
    "shuffled_clean_input_df_2 = shuffled_clean_input_df_2.drop('x', axis=1)\n",
    "shuffled_clean_input_df_2 = shuffled_clean_input_df_2.drop('Ti_Te', axis=1)"
   ]
  },
  {
   "cell_type": "code",
   "execution_count": 23,
   "metadata": {},
   "outputs": [
    {
     "data": {
      "text/html": [
       "<div>\n",
       "<style scoped>\n",
       "    .dataframe tbody tr th:only-of-type {\n",
       "        vertical-align: middle;\n",
       "    }\n",
       "\n",
       "    .dataframe tbody tr th {\n",
       "        vertical-align: top;\n",
       "    }\n",
       "\n",
       "    .dataframe thead th {\n",
       "        text-align: right;\n",
       "    }\n",
       "</style>\n",
       "<table border=\"1\" class=\"dataframe\">\n",
       "  <thead>\n",
       "    <tr style=\"text-align: right;\">\n",
       "      <th></th>\n",
       "      <th>Ate</th>\n",
       "    </tr>\n",
       "  </thead>\n",
       "  <tbody>\n",
       "    <tr>\n",
       "      <th>count</th>\n",
       "      <td>6.393280e+05</td>\n",
       "    </tr>\n",
       "    <tr>\n",
       "      <th>mean</th>\n",
       "      <td>-6.496300e-13</td>\n",
       "    </tr>\n",
       "    <tr>\n",
       "      <th>std</th>\n",
       "      <td>1.000000e+00</td>\n",
       "    </tr>\n",
       "    <tr>\n",
       "      <th>min</th>\n",
       "      <td>-2.151511e+00</td>\n",
       "    </tr>\n",
       "    <tr>\n",
       "      <th>25%</th>\n",
       "      <td>-6.647545e-01</td>\n",
       "    </tr>\n",
       "    <tr>\n",
       "      <th>50%</th>\n",
       "      <td>-1.691691e-01</td>\n",
       "    </tr>\n",
       "    <tr>\n",
       "      <th>75%</th>\n",
       "      <td>4.916113e-01</td>\n",
       "    </tr>\n",
       "    <tr>\n",
       "      <th>max</th>\n",
       "      <td>1.813172e+00</td>\n",
       "    </tr>\n",
       "  </tbody>\n",
       "</table>\n",
       "</div>"
      ],
      "text/plain": [
       "                Ate\n",
       "count  6.393280e+05\n",
       "mean  -6.496300e-13\n",
       "std    1.000000e+00\n",
       "min   -2.151511e+00\n",
       "25%   -6.647545e-01\n",
       "50%   -1.691691e-01\n",
       "75%    4.916113e-01\n",
       "max    1.813172e+00"
      ]
     },
     "execution_count": 23,
     "metadata": {},
     "output_type": "execute_result"
    }
   ],
   "source": [
    "shuffled_clean_input_df_2.describe(include='all')"
   ]
  },
  {
   "cell_type": "code",
   "execution_count": 24,
   "metadata": {},
   "outputs": [
    {
     "name": "stdout",
     "output_type": "stream",
     "text": [
      "(639328, 1)\n"
     ]
    }
   ],
   "source": [
    "print(shuffled_clean_input_df_2.shape)"
   ]
  },
  {
   "cell_type": "code",
   "execution_count": 25,
   "metadata": {},
   "outputs": [],
   "source": [
    "# *************************************************************************** #\n",
    "# Branch 1\n",
    "\n",
    "# Creates training dataset (90% of total data) for inputs\n",
    "x_train_1 = shuffled_clean_input_df_1.iloc[:int(\n",
    "    numpy.round(len(shuffled_clean_input_df_1)*0.9))]\n",
    "\n",
    "# Creates testing dataset (10% of total data) for inputs\n",
    "x_test_1 = shuffled_clean_input_df_1.iloc[int(\n",
    "    numpy.round(len(shuffled_clean_input_df_1)*0.9)):]\n",
    "# *************************************************************************** #"
   ]
  },
  {
   "cell_type": "code",
   "execution_count": 26,
   "metadata": {},
   "outputs": [],
   "source": [
    "# *************************************************************************** #\n",
    "# Branch 2\n",
    "\n",
    "# Creates training dataset (90% of total data) for inputs\n",
    "x_train_2 = shuffled_clean_input_df_2.iloc[:int(\n",
    "    numpy.round(len(shuffled_clean_input_df_2)*0.9))]\n",
    "\n",
    "# Creates testing dataset (10% of total data) for inputs\n",
    "x_test_2 = shuffled_clean_input_df_2.iloc[int(\n",
    "    numpy.round(len(shuffled_clean_input_df_2)*0.9)):]\n",
    "# *************************************************************************** #"
   ]
  },
  {
   "cell_type": "markdown",
   "metadata": {},
   "source": [
    "# Load Model"
   ]
  },
  {
   "cell_type": "code",
   "execution_count": 28,
   "metadata": {},
   "outputs": [],
   "source": [
    "from keras.models import load_model"
   ]
  },
  {
   "cell_type": "code",
   "execution_count": 29,
   "metadata": {},
   "outputs": [],
   "source": [
    "new_model = load_model('../Saved-Networks/2018-10-11_Run0120.h5', custom_objects={'rmse': rmse})"
   ]
  },
  {
   "cell_type": "markdown",
   "metadata": {},
   "source": [
    "#### Model information"
   ]
  },
  {
   "cell_type": "code",
   "execution_count": 30,
   "metadata": {},
   "outputs": [
    {
     "name": "stdout",
     "output_type": "stream",
     "text": [
      "__________________________________________________________________________________________________\n",
      "Layer (type)                    Output Shape         Param #     Connected to                     \n",
      "==================================================================================================\n",
      "input_1 (InputLayer)            (None, 6)            0                                            \n",
      "__________________________________________________________________________________________________\n",
      "input_2 (InputLayer)            (None, 1)            0                                            \n",
      "__________________________________________________________________________________________________\n",
      "dense_1 (Dense)                 (None, 30)           210         input_1[0][0]                    \n",
      "__________________________________________________________________________________________________\n",
      "dense_3 (Dense)                 (None, 1)            2           input_2[0][0]                    \n",
      "__________________________________________________________________________________________________\n",
      "dense_2 (Dense)                 (None, 30)           930         dense_1[0][0]                    \n",
      "__________________________________________________________________________________________________\n",
      "thresholded_re_lu_1 (Thresholde (None, 1)            0           dense_3[0][0]                    \n",
      "__________________________________________________________________________________________________\n",
      "concatenate_1 (Concatenate)     (None, 31)           0           dense_2[0][0]                    \n",
      "                                                                 thresholded_re_lu_1[0][0]        \n",
      "__________________________________________________________________________________________________\n",
      "dense_4 (Dense)                 (None, 1)            32          concatenate_1[0][0]              \n",
      "==================================================================================================\n",
      "Total params: 1,174\n",
      "Trainable params: 1,174\n",
      "Non-trainable params: 0\n",
      "__________________________________________________________________________________________________\n"
     ]
    }
   ],
   "source": [
    "new_model.summary()"
   ]
  },
  {
   "cell_type": "code",
   "execution_count": 31,
   "metadata": {},
   "outputs": [
    {
     "data": {
      "text/plain": [
       "[array([[ 3.45685729e-03, -5.87715767e-02,  1.78300485e-01,\n",
       "         -6.89708665e-02,  3.10570095e-03,  7.90777151e-03,\n",
       "         -2.84755584e-02, -2.38310788e-02,  1.37403291e-02,\n",
       "          4.63748686e-02, -2.36597024e-02, -1.17655685e-02,\n",
       "          1.04258783e-01,  7.48588622e-01,  1.00204319e-01,\n",
       "         -1.27427438e-02, -5.53744175e-02,  1.55130655e-01,\n",
       "          2.73732208e-02,  9.61638391e-02,  8.31748471e-02,\n",
       "          8.86699036e-02,  5.41229285e-02,  7.09316730e-02,\n",
       "         -1.25424579e-01, -5.51965460e-03, -4.16661566e-03,\n",
       "          7.98394904e-02,  8.37068141e-01,  2.59395689e-02],\n",
       "        [-1.67485192e-01,  9.46018770e-02, -1.77641928e+00,\n",
       "          3.18838716e-01, -1.16042995e+00, -1.20091485e-02,\n",
       "          8.53299052e-02,  3.20055902e-01,  1.03346610e+00,\n",
       "          1.07638943e+00, -1.29020423e-01, -1.33841664e-01,\n",
       "          1.93117425e-01, -2.04519734e-01, -1.31237924e-01,\n",
       "         -9.53234494e-01, -4.70576495e-01, -7.44185865e-01,\n",
       "          3.10212057e-02, -7.64589012e-01, -4.09029186e-01,\n",
       "          1.01078534e+00,  1.34888664e-01,  2.37843841e-01,\n",
       "         -8.03609729e-01,  9.14249104e-03,  5.79373240e-02,\n",
       "         -3.59754890e-01,  2.92601883e-01,  3.19525152e-01],\n",
       "        [ 3.47532123e-01,  5.02834022e-01, -4.30180170e-02,\n",
       "          5.43958358e-02,  7.57057359e-03,  1.49978315e-02,\n",
       "          8.45337287e-02,  3.87589604e-01, -1.09505869e-01,\n",
       "          6.01813234e-02, -1.08683750e-01,  1.02949411e-01,\n",
       "          5.15564561e-01, -1.37086198e-01,  1.24780595e+00,\n",
       "         -2.33811662e-01,  9.39063728e-02,  1.08167209e-01,\n",
       "          4.55674790e-02,  4.79728907e-01, -2.85551459e-01,\n",
       "          5.20357303e-02, -1.35978746e+00, -8.23680237e-02,\n",
       "          6.69346564e-03,  1.75905764e+00, -3.46294594e+00,\n",
       "         -4.88187261e-02, -5.23479655e-02,  1.59340024e-01],\n",
       "        [ 2.47208095e+00,  3.37518096e-01,  6.31583393e-01,\n",
       "          8.34115028e-01,  2.81421602e-01,  2.78790318e-03,\n",
       "          3.10689267e-02, -1.03979290e+00,  2.66050190e-01,\n",
       "          7.01382011e-02,  2.32349706e+00, -9.99445319e-01,\n",
       "         -1.93516329e-01, -2.86165655e-01,  2.94835150e-01,\n",
       "          5.37839234e-01, -1.27170670e+00,  1.29138410e+00,\n",
       "         -1.94775350e-02,  2.55258113e-01, -1.50373447e+00,\n",
       "          4.63792533e-01,  3.01709175e-01,  5.84037900e-01,\n",
       "          1.03644228e+00, -3.67395394e-02,  8.13083872e-02,\n",
       "          1.06834328e+00, -1.79236859e-01, -9.36750993e-02],\n",
       "        [-2.01273084e-01,  8.41090977e-01,  9.42912027e-02,\n",
       "         -4.06624317e-01, -2.98661143e-01,  1.43520692e-02,\n",
       "          1.11701898e-01,  5.09945095e-01,  9.44950879e-02,\n",
       "          3.60383131e-02,  3.31062853e-01,  2.62469441e-01,\n",
       "         -7.22510338e-01,  1.80499730e-04, -3.10414974e-02,\n",
       "          2.25000098e-01, -4.82259125e-01, -3.96182507e-01,\n",
       "          5.08462302e-02, -5.01217663e-01, -8.99187401e-02,\n",
       "         -5.34050643e-01, -3.08805913e-01, -2.00487047e-01,\n",
       "         -3.15248579e-01, -4.71091837e-01, -4.59549576e-02,\n",
       "          4.98929292e-01,  1.24170929e-01, -1.75064969e+00],\n",
       "        [-5.18040322e-02,  1.29172727e-01,  4.93515581e-01,\n",
       "         -4.72398639e-01, -4.19482172e-01,  1.25677616e-03,\n",
       "         -1.41170621e+00,  1.91025436e-01, -4.08404946e-01,\n",
       "          6.30868077e-01,  1.25110492e-01,  9.83620822e-01,\n",
       "          1.14881106e-01,  5.42005636e-02,  5.63915312e-01,\n",
       "          4.06020522e-01, -2.93858498e-01,  4.01260734e-01,\n",
       "         -2.52793336e+00,  5.62030733e-01,  3.90693285e-02,\n",
       "         -4.71674711e-01, -9.14620981e-02,  2.17881605e-01,\n",
       "         -3.46921593e-01, -5.24019264e-02,  6.97569102e-02,\n",
       "          1.90911025e-01, -5.34043610e-01, -1.53446058e-02]], dtype=float32),\n",
       " array([ 0.46152556, -0.13150099, -1.8242751 , -0.47352734,  2.1207776 ,\n",
       "        -0.00506767, -1.0835855 ,  1.6933293 , -0.5617878 , -0.07599472,\n",
       "         1.5705951 ,  2.2117162 , -0.29317716,  0.6522278 ,  0.8901411 ,\n",
       "        -2.290506  , -1.127007  , -0.6031136 , -3.6543355 , -1.7201391 ,\n",
       "         0.11827848,  0.7760299 , -0.7923444 , -0.9077823 , -0.42461073,\n",
       "         0.6092124 , -2.7773192 , -0.20708154,  0.1408146 , -2.212116  ],\n",
       "       dtype=float32),\n",
       " array([[1.3092109]], dtype=float32),\n",
       " array([2.150882], dtype=float32),\n",
       " array([[ 4.83372947e-04, -1.92721382e-01,  7.59988606e-01,\n",
       "         -4.78839618e-04,  5.00466500e-04,  2.01046001e-04,\n",
       "         -4.53015000e-01, -2.41918737e-04,  1.13498151e+00,\n",
       "         -6.12488508e-01, -7.47541487e-02,  1.31265163e-01,\n",
       "          1.09140221e-02,  4.28642571e-01,  2.63963797e-04,\n",
       "          2.93674946e-01,  1.03045879e-02, -4.33352077e-03,\n",
       "          3.07021141e-02,  2.36333493e-04, -1.88439299e-06,\n",
       "         -8.65651071e-02, -4.86444503e-01,  1.16788411e+00,\n",
       "         -8.67565036e-01, -7.50448525e-01,  7.04791695e-02,\n",
       "         -6.16005778e-01,  6.53395802e-02, -5.42478085e-01],\n",
       "        [ 1.25784412e-04, -3.69843066e-01, -6.38956785e-01,\n",
       "         -3.71975038e-05,  1.70063227e-04,  3.21321248e-04,\n",
       "          8.59052241e-02, -1.99328060e-04,  2.85230309e-01,\n",
       "         -2.61273056e-01, -4.35670465e-01,  2.49617517e-01,\n",
       "         -2.58766338e-02, -2.12868899e-02,  1.61235090e-04,\n",
       "         -2.79630274e-01, -2.67756879e-01,  3.54100391e-02,\n",
       "         -2.05321059e-01,  7.90054037e-06, -2.36350068e-04,\n",
       "          1.70878530e-01,  3.11798602e-01,  1.67307809e-01,\n",
       "         -8.38806201e-03,  1.16219059e-01,  4.36309069e-01,\n",
       "          2.99229324e-01,  5.30042388e-02, -3.00028414e-01],\n",
       "        [ 3.72224225e-04, -1.03590810e+00,  9.61418569e-01,\n",
       "         -3.54736112e-04,  4.35262889e-04,  4.82710195e-04,\n",
       "         -5.08785546e-01, -4.83272306e-04,  2.03399912e-01,\n",
       "          1.53660893e-01,  3.89547423e-02,  4.22540665e-01,\n",
       "         -1.01542948e-02, -1.55639723e-01,  2.81475310e-04,\n",
       "          8.07510674e-01,  8.37206304e-01,  3.71480547e-02,\n",
       "          6.06410764e-02,  5.34814724e-04, -5.27095399e-04,\n",
       "          3.15054134e-02, -3.75886597e-02, -2.69288987e-01,\n",
       "          8.05175304e-02,  1.16466701e-01,  4.09384370e-01,\n",
       "          1.52342021e-02,  2.31169283e-01, -1.45580009e-01],\n",
       "        [ 1.17736796e-04,  1.02040939e-01,  3.52434069e-01,\n",
       "         -2.09728008e-04,  1.81767740e-04,  3.28675291e-04,\n",
       "          5.32973707e-01, -1.56725058e-04,  3.14420193e-01,\n",
       "          5.44648170e-01,  1.66250274e-01, -5.61544776e-01,\n",
       "         -5.77251543e-04,  4.89251390e-02,  1.57755494e-04,\n",
       "         -9.33903456e-01, -3.24292272e-01, -1.37562351e-02,\n",
       "          7.58587644e-02,  1.93655200e-04, -2.00167138e-04,\n",
       "         -1.50768742e-01, -4.97163683e-01, -1.77123427e-01,\n",
       "          5.43370724e-01, -2.00909287e-01, -5.10925770e-01,\n",
       "          1.92284614e-01, -3.77730548e-01,  4.88381833e-02],\n",
       "        [ 4.08880471e-04,  1.80631593e-01,  5.62839329e-01,\n",
       "         -4.68283426e-04,  5.05124102e-04, -3.15451325e-05,\n",
       "         -6.07176982e-02, -2.09836478e-04,  2.84919858e-01,\n",
       "         -9.88867804e-02,  3.37591499e-01,  4.64369476e-01,\n",
       "         -1.47294383e-02, -2.43526027e-01,  1.44067555e-04,\n",
       "         -5.40528819e-03, -9.83076751e-01,  1.63705181e-02,\n",
       "          2.55697429e-01,  2.72464444e-04, -9.26739449e-05,\n",
       "         -5.48247108e-03, -1.39659405e+00,  6.48954928e-01,\n",
       "         -8.08667541e-02, -2.35413406e-02,  2.08817452e-01,\n",
       "          1.99682102e-01, -7.98291638e-02,  5.87493360e-01],\n",
       "        [ 8.01037386e-05, -4.31197919e-02, -3.09818424e-02,\n",
       "         -8.68470597e-05,  1.01302910e-04,  6.36441109e-05,\n",
       "          6.33989554e-03, -7.93877043e-05,  1.48091791e-02,\n",
       "         -1.51482411e-02, -8.94791447e-03,  6.58861268e-03,\n",
       "          4.59721796e-02,  1.91981830e-02,  5.61645902e-05,\n",
       "          1.33619979e-02, -4.76712547e-03, -5.70822656e-02,\n",
       "          3.64637114e-02,  6.76924828e-05, -8.04629308e-05,\n",
       "         -1.33837480e-02,  4.17181663e-03,  1.94614753e-02,\n",
       "         -6.89217728e-03,  6.09182194e-03,  1.14376182e-02,\n",
       "         -7.22579286e-03,  9.16308723e-03, -1.80013396e-03],\n",
       "        [-3.78244033e-04,  7.04630136e-01,  1.02506526e-01,\n",
       "          3.16946913e-04, -4.25623322e-04,  4.87509678e-05,\n",
       "         -4.86297935e-01,  1.96513138e-04,  1.14342071e-01,\n",
       "          3.65281701e-01,  2.03507930e-01, -5.09402514e-01,\n",
       "         -1.61164757e-02, -5.97881973e-01, -1.98663343e-04,\n",
       "         -4.13259476e-01,  2.19585225e-02,  4.04191986e-02,\n",
       "         -8.46140310e-02, -1.40278076e-04, -1.16384377e-04,\n",
       "         -7.79507384e-02, -5.12946844e-01,  9.77613777e-02,\n",
       "          6.09335661e-01, -3.65474910e-01, -8.86575654e-02,\n",
       "         -6.92164600e-01, -7.49852955e-01,  3.01153250e-02],\n",
       "        [ 1.80163886e-04, -1.47107974e-01, -4.40033764e-01,\n",
       "         -1.01280923e-04,  1.15352217e-04, -2.00596813e-04,\n",
       "         -3.45074773e-01, -4.48361679e-05, -6.75831497e-01,\n",
       "         -1.06093681e+00, -1.19610034e-01, -1.55403838e-01,\n",
       "          1.42052779e-02,  5.74705780e-01,  1.35241309e-04,\n",
       "         -8.44292492e-02,  2.80457109e-01, -2.21542530e-02,\n",
       "         -6.97427630e-01, -2.43948889e-05,  1.40895077e-04,\n",
       "         -4.36320841e-01, -1.13743097e-01,  4.26539183e-01,\n",
       "         -3.35625947e-01, -7.34617934e-02,  4.80925262e-01,\n",
       "         -5.22675551e-02, -3.50581929e-02,  7.60072231e-01],\n",
       "        [-2.09656573e-04, -1.03443086e+00,  4.79435354e-01,\n",
       "          2.03998017e-04, -2.51220103e-04,  1.60458017e-04,\n",
       "         -4.80415106e-01,  3.95375973e-05,  5.69693483e-02,\n",
       "          1.13708332e-01,  3.22807133e-02, -2.61176914e-01,\n",
       "          3.61431092e-02,  2.34593868e-01,  1.53083412e-04,\n",
       "         -4.18496788e-01,  2.28149533e-01, -3.79591249e-02,\n",
       "         -1.14056572e-01, -1.21416022e-04, -3.98132324e-05,\n",
       "          5.84593974e-02,  3.40535104e-01, -6.59339547e-01,\n",
       "         -2.45591089e-01,  9.39571187e-02,  4.17914450e-01,\n",
       "         -5.68835080e-01, -3.00214458e-02, -7.74609670e-02],\n",
       "        [-2.77424901e-04,  3.87712300e-01, -8.27522390e-03,\n",
       "          2.49545556e-04, -2.56722211e-04, -1.46464881e-05,\n",
       "          4.22874451e-01,  2.31154001e-04,  3.37306745e-02,\n",
       "          9.61465836e-02, -1.09360297e-03, -1.73513517e-02,\n",
       "         -1.78686660e-02, -1.61913976e-01,  7.65341829e-05,\n",
       "         -5.14739871e-01, -4.29343522e-01,  3.86751108e-02,\n",
       "         -5.31451367e-02, -4.00340883e-04,  3.26780020e-04,\n",
       "         -2.50986099e-01, -3.64680171e-01, -6.20793760e-01,\n",
       "          1.88454941e-01,  9.88638625e-02, -2.18087286e-01,\n",
       "          4.50847030e-01, -8.02516267e-02, -5.96979558e-02],\n",
       "        [ 7.57449598e-04, -1.11014843e-01,  5.10207564e-02,\n",
       "         -7.29046937e-04,  7.84189673e-04,  2.51810008e-04,\n",
       "          6.13849200e-02, -3.84232757e-04,  1.03452075e+00,\n",
       "         -1.20350111e+00, -7.70731270e-03, -2.99253374e-01,\n",
       "          3.14043695e-03,  3.94171298e-01,  5.39365108e-04,\n",
       "         -1.20563872e-01, -1.17453909e+00, -5.14254160e-03,\n",
       "         -5.35980284e-01,  3.45327746e-04, -9.40233294e-05,\n",
       "         -8.65540430e-02, -1.39795482e+00, -1.29881775e+00,\n",
       "          3.21490884e-01, -7.94621646e-01,  5.24791181e-01,\n",
       "         -4.13216531e-01,  4.29378420e-01, -5.17532706e-01],\n",
       "        [ 2.57967768e-04,  6.63064897e-01, -3.45526010e-01,\n",
       "         -1.93455227e-04,  1.87021709e-04, -2.16970278e-04,\n",
       "          3.02169383e-01, -5.32410631e-05, -2.65853405e-01,\n",
       "          2.96783656e-01, -1.82483327e-02,  2.27358699e-01,\n",
       "          3.35679413e-03,  1.09422553e+00,  1.88429898e-04,\n",
       "          4.88801867e-01, -6.63324445e-02,  1.61040947e-02,\n",
       "         -1.08723283e-01,  3.16574005e-05,  1.22854413e-04,\n",
       "         -4.58733648e-01,  2.28976339e-01,  4.61255401e-01,\n",
       "         -3.36689591e-01, -7.51990899e-02, -1.42587334e-01,\n",
       "         -1.62079781e-01,  5.53553104e-01,  8.24390829e-01],\n",
       "        [ 3.99929064e-04, -3.88136268e-01, -3.45642469e-03,\n",
       "         -5.23632858e-04,  5.01016970e-04,  4.25535894e-04,\n",
       "          2.57860690e-01, -4.48024191e-04, -4.33948576e-01,\n",
       "         -1.79183781e-01,  3.91402900e-01, -1.08052380e-01,\n",
       "          2.37427633e-02,  2.54539669e-01,  3.79060220e-04,\n",
       "         -1.15205772e-01,  2.07790792e-01,  4.26842365e-03,\n",
       "         -4.42682728e-02,  5.64812974e-04, -3.07943090e-04,\n",
       "          2.82842457e-01,  5.19806556e-02, -3.06788564e-01,\n",
       "         -4.13956523e-01,  3.28954577e-01,  1.05699360e-01,\n",
       "          2.81399786e-01,  2.09893584e-01,  1.37576625e-01],\n",
       "        [-3.51692317e-04,  4.65710282e-01, -5.02709627e-01,\n",
       "          4.14283189e-04, -5.06956363e-04, -4.87138284e-04,\n",
       "         -7.72713646e-02,  4.64932644e-04, -1.70172960e-01,\n",
       "         -7.48815238e-02,  2.54326463e-01,  1.19193256e-01,\n",
       "         -6.30099140e-03,  4.68373820e-02, -3.22746346e-04,\n",
       "          2.03318343e-01,  7.26669282e-02,  2.44878642e-02,\n",
       "          1.69653058e-01, -3.49856913e-04,  4.70231083e-04,\n",
       "          2.73413323e-02,  3.93185079e-01,  1.87196285e-02,\n",
       "          7.70451203e-02, -6.13044500e-02, -7.05306372e-03,\n",
       "          7.04624057e-02,  2.22416278e-02,  3.79323900e-01],\n",
       "        [ 6.75188785e-04, -4.29298520e-01,  1.41332984e-01,\n",
       "         -7.08250096e-04,  8.61291133e-04,  4.16799507e-04,\n",
       "          8.50501582e-02, -6.05353503e-04,  2.16462761e-01,\n",
       "         -5.05847216e-01, -4.70528640e-02,  6.82366937e-02,\n",
       "          2.89703254e-03, -1.64603516e-01,  5.02163952e-04,\n",
       "          1.46331489e-01,  2.27443174e-01,  2.42727958e-02,\n",
       "         -3.04889113e-01,  3.98387754e-04, -2.95873935e-04,\n",
       "          1.19554907e-01, -3.50895301e-02,  3.15949976e-01,\n",
       "         -3.03473603e-02,  4.55472678e-01, -3.54534209e-01,\n",
       "          3.81915718e-01,  1.84094042e-01, -9.85285759e-01],\n",
       "        [-4.31308988e-04, -6.27817929e-01,  2.92095989e-01,\n",
       "          4.33735579e-04, -4.43615834e-04, -2.47106946e-05,\n",
       "         -1.04978979e-01,  2.45113537e-04, -1.50538296e-01,\n",
       "          6.56743944e-01, -2.96780597e-02,  1.30562201e-01,\n",
       "         -1.82678048e-02,  3.11199874e-01, -2.39104789e-04,\n",
       "          2.36075535e-01,  3.26584160e-01,  1.65986437e-02,\n",
       "         -9.35906470e-02, -1.74857705e-04,  6.24575187e-05,\n",
       "          8.74419272e-01,  2.77357221e-01,  1.84047967e-02,\n",
       "         -1.22788914e-01, -3.47818504e-03,  2.85338908e-01,\n",
       "         -1.39289409e-01,  3.28479916e-01, -2.24064574e-01],\n",
       "        [-5.09879144e-04,  1.93647012e-01, -2.62448996e-01,\n",
       "          4.27945110e-04, -5.12148603e-04, -1.27579624e-04,\n",
       "         -4.26430762e-01,  2.22453280e-04, -7.50600517e-01,\n",
       "         -7.24452287e-02,  2.94517547e-01,  2.02996701e-01,\n",
       "         -3.46802287e-02, -1.34031132e-01, -3.69679881e-04,\n",
       "          1.69184685e-01,  5.22250116e-01,  3.21747176e-02,\n",
       "         -2.69405954e-02, -5.42904309e-05, -6.90726156e-05,\n",
       "          2.44285822e-01,  9.80256259e-01,  4.47646260e-01,\n",
       "         -4.27276455e-02, -1.81018889e-01, -4.86381561e-01,\n",
       "          1.93382025e-01,  4.07855026e-02,  3.63584191e-01],\n",
       "        [ 5.13199077e-04, -4.82114881e-01,  5.18395364e-01,\n",
       "         -5.73215075e-04,  6.29663293e-04,  5.56869432e-04,\n",
       "         -5.91682434e-01, -5.20426023e-04,  4.37412500e-01,\n",
       "          2.94215798e-01,  3.54478985e-01,  2.95935839e-01,\n",
       "          2.87495367e-02,  1.13685295e-01,  3.38336220e-04,\n",
       "          2.64625132e-01, -3.68412375e-01, -1.33452648e-02,\n",
       "         -1.19672388e-01,  4.91808809e-04, -4.41859243e-04,\n",
       "          3.53636295e-01,  1.17398761e-01,  6.12585008e-01,\n",
       "         -4.11387272e-02, -4.17015493e-01, -5.37580192e-01,\n",
       "         -5.46486855e-01, -4.80047166e-01, -1.06213681e-01],\n",
       "        [-5.08898811e-04,  4.94973481e-01,  7.64676109e-02,\n",
       "          5.03881136e-04, -5.50784694e-04, -2.78531807e-05,\n",
       "         -4.17279661e-01,  3.52304807e-04,  1.76323637e-01,\n",
       "          4.59299609e-02,  4.16945256e-02, -3.90811682e-01,\n",
       "         -2.24843863e-02, -1.64949059e+00, -2.87190196e-04,\n",
       "         -1.41209990e-01,  3.27817023e-01,  3.47426273e-02,\n",
       "         -1.44968837e-01, -2.74575839e-04,  1.03184706e-04,\n",
       "         -8.35782290e-01, -1.85556501e-01, -8.06245878e-02,\n",
       "          8.25011075e-01, -6.32246971e-01, -3.87229547e-02,\n",
       "         -1.17561623e-01, -9.00555253e-01, -4.70794022e-01],\n",
       "        [ 1.56059759e-04, -9.60281268e-02, -2.56312132e-01,\n",
       "         -1.82392134e-04,  2.70419958e-04,  4.52214736e-04,\n",
       "         -3.81124318e-01, -3.00454558e-04, -1.27479762e-01,\n",
       "         -4.07181621e-01,  1.53224379e-01,  2.28292450e-01,\n",
       "         -3.63680273e-02, -1.16377153e-01,  1.99915579e-04,\n",
       "          5.69880784e-01,  3.49302202e-01,  3.03183887e-02,\n",
       "          3.81114371e-02,  3.82872415e-04, -3.76417360e-04,\n",
       "          1.92703217e-01,  3.34144086e-01, -6.77510440e-01,\n",
       "         -3.37428331e-01, -1.14714667e-01,  2.17417371e-03,\n",
       "          3.63376707e-01, -5.34800962e-02,  4.05863225e-01],\n",
       "        [-2.55308987e-04,  2.68039644e-01, -6.15398765e-01,\n",
       "          2.51870253e-04, -2.98688217e-04, -3.15399171e-04,\n",
       "         -3.76764119e-01,  2.01029281e-04, -8.43428373e-01,\n",
       "         -3.43559444e-01, -6.36022538e-02,  3.34181398e-01,\n",
       "          4.97428467e-03,  2.76685059e-01, -1.94617736e-04,\n",
       "         -2.65148669e-01, -1.00303181e-01, -2.32455116e-02,\n",
       "          5.86936399e-02, -1.64670812e-04,  1.27507345e-04,\n",
       "         -2.62108713e-01,  4.19877321e-01, -4.20420259e-01,\n",
       "         -5.31244695e-01,  6.90943837e-01,  4.79168862e-01,\n",
       "          9.39276516e-02,  1.82909757e-01,  5.26242793e-01],\n",
       "        [-1.11692250e-04,  1.43461525e-01, -5.66408262e-02,\n",
       "          6.76493801e-06, -1.37246447e-04, -2.30962207e-04,\n",
       "          3.48243594e-01,  2.49758858e-04,  3.82433273e-02,\n",
       "         -2.51187235e-01,  2.47012481e-01, -4.60084170e-01,\n",
       "          3.08095422e-02, -1.37588561e-01, -1.46206788e-04,\n",
       "         -2.72439480e-01, -1.45504668e-01, -5.85458092e-02,\n",
       "         -5.85412383e-02, -2.03970500e-04,  3.11299867e-04,\n",
       "         -9.00609612e-01, -3.43822300e-01, -4.41515982e-01,\n",
       "          3.81453127e-01, -4.18749511e-01, -6.69822633e-01,\n",
       "         -4.32756543e-02, -8.09409320e-02,  1.02193780e-01],\n",
       "        [-5.98846644e-04,  4.27780032e-01,  1.04017399e-01,\n",
       "          6.05042966e-04, -8.03324394e-04, -4.25712904e-04,\n",
       "         -1.61553621e-01,  6.34976604e-04,  2.89248794e-01,\n",
       "          4.29693848e-01,  1.03197321e-01, -3.27359766e-01,\n",
       "          3.04686017e-02, -2.91704863e-01, -4.01355821e-04,\n",
       "         -3.66262123e-02, -2.59019196e-01, -2.02431399e-02,\n",
       "          3.08169723e-01, -5.06252749e-04,  5.29494137e-04,\n",
       "         -4.98747118e-02, -5.13757765e-01,  3.88866037e-01,\n",
       "          1.99588388e-01, -4.95608032e-01,  4.36681956e-01,\n",
       "         -6.33163154e-01, -3.90293092e-01, -2.17682514e-02],\n",
       "        [-7.97530811e-05,  1.30323041e-02,  8.67937282e-02,\n",
       "          7.90884951e-06, -3.12305929e-05,  3.35810502e-04,\n",
       "          3.75714689e-01, -5.66634408e-05,  4.37328368e-01,\n",
       "          2.67643720e-01,  1.19549483e-01, -2.38877311e-02,\n",
       "          3.52916005e-03, -3.40776920e-01,  9.02893953e-05,\n",
       "         -6.28339231e-01, -3.38419259e-01, -7.59799639e-03,\n",
       "          2.70612150e-01,  6.81807433e-05, -1.94359935e-04,\n",
       "          1.19548671e-01, -1.52013987e-01, -6.20397210e-01,\n",
       "          4.53556925e-01, -1.72487617e-01, -3.22947413e-01,\n",
       "         -1.27032146e-01, -1.11650363e-01,  2.47868598e-01],\n",
       "        [ 4.86621284e-04, -5.24542093e-01,  3.20681691e-01,\n",
       "         -4.97727946e-04,  5.03953896e-04,  3.58552265e-04,\n",
       "         -5.07085979e-01, -4.61960910e-04,  2.75092065e-01,\n",
       "          1.21738628e-01,  4.07527894e-01, -9.24153253e-03,\n",
       "          1.61878392e-02, -1.82147294e-01,  1.54230060e-04,\n",
       "          5.15305400e-02,  1.77712411e-01,  2.95906770e-03,\n",
       "         -1.90485448e-01,  4.21936013e-04, -4.89885337e-04,\n",
       "          2.33145416e-01, -1.97388902e-02,  1.93606660e-01,\n",
       "          6.73068464e-01, -1.73820004e-01, -1.26031816e-01,\n",
       "          3.84808891e-02,  5.25709167e-02, -1.87657997e-01],\n",
       "        [ 7.68231344e-04, -1.14395417e-01,  9.05017778e-02,\n",
       "         -9.38735204e-04,  9.85152321e-04,  6.89753797e-04,\n",
       "         -1.66417748e-01, -8.71828524e-04, -5.22679865e-01,\n",
       "         -6.36143863e-01,  5.86667418e-01, -2.33474046e-01,\n",
       "          1.33914361e-02,  2.45635316e-01,  5.92748518e-04,\n",
       "          3.08239192e-01,  1.70072213e-01,  1.57787427e-02,\n",
       "         -6.19851589e-01,  8.20911955e-04, -6.96461939e-04,\n",
       "          4.06304412e-02,  1.47007942e-01, -5.21908961e-02,\n",
       "         -5.59835792e-01,  4.67223197e-01, -4.12371367e-01,\n",
       "          3.39839906e-01,  1.85316101e-01,  2.12810099e-01],\n",
       "        [-6.66608859e-04,  8.99801970e-01, -1.38700873e-01,\n",
       "          6.76696014e-04, -7.67128484e-04, -2.49886594e-04,\n",
       "         -6.06662869e-01,  5.27605240e-04, -5.58757544e-01,\n",
       "          9.65442240e-01, -1.03120014e-01, -2.46782824e-01,\n",
       "          2.78712753e-02, -5.10357141e-01, -4.15163871e-04,\n",
       "         -4.06960279e-01, -2.70629436e-01, -8.05495656e-04,\n",
       "          1.91874230e+00, -4.39770665e-04,  2.94476107e-04,\n",
       "         -3.75237167e-01, -6.26000941e-01,  1.50319174e-01,\n",
       "          9.68754947e-01, -1.70496687e-01,  5.98645031e-01,\n",
       "         -4.86833870e-01, -9.23979580e-01,  6.41572714e-01],\n",
       "        [ 4.31306660e-04, -2.71799892e-01,  4.71744597e-01,\n",
       "         -3.49542446e-04,  4.62520111e-04,  4.35772963e-04,\n",
       "          2.03666724e-02, -3.36349185e-04,  8.82238075e-02,\n",
       "         -2.52315909e-01, -2.93903887e-01,  1.82743132e-01,\n",
       "         -2.35799421e-02,  2.61645007e-04,  2.46960117e-04,\n",
       "          4.54644501e-01, -2.51091659e-01,  2.45471373e-02,\n",
       "          1.01627268e-01,  1.92915075e-04, -3.54658783e-04,\n",
       "          4.20144528e-01, -3.57441902e-02, -6.16294928e-02,\n",
       "         -6.37947917e-01, -7.44000152e-02, -5.15471935e-01,\n",
       "          4.27211821e-01, -1.81249436e-02, -8.52750912e-02],\n",
       "        [-4.70910309e-04, -2.34516621e-01,  1.67817473e-01,\n",
       "          4.95580724e-04, -6.38713362e-04, -2.20739603e-04,\n",
       "         -9.38521251e-02,  3.26654641e-04, -1.39250653e-02,\n",
       "          8.52622092e-02,  2.93575615e-01, -1.05683185e-01,\n",
       "         -8.81493208e-04,  6.53806105e-02, -1.75073335e-04,\n",
       "         -3.51130515e-01,  3.00546549e-03, -6.97937934e-03,\n",
       "         -1.62473470e-01, -2.56199186e-04,  1.66328668e-04,\n",
       "         -3.72805595e-02, -2.15659752e-01,  5.05850166e-02,\n",
       "          5.44637516e-02,  1.35218007e-02,  6.14123531e-02,\n",
       "         -4.67449501e-02,  4.86735925e-02, -4.38570559e-01],\n",
       "        [-1.08484775e-04, -7.56590366e-01, -2.71428525e-01,\n",
       "          8.12029175e-05, -1.38635252e-04,  1.58960844e-04,\n",
       "          2.06571091e-02,  6.48400455e-05, -3.10637429e-02,\n",
       "         -2.17689380e-01,  4.09928430e-03, -1.78674519e-01,\n",
       "          5.19831944e-03, -7.73659423e-02, -1.25305087e-05,\n",
       "          1.23626277e-01,  3.74822378e-01, -3.15143205e-02,\n",
       "          4.28026915e-02,  1.28806394e-04,  1.84731471e-05,\n",
       "          1.23537898e+00,  1.22823849e-01, -6.49944879e-03,\n",
       "         -1.58807307e-01,  2.10425600e-01, -3.01444769e-01,\n",
       "          2.82654434e-01,  1.82520047e-01, -2.42049117e-02]], dtype=float32),\n",
       " array([ 7.69314051e+00,  1.70870319e-01, -1.10236436e-01, -7.70253134e+00,\n",
       "         7.54440737e+00,  7.97241163e+00, -1.25447750e+00, -7.77825546e+00,\n",
       "        -2.76466936e-01,  4.44334149e-01,  2.58442259e+00,  2.46013835e-01,\n",
       "         4.71016672e-03, -9.88012671e-01,  7.88494778e+00, -1.28263211e+00,\n",
       "         2.04989552e+00,  1.56441983e-02, -1.49200726e+00,  7.89138222e+00,\n",
       "        -7.90468454e+00, -1.56038368e+00, -8.93360004e-02,  1.31700039e+00,\n",
       "         2.01107144e+00, -3.47431469e+00,  9.61464405e-01, -3.96203184e+00,\n",
       "        -1.21231377e+00,  5.77299058e-01], dtype=float32),\n",
       " array([[-0.7007715 ],\n",
       "        [ 0.35268298],\n",
       "        [-0.41551545],\n",
       "        [ 0.7011744 ],\n",
       "        [-0.50476515],\n",
       "        [-0.9461961 ],\n",
       "        [ 0.3051149 ],\n",
       "        [ 0.7393127 ],\n",
       "        [ 0.447122  ],\n",
       "        [-0.82542807],\n",
       "        [-0.16549596],\n",
       "        [ 0.14360194],\n",
       "        [-0.00526622],\n",
       "        [ 1.1648455 ],\n",
       "        [-0.85370064],\n",
       "        [ 0.2663479 ],\n",
       "        [-0.33537164],\n",
       "        [ 0.00715091],\n",
       "        [-1.1581419 ],\n",
       "        [-0.9737659 ],\n",
       "        [ 0.9258056 ],\n",
       "        [-1.3044804 ],\n",
       "        [-0.60808146],\n",
       "        [ 0.597937  ],\n",
       "        [-0.36010167],\n",
       "        [ 0.3867026 ],\n",
       "        [-0.25490662],\n",
       "        [ 0.66939074],\n",
       "        [ 0.32352072],\n",
       "        [ 0.3192357 ],\n",
       "        [ 1.0427967 ]], dtype=float32),\n",
       " array([-0.703287], dtype=float32)]"
      ]
     },
     "execution_count": 31,
     "metadata": {},
     "output_type": "execute_result"
    }
   ],
   "source": [
    "new_model.get_weights()"
   ]
  },
  {
   "cell_type": "code",
   "execution_count": 32,
   "metadata": {},
   "outputs": [
    {
     "data": {
      "text/plain": [
       "<keras.optimizers.Adam at 0x22481fb45f8>"
      ]
     },
     "execution_count": 32,
     "metadata": {},
     "output_type": "execute_result"
    }
   ],
   "source": [
    "new_model.optimizer"
   ]
  },
  {
   "cell_type": "markdown",
   "metadata": {},
   "source": [
    "# Predictions (Global)"
   ]
  },
  {
   "cell_type": "markdown",
   "metadata": {},
   "source": [
    "\"Global\" in this sense means that I've fed model.predict() with all the possible parameters. This gives a good overview of the overall performance of the network. This can be useful to spot large-scale phenomena like network overfitting but is not so great at looking at say individual data slices. This is done later.\n",
    "\n",
    "***Nota Bene: all data here is NORMALIZED at this stage.***"
   ]
  },
  {
   "cell_type": "code",
   "execution_count": 49,
   "metadata": {},
   "outputs": [
    {
     "name": "stdout",
     "output_type": "stream",
     "text": [
      "[-1.00778849 -0.90798589 -0.74548873 ... -0.36189134 -1.04351651\n",
      "  0.85297783]\n",
      "(63933,)\n"
     ]
    }
   ],
   "source": [
    "y_test_np_array = y_test.values\n",
    "print(y_test_np_array)\n",
    "print(y_test_np_array.shape)"
   ]
  },
  {
   "cell_type": "code",
   "execution_count": 35,
   "metadata": {},
   "outputs": [
    {
     "name": "stdout",
     "output_type": "stream",
     "text": [
      "[[ 1.55088864 -0.91254716  0.25057832 ... -0.31482312  0.29960042\n",
      "  -0.06771858]\n",
      " [ 1.55088864 -0.91254716  0.25057832 ... -0.31482312  0.29960042\n",
      "   0.42108802]\n",
      " [ 1.55088864 -0.91254716  0.25057832 ... -0.31482312  0.29960042\n",
      "   1.66532336]\n",
      " ...\n",
      " [ 2.91053885  1.81317227  2.31594238 ...  3.91445512  1.76550348\n",
      "  -0.55652537]\n",
      " [ 2.91053885  1.81317227  2.31594238 ...  3.91445512  1.76550348\n",
      "   0.42108802]\n",
      " [ 2.91053885  1.81317227  2.31594238 ...  3.91445512  1.76550348\n",
      "   1.66532336]]\n"
     ]
    }
   ],
   "source": [
    "x_test_np_array = x_test.values\n",
    "print(x_test_np_array)"
   ]
  },
  {
   "cell_type": "code",
   "execution_count": 63,
   "metadata": {},
   "outputs": [],
   "source": [
    "x_test_1_np_array = x_test_1.values\n",
    "x_test_2_np_array = x_test_2.values"
   ]
  },
  {
   "cell_type": "code",
   "execution_count": 64,
   "metadata": {},
   "outputs": [
    {
     "name": "stdout",
     "output_type": "stream",
     "text": [
      "(63933, 6)\n"
     ]
    }
   ],
   "source": [
    "print(x_test_1_np_array.shape)"
   ]
  },
  {
   "cell_type": "code",
   "execution_count": 65,
   "metadata": {},
   "outputs": [
    {
     "name": "stdout",
     "output_type": "stream",
     "text": [
      "(63933, 1)\n"
     ]
    }
   ],
   "source": [
    "print(x_test_2_np_array.shape)"
   ]
  },
  {
   "cell_type": "code",
   "execution_count": 66,
   "metadata": {},
   "outputs": [
    {
     "name": "stdout",
     "output_type": "stream",
     "text": [
      "(63933, 7)\n"
     ]
    }
   ],
   "source": [
    "print(x_test_np_array.shape)"
   ]
  },
  {
   "cell_type": "code",
   "execution_count": 67,
   "metadata": {},
   "outputs": [
    {
     "name": "stdout",
     "output_type": "stream",
     "text": [
      "<class 'numpy.ndarray'>\n",
      "(63933,)\n",
      "<class 'numpy.ndarray'>\n"
     ]
    }
   ],
   "source": [
    "predictions_global = new_model.predict([x_test_1_np_array] + [x_test_2_np_array], batch_size = 10, verbose=0)\n",
    "print(type(predictions_global))\n",
    "\n",
    "predictions_global = predictions_global.flatten()\n",
    "print(predictions_global.shape)\n",
    "print(type(predictions_global))"
   ]
  },
  {
   "cell_type": "markdown",
   "metadata": {},
   "source": [
    "### Predictions (Global) review - De-Normalized"
   ]
  },
  {
   "cell_type": "code",
   "execution_count": 68,
   "metadata": {},
   "outputs": [],
   "source": [
    "predictions_global_deNormalized = (predictions_global * joined_dataFrame_original['efeETG_GB'].std()) + joined_dataFrame_original['efeETG_GB'].mean()"
   ]
  },
  {
   "cell_type": "code",
   "execution_count": 69,
   "metadata": {},
   "outputs": [],
   "source": [
    "y_test_deNormalized = (y_test * joined_dataFrame_original['efeETG_GB'].std()) + joined_dataFrame_original['efeETG_GB'].mean()"
   ]
  },
  {
   "cell_type": "code",
   "execution_count": 70,
   "metadata": {},
   "outputs": [],
   "source": [
    "y_test_deNormalized_np_array = y_test_deNormalized.values"
   ]
  },
  {
   "cell_type": "code",
   "execution_count": 71,
   "metadata": {},
   "outputs": [],
   "source": [
    "import matplotlib.pyplot as plt\n",
    "from matplotlib.colors import LogNorm"
   ]
  },
  {
   "cell_type": "code",
   "execution_count": 72,
   "metadata": {},
   "outputs": [
    {
     "data": {
      "image/png": "[encoded data removed]",
      "text/plain": [
       "<Figure size 432x288 with 1 Axes>"
      ]
     },
     "metadata": {
      "needs_background": "light"
     },
     "output_type": "display_data"
    }
   ],
   "source": [
    "plt.hist(predictions_global_deNormalized)\n",
    "plt.title('QuaLiKiz-NN Predictions (De-Normalized) Histogram')\n",
    "plt.xlabel('Values')\n",
    "plt.ylabel('Counts')\n",
    "# plt.savefig('./2018-07-10_Run0050b_DataSlicerPlot/NN_Predictions.png', dpi = 100)\n",
    "plt.show()"
   ]
  },
  {
   "cell_type": "code",
   "execution_count": 73,
   "metadata": {},
   "outputs": [
    {
     "name": "stdout",
     "output_type": "stream",
     "text": [
      "(63933,)\n"
     ]
    }
   ],
   "source": [
    "print(predictions_global.shape)"
   ]
  },
  {
   "cell_type": "code",
   "execution_count": 74,
   "metadata": {},
   "outputs": [
    {
     "data": {
      "image/png": "[encoded data removed]",
      "text/plain": [
       "<Figure size 432x288 with 1 Axes>"
      ]
     },
     "metadata": {
      "needs_background": "light"
     },
     "output_type": "display_data"
    }
   ],
   "source": [
    "plt.plot(y_test_deNormalized_np_array, predictions_global_deNormalized, 'r.', ms = 5, label = 'QuaLiKiz-NN')\n",
    "plt.title('QuaLiKiz-NN predictions (De-Normalized) (efeETG_GB) vs. QuaLiKiz (efeETG_GB)')\n",
    "plt.xlabel('QuaLiKiz')\n",
    "plt.ylabel('Neural Network')\n",
    "plt.show()"
   ]
  },
  {
   "cell_type": "code",
   "execution_count": 75,
   "metadata": {},
   "outputs": [
    {
     "data": {
      "image/png": "[encoded data removed]",
      "text/plain": [
       "<Figure size 432x288 with 2 Axes>"
      ]
     },
     "metadata": {
      "needs_background": "light"
     },
     "output_type": "display_data"
    }
   ],
   "source": [
    "plt.hist2d(y_test_deNormalized_np_array, predictions_global_deNormalized, bins=100, cmin=5)\n",
    "# plt.plot( [0,1],[0,1] )\n",
    "plt.title('QuaLiKiz vs Neural Network (De-Normalized) (non-log scale)')\n",
    "plt.xlabel('QuaLiKiz')\n",
    "plt.ylabel('Neural Network')\n",
    "plt.ylim(0)\n",
    "plt.xlim(0)\n",
    "cbar = plt.colorbar()\n",
    "cbar.ax.set_ylabel('Counts')\n",
    "# plt.savefig('./2018-07-10_Run0050b_DataSlicerPlot/QuaLiKiz-vs-NN_nonLogScale_bins100.png', dpi = 100)\n",
    "plt.show()"
   ]
  },
  {
   "cell_type": "markdown",
   "metadata": {},
   "source": [
    "### Sigmas (De-Normalized)"
   ]
  },
  {
   "cell_type": "code",
   "execution_count": 78,
   "metadata": {},
   "outputs": [
    {
     "data": {
      "image/png": "[encoded data removed]",
      "text/plain": [
       "<Figure size 432x288 with 1 Axes>"
      ]
     },
     "metadata": {
      "needs_background": "light"
     },
     "output_type": "display_data"
    }
   ],
   "source": [
    "h = plt.hist2d(y_test_np_array, predictions_global,bins = 100)"
   ]
  },
  {
   "cell_type": "code",
   "execution_count": 79,
   "metadata": {},
   "outputs": [
    {
     "data": {
      "image/png": "[encoded data removed]",
      "text/plain": [
       "<Figure size 432x288 with 1 Axes>"
      ]
     },
     "metadata": {
      "needs_background": "light"
     },
     "output_type": "display_data"
    }
   ],
   "source": [
    "h_deNormalized = plt.hist2d(y_test_deNormalized_np_array, predictions_global_deNormalized,bins = 100)"
   ]
  },
  {
   "cell_type": "code",
   "execution_count": 80,
   "metadata": {},
   "outputs": [
    {
     "name": "stderr",
     "output_type": "stream",
     "text": [
      "C:\\Users\\danie\\Anaconda3\\lib\\site-packages\\ipykernel_launcher.py:4: RuntimeWarning: invalid value encountered in true_divide\n",
      "  after removing the cwd from sys.path.\n"
     ]
    }
   ],
   "source": [
    "sigmas_deNormalized = []\n",
    "Qualikiz_deNormalized = y_test_deNormalized_np_array\n",
    "for i in range(len(h[0])):\n",
    "    sigmas_deNormalized.append(numpy.std(h_deNormalized[0][i] / numpy.max(h_deNormalized[0][i])))"
   ]
  },
  {
   "cell_type": "code",
   "execution_count": 81,
   "metadata": {},
   "outputs": [
    {
     "data": {
      "image/png": "[encoded data removed]",
      "text/plain": [
       "<Figure size 432x288 with 1 Axes>"
      ]
     },
     "metadata": {
      "needs_background": "light"
     },
     "output_type": "display_data"
    }
   ],
   "source": [
    "plt.plot((numpy.array(h_deNormalized[1][1:]) + numpy.array(h_deNormalized[1][:-1]))/2.,sigmas_deNormalized)\n",
    "plt.show()"
   ]
  },
  {
   "cell_type": "code",
   "execution_count": 82,
   "metadata": {},
   "outputs": [
    {
     "data": {
      "image/png": "[encoded data removed]",
      "text/plain": [
       "<Figure size 432x288 with 1 Axes>"
      ]
     },
     "metadata": {
      "needs_background": "light"
     },
     "output_type": "display_data"
    }
   ],
   "source": [
    "for i in range(10):\n",
    "    plt.plot((h_deNormalized[1][1:] + h_deNormalized[1][:-1])/2., h_deNormalized[0][i]/numpy.max(h_deNormalized[0][i]) )"
   ]
  },
  {
   "cell_type": "code",
   "execution_count": 83,
   "metadata": {},
   "outputs": [
    {
     "data": {
      "image/png": "[encoded data removed]",
      "text/plain": [
       "<Figure size 432x288 with 1 Axes>"
      ]
     },
     "metadata": {
      "needs_background": "light"
     },
     "output_type": "display_data"
    }
   ],
   "source": [
    "plt.plot(y_test_deNormalized_np_array, predictions_global_deNormalized - y_test_deNormalized_np_array, 'b.', ms = 0.5)\n",
    "plt.title('Neural Network predictions (De-Normalized) vs. QuaLiKiz input')\n",
    "plt.xlabel('QuaLiKiz')\n",
    "plt.ylabel('NN Predictions - QuaLiKiz')\n",
    "plt.show()"
   ]
  },
  {
   "cell_type": "code",
   "execution_count": 84,
   "metadata": {},
   "outputs": [
    {
     "data": {
      "image/png": "[encoded data removed]",
      "text/plain": [
       "<Figure size 432x288 with 1 Axes>"
      ]
     },
     "metadata": {
      "needs_background": "light"
     },
     "output_type": "display_data"
    }
   ],
   "source": [
    "plt.plot(y_test_deNormalized_np_array, predictions_global_deNormalized - y_test_deNormalized_np_array, 'b.', ms = 0.1, alpha=0.5)\n",
    "plt.title('Neural Network predictions vs. QuaLiKiz input (De-Normalized)')\n",
    "plt.xlabel('QuaLiKiz')\n",
    "plt.ylabel('NN Predictions - QuaLiKiz')\n",
    "plt.show()"
   ]
  },
  {
   "cell_type": "markdown",
   "metadata": {},
   "source": [
    "# Predictions (single Data Slice)"
   ]
  },
  {
   "cell_type": "markdown",
   "metadata": {},
   "source": [
    "### Predictions - Initialise table to feed predictions"
   ]
  },
  {
   "cell_type": "code",
   "execution_count": 85,
   "metadata": {},
   "outputs": [
    {
     "data": {
      "text/plain": [
       "array([[ 5.75      ,  2.        ,  3.        , ...,  0.7       ,\n",
       "         0.45      ,  1.33      ],\n",
       "       [ 5.75      ,  2.06030151,  3.        , ...,  0.7       ,\n",
       "         0.45      ,  1.33      ],\n",
       "       [ 5.75      ,  2.12060302,  3.        , ...,  0.7       ,\n",
       "         0.45      ,  1.33      ],\n",
       "       ...,\n",
       "       [ 5.75      , 13.87939698,  3.        , ...,  0.7       ,\n",
       "         0.45      ,  1.33      ],\n",
       "       [ 5.75      , 13.93969849,  3.        , ...,  0.7       ,\n",
       "         0.45      ,  1.33      ],\n",
       "       [ 5.75      , 14.        ,  3.        , ...,  0.7       ,\n",
       "         0.45      ,  1.33      ]])"
      ]
     },
     "execution_count": 85,
     "metadata": {},
     "output_type": "execute_result"
    }
   ],
   "source": [
    "# table (Original values from input file unstable_training_gen2_7D_nions0_flat_filter7.h5)\n",
    "# Hard-coded variables for the data slice\n",
    "\n",
    "table = numpy.zeros((200,7))\n",
    "\n",
    "table[:,0] = 5.75    # Ati\n",
    "table[:,1] = numpy.linspace(2,14,200)   # Ate\n",
    "table[:,2] = 3       # An\n",
    "table[:,3] = 3       # qx\n",
    "table[:,4] = 0.7     # smag\n",
    "table[:,5] = 0.45    # x\n",
    "table[:,6] = 1.33    # Ti_Te\n",
    "\n",
    "table"
   ]
  },
  {
   "cell_type": "code",
   "execution_count": 86,
   "metadata": {},
   "outputs": [],
   "source": [
    "# Normalized table (inputs for model.predict())\n",
    "table_normalized = numpy.zeros((200,7))\n",
    "\n",
    "DataSlice_Ati = 5.75\n",
    "DataSlice_Ate = numpy.linspace(2,14,200)\n",
    "DataSlice_An = 3\n",
    "DataSlice_q = 3\n",
    "DataSlice_smag = 0.7\n",
    "DataSlice_x = 0.45\n",
    "DataSlice_Ti_Te = 1.33\n",
    "\n",
    "# Normalize data by standard deviation and mean-centering the data\n",
    "table_normalized[:,0] = (DataSlice_Ati - joined_dataFrame_original['Ati'].mean()) / joined_dataFrame_original['Ati'].std()\n",
    "table_normalized[:,1] = (DataSlice_Ate - joined_dataFrame_original['Ate'].mean()) / joined_dataFrame_original['Ate'].std()\n",
    "table_normalized[:,2] = (DataSlice_An - joined_dataFrame_original['An'].mean()) / joined_dataFrame_original['An'].std()\n",
    "table_normalized[:,3] = (DataSlice_q - joined_dataFrame_original['q'].mean()) / joined_dataFrame_original['q'].std()\n",
    "table_normalized[:,4] = (DataSlice_smag - joined_dataFrame_original['smag'].mean()) / joined_dataFrame_original['smag'].std()\n",
    "table_normalized[:,5] = (DataSlice_x - joined_dataFrame_original['x'].mean()) / joined_dataFrame_original['x'].std()\n",
    "table_normalized[:,6] = (DataSlice_Ti_Te - joined_dataFrame_original['Ti_Te'].mean()) / joined_dataFrame_original['Ti_Te'].std()"
   ]
  },
  {
   "cell_type": "code",
   "execution_count": 87,
   "metadata": {},
   "outputs": [
    {
     "data": {
      "text/plain": [
       "array([[ 0.10626029, -2.15151054,  0.54563033, ...,  0.20304769,\n",
       "        -0.11922898, -0.06771865],\n",
       "       [ 0.10626029, -2.13158751,  0.54563033, ...,  0.20304769,\n",
       "        -0.11922898, -0.06771865],\n",
       "       [ 0.10626029, -2.11166448,  0.54563033, ...,  0.20304769,\n",
       "        -0.11922898, -0.06771865],\n",
       "       ...,\n",
       "       [ 0.10626029,  1.77332621,  0.54563033, ...,  0.20304769,\n",
       "        -0.11922898, -0.06771865],\n",
       "       [ 0.10626029,  1.79324924,  0.54563033, ...,  0.20304769,\n",
       "        -0.11922898, -0.06771865],\n",
       "       [ 0.10626029,  1.81317227,  0.54563033, ...,  0.20304769,\n",
       "        -0.11922898, -0.06771865]])"
      ]
     },
     "execution_count": 87,
     "metadata": {},
     "output_type": "execute_result"
    }
   ],
   "source": [
    "table_normalized"
   ]
  },
  {
   "cell_type": "code",
   "execution_count": 121,
   "metadata": {},
   "outputs": [
    {
     "name": "stdout",
     "output_type": "stream",
     "text": [
      "[[ 0.10626029  0.54563033 -0.32034393  0.20304769 -0.11922898 -0.06771865]\n",
      " [ 0.10626029  0.54563033 -0.32034393  0.20304769 -0.11922898 -0.06771865]\n",
      " [ 0.10626029  0.54563033 -0.32034393  0.20304769 -0.11922898 -0.06771865]\n",
      " ...\n",
      " [ 0.10626029  0.54563033 -0.32034393  0.20304769 -0.11922898 -0.06771865]\n",
      " [ 0.10626029  0.54563033 -0.32034393  0.20304769 -0.11922898 -0.06771865]\n",
      " [ 0.10626029  0.54563033 -0.32034393  0.20304769 -0.11922898 -0.06771865]]\n"
     ]
    }
   ],
   "source": [
    "# Normalized table (inputs for model.predict())\n",
    "table_branch1_normalized = numpy.zeros((200,6))\n",
    "\n",
    "DataSlice_Ati = 5.75\n",
    "#DataSlice_Ate = numpy.linspace(2,14,200)\n",
    "DataSlice_An = 3\n",
    "DataSlice_q = 3\n",
    "DataSlice_smag = 0.7\n",
    "DataSlice_x = 0.45\n",
    "DataSlice_Ti_Te = 1.33\n",
    "\n",
    "# Normalize data by standard deviation and mean-centering the data\n",
    "table_branch1_normalized[:,0] = (DataSlice_Ati - joined_dataFrame_original['Ati'].mean()) / joined_dataFrame_original['Ati'].std()\n",
    "#table_normalized[:,1] = (DataSlice_Ate - joined_dataFrame_original['Ate'].mean()) / joined_dataFrame_original['Ate'].std()\n",
    "table_branch1_normalized[:,1] = (DataSlice_An - joined_dataFrame_original['An'].mean()) / joined_dataFrame_original['An'].std()\n",
    "table_branch1_normalized[:,2] = (DataSlice_q - joined_dataFrame_original['q'].mean()) / joined_dataFrame_original['q'].std()\n",
    "table_branch1_normalized[:,3] = (DataSlice_smag - joined_dataFrame_original['smag'].mean()) / joined_dataFrame_original['smag'].std()\n",
    "table_branch1_normalized[:,4] = (DataSlice_x - joined_dataFrame_original['x'].mean()) / joined_dataFrame_original['x'].std()\n",
    "table_branch1_normalized[:,5] = (DataSlice_Ti_Te - joined_dataFrame_original['Ti_Te'].mean()) / joined_dataFrame_original['Ti_Te'].std()"
   ]
  },
  {
   "cell_type": "code",
   "execution_count": 93,
   "metadata": {},
   "outputs": [],
   "source": [
    "# Normalized table (inputs for model.predict())\n",
    "table_branch2_normalized = numpy.zeros((200,1))\n",
    "\n",
    "DataSlice_Ate = numpy.linspace(2,14,200)\n",
    "\n",
    "# Normalize data by standard deviation and mean-centering the data\n",
    "table_branch2_normalized[:,0] = (DataSlice_Ate - joined_dataFrame_original['Ate'].mean()) / joined_dataFrame_original['Ate'].std()"
   ]
  },
  {
   "cell_type": "code",
   "execution_count": 94,
   "metadata": {},
   "outputs": [
    {
     "name": "stdout",
     "output_type": "stream",
     "text": [
      "<class 'numpy.ndarray'>\n",
      "(200,)\n",
      "<class 'numpy.ndarray'>\n"
     ]
    }
   ],
   "source": [
    "predictions = new_model.predict([table_branch1_normalized] + [table_branch2_normalized], batch_size = 10, verbose=0)\n",
    "print(type(predictions))\n",
    "\n",
    "predictions = predictions.flatten()\n",
    "print(predictions.shape)\n",
    "print(type(predictions))"
   ]
  },
  {
   "cell_type": "code",
   "execution_count": 95,
   "metadata": {},
   "outputs": [
    {
     "data": {
      "image/png": "[encoded data removed]",
      "text/plain": [
       "<Figure size 432x288 with 1 Axes>"
      ]
     },
     "metadata": {
      "needs_background": "light"
     },
     "output_type": "display_data"
    }
   ],
   "source": [
    "plt.hist(predictions)\n",
    "plt.show()"
   ]
  },
  {
   "cell_type": "markdown",
   "metadata": {},
   "source": [
    "# Masks"
   ]
  },
  {
   "cell_type": "markdown",
   "metadata": {},
   "source": [
    "These are used to rapidly select which parameters to look at (for a given data slice)."
   ]
  },
  {
   "cell_type": "markdown",
   "metadata": {},
   "source": [
    "#### Ate"
   ]
  },
  {
   "cell_type": "code",
   "execution_count": 96,
   "metadata": {},
   "outputs": [],
   "source": [
    "Ate_mask1 = joined_dataFrame_original.Ate == 2\n",
    "Ate_mask2 = joined_dataFrame_original.Ate == 2.75\n",
    "Ate_mask3 = joined_dataFrame_original.Ate == 3.5\n",
    "Ate_mask4 = joined_dataFrame_original.Ate == 4.25\n",
    "Ate_mask5 = joined_dataFrame_original.Ate == 5\n",
    "Ate_mask6 = joined_dataFrame_original.Ate == 5.75\n",
    "Ate_mask7 = joined_dataFrame_original.Ate == 6.5\n",
    "Ate_mask8 = joined_dataFrame_original.Ate == 7.25\n",
    "Ate_mask9 = joined_dataFrame_original.Ate == 8\n",
    "Ate_mask10 = joined_dataFrame_original.Ate == 10\n",
    "Ate_mask11 = joined_dataFrame_original.Ate == 14\n",
    "\n",
    "Ate_anti_mask1 = joined_dataFrame_original.Ate != 2\n",
    "Ate_anti_mask2 = joined_dataFrame_original.Ate != 2.75\n",
    "Ate_anti_mask3 = joined_dataFrame_original.Ate != 3.5\n",
    "Ate_anti_mask4 = joined_dataFrame_original.Ate != 4.25\n",
    "Ate_anti_mask5 = joined_dataFrame_original.Ate != 5\n",
    "Ate_anti_mask6 = joined_dataFrame_original.Ate != 5.75\n",
    "Ate_anti_mask7 = joined_dataFrame_original.Ate != 6.5\n",
    "Ate_anti_mask8 = joined_dataFrame_original.Ate != 7.25\n",
    "Ate_anti_mask9 = joined_dataFrame_original.Ate != 8\n",
    "Ate_anti_mask10 = joined_dataFrame_original.Ate != 10\n",
    "Ate_anti_mask11 = joined_dataFrame_original.Ate != 14"
   ]
  },
  {
   "cell_type": "markdown",
   "metadata": {},
   "source": [
    "#### An"
   ]
  },
  {
   "cell_type": "code",
   "execution_count": 97,
   "metadata": {},
   "outputs": [],
   "source": [
    "An_mask1 = joined_dataFrame_original.An == -5\n",
    "An_mask2 = joined_dataFrame_original.An == -3\n",
    "An_mask3 = joined_dataFrame_original.An == -1\n",
    "An_mask4 = numpy.array(joined_dataFrame_original.An <= 1.1e-14) * numpy.array(joined_dataFrame_original.An >= 9E-15)\n",
    "An_mask5 = joined_dataFrame_original.An == 0.5\n",
    "An_mask6 = joined_dataFrame_original.An == 1.0\n",
    "An_mask7 = joined_dataFrame_original.An == 1.5\n",
    "An_mask8 = joined_dataFrame_original.An == 2.0\n",
    "An_mask9 = joined_dataFrame_original.An == 2.5\n",
    "An_mask10 = joined_dataFrame_original.An == 3.0\n",
    "An_mask11 = joined_dataFrame_original.An == 4.0\n",
    "An_mask12 = joined_dataFrame_original.An == 6.0\n",
    "\n",
    "An_anti_mask1 = joined_dataFrame_original.An != -5\n",
    "An_anti_mask2 = joined_dataFrame_original.An != -3\n",
    "An_anti_mask3 = joined_dataFrame_original.An != -1\n",
    "An_anti_mask4 = numpy.array(joined_dataFrame_original.An >= 1.1e-14) * numpy.array(joined_dataFrame_original.An <= 9E-15)\n",
    "An_anti_mask5 = joined_dataFrame_original.An != 0.5\n",
    "An_anti_mask6 = joined_dataFrame_original.An != 1.0\n",
    "An_anti_mask7 = joined_dataFrame_original.An != 1.5\n",
    "An_anti_mask8 = joined_dataFrame_original.An != 2.0\n",
    "An_anti_mask9 = joined_dataFrame_original.An != 2.5\n",
    "An_anti_mask10 = joined_dataFrame_original.An != 3.0\n",
    "An_anti_mask11 = joined_dataFrame_original.An != 4.0\n",
    "An_anti_mask12 = joined_dataFrame_original.An != 6.0"
   ]
  },
  {
   "cell_type": "markdown",
   "metadata": {},
   "source": [
    "#### Ati"
   ]
  },
  {
   "cell_type": "code",
   "execution_count": 99,
   "metadata": {},
   "outputs": [],
   "source": [
    "Ati_mask1 = numpy.array(joined_dataFrame_original.Ati <= 1.1e-14) * numpy.array(joined_dataFrame_original.Ati >= 9E-15)\n",
    "Ati_mask2 = joined_dataFrame_original.Ati == 2\n",
    "Ati_mask3 = joined_dataFrame_original.Ati == 2.75\n",
    "Ati_mask4 = joined_dataFrame_original.Ati == 3.5\n",
    "Ati_mask5 = joined_dataFrame_original.Ati == 4.25\n",
    "Ati_mask6 = joined_dataFrame_original.Ati == 5\n",
    "Ati_mask7 = joined_dataFrame_original.Ati == 5.75\n",
    "Ati_mask8 = joined_dataFrame_original.Ati == 6.5\n",
    "Ati_mask9 = joined_dataFrame_original.Ati == 7.25\n",
    "Ati_mask10 = joined_dataFrame_original.Ati == 8\n",
    "Ati_mask11 = joined_dataFrame_original.Ati == 10\n",
    "Ati_mask12 = joined_dataFrame_original.Ati == 14"
   ]
  },
  {
   "cell_type": "markdown",
   "metadata": {},
   "source": [
    "#### qx"
   ]
  },
  {
   "cell_type": "code",
   "execution_count": 100,
   "metadata": {},
   "outputs": [],
   "source": [
    "q_mask0 = numpy.array(joined_dataFrame_original.q <= 0.67) * numpy.array(joined_dataFrame_original.q >= 0.65)  #0.66\n",
    "q_mask1 = joined_dataFrame_original.q == 1.0\n",
    "q_mask2 = joined_dataFrame_original.q == 1.5\n",
    "q_mask3 = joined_dataFrame_original.q == 2.0\n",
    "q_mask4 = joined_dataFrame_original.q == 2.5\n",
    "q_mask5 = joined_dataFrame_original.q == 3.0\n",
    "q_mask6 = joined_dataFrame_original.q == 4.0\n",
    "q_mask7 = joined_dataFrame_original.q == 5.0\n",
    "q_mask8 = joined_dataFrame_original.q == 10.00\n",
    "q_mask9 = joined_dataFrame_original.q == 15.00\n",
    "\n",
    "q_anti_mask0 = numpy.array(joined_dataFrame_original.q >= 0.67) * numpy.array(joined_dataFrame_original.q <= 0.65)  #0.66\n",
    "q_anti_mask1 = joined_dataFrame_original.q != 1.0\n",
    "q_anti_mask2 = joined_dataFrame_original.q != 1.5\n",
    "q_anti_mask3 = joined_dataFrame_original.q != 2.0\n",
    "q_anti_mask4 = joined_dataFrame_original.q != 2.5\n",
    "q_anti_mask5 = joined_dataFrame_original.q != 3.0\n",
    "q_anti_mask6 = joined_dataFrame_original.q != 4.0\n",
    "q_anti_mask7 = joined_dataFrame_original.q != 5.0\n",
    "q_anti_mask8 = joined_dataFrame_original.q != 10.00\n",
    "q_anti_mask9 = joined_dataFrame_original.q != 15.00"
   ]
  },
  {
   "cell_type": "markdown",
   "metadata": {},
   "source": [
    "#### smag"
   ]
  },
  {
   "cell_type": "code",
   "execution_count": 101,
   "metadata": {},
   "outputs": [],
   "source": [
    "smag_mask1 = joined_dataFrame_original.smag == -1.0\n",
    "smag_mask2 = numpy.array(joined_dataFrame_original.smag <= 0.11) * numpy.array(joined_dataFrame_original.smag >= 0.09)   # 0.1\n",
    "smag_mask3 = numpy.array(joined_dataFrame_original.smag <= 0.41) * numpy.array(joined_dataFrame_original.smag >= 0.39)   # 0.4\n",
    "smag_mask4 = numpy.array(joined_dataFrame_original.smag <= 0.71) * numpy.array(joined_dataFrame_original.smag >= 0.68)   # 0.7\n",
    "smag_mask5 = joined_dataFrame_original.smag == 1\n",
    "smag_mask6 = joined_dataFrame_original.smag == 1.5\n",
    "smag_mask7 = joined_dataFrame_original.smag == 2.0\n",
    "smag_mask8 = joined_dataFrame_original.smag == 2.75\n",
    "smag_mask9 = joined_dataFrame_original.smag == 3.5\n",
    "smag_mask10 = joined_dataFrame_original.smag == 5.0\n",
    "\n",
    "smag_anti_mask1 = joined_dataFrame_original.smag != -1.0\n",
    "smag_anti_mask2 = numpy.array(joined_dataFrame_original.smag >= 0.11) * numpy.array(joined_dataFrame_original.smag <= 0.09)   # 0.1\n",
    "smag_anti_mask3 = numpy.array(joined_dataFrame_original.smag >= 0.41) * numpy.array(joined_dataFrame_original.smag <= 0.39)   # 0.4\n",
    "smag_anti_mask4 = numpy.array(joined_dataFrame_original.smag >= 0.71) * numpy.array(joined_dataFrame_original.smag <= 0.68)   # 0.7\n",
    "smag_anti_mask5 = joined_dataFrame_original.smag != 1\n",
    "smag_anti_mask6 = joined_dataFrame_original.smag != 1.5\n",
    "smag_anti_mask7 = joined_dataFrame_original.smag != 2.0\n",
    "smag_anti_mask8 = joined_dataFrame_original.smag != 2.75\n",
    "smag_anti_mask9 = joined_dataFrame_original.smag != 3.5\n",
    "smag_anti_mask10 = joined_dataFrame_original.smag != 5.0"
   ]
  },
  {
   "cell_type": "markdown",
   "metadata": {},
   "source": [
    "#### x"
   ]
  },
  {
   "cell_type": "code",
   "execution_count": 103,
   "metadata": {},
   "outputs": [],
   "source": [
    "x_mask1 = numpy.array(joined_dataFrame_original.x <= 0.10) * numpy.array(joined_dataFrame_original.x >= 0.08)   # 0.09\n",
    "x_mask2 = numpy.array(joined_dataFrame_original.x <= 0.22) * numpy.array(joined_dataFrame_original.x >= 0.20)   # 0.21\n",
    "x_mask3 = numpy.array(joined_dataFrame_original.x <= 0.34) * numpy.array(joined_dataFrame_original.x >= 0.32)   # 0.33\n",
    "x_mask4 = numpy.array(joined_dataFrame_original.x <= 0.46) * numpy.array(joined_dataFrame_original.x >= 0.44)   # 0.45\n",
    "x_mask5 = numpy.array(joined_dataFrame_original.x <= 0.58) * numpy.array(joined_dataFrame_original.x >= 0.56)   # 0.57\n",
    "x_mask6 = numpy.array(joined_dataFrame_original.x <= 0.70) * numpy.array(joined_dataFrame_original.x >= 0.68)   # 0.69\n",
    "x_mask7 = numpy.array(joined_dataFrame_original.x <= 0.85) * numpy.array(joined_dataFrame_original.x >= 0.83)   # 0.84\n",
    "x_mask8 = numpy.array(joined_dataFrame_original.x <= 1.00) * numpy.array(joined_dataFrame_original.x >= 0.98)   # 0.99\n",
    "x_mask = {0.09: x_mask1}\n",
    "\n",
    "x_anti_mask1 = numpy.array(joined_dataFrame_original.x >= 0.10) * numpy.array(joined_dataFrame_original.x <= 0.08)   # 0.09\n",
    "x_anti_mask2 = numpy.array(joined_dataFrame_original.x >= 0.22) * numpy.array(joined_dataFrame_original.x <= 0.20)   # 0.21\n",
    "x_anti_mask3 = numpy.array(joined_dataFrame_original.x >= 0.34) * numpy.array(joined_dataFrame_original.x <= 0.32)   # 0.33\n",
    "x_anti_mask4 = numpy.array(joined_dataFrame_original.x >= 0.46) * numpy.array(joined_dataFrame_original.x <= 0.44)   # 0.45\n",
    "x_anti_mask5 = numpy.array(joined_dataFrame_original.x >= 0.58) * numpy.array(joined_dataFrame_original.x <= 0.56)   # 0.57\n",
    "x_anti_mask6 = numpy.array(joined_dataFrame_original.x >= 0.70) * numpy.array(joined_dataFrame_original.x <= 0.68)   # 0.69\n",
    "x_anti_mask7 = numpy.array(joined_dataFrame_original.x >= 0.85) * numpy.array(joined_dataFrame_original.x <= 0.83)   # 0.84\n",
    "x_anti_mask8 = numpy.array(joined_dataFrame_original.x >= 1.00) * numpy.array(joined_dataFrame_original.x <= 0.98)   # 0.99"
   ]
  },
  {
   "cell_type": "markdown",
   "metadata": {},
   "source": [
    "#### Ti_Te"
   ]
  },
  {
   "cell_type": "code",
   "execution_count": 104,
   "metadata": {},
   "outputs": [],
   "source": [
    "Ti_Te_mask1 = joined_dataFrame_original.Ti_Te == 0.25\n",
    "Ti_Te_mask2 = joined_dataFrame_original.Ti_Te == 0.5\n",
    "Ti_Te_mask3 = joined_dataFrame_original.Ti_Te == 0.75\n",
    "Ti_Te_mask4 = joined_dataFrame_original.Ti_Te == 1\n",
    "Ti_Te_mask5 = numpy.array(joined_dataFrame_original.Ti_Te <= 1.34) * numpy.array(joined_dataFrame_original.Ti_Te >= 1.32)   # 1.33\n",
    "Ti_Te_mask6 = numpy.array(joined_dataFrame_original.Ti_Te <= 1.67) * numpy.array(joined_dataFrame_original.Ti_Te >= 1.65)   # 1.66\n",
    "Ti_Te_mask7 = joined_dataFrame_original.Ti_Te == 2.50"
   ]
  },
  {
   "cell_type": "markdown",
   "metadata": {},
   "source": [
    "# Plots"
   ]
  },
  {
   "cell_type": "markdown",
   "metadata": {},
   "source": [
    "## Slice 1"
   ]
  },
  {
   "cell_type": "code",
   "execution_count": 119,
   "metadata": {},
   "outputs": [
    {
     "name": "stdout",
     "output_type": "stream",
     "text": [
      "[False False False ... False False False]\n",
      "          efeETG_GB      Ati       Ate       An         q      smag         x  \\\n",
      "33363553  -0.813469  0.10626 -1.408133  0.54563 -0.320344  0.203048 -0.119229   \n",
      "18083917  -0.557189  0.10626 -1.160340  0.54563 -0.320344  0.203048 -0.119229   \n",
      "3929539    1.642665  0.10626 -0.416962  0.54563 -0.320344  0.203048 -0.119229   \n",
      "\n",
      "             Ti_Te  \n",
      "33363553 -0.067719  \n",
      "18083917 -0.067719  \n",
      "3929539  -0.067719  \n",
      "<class 'pandas.core.frame.DataFrame'>\n",
      "          efeETG_GB   Ati   Ate   An    q  smag     x  Ti_Te\n",
      "33363553   7.413384  5.75  4.25  3.0  3.0   0.7  0.45   1.33\n",
      "18083917  13.286460  5.75  5.00  3.0  3.0   0.7  0.45   1.33\n",
      "3929539   63.699650  5.75  7.25  3.0  3.0   0.7  0.45   1.33\n",
      "<class 'pandas.core.frame.DataFrame'>\n"
     ]
    }
   ],
   "source": [
    "'''\n",
    "{'An': 3,\n",
    "'Ati': 5.75,\n",
    "'Ti_Te': 1.33,\n",
    "'q': 3,\n",
    "'smag': 0.7,\n",
    "'x': 0.45}\n",
    "'''\n",
    "newDF = joined_dataFrame[An_mask10 & Ati_mask7 & q_mask5 & smag_mask4 & x_mask4 & Ti_Te_mask5]  # Variable \n",
    "newDF_Mk2 = joined_dataFrame_original[An_mask10 & Ati_mask7 & q_mask5 & smag_mask4 & x_mask4 & Ti_Te_mask5]  # Variable \n",
    "print(newDF)\n",
    "print(type(newDF))\n",
    "\n",
    "print(newDF_Mk2)\n",
    "print(type(newDF_Mk2))"
   ]
  },
  {
   "cell_type": "code",
   "execution_count": 106,
   "metadata": {},
   "outputs": [
    {
     "name": "stdout",
     "output_type": "stream",
     "text": [
      "[-0.81346937 -0.55718902  1.642665  ]\n",
      "[-1.40813251 -1.16033984 -0.41696181]\n"
     ]
    }
   ],
   "source": [
    "efeETG_DF = newDF['efeETG_GB']\n",
    "efeETG_DF_np_array = efeETG_DF.values\n",
    "print(efeETG_DF_np_array)\n",
    "\n",
    "Ate_DF = newDF['Ate']\n",
    "Ate_DF_np_array = Ate_DF.values\n",
    "print(Ate_DF_np_array)"
   ]
  },
  {
   "cell_type": "code",
   "execution_count": 107,
   "metadata": {},
   "outputs": [
    {
     "name": "stdout",
     "output_type": "stream",
     "text": [
      "[ 7.413384 13.28646  63.69965 ]\n",
      "[4.25 5.   7.25]\n"
     ]
    }
   ],
   "source": [
    "efeETG_DF_Mk2 = newDF_Mk2['efeETG_GB']\n",
    "efeETG_DF_Mk2_np_array = efeETG_DF_Mk2.values\n",
    "print(efeETG_DF_Mk2_np_array)\n",
    "\n",
    "Ate_DF_Mk2 = newDF_Mk2['Ate']\n",
    "Ate_DF_Mk2_np_array = Ate_DF_Mk2.values\n",
    "print(Ate_DF_Mk2_np_array)"
   ]
  },
  {
   "cell_type": "code",
   "execution_count": 108,
   "metadata": {},
   "outputs": [
    {
     "data": {
      "image/png": "[encoded data removed]",
      "text/plain": [
       "<Figure size 432x288 with 1 Axes>"
      ]
     },
     "metadata": {
      "needs_background": "light"
     },
     "output_type": "display_data"
    }
   ],
   "source": [
    "efeETG_DF = newDF['efeETG_GB']\n",
    "Ate_DF = newDF['Ate']\n",
    "plt.plot(table_normalized[:,1], predictions, 'r.', ms = 5, label = 'QuaLiKiz-NN')\n",
    "plt.plot(Ate_DF_np_array, efeETG_DF_np_array, 'b.', ms = 5, label = 'QuaLiKiz')\n",
    "plt.title('Data Slice NN vs. QuaLiKiz (Non-Normalized)')\n",
    "plt.xlabel('Ate')\n",
    "plt.ylabel('efeETG_GB')\n",
    "plt.legend()\n",
    "plt.show()"
   ]
  },
  {
   "cell_type": "code",
   "execution_count": 109,
   "metadata": {},
   "outputs": [
    {
     "name": "stdout",
     "output_type": "stream",
     "text": [
      "(200,)\n"
     ]
    }
   ],
   "source": [
    "predictions_deNormalized = (predictions * joined_dataFrame_original['efeETG_GB'].std()) + joined_dataFrame_original['efeETG_GB'].mean()\n",
    "print(predictions_deNormalized.shape)"
   ]
  },
  {
   "cell_type": "code",
   "execution_count": 110,
   "metadata": {},
   "outputs": [
    {
     "data": {
      "image/png": "[encoded data removed]",
      "text/plain": [
       "<Figure size 432x288 with 1 Axes>"
      ]
     },
     "metadata": {
      "needs_background": "light"
     },
     "output_type": "display_data"
    }
   ],
   "source": [
    "plt.plot(table[:,1], predictions_deNormalized, 'r-', ms = 5, label = 'QuaLiKiz-NN')\n",
    "plt.plot(Ate_DF_Mk2_np_array, efeETG_DF_Mk2_np_array, 'b.', ms = 5, label = 'QuaLiKiz')\n",
    "plt.title('Data Slice NN vs. QuaLiKiz (De-Normalized)')\n",
    "plt.ylim(-15, 110)\n",
    "plt.xlabel('Ate')\n",
    "plt.ylabel('efeETG_GB')\n",
    "plt.legend()\n",
    "# plt.savefig('./2018-07-19_Plotting-Clean-Run0054/NN_Predictions.png', dpi = 100)\n",
    "plt.show()"
   ]
  },
  {
   "cell_type": "markdown",
   "metadata": {},
   "source": [
    "## Slice 2"
   ]
  },
  {
   "cell_type": "code",
   "execution_count": 111,
   "metadata": {},
   "outputs": [],
   "source": [
    "# TODO"
   ]
  },
  {
   "cell_type": "code",
   "execution_count": null,
   "metadata": {},
   "outputs": [],
   "source": []
  }
 ],
 "metadata": {
  "kernelspec": {
   "display_name": "Python 3",
   "language": "python",
   "name": "python3"
  },
  "language_info": {
   "codemirror_mode": {
    "name": "ipython",
    "version": 3
   },
   "file_extension": ".py",
   "mimetype": "text/x-python",
   "name": "python",
   "nbconvert_exporter": "python",
   "pygments_lexer": "ipython3",
   "version": "3.6.6"
  }
 },
 "nbformat": 4,
 "nbformat_minor": 2
}
