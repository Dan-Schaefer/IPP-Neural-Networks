{
 "cells": [
  {
   "cell_type": "markdown",
   "metadata": {},
   "source": [
    "# Plotting dataslices for Run0166"
   ]
  },
  {
   "cell_type": "markdown",
   "metadata": {},
   "source": [
    "###### Plotting_Run0166\n",
    "- efiTEM_GB"
   ]
  },
  {
   "cell_type": "code",
   "execution_count": null,
   "metadata": {},
   "outputs": [],
   "source": [
    "# DO NOT RUN THIS PART"
   ]
  },
  {
   "cell_type": "code",
   "execution_count": null,
   "metadata": {},
   "outputs": [],
   "source": [
    "import os\n",
    "import sys\n",
    "import time\n",
    "\n",
    "# Gets the current file name. Useful for procedurally generating output/log files.\n",
    "file_name =  os.path.basename(sys.argv[0][:-3])\n",
    "print(file_name)\n",
    "\n",
    "if file_name == \"ipykernel_launcher\":\n",
    "    print(\"This is the Jupyter version.\")\n",
    "    print(\"Now MANUALLY run the next two cells!\")\n",
    "    print(\"STOP! This should not be in your code!!\")\n",
    "    exit(0)\n",
    "    time.sleep(10)\n",
    "    print(\"Testing if script has really stopped.\")\n",
    "else:\n",
    "    print(\"This is the Atom version\")"
   ]
  },
  {
   "cell_type": "code",
   "execution_count": 1,
   "metadata": {},
   "outputs": [],
   "source": [
    "# RUN ONLY IN JUPYTER!!\n",
    "# Start here (manual)"
   ]
  },
  {
   "cell_type": "code",
   "execution_count": 2,
   "metadata": {},
   "outputs": [
    {
     "data": {
      "application/javascript": [
       "IPython.notebook.kernel.execute('file_name = \"' + IPython.notebook.notebook_name + '\"');\n"
      ],
      "text/plain": [
       "<IPython.core.display.Javascript object>"
      ]
     },
     "metadata": {},
     "output_type": "display_data"
    }
   ],
   "source": [
    "%%javascript\n",
    "IPython.notebook.kernel.execute('file_name = \"' + IPython.notebook.notebook_name + '\"');"
   ]
  },
  {
   "cell_type": "code",
   "execution_count": 3,
   "metadata": {},
   "outputs": [
    {
     "name": "stdout",
     "output_type": "stream",
     "text": [
      "2019-02-20_Plotting_Run0166.ipynb\n"
     ]
    }
   ],
   "source": [
    "print(file_name)"
   ]
  },
  {
   "cell_type": "code",
   "execution_count": 4,
   "metadata": {},
   "outputs": [
    {
     "name": "stdout",
     "output_type": "stream",
     "text": [
      "2019-02-20_Plotting_Run0166\n",
      "True\n"
     ]
    }
   ],
   "source": [
    "file_name = file_name[:-6]\n",
    "print(file_name)\n",
    "\n",
    "is_Jupyter = True\n",
    "print(is_Jupyter)"
   ]
  },
  {
   "cell_type": "code",
   "execution_count": null,
   "metadata": {},
   "outputs": [],
   "source": []
  },
  {
   "cell_type": "code",
   "execution_count": 5,
   "metadata": {},
   "outputs": [],
   "source": [
    "# Same code for both ATOM & JUPYTER from now (Run all cells below now)"
   ]
  },
  {
   "cell_type": "code",
   "execution_count": 6,
   "metadata": {},
   "outputs": [
    {
     "name": "stderr",
     "output_type": "stream",
     "text": [
      "Using TensorFlow backend.\n"
     ]
    }
   ],
   "source": [
    "'''\n",
    "Late Fusion Module (test) - Functional API\n",
    "'''\n",
    "\n",
    "# Multiple Inputs\n",
    "import keras\n",
    "from keras.optimizers import RMSprop, adam, Adam\n",
    "from keras.initializers import TruncatedNormal, glorot_normal, Constant\n",
    "from keras.utils import plot_model\n",
    "from keras.models import Model\n",
    "from keras.layers.core import Lambda\n",
    "from keras.layers import Input\n",
    "from keras.layers import Dense\n",
    "from keras.layers import MaxoutDense\n",
    "from keras.layers.merge import concatenate\n",
    "from keras import regularizers\n",
    "from keras import backend as K\n",
    "#from keras.backend import switch\n",
    "import pandas\n",
    "import numpy\n",
    "import sys\n",
    "import os\n",
    "from copy import deepcopy\n",
    "import tensorflow as tf\n",
    "from keras.utils.generic_utils import get_custom_objects\n",
    "from keras.layers.advanced_activations import ThresholdedReLU\n",
    "\n",
    "#keras.backend.clear_session()\n",
    "K.clear_session()"
   ]
  },
  {
   "cell_type": "code",
   "execution_count": 7,
   "metadata": {},
   "outputs": [],
   "source": [
    "# Define new Metric: rmse = Root Mean Square Error\n",
    "def rmse(y_true, y_pred):\n",
    "    return K.sqrt(K.mean(K.square( y_true-y_pred )))"
   ]
  },
  {
   "cell_type": "code",
   "execution_count": null,
   "metadata": {},
   "outputs": [],
   "source": []
  },
  {
   "cell_type": "code",
   "execution_count": 8,
   "metadata": {},
   "outputs": [],
   "source": [
    "# Modify for ATOM use"
   ]
  },
  {
   "cell_type": "code",
   "execution_count": 9,
   "metadata": {},
   "outputs": [],
   "source": [
    "if is_Jupyter == True:\n",
    "    pass\n",
    "else:\n",
    "    # Gets the current file name. Useful for procedurally generating output/log files.\n",
    "    file_name =  os.path.basename(sys.argv[0][:-3])"
   ]
  },
  {
   "cell_type": "code",
   "execution_count": null,
   "metadata": {},
   "outputs": [],
   "source": []
  },
  {
   "cell_type": "code",
   "execution_count": 10,
   "metadata": {},
   "outputs": [],
   "source": [
    "# Define neural network parameters\n",
    "batch_size = 10\n",
    "epochs = 100\n",
    "L2_regularization = 5E-7"
   ]
  },
  {
   "cell_type": "code",
   "execution_count": 11,
   "metadata": {},
   "outputs": [],
   "source": [
    "# Load Data (which is in HDF5 or .h5 format)\n",
    "store = pandas.HDFStore(\"../training_gen3_7D_nions0_flat_filter8.h5\")\n",
    "target_df = store['/output/efiTEM_GB'].to_frame()  # This one is relatively easy to train\n",
    "input_df = store['input']\n",
    "\n",
    "# Puts inputs and outputs in the same pandas dataframe.\n",
    "# Also only keeps overlapping entries.\n",
    "joined_dataFrame = target_df.join(input_df)\n",
    "\n",
    "# Make a copy of joined_dataFrame for later use\n",
    "joined_dataFrame_original = deepcopy(joined_dataFrame)\n",
    "\n",
    "\n",
    "# *************************************************************************** #\n",
    "# Normalize data by standard deviation and mean-centering the data\n",
    "# Standard configuration\n",
    "joined_dataFrame['efiTEM_GB'] = (joined_dataFrame['efiTEM_GB'] - joined_dataFrame['efiTEM_GB'].mean()) / joined_dataFrame['efiTEM_GB'].std()\n",
    "joined_dataFrame['Ati'] = (joined_dataFrame['Ati'] - joined_dataFrame['Ati'].mean()) / joined_dataFrame['Ati'].std()\n",
    "joined_dataFrame['Ate'] = (joined_dataFrame['Ate'] - joined_dataFrame['Ate'].mean()) / joined_dataFrame['Ate'].std()\n",
    "joined_dataFrame['An'] = (joined_dataFrame['An'] - joined_dataFrame['An'].mean()) / joined_dataFrame['An'].std()\n",
    "joined_dataFrame['q'] = (joined_dataFrame['q'] - joined_dataFrame['q'].mean()) / joined_dataFrame['q'].std()\n",
    "joined_dataFrame['smag'] = (joined_dataFrame['smag'] - joined_dataFrame['smag'].mean()) / joined_dataFrame['smag'].std()\n",
    "joined_dataFrame['x'] = (joined_dataFrame['x'] - joined_dataFrame['x'].mean()) / joined_dataFrame['x'].std()\n",
    "joined_dataFrame['Ti_Te'] = (joined_dataFrame['Ti_Te'] - joined_dataFrame['Ti_Te'].mean()) / joined_dataFrame['Ti_Te'].std()\n",
    "\n",
    "# Shuffles dataset\n",
    "shuffled_joined_dataFrame = joined_dataFrame.reindex(numpy.random.permutation(\n",
    "                                                joined_dataFrame.index))\n",
    "\n",
    "# Creates a pandas dataframe for the outputs\n",
    "shuffled_clean_output_df = shuffled_joined_dataFrame['efiTEM_GB']\n",
    "\n",
    "# Make a copy of shuffled_joined_dataFrame for later use\n",
    "shuffled_joined_dataFrame_base = deepcopy(shuffled_joined_dataFrame)\n",
    "\n",
    "\n",
    "\n",
    "# *************************************************************************** #\n",
    "# Creates a pandas dataframe for the inputs (7D)\n",
    "shuffled_clean_input_df_7D = shuffled_joined_dataFrame.drop('efiTEM_GB', axis=1)\n",
    "\n",
    "# Creates training dataset (90% of total data) for outputs\n",
    "y_train = shuffled_clean_output_df.iloc[:int(\n",
    "    numpy.round(len(shuffled_clean_output_df)*0.9))]\n",
    "\n",
    "# Creates training dataset (90% of total data) for inputs\n",
    "x_train = shuffled_clean_input_df_7D.iloc[:int(\n",
    "    numpy.round(len(shuffled_clean_input_df_7D)*0.9))]\n",
    "\n",
    "# Creates testing dataset (10% of total data) for outputs\n",
    "y_test = shuffled_clean_output_df.iloc[int(\n",
    "    numpy.round(len(shuffled_clean_output_df)*0.9)):]\n",
    "\n",
    "# Creates testing dataset (10% of total data) for inputs\n",
    "x_test = shuffled_clean_input_df_7D.iloc[int(\n",
    "    numpy.round(len(shuffled_clean_input_df_7D)*0.9)):]\n",
    "# *************************************************************************** #\n",
    "\n",
    "\n",
    "# Deletes pandas dataframes that are no longer needed\n",
    "del target_df, input_df\n",
    "\n",
    "# Closes the HDFStore. This is good practice.\n",
    "store.close()"
   ]
  },
  {
   "cell_type": "code",
   "execution_count": 12,
   "metadata": {},
   "outputs": [
    {
     "data": {
      "text/html": [
       "<div>\n",
       "<style scoped>\n",
       "    .dataframe tbody tr th:only-of-type {\n",
       "        vertical-align: middle;\n",
       "    }\n",
       "\n",
       "    .dataframe tbody tr th {\n",
       "        vertical-align: top;\n",
       "    }\n",
       "\n",
       "    .dataframe thead th {\n",
       "        text-align: right;\n",
       "    }\n",
       "</style>\n",
       "<table border=\"1\" class=\"dataframe\">\n",
       "  <thead>\n",
       "    <tr style=\"text-align: right;\">\n",
       "      <th></th>\n",
       "      <th>Ati</th>\n",
       "      <th>Ate</th>\n",
       "      <th>An</th>\n",
       "      <th>q</th>\n",
       "      <th>smag</th>\n",
       "      <th>x</th>\n",
       "      <th>Ti_Te</th>\n",
       "    </tr>\n",
       "  </thead>\n",
       "  <tbody>\n",
       "    <tr>\n",
       "      <th>count</th>\n",
       "      <td>6.479137e+06</td>\n",
       "      <td>6.479137e+06</td>\n",
       "      <td>6.479137e+06</td>\n",
       "      <td>6.479137e+06</td>\n",
       "      <td>6.479137e+06</td>\n",
       "      <td>6.479137e+06</td>\n",
       "      <td>6.479137e+06</td>\n",
       "    </tr>\n",
       "    <tr>\n",
       "      <th>mean</th>\n",
       "      <td>8.897386e-16</td>\n",
       "      <td>2.201926e-15</td>\n",
       "      <td>4.284476e-15</td>\n",
       "      <td>-1.092859e-14</td>\n",
       "      <td>-2.001794e-15</td>\n",
       "      <td>2.039425e-15</td>\n",
       "      <td>-4.401278e-15</td>\n",
       "    </tr>\n",
       "    <tr>\n",
       "      <th>std</th>\n",
       "      <td>1.000000e+00</td>\n",
       "      <td>1.000000e+00</td>\n",
       "      <td>1.000000e+00</td>\n",
       "      <td>1.000000e+00</td>\n",
       "      <td>1.000000e+00</td>\n",
       "      <td>1.000000e+00</td>\n",
       "      <td>1.000000e+00</td>\n",
       "    </tr>\n",
       "    <tr>\n",
       "      <th>min</th>\n",
       "      <td>-1.632300e+00</td>\n",
       "      <td>-1.639065e+00</td>\n",
       "      <td>-1.901001e+00</td>\n",
       "      <td>-8.370116e-01</td>\n",
       "      <td>-1.574307e+00</td>\n",
       "      <td>-1.405340e+00</td>\n",
       "      <td>-1.235044e+00</td>\n",
       "    </tr>\n",
       "    <tr>\n",
       "      <th>25%</th>\n",
       "      <td>-7.928000e-01</td>\n",
       "      <td>-7.898708e-01</td>\n",
       "      <td>-5.438138e-01</td>\n",
       "      <td>-6.367600e-01</td>\n",
       "      <td>-8.011463e-01</td>\n",
       "      <td>-9.907529e-01</td>\n",
       "      <td>-8.817246e-01</td>\n",
       "    </tr>\n",
       "    <tr>\n",
       "      <th>50%</th>\n",
       "      <td>-1.059360e-01</td>\n",
       "      <td>-9.507533e-02</td>\n",
       "      <td>1.347799e-01</td>\n",
       "      <td>-3.983652e-01</td>\n",
       "      <td>-1.936629e-01</td>\n",
       "      <td>-1.615792e-01</td>\n",
       "      <td>-1.750863e-01</td>\n",
       "    </tr>\n",
       "    <tr>\n",
       "      <th>75%</th>\n",
       "      <td>5.809279e-01</td>\n",
       "      <td>5.997202e-01</td>\n",
       "      <td>6.437252e-01</td>\n",
       "      <td>1.976217e-01</td>\n",
       "      <td>9.108525e-01</td>\n",
       "      <td>6.675945e-01</td>\n",
       "      <td>7.576761e-01</td>\n",
       "    </tr>\n",
       "    <tr>\n",
       "      <th>max</th>\n",
       "      <td>2.641520e+00</td>\n",
       "      <td>2.684107e+00</td>\n",
       "      <td>1.831264e+00</td>\n",
       "      <td>2.581570e+00</td>\n",
       "      <td>1.739239e+00</td>\n",
       "      <td>1.704062e+00</td>\n",
       "      <td>1.944828e+00</td>\n",
       "    </tr>\n",
       "  </tbody>\n",
       "</table>\n",
       "</div>"
      ],
      "text/plain": [
       "                Ati           Ate            An             q          smag  \\\n",
       "count  6.479137e+06  6.479137e+06  6.479137e+06  6.479137e+06  6.479137e+06   \n",
       "mean   8.897386e-16  2.201926e-15  4.284476e-15 -1.092859e-14 -2.001794e-15   \n",
       "std    1.000000e+00  1.000000e+00  1.000000e+00  1.000000e+00  1.000000e+00   \n",
       "min   -1.632300e+00 -1.639065e+00 -1.901001e+00 -8.370116e-01 -1.574307e+00   \n",
       "25%   -7.928000e-01 -7.898708e-01 -5.438138e-01 -6.367600e-01 -8.011463e-01   \n",
       "50%   -1.059360e-01 -9.507533e-02  1.347799e-01 -3.983652e-01 -1.936629e-01   \n",
       "75%    5.809279e-01  5.997202e-01  6.437252e-01  1.976217e-01  9.108525e-01   \n",
       "max    2.641520e+00  2.684107e+00  1.831264e+00  2.581570e+00  1.739239e+00   \n",
       "\n",
       "                  x         Ti_Te  \n",
       "count  6.479137e+06  6.479137e+06  \n",
       "mean   2.039425e-15 -4.401278e-15  \n",
       "std    1.000000e+00  1.000000e+00  \n",
       "min   -1.405340e+00 -1.235044e+00  \n",
       "25%   -9.907529e-01 -8.817246e-01  \n",
       "50%   -1.615792e-01 -1.750863e-01  \n",
       "75%    6.675945e-01  7.576761e-01  \n",
       "max    1.704062e+00  1.944828e+00  "
      ]
     },
     "execution_count": 12,
     "metadata": {},
     "output_type": "execute_result"
    }
   ],
   "source": [
    "shuffled_clean_input_df_7D.describe(include='all')"
   ]
  },
  {
   "cell_type": "code",
   "execution_count": 13,
   "metadata": {},
   "outputs": [],
   "source": [
    "# Creates a pandas dataframe for the inputs\n",
    "shuffled_clean_input_df_1 = shuffled_clean_input_df_7D.drop('Ate', axis=1)"
   ]
  },
  {
   "cell_type": "code",
   "execution_count": 14,
   "metadata": {},
   "outputs": [
    {
     "data": {
      "text/html": [
       "<div>\n",
       "<style scoped>\n",
       "    .dataframe tbody tr th:only-of-type {\n",
       "        vertical-align: middle;\n",
       "    }\n",
       "\n",
       "    .dataframe tbody tr th {\n",
       "        vertical-align: top;\n",
       "    }\n",
       "\n",
       "    .dataframe thead th {\n",
       "        text-align: right;\n",
       "    }\n",
       "</style>\n",
       "<table border=\"1\" class=\"dataframe\">\n",
       "  <thead>\n",
       "    <tr style=\"text-align: right;\">\n",
       "      <th></th>\n",
       "      <th>Ati</th>\n",
       "      <th>An</th>\n",
       "      <th>q</th>\n",
       "      <th>smag</th>\n",
       "      <th>x</th>\n",
       "      <th>Ti_Te</th>\n",
       "    </tr>\n",
       "  </thead>\n",
       "  <tbody>\n",
       "    <tr>\n",
       "      <th>count</th>\n",
       "      <td>6.479137e+06</td>\n",
       "      <td>6.479137e+06</td>\n",
       "      <td>6.479137e+06</td>\n",
       "      <td>6.479137e+06</td>\n",
       "      <td>6.479137e+06</td>\n",
       "      <td>6.479137e+06</td>\n",
       "    </tr>\n",
       "    <tr>\n",
       "      <th>mean</th>\n",
       "      <td>8.897386e-16</td>\n",
       "      <td>4.284476e-15</td>\n",
       "      <td>-1.092859e-14</td>\n",
       "      <td>-2.001794e-15</td>\n",
       "      <td>2.039425e-15</td>\n",
       "      <td>-4.401278e-15</td>\n",
       "    </tr>\n",
       "    <tr>\n",
       "      <th>std</th>\n",
       "      <td>1.000000e+00</td>\n",
       "      <td>1.000000e+00</td>\n",
       "      <td>1.000000e+00</td>\n",
       "      <td>1.000000e+00</td>\n",
       "      <td>1.000000e+00</td>\n",
       "      <td>1.000000e+00</td>\n",
       "    </tr>\n",
       "    <tr>\n",
       "      <th>min</th>\n",
       "      <td>-1.632300e+00</td>\n",
       "      <td>-1.901001e+00</td>\n",
       "      <td>-8.370116e-01</td>\n",
       "      <td>-1.574307e+00</td>\n",
       "      <td>-1.405340e+00</td>\n",
       "      <td>-1.235044e+00</td>\n",
       "    </tr>\n",
       "    <tr>\n",
       "      <th>25%</th>\n",
       "      <td>-7.928000e-01</td>\n",
       "      <td>-5.438138e-01</td>\n",
       "      <td>-6.367600e-01</td>\n",
       "      <td>-8.011463e-01</td>\n",
       "      <td>-9.907529e-01</td>\n",
       "      <td>-8.817246e-01</td>\n",
       "    </tr>\n",
       "    <tr>\n",
       "      <th>50%</th>\n",
       "      <td>-1.059360e-01</td>\n",
       "      <td>1.347799e-01</td>\n",
       "      <td>-3.983652e-01</td>\n",
       "      <td>-1.936629e-01</td>\n",
       "      <td>-1.615792e-01</td>\n",
       "      <td>-1.750863e-01</td>\n",
       "    </tr>\n",
       "    <tr>\n",
       "      <th>75%</th>\n",
       "      <td>5.809279e-01</td>\n",
       "      <td>6.437252e-01</td>\n",
       "      <td>1.976217e-01</td>\n",
       "      <td>9.108525e-01</td>\n",
       "      <td>6.675945e-01</td>\n",
       "      <td>7.576761e-01</td>\n",
       "    </tr>\n",
       "    <tr>\n",
       "      <th>max</th>\n",
       "      <td>2.641520e+00</td>\n",
       "      <td>1.831264e+00</td>\n",
       "      <td>2.581570e+00</td>\n",
       "      <td>1.739239e+00</td>\n",
       "      <td>1.704062e+00</td>\n",
       "      <td>1.944828e+00</td>\n",
       "    </tr>\n",
       "  </tbody>\n",
       "</table>\n",
       "</div>"
      ],
      "text/plain": [
       "                Ati            An             q          smag             x  \\\n",
       "count  6.479137e+06  6.479137e+06  6.479137e+06  6.479137e+06  6.479137e+06   \n",
       "mean   8.897386e-16  4.284476e-15 -1.092859e-14 -2.001794e-15  2.039425e-15   \n",
       "std    1.000000e+00  1.000000e+00  1.000000e+00  1.000000e+00  1.000000e+00   \n",
       "min   -1.632300e+00 -1.901001e+00 -8.370116e-01 -1.574307e+00 -1.405340e+00   \n",
       "25%   -7.928000e-01 -5.438138e-01 -6.367600e-01 -8.011463e-01 -9.907529e-01   \n",
       "50%   -1.059360e-01  1.347799e-01 -3.983652e-01 -1.936629e-01 -1.615792e-01   \n",
       "75%    5.809279e-01  6.437252e-01  1.976217e-01  9.108525e-01  6.675945e-01   \n",
       "max    2.641520e+00  1.831264e+00  2.581570e+00  1.739239e+00  1.704062e+00   \n",
       "\n",
       "              Ti_Te  \n",
       "count  6.479137e+06  \n",
       "mean  -4.401278e-15  \n",
       "std    1.000000e+00  \n",
       "min   -1.235044e+00  \n",
       "25%   -8.817246e-01  \n",
       "50%   -1.750863e-01  \n",
       "75%    7.576761e-01  \n",
       "max    1.944828e+00  "
      ]
     },
     "execution_count": 14,
     "metadata": {},
     "output_type": "execute_result"
    }
   ],
   "source": [
    "shuffled_clean_input_df_1.describe(include='all')"
   ]
  },
  {
   "cell_type": "code",
   "execution_count": 15,
   "metadata": {},
   "outputs": [
    {
     "name": "stdout",
     "output_type": "stream",
     "text": [
      "(6479137, 6)\n"
     ]
    }
   ],
   "source": [
    "print(shuffled_clean_input_df_1.shape)"
   ]
  },
  {
   "cell_type": "code",
   "execution_count": 16,
   "metadata": {},
   "outputs": [],
   "source": [
    "shuffled_clean_input_df_2 = shuffled_clean_input_df_7D.drop('Ati', axis=1)\n",
    "shuffled_clean_input_df_2 = shuffled_clean_input_df_2.drop('An', axis=1)\n",
    "shuffled_clean_input_df_2 = shuffled_clean_input_df_2.drop('q', axis=1)\n",
    "shuffled_clean_input_df_2 = shuffled_clean_input_df_2.drop('smag', axis=1)\n",
    "shuffled_clean_input_df_2 = shuffled_clean_input_df_2.drop('x', axis=1)\n",
    "shuffled_clean_input_df_2 = shuffled_clean_input_df_2.drop('Ti_Te', axis=1)"
   ]
  },
  {
   "cell_type": "code",
   "execution_count": 17,
   "metadata": {},
   "outputs": [
    {
     "data": {
      "text/html": [
       "<div>\n",
       "<style scoped>\n",
       "    .dataframe tbody tr th:only-of-type {\n",
       "        vertical-align: middle;\n",
       "    }\n",
       "\n",
       "    .dataframe tbody tr th {\n",
       "        vertical-align: top;\n",
       "    }\n",
       "\n",
       "    .dataframe thead th {\n",
       "        text-align: right;\n",
       "    }\n",
       "</style>\n",
       "<table border=\"1\" class=\"dataframe\">\n",
       "  <thead>\n",
       "    <tr style=\"text-align: right;\">\n",
       "      <th></th>\n",
       "      <th>Ate</th>\n",
       "    </tr>\n",
       "  </thead>\n",
       "  <tbody>\n",
       "    <tr>\n",
       "      <th>count</th>\n",
       "      <td>6.479137e+06</td>\n",
       "    </tr>\n",
       "    <tr>\n",
       "      <th>mean</th>\n",
       "      <td>2.201926e-15</td>\n",
       "    </tr>\n",
       "    <tr>\n",
       "      <th>std</th>\n",
       "      <td>1.000000e+00</td>\n",
       "    </tr>\n",
       "    <tr>\n",
       "      <th>min</th>\n",
       "      <td>-1.639065e+00</td>\n",
       "    </tr>\n",
       "    <tr>\n",
       "      <th>25%</th>\n",
       "      <td>-7.898708e-01</td>\n",
       "    </tr>\n",
       "    <tr>\n",
       "      <th>50%</th>\n",
       "      <td>-9.507533e-02</td>\n",
       "    </tr>\n",
       "    <tr>\n",
       "      <th>75%</th>\n",
       "      <td>5.997202e-01</td>\n",
       "    </tr>\n",
       "    <tr>\n",
       "      <th>max</th>\n",
       "      <td>2.684107e+00</td>\n",
       "    </tr>\n",
       "  </tbody>\n",
       "</table>\n",
       "</div>"
      ],
      "text/plain": [
       "                Ate\n",
       "count  6.479137e+06\n",
       "mean   2.201926e-15\n",
       "std    1.000000e+00\n",
       "min   -1.639065e+00\n",
       "25%   -7.898708e-01\n",
       "50%   -9.507533e-02\n",
       "75%    5.997202e-01\n",
       "max    2.684107e+00"
      ]
     },
     "execution_count": 17,
     "metadata": {},
     "output_type": "execute_result"
    }
   ],
   "source": [
    "shuffled_clean_input_df_2.describe(include='all')"
   ]
  },
  {
   "cell_type": "code",
   "execution_count": 18,
   "metadata": {},
   "outputs": [
    {
     "name": "stdout",
     "output_type": "stream",
     "text": [
      "(6479137, 1)\n"
     ]
    }
   ],
   "source": [
    "print(shuffled_clean_input_df_2.shape)"
   ]
  },
  {
   "cell_type": "code",
   "execution_count": 19,
   "metadata": {},
   "outputs": [],
   "source": [
    "# *************************************************************************** #\n",
    "# Branch 1\n",
    "\n",
    "# Creates training dataset (90% of total data) for inputs\n",
    "x_train_1 = shuffled_clean_input_df_1.iloc[:int(\n",
    "    numpy.round(len(shuffled_clean_input_df_1)*0.9))]\n",
    "\n",
    "# Creates testing dataset (10% of total data) for inputs\n",
    "x_test_1 = shuffled_clean_input_df_1.iloc[int(\n",
    "    numpy.round(len(shuffled_clean_input_df_1)*0.9)):]\n",
    "# *************************************************************************** #"
   ]
  },
  {
   "cell_type": "code",
   "execution_count": 20,
   "metadata": {},
   "outputs": [],
   "source": [
    "# *************************************************************************** #\n",
    "# Branch 2\n",
    "\n",
    "# Creates training dataset (90% of total data) for inputs\n",
    "x_train_2 = shuffled_clean_input_df_2.iloc[:int(\n",
    "    numpy.round(len(shuffled_clean_input_df_2)*0.9))]\n",
    "\n",
    "# Creates testing dataset (10% of total data) for inputs\n",
    "x_test_2 = shuffled_clean_input_df_2.iloc[int(\n",
    "    numpy.round(len(shuffled_clean_input_df_2)*0.9)):]\n",
    "# *************************************************************************** #"
   ]
  },
  {
   "cell_type": "markdown",
   "metadata": {},
   "source": [
    "# Load Model"
   ]
  },
  {
   "cell_type": "code",
   "execution_count": 21,
   "metadata": {},
   "outputs": [],
   "source": [
    "from keras.models import load_model"
   ]
  },
  {
   "cell_type": "code",
   "execution_count": 22,
   "metadata": {},
   "outputs": [],
   "source": [
    "new_model = load_model('../Saved-Networks/2019-02-20_Run0166.h5', custom_objects={'rmse': rmse})"
   ]
  },
  {
   "cell_type": "markdown",
   "metadata": {},
   "source": [
    "#### Model information"
   ]
  },
  {
   "cell_type": "code",
   "execution_count": 23,
   "metadata": {},
   "outputs": [
    {
     "name": "stdout",
     "output_type": "stream",
     "text": [
      "__________________________________________________________________________________________________\n",
      "Layer (type)                    Output Shape         Param #     Connected to                     \n",
      "==================================================================================================\n",
      "6D_INPUTS (InputLayer)          (None, 6)            0                                            \n",
      "__________________________________________________________________________________________________\n",
      "hidden1_branch1 (Dense)         (None, 30)           210         6D_INPUTS[0][0]                  \n",
      "__________________________________________________________________________________________________\n",
      "hidden2_branch1 (Dense)         (None, 30)           930         hidden1_branch1[0][0]            \n",
      "__________________________________________________________________________________________________\n",
      "theta_branch1 (Dense)           (None, 1)            31          hidden2_branch1[0][0]            \n",
      "__________________________________________________________________________________________________\n",
      "hidden1_branch3 (Dense)         (None, 30)           210         6D_INPUTS[0][0]                  \n",
      "__________________________________________________________________________________________________\n",
      "theta_branch1_feeder (Dense)    (None, 1)            2           theta_branch1[0][0]              \n",
      "__________________________________________________________________________________________________\n",
      "Ate_INPUT (InputLayer)          (None, 1)            0                                            \n",
      "__________________________________________________________________________________________________\n",
      "hidden2_branch3 (Dense)         (None, 30)           930         hidden1_branch3[0][0]            \n",
      "__________________________________________________________________________________________________\n",
      "hidden1_branch4 (Dense)         (None, 30)           210         6D_INPUTS[0][0]                  \n",
      "__________________________________________________________________________________________________\n",
      "Addition_Operator (Add)         (None, 1)            0           theta_branch1_feeder[0][0]       \n",
      "                                                                 Ate_INPUT[0][0]                  \n",
      "__________________________________________________________________________________________________\n",
      "c_3_branch3 (Dense)             (None, 1)            31          hidden2_branch3[0][0]            \n",
      "__________________________________________________________________________________________________\n",
      "hidden2_branch4 (Dense)         (None, 30)           930         hidden1_branch4[0][0]            \n",
      "__________________________________________________________________________________________________\n",
      "TR (Dense)                      (None, 1)            2           Addition_Operator[0][0]          \n",
      "__________________________________________________________________________________________________\n",
      "Power_Operator (Lambda)         (None, 1)            0           Addition_Operator[0][0]          \n",
      "                                                                 c_3_branch3[0][0]                \n",
      "__________________________________________________________________________________________________\n",
      "m_branch4 (Dense)               (None, 1)            31          hidden2_branch4[0][0]            \n",
      "__________________________________________________________________________________________________\n",
      "Multiplication_Operator_1 (Mult (None, 1)            0           TR[0][0]                         \n",
      "                                                                 Power_Operator[0][0]             \n",
      "__________________________________________________________________________________________________\n",
      "Multiplication_Operator_2 (Mult (None, 1)            0           m_branch4[0][0]                  \n",
      "                                                                 Multiplication_Operator_1[0][0]  \n",
      "__________________________________________________________________________________________________\n",
      "Output_Layer (Dense)            (None, 1)            2           Multiplication_Operator_2[0][0]  \n",
      "==================================================================================================\n",
      "Total params: 3,519\n",
      "Trainable params: 3,515\n",
      "Non-trainable params: 4\n",
      "__________________________________________________________________________________________________\n"
     ]
    }
   ],
   "source": [
    "new_model.summary()"
   ]
  },
  {
   "cell_type": "code",
   "execution_count": 24,
   "metadata": {},
   "outputs": [
    {
     "data": {
      "text/plain": [
       "[array([[ 1.08331537e+00, -1.43798720e-02, -9.94820118e-01,\n",
       "         -1.05204397e-29,  6.78858697e-01,  2.96786875e-01,\n",
       "          2.74571776e+00,  1.52510071e+00, -3.08278769e-01,\n",
       "         -2.32359886e+00,  7.71240890e-01,  1.05810569e-29,\n",
       "          5.86725295e-01,  4.78018951e+00,  2.68804264e+00,\n",
       "         -5.15848279e-01, -2.18913838e-01,  5.09752560e+00,\n",
       "          7.06934631e-02,  8.06254670e-02, -2.63126040e+00,\n",
       "          4.33627081e+00, -2.94720030e+00, -1.49454212e+00,\n",
       "         -2.89823813e-03, -8.82209122e-01,  2.23255858e-01,\n",
       "          2.83072531e-01,  2.65926862e+00, -3.40056515e+00],\n",
       "        [ 4.92060572e-01,  7.41439834e-02,  1.24370742e+00,\n",
       "         -1.05850163e-29, -3.47954303e-01, -1.79437029e+00,\n",
       "         -2.77374244e+00, -3.47721052e+00, -2.64098549e+00,\n",
       "          4.77888775e+00, -2.19148350e+00,  1.04896625e-29,\n",
       "          7.49216199e-01, -1.96645629e+00,  2.37987638e+00,\n",
       "          6.35622883e+00,  5.17378688e-01, -1.30259764e+00,\n",
       "          3.82690454e+00, -1.30793023e+00,  1.44521034e+00,\n",
       "          2.96698117e+00,  2.40652800e+00,  2.09234810e+00,\n",
       "         -2.76183151e-03,  3.52748632e-01, -1.90441263e+00,\n",
       "         -2.50968075e+00, -3.40947199e+00,  1.16874981e+00],\n",
       "        [ 2.89155424e-01, -2.77642876e-01,  8.35843086e-01,\n",
       "          1.05631254e-29,  5.04842043e-01,  9.74977762e-02,\n",
       "          2.19537780e-01,  5.51332891e-01, -5.01748323e-01,\n",
       "         -8.58475626e-01,  6.61725402e-02,  1.05813713e-29,\n",
       "         -7.95155466e-02, -6.03609622e-01,  3.04331750e-01,\n",
       "          6.40856981e-01, -2.18750328e-01, -6.30094483e-02,\n",
       "          5.77789426e-01, -9.51002896e-01, -1.96594238e-01,\n",
       "          1.94084316e-01,  1.01093344e-01,  2.27898121e+00,\n",
       "         -2.58333655e-03, -4.72630262e+00,  6.32347018e-02,\n",
       "         -3.46550703e+00, -5.28018415e-01, -6.97926879e-01],\n",
       "        [-1.06680620e+00, -9.54974747e+00,  3.24476689e-01,\n",
       "          1.04881353e-29, -5.33752203e+00,  1.75504482e+00,\n",
       "         -2.54938555e+00,  5.70312500e-01,  2.92038226e+00,\n",
       "          1.18266463e-01,  1.74628961e+00, -1.04911257e-29,\n",
       "         -3.61170459e+00, -2.54497021e-01,  6.03215814e-01,\n",
       "         -5.85557842e+00,  4.36249018e+00,  3.48050857e+00,\n",
       "         -3.68562150e+00, -4.44123793e+00,  3.29742163e-01,\n",
       "         -4.35145187e+00, -5.81594527e-01,  3.28827429e+00,\n",
       "          1.77882670e-03,  8.95929575e-01, -4.57581139e+00,\n",
       "          4.00066137e+00, -9.35214944e-03, -2.13540483e+00],\n",
       "        [-2.83037275e-02,  3.03069997e+00,  1.07641649e+00,\n",
       "         -1.05687023e-29, -9.93154012e-03, -1.55980792e-02,\n",
       "         -5.20085990e-02, -2.14767486e-01, -4.97781873e-01,\n",
       "         -6.09277427e-01, -2.06036234e+00, -1.05074073e-29,\n",
       "          3.27220058e+00,  1.10305631e+00,  7.07971752e-01,\n",
       "          1.50923145e+00,  8.73803675e-01, -1.43923149e-01,\n",
       "          3.29424381e-01, -1.77431390e-01, -1.54024661e+00,\n",
       "          6.10496879e-01, -3.56865495e-01, -5.90503663e-02,\n",
       "          6.02729293e-03, -1.10678995e+00, -8.04091096e-01,\n",
       "         -5.29719532e-01,  3.35040599e-01,  3.79828954e+00],\n",
       "        [-2.56090164e+00, -1.07846349e-01,  1.78144836e+00,\n",
       "          1.05918759e-29,  8.14343035e-01,  2.10775304e+00,\n",
       "          2.34706450e+00,  2.39332986e+00,  8.79565328e-02,\n",
       "         -2.71314573e+00,  1.56279302e+00, -1.04937332e-29,\n",
       "          5.65303396e-03,  2.43012214e+00, -1.69951403e+00,\n",
       "         -6.02914989e-01, -6.61361277e-01,  3.54125023e+00,\n",
       "         -9.15352330e-02, -3.06477189e-01, -2.79342127e+00,\n",
       "          8.65627900e-02, -9.36498269e-02,  6.68604001e-02,\n",
       "          8.93448852e-03, -9.38595712e-01,  4.30256128e-01,\n",
       "          3.90045971e-01,  1.10274625e+00, -2.56059241e+00]], dtype=float32),\n",
       " array([-4.7712584 , -0.5130203 ,  3.870894  , -9.000275  , -5.2436805 ,\n",
       "         5.205093  , -2.4664407 ,  4.4182587 ,  4.960353  , -3.3787234 ,\n",
       "         3.770198  ,  9.000025  ,  0.978429  ,  1.0536035 ,  0.24498503,\n",
       "        -6.731123  ,  4.271338  ,  1.0994452 , -2.593532  , -1.6249264 ,\n",
       "         2.8135097 ,  0.9127609 , -5.052159  , -2.940246  ,  8.288091  ,\n",
       "         0.4497379 , -3.180939  ,  4.5896907 ,  4.8711095 ,  2.3196614 ],\n",
       "       dtype=float32),\n",
       " array([[-6.75702333e-01,  9.54634726e-01, -3.34703326e+00,\n",
       "         -1.60759485e+00,  5.74109137e-01, -2.31266427e+00,\n",
       "          1.05671194e-29, -1.05357561e-29,  1.96664762e+00,\n",
       "          1.05543429e-29,  2.04589057e+00,  3.08232568e-02,\n",
       "         -1.05184950e-29, -4.03069764e-01, -2.55099821e+00,\n",
       "         -1.19593573e+00, -2.99527764e-01,  1.26148954e-01,\n",
       "         -2.62618691e-01,  1.39078832e+00,  9.21235621e-01,\n",
       "          1.05511320e+00, -5.34838140e-01, -1.05720953e-29,\n",
       "          1.05996774e-29,  3.66232932e-01, -3.40663815e+00,\n",
       "         -2.73045272e-01,  7.71147251e-01,  1.10410476e+00],\n",
       "        [-1.14703566e-01,  6.88809156e-01, -1.34255528e+00,\n",
       "          2.58551896e-01, -6.45201802e-01, -2.63462162e+00,\n",
       "          1.05690589e-29,  1.04873521e-29,  2.98945498e+00,\n",
       "          1.05049292e-29,  2.64413297e-01,  2.36786976e-02,\n",
       "          1.05431093e-29,  1.42171055e-01, -1.40234336e-01,\n",
       "         -7.95521319e-01, -4.94058943e+00, -4.18498963e-01,\n",
       "          3.82424384e-01,  7.25830257e-01, -4.96192038e-01,\n",
       "          3.08742911e-01, -8.72035623e-02,  1.05040242e-29,\n",
       "          1.04944795e-29, -1.74887729e+00, -2.78135848e+00,\n",
       "         -5.57565726e-02,  1.11500360e-01,  1.08089447e-01],\n",
       "        [ 8.94289464e-02, -7.95809150e-01,  2.19167471e+00,\n",
       "          7.41304457e-01, -2.77327746e-01,  1.55802763e+00,\n",
       "         -1.05845311e-29, -1.05708885e-29, -6.70815885e-01,\n",
       "         -1.05396373e-29, -1.16636121e+00, -1.10703586e-02,\n",
       "          1.05901885e-29,  2.13478476e-01,  1.46064687e+00,\n",
       "          4.48937804e-01,  4.46695648e-02,  1.36223942e-01,\n",
       "          1.21646464e-01, -1.26887962e-01, -7.63927549e-02,\n",
       "         -7.32678950e-01,  3.61177355e-01,  1.05340739e-29,\n",
       "          1.05528322e-29, -4.90386516e-01,  1.04881573e+00,\n",
       "         -3.66752476e-01, -3.60583216e-02, -1.50446385e-01],\n",
       "        [-2.44637057e-01,  5.43636203e-01, -3.25872689e-01,\n",
       "         -6.20293438e-01,  3.07118267e-01, -5.07528901e-01,\n",
       "          1.05420899e-29, -1.05875230e-29,  5.46190003e-03,\n",
       "         -1.05619495e-29,  3.86042333e+00,  1.07586626e-02,\n",
       "         -1.05096974e-29, -2.30787918e-01, -2.04193187e+00,\n",
       "         -1.05694997e+00, -4.33954597e-01, -1.13534346e-01,\n",
       "         -2.74308562e-01, -1.09535444e+00,  4.37514335e-01,\n",
       "          3.60111147e-01, -2.99749047e-01, -1.04881932e-29,\n",
       "          1.05439707e-29, -3.69369276e-02,  2.00084373e-01,\n",
       "          6.07263505e-01,  7.27459937e-02,  3.08468580e-01],\n",
       "        [ 1.03365493e+00,  9.32945251e-01, -9.02545631e-01,\n",
       "         -7.94809580e-01, -2.83760577e-01, -1.53772509e+00,\n",
       "          1.05411773e-29, -1.04979071e-29,  3.64285976e-01,\n",
       "         -1.05953178e-29, -4.05395651e+00,  1.18470928e-02,\n",
       "         -1.05250830e-29,  2.41566464e-01,  3.40784812e+00,\n",
       "          3.75570750e+00, -1.80683684e+00, -1.63895324e-01,\n",
       "          4.42755163e-01,  1.56230366e+00, -2.65933901e-01,\n",
       "         -2.46111155e+00,  1.74371266e+00, -1.05228923e-29,\n",
       "          1.05891458e-29, -3.06120276e-01, -3.32408369e-01,\n",
       "          5.85594237e-01, -1.20684242e+00, -1.71170950e+00],\n",
       "        [-1.05234884e-01, -2.77826250e-01,  4.57629824e+00,\n",
       "          1.11841917e+00, -5.32842577e-01,  4.14093208e+00,\n",
       "         -1.05702874e-29,  1.05289793e-29, -3.85384369e+00,\n",
       "         -1.05770568e-29, -2.52883148e+00, -3.31752598e-02,\n",
       "          1.05555601e-29,  4.03217196e-01, -5.69739006e-02,\n",
       "          9.54640806e-01,  2.28746462e+00, -1.45302698e-01,\n",
       "         -4.48049419e-02, -1.45041049e+00,  1.32829988e+00,\n",
       "          1.61863819e-01, -1.74258351e-01, -1.05947927e-29,\n",
       "         -1.05858296e-29, -1.54744819e-01,  4.39894724e+00,\n",
       "         -2.80840665e-01,  2.58341461e-01,  1.85273603e-01],\n",
       "        [ 1.05156578e-01,  2.73151904e-01,  1.55534059e-01,\n",
       "         -3.24706495e-01, -2.35276192e-01,  2.33363450e-01,\n",
       "          1.05054107e-29,  1.04870489e-29, -8.44741046e-01,\n",
       "          1.05486328e-29, -1.44701147e+00,  9.72883496e-03,\n",
       "         -1.05752452e-29,  3.46735954e-01,  3.29623282e-01,\n",
       "          2.23409370e-01,  9.94584430e-03, -2.25888193e-01,\n",
       "          3.84796470e-01,  1.98298156e-01,  3.74195874e-01,\n",
       "         -1.13094307e-01, -1.89118043e-01, -1.05124637e-29,\n",
       "          1.05270240e-29, -8.16250145e-01, -7.91799650e-03,\n",
       "          1.62966460e-01, -1.21578641e-01, -1.93274304e-01],\n",
       "        [ 2.32905656e-01, -1.30322695e+00,  3.62134457e-01,\n",
       "          4.30762947e-01, -7.53529012e-01,  2.51026797e+00,\n",
       "         -1.05230006e-29,  1.04952935e-29, -8.05679739e-01,\n",
       "          1.05272324e-29, -2.76909024e-02, -4.29419382e-03,\n",
       "          1.05955615e-29,  3.79423708e-01,  2.30067130e-02,\n",
       "         -1.26061594e+00, -2.53832251e-01,  3.39663588e-02,\n",
       "          8.06623995e-02, -9.80906188e-01, -3.41965646e-01,\n",
       "          1.10008931e+00, -5.17689824e-01,  1.04950964e-29,\n",
       "         -1.05020456e-29, -3.02896071e-02,  1.81275713e+00,\n",
       "          9.11255404e-02, -1.81143537e-01, -2.30253726e-01],\n",
       "        [ 2.95243889e-01, -1.39484787e+00,  3.54453516e+00,\n",
       "          8.79157126e-01, -9.21724081e-01,  3.18961215e+00,\n",
       "          1.05899793e-29, -1.05081740e-29, -3.14360929e+00,\n",
       "         -1.05675686e-29, -9.91212964e-01,  4.81604151e-02,\n",
       "         -1.06091318e-29,  4.02422518e-01,  6.66739285e-01,\n",
       "          1.97041109e-01, -1.11494185e-02, -7.30219841e-01,\n",
       "          2.52252102e-01, -1.95213705e-01, -9.20987725e-02,\n",
       "         -2.10540697e-01,  2.11217239e-01, -1.05796628e-29,\n",
       "          1.06031885e-29,  4.09736224e-02,  2.03780723e+00,\n",
       "          3.26492965e-01, -4.25274402e-01, -6.35779500e-01],\n",
       "        [-1.52405843e-01,  9.46952343e-01, -1.32860518e+00,\n",
       "         -4.85156715e-01,  8.19425642e-01, -1.36792600e+00,\n",
       "          1.04907210e-29, -1.04892818e-29,  4.76839393e-01,\n",
       "          1.05693546e-29,  2.82107949e-01, -1.52440853e-02,\n",
       "         -1.05332592e-29, -4.38950896e-01,  4.94305074e-01,\n",
       "          1.25345886e+00,  3.49110991e-01,  6.20586097e-01,\n",
       "         -2.72118803e-02,  2.52614230e-01,  2.05551490e-01,\n",
       "         -2.88559318e-01,  9.14741457e-02, -1.05709412e-29,\n",
       "          1.04896542e-29,  3.35984975e-01, -4.48390007e-01,\n",
       "         -8.92160982e-02,  1.81592882e-01,  1.98024303e-01],\n",
       "        [-1.19736567e-02, -4.25262570e-01,  6.53958499e-01,\n",
       "          1.65886223e-01, -5.55735230e-01,  9.80458736e-01,\n",
       "          1.05524049e-29, -1.05054348e-29, -1.11728835e+00,\n",
       "          1.05600003e-29,  5.97497582e-01, -4.17945813e-03,\n",
       "          1.05080573e-29,  3.49061906e-01, -2.64321685e-01,\n",
       "         -4.39100899e-02, -9.61957932e-01, -6.52682245e-01,\n",
       "         -3.03584933e-01, -4.28659707e-01,  6.96362481e-02,\n",
       "         -1.11499049e-01, -2.83712119e-01,  1.05214945e-29,\n",
       "          1.05208076e-29,  1.17355511e-01,  4.35678214e-01,\n",
       "         -1.37988314e-01,  1.72768645e-02, -2.12439969e-02],\n",
       "        [ 2.44637057e-01, -5.43636322e-01,  3.75364959e-01,\n",
       "          6.20297194e-01, -3.07118386e-01,  6.64514661e-01,\n",
       "         -1.05426541e-29,  1.05877863e-29, -3.71645950e-02,\n",
       "          1.05631088e-29, -3.89372563e+00, -1.07586626e-02,\n",
       "          1.05122071e-29,  2.30787918e-01,  2.15110660e+00,\n",
       "          1.06084585e+00,  3.23527336e-01,  1.13534346e-01,\n",
       "          2.74308562e-01,  1.09413683e+00, -4.37504560e-01,\n",
       "         -3.62805188e-01,  2.98063368e-01,  1.04891479e-29,\n",
       "         -1.05444702e-29,  3.69369276e-02, -9.85903963e-02,\n",
       "         -6.07263505e-01, -7.27459937e-02, -3.08468580e-01],\n",
       "        [-1.83060288e-01,  3.77342284e-01, -2.11140275e+00,\n",
       "         -1.83235124e-01,  1.42924741e-01, -2.01255369e+00,\n",
       "          1.05561243e-29,  1.05141564e-29,  2.32934403e+00,\n",
       "          1.05165713e-29,  2.25893521e+00, -3.66256526e-03,\n",
       "          1.05274333e-29, -6.39058650e-02, -1.10341084e+00,\n",
       "          1.35339886e-01, -1.63318920e+00, -3.91007662e-02,\n",
       "          3.68433416e-01, -1.31772113e+00,  1.46042347e+00,\n",
       "          2.78332442e-01, -6.40106425e-02, -1.04990634e-29,\n",
       "          1.05764534e-29, -2.57799596e-01, -1.35804999e+00,\n",
       "         -2.30744019e-01,  2.46170938e-01,  3.11605990e-01],\n",
       "        [ 9.58341286e-02, -1.11543961e-01,  1.12199461e+00,\n",
       "         -5.45202076e-01,  2.99264729e-01,  5.02905287e-02,\n",
       "          1.05690296e-29,  1.05707441e-29, -3.78955007e-01,\n",
       "          1.05169512e-29, -1.93745956e-01,  2.57098973e-02,\n",
       "         -1.05220911e-29,  1.25545725e-01,  4.21800613e-01,\n",
       "          8.28036591e-02,  1.68976605e+00,  1.36489823e-01,\n",
       "          6.15996361e-01, -6.60915852e-01,  5.81348538e-02,\n",
       "          5.34830131e-02,  1.24000259e-01, -1.05445093e-29,\n",
       "         -1.05755266e-29,  1.79387081e+00,  6.17688715e-01,\n",
       "         -1.18399844e-01, -1.49968252e-01, -1.97027639e-01],\n",
       "        [-1.06229998e-01, -2.98244685e-01,  3.18428069e-01,\n",
       "         -3.83804798e-01,  1.28984070e+00,  3.60709012e-01,\n",
       "          1.05506851e-29, -1.05406906e-29, -3.79169524e-01,\n",
       "         -1.05045433e-29, -3.23872298e-01, -1.88657697e-02,\n",
       "         -1.05934204e-29, -1.57352224e-01,  5.38484097e-01,\n",
       "          1.31973767e+00,  2.54750818e-01,  5.07743955e-01,\n",
       "         -1.03632428e-01, -2.64482081e-01, -1.58074617e-01,\n",
       "         -9.43099618e-01,  5.70760190e-01, -1.05440549e-29,\n",
       "          1.05152781e-29,  1.48737955e+00,  2.15837550e+00,\n",
       "         -5.98391831e-01,  5.39498106e-02, -2.95201123e-01],\n",
       "        [-1.06028342e+00, -7.66214669e-01, -8.06494057e-01,\n",
       "          3.30966532e-01,  5.46806872e-01, -2.04440331e+00,\n",
       "         -1.05116053e-29,  1.05859146e-29,  7.78507173e-01,\n",
       "          1.05346570e-29,  3.78358841e+00, -1.29786851e-02,\n",
       "         -1.06089008e-29, -4.16494727e-01, -3.00705695e+00,\n",
       "         -3.58030891e+00,  5.51466525e-01,  6.80367529e-01,\n",
       "         -1.23277433e-01, -3.15087366e+00,  1.81911862e+00,\n",
       "          2.60609126e+00, -1.77521050e+00,  1.04820144e-29,\n",
       "         -1.05332840e-29,  9.70843911e-01,  4.88435477e-01,\n",
       "         -8.01448584e-01,  1.16538405e+00,  1.45088756e+00],\n",
       "        [-8.61626446e-01, -6.50749385e-01,  1.24072753e-01,\n",
       "          6.01170003e-01,  2.04195842e-01,  1.64679036e-01,\n",
       "         -1.05835658e-29,  1.05646503e-29, -6.70511872e-02,\n",
       "          1.05126856e-29,  1.28065646e+00, -1.24085927e-02,\n",
       "          1.05859131e-29, -3.10813278e-01, -1.41738725e+00,\n",
       "         -3.98321986e+00,  6.06978774e-01,  2.07368836e-01,\n",
       "         -1.30069211e-01, -3.34920788e+00,  8.78647923e-01,\n",
       "          2.88889146e+00, -1.40116262e+00,  1.05617411e-29,\n",
       "         -1.05191751e-29,  1.37221739e-01, -4.45440948e-01,\n",
       "         -6.55311823e-01,  8.78158212e-01,  9.38591003e-01],\n",
       "        [-5.77401258e-02, -9.98040974e-01,  2.04165030e+00,\n",
       "         -9.33255732e-01,  1.58246055e-01,  9.67314005e-01,\n",
       "         -1.05564712e-29, -1.05142594e-29, -1.01460123e+00,\n",
       "         -1.05422509e-29,  1.07577369e-01, -1.11189215e-02,\n",
       "         -1.05084523e-29, -2.18632240e-02, -3.78511637e-01,\n",
       "         -3.82437885e-01,  1.05956578e+00, -1.05956376e-01,\n",
       "          1.49393240e-02, -8.20250034e-01,  2.33413965e-01,\n",
       "          3.56592834e-01, -2.27722302e-01, -1.05872101e-29,\n",
       "          1.05451969e-29,  1.34987044e+00,  9.82640862e-01,\n",
       "         -4.42305237e-01,  6.59897551e-02,  2.92842858e-04],\n",
       "        [-8.98412228e-01, -6.98308825e-01, -1.27794385e+00,\n",
       "          3.19248438e-01,  3.97732824e-01, -1.08046162e+00,\n",
       "         -1.05796500e-29,  1.05411721e-29,  1.93519568e+00,\n",
       "         -1.05414993e-29,  3.65946555e+00, -1.28345415e-02,\n",
       "          1.05191036e-29, -2.54031271e-01, -1.62940836e+00,\n",
       "         -1.81738317e+00,  2.47856289e-01,  6.41435623e-01,\n",
       "         -1.81828327e-02, -1.64936364e+00,  1.50779057e+00,\n",
       "          1.76996732e+00, -1.24983633e+00, -1.06037625e-29,\n",
       "         -1.05311903e-29,  9.01362777e-01, -1.23076332e+00,\n",
       "         -7.46975720e-01,  1.01604235e+00,  1.15200353e+00],\n",
       "        [ 2.92628497e-01,  5.02062440e-01, -1.16560686e+00,\n",
       "         -9.42691684e-01,  3.71374518e-01, -4.59815830e-01,\n",
       "          1.05313024e-29, -1.05184498e-29,  1.68287110e+00,\n",
       "          1.05115804e-29, -3.20069045e-01,  8.42694007e-03,\n",
       "         -1.05670254e-29,  3.31941605e-01,  4.72158879e-01,\n",
       "          4.39955771e-01,  1.35300112e+00,  7.13507473e-01,\n",
       "          8.42429221e-01,  8.82669687e-01, -1.12730730e+00,\n",
       "         -2.88324624e-01,  2.19642058e-01, -1.05830181e-29,\n",
       "          1.05038895e-29,  3.78711432e-01, -7.68954873e-01,\n",
       "          3.03717673e-01, -3.65383238e-01, -4.56932515e-01],\n",
       "        [-1.41433731e-01,  6.54372126e-02, -4.45963502e-01,\n",
       "          3.01424116e-01, -4.63367939e-01, -5.78034639e-01,\n",
       "          1.05188629e-29, -1.04904103e-29,  3.68109494e-01,\n",
       "         -1.05648941e-29,  4.17848706e-01, -1.98020339e-02,\n",
       "          1.05573461e-29, -3.82114463e-02, -5.32426119e-01,\n",
       "         -1.30539671e-01, -2.57699698e-01, -1.03750221e-01,\n",
       "          1.43493935e-01,  1.45140141e-01,  4.81328458e-01,\n",
       "          2.46015742e-01, -1.47580698e-01,  1.04956599e-29,\n",
       "          1.05113111e-29, -2.05060259e-01, -7.22740218e-02,\n",
       "         -2.46768564e-01,  2.52971500e-01,  2.79300958e-01],\n",
       "        [-4.21607137e-01, -7.79210627e-01,  6.39260352e-01,\n",
       "          5.05855680e-01,  7.50714168e-02,  5.69797695e-01,\n",
       "         -1.05841903e-29,  1.05494430e-29, -8.98267925e-02,\n",
       "          1.05550064e-29,  3.96968269e+00, -1.09230261e-02,\n",
       "          1.05562109e-29,  1.10046510e-02, -3.80394411e+00,\n",
       "         -2.28851962e+00,  9.47706699e-01,  4.54264700e-01,\n",
       "          2.03022752e-02, -1.55342042e+00,  7.27120399e-01,\n",
       "          1.00404692e+00, -6.68643653e-01,  1.05875667e-29,\n",
       "         -1.05611385e-29,  2.85263717e-01, -2.46053681e-01,\n",
       "         -7.01777279e-01,  4.71619457e-01,  4.24343973e-01],\n",
       "        [-4.80250791e-02,  7.70995319e-01, -1.86351335e+00,\n",
       "          2.00274169e-01, -1.66728735e-01, -1.63546228e+00,\n",
       "         -1.05088187e-29, -1.05228027e-29,  3.83881211e+00,\n",
       "         -1.05596482e-29,  1.13036478e+00,  2.60952651e-03,\n",
       "         -1.05032884e-29, -3.67985368e-01, -3.72392327e-01,\n",
       "         -3.89010549e-01, -2.52394974e-01,  1.28040373e-01,\n",
       "          4.56129536e-02,  7.91099906e-01, -6.84612617e-02,\n",
       "         -5.49107119e-02, -2.49737591e-01,  1.05302492e-29,\n",
       "         -1.05803587e-29, -8.90809357e-01, -2.52062845e+00,\n",
       "          3.11968569e-02, -4.99964654e-02, -1.88657552e-01],\n",
       "        [-1.73447922e-01,  1.03814459e+00, -1.56783533e+00,\n",
       "         -1.09039652e+00,  3.66273880e-01, -4.62847538e-02,\n",
       "         -1.05556970e-29, -1.04937257e-29,  1.12322593e+00,\n",
       "         -1.05117053e-29, -1.01718910e-01, -2.78551411e-02,\n",
       "          1.05187530e-29, -3.26700211e-01, -3.16254318e-01,\n",
       "         -4.64168727e-01, -2.86998415e+00,  2.50188440e-01,\n",
       "          3.47393185e-01,  2.27941662e-01,  2.28322372e-01,\n",
       "          3.91141415e-01, -4.52019006e-01,  1.05381485e-29,\n",
       "         -1.05648317e-29,  5.73572099e-01, -1.15411580e+00,\n",
       "         -1.13113612e-01,  1.29594877e-01,  1.87213048e-01],\n",
       "        [ 2.44636998e-01, -4.81152505e-01,  1.06337965e+00,\n",
       "          6.16143823e-01, -3.07121515e-01,  9.71012414e-01,\n",
       "          1.05281081e-29, -1.05337256e-29, -6.48411036e-01,\n",
       "         -1.05527464e-29, -1.02749300e+00, -1.07586607e-02,\n",
       "          1.05233722e-29,  2.30787739e-01,  3.03739190e-01,\n",
       "          6.81029558e-02,  3.32723379e-01,  1.13544732e-01,\n",
       "          2.74406165e-01,  7.04563677e-01, -4.91019547e-01,\n",
       "         -2.05665708e-01,  2.82647073e-01, -1.05413865e-29,\n",
       "         -1.05012496e-29,  3.67288738e-02, -2.55730152e-01,\n",
       "         -6.07262790e-01, -7.27627873e-02, -3.07870418e-01],\n",
       "        [ 1.42845124e-01, -3.40484113e-01, -1.25347698e+00,\n",
       "          1.15378261e+00,  4.51516569e-01, -4.77904022e-01,\n",
       "          1.05381026e-29,  1.05884333e-29,  1.42758441e+00,\n",
       "          1.05230811e-29,  6.35420009e-02,  1.31929538e-03,\n",
       "          1.06113609e-29, -6.48205057e-02, -5.23864269e-01,\n",
       "         -1.59496605e+00,  1.17542422e+00,  1.56006083e-01,\n",
       "         -1.76268935e-01, -3.85480970e-01, -2.39678323e-01,\n",
       "          1.21034503e+00, -9.74643469e-01, -1.05352385e-29,\n",
       "         -1.05149170e-29,  3.96222115e-01, -1.32634139e+00,\n",
       "         -2.44133379e-02, -1.86219305e-01, -3.60939264e-01],\n",
       "        [ 1.11674976e+00,  8.79846096e-01,  7.46843666e-02,\n",
       "         -6.52657807e-01, -8.71176898e-01, -1.64765275e+00,\n",
       "          1.05501615e-29, -1.05567600e-29,  9.77705598e-01,\n",
       "          1.05938801e-29, -5.53947878e+00,  1.13771288e-02,\n",
       "         -1.05609873e-29,  4.84013408e-01,  2.49205780e+00,\n",
       "          1.09076500e+00, -1.32399487e+00, -7.66307712e-01,\n",
       "          6.64533794e-01, -6.70500472e-02, -2.64922738e+00,\n",
       "         -9.52542663e-01,  2.63076127e-01, -1.05252658e-29,\n",
       "          1.05640049e-29, -3.80770206e-01, -7.10943282e-01,\n",
       "          8.63888383e-01, -1.04748619e+00, -1.04588556e+00],\n",
       "        [-2.75044799e-01, -9.77017820e-01,  1.55764663e+00,\n",
       "          4.30534065e-01, -2.52716821e-02,  2.52801681e+00,\n",
       "          1.05067175e-29, -1.05291041e-29, -1.77507555e+00,\n",
       "         -1.05728912e-29, -4.03971365e-03,  1.37428252e-03,\n",
       "          1.06074647e-29,  1.72012120e-01,  5.70128918e-01,\n",
       "          5.12459755e-01,  1.25817132e+00, -5.35964295e-02,\n",
       "         -7.01451898e-01,  5.34135938e-01,  2.31430739e-01,\n",
       "         -4.72020626e-01,  1.03943102e-01, -1.05056296e-29,\n",
       "          1.05637400e-29,  1.07317114e+00,  2.46470952e+00,\n",
       "         -2.30643511e-01,  3.02391380e-01,  4.02693510e-01],\n",
       "        [ 7.54071679e-03,  5.10351127e-03,  6.74943924e-01,\n",
       "          3.17679763e-01, -2.49391019e-01,  1.02863646e+00,\n",
       "         -1.04953913e-29,  1.05361947e-29, -8.84588480e-01,\n",
       "         -1.05589884e-29, -4.61744994e-01,  5.73220924e-02,\n",
       "          1.05562515e-29,  4.11173314e-01,  1.71601042e-01,\n",
       "          1.99658424e-01,  4.71939057e-01,  2.96061277e-01,\n",
       "         -8.39058384e-02, -7.70575225e-01,  7.03156352e-01,\n",
       "          1.90981142e-02,  1.11322656e-01, -1.05087811e-29,\n",
       "         -1.05677017e-29,  2.78603025e-02,  2.51480460e-01,\n",
       "          8.41693059e-02,  1.36137083e-02,  6.34278655e-02],\n",
       "        [ 3.35307539e-01,  5.65382063e-01, -1.47723627e+00,\n",
       "          3.58802266e-02, -6.33130133e-01,  4.38942105e-01,\n",
       "          1.05497123e-29, -1.05000489e-29,  3.39256912e-01,\n",
       "         -1.05303778e-29, -6.03600919e-01,  4.41971645e-02,\n",
       "          1.05730018e-29,  4.68421951e-02,  2.12102056e-01,\n",
       "          5.81859052e-01,  5.52203953e-01,  2.14203503e-02,\n",
       "          8.33528042e-01,  8.23271632e-01,  2.28585616e-01,\n",
       "         -1.21587396e-01,  3.88923615e-01,  1.05738835e-29,\n",
       "          1.05833710e-29, -1.13147601e-01, -6.72979772e-01,\n",
       "          1.15028366e-01, -2.84232348e-01, -3.07581455e-01]], dtype=float32),\n",
       " array([ 0.40618604, -1.1924808 ,  0.3347672 , -0.33297196,  1.2635083 ,\n",
       "         0.35412768, -9.001699  ,  8.999998  ,  0.18696776,  9.003437  ,\n",
       "        -5.139769  , -5.5257473 ,  9.0201845 , -4.6555295 ,  4.1190157 ,\n",
       "         2.8266213 ,  0.08549301,  1.244458  ,  0.25853914,  3.242459  ,\n",
       "        -2.298882  , -2.7733126 ,  2.2280493 ,  9.002723  , -9.001152  ,\n",
       "         0.9290404 , -0.21824288,  4.7014613 , -1.50018   , -0.83759147],\n",
       "       dtype=float32),\n",
       " array([[-0.1433145 ],\n",
       "        [-0.04694077],\n",
       "        [ 0.24460927],\n",
       "        [ 0.12573215],\n",
       "        [ 0.09317291],\n",
       "        [ 0.14377664],\n",
       "        [ 1.4787067 ],\n",
       "        [-1.4618161 ],\n",
       "        [-0.08699275],\n",
       "        [-1.8725846 ],\n",
       "        [ 2.105259  ],\n",
       "        [-0.03132107],\n",
       "        [-1.57407   ],\n",
       "        [-0.08130782],\n",
       "        [-1.8445238 ],\n",
       "        [-1.0765543 ],\n",
       "        [ 0.10357614],\n",
       "        [ 0.08107859],\n",
       "        [-0.04071258],\n",
       "        [-0.65508205],\n",
       "        [ 0.5002588 ],\n",
       "        [ 0.5444903 ],\n",
       "        [-0.2312874 ],\n",
       "        [-1.6162174 ],\n",
       "        [ 1.4337556 ],\n",
       "        [ 0.07844226],\n",
       "        [ 0.09334809],\n",
       "        [-0.0682689 ],\n",
       "        [ 0.16996457],\n",
       "        [ 0.33134612]], dtype=float32),\n",
       " array([0.12410766], dtype=float32),\n",
       " array([[-0.04473239,  2.3438506 , -1.1707156 , -0.30487844, -2.2273324 ,\n",
       "          0.6083185 ,  3.5977697 , -3.8519485 , -0.02229114, -4.89209   ,\n",
       "          3.7643244 ,  4.243097  ,  0.5295683 ,  4.0114565 , -0.02100755,\n",
       "         -0.21409534,  0.10389082,  0.34645087,  2.6936078 , -0.8833232 ,\n",
       "          0.21063295, -0.22689977,  4.4151354 ,  1.0620052 , -0.54033345,\n",
       "         -2.7581866 , -3.8259623 , -0.3994407 ,  0.23713894,  2.567458  ],\n",
       "        [ 4.6575694 ,  0.3678372 ,  2.3182619 , -3.198615  ,  0.32041624,\n",
       "         -0.5921804 ,  0.13134989,  3.0255597 , -0.5523517 ,  1.4605973 ,\n",
       "         -3.010993  , -3.1252975 ,  1.0944613 , -3.1466212 , -1.2239244 ,\n",
       "         -4.3870606 , -1.9997685 ,  2.2568176 , -1.5271332 , -0.55302256,\n",
       "         -0.5949216 ,  0.96299636, -7.1151395 , -3.0627785 , -0.79189   ,\n",
       "          4.0641985 ,  1.4649402 ,  0.49391943, -1.387351  , -0.799739  ],\n",
       "        [-0.23066127,  0.1812508 , -1.3669069 , -0.34163547,  0.07983015,\n",
       "         -0.34630656, -0.12030982, -0.61255676,  0.02999632, -1.2432084 ,\n",
       "          1.1750653 ,  2.0749657 ,  0.04238731,  0.34163   ,  0.02748482,\n",
       "          0.18580084, -3.4490156 ,  0.28931835,  0.33317637, -0.14663829,\n",
       "          0.8827665 ,  3.2882109 ,  1.9701855 ,  0.3297765 , -0.16205597,\n",
       "         -0.4535302 , -0.20998679,  0.20111105,  0.3104674 ,  2.4192233 ],\n",
       "        [ 2.0022135 , -1.0427303 , -4.628945  ,  3.4941924 ,  1.2764685 ,\n",
       "          0.7642311 , -1.2054071 , -0.42640853,  6.2185855 ,  2.4052665 ,\n",
       "          1.9485009 , -0.4089465 , -4.2785044 , -2.9192019 ,  1.2275791 ,\n",
       "          0.11605115, -0.76616263, -3.995147  ,  5.111514  ,  0.5380412 ,\n",
       "         -0.19295515, -1.3166909 , -1.6929734 ,  1.4708071 , -3.7448626 ,\n",
       "          6.0023575 ,  5.224051  , -0.10330433, -6.431037  ,  3.562645  ],\n",
       "        [-0.18811922,  0.02103786, -0.23353004, -0.6071492 , -0.27312547,\n",
       "         -0.7760329 , -0.294225  , -1.2530774 , -0.45133117, -2.7188227 ,\n",
       "          0.4051405 ,  1.8225863 ,  3.520569  ,  0.5966551 , -0.0424812 ,\n",
       "          0.01625559,  0.03662189,  0.85631293, -1.4966388 , -1.3017864 ,\n",
       "         -0.29419678, -0.0280273 ,  1.8495369 ,  0.3434974 , -2.419332  ,\n",
       "          0.35121495, -2.0851007 , -0.04143508, -0.67681557,  0.29491284],\n",
       "        [-0.7061447 , -0.65030634, -2.1984994 ,  0.05075222,  0.20111485,\n",
       "         -0.07995746,  0.3275823 , -1.9766717 ,  0.14677987, -5.7972426 ,\n",
       "          4.005098  ,  3.8629112 ,  0.03110071,  3.4822226 ,  2.219795  ,\n",
       "         -0.04072763,  0.55823916,  0.27781904,  2.4318945 , -0.48354974,\n",
       "         -1.1704665 , -1.5765541 ,  4.7363286 ,  1.785349  , -0.33626524,\n",
       "         -2.3599613 , -4.229487  ,  0.08681424,  0.7983702 ,  5.821835  ]],\n",
       "       dtype=float32),\n",
       " array([-3.5003328 ,  2.2232058 , -5.553219  ,  3.6137457 , -0.60062647,\n",
       "         2.0504537 ,  4.058387  , -3.219646  ,  5.629452  ,  7.038112  ,\n",
       "        -1.4376878 ,  2.1429503 ,  0.566024  , -3.5238738 ,  4.278587  ,\n",
       "         5.4042206 ,  1.6382675 , -4.302208  ,  1.845044  ,  1.2241163 ,\n",
       "         0.33104637, -0.91727537, -0.0723408 ,  4.0402946 , -4.3719673 ,\n",
       "         1.2282271 ,  0.6077233 , -0.8528318 , -4.185826  ,  0.98927724],\n",
       "       dtype=float32),\n",
       " array([[-1.]], dtype=float32),\n",
       " array([0.], dtype=float32),\n",
       " array([[ 3.87456447e-01, -2.62652367e-01,  1.97004333e-01,\n",
       "         -4.79378253e-02, -5.33301115e-01, -1.06416440e+00,\n",
       "         -2.63263553e-01,  1.71894109e+00, -9.78423506e-02,\n",
       "          1.27842343e+00,  3.45831573e-01, -5.47867060e-01,\n",
       "          1.05038037e-29, -1.94154918e-01,  6.03135750e-02,\n",
       "         -2.55142450e+00, -7.29222775e-01,  3.17128837e-01,\n",
       "         -2.14469045e-01,  8.87767851e-01,  3.77605647e-01,\n",
       "         -6.17730558e-01,  1.32197058e+00, -1.84791192e-01,\n",
       "          1.08633272e-01, -6.92862868e-01,  1.05255186e-29,\n",
       "          7.53679574e-01,  7.37132967e-01,  5.41561902e-01],\n",
       "        [-3.27759719e+00, -6.66214764e-01, -3.05269480e+00,\n",
       "          1.39535940e+00, -4.21934664e-01,  1.97936928e+00,\n",
       "          6.69346571e-01, -7.57989466e-01,  7.88642704e-01,\n",
       "         -6.26833200e-01, -6.25370443e-01, -1.23190916e+00,\n",
       "          1.05679071e-29,  9.89852548e-02,  3.74306500e-01,\n",
       "          2.58755535e-01,  7.81580031e-01,  1.12623140e-01,\n",
       "         -8.19369704e-02,  1.28797340e+00,  2.87451118e-01,\n",
       "          3.22733283e-01, -2.31452942e+00,  1.07362020e+00,\n",
       "         -1.14708889e+00, -6.31315410e-02, -1.05271210e-29,\n",
       "         -2.27579370e-01, -2.27852196e-01, -1.16649687e+00],\n",
       "        [ 8.09534848e-01, -5.39166749e-01,  1.75930524e+00,\n",
       "          9.56083596e-01, -4.80857044e-01, -7.50822127e-01,\n",
       "          1.00314260e+00,  1.41164243e-01,  2.97896028e-01,\n",
       "          5.17741144e-01, -2.76561230e-01, -7.94184744e-01,\n",
       "          1.05016371e-29,  1.53176534e+00, -2.16938302e-01,\n",
       "          1.73086047e-01,  2.55968392e-01,  3.85297030e-01,\n",
       "         -5.22687316e-01,  3.52993906e-01, -1.14493549e+00,\n",
       "         -2.48112664e-01,  1.55399203e+00,  4.48224619e-02,\n",
       "         -8.37304592e-01,  2.70057142e-01, -1.04984939e-29,\n",
       "          2.57457457e-02, -1.19877005e+00,  7.08440483e-01],\n",
       "        [-1.38465858e+00,  8.28325212e-01,  4.60453391e-01,\n",
       "          7.66523659e-01,  2.46615100e+00,  4.42660928e-01,\n",
       "         -9.26408947e-01, -5.47410846e-01,  2.33727738e-01,\n",
       "         -7.42423058e-01, -2.85197520e+00, -2.82389235e+00,\n",
       "         -1.04788945e-29,  1.65769890e-01, -3.81233621e+00,\n",
       "          1.08380115e+00,  4.50207740e-01, -2.12315500e-01,\n",
       "          3.72174644e+00,  4.92471427e-01,  2.63786459e+00,\n",
       "          2.87210226e+00, -1.65597856e+00,  3.78472066e+00,\n",
       "         -5.62105477e-01,  1.80141759e+00,  1.05524899e-29,\n",
       "         -1.96776807e+00,  2.49771550e-02, -1.46852899e+00],\n",
       "        [ 2.68397808e+00,  5.23426414e-01,  5.67131519e-01,\n",
       "         -6.00143254e-01,  2.18964651e-01, -6.36732817e-01,\n",
       "         -4.25543547e-01,  1.46646130e+00, -1.49921429e+00,\n",
       "          8.33980516e-02,  1.19221127e+00,  7.43576050e-01,\n",
       "         -1.05244375e-29, -3.72131944e-01,  1.34063625e+00,\n",
       "         -9.85881627e-01, -2.54615927e+00,  5.63819408e-01,\n",
       "         -1.89773500e+00, -1.35625410e+00, -3.89454722e-01,\n",
       "         -4.21760201e-01,  2.28284454e+00, -1.69915855e+00,\n",
       "          2.32239425e-01, -1.04502821e+00,  1.04757273e-29,\n",
       "          1.04701233e+00,  6.41593099e-01,  5.70297062e-01],\n",
       "        [-6.07028306e-01, -4.12252456e-01, -1.18449593e+00,\n",
       "          2.43701309e-01, -2.57653564e-01,  8.38560998e-01,\n",
       "          1.41661072e+00, -4.95313734e-01,  1.87538099e+00,\n",
       "         -9.84988570e-01, -2.12412983e-01, -4.76776004e-01,\n",
       "         -1.05499493e-29, -7.34736025e-01, -2.01448292e-01,\n",
       "          1.60444811e-01,  6.44815862e-01, -9.73908424e-01,\n",
       "          2.95724958e-01,  5.91931701e-01,  1.00138712e+00,\n",
       "         -5.41650616e-02, -1.57365084e+00, -5.18555753e-02,\n",
       "         -3.66651356e-01, -1.65003464e-01, -1.05544158e-29,\n",
       "         -7.12427855e-01, -9.02904347e-02, -9.17882085e-01],\n",
       "        [-1.39278531e+00, -7.30128467e-01, -1.93063962e+00,\n",
       "          6.56284034e-01, -1.24837971e+00,  1.87154877e+00,\n",
       "          2.70753717e+00, -1.39916992e+00,  1.44063985e+00,\n",
       "         -9.63051617e-01,  3.07540703e+00,  1.54905963e+00,\n",
       "          1.05910988e-29, -1.39670146e+00,  2.77484703e+00,\n",
       "          7.83776999e-01,  4.34646755e-01, -1.52805996e+00,\n",
       "         -1.71832824e+00,  1.48134753e-01,  2.61898667e-01,\n",
       "         -1.76457453e+00, -1.91662574e+00,  5.46407461e-01,\n",
       "         -6.80926800e-01, -1.46802020e+00,  1.05562929e-29,\n",
       "          8.16375971e-01,  4.41997707e-01,  6.02845907e-01],\n",
       "        [ 1.07644963e+00, -1.94611937e-01,  2.55684167e-01,\n",
       "         -8.06864917e-01, -5.41249514e-01,  6.76958561e-02,\n",
       "          6.11753464e-01,  9.14579511e-01, -1.33319974e+00,\n",
       "         -6.84008241e-01, -8.09808075e-02, -5.12253284e-01,\n",
       "          1.05895889e-29,  3.25112939e-01,  4.23814476e-01,\n",
       "          9.83388163e-03, -1.21051848e+00,  7.40551889e-01,\n",
       "          3.53187174e-01,  3.23466897e-01, -1.00578880e+00,\n",
       "         -1.02896363e-01,  3.07462990e-01, -1.93530098e-01,\n",
       "         -5.33052444e-01, -1.54371426e-01,  1.05026324e-29,\n",
       "          1.58118129e+00, -2.45835669e-02, -6.45292103e-02],\n",
       "        [-2.18201232e+00, -5.68854868e-01, -1.80184627e+00,\n",
       "         -3.82821822e+00,  1.61560452e+00,  2.19382691e+00,\n",
       "          1.50656307e+00, -1.77462325e-01,  1.25395024e+00,\n",
       "         -3.03985453e+00, -3.38757247e-01,  1.56822824e+00,\n",
       "          1.04980688e-29, -2.36712337e+00,  1.72441554e+00,\n",
       "          1.49215817e+00, -9.12172616e-01, -1.40743148e+00,\n",
       "         -1.12997818e+00, -1.59256041e-01, -1.07665992e+00,\n",
       "         -5.81713542e-02, -8.21619928e-01, -1.34675348e+00,\n",
       "          3.53553581e+00, -1.52099341e-01,  1.05764760e-29,\n",
       "          6.54913843e-01,  3.95487046e+00, -1.25764966e+00],\n",
       "        [ 1.72333133e+00, -6.80037320e-01, -8.39477599e-01,\n",
       "         -5.33599734e-01, -6.76163435e-02, -3.69387865e-02,\n",
       "         -9.61441636e-01, -5.58667183e-01, -1.29126370e-01,\n",
       "         -8.82056534e-01, -7.64796287e-02, -1.44609185e-02,\n",
       "          1.05877126e-29, -1.13955133e-01,  1.20452739e-01,\n",
       "          1.65642604e-01,  8.13183188e-02, -4.95755896e-02,\n",
       "         -4.59423184e-01,  3.06164056e-01,  4.02087003e-01,\n",
       "         -4.44174856e-01, -1.03695476e+00, -5.92203677e-01,\n",
       "         -1.10909484e-01,  4.77917120e-03,  1.05275566e-29,\n",
       "          1.66828528e-01,  1.73423803e+00,  5.80313802e-01],\n",
       "        [-4.31566745e-01,  8.31684232e-01,  4.57271010e-01,\n",
       "          9.73962724e-01,  4.55314249e-01, -6.12500370e-01,\n",
       "         -8.17522645e-01, -8.17282557e-01, -5.36119789e-02,\n",
       "          3.13005805e-01, -4.31695461e-01, -2.81384327e-02,\n",
       "         -1.05260911e-29, -5.22785902e-01, -5.86877525e-01,\n",
       "          3.28946143e-01,  8.00973654e-01,  1.02100074e+00,\n",
       "          5.00776947e-01, -1.91433623e-01, -2.15477288e-01,\n",
       "          4.26201135e-01,  6.62835002e-01,  8.80356312e-01,\n",
       "          1.81561440e-01,  5.24536848e-01,  1.05316583e-29,\n",
       "         -8.77513230e-01, -7.44492054e-01, -4.49645400e-01],\n",
       "        [ 4.03857052e-01,  3.39991331e-01,  4.39145654e-01,\n",
       "          2.44359225e-01,  1.80883214e-01, -3.34571272e-01,\n",
       "          3.21970910e-01,  1.16691768e+00,  4.68198918e-02,\n",
       "          4.25029159e-01,  2.47040510e-01,  3.56304795e-01,\n",
       "         -1.05099216e-29, -8.08584094e-01,  5.08609951e-01,\n",
       "          2.21414194e-01,  5.98716289e-02, -4.82216150e-01,\n",
       "         -2.06741124e-01, -6.58562124e-01,  1.37416530e+00,\n",
       "          2.21365824e-01,  8.58814597e-01, -5.24583422e-02,\n",
       "         -2.40684107e-01, -4.53627139e-01,  1.04932156e-29,\n",
       "         -7.83298090e-02, -1.94814533e-01,  3.63849342e-01],\n",
       "        [ 1.02925211e-01, -8.72712314e-01,  5.13427913e-01,\n",
       "          2.93556839e-01, -1.22645259e+00,  2.06404909e-01,\n",
       "          1.49266148e+00,  2.89546311e-01, -1.35883582e+00,\n",
       "          4.92814153e-01,  1.44667816e+00, -9.69128385e-02,\n",
       "          1.04890290e-29,  7.15797305e-01,  1.09815621e+00,\n",
       "          1.77643612e-01, -9.05241445e-02,  4.40913700e-02,\n",
       "         -1.07183862e+00, -2.40476400e-01, -5.89372635e-01,\n",
       "         -8.30757558e-01,  1.16008306e+00, -3.91476214e-01,\n",
       "          1.11007166e+00, -1.74152172e+00,  1.05626657e-29,\n",
       "          1.01285601e+00, -8.18188906e-01,  2.30825901e+00],\n",
       "        [-1.32503140e+00,  6.56314969e-01,  4.88137096e-01,\n",
       "          7.95854449e-01,  5.06214559e-01,  9.64128911e-01,\n",
       "          4.94486392e-01, -3.69547009e-01, -1.04450002e-01,\n",
       "          9.11503851e-01, -1.02797318e+00,  2.78026283e-01,\n",
       "          1.04910384e-29, -7.98924267e-01, -8.18183482e-01,\n",
       "         -1.82316050e-01,  1.37310135e+00, -1.71240067e+00,\n",
       "          3.01874399e-01, -4.66467828e-01, -5.36225617e-01,\n",
       "         -4.17974800e-01,  7.02739298e-01,  8.06124628e-01,\n",
       "          4.38683152e-01,  1.18460107e+00, -1.05287822e-29,\n",
       "         -3.33785385e-01, -7.14937225e-02, -2.61557639e-01],\n",
       "        [-4.09306002e+00,  9.64808315e-02, -4.11559057e+00,\n",
       "          2.66323161e+00,  9.34659243e-02,  2.64458704e+00,\n",
       "          4.91139078e+00, -3.09200215e+00,  1.06164742e+00,\n",
       "         -2.41987991e+00, -1.57064641e+00, -3.00341392e+00,\n",
       "          1.05796598e-29, -1.93626535e+00, -2.86697125e+00,\n",
       "          1.87487054e+00,  2.83472061e+00, -2.93014026e+00,\n",
       "          1.94685185e+00,  3.22507530e-01,  1.05560219e+00,\n",
       "         -7.31907308e-01, -3.44500899e+00,  2.46495938e+00,\n",
       "         -2.30222568e-01,  3.20290828e+00,  1.05042732e-29,\n",
       "         -9.61375415e-01, -7.86601305e-01, -2.25282288e+00],\n",
       "        [-5.15191972e-01,  1.34974524e-01, -3.51825565e-01,\n",
       "         -1.63546646e+00, -2.04039440e-02,  9.14761245e-01,\n",
       "         -1.72837102e+00, -8.96732807e-01,  1.32254004e+00,\n",
       "         -5.66472054e-01,  6.59791768e-01,  8.47489297e-01,\n",
       "         -1.05486523e-29, -3.38216305e-01,  4.52526323e-02,\n",
       "          2.74062186e-01, -1.64200187e-01, -2.15086436e+00,\n",
       "         -5.52279279e-02, -5.78980803e-01, -6.00183129e-01,\n",
       "          1.44541562e-01, -9.55854803e-02,  2.49511153e-01,\n",
       "          2.52103901e+00, -3.37840356e-02,  1.05523116e-29,\n",
       "         -4.13318276e-02,  1.53015971e-01, -3.70918840e-01],\n",
       "        [-2.98164219e-01,  2.00109050e-01,  4.56297815e-01,\n",
       "         -1.44023693e+00,  1.53434467e+00,  6.67093456e-01,\n",
       "          1.76006004e-01,  4.65509146e-01,  2.08778962e-01,\n",
       "         -9.78053451e-01, -2.39022687e-01,  4.60318536e-01,\n",
       "          1.05739241e-29, -3.52732420e-01,  8.72417927e-01,\n",
       "          5.04088998e-01,  2.18801245e-01, -1.08636963e+00,\n",
       "          4.59411778e-02, -3.10090482e-01,  4.70047534e-01,\n",
       "          3.49930190e-02, -2.98220605e-01, -1.21394500e-01,\n",
       "         -2.57790446e-01,  1.05767381e+00, -1.04947082e-29,\n",
       "         -2.02076584e-01,  5.99393725e-01,  3.55926335e-01],\n",
       "        [ 3.87277985e+00, -8.34621906e-01,  1.91350067e+00,\n",
       "         -1.08912408e-01, -2.07786965e+00, -3.04957056e+00,\n",
       "          1.76612639e+00,  2.78473377e+00, -3.89492989e+00,\n",
       "          3.27739024e+00,  7.86390424e-01,  5.24787784e-01,\n",
       "          1.05453587e-29,  1.58958745e+00,  7.35135913e-01,\n",
       "         -1.32176495e+00,  1.19934306e-02,  9.90611851e-01,\n",
       "         -1.34456837e+00,  6.79670945e-02, -1.11108756e+00,\n",
       "         -1.60361552e+00,  4.15784168e+00, -1.30867279e+00,\n",
       "          4.68025543e-02, -1.94884932e+00, -1.05217645e-29,\n",
       "          7.65750110e-01,  4.75914031e-01,  3.85378790e+00],\n",
       "        [ 4.74876374e-01,  7.88155913e-01,  7.55013943e-01,\n",
       "         -1.22459543e+00,  6.71517491e-01,  1.03244281e+00,\n",
       "         -1.04118276e+00, -1.78614601e-01,  1.07934201e+00,\n",
       "         -6.30783856e-01, -7.21826404e-02,  1.54434001e+00,\n",
       "         -1.05226004e-29, -2.03099295e-01,  3.90755624e-01,\n",
       "         -4.82129365e-01, -1.02151819e-01,  2.11845851e+00,\n",
       "         -9.03641760e-01,  1.53382465e-01,  5.76704860e-01,\n",
       "          4.35748637e-01,  3.06505971e-02, -3.56388777e-01,\n",
       "          1.42270482e+00,  1.57722026e-01, -1.05015491e-29,\n",
       "          3.01411062e-01,  2.41813040e+00, -1.23573995e+00],\n",
       "        [ 1.16880737e-01, -2.29174614e-01,  7.31534213e-02,\n",
       "         -3.10502142e-01, -4.38562408e-02,  5.89378834e-01,\n",
       "          1.76473057e+00,  4.07717556e-01,  9.44403887e-01,\n",
       "         -1.45124793e+00, -3.96948755e-02, -3.42593074e-01,\n",
       "         -1.05160507e-29, -5.61894834e-01, -6.72993064e-01,\n",
       "         -5.97583652e-01, -3.17619964e-02, -2.99587101e-01,\n",
       "          1.37916014e-01,  8.92784148e-02, -3.62683088e-01,\n",
       "          7.28101671e-01, -5.44017613e-01,  6.28506482e-01,\n",
       "         -1.48967251e-01,  5.40851295e-01,  1.04930524e-29,\n",
       "          4.44910765e-01,  1.17430508e-01, -3.43180686e-01],\n",
       "        [ 2.54627079e-01, -5.82530200e-01,  1.51450419e+00,\n",
       "          1.33404195e-01, -9.19614881e-02,  2.75692567e-02,\n",
       "         -1.15134502e-02, -3.56800914e-01,  1.92859262e-01,\n",
       "         -4.09758151e-01, -2.63464868e-01, -1.34735972e-01,\n",
       "          1.05017657e-29, -5.51392257e-01,  9.41700637e-02,\n",
       "         -7.00618088e-01,  2.08508804e-01, -2.98248112e-01,\n",
       "          1.43738106e-01,  3.10027242e-01,  6.22400977e-02,\n",
       "          5.07941425e-01, -7.30068445e-01, -1.96600735e-01,\n",
       "          4.17391896e-01,  4.35718685e-01, -1.05403001e-29,\n",
       "          4.87130374e-01, -2.41416842e-02,  7.78715909e-02],\n",
       "        [ 5.81815660e-01, -5.08411825e-01,  3.90359342e-01,\n",
       "          8.02340806e-01, -9.69497189e-02, -1.21955943e+00,\n",
       "         -6.17768586e-01, -5.37415743e-01, -4.78467613e-01,\n",
       "          5.72161973e-01,  2.94691801e-01, -9.63414609e-01,\n",
       "          1.04611640e-29,  2.22175762e-01, -2.66423374e-01,\n",
       "         -1.21726060e+00, -4.03629452e-01,  5.15488982e-01,\n",
       "          1.99694280e-02,  8.21027279e-01, -2.77588695e-01,\n",
       "         -6.57571852e-01,  2.22669601e-01, -4.44200009e-01,\n",
       "          3.15704532e-02, -1.66039139e-01, -1.04927597e-29,\n",
       "          7.25483775e-01, -6.30972505e-01, -2.06726804e-01],\n",
       "        [-6.11494124e-01,  5.71690977e-01,  1.21267207e-01,\n",
       "          4.53956395e-01, -1.17047247e-03,  6.66643858e-01,\n",
       "          1.49363792e+00, -4.81263667e-01, -1.96159761e-02,\n",
       "          7.37963080e-01,  1.41807467e-01,  8.67720306e-01,\n",
       "         -1.05761089e-29,  3.93459439e-01,  5.77543564e-02,\n",
       "         -4.59438264e-02,  1.94822431e-01, -9.34077501e-02,\n",
       "          5.73333979e-01, -1.08413327e+00,  7.80593872e-01,\n",
       "          6.11868560e-01,  1.58644482e-01, -5.71856312e-02,\n",
       "          3.76519673e-02, -2.82505989e-01, -1.05219082e-29,\n",
       "         -4.55254018e-01, -5.95197797e-01,  2.53735691e-01],\n",
       "        [-2.50309110e+00,  5.75789392e-01, -2.55040503e+00,\n",
       "          1.54862785e+00,  1.86769012e-02,  1.17406309e+00,\n",
       "          3.00432587e+00, -1.14858830e+00, -5.10294020e-01,\n",
       "         -1.75852406e+00, -1.13194585e+00, -2.07542747e-01,\n",
       "         -1.05257639e-29, -1.79078007e+00, -1.01943934e+00,\n",
       "          9.00222957e-01,  4.45683688e-01, -1.76574218e+00,\n",
       "         -5.36906645e-02, -1.00116611e+00,  2.20956898e+00,\n",
       "          2.32391953e-01, -2.77314377e+00,  4.89411056e-01,\n",
       "         -5.09440005e-01, -3.29996228e-01,  1.05116963e-29,\n",
       "         -1.30401301e+00,  1.67478576e-01, -4.56107765e-01],\n",
       "        [-2.72206310e-03,  6.54493392e-01,  7.25367546e-01,\n",
       "          2.20799065e+00,  2.04784423e-01, -1.46366322e+00,\n",
       "         -7.32454121e-01,  1.13163209e+00, -6.61982298e-01,\n",
       "         -2.04383343e-01, -2.19582170e-01,  3.97676736e-01,\n",
       "         -1.05002069e-29,  2.25214258e-01, -7.62033239e-02,\n",
       "         -1.74259305e+00,  1.06456764e-01,  2.52406740e+00,\n",
       "          6.70081198e-01, -6.36895970e-02,  3.16110611e-01,\n",
       "          1.22409713e+00,  7.31180429e-01, -2.61036932e-01,\n",
       "         -3.71105242e+00,  3.01695764e-01, -1.05306118e-29,\n",
       "         -8.56691897e-01, -2.74963450e+00,  2.76214182e-01],\n",
       "        [ 1.60241812e-01, -2.44768560e-01,  2.02871412e-01,\n",
       "         -1.46798182e+00,  4.22482282e-01, -2.52780938e+00,\n",
       "         -1.48549998e+00,  1.01900375e+00, -6.47508383e-01,\n",
       "         -2.16078925e+00,  6.79625154e-01,  3.24827671e-01,\n",
       "          1.05706267e-29, -2.88265962e-02,  1.46863353e+00,\n",
       "          3.74576211e-01, -1.28700268e+00, -5.80743968e-01,\n",
       "         -9.19390738e-01,  1.68891713e-01, -2.84381807e-01,\n",
       "          4.05561239e-01,  1.78302508e-02, -1.53020298e+00,\n",
       "          2.58586735e-01, -1.32139575e+00,  1.05819927e-29,\n",
       "          5.18294454e-01,  7.48373210e-01, -1.19177783e+00],\n",
       "        [ 3.13329995e-01,  1.11801356e-01,  1.36209333e+00,\n",
       "         -2.01641694e-01,  5.66728771e-01, -5.32506168e-01,\n",
       "         -5.35676599e-01,  6.86017215e-01,  6.81171894e-01,\n",
       "          1.95865154e+00,  1.68355733e-01,  3.60205889e-01,\n",
       "         -1.05588816e-29,  2.17581964e+00,  2.57002041e-02,\n",
       "         -4.89641875e-01, -3.02185446e-01,  6.73872411e-01,\n",
       "         -3.95852536e-01,  5.57930887e-01, -1.93180239e+00,\n",
       "         -1.96683362e-01, -3.93801659e-01,  6.40820384e-01,\n",
       "          2.51837373e-01,  3.00416529e-01,  1.05839081e-29,\n",
       "         -6.10917481e-03, -4.87690032e-01,  4.68083441e-01],\n",
       "        [ 5.15069105e-02, -1.70640633e-01,  8.35696310e-02,\n",
       "         -4.66442138e-01, -3.27701777e-01,  4.61861975e-02,\n",
       "         -2.37383559e-01,  6.22203827e-01, -4.96391535e-01,\n",
       "         -5.11005074e-02, -5.63373137e-03, -1.65346146e-01,\n",
       "         -1.04895428e-29, -1.81896403e-01, -1.06062502e-01,\n",
       "          5.63125610e-01, -2.80718356e-01, -2.66283184e-01,\n",
       "          3.47558945e-01,  4.41174716e-01,  1.72151595e-01,\n",
       "         -6.73673213e-01, -4.56701815e-01,  2.27115914e-01,\n",
       "          1.13600250e-02,  7.27871358e-02, -1.04993169e-29,\n",
       "          2.56722450e-01,  8.27931389e-02,  6.98992759e-02],\n",
       "        [-3.05389225e-01,  4.06533867e-01,  5.77711463e-01,\n",
       "          3.14860940e+00, -1.34326661e+00,  2.28064999e-01,\n",
       "         -1.28581738e+00, -6.50798023e-01, -1.26414478e+00,\n",
       "          1.07371509e+00, -1.71917093e+00, -2.85425043e+00,\n",
       "          1.04847777e-29,  8.89726579e-01, -2.57527542e+00,\n",
       "         -1.73081219e+00,  6.63203776e-01,  3.21371913e+00,\n",
       "          2.70256257e+00,  5.56206346e-01,  1.75855827e+00,\n",
       "          8.86929691e-01, -6.78720236e-01,  1.88524818e+00,\n",
       "         -2.90933394e+00,  6.99730098e-01,  1.05617682e-29,\n",
       "         -1.62633991e+00, -3.46881962e+00,  1.47056782e+00],\n",
       "        [ 6.19363189e-02,  4.01497155e-01, -1.72715533e+00,\n",
       "          5.04503965e-01, -1.23867847e-01,  3.66821587e-01,\n",
       "          6.01425052e-01, -6.29250646e-01, -6.94877505e-02,\n",
       "         -5.41312158e-01, -8.01588148e-02, -3.06293249e-01,\n",
       "          1.05456107e-29, -1.03751993e+00, -6.78118467e-01,\n",
       "          5.82791805e-01,  8.60926628e-01, -1.03175439e-01,\n",
       "          4.09771532e-01, -5.65192163e-01,  1.68736088e+00,\n",
       "         -1.58677071e-01,  5.83440006e-01, -1.45157546e-01,\n",
       "         -5.24819911e-01,  3.88555318e-01,  1.05183799e-29,\n",
       "         -4.96222585e-01, -1.90041995e+00, -4.42678303e-01]], dtype=float32),\n",
       " array([ 1.5603296 ,  4.725659  ,  1.5473386 , -2.8625462 , -0.09401587,\n",
       "         0.318533  ,  2.6199515 ,  0.9833818 ,  1.5536342 ,  1.303242  ,\n",
       "        -4.962756  , -7.358647  ,  9.002979  ,  0.5350405 , -5.7133117 ,\n",
       "        -0.66492033, -4.9083753 , -0.67386174,  5.868911  ,  2.3222942 ,\n",
       "         4.239376  ,  3.1830437 , -0.55364275,  1.8606781 ,  1.0633321 ,\n",
       "         1.2998554 ,  9.000687  , -0.34390864,  1.6942419 ,  1.8770202 ],\n",
       "       dtype=float32),\n",
       " array([[ 1.16620362e+00, -1.07437655e-01,  1.46703660e-01,\n",
       "         -2.09739178e-01, -1.44875538e+00,  7.44593918e-01,\n",
       "         -1.65444982e+00, -2.70337939e-01,  3.93604934e-01,\n",
       "          2.95019373e-02, -1.26047820e-01, -1.12473500e+00,\n",
       "          2.58194119e-01,  7.44004622e-02,  2.27932900e-01,\n",
       "          1.55065155e+00,  2.39786053e+00, -1.27522445e+00,\n",
       "          1.89871192e+00, -4.80022860e+00, -4.60828066e+00,\n",
       "         -4.48407143e-01,  1.12843901e-01, -1.34591770e+00,\n",
       "          1.28024340e-01, -7.50331521e-01, -1.86199510e+00,\n",
       "          3.71577680e-01, -1.73257828e+00,  5.08388914e-02],\n",
       "        [ 8.28936934e-01,  2.90373898e+00, -3.61814237e+00,\n",
       "          1.46943763e-01, -6.99588835e-01,  1.99861801e+00,\n",
       "          8.61459494e-01, -4.64201361e-01,  1.57823753e+00,\n",
       "         -5.33000603e-02, -6.53574228e-01,  7.49666870e-01,\n",
       "         -6.51237428e-01, -7.30033591e-03, -3.52737069e-01,\n",
       "         -2.44554424e+00, -1.91275322e+00,  2.50389600e+00,\n",
       "         -2.32288408e+00,  2.11738157e+00,  4.70030099e-01,\n",
       "         -6.40906453e-01, -1.65505457e+00, -2.19418335e+00,\n",
       "         -3.25254374e-03, -2.12132764e+00,  4.58637762e+00,\n",
       "          2.22678518e+00,  3.87535572e+00,  2.20585525e-01],\n",
       "        [-6.09949052e-01, -4.29674387e-02, -5.10753572e-01,\n",
       "          5.32818101e-02, -6.22135115e+00,  7.21405625e-01,\n",
       "          1.69820562e-01,  6.39634788e-01,  2.03490436e-01,\n",
       "          5.07497825e-02, -6.01771498e+00, -5.28803408e-01,\n",
       "          7.99815953e-02, -1.28599554e-01,  9.39545870e-01,\n",
       "          5.31895995e-01, -7.35157371e-01,  2.26776138e-01,\n",
       "          1.23614049e+00, -6.65388048e-01, -1.60523260e+00,\n",
       "         -1.13306630e+00,  2.62741018e-02, -5.08567810e-01,\n",
       "          1.42569229e-01, -5.22464228e+00, -8.69782746e-01,\n",
       "          1.67547211e-01, -8.34884167e-01, -6.07133321e-02],\n",
       "        [-4.78044987e+00, -2.91654515e+00,  1.78016567e+00,\n",
       "         -2.39026994e-02, -3.98552835e-01, -3.41746855e+00,\n",
       "         -3.74158323e-01, -5.57727718e+00,  7.93338346e+00,\n",
       "         -2.45226827e-02,  1.72308993e+00, -4.39132124e-01,\n",
       "          1.17743194e+00, -2.94262450e-02, -4.56903744e+00,\n",
       "         -1.31996572e-01,  1.47867516e-01, -1.08816683e+00,\n",
       "         -3.54051161e+00,  3.63030648e+00,  1.48573899e+00,\n",
       "         -8.81813717e+00,  1.48896444e+00,  4.97465658e+00,\n",
       "         -4.15573493e-02,  2.57944131e+00,  6.09484863e+00,\n",
       "         -3.83425784e+00, -3.07846546e+00, -2.01812887e+00],\n",
       "        [ 9.41774547e-01,  7.05938876e-01, -4.98763062e-02,\n",
       "          9.52743664e-02, -1.73759651e+00,  1.39540958e+00,\n",
       "          1.74123093e-01,  2.00664854e+00,  8.58445764e-01,\n",
       "         -1.16628252e-01, -3.69224966e-01,  2.10734785e-01,\n",
       "          1.27964115e+00,  3.74060182e-04, -1.32958412e+00,\n",
       "          1.43360555e-01, -6.97070360e-01,  4.39572215e-01,\n",
       "          1.69370520e+00, -5.64530432e-01, -2.25010204e+00,\n",
       "         -3.47449064e-01, -2.15245411e-01, -1.09080911e+00,\n",
       "         -2.06792995e-01, -1.03733492e+00, -3.60747099e-01,\n",
       "          6.53199971e-01, -6.86091185e-02,  3.56869435e+00],\n",
       "        [ 4.36165780e-01, -2.31415570e-01,  7.77083039e-01,\n",
       "         -8.79672617e-02, -1.18156612e+00,  5.87087810e-01,\n",
       "         -1.99414110e+00, -1.59633011e-01, -1.03159342e-02,\n",
       "         -3.49456109e-02,  7.42684156e-02,  9.06351388e-01,\n",
       "          1.70997292e-01, -7.46395811e-02,  2.48659563e+00,\n",
       "         -5.78870821e+00, -1.29174042e+00,  3.81972045e-01,\n",
       "          1.99639893e+00, -1.76631045e+00, -3.72530627e+00,\n",
       "         -1.02252193e-01,  3.61089325e+00, -1.42270684e+00,\n",
       "         -6.64621685e-03, -1.07942626e-01, -3.36514449e+00,\n",
       "         -1.30085623e+00, -3.27593040e+00, -4.65211928e-01]], dtype=float32),\n",
       " array([-4.848987  , -4.8993354 ,  5.3418713 , -0.10141761,  2.0533257 ,\n",
       "        -7.778324  , -4.0398364 , -0.18000586,  4.7749934 ,  0.10962498,\n",
       "        -1.8762823 , -6.3801484 , -0.02636579,  0.02747005, -4.4915457 ,\n",
       "        -6.6197476 ,  6.481124  , -4.929289  , -1.1644697 ,  0.57301325,\n",
       "         5.433578  , -6.1687303 ,  7.3890204 ,  4.96626   ,  0.13216077,\n",
       "         3.6993773 ,  0.3793183 , -6.651976  , -6.6273413 ,  3.0690577 ],\n",
       "       dtype=float32),\n",
       " array([[-1.7003158e-01],\n",
       "        [-1.1741174e-02],\n",
       "        [-2.4981806e-02],\n",
       "        [-9.6680962e-02],\n",
       "        [-1.3819695e-01],\n",
       "        [ 8.5998267e-02],\n",
       "        [ 1.1836676e-01],\n",
       "        [-7.3737219e-02],\n",
       "        [-5.0039794e-02],\n",
       "        [ 4.4513573e-03],\n",
       "        [ 2.4568209e-01],\n",
       "        [-6.5498248e-02],\n",
       "        [-5.0046164e-01],\n",
       "        [ 1.9542607e-03],\n",
       "        [ 2.4647823e-01],\n",
       "        [-2.0780394e-02],\n",
       "        [-1.0448842e-02],\n",
       "        [-6.6818319e-02],\n",
       "        [-8.7236010e-02],\n",
       "        [ 4.5585679e-03],\n",
       "        [ 1.3790290e-04],\n",
       "        [-2.7631027e-01],\n",
       "        [ 2.7348796e-02],\n",
       "        [-7.6073036e-02],\n",
       "        [ 5.5237290e-02],\n",
       "        [-1.2904115e-01],\n",
       "        [-4.9509716e-01],\n",
       "        [ 3.2793578e-02],\n",
       "        [ 1.8792702e-01],\n",
       "        [-1.8473168e-01]], dtype=float32),\n",
       " array([-1.2066584], dtype=float32),\n",
       " array([[-2.83508515e+00,  5.79675138e-01,  3.73287797e+00,\n",
       "         -5.69379210e-01, -8.82437289e-01, -7.14205742e-01,\n",
       "          1.19378793e+00,  9.80322361e-02, -8.82991910e-01,\n",
       "          3.87689322e-01, -7.88766623e-01, -6.53470218e-01,\n",
       "         -1.92149985e+00,  1.37205076e+00,  6.10203575e-03,\n",
       "         -9.41838324e-01, -8.86506855e-01,  5.89769304e-01,\n",
       "          2.69670200e+00, -1.60242701e+00, -1.22418128e-01,\n",
       "          6.22296296e-02,  1.64093211e-01, -2.75866318e+00,\n",
       "          2.24982357e+00,  2.44002938e+00, -5.39686739e-01,\n",
       "          1.04564369e+00,  3.52930617e+00, -1.40481496e+00],\n",
       "        [-1.93635666e+00, -2.87252045e+00,  2.50858045e+00,\n",
       "         -1.76152980e+00, -2.59702682e+00,  1.79777300e+00,\n",
       "          2.16353536e+00, -3.25723553e+00,  2.89954138e+00,\n",
       "         -3.33182526e+00, -3.21020222e+00, -1.39040542e+00,\n",
       "          2.51848745e+00, -1.43467867e+00, -1.92974591e+00,\n",
       "         -4.07088900e+00,  2.44808817e+00, -2.06734443e+00,\n",
       "          3.15705872e+00,  2.31948972e+00,  1.91812897e+00,\n",
       "          4.09564763e-01, -8.00706089e-01, -1.35741889e+00,\n",
       "         -1.32132375e+00,  1.47879708e+00,  5.87929964e-01,\n",
       "          1.19633520e+00,  2.20379758e+00, -1.40205932e+00],\n",
       "        [ 2.09045529e+00,  5.09440936e-02, -3.67217809e-01,\n",
       "          4.83185709e-01,  1.69371736e+00, -1.34747350e+00,\n",
       "         -1.58448085e-01,  1.42015326e+00, -1.41374552e+00,\n",
       "          5.74523091e-01, -9.30392623e-01, -6.29374564e-01,\n",
       "         -1.32854104e-01,  1.42944492e-02, -9.77424681e-02,\n",
       "         -4.77661997e-01, -1.12129891e+00,  3.87777597e-01,\n",
       "          8.30033660e-01, -4.65319514e-01, -2.76336282e-01,\n",
       "         -1.27856565e+00,  4.70068678e-02,  5.65804541e-01,\n",
       "         -4.78445023e-01, -2.77115684e-02, -5.75268447e-01,\n",
       "          1.54536366e-01,  1.79130569e-01,  5.57082176e-01],\n",
       "        [ 5.28286174e-02, -1.06289433e-02, -3.75560783e-02,\n",
       "         -2.58788504e-02,  7.72843957e-02,  1.25541121e-01,\n",
       "          4.00597639e-02, -2.48928547e-01,  3.67279112e-01,\n",
       "          9.07134488e-02, -1.79589137e-01, -2.70355105e-01,\n",
       "          1.98990539e-01,  3.91678419e-03, -4.20543283e-01,\n",
       "          2.06106845e-02,  9.07664523e-02,  3.18737745e-01,\n",
       "          4.95989062e-03,  4.03395295e-03,  3.95471007e-01,\n",
       "         -2.06355244e-01, -5.93523271e-02,  9.87337828e-02,\n",
       "          6.49731383e-02,  3.00427377e-01,  1.03749342e-01,\n",
       "          2.17394769e-01,  7.08571449e-02, -1.79100901e-01],\n",
       "        [ 5.35547733e-01, -1.36606598e+00, -7.39679158e-01,\n",
       "          1.39065117e-01,  6.21318936e-01, -8.02483916e-01,\n",
       "         -1.27174354e+00,  2.61809230e+00,  1.75310957e+00,\n",
       "          7.02615142e-01,  1.91704488e+00,  9.38240051e-01,\n",
       "          1.27255499e+00,  2.38569647e-01, -1.62934572e-01,\n",
       "          6.04750037e-01,  4.70341206e-01, -3.02467108e-01,\n",
       "         -1.09975743e+00,  6.14987873e-02, -1.82939124e+00,\n",
       "          1.77096084e-01, -1.49517453e+00,  7.37062573e-01,\n",
       "         -5.62268198e-01, -6.84917510e-01, -6.53088689e-01,\n",
       "          1.12197220e-01, -9.43603277e-01,  2.97049075e-01],\n",
       "        [ 1.55497476e-01,  6.40485823e-01,  2.92903990e-01,\n",
       "         -2.58878064e+00,  1.01570380e+00,  6.94022894e-01,\n",
       "         -4.56000954e-01, -2.00777888e+00, -1.36370790e+00,\n",
       "         -1.85094702e+00, -1.34729159e+00, -1.19795993e-01,\n",
       "         -1.88616574e+00,  1.25079739e+00, -1.47569859e+00,\n",
       "         -8.36161077e-01,  4.25933093e-01, -8.79230857e-01,\n",
       "          6.90532625e-01, -1.76729226e+00,  3.49858254e-01,\n",
       "         -2.59310782e-01, -1.23178720e+00, -1.16652203e+00,\n",
       "         -3.96376371e-01,  1.14283967e+00,  3.11904788e+00,\n",
       "         -4.03507888e-01,  1.60391164e+00, -1.21862046e-01],\n",
       "        [-2.30884552e+00,  1.31422031e+00,  5.17322302e-01,\n",
       "         -3.75664651e-01,  1.55186355e+00, -1.22427678e+00,\n",
       "         -7.70831525e-01,  8.13000947e-02, -1.49577618e+00,\n",
       "          1.65349424e+00,  3.08877558e-01, -1.47780657e+00,\n",
       "          1.70388803e-01, -1.68459386e-01,  7.95753181e-01,\n",
       "          2.33949471e+00, -8.68758202e-01,  1.94554210e+00,\n",
       "          3.15857351e-01, -9.80294228e-01, -1.90393615e+00,\n",
       "         -1.08368361e+00,  7.68357515e-01,  1.20109570e+00,\n",
       "         -1.56024027e+00, -2.73860645e+00,  1.03673689e-01,\n",
       "         -3.56263429e-01,  1.22652197e+00,  1.32325637e+00],\n",
       "        [-8.53290439e-01, -1.63045740e+00,  8.86227548e-01,\n",
       "         -2.31750679e+00, -2.12947512e+00,  3.79929096e-01,\n",
       "          3.07465851e-01, -1.75164771e+00,  1.81235731e+00,\n",
       "         -1.75722331e-01,  8.30703676e-01,  7.97656715e-01,\n",
       "          8.04559886e-01, -5.58987200e-01,  4.94809806e-01,\n",
       "          1.23271048e+00,  1.33912182e+00, -1.78606808e+00,\n",
       "          2.52558947e-01,  1.07435942e+00,  8.78774285e-01,\n",
       "          1.34553874e+00, -3.64911467e-01, -2.09845781e+00,\n",
       "          2.50067353e-01,  1.86185861e+00,  6.64533675e-01,\n",
       "         -1.78854808e-01,  9.14356887e-01, -8.84782195e-01],\n",
       "        [ 2.86558580e+00, -4.99705464e-01,  1.93025172e+00,\n",
       "          2.28891301e+00, -1.83574200e+00, -3.21964502e+00,\n",
       "         -1.18609965e+00, -2.05578589e+00,  2.79471970e+00,\n",
       "         -1.59077036e+00,  2.11659503e+00,  3.23697972e+00,\n",
       "         -3.14597398e-01, -2.48768306e+00, -2.00711086e-01,\n",
       "          1.62175906e+00,  3.41860080e+00, -2.55076480e+00,\n",
       "         -3.04800093e-01,  3.02458954e+00, -2.40038443e+00,\n",
       "          9.02280927e-01, -1.75568128e+00, -8.42762232e-01,\n",
       "         -7.45863393e-02, -1.98586240e-01,  1.51618648e+00,\n",
       "         -1.27682233e+00, -2.52514982e+00, -3.18611860e-01],\n",
       "        [-7.96933845e-02, -2.52265245e-01, -2.38646958e-02,\n",
       "          1.98452041e-01, -5.20688249e-03, -3.34715784e-01,\n",
       "         -1.25498322e-04, -9.78784263e-02, -1.00480698e-01,\n",
       "          2.44142085e-01, -3.39485519e-02,  7.64027163e-02,\n",
       "          1.95553917e-02, -1.42125875e-01, -1.02343434e-03,\n",
       "          1.20055258e-01,  1.42925620e-01, -8.98879543e-02,\n",
       "         -2.90744215e-01, -2.08475105e-02, -1.30723819e-01,\n",
       "          1.12288028e-01,  1.54779509e-01,  3.71899828e-02,\n",
       "          5.01551069e-02, -1.26930863e-01,  1.18233860e-02,\n",
       "          1.11775771e-01,  1.81810662e-01,  6.62775040e-02],\n",
       "        [ 2.42209601e+00,  9.84934926e-01, -3.03490925e+00,\n",
       "          1.67484808e+00,  2.34409380e+00,  7.52340198e-01,\n",
       "         -2.21867418e+00,  1.98840320e+00, -2.59110141e+00,\n",
       "          3.12946773e+00,  9.07293558e-02,  6.21790588e-01,\n",
       "         -5.12062311e-01,  6.31078601e-01, -5.85688233e-01,\n",
       "          1.21900403e+00, -2.03558278e+00,  2.85242128e+00,\n",
       "         -3.55643368e+00, -1.99788404e+00, -1.63529944e+00,\n",
       "         -3.12517595e+00, -5.97718239e+00,  3.43928599e+00,\n",
       "         -9.53256607e-01, -3.04540133e+00,  1.51737905e+00,\n",
       "          8.97270918e-01, -2.91916418e+00,  2.43858838e+00],\n",
       "        [-3.31171751e+00, -1.75528884e+00,  6.72769833e+00,\n",
       "         -2.18195415e+00, -6.45307255e+00,  1.51520684e-01,\n",
       "          3.45836020e+00, -3.32839823e+00,  4.84312296e+00,\n",
       "         -3.80254793e+00, -3.28066319e-01, -7.10696876e-01,\n",
       "         -1.02820492e+00,  7.28244543e-01, -5.50242782e-01,\n",
       "          5.13173580e-01,  5.14443016e+00, -2.31763935e+00,\n",
       "          6.74209404e+00,  1.95103335e+00, -1.11860707e-02,\n",
       "          7.14460039e+00, -2.08153081e+00, -3.73647714e+00,\n",
       "          1.07489325e-01,  1.54560244e+00,  8.57181549e-01,\n",
       "         -1.15105316e-01,  4.87367725e+00, -3.63114905e+00],\n",
       "        [ 6.45669520e-01,  7.86416769e-01, -3.66783291e-01,\n",
       "          9.57330644e-01,  5.23422398e-02, -5.67539871e-01,\n",
       "         -1.13311306e-01,  1.66824019e+00, -3.51046026e-01,\n",
       "          3.90329868e-01, -6.95462346e-01, -6.81840405e-02,\n",
       "         -2.81315655e-01,  3.50507379e-01, -5.06222583e-02,\n",
       "         -3.46597314e-01,  9.25347209e-02,  8.91030550e-01,\n",
       "         -4.15989161e-01, -4.36432391e-01,  4.46132988e-01,\n",
       "          1.46042993e-02, -1.14408411e-01,  2.19324306e-01,\n",
       "          1.35779366e-01, -1.08169603e+00, -2.67777741e-01,\n",
       "         -4.87634391e-01, -5.21424189e-02,  1.23332627e-01],\n",
       "        [-5.88671975e-02, -1.89259470e-01, -1.88397512e-01,\n",
       "          2.52735525e-01,  1.86247528e-02,  9.75591317e-02,\n",
       "         -1.70605034e-01,  2.80067295e-01,  1.37782902e-01,\n",
       "         -1.36085257e-01, -2.35862397e-02,  3.24005961e-01,\n",
       "          2.06647366e-01,  9.41099450e-02, -1.31740263e-02,\n",
       "         -3.55532542e-02,  1.17947713e-01, -4.10034135e-02,\n",
       "          3.80237132e-01, -1.89354882e-01, -3.44478749e-02,\n",
       "          1.17388040e-01,  1.78394735e-01,  5.45010492e-02,\n",
       "         -7.94171095e-02,  1.32913187e-01,  1.90450717e-02,\n",
       "          1.96577311e-01,  1.09005101e-01, -8.77029374e-02],\n",
       "        [-2.06847250e-01,  4.70949650e-01, -3.05702418e-01,\n",
       "         -2.76056737e-01,  9.62168694e-01,  6.70823395e-01,\n",
       "          9.39830303e-01, -3.47551227e-01, -8.35083187e-01,\n",
       "          4.93383557e-01,  7.71775484e-01,  1.45434141e-01,\n",
       "         -1.78768158e-01, -2.48305812e-01, -1.63783383e+00,\n",
       "          5.98628461e-01,  9.54084873e-01,  1.09498906e+00,\n",
       "         -4.35881823e-01, -3.73660773e-01,  2.02486873e+00,\n",
       "         -1.35293198e+00, -8.06587338e-02, -4.76585060e-01,\n",
       "         -3.51753652e-01,  9.60236073e-01, -3.06184560e-01,\n",
       "         -1.01268955e-01,  8.67795944e-02,  5.22462606e-01],\n",
       "        [ 1.08303607e+00, -3.17259026e+00, -9.35391247e-01,\n",
       "         -1.13970888e+00, -4.41626549e+00,  2.07507893e-01,\n",
       "         -5.94530582e+00,  5.68585157e-01,  2.96013451e+00,\n",
       "          5.52385032e-01, -8.98628652e-01,  6.00373507e-01,\n",
       "          1.59902823e+00, -3.91140819e-01, -1.09974825e+00,\n",
       "         -1.25840759e+00,  1.28211689e+00, -7.98346579e-01,\n",
       "         -2.44835064e-01, -6.61747038e-01,  5.73998511e-01,\n",
       "          4.04076755e-01, -4.55223083e-01, -5.75775206e-01,\n",
       "         -1.15446591e+00,  9.43540990e-01, -2.40479395e-01,\n",
       "         -5.99576712e-01, -1.16372097e+00,  3.92926812e-01],\n",
       "        [ 1.21216714e-01,  8.10807705e-01, -1.67979026e+00,\n",
       "          1.54888809e-01,  7.19371796e-01, -8.17137301e-01,\n",
       "         -3.95676166e-01,  2.23644423e+00, -1.02881444e+00,\n",
       "          1.09318948e+00,  4.94894385e-01,  1.46478802e-01,\n",
       "         -6.81164920e-01, -5.42679906e-01,  4.77876306e-01,\n",
       "         -1.63623422e-01, -1.11116397e+00,  1.53146744e+00,\n",
       "          1.11433566e+00,  4.44519460e-01,  1.05607271e+00,\n",
       "         -7.05175936e-01, -1.33968726e-01,  1.02900934e+00,\n",
       "          2.70114988e-01, -5.31528115e-01, -5.06932557e-01,\n",
       "          1.64052022e+00,  2.39842325e-01, -2.48490140e-01],\n",
       "        [-2.19832826e+00, -2.73763633e+00,  6.16562665e-01,\n",
       "         -5.85061729e-01, -8.76251340e-01, -3.72502774e-01,\n",
       "          1.26769269e+00, -5.64861357e-01, -3.77095938e-02,\n",
       "         -6.81121886e-01, -6.25971317e-01,  3.80728036e-01,\n",
       "          2.76528549e+00, -6.88069820e-01, -1.52209437e+00,\n",
       "         -2.24326611e+00,  8.54678929e-01, -2.92829585e+00,\n",
       "          8.55641127e-01,  5.61451316e-01,  1.15176308e+00,\n",
       "          6.53902218e-02, -6.60451829e-01, -1.73061657e+00,\n",
       "         -1.07878186e-01,  2.25534797e+00,  1.25000119e+00,\n",
       "          9.53069925e-01, -1.89863205e+00, -8.63931596e-01],\n",
       "        [-8.94717753e-01,  2.96247065e-01,  4.97931540e-01,\n",
       "         -3.96988034e-01,  5.79033017e-01, -1.31093025e-01,\n",
       "          9.50449228e-01,  1.23829663e+00, -2.33844116e-01,\n",
       "          2.08031848e-01, -2.23775864e-01, -3.99461798e-02,\n",
       "         -7.14603886e-02,  9.19407047e-03,  4.88052756e-01,\n",
       "          5.91983199e-01, -1.62333775e+00,  9.17545736e-01,\n",
       "          1.24420054e-01, -6.96147501e-01,  2.46671498e-01,\n",
       "          2.50171304e-01,  4.05369490e-01,  1.43348113e-01,\n",
       "         -5.14053524e-01,  4.98438716e-01, -4.62187469e-01,\n",
       "          1.43209025e-01, -1.62004411e-01, -2.63325691e-01],\n",
       "        [ 1.93397987e+00, -1.19417119e+00, -2.26759267e+00,\n",
       "          1.11530535e-01, -3.71827900e-01, -5.70581794e-01,\n",
       "         -9.10580218e-01, -7.78447747e-01,  1.16241813e-01,\n",
       "          1.65801570e-02, -3.50467652e-01,  8.47203612e-01,\n",
       "          2.05418682e+00, -8.65374982e-01, -7.54435003e-01,\n",
       "         -7.21434653e-01,  1.87127173e-01, -3.14546078e-01,\n",
       "         -2.40512729e+00,  7.51621068e-01,  2.53106263e-02,\n",
       "         -1.47501433e+00, -4.43218917e-01,  5.07772326e-01,\n",
       "         -9.10260737e-01,  9.97936785e-01,  1.29129186e-01,\n",
       "         -6.92731857e-01, -2.62195611e+00, -9.51316804e-02],\n",
       "        [-2.53649466e-02, -2.13671446e+00, -9.75951254e-02,\n",
       "          3.03635979e+00, -1.19058323e+00, -2.60985017e-01,\n",
       "          5.16050123e-02,  2.24894717e-01, -3.23586091e-02,\n",
       "          7.87630558e-01,  2.28413314e-01,  6.12477541e-01,\n",
       "          1.04389644e+00, -3.04480523e-01, -9.17910710e-02,\n",
       "         -1.16031460e-01,  1.24967897e+00, -8.77845109e-01,\n",
       "         -2.09198102e-01,  7.19439313e-02, -1.14377670e-01,\n",
       "         -1.13118804e+00, -5.58457792e-01,  3.72261971e-01,\n",
       "         -7.27456868e-01,  5.10003686e-01, -9.14785385e-01,\n",
       "         -1.61352706e+00,  1.78698480e-01,  2.19979808e-01],\n",
       "        [ 4.36015558e+00,  6.24098539e-01, -3.07801008e+00,\n",
       "         -1.95648360e+00,  1.71389914e+00,  3.56128645e+00,\n",
       "         -8.17749441e-01,  1.21348095e+00,  4.63475287e-01,\n",
       "         -1.80916846e+00, -2.09919357e+00,  2.16051832e-01,\n",
       "          2.03794479e+00, -1.58078575e+00, -1.37400365e+00,\n",
       "         -3.39131117e-01, -9.14385080e-01, -9.92748022e-01,\n",
       "         -3.52018738e+00,  2.50935841e+00,  1.20862639e+00,\n",
       "         -2.75404763e+00, -9.19768214e-01,  2.55049682e+00,\n",
       "         -1.29717755e+00, -1.73555934e+00, -1.04697180e+00,\n",
       "         -3.09646153e+00, -3.11167622e+00,  2.69779253e+00],\n",
       "        [-1.87719417e+00,  1.18227351e+00,  3.21448183e+00,\n",
       "         -1.59406900e+00, -8.24527085e-01, -1.55247331e+00,\n",
       "         -3.15533519e+00, -2.46070981e+00, -5.61601594e-02,\n",
       "         -2.02604485e+00, -2.79284406e+00,  9.79331076e-01,\n",
       "         -4.07101679e+00,  5.07358170e+00,  1.90917683e+00,\n",
       "          1.24008454e-01,  6.89251125e-01,  2.43809319e+00,\n",
       "          4.24416542e+00, -3.46437883e+00,  2.49400187e+00,\n",
       "          3.05710173e+00,  3.30714919e-02, -4.95982528e-01,\n",
       "          3.41854715e+00, -2.91336745e-01, -3.14595675e+00,\n",
       "          3.93146062e+00,  4.34803200e+00, -1.29233861e+00],\n",
       "        [-1.06734490e+00,  2.22885823e+00,  2.10759759e+00,\n",
       "          6.56244814e-01,  2.43292093e+00, -1.15976679e+00,\n",
       "         -2.50504106e-01,  1.28923082e+00, -9.43809509e-01,\n",
       "         -4.70326275e-01, -9.34060887e-02,  1.45943975e+00,\n",
       "         -4.84668851e-01,  8.47388506e-01,  1.14248261e-01,\n",
       "         -2.10427314e-01, -1.55187869e+00,  1.91393185e+00,\n",
       "          8.67367029e-01,  7.44761825e-02,  4.41380382e-01,\n",
       "         -1.85662782e+00,  6.28202379e-01,  9.72722828e-01,\n",
       "          8.82631958e-01, -8.83806944e-01,  8.78059328e-01,\n",
       "          1.19679764e-01,  2.75675356e-01,  1.34624586e-01],\n",
       "        [-1.13856852e-01,  5.30496761e-02,  8.71292874e-03,\n",
       "          7.65498400e-01,  5.94310760e-02, -1.43502563e-01,\n",
       "         -2.10190248e-02,  2.11507320e-01,  1.33544415e-01,\n",
       "          1.58160791e-01, -1.79077446e-01,  3.94372791e-01,\n",
       "         -1.27763674e-01, -1.57555882e-02, -2.35641211e-01,\n",
       "          9.48982388e-02,  2.65872926e-01, -3.30969971e-03,\n",
       "         -4.65751201e-01,  3.22384275e-02,  1.46891952e-01,\n",
       "          5.93034923e-03,  1.80300385e-01,  1.01480149e-01,\n",
       "          1.63360134e-01,  1.10875167e-01,  5.93973510e-02,\n",
       "          1.11724153e-01,  2.82766223e-01,  9.73061770e-02],\n",
       "        [ 8.30725789e-01, -2.84751326e-01, -1.49687517e+00,\n",
       "          5.56977808e-01,  2.34261060e+00,  1.45432329e+00,\n",
       "         -4.90542382e-01,  5.59388936e-01, -1.30955219e+00,\n",
       "          4.03342336e-01, -2.82412052e-01, -2.63533205e-01,\n",
       "          5.44081390e-01, -1.02392450e-01, -1.70283163e+00,\n",
       "          4.17646229e-01, -8.86948287e-01,  1.57806158e-01,\n",
       "         -6.62597954e-01, -2.87995219e-01,  2.31059596e-01,\n",
       "         -1.53387845e+00,  1.31873810e+00,  5.15803277e-01,\n",
       "         -1.46842515e+00, -2.87533462e-01,  2.46983314e+00,\n",
       "         -6.21318258e-02, -1.17553282e+00,  6.63080752e-01],\n",
       "        [ 1.52466822e+00, -6.99300230e-01,  5.29008567e-01,\n",
       "          1.10517792e-01, -5.49234688e-01, -2.01934934e-01,\n",
       "          1.33966172e+00, -5.10117352e-01,  9.40572679e-01,\n",
       "         -1.06649525e-01,  6.37465954e-01,  1.64054468e-01,\n",
       "          2.97897011e-01, -8.98758531e-01, -8.72445852e-02,\n",
       "          1.01130390e+00, -5.44425786e-01, -1.42446673e+00,\n",
       "         -4.66246516e-01,  6.59034133e-01, -4.44678776e-02,\n",
       "          1.24000990e+00, -2.11005971e-01, -1.00206947e+00,\n",
       "         -9.15981650e-01,  7.32067168e-01,  1.15294814e+00,\n",
       "         -4.78801876e-01, -7.40028977e-01,  8.05033147e-02],\n",
       "        [-1.92189455e+00, -2.23087382e+00,  7.26055145e-01,\n",
       "         -2.10883999e+00,  6.01214767e-01,  2.41192794e+00,\n",
       "          2.15719151e+00, -2.16447994e-01, -5.31352401e-01,\n",
       "         -1.59549177e+00, -2.92941260e+00,  3.57561946e-01,\n",
       "          3.57730627e+00,  1.37503222e-01, -1.57655573e+00,\n",
       "         -3.07230663e+00,  1.35142434e+00, -8.01942587e-01,\n",
       "          1.51579654e+00,  6.45220876e-01,  2.16025591e+00,\n",
       "          4.40177798e-01, -1.27320635e+00, -5.15582323e-01,\n",
       "         -7.76368201e-01,  2.55090165e+00,  1.42081153e+00,\n",
       "          3.78051281e-01,  2.81010121e-01, -1.14258862e+00],\n",
       "        [ 4.36215967e-01, -2.03768635e+00, -1.66257846e+00,\n",
       "         -1.10808349e+00, -4.81619060e-01,  3.08628172e-01,\n",
       "          3.84114593e-01, -1.98025751e+00,  1.05380762e+00,\n",
       "         -2.02032357e-01, -1.50213993e+00,  1.83970308e+00,\n",
       "          1.09733951e+00, -6.87679708e-01, -2.83977580e+00,\n",
       "         -1.07164598e+00,  6.76831663e-01, -1.49027467e+00,\n",
       "         -2.63801050e+00, -3.25324357e-01,  1.39516747e+00,\n",
       "          3.98875785e+00, -2.71202654e-01, -2.00331926e+00,\n",
       "         -1.07322073e+00,  1.57433116e+00,  6.70023978e-01,\n",
       "         -5.94893873e-01, -3.22999167e+00,  7.38664210e-01],\n",
       "        [-5.40596604e-01, -1.83529818e+00,  1.79749131e+00,\n",
       "         -9.63920057e-01, -1.69237971e+00, -7.99992159e-02,\n",
       "         -3.45061088e+00, -4.59786117e-01,  1.99244893e+00,\n",
       "         -3.00942326e+00, -3.62005204e-01, -2.03304768e-01,\n",
       "          1.68819618e+00, -1.93850422e+00, -3.74851167e-01,\n",
       "         -2.77229381e+00,  2.51384091e+00, -2.03529835e+00,\n",
       "          2.28860235e+00,  1.53592384e+00,  1.95189214e+00,\n",
       "          1.22599590e+00, -1.09926152e+00, -1.50161374e+00,\n",
       "         -1.17527759e+00,  1.61888933e+00,  9.82389033e-01,\n",
       "         -9.52748656e-01,  8.45718682e-01, -1.14374638e+00]], dtype=float32),\n",
       " array([  6.304161  ,   4.0124683 ,  -9.060186  ,   2.7027712 ,\n",
       "         10.64753   ,  -1.6170388 ,  -4.8703957 ,   6.041803  ,\n",
       "         -8.045979  ,   4.8725047 ,   0.45454526,   4.2260303 ,\n",
       "          1.7211943 ,   0.26272023,   0.57301265,   0.27334368,\n",
       "         -8.055915  ,   5.229111  , -10.308365  ,  -5.166179  ,\n",
       "         -0.18302065,  -9.880228  ,   5.0159516 ,   5.8196535 ,\n",
       "         -0.6602757 ,  -2.4633906 ,  -0.45982105,  -0.2643079 ,\n",
       "         -7.7681756 ,   6.1814384 ], dtype=float32),\n",
       " array([[1.]], dtype=float32),\n",
       " array([0.], dtype=float32),\n",
       " array([[ 1.5482291 ],\n",
       "        [-0.65240216],\n",
       "        [-2.2739027 ],\n",
       "        [ 0.8631799 ],\n",
       "        [-2.251944  ],\n",
       "        [-0.78629184],\n",
       "        [-1.1561588 ],\n",
       "        [-0.8445233 ],\n",
       "        [ 0.955302  ],\n",
       "        [-1.0678947 ],\n",
       "        [ 0.94828826],\n",
       "        [-1.3391877 ],\n",
       "        [ 0.57747   ],\n",
       "        [-0.8612282 ],\n",
       "        [ 0.83570564],\n",
       "        [-0.83262897],\n",
       "        [ 1.3440232 ],\n",
       "        [-0.61600816],\n",
       "        [-1.307406  ],\n",
       "        [ 1.0665588 ],\n",
       "        [ 0.48125768],\n",
       "        [ 2.1022232 ],\n",
       "        [ 1.4669904 ],\n",
       "        [-1.3843635 ],\n",
       "        [ 0.44004396],\n",
       "        [ 0.67675716],\n",
       "        [-0.49077013],\n",
       "        [ 0.7585138 ],\n",
       "        [-0.70781827],\n",
       "        [-1.9982637 ]], dtype=float32),\n",
       " array([5.806672], dtype=float32),\n",
       " array([[0.4635486]], dtype=float32),\n",
       " array([-0.14239231], dtype=float32)]"
      ]
     },
     "execution_count": 24,
     "metadata": {},
     "output_type": "execute_result"
    }
   ],
   "source": [
    "new_model.get_weights()"
   ]
  },
  {
   "cell_type": "code",
   "execution_count": 25,
   "metadata": {},
   "outputs": [
    {
     "data": {
      "text/plain": [
       "<keras.optimizers.Adam at 0x111034e0828>"
      ]
     },
     "execution_count": 25,
     "metadata": {},
     "output_type": "execute_result"
    }
   ],
   "source": [
    "new_model.optimizer"
   ]
  },
  {
   "cell_type": "markdown",
   "metadata": {},
   "source": [
    "# Predictions (Global)"
   ]
  },
  {
   "cell_type": "markdown",
   "metadata": {},
   "source": [
    "\"Global\" in this sense means that I've fed model.predict() with all the possible parameters. This gives a good overview of the overall performance of the network. This can be useful to spot large-scale phenomena like network overfitting but is not so great at looking at say individual data slices. This is done later.\n",
    "\n",
    "***Nota Bene: all data here is NORMALIZED at this stage.***"
   ]
  },
  {
   "cell_type": "code",
   "execution_count": 26,
   "metadata": {},
   "outputs": [
    {
     "name": "stdout",
     "output_type": "stream",
     "text": [
      "[-0.15051689 -0.15051689 -0.15051689 ... -0.15051689 -0.15051689\n",
      " -0.15051689]\n",
      "(647914,)\n"
     ]
    }
   ],
   "source": [
    "y_test_np_array = y_test.values\n",
    "print(y_test_np_array)\n",
    "print(y_test_np_array.shape)"
   ]
  },
  {
   "cell_type": "code",
   "execution_count": 27,
   "metadata": {},
   "outputs": [
    {
     "name": "stdout",
     "output_type": "stream",
     "text": [
      "[[-1.63230031 -0.55827233 -1.90100118 ... -0.46979169 -0.9907529\n",
      "   1.94482849]\n",
      " [-0.79279996 -1.02146933  0.1347799  ...  0.08246599  1.70406169\n",
      "   0.75767614]\n",
      " [ 0.80988254 -0.78987083 -0.03486852 ...  1.73923903 -0.9907529\n",
      "   1.94482849]\n",
      " ...\n",
      " [ 1.42042826 -0.09507533  0.64372517 ... -0.46979169 -0.16157921\n",
      "  -0.88172461]\n",
      " [-1.0217546   0.59972017  0.30442833 ... -1.57430706  1.70406169\n",
      "  -0.88172461]\n",
      " [-0.56384531  0.13652317  0.30442833 ...  1.73923903 -0.57616598\n",
      "   0.29129499]]\n"
     ]
    }
   ],
   "source": [
    "x_test_np_array = x_test.values\n",
    "print(x_test_np_array)"
   ]
  },
  {
   "cell_type": "code",
   "execution_count": 28,
   "metadata": {},
   "outputs": [],
   "source": [
    "x_test_1_np_array = x_test_1.values\n",
    "x_test_2_np_array = x_test_2.values"
   ]
  },
  {
   "cell_type": "code",
   "execution_count": 29,
   "metadata": {},
   "outputs": [
    {
     "name": "stdout",
     "output_type": "stream",
     "text": [
      "(647914, 6)\n"
     ]
    }
   ],
   "source": [
    "print(x_test_1_np_array.shape)"
   ]
  },
  {
   "cell_type": "code",
   "execution_count": 30,
   "metadata": {},
   "outputs": [
    {
     "name": "stdout",
     "output_type": "stream",
     "text": [
      "(647914, 1)\n"
     ]
    }
   ],
   "source": [
    "print(x_test_2_np_array.shape)"
   ]
  },
  {
   "cell_type": "code",
   "execution_count": 31,
   "metadata": {},
   "outputs": [
    {
     "name": "stdout",
     "output_type": "stream",
     "text": [
      "(647914, 7)\n"
     ]
    }
   ],
   "source": [
    "print(x_test_np_array.shape)"
   ]
  },
  {
   "cell_type": "code",
   "execution_count": 32,
   "metadata": {},
   "outputs": [
    {
     "name": "stdout",
     "output_type": "stream",
     "text": [
      "<class 'numpy.ndarray'>\n",
      "(647914,)\n",
      "<class 'numpy.ndarray'>\n"
     ]
    }
   ],
   "source": [
    "predictions_global = new_model.predict([x_test_1_np_array, x_test_2_np_array], batch_size = 10, verbose=0)\n",
    "print(type(predictions_global))\n",
    "\n",
    "predictions_global = predictions_global.flatten()\n",
    "print(predictions_global.shape)\n",
    "print(type(predictions_global))"
   ]
  },
  {
   "cell_type": "markdown",
   "metadata": {},
   "source": [
    "### Predictions (Global) review - De-Normalized"
   ]
  },
  {
   "cell_type": "code",
   "execution_count": 33,
   "metadata": {},
   "outputs": [],
   "source": [
    "predictions_global_deNormalized = (predictions_global * joined_dataFrame_original['efiTEM_GB'].std()) + joined_dataFrame_original['efiTEM_GB'].mean()"
   ]
  },
  {
   "cell_type": "code",
   "execution_count": 34,
   "metadata": {},
   "outputs": [],
   "source": [
    "y_test_deNormalized = (y_test * joined_dataFrame_original['efiTEM_GB'].std()) + joined_dataFrame_original['efiTEM_GB'].mean()"
   ]
  },
  {
   "cell_type": "code",
   "execution_count": 35,
   "metadata": {},
   "outputs": [],
   "source": [
    "y_test_deNormalized_np_array = y_test_deNormalized.values"
   ]
  },
  {
   "cell_type": "code",
   "execution_count": 36,
   "metadata": {},
   "outputs": [],
   "source": [
    "import matplotlib.pyplot as plt\n",
    "from matplotlib.colors import LogNorm"
   ]
  },
  {
   "cell_type": "code",
   "execution_count": 37,
   "metadata": {},
   "outputs": [
    {
     "data": {
      "image/png": "[encoded data removed]",
      "text/plain": [
       "<Figure size 432x288 with 1 Axes>"
      ]
     },
     "metadata": {
      "needs_background": "light"
     },
     "output_type": "display_data"
    }
   ],
   "source": [
    "plt.hist(predictions_global_deNormalized)\n",
    "plt.title('QuaLiKiz-NN Predictions (De-Normalized) Histogram')\n",
    "plt.xlabel('Values')\n",
    "plt.ylabel('Counts')\n",
    "# plt.savefig('./2018-07-10_Run0050b_DataSlicerPlot/NN_Predictions.png', dpi = 100)\n",
    "plt.show()"
   ]
  },
  {
   "cell_type": "code",
   "execution_count": 38,
   "metadata": {},
   "outputs": [
    {
     "name": "stdout",
     "output_type": "stream",
     "text": [
      "(647914,)\n"
     ]
    }
   ],
   "source": [
    "print(predictions_global.shape)"
   ]
  },
  {
   "cell_type": "code",
   "execution_count": 39,
   "metadata": {},
   "outputs": [
    {
     "data": {
      "image/png": "[encoded data removed]",
      "text/plain": [
       "<Figure size 432x288 with 1 Axes>"
      ]
     },
     "metadata": {
      "needs_background": "light"
     },
     "output_type": "display_data"
    }
   ],
   "source": [
    "plt.plot(y_test_deNormalized_np_array, predictions_global_deNormalized, 'r.', ms = 5, label = 'QuaLiKiz-NN')\n",
    "plt.title('QuaLiKiz-NN predictions (De-Normalized) (efiTEM_GB) vs. QuaLiKiz (efiTEM_GB)')\n",
    "plt.xlabel('QuaLiKiz')\n",
    "plt.ylabel('Neural Network')\n",
    "plt.show()"
   ]
  },
  {
   "cell_type": "code",
   "execution_count": 40,
   "metadata": {},
   "outputs": [
    {
     "data": {
      "image/png": "[encoded data removed]",
      "text/plain": [
       "<Figure size 432x288 with 2 Axes>"
      ]
     },
     "metadata": {
      "needs_background": "light"
     },
     "output_type": "display_data"
    }
   ],
   "source": [
    "plt.hist2d(y_test_deNormalized_np_array, predictions_global_deNormalized, bins=100, cmin=5)\n",
    "# plt.plot( [0,1],[0,1] )\n",
    "plt.title('QuaLiKiz vs Neural Network (De-Normalized) (non-log scale)')\n",
    "plt.xlabel('QuaLiKiz')\n",
    "plt.ylabel('Neural Network')\n",
    "plt.ylim(0)\n",
    "plt.xlim(0)\n",
    "cbar = plt.colorbar()\n",
    "cbar.ax.set_ylabel('Counts')\n",
    "# plt.savefig('./2018-07-10_Run0050b_DataSlicerPlot/QuaLiKiz-vs-NN_nonLogScale_bins100.png', dpi = 100)\n",
    "plt.show()"
   ]
  },
  {
   "cell_type": "code",
   "execution_count": 73,
   "metadata": {},
   "outputs": [
    {
     "data": {
      "image/png": "[encoded data removed]",
      "text/plain": [
       "<Figure size 432x288 with 2 Axes>"
      ]
     },
     "metadata": {
      "needs_background": "light"
     },
     "output_type": "display_data"
    }
   ],
   "source": [
    "plt.hist2d(y_test_deNormalized_np_array, predictions_global_deNormalized, bins=300, cmin=10, cmax = 1e4, norm=LogNorm(), cmap='plasma_r')\n",
    "plt.plot( [0,40],[0,40],'k--' )\n",
    "#plt.title('QuaLiKiz vs Neural Network (De-Normalized) (log scale)')\n",
    "plt.xlabel('QuaLiKiz')\n",
    "plt.ylabel('Neural Network')\n",
    "plt.ylim(0, 40)\n",
    "plt.xlim(0, 40)\n",
    "cbar = plt.colorbar()\n",
    "cbar.ax.set_ylabel('Counts')\n",
    "#plt.savefig('./2019-02-20_Run0166_DataSlicerPlot/QuaLiKiz-vs-NN.png', dpi = 100)\n",
    "plt.show()"
   ]
  },
  {
   "cell_type": "markdown",
   "metadata": {},
   "source": [
    "### Sigmas (De-Normalized)"
   ]
  },
  {
   "cell_type": "code",
   "execution_count": 42,
   "metadata": {},
   "outputs": [
    {
     "data": {
      "image/png": "[encoded data removed]",
      "text/plain": [
       "<Figure size 432x288 with 1 Axes>"
      ]
     },
     "metadata": {
      "needs_background": "light"
     },
     "output_type": "display_data"
    }
   ],
   "source": [
    "h = plt.hist2d(y_test_np_array, predictions_global,bins = 100)"
   ]
  },
  {
   "cell_type": "code",
   "execution_count": 43,
   "metadata": {},
   "outputs": [
    {
     "data": {
      "image/png": "[encoded data removed]",
      "text/plain": [
       "<Figure size 432x288 with 1 Axes>"
      ]
     },
     "metadata": {
      "needs_background": "light"
     },
     "output_type": "display_data"
    }
   ],
   "source": [
    "h_deNormalized = plt.hist2d(y_test_deNormalized_np_array, predictions_global_deNormalized,bins = 100)"
   ]
  },
  {
   "cell_type": "code",
   "execution_count": 44,
   "metadata": {},
   "outputs": [],
   "source": [
    "sigmas_deNormalized = []\n",
    "Qualikiz_deNormalized = y_test_deNormalized_np_array\n",
    "for i in range(len(h[0])):\n",
    "    sigmas_deNormalized.append(numpy.std(h_deNormalized[0][i] / numpy.max(h_deNormalized[0][i])))"
   ]
  },
  {
   "cell_type": "code",
   "execution_count": 45,
   "metadata": {},
   "outputs": [
    {
     "data": {
      "image/png": "[encoded data removed]",
      "text/plain": [
       "<Figure size 432x288 with 1 Axes>"
      ]
     },
     "metadata": {
      "needs_background": "light"
     },
     "output_type": "display_data"
    }
   ],
   "source": [
    "plt.plot((numpy.array(h_deNormalized[1][1:]) + numpy.array(h_deNormalized[1][:-1]))/2.,sigmas_deNormalized)\n",
    "plt.show()"
   ]
  },
  {
   "cell_type": "code",
   "execution_count": 46,
   "metadata": {},
   "outputs": [
    {
     "data": {
      "image/png": "[encoded data removed]",
      "text/plain": [
       "<Figure size 432x288 with 1 Axes>"
      ]
     },
     "metadata": {
      "needs_background": "light"
     },
     "output_type": "display_data"
    }
   ],
   "source": [
    "for i in range(10):\n",
    "    plt.plot((h_deNormalized[1][1:] + h_deNormalized[1][:-1])/2., h_deNormalized[0][i]/numpy.max(h_deNormalized[0][i]) )"
   ]
  },
  {
   "cell_type": "code",
   "execution_count": 74,
   "metadata": {},
   "outputs": [
    {
     "data": {
      "image/png": "[encoded data removed]",
      "text/plain": [
       "<Figure size 432x288 with 1 Axes>"
      ]
     },
     "metadata": {
      "needs_background": "light"
     },
     "output_type": "display_data"
    }
   ],
   "source": [
    "plt.plot(y_test_deNormalized_np_array, predictions_global_deNormalized - y_test_deNormalized_np_array, 'b.', ms = 0.5)\n",
    "plt.title('Neural Network predictions (De-Normalized) vs. QuaLiKiz input')\n",
    "plt.xlabel('QuaLiKiz')\n",
    "plt.ylabel('NN Predictions - QuaLiKiz')\n",
    "plt.ylim(-100, 150)\n",
    "#plt.savefig('./2019-02-20_Run0166_DataSlicerPlot/Neural-Network-predictions-(De-Normalized)-vs-QuaLiKiz-input_ms0.5.png', dpi = 300)\n",
    "plt.show()"
   ]
  },
  {
   "cell_type": "code",
   "execution_count": 48,
   "metadata": {},
   "outputs": [
    {
     "data": {
      "image/png": "[encoded data removed]",
      "text/plain": [
       "<Figure size 432x288 with 1 Axes>"
      ]
     },
     "metadata": {
      "needs_background": "light"
     },
     "output_type": "display_data"
    }
   ],
   "source": [
    "plt.plot(y_test_deNormalized_np_array, predictions_global_deNormalized - y_test_deNormalized_np_array, 'b.', ms = 0.5)\n",
    "plt.xlabel('QuaLiKiz')\n",
    "plt.ylabel('NN Predictions - QuaLiKiz')\n",
    "#plt.savefig('./2019-02-10_Run0164_DataSlicerPlot/Neural-Network-predictions-(De-Normalized)-vs-QuaLiKiz-input_ms0.5.png', dpi = 300)\n",
    "plt.show()"
   ]
  },
  {
   "cell_type": "code",
   "execution_count": 80,
   "metadata": {},
   "outputs": [
    {
     "data": {
      "image/png": "[encoded data removed]",
      "text/plain": [
       "<Figure size 432x288 with 1 Axes>"
      ]
     },
     "metadata": {
      "needs_background": "light"
     },
     "output_type": "display_data"
    }
   ],
   "source": [
    "plt.plot(y_test_deNormalized_np_array, predictions_global_deNormalized - y_test_deNormalized_np_array, 'b.', ms = 0.1, alpha=0.5)\n",
    "plt.title('Neural Network predictions vs. QuaLiKiz input (De-Normalized)')\n",
    "plt.xlabel('QuaLiKiz')\n",
    "plt.ylabel('NN Predictions - QuaLiKiz')\n",
    "plt.ylim(-40, 50)\n",
    "plt.xlim(-2, 50)\n",
    "#plt.savefig('./2019-02-20_Run0166_DataSlicerPlot/Neural-Network-predictions-(De-Normalized)-vs-QuaLiKiz-input_ms0.1.png', dpi = 300)\n",
    "plt.show()"
   ]
  },
  {
   "cell_type": "code",
   "execution_count": 50,
   "metadata": {},
   "outputs": [
    {
     "data": {
      "image/png": "[encoded data removed]",
      "text/plain": [
       "<Figure size 432x288 with 1 Axes>"
      ]
     },
     "metadata": {
      "needs_background": "light"
     },
     "output_type": "display_data"
    }
   ],
   "source": [
    "plt.plot(y_test_deNormalized_np_array, predictions_global_deNormalized - y_test_deNormalized_np_array, 'b.', ms = 0.1, alpha=0.5)\n",
    "plt.xlabel('QuaLiKiz')\n",
    "plt.ylabel('NN Predictions - QuaLiKiz')\n",
    "#plt.savefig('./2019-02-10_Run0164_DataSlicerPlot/Neural-Network-predictions-(De-Normalized)-vs-QuaLiKiz-input_ms0.1.png', dpi = 300)\n",
    "plt.show()"
   ]
  },
  {
   "cell_type": "markdown",
   "metadata": {},
   "source": [
    "# Predictions (single Data Slice)"
   ]
  },
  {
   "cell_type": "markdown",
   "metadata": {},
   "source": [
    "### Predictions - Initialise table to feed predictions"
   ]
  },
  {
   "cell_type": "code",
   "execution_count": 51,
   "metadata": {},
   "outputs": [
    {
     "data": {
      "text/plain": [
       "array([[ 5.75      ,  2.        ,  3.        , ...,  0.7       ,\n",
       "         0.45      ,  1.33      ],\n",
       "       [ 5.75      ,  2.06030151,  3.        , ...,  0.7       ,\n",
       "         0.45      ,  1.33      ],\n",
       "       [ 5.75      ,  2.12060302,  3.        , ...,  0.7       ,\n",
       "         0.45      ,  1.33      ],\n",
       "       ...,\n",
       "       [ 5.75      , 13.87939698,  3.        , ...,  0.7       ,\n",
       "         0.45      ,  1.33      ],\n",
       "       [ 5.75      , 13.93969849,  3.        , ...,  0.7       ,\n",
       "         0.45      ,  1.33      ],\n",
       "       [ 5.75      , 14.        ,  3.        , ...,  0.7       ,\n",
       "         0.45      ,  1.33      ]])"
      ]
     },
     "execution_count": 51,
     "metadata": {},
     "output_type": "execute_result"
    }
   ],
   "source": [
    "# table (Original values from input file unstable_training_gen2_7D_nions0_flat_filter7.h5)\n",
    "# Hard-coded variables for the data slice\n",
    "\n",
    "table = numpy.zeros((200,7))\n",
    "\n",
    "table[:,0] = 5.75    # Ati\n",
    "table[:,1] = numpy.linspace(2,14,200)   # Ate\n",
    "table[:,2] = 3       # An\n",
    "table[:,3] = 3       # qx\n",
    "table[:,4] = 0.7     # smag\n",
    "table[:,5] = 0.45    # x\n",
    "table[:,6] = 1.33    # Ti_Te\n",
    "\n",
    "table"
   ]
  },
  {
   "cell_type": "code",
   "execution_count": 52,
   "metadata": {},
   "outputs": [],
   "source": [
    "# Normalized table (inputs for model.predict())\n",
    "table_normalized = numpy.zeros((200,7))\n",
    "\n",
    "DataSlice_Ati = 5.75\n",
    "DataSlice_Ate = numpy.linspace(2,14,200)\n",
    "DataSlice_An = 3\n",
    "DataSlice_q = 3\n",
    "DataSlice_smag = 0.7\n",
    "DataSlice_x = 0.45\n",
    "DataSlice_Ti_Te = 1.33\n",
    "\n",
    "# Normalize data by standard deviation and mean-centering the data\n",
    "table_normalized[:,0] = (DataSlice_Ati - joined_dataFrame_original['Ati'].mean()) / joined_dataFrame_original['Ati'].std()\n",
    "table_normalized[:,1] = (DataSlice_Ate - joined_dataFrame_original['Ate'].mean()) / joined_dataFrame_original['Ate'].std()\n",
    "table_normalized[:,2] = (DataSlice_An - joined_dataFrame_original['An'].mean()) / joined_dataFrame_original['An'].std()\n",
    "table_normalized[:,3] = (DataSlice_q - joined_dataFrame_original['q'].mean()) / joined_dataFrame_original['q'].std()\n",
    "table_normalized[:,4] = (DataSlice_smag - joined_dataFrame_original['smag'].mean()) / joined_dataFrame_original['smag'].std()\n",
    "table_normalized[:,5] = (DataSlice_x - joined_dataFrame_original['x'].mean()) / joined_dataFrame_original['x'].std()\n",
    "table_normalized[:,6] = (DataSlice_Ti_Te - joined_dataFrame_original['Ti_Te'].mean()) / joined_dataFrame_original['Ti_Te'].std()"
   ]
  },
  {
   "cell_type": "code",
   "execution_count": 53,
   "metadata": {},
   "outputs": [
    {
     "data": {
      "text/plain": [
       "array([[ 0.12301861, -1.02146933,  0.8133736 , ..., -0.635469  ,\n",
       "        -0.16157917,  0.29129492],\n",
       "       [ 0.12301861, -1.00284834,  0.8133736 , ..., -0.635469  ,\n",
       "        -0.16157917,  0.29129492],\n",
       "       [ 0.12301861, -0.98422736,  0.8133736 , ..., -0.635469  ,\n",
       "        -0.16157917,  0.29129492],\n",
       "       ...,\n",
       "       [ 0.12301861,  2.64686471,  0.8133736 , ..., -0.635469  ,\n",
       "        -0.16157917,  0.29129492],\n",
       "       [ 0.12301861,  2.66548569,  0.8133736 , ..., -0.635469  ,\n",
       "        -0.16157917,  0.29129492],\n",
       "       [ 0.12301861,  2.68410668,  0.8133736 , ..., -0.635469  ,\n",
       "        -0.16157917,  0.29129492]])"
      ]
     },
     "execution_count": 53,
     "metadata": {},
     "output_type": "execute_result"
    }
   ],
   "source": [
    "table_normalized"
   ]
  },
  {
   "cell_type": "code",
   "execution_count": 54,
   "metadata": {},
   "outputs": [],
   "source": [
    "# Normalized table (inputs for model.predict())\n",
    "table_branch1_normalized = numpy.zeros((200,6))\n",
    "\n",
    "DataSlice_Ati = 5.75\n",
    "#DataSlice_Ate = numpy.linspace(2,14,200)\n",
    "DataSlice_An = 3\n",
    "DataSlice_q = 3\n",
    "DataSlice_smag = 0.7\n",
    "DataSlice_x = 0.45\n",
    "DataSlice_Ti_Te = 1.33\n",
    "\n",
    "# Normalize data by standard deviation and mean-centering the data\n",
    "table_branch1_normalized[:,0] = (DataSlice_Ati - joined_dataFrame_original['Ati'].mean()) / joined_dataFrame_original['Ati'].std()\n",
    "#table_normalized[:,1] = (DataSlice_Ate - joined_dataFrame_original['Ate'].mean()) / joined_dataFrame_original['Ate'].std()\n",
    "table_branch1_normalized[:,1] = (DataSlice_An - joined_dataFrame_original['An'].mean()) / joined_dataFrame_original['An'].std()\n",
    "table_branch1_normalized[:,2] = (DataSlice_q - joined_dataFrame_original['q'].mean()) / joined_dataFrame_original['q'].std()\n",
    "table_branch1_normalized[:,3] = (DataSlice_smag - joined_dataFrame_original['smag'].mean()) / joined_dataFrame_original['smag'].std()\n",
    "table_branch1_normalized[:,4] = (DataSlice_x - joined_dataFrame_original['x'].mean()) / joined_dataFrame_original['x'].std()\n",
    "table_branch1_normalized[:,5] = (DataSlice_Ti_Te - joined_dataFrame_original['Ti_Te'].mean()) / joined_dataFrame_original['Ti_Te'].std()"
   ]
  },
  {
   "cell_type": "code",
   "execution_count": 55,
   "metadata": {},
   "outputs": [],
   "source": [
    "# Normalized table (inputs for model.predict())\n",
    "table_branch2_normalized = numpy.zeros((200,1))\n",
    "\n",
    "DataSlice_Ate = numpy.linspace(2,14,200)\n",
    "\n",
    "# Normalize data by standard deviation and mean-centering the data\n",
    "table_branch2_normalized[:,0] = (DataSlice_Ate - joined_dataFrame_original['Ate'].mean()) / joined_dataFrame_original['Ate'].std()"
   ]
  },
  {
   "cell_type": "code",
   "execution_count": 56,
   "metadata": {},
   "outputs": [
    {
     "name": "stdout",
     "output_type": "stream",
     "text": [
      "<class 'numpy.ndarray'>\n",
      "(200,)\n",
      "<class 'numpy.ndarray'>\n"
     ]
    }
   ],
   "source": [
    "predictions = new_model.predict([table_branch1_normalized] + [table_branch2_normalized], batch_size = 10, verbose=0)\n",
    "print(type(predictions))\n",
    "\n",
    "predictions = predictions.flatten()\n",
    "print(predictions.shape)\n",
    "print(type(predictions))"
   ]
  },
  {
   "cell_type": "code",
   "execution_count": 57,
   "metadata": {},
   "outputs": [
    {
     "data": {
      "image/png": "[encoded data removed]",
      "text/plain": [
       "<Figure size 432x288 with 1 Axes>"
      ]
     },
     "metadata": {
      "needs_background": "light"
     },
     "output_type": "display_data"
    }
   ],
   "source": [
    "plt.hist(predictions)\n",
    "plt.show()"
   ]
  },
  {
   "cell_type": "markdown",
   "metadata": {},
   "source": [
    "# Masks"
   ]
  },
  {
   "cell_type": "markdown",
   "metadata": {},
   "source": [
    "These are used to rapidly select which parameters to look at (for a given data slice)."
   ]
  },
  {
   "cell_type": "markdown",
   "metadata": {},
   "source": [
    "#### Ate"
   ]
  },
  {
   "cell_type": "code",
   "execution_count": 58,
   "metadata": {},
   "outputs": [],
   "source": [
    "Ate_mask1 = joined_dataFrame_original.Ate == 2\n",
    "Ate_mask2 = joined_dataFrame_original.Ate == 2.75\n",
    "Ate_mask3 = joined_dataFrame_original.Ate == 3.5\n",
    "Ate_mask4 = joined_dataFrame_original.Ate == 4.25\n",
    "Ate_mask5 = joined_dataFrame_original.Ate == 5\n",
    "Ate_mask6 = joined_dataFrame_original.Ate == 5.75\n",
    "Ate_mask7 = joined_dataFrame_original.Ate == 6.5\n",
    "Ate_mask8 = joined_dataFrame_original.Ate == 7.25\n",
    "Ate_mask9 = joined_dataFrame_original.Ate == 8\n",
    "Ate_mask10 = joined_dataFrame_original.Ate == 10\n",
    "Ate_mask11 = joined_dataFrame_original.Ate == 14\n",
    "\n",
    "Ate_anti_mask1 = joined_dataFrame_original.Ate != 2\n",
    "Ate_anti_mask2 = joined_dataFrame_original.Ate != 2.75\n",
    "Ate_anti_mask3 = joined_dataFrame_original.Ate != 3.5\n",
    "Ate_anti_mask4 = joined_dataFrame_original.Ate != 4.25\n",
    "Ate_anti_mask5 = joined_dataFrame_original.Ate != 5\n",
    "Ate_anti_mask6 = joined_dataFrame_original.Ate != 5.75\n",
    "Ate_anti_mask7 = joined_dataFrame_original.Ate != 6.5\n",
    "Ate_anti_mask8 = joined_dataFrame_original.Ate != 7.25\n",
    "Ate_anti_mask9 = joined_dataFrame_original.Ate != 8\n",
    "Ate_anti_mask10 = joined_dataFrame_original.Ate != 10\n",
    "Ate_anti_mask11 = joined_dataFrame_original.Ate != 14"
   ]
  },
  {
   "cell_type": "markdown",
   "metadata": {},
   "source": [
    "#### An"
   ]
  },
  {
   "cell_type": "code",
   "execution_count": 59,
   "metadata": {},
   "outputs": [],
   "source": [
    "An_mask1 = joined_dataFrame_original.An == -5\n",
    "An_mask2 = joined_dataFrame_original.An == -3\n",
    "An_mask3 = joined_dataFrame_original.An == -1\n",
    "An_mask4 = numpy.array(joined_dataFrame_original.An <= 1.1e-14) * numpy.array(joined_dataFrame_original.An >= 9E-15)\n",
    "An_mask5 = joined_dataFrame_original.An == 0.5\n",
    "An_mask6 = joined_dataFrame_original.An == 1.0\n",
    "An_mask7 = joined_dataFrame_original.An == 1.5\n",
    "An_mask8 = joined_dataFrame_original.An == 2.0\n",
    "An_mask9 = joined_dataFrame_original.An == 2.5\n",
    "An_mask10 = joined_dataFrame_original.An == 3.0\n",
    "An_mask11 = joined_dataFrame_original.An == 4.0\n",
    "An_mask12 = joined_dataFrame_original.An == 6.0\n",
    "\n",
    "An_anti_mask1 = joined_dataFrame_original.An != -5\n",
    "An_anti_mask2 = joined_dataFrame_original.An != -3\n",
    "An_anti_mask3 = joined_dataFrame_original.An != -1\n",
    "An_anti_mask4 = numpy.array(joined_dataFrame_original.An >= 1.1e-14) * numpy.array(joined_dataFrame_original.An <= 9E-15)\n",
    "An_anti_mask5 = joined_dataFrame_original.An != 0.5\n",
    "An_anti_mask6 = joined_dataFrame_original.An != 1.0\n",
    "An_anti_mask7 = joined_dataFrame_original.An != 1.5\n",
    "An_anti_mask8 = joined_dataFrame_original.An != 2.0\n",
    "An_anti_mask9 = joined_dataFrame_original.An != 2.5\n",
    "An_anti_mask10 = joined_dataFrame_original.An != 3.0\n",
    "An_anti_mask11 = joined_dataFrame_original.An != 4.0\n",
    "An_anti_mask12 = joined_dataFrame_original.An != 6.0"
   ]
  },
  {
   "cell_type": "markdown",
   "metadata": {},
   "source": [
    "#### Ati"
   ]
  },
  {
   "cell_type": "code",
   "execution_count": 60,
   "metadata": {},
   "outputs": [],
   "source": [
    "Ati_mask1 = numpy.array(joined_dataFrame_original.Ati <= 1.1e-14) * numpy.array(joined_dataFrame_original.Ati >= 9E-15)\n",
    "Ati_mask2 = joined_dataFrame_original.Ati == 2\n",
    "Ati_mask3 = joined_dataFrame_original.Ati == 2.75\n",
    "Ati_mask4 = joined_dataFrame_original.Ati == 3.5\n",
    "Ati_mask5 = joined_dataFrame_original.Ati == 4.25\n",
    "Ati_mask6 = joined_dataFrame_original.Ati == 5\n",
    "Ati_mask7 = joined_dataFrame_original.Ati == 5.75\n",
    "Ati_mask8 = joined_dataFrame_original.Ati == 6.5\n",
    "Ati_mask9 = joined_dataFrame_original.Ati == 7.25\n",
    "Ati_mask10 = joined_dataFrame_original.Ati == 8\n",
    "Ati_mask11 = joined_dataFrame_original.Ati == 10\n",
    "Ati_mask12 = joined_dataFrame_original.Ati == 14"
   ]
  },
  {
   "cell_type": "markdown",
   "metadata": {},
   "source": [
    "#### qx"
   ]
  },
  {
   "cell_type": "code",
   "execution_count": 61,
   "metadata": {},
   "outputs": [],
   "source": [
    "q_mask0 = numpy.array(joined_dataFrame_original.q <= 0.67) * numpy.array(joined_dataFrame_original.q >= 0.65)  #0.66\n",
    "q_mask1 = joined_dataFrame_original.q == 1.0\n",
    "q_mask2 = joined_dataFrame_original.q == 1.5\n",
    "q_mask3 = joined_dataFrame_original.q == 2.0\n",
    "q_mask4 = joined_dataFrame_original.q == 2.5\n",
    "q_mask5 = joined_dataFrame_original.q == 3.0\n",
    "q_mask6 = joined_dataFrame_original.q == 4.0\n",
    "q_mask7 = joined_dataFrame_original.q == 5.0\n",
    "q_mask8 = joined_dataFrame_original.q == 10.00\n",
    "q_mask9 = joined_dataFrame_original.q == 15.00\n",
    "\n",
    "q_anti_mask0 = numpy.array(joined_dataFrame_original.q >= 0.67) * numpy.array(joined_dataFrame_original.q <= 0.65)  #0.66\n",
    "q_anti_mask1 = joined_dataFrame_original.q != 1.0\n",
    "q_anti_mask2 = joined_dataFrame_original.q != 1.5\n",
    "q_anti_mask3 = joined_dataFrame_original.q != 2.0\n",
    "q_anti_mask4 = joined_dataFrame_original.q != 2.5\n",
    "q_anti_mask5 = joined_dataFrame_original.q != 3.0\n",
    "q_anti_mask6 = joined_dataFrame_original.q != 4.0\n",
    "q_anti_mask7 = joined_dataFrame_original.q != 5.0\n",
    "q_anti_mask8 = joined_dataFrame_original.q != 10.00\n",
    "q_anti_mask9 = joined_dataFrame_original.q != 15.00"
   ]
  },
  {
   "cell_type": "markdown",
   "metadata": {},
   "source": [
    "#### smag"
   ]
  },
  {
   "cell_type": "code",
   "execution_count": 62,
   "metadata": {},
   "outputs": [],
   "source": [
    "smag_mask1 = joined_dataFrame_original.smag == -1.0\n",
    "smag_mask2 = numpy.array(joined_dataFrame_original.smag <= 0.11) * numpy.array(joined_dataFrame_original.smag >= 0.09)   # 0.1\n",
    "smag_mask3 = numpy.array(joined_dataFrame_original.smag <= 0.41) * numpy.array(joined_dataFrame_original.smag >= 0.39)   # 0.4\n",
    "smag_mask4 = numpy.array(joined_dataFrame_original.smag <= 0.71) * numpy.array(joined_dataFrame_original.smag >= 0.68)   # 0.7\n",
    "smag_mask5 = joined_dataFrame_original.smag == 1\n",
    "smag_mask6 = joined_dataFrame_original.smag == 1.5\n",
    "smag_mask7 = joined_dataFrame_original.smag == 2.0\n",
    "smag_mask8 = joined_dataFrame_original.smag == 2.75\n",
    "smag_mask9 = joined_dataFrame_original.smag == 3.5\n",
    "smag_mask10 = joined_dataFrame_original.smag == 5.0\n",
    "\n",
    "smag_anti_mask1 = joined_dataFrame_original.smag != -1.0\n",
    "smag_anti_mask2 = numpy.array(joined_dataFrame_original.smag >= 0.11) * numpy.array(joined_dataFrame_original.smag <= 0.09)   # 0.1\n",
    "smag_anti_mask3 = numpy.array(joined_dataFrame_original.smag >= 0.41) * numpy.array(joined_dataFrame_original.smag <= 0.39)   # 0.4\n",
    "smag_anti_mask4 = numpy.array(joined_dataFrame_original.smag >= 0.71) * numpy.array(joined_dataFrame_original.smag <= 0.68)   # 0.7\n",
    "smag_anti_mask5 = joined_dataFrame_original.smag != 1\n",
    "smag_anti_mask6 = joined_dataFrame_original.smag != 1.5\n",
    "smag_anti_mask7 = joined_dataFrame_original.smag != 2.0\n",
    "smag_anti_mask8 = joined_dataFrame_original.smag != 2.75\n",
    "smag_anti_mask9 = joined_dataFrame_original.smag != 3.5\n",
    "smag_anti_mask10 = joined_dataFrame_original.smag != 5.0"
   ]
  },
  {
   "cell_type": "markdown",
   "metadata": {},
   "source": [
    "#### x"
   ]
  },
  {
   "cell_type": "code",
   "execution_count": 63,
   "metadata": {},
   "outputs": [],
   "source": [
    "x_mask1 = numpy.array(joined_dataFrame_original.x <= 0.10) * numpy.array(joined_dataFrame_original.x >= 0.08)   # 0.09\n",
    "x_mask2 = numpy.array(joined_dataFrame_original.x <= 0.22) * numpy.array(joined_dataFrame_original.x >= 0.20)   # 0.21\n",
    "x_mask3 = numpy.array(joined_dataFrame_original.x <= 0.34) * numpy.array(joined_dataFrame_original.x >= 0.32)   # 0.33\n",
    "x_mask4 = numpy.array(joined_dataFrame_original.x <= 0.46) * numpy.array(joined_dataFrame_original.x >= 0.44)   # 0.45\n",
    "x_mask5 = numpy.array(joined_dataFrame_original.x <= 0.58) * numpy.array(joined_dataFrame_original.x >= 0.56)   # 0.57\n",
    "x_mask6 = numpy.array(joined_dataFrame_original.x <= 0.70) * numpy.array(joined_dataFrame_original.x >= 0.68)   # 0.69\n",
    "x_mask7 = numpy.array(joined_dataFrame_original.x <= 0.85) * numpy.array(joined_dataFrame_original.x >= 0.83)   # 0.84\n",
    "x_mask8 = numpy.array(joined_dataFrame_original.x <= 1.00) * numpy.array(joined_dataFrame_original.x >= 0.98)   # 0.99\n",
    "x_mask = {0.09: x_mask1}\n",
    "\n",
    "x_anti_mask1 = numpy.array(joined_dataFrame_original.x >= 0.10) * numpy.array(joined_dataFrame_original.x <= 0.08)   # 0.09\n",
    "x_anti_mask2 = numpy.array(joined_dataFrame_original.x >= 0.22) * numpy.array(joined_dataFrame_original.x <= 0.20)   # 0.21\n",
    "x_anti_mask3 = numpy.array(joined_dataFrame_original.x >= 0.34) * numpy.array(joined_dataFrame_original.x <= 0.32)   # 0.33\n",
    "x_anti_mask4 = numpy.array(joined_dataFrame_original.x >= 0.46) * numpy.array(joined_dataFrame_original.x <= 0.44)   # 0.45\n",
    "x_anti_mask5 = numpy.array(joined_dataFrame_original.x >= 0.58) * numpy.array(joined_dataFrame_original.x <= 0.56)   # 0.57\n",
    "x_anti_mask6 = numpy.array(joined_dataFrame_original.x >= 0.70) * numpy.array(joined_dataFrame_original.x <= 0.68)   # 0.69\n",
    "x_anti_mask7 = numpy.array(joined_dataFrame_original.x >= 0.85) * numpy.array(joined_dataFrame_original.x <= 0.83)   # 0.84\n",
    "x_anti_mask8 = numpy.array(joined_dataFrame_original.x >= 1.00) * numpy.array(joined_dataFrame_original.x <= 0.98)   # 0.99"
   ]
  },
  {
   "cell_type": "markdown",
   "metadata": {},
   "source": [
    "#### Ti_Te"
   ]
  },
  {
   "cell_type": "code",
   "execution_count": 64,
   "metadata": {},
   "outputs": [],
   "source": [
    "Ti_Te_mask1 = joined_dataFrame_original.Ti_Te == 0.25\n",
    "Ti_Te_mask2 = joined_dataFrame_original.Ti_Te == 0.5\n",
    "Ti_Te_mask3 = joined_dataFrame_original.Ti_Te == 0.75\n",
    "Ti_Te_mask4 = joined_dataFrame_original.Ti_Te == 1\n",
    "Ti_Te_mask5 = numpy.array(joined_dataFrame_original.Ti_Te <= 1.34) * numpy.array(joined_dataFrame_original.Ti_Te >= 1.32)   # 1.33\n",
    "Ti_Te_mask6 = numpy.array(joined_dataFrame_original.Ti_Te <= 1.67) * numpy.array(joined_dataFrame_original.Ti_Te >= 1.65)   # 1.66\n",
    "Ti_Te_mask7 = joined_dataFrame_original.Ti_Te == 2.50"
   ]
  },
  {
   "cell_type": "markdown",
   "metadata": {},
   "source": [
    "# Plots"
   ]
  },
  {
   "cell_type": "markdown",
   "metadata": {},
   "source": [
    "## Slice 1"
   ]
  },
  {
   "cell_type": "code",
   "execution_count": 65,
   "metadata": {},
   "outputs": [
    {
     "name": "stdout",
     "output_type": "stream",
     "text": [
      "          efiTEM_GB       Ati       Ate        An         q      smag  \\\n",
      "29753959  -0.150517  0.123019 -1.021469  0.813374 -0.279168 -0.635469   \n",
      "30560359  -0.150517  0.123019 -0.558272  0.813374 -0.279168 -0.635469   \n",
      "30963559  -0.150517  0.123019 -0.326674  0.813374 -0.279168 -0.635469   \n",
      "31366759  -0.150517  0.123019 -0.095075  0.813374 -0.279168 -0.635469   \n",
      "32576359   0.517105  0.123019  0.599720  0.813374 -0.279168 -0.635469   \n",
      "\n",
      "                 x     Ti_Te  \n",
      "29753959 -0.161579  0.291295  \n",
      "30560359 -0.161579  0.291295  \n",
      "30963559 -0.161579  0.291295  \n",
      "31366759 -0.161579  0.291295  \n",
      "32576359 -0.161579  0.291295  \n",
      "<class 'pandas.core.frame.DataFrame'>\n",
      "          efiTEM_GB   Ati   Ate   An    q  smag     x  Ti_Te\n",
      "29753959   0.000000  5.75  2.00  3.0  3.0   0.7  0.45   1.33\n",
      "30560359   0.000000  5.75  3.50  3.0  3.0   0.7  0.45   1.33\n",
      "30963559   0.000000  5.75  4.25  3.0  3.0   0.7  0.45   1.33\n",
      "31366759   0.000000  5.75  5.00  3.0  3.0   0.7  0.45   1.33\n",
      "32576359   3.138099  5.75  7.25  3.0  3.0   0.7  0.45   1.33\n",
      "<class 'pandas.core.frame.DataFrame'>\n"
     ]
    }
   ],
   "source": [
    "'''\n",
    "{'An': 3,\n",
    "'Ati': 5.75,\n",
    "'Ti_Te': 1.33,\n",
    "'q': 3,\n",
    "'smag': 0.7,\n",
    "'x': 0.45}\n",
    "'''\n",
    "newDF = joined_dataFrame[An_mask10 & Ati_mask7 & q_mask5 & smag_mask4 & x_mask4 & Ti_Te_mask5]  # Variable \n",
    "newDF_Mk2 = joined_dataFrame_original[An_mask10 & Ati_mask7 & q_mask5 & smag_mask4 & x_mask4 & Ti_Te_mask5]  # Variable \n",
    "print(newDF)\n",
    "print(type(newDF))\n",
    "\n",
    "print(newDF_Mk2)\n",
    "print(type(newDF_Mk2))"
   ]
  },
  {
   "cell_type": "code",
   "execution_count": 66,
   "metadata": {},
   "outputs": [
    {
     "name": "stdout",
     "output_type": "stream",
     "text": [
      "[-0.15051689 -0.15051689 -0.15051689 -0.15051689  0.51710517]\n",
      "[-1.02146933 -0.55827233 -0.32667383 -0.09507533  0.59972017]\n"
     ]
    }
   ],
   "source": [
    "efeETG_DF = newDF['efiTEM_GB']\n",
    "efeETG_DF_np_array = efeETG_DF.values\n",
    "print(efeETG_DF_np_array)\n",
    "\n",
    "Ate_DF = newDF['Ate']\n",
    "Ate_DF_np_array = Ate_DF.values\n",
    "print(Ate_DF_np_array)"
   ]
  },
  {
   "cell_type": "code",
   "execution_count": 67,
   "metadata": {},
   "outputs": [
    {
     "name": "stdout",
     "output_type": "stream",
     "text": [
      "[0.       0.       0.       0.       3.138099]\n",
      "[2.   3.5  4.25 5.   7.25]\n"
     ]
    }
   ],
   "source": [
    "efeETG_DF_Mk2 = newDF_Mk2['efiTEM_GB']\n",
    "efeETG_DF_Mk2_np_array = efeETG_DF_Mk2.values\n",
    "print(efeETG_DF_Mk2_np_array)\n",
    "\n",
    "Ate_DF_Mk2 = newDF_Mk2['Ate']\n",
    "Ate_DF_Mk2_np_array = Ate_DF_Mk2.values\n",
    "print(Ate_DF_Mk2_np_array)"
   ]
  },
  {
   "cell_type": "code",
   "execution_count": 68,
   "metadata": {},
   "outputs": [
    {
     "data": {
      "image/png": "[encoded data removed]",
      "text/plain": [
       "<Figure size 432x288 with 1 Axes>"
      ]
     },
     "metadata": {
      "needs_background": "light"
     },
     "output_type": "display_data"
    }
   ],
   "source": [
    "efeETG_DF = newDF['efiTEM_GB']\n",
    "Ate_DF = newDF['Ate']\n",
    "plt.plot(table_normalized[:,1], predictions, 'r.', ms = 5, label = 'QuaLiKiz-NN')\n",
    "plt.plot(Ate_DF_np_array, efeETG_DF_np_array, 'b.', ms = 5, label = 'QuaLiKiz')\n",
    "plt.title('Data Slice NN vs. QuaLiKiz (Non-Normalized)')\n",
    "plt.xlabel('Ate')\n",
    "plt.ylabel('efiTEM_GB')\n",
    "plt.legend()\n",
    "plt.show()"
   ]
  },
  {
   "cell_type": "code",
   "execution_count": 69,
   "metadata": {},
   "outputs": [
    {
     "name": "stdout",
     "output_type": "stream",
     "text": [
      "(200,)\n"
     ]
    }
   ],
   "source": [
    "predictions_deNormalized = (predictions * joined_dataFrame_original['efiTEM_GB'].std()) + joined_dataFrame_original['efiTEM_GB'].mean()\n",
    "print(predictions_deNormalized.shape)"
   ]
  },
  {
   "cell_type": "code",
   "execution_count": 70,
   "metadata": {},
   "outputs": [
    {
     "data": {
      "image/png": "[encoded data removed]",
      "text/plain": [
       "<Figure size 432x288 with 1 Axes>"
      ]
     },
     "metadata": {
      "needs_background": "light"
     },
     "output_type": "display_data"
    }
   ],
   "source": [
    "plt.plot(table[:,1], predictions_deNormalized, 'r-', ms = 5, label = 'QuaLiKiz-NN')\n",
    "plt.plot(Ate_DF_Mk2_np_array, efeETG_DF_Mk2_np_array, 'b.', ms = 5, label = 'QuaLiKiz')\n",
    "plt.title('Data Slice NN vs. QuaLiKiz (De-Normalized)')\n",
    "plt.ylim(-15, 110)\n",
    "plt.xlabel('Ate')\n",
    "plt.ylabel('efiTEM_GB')\n",
    "plt.legend()\n",
    "# plt.savefig('./2018-07-19_Plotting-Clean-Run0054/NN_Predictions.png', dpi = 100)\n",
    "plt.show()"
   ]
  },
  {
   "cell_type": "code",
   "execution_count": 71,
   "metadata": {},
   "outputs": [
    {
     "data": {
      "image/png": "[encoded data removed]",
      "text/plain": [
       "<Figure size 432x288 with 1 Axes>"
      ]
     },
     "metadata": {
      "needs_background": "light"
     },
     "output_type": "display_data"
    }
   ],
   "source": [
    "plt.plot(table[:,1], predictions_deNormalized, 'r-', ms = 5, label = 'QuaLiKiz-NN')\n",
    "plt.plot(Ate_DF_Mk2_np_array, efeETG_DF_Mk2_np_array, 'b.', ms = 5, label = 'QuaLiKiz')\n",
    "plt.title('Data Slice NN vs. QuaLiKiz (De-Normalized)')\n",
    "#plt.ylim(-15, 110)\n",
    "plt.xlabel('Ate')\n",
    "plt.ylabel('efiTEM_GB')\n",
    "plt.legend()\n",
    "# plt.savefig('./2018-07-19_Plotting-Clean-Run0054/NN_Predictions.png', dpi = 100)\n",
    "plt.show()"
   ]
  },
  {
   "cell_type": "markdown",
   "metadata": {},
   "source": [
    "## Slice 2"
   ]
  },
  {
   "cell_type": "code",
   "execution_count": 72,
   "metadata": {},
   "outputs": [],
   "source": [
    "# TODO"
   ]
  },
  {
   "cell_type": "code",
   "execution_count": null,
   "metadata": {},
   "outputs": [],
   "source": []
  }
 ],
 "metadata": {
  "kernelspec": {
   "display_name": "Python 3",
   "language": "python",
   "name": "python3"
  },
  "language_info": {
   "codemirror_mode": {
    "name": "ipython",
    "version": 3
   },
   "file_extension": ".py",
   "mimetype": "text/x-python",
   "name": "python",
   "nbconvert_exporter": "python",
   "pygments_lexer": "ipython3",
   "version": "3.6.7"
  }
 },
 "nbformat": 4,
 "nbformat_minor": 2
}
