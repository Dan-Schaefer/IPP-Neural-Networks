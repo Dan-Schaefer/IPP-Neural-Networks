{
 "cells": [
  {
   "cell_type": "markdown",
   "metadata": {},
   "source": [
    "# Plotting dataslices for Run0164"
   ]
  },
  {
   "cell_type": "markdown",
   "metadata": {},
   "source": [
    "###### Plotting_Run0164\n",
    "-  Graphics for MIT talk"
   ]
  },
  {
   "cell_type": "code",
   "execution_count": null,
   "metadata": {},
   "outputs": [],
   "source": [
    "# DO NOT RUN THIS PART"
   ]
  },
  {
   "cell_type": "code",
   "execution_count": null,
   "metadata": {},
   "outputs": [],
   "source": [
    "import os\n",
    "import sys\n",
    "import time\n",
    "\n",
    "# Gets the current file name. Useful for procedurally generating output/log files.\n",
    "file_name =  os.path.basename(sys.argv[0][:-3])\n",
    "print(file_name)\n",
    "\n",
    "if file_name == \"ipykernel_launcher\":\n",
    "    print(\"This is the Jupyter version.\")\n",
    "    print(\"Now MANUALLY run the next two cells!\")\n",
    "    print(\"STOP! This should not be in your code!!\")\n",
    "    exit(0)\n",
    "    time.sleep(10)\n",
    "    print(\"Testing if script has really stopped.\")\n",
    "else:\n",
    "    print(\"This is the Atom version\")"
   ]
  },
  {
   "cell_type": "code",
   "execution_count": 1,
   "metadata": {},
   "outputs": [],
   "source": [
    "# RUN ONLY IN JUPYTER!!\n",
    "# Start here (manual)"
   ]
  },
  {
   "cell_type": "code",
   "execution_count": 2,
   "metadata": {},
   "outputs": [
    {
     "data": {
      "application/javascript": [
       "IPython.notebook.kernel.execute('file_name = \"' + IPython.notebook.notebook_name + '\"');\n"
      ],
      "text/plain": [
       "<IPython.core.display.Javascript object>"
      ]
     },
     "metadata": {},
     "output_type": "display_data"
    }
   ],
   "source": [
    "%%javascript\n",
    "IPython.notebook.kernel.execute('file_name = \"' + IPython.notebook.notebook_name + '\"');"
   ]
  },
  {
   "cell_type": "code",
   "execution_count": 3,
   "metadata": {},
   "outputs": [
    {
     "name": "stdout",
     "output_type": "stream",
     "text": [
      "2019-02-10_Plotting_Run0164.ipynb\n"
     ]
    }
   ],
   "source": [
    "print(file_name)"
   ]
  },
  {
   "cell_type": "code",
   "execution_count": 4,
   "metadata": {},
   "outputs": [
    {
     "name": "stdout",
     "output_type": "stream",
     "text": [
      "2019-02-10_Plotting_Run0164\n",
      "True\n"
     ]
    }
   ],
   "source": [
    "file_name = file_name[:-6]\n",
    "print(file_name)\n",
    "\n",
    "is_Jupyter = True\n",
    "print(is_Jupyter)"
   ]
  },
  {
   "cell_type": "code",
   "execution_count": null,
   "metadata": {},
   "outputs": [],
   "source": []
  },
  {
   "cell_type": "code",
   "execution_count": 5,
   "metadata": {},
   "outputs": [],
   "source": [
    "# Same code for both ATOM & JUPYTER from now (Run all cells below now)"
   ]
  },
  {
   "cell_type": "code",
   "execution_count": 6,
   "metadata": {},
   "outputs": [
    {
     "name": "stderr",
     "output_type": "stream",
     "text": [
      "Using TensorFlow backend.\n"
     ]
    }
   ],
   "source": [
    "'''\n",
    "Late Fusion Module (test) - Functional API\n",
    "'''\n",
    "\n",
    "# Multiple Inputs\n",
    "import keras\n",
    "from keras.optimizers import RMSprop, adam, Adam\n",
    "from keras.initializers import TruncatedNormal, glorot_normal, Constant\n",
    "from keras.utils import plot_model\n",
    "from keras.models import Model\n",
    "from keras.layers.core import Lambda\n",
    "from keras.layers import Input\n",
    "from keras.layers import Dense\n",
    "from keras.layers import MaxoutDense\n",
    "from keras.layers.merge import concatenate\n",
    "from keras import regularizers\n",
    "from keras import backend as K\n",
    "#from keras.backend import switch\n",
    "import pandas\n",
    "import numpy\n",
    "import sys\n",
    "import os\n",
    "from copy import deepcopy\n",
    "import tensorflow as tf\n",
    "from keras.utils.generic_utils import get_custom_objects\n",
    "from keras.layers.advanced_activations import ThresholdedReLU\n",
    "\n",
    "#keras.backend.clear_session()\n",
    "K.clear_session()"
   ]
  },
  {
   "cell_type": "code",
   "execution_count": 7,
   "metadata": {},
   "outputs": [],
   "source": [
    "# Define new Metric: rmse = Root Mean Square Error\n",
    "def rmse(y_true, y_pred):\n",
    "    return K.sqrt(K.mean(K.square( y_true-y_pred )))"
   ]
  },
  {
   "cell_type": "code",
   "execution_count": null,
   "metadata": {},
   "outputs": [],
   "source": []
  },
  {
   "cell_type": "code",
   "execution_count": 8,
   "metadata": {},
   "outputs": [],
   "source": [
    "# Modify for ATOM use"
   ]
  },
  {
   "cell_type": "code",
   "execution_count": 9,
   "metadata": {},
   "outputs": [],
   "source": [
    "if is_Jupyter == True:\n",
    "    pass\n",
    "else:\n",
    "    # Gets the current file name. Useful for procedurally generating output/log files.\n",
    "    file_name =  os.path.basename(sys.argv[0][:-3])"
   ]
  },
  {
   "cell_type": "code",
   "execution_count": null,
   "metadata": {},
   "outputs": [],
   "source": []
  },
  {
   "cell_type": "code",
   "execution_count": 10,
   "metadata": {},
   "outputs": [],
   "source": [
    "# Define neural network parameters\n",
    "batch_size = 10\n",
    "epochs = 100\n",
    "L2_regularization = 5E-7"
   ]
  },
  {
   "cell_type": "code",
   "execution_count": 13,
   "metadata": {},
   "outputs": [],
   "source": [
    "# Load Data (which is in HDF5 or .h5 format)\n",
    "store = pandas.HDFStore(\"../training_gen3_7D_nions0_flat_filter8.h5\")\n",
    "target_df = store['/output/efeETG_GB'].to_frame()  # This one is relatively easy to train\n",
    "input_df = store['input']\n",
    "\n",
    "# Puts inputs and outputs in the same pandas dataframe.\n",
    "# Also only keeps overlapping entries.\n",
    "joined_dataFrame = target_df.join(input_df)\n",
    "\n",
    "# Make a copy of joined_dataFrame for later use\n",
    "joined_dataFrame_original = deepcopy(joined_dataFrame)\n",
    "\n",
    "\n",
    "# *************************************************************************** #\n",
    "# Normalize data by standard deviation and mean-centering the data\n",
    "# Standard configuration\n",
    "joined_dataFrame['efeETG_GB'] = (joined_dataFrame['efeETG_GB'] - joined_dataFrame['efeETG_GB'].mean()) / joined_dataFrame['efeETG_GB'].std()\n",
    "joined_dataFrame['Ati'] = (joined_dataFrame['Ati'] - joined_dataFrame['Ati'].mean()) / joined_dataFrame['Ati'].std()\n",
    "joined_dataFrame['Ate'] = (joined_dataFrame['Ate'] - joined_dataFrame['Ate'].mean()) / joined_dataFrame['Ate'].std()\n",
    "joined_dataFrame['An'] = (joined_dataFrame['An'] - joined_dataFrame['An'].mean()) / joined_dataFrame['An'].std()\n",
    "joined_dataFrame['q'] = (joined_dataFrame['q'] - joined_dataFrame['q'].mean()) / joined_dataFrame['q'].std()\n",
    "joined_dataFrame['smag'] = (joined_dataFrame['smag'] - joined_dataFrame['smag'].mean()) / joined_dataFrame['smag'].std()\n",
    "joined_dataFrame['x'] = (joined_dataFrame['x'] - joined_dataFrame['x'].mean()) / joined_dataFrame['x'].std()\n",
    "joined_dataFrame['Ti_Te'] = (joined_dataFrame['Ti_Te'] - joined_dataFrame['Ti_Te'].mean()) / joined_dataFrame['Ti_Te'].std()\n",
    "\n",
    "# Shuffles dataset\n",
    "shuffled_joined_dataFrame = joined_dataFrame.reindex(numpy.random.permutation(\n",
    "                                                joined_dataFrame.index))\n",
    "\n",
    "# Creates a pandas dataframe for the outputs\n",
    "shuffled_clean_output_df = shuffled_joined_dataFrame['efeETG_GB']\n",
    "\n",
    "# Make a copy of shuffled_joined_dataFrame for later use\n",
    "shuffled_joined_dataFrame_base = deepcopy(shuffled_joined_dataFrame)\n",
    "\n",
    "\n",
    "\n",
    "# *************************************************************************** #\n",
    "# Creates a pandas dataframe for the inputs (7D)\n",
    "shuffled_clean_input_df_7D = shuffled_joined_dataFrame.drop('efeETG_GB', axis=1)\n",
    "\n",
    "# Creates training dataset (90% of total data) for outputs\n",
    "y_train = shuffled_clean_output_df.iloc[:int(\n",
    "    numpy.round(len(shuffled_clean_output_df)*0.9))]\n",
    "\n",
    "# Creates training dataset (90% of total data) for inputs\n",
    "x_train = shuffled_clean_input_df_7D.iloc[:int(\n",
    "    numpy.round(len(shuffled_clean_input_df_7D)*0.9))]\n",
    "\n",
    "# Creates testing dataset (10% of total data) for outputs\n",
    "y_test = shuffled_clean_output_df.iloc[int(\n",
    "    numpy.round(len(shuffled_clean_output_df)*0.9)):]\n",
    "\n",
    "# Creates testing dataset (10% of total data) for inputs\n",
    "x_test = shuffled_clean_input_df_7D.iloc[int(\n",
    "    numpy.round(len(shuffled_clean_input_df_7D)*0.9)):]\n",
    "# *************************************************************************** #\n",
    "\n",
    "\n",
    "# Deletes pandas dataframes that are no longer needed\n",
    "del target_df, input_df\n",
    "\n",
    "# Closes the HDFStore. This is good practice.\n",
    "store.close()"
   ]
  },
  {
   "cell_type": "code",
   "execution_count": 14,
   "metadata": {},
   "outputs": [
    {
     "data": {
      "text/html": [
       "<div>\n",
       "<style scoped>\n",
       "    .dataframe tbody tr th:only-of-type {\n",
       "        vertical-align: middle;\n",
       "    }\n",
       "\n",
       "    .dataframe tbody tr th {\n",
       "        vertical-align: top;\n",
       "    }\n",
       "\n",
       "    .dataframe thead th {\n",
       "        text-align: right;\n",
       "    }\n",
       "</style>\n",
       "<table border=\"1\" class=\"dataframe\">\n",
       "  <thead>\n",
       "    <tr style=\"text-align: right;\">\n",
       "      <th></th>\n",
       "      <th>Ati</th>\n",
       "      <th>Ate</th>\n",
       "      <th>An</th>\n",
       "      <th>q</th>\n",
       "      <th>smag</th>\n",
       "      <th>x</th>\n",
       "      <th>Ti_Te</th>\n",
       "    </tr>\n",
       "  </thead>\n",
       "  <tbody>\n",
       "    <tr>\n",
       "      <th>count</th>\n",
       "      <td>6.479137e+06</td>\n",
       "      <td>6.479137e+06</td>\n",
       "      <td>6.479137e+06</td>\n",
       "      <td>6.479137e+06</td>\n",
       "      <td>6.479137e+06</td>\n",
       "      <td>6.479137e+06</td>\n",
       "      <td>6.479137e+06</td>\n",
       "    </tr>\n",
       "    <tr>\n",
       "      <th>mean</th>\n",
       "      <td>3.422461e-16</td>\n",
       "      <td>3.955436e-16</td>\n",
       "      <td>5.389098e-15</td>\n",
       "      <td>-7.195833e-15</td>\n",
       "      <td>-2.550294e-15</td>\n",
       "      <td>2.132541e-15</td>\n",
       "      <td>-6.845020e-15</td>\n",
       "    </tr>\n",
       "    <tr>\n",
       "      <th>std</th>\n",
       "      <td>1.000000e+00</td>\n",
       "      <td>1.000000e+00</td>\n",
       "      <td>1.000000e+00</td>\n",
       "      <td>1.000000e+00</td>\n",
       "      <td>1.000000e+00</td>\n",
       "      <td>1.000000e+00</td>\n",
       "      <td>1.000000e+00</td>\n",
       "    </tr>\n",
       "    <tr>\n",
       "      <th>min</th>\n",
       "      <td>-1.632300e+00</td>\n",
       "      <td>-1.639065e+00</td>\n",
       "      <td>-1.901001e+00</td>\n",
       "      <td>-8.370116e-01</td>\n",
       "      <td>-1.574307e+00</td>\n",
       "      <td>-1.405340e+00</td>\n",
       "      <td>-1.235044e+00</td>\n",
       "    </tr>\n",
       "    <tr>\n",
       "      <th>25%</th>\n",
       "      <td>-7.928000e-01</td>\n",
       "      <td>-7.898708e-01</td>\n",
       "      <td>-5.438138e-01</td>\n",
       "      <td>-6.367600e-01</td>\n",
       "      <td>-8.011463e-01</td>\n",
       "      <td>-9.907529e-01</td>\n",
       "      <td>-8.817246e-01</td>\n",
       "    </tr>\n",
       "    <tr>\n",
       "      <th>50%</th>\n",
       "      <td>-1.059360e-01</td>\n",
       "      <td>-9.507533e-02</td>\n",
       "      <td>1.347799e-01</td>\n",
       "      <td>-3.983652e-01</td>\n",
       "      <td>-1.936629e-01</td>\n",
       "      <td>-1.615792e-01</td>\n",
       "      <td>-1.750863e-01</td>\n",
       "    </tr>\n",
       "    <tr>\n",
       "      <th>75%</th>\n",
       "      <td>5.809279e-01</td>\n",
       "      <td>5.997202e-01</td>\n",
       "      <td>6.437252e-01</td>\n",
       "      <td>1.976217e-01</td>\n",
       "      <td>9.108525e-01</td>\n",
       "      <td>6.675945e-01</td>\n",
       "      <td>7.576761e-01</td>\n",
       "    </tr>\n",
       "    <tr>\n",
       "      <th>max</th>\n",
       "      <td>2.641520e+00</td>\n",
       "      <td>2.684107e+00</td>\n",
       "      <td>1.831264e+00</td>\n",
       "      <td>2.581570e+00</td>\n",
       "      <td>1.739239e+00</td>\n",
       "      <td>1.704062e+00</td>\n",
       "      <td>1.944828e+00</td>\n",
       "    </tr>\n",
       "  </tbody>\n",
       "</table>\n",
       "</div>"
      ],
      "text/plain": [
       "                Ati           Ate            An             q          smag  \\\n",
       "count  6.479137e+06  6.479137e+06  6.479137e+06  6.479137e+06  6.479137e+06   \n",
       "mean   3.422461e-16  3.955436e-16  5.389098e-15 -7.195833e-15 -2.550294e-15   \n",
       "std    1.000000e+00  1.000000e+00  1.000000e+00  1.000000e+00  1.000000e+00   \n",
       "min   -1.632300e+00 -1.639065e+00 -1.901001e+00 -8.370116e-01 -1.574307e+00   \n",
       "25%   -7.928000e-01 -7.898708e-01 -5.438138e-01 -6.367600e-01 -8.011463e-01   \n",
       "50%   -1.059360e-01 -9.507533e-02  1.347799e-01 -3.983652e-01 -1.936629e-01   \n",
       "75%    5.809279e-01  5.997202e-01  6.437252e-01  1.976217e-01  9.108525e-01   \n",
       "max    2.641520e+00  2.684107e+00  1.831264e+00  2.581570e+00  1.739239e+00   \n",
       "\n",
       "                  x         Ti_Te  \n",
       "count  6.479137e+06  6.479137e+06  \n",
       "mean   2.132541e-15 -6.845020e-15  \n",
       "std    1.000000e+00  1.000000e+00  \n",
       "min   -1.405340e+00 -1.235044e+00  \n",
       "25%   -9.907529e-01 -8.817246e-01  \n",
       "50%   -1.615792e-01 -1.750863e-01  \n",
       "75%    6.675945e-01  7.576761e-01  \n",
       "max    1.704062e+00  1.944828e+00  "
      ]
     },
     "execution_count": 14,
     "metadata": {},
     "output_type": "execute_result"
    }
   ],
   "source": [
    "shuffled_clean_input_df_7D.describe(include='all')"
   ]
  },
  {
   "cell_type": "code",
   "execution_count": 15,
   "metadata": {},
   "outputs": [],
   "source": [
    "# Creates a pandas dataframe for the inputs\n",
    "shuffled_clean_input_df_1 = shuffled_clean_input_df_7D.drop('Ate', axis=1)"
   ]
  },
  {
   "cell_type": "code",
   "execution_count": 16,
   "metadata": {},
   "outputs": [
    {
     "data": {
      "text/html": [
       "<div>\n",
       "<style scoped>\n",
       "    .dataframe tbody tr th:only-of-type {\n",
       "        vertical-align: middle;\n",
       "    }\n",
       "\n",
       "    .dataframe tbody tr th {\n",
       "        vertical-align: top;\n",
       "    }\n",
       "\n",
       "    .dataframe thead th {\n",
       "        text-align: right;\n",
       "    }\n",
       "</style>\n",
       "<table border=\"1\" class=\"dataframe\">\n",
       "  <thead>\n",
       "    <tr style=\"text-align: right;\">\n",
       "      <th></th>\n",
       "      <th>Ati</th>\n",
       "      <th>An</th>\n",
       "      <th>q</th>\n",
       "      <th>smag</th>\n",
       "      <th>x</th>\n",
       "      <th>Ti_Te</th>\n",
       "    </tr>\n",
       "  </thead>\n",
       "  <tbody>\n",
       "    <tr>\n",
       "      <th>count</th>\n",
       "      <td>6.479137e+06</td>\n",
       "      <td>6.479137e+06</td>\n",
       "      <td>6.479137e+06</td>\n",
       "      <td>6.479137e+06</td>\n",
       "      <td>6.479137e+06</td>\n",
       "      <td>6.479137e+06</td>\n",
       "    </tr>\n",
       "    <tr>\n",
       "      <th>mean</th>\n",
       "      <td>3.422461e-16</td>\n",
       "      <td>5.389098e-15</td>\n",
       "      <td>-7.195833e-15</td>\n",
       "      <td>-2.550294e-15</td>\n",
       "      <td>2.132541e-15</td>\n",
       "      <td>-6.845020e-15</td>\n",
       "    </tr>\n",
       "    <tr>\n",
       "      <th>std</th>\n",
       "      <td>1.000000e+00</td>\n",
       "      <td>1.000000e+00</td>\n",
       "      <td>1.000000e+00</td>\n",
       "      <td>1.000000e+00</td>\n",
       "      <td>1.000000e+00</td>\n",
       "      <td>1.000000e+00</td>\n",
       "    </tr>\n",
       "    <tr>\n",
       "      <th>min</th>\n",
       "      <td>-1.632300e+00</td>\n",
       "      <td>-1.901001e+00</td>\n",
       "      <td>-8.370116e-01</td>\n",
       "      <td>-1.574307e+00</td>\n",
       "      <td>-1.405340e+00</td>\n",
       "      <td>-1.235044e+00</td>\n",
       "    </tr>\n",
       "    <tr>\n",
       "      <th>25%</th>\n",
       "      <td>-7.928000e-01</td>\n",
       "      <td>-5.438138e-01</td>\n",
       "      <td>-6.367600e-01</td>\n",
       "      <td>-8.011463e-01</td>\n",
       "      <td>-9.907529e-01</td>\n",
       "      <td>-8.817246e-01</td>\n",
       "    </tr>\n",
       "    <tr>\n",
       "      <th>50%</th>\n",
       "      <td>-1.059360e-01</td>\n",
       "      <td>1.347799e-01</td>\n",
       "      <td>-3.983652e-01</td>\n",
       "      <td>-1.936629e-01</td>\n",
       "      <td>-1.615792e-01</td>\n",
       "      <td>-1.750863e-01</td>\n",
       "    </tr>\n",
       "    <tr>\n",
       "      <th>75%</th>\n",
       "      <td>5.809279e-01</td>\n",
       "      <td>6.437252e-01</td>\n",
       "      <td>1.976217e-01</td>\n",
       "      <td>9.108525e-01</td>\n",
       "      <td>6.675945e-01</td>\n",
       "      <td>7.576761e-01</td>\n",
       "    </tr>\n",
       "    <tr>\n",
       "      <th>max</th>\n",
       "      <td>2.641520e+00</td>\n",
       "      <td>1.831264e+00</td>\n",
       "      <td>2.581570e+00</td>\n",
       "      <td>1.739239e+00</td>\n",
       "      <td>1.704062e+00</td>\n",
       "      <td>1.944828e+00</td>\n",
       "    </tr>\n",
       "  </tbody>\n",
       "</table>\n",
       "</div>"
      ],
      "text/plain": [
       "                Ati            An             q          smag             x  \\\n",
       "count  6.479137e+06  6.479137e+06  6.479137e+06  6.479137e+06  6.479137e+06   \n",
       "mean   3.422461e-16  5.389098e-15 -7.195833e-15 -2.550294e-15  2.132541e-15   \n",
       "std    1.000000e+00  1.000000e+00  1.000000e+00  1.000000e+00  1.000000e+00   \n",
       "min   -1.632300e+00 -1.901001e+00 -8.370116e-01 -1.574307e+00 -1.405340e+00   \n",
       "25%   -7.928000e-01 -5.438138e-01 -6.367600e-01 -8.011463e-01 -9.907529e-01   \n",
       "50%   -1.059360e-01  1.347799e-01 -3.983652e-01 -1.936629e-01 -1.615792e-01   \n",
       "75%    5.809279e-01  6.437252e-01  1.976217e-01  9.108525e-01  6.675945e-01   \n",
       "max    2.641520e+00  1.831264e+00  2.581570e+00  1.739239e+00  1.704062e+00   \n",
       "\n",
       "              Ti_Te  \n",
       "count  6.479137e+06  \n",
       "mean  -6.845020e-15  \n",
       "std    1.000000e+00  \n",
       "min   -1.235044e+00  \n",
       "25%   -8.817246e-01  \n",
       "50%   -1.750863e-01  \n",
       "75%    7.576761e-01  \n",
       "max    1.944828e+00  "
      ]
     },
     "execution_count": 16,
     "metadata": {},
     "output_type": "execute_result"
    }
   ],
   "source": [
    "shuffled_clean_input_df_1.describe(include='all')"
   ]
  },
  {
   "cell_type": "code",
   "execution_count": 17,
   "metadata": {},
   "outputs": [
    {
     "name": "stdout",
     "output_type": "stream",
     "text": [
      "(6479137, 6)\n"
     ]
    }
   ],
   "source": [
    "print(shuffled_clean_input_df_1.shape)"
   ]
  },
  {
   "cell_type": "code",
   "execution_count": 18,
   "metadata": {},
   "outputs": [],
   "source": [
    "shuffled_clean_input_df_2 = shuffled_clean_input_df_7D.drop('Ati', axis=1)\n",
    "shuffled_clean_input_df_2 = shuffled_clean_input_df_2.drop('An', axis=1)\n",
    "shuffled_clean_input_df_2 = shuffled_clean_input_df_2.drop('q', axis=1)\n",
    "shuffled_clean_input_df_2 = shuffled_clean_input_df_2.drop('smag', axis=1)\n",
    "shuffled_clean_input_df_2 = shuffled_clean_input_df_2.drop('x', axis=1)\n",
    "shuffled_clean_input_df_2 = shuffled_clean_input_df_2.drop('Ti_Te', axis=1)"
   ]
  },
  {
   "cell_type": "code",
   "execution_count": 19,
   "metadata": {},
   "outputs": [
    {
     "data": {
      "text/html": [
       "<div>\n",
       "<style scoped>\n",
       "    .dataframe tbody tr th:only-of-type {\n",
       "        vertical-align: middle;\n",
       "    }\n",
       "\n",
       "    .dataframe tbody tr th {\n",
       "        vertical-align: top;\n",
       "    }\n",
       "\n",
       "    .dataframe thead th {\n",
       "        text-align: right;\n",
       "    }\n",
       "</style>\n",
       "<table border=\"1\" class=\"dataframe\">\n",
       "  <thead>\n",
       "    <tr style=\"text-align: right;\">\n",
       "      <th></th>\n",
       "      <th>Ate</th>\n",
       "    </tr>\n",
       "  </thead>\n",
       "  <tbody>\n",
       "    <tr>\n",
       "      <th>count</th>\n",
       "      <td>6.479137e+06</td>\n",
       "    </tr>\n",
       "    <tr>\n",
       "      <th>mean</th>\n",
       "      <td>3.955436e-16</td>\n",
       "    </tr>\n",
       "    <tr>\n",
       "      <th>std</th>\n",
       "      <td>1.000000e+00</td>\n",
       "    </tr>\n",
       "    <tr>\n",
       "      <th>min</th>\n",
       "      <td>-1.639065e+00</td>\n",
       "    </tr>\n",
       "    <tr>\n",
       "      <th>25%</th>\n",
       "      <td>-7.898708e-01</td>\n",
       "    </tr>\n",
       "    <tr>\n",
       "      <th>50%</th>\n",
       "      <td>-9.507533e-02</td>\n",
       "    </tr>\n",
       "    <tr>\n",
       "      <th>75%</th>\n",
       "      <td>5.997202e-01</td>\n",
       "    </tr>\n",
       "    <tr>\n",
       "      <th>max</th>\n",
       "      <td>2.684107e+00</td>\n",
       "    </tr>\n",
       "  </tbody>\n",
       "</table>\n",
       "</div>"
      ],
      "text/plain": [
       "                Ate\n",
       "count  6.479137e+06\n",
       "mean   3.955436e-16\n",
       "std    1.000000e+00\n",
       "min   -1.639065e+00\n",
       "25%   -7.898708e-01\n",
       "50%   -9.507533e-02\n",
       "75%    5.997202e-01\n",
       "max    2.684107e+00"
      ]
     },
     "execution_count": 19,
     "metadata": {},
     "output_type": "execute_result"
    }
   ],
   "source": [
    "shuffled_clean_input_df_2.describe(include='all')"
   ]
  },
  {
   "cell_type": "code",
   "execution_count": 20,
   "metadata": {},
   "outputs": [
    {
     "name": "stdout",
     "output_type": "stream",
     "text": [
      "(6479137, 1)\n"
     ]
    }
   ],
   "source": [
    "print(shuffled_clean_input_df_2.shape)"
   ]
  },
  {
   "cell_type": "code",
   "execution_count": 21,
   "metadata": {},
   "outputs": [],
   "source": [
    "# *************************************************************************** #\n",
    "# Branch 1\n",
    "\n",
    "# Creates training dataset (90% of total data) for inputs\n",
    "x_train_1 = shuffled_clean_input_df_1.iloc[:int(\n",
    "    numpy.round(len(shuffled_clean_input_df_1)*0.9))]\n",
    "\n",
    "# Creates testing dataset (10% of total data) for inputs\n",
    "x_test_1 = shuffled_clean_input_df_1.iloc[int(\n",
    "    numpy.round(len(shuffled_clean_input_df_1)*0.9)):]\n",
    "# *************************************************************************** #"
   ]
  },
  {
   "cell_type": "code",
   "execution_count": 22,
   "metadata": {},
   "outputs": [],
   "source": [
    "# *************************************************************************** #\n",
    "# Branch 2\n",
    "\n",
    "# Creates training dataset (90% of total data) for inputs\n",
    "x_train_2 = shuffled_clean_input_df_2.iloc[:int(\n",
    "    numpy.round(len(shuffled_clean_input_df_2)*0.9))]\n",
    "\n",
    "# Creates testing dataset (10% of total data) for inputs\n",
    "x_test_2 = shuffled_clean_input_df_2.iloc[int(\n",
    "    numpy.round(len(shuffled_clean_input_df_2)*0.9)):]\n",
    "# *************************************************************************** #"
   ]
  },
  {
   "cell_type": "markdown",
   "metadata": {},
   "source": [
    "# Load Model"
   ]
  },
  {
   "cell_type": "code",
   "execution_count": 23,
   "metadata": {},
   "outputs": [],
   "source": [
    "from keras.models import load_model"
   ]
  },
  {
   "cell_type": "code",
   "execution_count": 24,
   "metadata": {},
   "outputs": [],
   "source": [
    "new_model = load_model('../Saved-Networks/2018-12-18_Run0164.h5', custom_objects={'rmse': rmse})"
   ]
  },
  {
   "cell_type": "markdown",
   "metadata": {},
   "source": [
    "#### Model information"
   ]
  },
  {
   "cell_type": "code",
   "execution_count": 25,
   "metadata": {},
   "outputs": [
    {
     "name": "stdout",
     "output_type": "stream",
     "text": [
      "__________________________________________________________________________________________________\n",
      "Layer (type)                    Output Shape         Param #     Connected to                     \n",
      "==================================================================================================\n",
      "6D_INPUTS (InputLayer)          (None, 6)            0                                            \n",
      "__________________________________________________________________________________________________\n",
      "hidden1_branch1 (Dense)         (None, 30)           210         6D_INPUTS[0][0]                  \n",
      "__________________________________________________________________________________________________\n",
      "hidden2_branch1 (Dense)         (None, 30)           930         hidden1_branch1[0][0]            \n",
      "__________________________________________________________________________________________________\n",
      "theta_branch1 (Dense)           (None, 1)            31          hidden2_branch1[0][0]            \n",
      "__________________________________________________________________________________________________\n",
      "hidden1_branch3 (Dense)         (None, 30)           210         6D_INPUTS[0][0]                  \n",
      "__________________________________________________________________________________________________\n",
      "theta_branch1_feeder (Dense)    (None, 1)            2           theta_branch1[0][0]              \n",
      "__________________________________________________________________________________________________\n",
      "Ate_INPUT (InputLayer)          (None, 1)            0                                            \n",
      "__________________________________________________________________________________________________\n",
      "hidden2_branch3 (Dense)         (None, 30)           930         hidden1_branch3[0][0]            \n",
      "__________________________________________________________________________________________________\n",
      "hidden1_branch4 (Dense)         (None, 30)           210         6D_INPUTS[0][0]                  \n",
      "__________________________________________________________________________________________________\n",
      "Addition_Operator (Add)         (None, 1)            0           theta_branch1_feeder[0][0]       \n",
      "                                                                 Ate_INPUT[0][0]                  \n",
      "__________________________________________________________________________________________________\n",
      "c_3_branch3 (Dense)             (None, 1)            31          hidden2_branch3[0][0]            \n",
      "__________________________________________________________________________________________________\n",
      "hidden2_branch4 (Dense)         (None, 30)           930         hidden1_branch4[0][0]            \n",
      "__________________________________________________________________________________________________\n",
      "TR (Dense)                      (None, 1)            2           Addition_Operator[0][0]          \n",
      "__________________________________________________________________________________________________\n",
      "Power_Operator (Lambda)         (None, 1)            0           Addition_Operator[0][0]          \n",
      "                                                                 c_3_branch3[0][0]                \n",
      "__________________________________________________________________________________________________\n",
      "m_branch4 (Dense)               (None, 1)            31          hidden2_branch4[0][0]            \n",
      "__________________________________________________________________________________________________\n",
      "Multiplication_Operator_1 (Mult (None, 1)            0           TR[0][0]                         \n",
      "                                                                 Power_Operator[0][0]             \n",
      "__________________________________________________________________________________________________\n",
      "Multiplication_Operator_2 (Mult (None, 1)            0           m_branch4[0][0]                  \n",
      "                                                                 Multiplication_Operator_1[0][0]  \n",
      "__________________________________________________________________________________________________\n",
      "Output_Layer (Dense)            (None, 1)            2           Multiplication_Operator_2[0][0]  \n",
      "==================================================================================================\n",
      "Total params: 3,519\n",
      "Trainable params: 3,515\n",
      "Non-trainable params: 4\n",
      "__________________________________________________________________________________________________\n"
     ]
    }
   ],
   "source": [
    "new_model.summary()"
   ]
  },
  {
   "cell_type": "code",
   "execution_count": 26,
   "metadata": {},
   "outputs": [
    {
     "data": {
      "text/plain": [
       "[array([[-9.01334360e-02, -6.55433768e-03, -5.07833399e-02,\n",
       "          7.92476833e-02, -9.01946984e-03,  1.57543272e-02,\n",
       "          4.77146767e-02,  7.24258423e-02,  3.39173572e-03,\n",
       "         -2.09632292e-02, -3.83321792e-02,  1.48696020e-01,\n",
       "         -7.54629970e-02,  3.20828781e-02,  3.24247964e-02,\n",
       "          5.71187586e-02, -4.49851491e-02, -4.47706208e-02,\n",
       "         -8.01325813e-02, -1.16106886e-02, -8.97818208e-02,\n",
       "         -1.08829709e-02,  9.77746304e-03, -2.53927521e-02,\n",
       "         -6.72535226e-02,  5.63728586e-02, -2.54044160e-02,\n",
       "          2.74144001e-02,  3.44744138e-02,  1.61946677e-02],\n",
       "        [ 1.89813757e+00, -4.16708994e+00,  2.84580410e-01,\n",
       "          2.90517509e-01, -3.36063504e-01,  1.64094937e+00,\n",
       "         -1.04718542e+00, -2.15424800e+00,  5.77749670e-01,\n",
       "          2.45715350e-01, -9.31803212e-02,  8.92848492e-01,\n",
       "         -3.21128964e+00, -4.07745736e-03, -5.59589826e-02,\n",
       "         -1.86862662e-01,  3.84531689e+00,  8.21863860e-03,\n",
       "         -9.39182281e-01, -1.28917634e-01,  3.31987679e-01,\n",
       "         -2.36265901e-02, -4.35786295e+00, -1.99996270e-02,\n",
       "          2.70101666e-01,  3.64623845e-01, -1.27391648e+00,\n",
       "         -9.78985786e-01, -2.49206498e-02, -3.20785260e-03],\n",
       "        [-2.95273781e-01,  1.22386321e-01,  8.80063951e-01,\n",
       "         -8.74995518e+00, -2.25694314e-01,  6.66790679e-02,\n",
       "          7.96860456e-02,  1.76780298e-01,  3.03994745e-01,\n",
       "         -8.60093758e-02, -1.83821976e-01, -2.68238008e-01,\n",
       "          1.11597493e-01, -2.54290700e-02, -2.57404707e-02,\n",
       "          1.09531268e-01,  1.17444076e-01, -5.00420108e-03,\n",
       "          4.29084599e-02,  2.78616808e-02, -4.31687212e+00,\n",
       "         -8.54257960e-03, -2.89830357e-01,  1.92106306e-03,\n",
       "         -1.49397755e+00, -2.56740975e+00,  1.57117128e+00,\n",
       "         -1.67394197e+00, -2.83482075e-02,  1.73296742e-02],\n",
       "        [ 2.50965309e+00,  8.71347904e-01, -3.33030462e+00,\n",
       "          1.26298323e-01,  4.62438440e+00, -1.60280502e+00,\n",
       "         -9.94534969e-01,  1.91769946e+00,  1.43314862e+00,\n",
       "          2.54350090e+00, -6.78577244e-01, -1.69550741e+00,\n",
       "          2.22893071e+00, -1.98643394e-02, -3.34120728e-02,\n",
       "          1.59538150e+00,  7.24694633e-04,  2.56524589e-02,\n",
       "         -2.37389684e+00,  4.91893864e+00,  4.07147706e-01,\n",
       "         -2.88143624e-02, -6.92326069e-01, -8.38640425e-03,\n",
       "         -2.59824451e-02, -2.15770674e+00,  9.41945612e-01,\n",
       "          2.71868491e+00, -9.26095061e-03,  1.32066235e-02],\n",
       "        [ 8.46325636e-01, -2.70643622e-01,  4.83837336e-01,\n",
       "         -2.20327497e-01,  4.89282608e-01,  3.17739457e-01,\n",
       "          1.71042047e-02, -5.66506445e-01, -3.68607450e+00,\n",
       "         -4.68933046e-01, -1.34597316e-01, -7.83273578e-01,\n",
       "         -4.72790271e-01, -7.10474607e-03, -1.02754459e-02,\n",
       "         -2.15023160e-01, -8.15145671e-03, -7.27731176e-03,\n",
       "          4.20289546e-01, -3.30798417e-01,  1.87809933e-02,\n",
       "          3.55661404e-03,  4.51515347e-01,  7.90833402e-03,\n",
       "          1.27999914e+00,  1.04632072e-01,  5.90836167e-01,\n",
       "         -4.09442067e-01, -2.30962206e-02, -2.14597061e-02],\n",
       "        [ 1.56675383e-01,  4.56241012e-01,  9.98039991e-02,\n",
       "          1.26857415e-01,  7.16966465e-02,  4.93600816e-01,\n",
       "          8.05513859e-01, -3.42667550e-01, -1.49147436e-01,\n",
       "         -2.27106738e+00,  3.24634814e+00,  5.52266359e-01,\n",
       "          6.48587167e-01, -7.94320554e-03,  2.34823395e-02,\n",
       "          1.70442259e+00,  3.09501648e-01,  3.67539609e-03,\n",
       "          1.90722311e+00, -1.55897424e-01, -1.85965523e-01,\n",
       "          1.28963226e-02,  5.82113087e-01, -1.89730600e-02,\n",
       "         -9.67877358e-02, -1.32245451e-01,  2.53749043e-01,\n",
       "         -1.78455159e-01, -1.51751526e-02,  1.05332201e-02]], dtype=float32),\n",
       " array([ 2.45605087e+00, -3.66794616e-01, -2.67904848e-01, -7.45451117e+00,\n",
       "         4.42684460e+00, -1.23323381e+00, -2.58559299e+00,  3.82206464e+00,\n",
       "        -6.07282400e+00, -1.31395209e+00,  2.66423655e+00,  3.85599017e-01,\n",
       "        -4.76896673e-01, -1.17799183e-02, -3.11504509e-02,  2.99185634e+00,\n",
       "        -5.64679003e+00, -5.12608979e-03,  2.06134766e-02,  2.79319859e+00,\n",
       "        -2.34756327e+00, -3.21221980e-03,  3.30222338e-01,  1.20353914e-04,\n",
       "         2.10334137e-01, -4.14280844e+00,  2.06868291e+00, -1.54699802e+00,\n",
       "        -1.62494536e-02,  6.29208842e-03], dtype=float32),\n",
       " array([[ 1.45808968e-04,  8.95295743e-05,  4.07937961e-03,\n",
       "         -1.03730989e+00, -1.64820150e-01, -2.81490183e+00,\n",
       "         -1.10267568e-03,  1.25774147e-03,  1.53497138e-04,\n",
       "         -1.04885505e-29, -1.05341988e-29, -2.28070363e-01,\n",
       "         -4.04397608e-04, -1.15775216e+00,  5.93224049e-01,\n",
       "         -2.00309739e-01, -3.94987757e-04, -1.04812884e-29,\n",
       "          3.93940061e-02,  1.32525682e-01, -4.41022903e-01,\n",
       "         -1.05710232e-29,  4.57360817e-04, -3.25259507e-01,\n",
       "          3.30651641e+00,  4.31415392e-05, -1.26043046e+00,\n",
       "          2.33357190e-04,  2.54039109e-01, -1.05756033e-29],\n",
       "        [-7.36485526e-04,  1.05430860e-04, -1.94518454e-03,\n",
       "         -4.15135193e+00, -2.82710642e-01,  1.42438138e+00,\n",
       "         -1.17760646e-05,  3.94037896e-04,  1.62851531e-04,\n",
       "          1.05210754e-29, -1.05100909e-29,  8.88192832e-01,\n",
       "          2.68016302e-04,  3.69952410e-01, -1.92261791e+00,\n",
       "         -4.73138034e-01,  2.11327904e-04,  1.05648821e-29,\n",
       "          2.00634807e-01, -1.38443363e+00,  1.60160959e-01,\n",
       "          1.05013602e-29, -9.12105388e-05,  9.63366568e-01,\n",
       "         -3.17601413e-01, -2.79066910e-04, -1.31659877e+00,\n",
       "         -1.70667691e-03,  5.41240096e-01,  1.04830895e-29],\n",
       "        [ 3.05663794e-04,  1.25946768e-04, -1.41729519e-03,\n",
       "          1.42183155e-01, -7.17627645e-01,  2.20183000e-01,\n",
       "          1.75256922e-03, -1.25886325e-03,  3.13219556e-04,\n",
       "         -1.05150471e-29,  1.04966688e-29, -1.61361266e-02,\n",
       "          5.09241887e-04,  7.40435958e-01,  1.08004391e+00,\n",
       "          7.43485749e-01,  2.04950033e-04, -1.05688310e-29,\n",
       "         -4.93683398e-01,  1.50511038e+00, -1.40070057e+00,\n",
       "          1.05607180e-29, -8.35331739e-04,  2.49532610e-01,\n",
       "          6.84345588e-02, -4.15165792e-04,  1.34124482e+00,\n",
       "          1.16709241e-04, -6.74763620e-01, -1.05160906e-29],\n",
       "        [-2.23716558e-03, -1.26801501e-03,  4.02001664e-03,\n",
       "         -1.76672071e-01,  1.63460463e-01, -1.44246745e+00,\n",
       "         -2.48064077e-03,  1.04882661e-03, -1.53218268e-03,\n",
       "          1.05235227e-29, -1.05295698e-29, -1.44210383e-01,\n",
       "         -1.01432449e-03,  1.29259014e+00, -9.74640474e-02,\n",
       "         -9.79050219e-01,  1.89482269e-03,  1.04931570e-29,\n",
       "          9.62668121e-01, -1.13430893e+00,  1.20875990e+00,\n",
       "         -1.05461411e-29,  1.96838495e-03, -3.27829301e-01,\n",
       "          1.25615001e+00,  1.31115364e-03,  8.70379686e-01,\n",
       "         -1.66774425e-03,  1.43233907e+00,  1.05430401e-29],\n",
       "        [ 4.05570259e-04,  5.83644782e-04, -3.08313814e-04,\n",
       "          1.78650129e+00, -9.62139785e-01,  7.88093150e-01,\n",
       "         -1.13089496e-04,  1.15574000e-03,  8.28601129e-04,\n",
       "         -1.05172183e-29, -1.04923573e-29,  4.68800396e-01,\n",
       "         -4.48594743e-04, -2.80584311e+00, -2.49444559e-01,\n",
       "          6.30802095e-01, -7.80999952e-04,  1.04736125e-29,\n",
       "         -1.12324512e+00,  4.19649541e-01, -1.21463346e+00,\n",
       "         -1.04871392e-29, -3.79283447e-04,  4.44388241e-01,\n",
       "          6.94205523e-01, -4.43749363e-04, -2.84723711e+00,\n",
       "          2.25995813e-04, -6.78734004e-01, -1.05738000e-29],\n",
       "        [-4.39428404e-04, -1.01741368e-03,  4.72561922e-03,\n",
       "          1.62820506e+00, -4.86364603e-01,  7.63445020e-01,\n",
       "         -5.49215940e-04, -6.80534402e-04, -4.85728844e-04,\n",
       "          1.05770169e-29, -1.05211258e-29, -1.49379277e+00,\n",
       "         -1.51483357e-04, -9.64626431e-01, -1.35892898e-01,\n",
       "         -2.23685622e-01,  9.91046662e-04, -1.05174086e-29,\n",
       "         -9.56837177e-01,  1.06969512e+00, -5.80051959e-01,\n",
       "          1.04935948e-29,  7.71741499e-04,  5.26347280e-01,\n",
       "         -9.01382327e-01,  5.39729197e-04,  9.05034244e-01,\n",
       "         -3.92207839e-05, -4.54436094e-01,  1.05045726e-29],\n",
       "        [-6.58115256e-04, -5.10396727e-04,  2.40116031e-04,\n",
       "          8.17590714e-01, -2.33760548e+00,  8.28153193e-01,\n",
       "         -6.32192416e-04, -1.04189583e-03, -3.74096911e-04,\n",
       "          1.04797996e-29, -1.04911272e-29,  1.46110332e+00,\n",
       "          7.54728913e-04,  1.73729211e-01, -5.46879649e-01,\n",
       "          3.59342670e+00,  9.66544147e-04,  1.05356598e-29,\n",
       "          1.24183528e-01,  8.46515954e-01, -1.94414824e-01,\n",
       "          1.04754557e-29,  3.10176052e-04, -2.85708159e-01,\n",
       "          2.53462672e-01,  3.05788708e-04,  3.97908360e-01,\n",
       "         -7.47047423e-04,  4.79803294e-01,  1.05242231e-29],\n",
       "        [ 2.58387486e-03,  1.73865107e-03, -5.15426649e-03,\n",
       "         -5.61882854e-01, -4.52188924e-02, -8.25830698e-01,\n",
       "          2.22501066e-03, -8.18898261e-04,  1.62143051e-03,\n",
       "          1.05517744e-29,  1.04676098e-29,  1.21244037e+00,\n",
       "          4.70582716e-04, -8.26237142e-01, -1.13117075e+00,\n",
       "          1.77382395e-01, -2.71448866e-03, -1.05007546e-29,\n",
       "          1.68732509e-01,  3.96191776e-01,  3.95957321e-01,\n",
       "         -1.05261551e-29, -2.20694859e-03,  2.61168385e+00,\n",
       "          3.75994468e+00, -1.24740496e-03, -1.22309077e+00,\n",
       "          1.67527643e-03,  9.99476016e-01, -1.04683207e-29],\n",
       "        [-1.42847281e-03, -8.11214501e-04,  4.53344139e-04,\n",
       "          4.85676527e-01,  1.82716632e+00,  1.43042517e+00,\n",
       "         -1.43696729e-03, -2.47814460e-04, -9.09650698e-04,\n",
       "          1.05437337e-29, -1.05093476e-29,  3.03437042e+00,\n",
       "          2.01442585e-04, -2.83340156e-01,  7.11936474e-01,\n",
       "         -1.18321800e+00,  1.29782397e-03,  1.05150960e-29,\n",
       "          4.72682208e-01,  7.40497410e-02,  4.34351981e-01,\n",
       "         -1.04655951e-29,  1.00405910e-03,  4.63319683e+00,\n",
       "          6.92517757e-01,  5.87278046e-04,  1.64966869e+00,\n",
       "         -9.24615189e-04,  8.68017375e-01,  1.05362519e-29],\n",
       "        [-6.08748582e-04, -2.67343974e-04, -8.87812988e-04,\n",
       "          1.09496248e+00,  2.10050821e+00, -4.83984411e-01,\n",
       "         -9.24753724e-04,  2.01736140e-04, -8.11639038e-05,\n",
       "          1.05087299e-29, -1.05043763e-29,  3.03347632e-02,\n",
       "          7.24122583e-05, -2.35411453e+00, -1.77116632e+00,\n",
       "         -8.54827166e-01, -6.65315602e-05,  1.05679974e-29,\n",
       "          9.79932427e-01,  9.37013924e-01,  5.03316760e-01,\n",
       "         -1.05412247e-29,  2.85891292e-04,  1.73809373e+00,\n",
       "          1.44633067e+00,  1.68018509e-04, -2.22785771e-01,\n",
       "          3.53273121e-04,  1.46157229e+00,  1.05625250e-29],\n",
       "        [ 1.05240801e-03,  6.00095547e-04, -1.66857106e-04,\n",
       "         -9.32746306e-02, -2.08466291e+00, -4.20695454e-01,\n",
       "          1.15038268e-03,  2.32447885e-04,  7.65672652e-04,\n",
       "         -1.05712677e-29,  1.05717462e-29,  1.47422183e+00,\n",
       "         -2.06725177e-04, -3.29116273e+00,  1.88523197e+00,\n",
       "          1.18798411e+00, -9.00250918e-04, -1.05377844e-29,\n",
       "         -4.22061622e-01,  7.05448031e-01, -1.50925255e+00,\n",
       "          1.05301183e-29, -7.59866380e-04,  9.24302489e-02,\n",
       "         -6.19391918e-01, -3.84740939e-04, -1.50019610e-02,\n",
       "          6.74686045e-04, -1.73605299e+00, -1.05297391e-29],\n",
       "        [ 5.88900060e-04,  6.60805381e-04, -1.57854566e-03,\n",
       "          8.18553567e-01,  2.67677069e-01,  2.51744866e+00,\n",
       "          1.57882133e-03, -9.07506677e-04,  9.99243348e-04,\n",
       "         -1.05452165e-29,  1.05414181e-29, -7.40483463e-01,\n",
       "          1.24926737e-04,  2.16794395e+00,  5.70075214e-01,\n",
       "          3.46900403e-01, -1.39154051e-03, -1.05658074e-29,\n",
       "          1.49659486e-02,  1.05890237e-01, -1.47175103e-01,\n",
       "          1.05651484e-29, -1.19462516e-03, -2.15115994e-01,\n",
       "          6.32977009e-01, -1.62085693e-04, -5.30382872e-01,\n",
       "          1.22776465e-03,  2.26099849e-01, -1.05514111e-29],\n",
       "        [-7.99627160e-04, -3.10657138e-04,  1.75523863e-03,\n",
       "         -4.97023731e-01,  1.02456391e+00,  4.42945510e-01,\n",
       "         -1.10704300e-03,  5.02146839e-04, -4.72292246e-04,\n",
       "         -1.04840961e-29, -1.05041867e-29, -9.71636325e-02,\n",
       "          3.17375729e-04,  2.46253967e+00,  1.52577198e+00,\n",
       "         -5.81980586e-01,  8.74000718e-04,  1.05781123e-29,\n",
       "          8.87765169e-01, -5.05600274e-01,  1.95117518e-01,\n",
       "         -1.05054671e-29,  5.63840964e-04, -6.14734948e-01,\n",
       "         -2.59363770e+00,  1.72058091e-04, -6.98775351e-02,\n",
       "         -1.11376157e-03,  4.36298519e-01,  1.05008366e-29],\n",
       "        [-3.60352831e-04, -1.32052097e-04,  1.47269934e-03,\n",
       "          3.27443518e-02, -1.93042513e-02,  1.05119664e-02,\n",
       "         -3.00485699e-04,  3.96954332e-04, -2.64125090e-04,\n",
       "          1.04525341e-29, -1.04701225e-29, -1.60084595e-03,\n",
       "         -2.93649093e-04, -1.11501798e-01,  2.87532546e-02,\n",
       "          5.57840541e-02,  2.04632379e-04,  1.05463894e-29,\n",
       "          1.92800201e-02, -2.24995688e-02,  2.17976328e-02,\n",
       "         -1.04689655e-29,  3.33607459e-04,  2.46576164e-02,\n",
       "          7.91235492e-02,  1.74521338e-04, -1.19413901e-02,\n",
       "         -2.09332822e-04, -1.53150000e-02, -1.05083696e-29],\n",
       "        [-2.67205149e-04, -1.35822251e-04,  1.29021727e-03,\n",
       "         -1.28975157e-02,  2.45222123e-03,  1.63234800e-01,\n",
       "         -2.82208755e-04,  1.64845347e-04, -2.60565750e-04,\n",
       "         -1.05660594e-29,  1.05254336e-29, -5.07003888e-02,\n",
       "         -2.10025741e-04,  2.16909070e-02, -1.02949571e-02,\n",
       "          8.81936103e-02,  3.01344611e-04,  1.04670907e-29,\n",
       "          1.59682762e-02, -1.11812148e-02, -2.15562270e-03,\n",
       "          1.05628011e-29,  2.96028535e-04,  1.51263438e-02,\n",
       "         -1.30654611e-02,  1.96149165e-04, -6.83737546e-02,\n",
       "         -2.46542040e-04, -7.43668154e-02, -1.04954305e-29],\n",
       "        [ 2.17595836e-03,  8.59198801e-04, -3.18842707e-04,\n",
       "          8.16738605e-01, -4.42547798e+00, -5.60819805e-01,\n",
       "          1.51972915e-03, -5.41195390e-04,  1.39306439e-03,\n",
       "         -1.05551599e-29,  1.05515126e-29,  3.08720440e-01,\n",
       "          3.54218966e-04, -5.59330463e-01, -1.69986975e+00,\n",
       "         -9.36084911e-02, -1.77269406e-03, -1.05396892e-29,\n",
       "         -9.92149174e-01,  8.00261915e-01, -2.18290150e-01,\n",
       "          1.04969381e-29, -1.36936293e-03,  2.29618454e+00,\n",
       "          5.76844811e-01, -6.17605925e-04,  1.66223872e+00,\n",
       "          1.15431705e-03,  1.33167252e-01, -1.04668297e-29],\n",
       "        [-8.10655241e-04, -3.24385415e-04, -1.53127802e-03,\n",
       "          1.33672225e+00,  5.37672806e+00,  2.21849918e+00,\n",
       "         -1.96703040e-04, -1.61678251e-03,  3.70808179e-04,\n",
       "          1.05411863e-29, -1.05216525e-29,  1.45167255e+00,\n",
       "          1.07779365e-03,  1.07524991e+00, -4.14863005e-02,\n",
       "         -2.06438255e+00,  9.51945476e-05,  1.05368793e-29,\n",
       "         -3.88904102e-02, -2.02181673e+00, -5.96879646e-02,\n",
       "         -1.05447659e-29, -1.60063981e-04,  1.27517986e+00,\n",
       "         -5.33300102e-01, -2.20569375e-04, -1.13621056e-02,\n",
       "         -2.29259633e-04,  1.50470555e-01,  1.04913401e-29],\n",
       "        [ 1.12110756e-04,  5.12186452e-05, -4.86053759e-04,\n",
       "         -7.98845738e-02,  3.90016660e-02,  5.87508902e-02,\n",
       "          7.30146858e-05, -1.42670819e-04,  9.47858207e-05,\n",
       "         -1.05056740e-29,  1.04946270e-29, -3.23514901e-02,\n",
       "          1.41114608e-04,  2.88252831e-02, -7.23441690e-02,\n",
       "          4.03262228e-02, -5.12202569e-05, -1.04940718e-29,\n",
       "         -6.47883303e-03,  5.19129746e-02,  7.48612173e-03,\n",
       "         -1.05579465e-29, -1.28381231e-04, -4.33838367e-02,\n",
       "         -2.51175687e-02, -3.43549655e-05,  3.16805989e-02,\n",
       "          5.18245288e-05,  5.68167493e-02,  1.05573739e-29],\n",
       "        [ 1.15690776e-03, -3.43634165e-04,  8.22668371e-04,\n",
       "          1.36649445e-01,  1.39536038e-02,  9.92793083e-01,\n",
       "          4.38626041e-04, -7.52220571e-04, -2.76829349e-04,\n",
       "         -1.04984977e-29,  1.05422072e-29,  6.54265583e-01,\n",
       "          6.38093334e-05, -2.11741075e-01,  8.30871284e-01,\n",
       "          8.79293919e-01,  1.54780678e-03, -1.05332321e-29,\n",
       "         -2.05069453e-01,  9.63653862e-01, -1.95051357e-01,\n",
       "          1.04786342e-29,  2.42300797e-04,  2.52641976e-01,\n",
       "         -1.12434280e+00, -4.90787788e-05, -5.60531080e-01,\n",
       "         -1.31853914e-03, -3.74941975e-01, -1.04594231e-29],\n",
       "        [ 5.23929717e-04,  9.41034174e-04,  5.09764417e-04,\n",
       "         -1.13834596e+00,  4.28483337e-02, -3.12964845e+00,\n",
       "         -5.37970511e-04,  1.58905808e-03,  6.62988983e-04,\n",
       "         -1.04898724e-29, -1.04708041e-29,  4.61791549e-03,\n",
       "         -1.29944558e-04, -1.63763750e+00, -6.01278663e-01,\n",
       "         -4.73975837e-01, -9.00708954e-04,  1.04655507e-29,\n",
       "          8.40849817e-01, -5.43971717e-01,  5.97642541e-01,\n",
       "         -1.04839524e-29, -2.86322116e-04,  9.45882201e-01,\n",
       "          1.02579343e+00, -6.72110764e-04,  2.05706501e+00,\n",
       "          3.95044335e-04,  1.35647368e+00, -1.04812681e-29],\n",
       "        [-3.85616464e-03, -2.12862506e-03,  6.28408138e-03,\n",
       "          2.88749248e-01, -2.10512653e-01, -1.37133074e+00,\n",
       "         -4.01357235e-03,  3.07370652e-03, -2.78954068e-03,\n",
       "          1.05226703e-29, -1.05579472e-29, -7.99659729e-01,\n",
       "         -3.42538394e-03,  9.89882767e-01, -6.15172148e-01,\n",
       "         -2.15700328e-01,  2.66826572e-03,  1.04928109e-29,\n",
       "          2.13008121e-01, -3.40056419e-01,  1.00011814e+00,\n",
       "         -1.05017492e-29,  3.59708443e-03,  1.42738134e-01,\n",
       "          1.46175039e+00,  2.38404470e-03, -3.88460129e-01,\n",
       "         -3.07733379e-03,  1.42150736e+00,  1.04761117e-29],\n",
       "        [ 5.79448424e-05, -9.15746932e-06,  3.99605342e-05,\n",
       "          1.58357769e-02,  1.44002838e-02, -6.33333325e-02,\n",
       "          2.87099538e-05, -1.05388754e-04, -8.12983035e-06,\n",
       "         -1.04558895e-29, -1.05570745e-29,  4.85461466e-02,\n",
       "          3.03843826e-05,  4.52668667e-02,  4.68481481e-02,\n",
       "          9.43013933e-03,  4.95469940e-05,  1.05213034e-29,\n",
       "         -1.24278963e-02, -2.09899917e-02, -1.92085877e-02,\n",
       "         -1.05156505e-29, -2.27056557e-06,  4.14263122e-02,\n",
       "         -7.42537389e-03,  1.25748311e-05, -8.67405906e-02,\n",
       "         -7.19600066e-05, -4.67878878e-02,  1.04810281e-29],\n",
       "        [ 7.09618384e-04,  8.23114824e-04, -6.11953111e-03,\n",
       "          1.28550813e-01,  2.68906504e-01, -1.16962707e+00,\n",
       "          2.10356899e-03, -1.23459741e-03,  1.19131932e-03,\n",
       "         -1.05747893e-29,  1.05750323e-29,  1.65354371e+00,\n",
       "          1.60050031e-03,  4.62689847e-01, -7.68699825e-01,\n",
       "         -2.76360095e-01, -5.49116288e-04, -1.05506535e-29,\n",
       "         -1.10214233e-01, -1.00619242e-01, -7.54482523e-02,\n",
       "          1.05410690e-29, -1.43647857e-03,  1.18252718e+00,\n",
       "          4.11120057e-01, -1.12868217e-03, -1.99789912e-01,\n",
       "         -1.83847942e-03, -6.63179383e-02,  1.05584121e-29],\n",
       "        [ 6.62271050e-05,  2.53557700e-05, -3.61072860e-04,\n",
       "         -7.90201798e-02,  2.70400438e-02,  1.55783696e-02,\n",
       "          7.31415203e-05, -1.33660244e-04,  5.28571109e-05,\n",
       "         -1.05535567e-29,  1.05033704e-29, -4.04197499e-02,\n",
       "          1.08079592e-04,  8.78969729e-02,  1.84728410e-02,\n",
       "          6.00160705e-03,  4.92503168e-05, -1.04952431e-29,\n",
       "          1.41923446e-02,  2.41226908e-02, -3.07044182e-02,\n",
       "         -1.05403249e-29, -7.10325185e-05,  2.17641536e-02,\n",
       "         -1.77458655e-02, -3.85544481e-05,  5.84292933e-02,\n",
       "         -1.72953241e-05, -6.55762805e-03, -1.04849605e-29],\n",
       "        [-4.43378463e-04, -2.24603078e-04, -5.45775751e-04,\n",
       "         -1.65940404e-01, -6.76128566e-01, -3.43490601e-01,\n",
       "         -2.67348863e-04,  4.08192340e-04,  2.40186666e-04,\n",
       "         -1.05131460e-29, -1.05382591e-29, -5.40193439e-01,\n",
       "         -1.58384082e-05,  1.06255329e+00, -7.15129450e-02,\n",
       "         -4.17713016e-01,  3.78046971e-04,  1.05070357e-29,\n",
       "          3.56310159e-01,  1.20525612e-02,  5.08765340e-01,\n",
       "         -1.04866795e-29,  1.26732295e-04, -1.70192882e-01,\n",
       "          1.32313371e-01, -1.31502631e-04, -1.01434493e+00,\n",
       "         -1.06411322e-03,  5.46476305e-01,  1.05347337e-29],\n",
       "        [-1.60740607e-03, -8.58611776e-04,  1.37991528e-03,\n",
       "         -1.56844318e+00,  7.17161655e-01,  3.16032559e-01,\n",
       "         -1.08939712e-03, -8.59594438e-04, -7.80579634e-04,\n",
       "          1.05641568e-29, -1.04702249e-29,  1.58538952e-01,\n",
       "         -9.24090091e-06,  7.20905900e-01,  3.19589233e+00,\n",
       "         -3.76703948e-01,  1.83609850e-03,  1.04941124e-29,\n",
       "          8.48708093e-01, -3.47801834e-01,  1.84744883e+00,\n",
       "         -1.04769385e-29,  9.26628883e-04, -5.14390421e+00,\n",
       "         -2.06032348e+00,  8.22807197e-04, -1.73367214e+00,\n",
       "         -7.86278804e-04, -2.51083398e+00,  1.05013820e-29],\n",
       "        [ 3.93895851e-03,  1.81122241e-03, -8.60787649e-03,\n",
       "          9.29510951e-01, -2.19026804e-01, -1.20228243e+00,\n",
       "          3.23915901e-03, -2.29306542e-03,  2.58349301e-03,\n",
       "         -1.04867585e-29,  1.05495897e-29,  5.70643902e-01,\n",
       "          2.30966811e-03, -4.52300936e-01,  2.74111480e-01,\n",
       "          3.04499418e-01, -1.81886344e-03, -1.05154075e-29,\n",
       "         -1.31439731e-01,  1.11354508e-01, -5.38486600e-01,\n",
       "          1.05176554e-29, -2.84987083e-03,  3.47429782e-01,\n",
       "          1.30253628e-01, -2.33918428e-03, -2.49891028e-01,\n",
       "          1.38779008e-03,  8.10114741e-02, -1.04774719e-29],\n",
       "        [-1.65930297e-03, -9.00567102e-04,  2.63824151e-03,\n",
       "          3.07890087e-01, -1.09672785e-01,  1.18193381e-01,\n",
       "         -2.03073188e-03,  6.86366227e-04, -1.26271159e-03,\n",
       "          1.05336511e-29, -1.05675219e-29,  1.02384433e-01,\n",
       "         -5.46643801e-04,  9.31785226e-01, -6.98390007e-01,\n",
       "         -2.20622301e+00,  8.87505943e-04,  1.05806160e-29,\n",
       "          1.86794412e+00,  1.90604413e+00,  1.00535500e+00,\n",
       "         -1.05155128e-29,  1.54065108e-03,  1.57841563e+00,\n",
       "         -8.42123091e-01,  8.79075844e-04,  1.05273783e+00,\n",
       "         -9.88222891e-04,  8.43442500e-01,  1.05757154e-29],\n",
       "        [-3.61617334e-04, -1.25397724e-04,  1.38059002e-03,\n",
       "          3.48175950e-02, -4.86432947e-02,  9.96511653e-02,\n",
       "         -3.17617785e-04,  3.37693462e-04, -2.61396548e-04,\n",
       "         -1.05002017e-29,  1.05086622e-29, -4.63222116e-02,\n",
       "         -2.92332290e-04, -5.32822125e-02,  1.08125890e-02,\n",
       "          4.13427763e-02,  2.02007257e-04,  1.04605764e-29,\n",
       "          1.12231513e-02, -4.17343155e-02,  2.35022116e-03,\n",
       "         -1.04880269e-29,  3.23514163e-04,  1.70656033e-02,\n",
       "          9.94173586e-02,  1.87682817e-04, -7.25128874e-03,\n",
       "         -1.97544898e-04, -1.46422386e-02,  1.04809318e-29],\n",
       "        [-3.61159400e-05,  1.22548608e-05,  1.13921858e-04,\n",
       "          5.00848964e-02, -4.85778265e-02, -5.72549216e-02,\n",
       "         -2.16223343e-05,  1.00144753e-04, -4.26532570e-05,\n",
       "         -1.04807994e-29,  1.05524861e-29, -9.82305314e-03,\n",
       "         -8.87738279e-05,  1.73476606e-03, -1.35174375e-02,\n",
       "         -3.24321799e-02, -3.87352411e-05, -1.04696847e-29,\n",
       "         -9.51670576e-03, -3.62112410e-02,  3.97986248e-02,\n",
       "          1.05296714e-29,  2.10348680e-05, -4.06342559e-03,\n",
       "         -2.05616485e-02,  2.26099564e-05, -5.52194007e-02,\n",
       "          4.86592144e-05,  6.18770160e-03,  1.04962287e-29]], dtype=float32),\n",
       " array([ 8.100918  ,  7.890621  , -6.362627  , -6.0859466 ,  7.13542   ,\n",
       "        -1.4588898 ,  7.560072  , -8.08865   ,  7.7094636 , -9.000704  ,\n",
       "         9.00084   , -1.7148892 ,  8.0841465 , -2.2292478 , -1.2865797 ,\n",
       "        -5.628071  , -8.089787  , -9.001122  ,  7.256918  , -6.8337736 ,\n",
       "         2.9529352 ,  9.000138  , -7.443975  , -1.4129865 ,  0.20473766,\n",
       "        -7.9653187 , -4.456396  ,  8.091057  ,  0.04158924, -9.000517  ],\n",
       "       dtype=float32),\n",
       " array([[ 0.1948314 ],\n",
       "        [ 0.09088723],\n",
       "        [-0.03700469],\n",
       "        [-0.1070392 ],\n",
       "        [ 0.25644127],\n",
       "        [ 0.07096609],\n",
       "        [ 0.08430474],\n",
       "        [-0.2939573 ],\n",
       "        [ 0.10433276],\n",
       "        [-0.3753688 ],\n",
       "        [ 0.59117395],\n",
       "        [ 0.22180149],\n",
       "        [ 0.17751862],\n",
       "        [ 0.29697353],\n",
       "        [-0.14306617],\n",
       "        [-0.13569605],\n",
       "        [-0.31651726],\n",
       "        [-0.46715358],\n",
       "        [ 0.26129952],\n",
       "        [-0.22134891],\n",
       "        [ 0.5351532 ],\n",
       "        [ 0.33974832],\n",
       "        [-0.06739534],\n",
       "        [ 0.136035  ],\n",
       "        [-0.15401365],\n",
       "        [-0.1176708 ],\n",
       "        [-0.11038707],\n",
       "        [ 0.20853883],\n",
       "        [ 0.20079622],\n",
       "        [-0.32121873]], dtype=float32),\n",
       " array([-1.8340787], dtype=float32),\n",
       " array([[-1.22160904e-01, -6.86083396e-04, -1.93136130e-02,\n",
       "         -1.55980498e-01, -1.43558383e-01,  5.91217279e-01,\n",
       "         -3.23862806e-02,  4.90886234e-02, -6.30933344e-02,\n",
       "          3.68468314e-02,  7.72344356e-04,  1.86924309e-01,\n",
       "          1.33444324e-01, -2.22218316e-02,  1.30202562e-01,\n",
       "          4.13863324e-02, -1.45418257e-01,  3.66135240e-01,\n",
       "          5.22102304e-02, -1.65958647e-02, -3.11287403e-01,\n",
       "         -1.90572534e-03,  9.88415703e-02,  2.85159294e-02,\n",
       "         -1.18965814e-02,  9.91884395e-02, -6.20937236e-02,\n",
       "         -6.48382455e-02, -1.03692323e-01,  6.07345328e-02],\n",
       "        [ 7.32126012e-02,  8.07099789e-02,  2.07103305e-02,\n",
       "          5.28652333e-02,  7.88759217e-02, -3.18413806e+00,\n",
       "         -2.97628045e-02,  1.20871890e+00, -3.31753492e-02,\n",
       "          7.37954229e-02,  1.33509433e+00,  2.04711914e+00,\n",
       "         -3.05604027e-03,  1.77501943e-02,  6.59222841e-01,\n",
       "         -1.14005826e-01, -3.63702863e-01, -4.03042078e+00,\n",
       "          3.83044779e-02, -1.03105672e-01,  1.22150314e+00,\n",
       "          2.00458813e+00,  5.18255055e-01, -3.07527799e-02,\n",
       "         -6.25459775e-02,  2.81942338e-02, -5.02264380e-01,\n",
       "          4.70076263e-01, -3.18880272e+00,  1.53695381e+00],\n",
       "        [-1.02365576e-02, -3.36591452e-02, -3.72103080e-02,\n",
       "          6.18224107e-02, -1.85847394e-02,  5.08582555e-02,\n",
       "          8.30330178e-02, -1.22184090e-01,  6.09067120e-02,\n",
       "         -3.03966738e-02, -3.63737750e+00, -2.66795345e-02,\n",
       "         -4.51685041e-02,  6.83367699e-02,  1.08624470e+00,\n",
       "          2.73248348e-02,  3.61557186e-01, -2.32959107e-01,\n",
       "         -4.03054692e-02,  9.44201574e-02,  3.10745239e+00,\n",
       "          4.60949957e-01,  3.40463787e-01, -3.05073541e-02,\n",
       "          3.53094153e-02, -1.66305527e-02,  8.51457417e-01,\n",
       "          4.56239015e-01,  1.82478502e-02, -1.16668142e-01],\n",
       "        [ 3.86211164e-02,  3.44639011e-02,  2.70220637e-02,\n",
       "         -2.19707172e-02, -2.85563655e-02, -1.65931010e+00,\n",
       "         -4.14448567e-02,  8.14216316e-01, -5.21025918e-02,\n",
       "         -2.44610328e-02, -3.27536654e+00, -1.57455280e-01,\n",
       "         -7.10235722e-03, -7.12188408e-02,  4.19195354e-01,\n",
       "         -2.84746260e-04, -3.11528134e+00,  2.34230065e+00,\n",
       "         -4.57894849e-03, -1.97287779e-02, -1.25120473e+00,\n",
       "          6.91244555e+00,  2.37235379e+00, -3.12265963e-03,\n",
       "         -6.04675077e-02, -1.52957141e-02,  4.85420084e+00,\n",
       "          2.69077754e+00,  1.80627191e+00,  4.66027260e+00],\n",
       "        [ 1.23678921e-02,  3.94491246e-03,  2.40250286e-02,\n",
       "         -1.83765683e-02,  3.56753240e-03, -1.26769114e+00,\n",
       "         -2.44613271e-02, -4.17183749e-02, -1.19795213e-02,\n",
       "          7.64432400e-02,  7.10698366e-02,  1.10072754e-01,\n",
       "         -4.44866978e-02, -2.83245519e-02,  3.51873493e+00,\n",
       "          2.04248689e-02,  3.34121853e-01,  6.25558674e-01,\n",
       "         -5.69073260e-02, -2.77346633e-02,  2.01899335e-01,\n",
       "          9.19867635e-01, -1.05422258e+00, -3.27743255e-02,\n",
       "         -1.52409356e-02, -2.67432146e-02, -2.28216723e-01,\n",
       "          1.22358012e+00, -1.15374885e-01,  6.87224150e-01],\n",
       "        [ 5.18109500e-02,  1.98752396e-02,  6.77334070e-02,\n",
       "          1.25366878e-02,  3.27000953e-02, -7.54961893e-02,\n",
       "          2.05651801e-02,  4.97708708e-01,  2.03109030e-02,\n",
       "         -1.75675154e-02, -3.95918339e-01, -3.08648634e+00,\n",
       "          2.91817747e-02,  8.80432129e-03,  1.82003185e-01,\n",
       "          9.29231290e-03,  7.67908692e-02,  8.64827573e-01,\n",
       "          1.28249694e-02,  3.82448621e-02, -5.46218812e-01,\n",
       "          9.08390760e-01,  8.19122046e-02, -9.41226631e-02,\n",
       "         -3.99105661e-02,  9.70418006e-03,  1.85441390e-01,\n",
       "          1.13148272e-01,  7.34134197e-01,  4.34021652e-02]], dtype=float32),\n",
       " array([-8.0341361e-02,  5.9556565e-03, -2.7136263e-02, -3.1236121e-02,\n",
       "        -4.1753404e-02, -4.9943584e-01, -3.1302292e-02, -2.5571781e-01,\n",
       "        -5.3895168e-02, -3.8616430e-02, -4.1249280e+00, -1.0618733e+00,\n",
       "        -3.2553531e-02, -3.4064446e-03,  1.7614710e-01,  4.1780926e-02,\n",
       "        -2.3112144e+00,  1.1097299e-01, -5.1035576e-02, -1.1894267e-02,\n",
       "         3.9342391e-01,  4.5532227e+00, -4.1898644e-01,  4.3071061e-02,\n",
       "        -1.6012646e-03,  2.6873623e-03,  4.4007444e+00,  3.1085889e+00,\n",
       "         1.8714869e+00,  4.6609058e+00], dtype=float32),\n",
       " array([[-1.]], dtype=float32),\n",
       " array([0.], dtype=float32),\n",
       " array([[ 2.23296620e-02,  8.22730456e-03, -4.48086858e-02,\n",
       "          3.46516781e-02,  3.17994542e-02,  8.89471471e-02,\n",
       "         -1.01839103e-01,  1.18883401e-01,  2.56507046e-04,\n",
       "         -3.83091867e-02, -7.43181780e-02,  1.46852404e-01,\n",
       "         -4.27389890e-03, -8.43720585e-02, -7.92054646e-03,\n",
       "         -1.62431464e-01, -1.29198534e-02,  9.39350277e-02,\n",
       "         -7.66621009e-02, -1.11293189e-01,  5.29943220e-02,\n",
       "         -8.90022069e-02, -5.00748344e-02, -5.52466288e-02,\n",
       "          3.42758410e-02, -3.87616046e-02, -1.32746071e-01,\n",
       "          1.01126008e-01,  1.52966687e-02, -5.69240674e-02],\n",
       "        [ 8.55575129e-02,  5.18676341e-02, -2.89719570e-02,\n",
       "         -1.85810961e-02,  5.50544001e-02, -5.34753427e-02,\n",
       "          1.25684381e-01, -3.89877185e-02, -5.02465405e-02,\n",
       "         -6.26004934e-02, -6.39752373e-02,  2.16901638e-02,\n",
       "         -1.05957419e-01, -1.01825170e-01, -3.25092301e-02,\n",
       "         -2.09287964e-02, -8.77382457e-02,  1.44219682e-01,\n",
       "         -8.84886365e-03, -4.38077711e-02,  2.31855959e-02,\n",
       "         -4.63068252e-03, -3.06036863e-02, -4.31289636e-02,\n",
       "         -7.99490884e-02, -1.13422111e-01, -2.79510599e-02,\n",
       "          2.13566851e-02, -1.10027060e-01, -1.17881425e-01],\n",
       "        [ 3.73889618e-02,  5.12349159e-02, -3.27842832e-02,\n",
       "         -6.54854998e-02,  7.82302171e-02,  8.00070092e-02,\n",
       "         -5.47056086e-02,  2.21372377e-02,  5.77072287e-03,\n",
       "          9.84631851e-02, -9.43354517e-02,  4.92364950e-02,\n",
       "          5.53366505e-02, -1.35791555e-01, -1.28902927e-01,\n",
       "         -4.55949754e-02, -2.05008820e-01,  3.51852663e-02,\n",
       "          2.11385712e-02, -2.91795214e-03, -1.59771238e-02,\n",
       "         -9.55493152e-02,  1.10323139e-01,  6.51331544e-02,\n",
       "         -4.91772108e-02,  2.56120227e-02, -8.04472268e-02,\n",
       "          5.47838258e-03, -9.36577544e-02,  3.54551040e-02],\n",
       "        [-5.79106202e-03, -2.05198843e-02, -9.54768993e-03,\n",
       "          9.43405926e-02,  1.47029962e-02,  2.73848642e-02,\n",
       "         -3.81703600e-02,  9.66562405e-02,  2.16274187e-02,\n",
       "          6.47517145e-02,  1.17523447e-01,  1.07802130e-01,\n",
       "          5.90636320e-02,  7.09507167e-02,  1.32672176e-01,\n",
       "         -1.32668495e-01,  4.31402028e-02, -7.84037709e-02,\n",
       "          2.41142530e-02,  9.30613745e-03, -5.43179475e-02,\n",
       "         -1.01300910e-01, -2.89504863e-02, -7.01040626e-02,\n",
       "         -3.89056243e-02,  1.37371495e-01, -1.19504973e-01,\n",
       "          1.24981329e-01, -2.13051662e-02,  7.09049776e-02],\n",
       "        [ 8.82865265e-02,  2.05770470e-02, -6.84942454e-02,\n",
       "          6.27330621e-04,  8.48966762e-02,  2.56802496e-02,\n",
       "         -4.83826250e-02,  1.43365145e-01,  7.23190606e-02,\n",
       "         -2.65304577e-02, -7.97705054e-02,  2.79344078e-02,\n",
       "          1.90351028e-02, -1.20678797e-01, -4.49368730e-03,\n",
       "         -3.22872959e-02, -1.07514210e-01,  4.61624973e-02,\n",
       "          1.01472773e-01, -5.02307294e-03,  5.48523217e-02,\n",
       "         -6.58595115e-02,  1.16667055e-01,  3.50560434e-02,\n",
       "          6.83216080e-02,  1.62694708e-01, -1.31656259e-01,\n",
       "          1.12994269e-01, -5.42213209e-02,  6.10885471e-02],\n",
       "        [ 1.23659903e-02,  1.93363130e-01,  1.98793456e-01,\n",
       "          1.79485276e-01, -1.03723973e-01,  6.25340790e-02,\n",
       "         -7.75634199e-02,  9.61414129e-02, -9.17142928e-02,\n",
       "         -1.45925075e-01, -1.00551057e+00,  2.30772365e-02,\n",
       "          8.70592743e-02, -9.29789171e-02, -6.63850233e-02,\n",
       "         -1.71552747e-01, -2.74828434e-01,  3.72584760e-02,\n",
       "         -1.40279263e-01,  3.27463001e-02,  1.72753975e-01,\n",
       "         -4.72621527e-03,  3.37611586e-02,  8.07767436e-02,\n",
       "         -3.61683965e-02,  1.77340746e-01, -1.35188237e-01,\n",
       "          4.52808708e-01,  6.85059071e-01, -1.25143602e-01],\n",
       "        [-7.39556924e-02,  2.34630704e-02,  2.74160039e-02,\n",
       "          1.30800918e-01, -5.21383993e-02,  2.96885855e-02,\n",
       "         -5.13492301e-02, -3.08697540e-02, -1.25105336e-01,\n",
       "         -3.06077078e-02,  1.27447128e-01,  1.96242873e-02,\n",
       "          5.15004015e-03,  1.13014869e-01,  4.98426892e-02,\n",
       "          5.57665005e-02,  9.91385952e-02,  1.25254676e-01,\n",
       "         -2.39480678e-02,  4.04749550e-02, -6.46746680e-02,\n",
       "          5.70731498e-02, -3.47935259e-02,  3.37038934e-02,\n",
       "         -8.50329362e-03,  1.29057199e-01, -2.34568864e-03,\n",
       "          7.93119296e-02, -2.41138805e-02, -7.64267147e-02],\n",
       "        [-3.44399884e-02, -7.66997784e-02,  6.71117604e-02,\n",
       "          8.89382839e-01, -6.20414950e-02,  2.08186917e-02,\n",
       "          1.02274485e-01, -1.08152226e-01,  4.15385514e-02,\n",
       "          6.54613823e-02, -7.11128712e-01, -8.91310200e-02,\n",
       "         -9.20450538e-02, -4.00955796e-01,  3.24666314e-02,\n",
       "          5.74056152e-03,  1.44437420e+00, -1.66661575e-01,\n",
       "         -8.35955814e-02,  1.48089856e-01, -8.78326967e-03,\n",
       "          1.13040835e-01, -8.15586671e-02,  5.30872047e-02,\n",
       "          3.18155736e-02, -6.71931356e-02,  5.66861667e-02,\n",
       "          1.03483725e+00, -2.70976961e-01,  1.42378256e-01],\n",
       "        [-8.84379372e-02,  8.50667991e-03,  8.17874596e-02,\n",
       "          4.60708439e-02,  6.56512976e-02,  3.26717235e-02,\n",
       "         -1.40209317e-01, -1.97643880e-02, -3.13908700e-03,\n",
       "         -2.96551511e-02,  1.48259670e-01,  1.01206955e-02,\n",
       "          6.92240372e-02,  1.70040220e-01,  4.63915318e-02,\n",
       "         -7.66037032e-02,  1.00834742e-01,  1.18566095e-03,\n",
       "         -1.26014967e-02, -5.74170910e-02,  1.29940845e-02,\n",
       "         -4.21399809e-02,  1.61626898e-02, -7.07848091e-03,\n",
       "          1.01522714e-01,  1.72413245e-01, -3.68833281e-02,\n",
       "          4.30916958e-02,  7.30438083e-02,  1.04043953e-01],\n",
       "        [ 5.39222769e-02, -1.54773770e-02, -4.86814082e-02,\n",
       "         -5.47429733e-03,  2.76326146e-02,  1.88721061e-01,\n",
       "         -1.12206526e-01,  5.40497117e-02, -6.53026327e-02,\n",
       "          3.12374700e-02, -3.27884331e-02, -5.44603541e-02,\n",
       "          4.28460091e-02, -7.41937291e-03,  1.45198777e-01,\n",
       "          3.49832810e-02, -5.21705300e-02,  1.09034386e-02,\n",
       "         -1.73012763e-02, -1.36791185e-01,  1.01295061e-01,\n",
       "          1.00863278e-01, -1.48206607e-01,  8.11652020e-02,\n",
       "          1.86777133e-02, -1.54310102e-02,  7.08046034e-02,\n",
       "         -1.50212729e-02,  2.20221505e-02,  3.00631188e-02],\n",
       "        [ 1.20321751e+00,  1.72758102e-01, -8.59458894e-02,\n",
       "          2.10414457e+00, -9.28867459e-02,  5.19026145e-02,\n",
       "         -1.69634968e-02,  7.05769584e-02, -2.19631996e-02,\n",
       "          5.32129258e-02,  5.26725113e-01, -1.42232835e-01,\n",
       "         -6.15074150e-02,  1.51462650e+00,  1.16813205e-01,\n",
       "          2.75705513e-02,  1.40850532e+00, -1.19722813e-01,\n",
       "         -2.78046522e-02, -4.64101434e-02,  6.64089322e-02,\n",
       "          7.00694993e-02, -1.49591997e-01, -4.33571041e-02,\n",
       "          1.54554248e-01, -5.89565895e-02, -1.40144035e-01,\n",
       "         -1.04532576e+00,  1.20302510e+00,  1.79698388e-03],\n",
       "        [ 7.56512284e-01, -1.79030836e-01,  7.57168978e-02,\n",
       "          3.04663062e+00, -9.11725238e-02,  1.06220944e-02,\n",
       "          4.55446541e-02, -8.87899250e-02, -8.22182745e-02,\n",
       "          5.51595613e-02,  8.00526738e-01, -5.79812974e-02,\n",
       "          3.75163043e-03, -3.80956731e-03, -1.24206290e-01,\n",
       "          3.30298673e-03,  1.78797233e+00, -6.01427145e-02,\n",
       "         -5.29093780e-02,  9.50372741e-02,  9.31036621e-02,\n",
       "         -2.91985217e-02, -7.32760364e-03,  7.29786456e-02,\n",
       "          5.93708195e-02, -2.79022194e-02,  1.62706766e-02,\n",
       "         -9.98389959e-01, -1.95582688e+00, -4.83352281e-02],\n",
       "        [ 1.33361649e-02,  1.81579605e-01,  3.12386695e-02,\n",
       "         -1.64300308e-01, -2.98835523e-02,  9.80088860e-02,\n",
       "         -4.60476102e-03, -1.08845770e-01, -3.96618387e-03,\n",
       "          2.18129009e-02, -4.79108393e-02,  3.38606462e-02,\n",
       "          7.15547055e-02, -7.28328601e-02, -1.24910079e-01,\n",
       "          5.07936440e-02, -5.74030839e-02, -3.79105508e-02,\n",
       "         -1.07834950e-01,  6.36834055e-02,  3.23041454e-02,\n",
       "         -1.00222223e-01, -3.06922961e-02,  9.53117087e-02,\n",
       "          3.84116545e-02, -3.94258425e-02, -3.64334732e-02,\n",
       "          1.28877843e-02, -1.30221367e-01, -7.49546513e-02],\n",
       "        [ 4.55283634e-02, -3.30881737e-02,  2.82346755e-02,\n",
       "          5.39795831e-02,  5.05560003e-02, -6.46247566e-02,\n",
       "         -2.93015949e-02, -2.41450910e-02, -2.71863881e-02,\n",
       "          1.62023248e-03,  1.97371989e-01,  6.52059317e-02,\n",
       "          1.74731258e-02,  7.19126686e-02, -2.27007233e-02,\n",
       "          6.35536760e-02, -2.23709941e-02,  7.90507346e-02,\n",
       "         -9.16109309e-02,  7.91433007e-02, -8.82028192e-02,\n",
       "         -6.43732473e-02, -5.87277710e-02,  5.95631637e-02,\n",
       "         -3.76631618e-02,  1.45101575e-02,  3.09728761e-03,\n",
       "          5.23570888e-02,  1.23131257e-02, -3.04718129e-02],\n",
       "        [ 1.68941772e+00,  6.56652451e-01,  1.94851190e-01,\n",
       "         -4.89517033e-01, -4.91604842e-02, -1.29760072e-01,\n",
       "         -3.00844423e-02, -5.07336035e-02, -2.28311624e-02,\n",
       "         -5.99578246e-02, -1.32016420e-01,  3.69142182e-02,\n",
       "         -1.46759301e-01, -4.69432294e-01, -1.30228162e-01,\n",
       "          1.11374438e-01,  2.36439392e-01, -7.19900727e-02,\n",
       "         -1.42467534e-03,  1.68561060e-02, -6.98356479e-02,\n",
       "          9.27814320e-02,  4.84034456e-02,  8.55810568e-02,\n",
       "         -6.90747052e-02,  7.99308345e-02, -2.34872457e-02,\n",
       "          6.49579763e-01,  1.76919401e-01, -9.59584583e-03],\n",
       "        [-3.59405428e-02,  1.37143537e-01, -7.56840967e-03,\n",
       "         -2.58501321e-02, -2.00816542e-02, -1.43871056e-02,\n",
       "         -1.18618704e-01, -5.80819659e-02,  1.23705886e-01,\n",
       "          4.32963856e-02,  1.75332036e-02,  1.36883140e-01,\n",
       "         -4.09750082e-03,  1.33106574e-01, -7.44488277e-03,\n",
       "          1.32194415e-01,  5.63845336e-02, -2.84425430e-02,\n",
       "          2.96888389e-02,  1.88771207e-02, -2.19355151e-03,\n",
       "          8.68615955e-02,  4.68362048e-02,  1.06580861e-01,\n",
       "          9.80656743e-02,  3.52547914e-02,  3.21868844e-02,\n",
       "         -7.36075267e-02, -3.92802805e-02, -5.34557216e-02],\n",
       "        [ 1.19722508e-01, -2.75097996e-01,  4.59407903e-02,\n",
       "          2.61722088e+00,  1.19940199e-01,  3.44636552e-02,\n",
       "          7.73298591e-02,  9.07910764e-02,  6.59822077e-02,\n",
       "         -1.08310096e-02, -7.32078791e-01, -1.21962324e-01,\n",
       "          8.93664733e-02,  2.05497074e+00, -2.78378781e-02,\n",
       "          6.61390722e-02,  7.02987015e-02,  9.58332568e-02,\n",
       "         -6.28108308e-02, -3.73180918e-02, -9.55502242e-02,\n",
       "          4.27314825e-02, -3.91208641e-02,  9.73524433e-03,\n",
       "          1.82728202e-03, -8.63986835e-02,  6.65052310e-02,\n",
       "          6.15995347e-01,  9.75562692e-01,  7.35740289e-02],\n",
       "        [ 1.66476369e-01, -8.60328794e-01,  2.22843653e-03,\n",
       "         -1.41645241e+00, -4.06766646e-02, -4.24900241e-02,\n",
       "          7.20403418e-02,  1.90473087e-02,  1.52313158e-01,\n",
       "          6.17305823e-02,  1.24140859e+00, -2.77743429e-01,\n",
       "          1.49685293e-01, -9.63699147e-02, -4.71550375e-02,\n",
       "          2.07168255e-02, -2.97153807e+00, -2.01442819e-02,\n",
       "         -1.33525506e-01,  1.07512869e-01, -3.28595117e-02,\n",
       "          1.18352614e-01, -9.23693776e-02, -2.82077957e-02,\n",
       "          2.01961949e-01, -6.28771633e-02,  9.82625037e-02,\n",
       "         -6.03371859e-01, -7.27824211e-01,  2.08575930e-02],\n",
       "        [ 4.66442332e-02,  8.78086314e-02,  4.83088493e-02,\n",
       "         -1.06202915e-01,  1.38581684e-02,  1.02852555e-02,\n",
       "          8.32219720e-02,  1.17555261e-02, -5.28682880e-02,\n",
       "         -6.30759299e-02, -3.92478369e-02, -4.63757589e-02,\n",
       "         -1.35053019e-03, -4.81054001e-02, -2.67063100e-02,\n",
       "          3.04981414e-02, -1.07200891e-01, -4.94373515e-02,\n",
       "         -2.76121814e-02,  1.17722034e-01,  1.35218948e-01,\n",
       "         -5.14862873e-02,  5.51315174e-02, -3.35480552e-03,\n",
       "         -3.77465375e-02, -2.63279844e-02, -2.53766757e-02,\n",
       "          2.41606273e-02, -9.35043246e-02, -5.31419180e-02],\n",
       "        [-1.38561487e-01,  4.55845892e-02,  7.16207400e-02,\n",
       "          7.61642903e-02,  5.79266562e-05,  9.04680863e-02,\n",
       "         -2.61503384e-02, -1.07368417e-01,  3.90296765e-02,\n",
       "         -1.21104624e-02,  1.31388620e-01,  1.24719098e-01,\n",
       "         -7.12822676e-02,  2.78135777e-01, -4.30594757e-02,\n",
       "         -4.42764945e-02,  8.76677483e-02,  2.88296863e-02,\n",
       "         -5.63473292e-02, -7.58567378e-02, -1.23282624e-02,\n",
       "         -3.57122347e-03,  8.09574351e-02,  4.18417081e-02,\n",
       "          1.98977310e-02,  6.73304945e-02,  8.11711606e-03,\n",
       "          4.75791581e-02, -2.07997113e-02, -2.92921588e-02],\n",
       "        [-1.71226335e+00, -7.30743259e-02, -2.79849931e-03,\n",
       "         -4.31712806e-01, -1.34505883e-01, -5.74545637e-02,\n",
       "          1.60398290e-01, -4.62783650e-02, -4.79758643e-02,\n",
       "         -4.07114662e-02,  3.30103576e-01, -1.20579481e-01,\n",
       "         -9.11988765e-02,  7.30092451e-02, -2.12873109e-02,\n",
       "         -4.14714888e-02,  3.51513743e-01, -1.49536327e-01,\n",
       "         -1.40631437e-01,  1.01931915e-01,  1.48088917e-01,\n",
       "         -8.48052129e-02, -6.83860555e-02, -6.01127669e-02,\n",
       "          1.60048962e-01, -4.50818166e-02, -2.17742652e-01,\n",
       "          4.11443263e-01, -2.05904651e+00, -1.35330334e-01],\n",
       "        [ 2.10472509e-01, -1.22870231e+00,  1.44954130e-01,\n",
       "          1.04862225e+00, -1.19013362e-01, -1.31913396e-02,\n",
       "          5.61513612e-03,  1.42529979e-01, -1.63453221e-02,\n",
       "          1.65260434e-02, -1.22980773e-01,  8.26545432e-02,\n",
       "         -6.45622984e-02,  1.27199388e+00,  8.96638334e-02,\n",
       "         -1.15805119e-01, -4.29865509e-01,  5.15639260e-02,\n",
       "         -1.50255904e-01, -1.40849361e-02, -5.32241799e-02,\n",
       "          2.60174926e-02, -1.09788485e-01, -1.67685710e-02,\n",
       "         -1.08050637e-01,  1.02135256e-01, -1.70425065e-02,\n",
       "         -1.30022228e+00, -1.86023164e+00,  6.30742824e-03],\n",
       "        [-1.91788769e+00,  4.70392197e-01, -5.74594140e-02,\n",
       "          2.83679366e-01, -1.49161434e-02, -4.80105504e-02,\n",
       "         -1.45796994e-02,  1.96131226e-02, -6.73420578e-02,\n",
       "         -2.15783678e-02, -7.58633614e-01, -9.36619490e-02,\n",
       "         -4.59215865e-02, -2.93132126e-01,  2.02655382e-02,\n",
       "          6.47819117e-02,  5.73399723e-01, -8.75033513e-02,\n",
       "          7.42169842e-02, -8.40229392e-02, -1.18728578e-02,\n",
       "          5.63987158e-02,  1.00168595e-02, -5.34472428e-02,\n",
       "          1.01952016e-01, -1.38928175e-01, -1.15215443e-01,\n",
       "         -5.45392156e-01,  2.75191331e+00, -5.49017712e-02],\n",
       "        [-6.38644956e-03, -7.36523196e-02,  7.31060281e-02,\n",
       "         -4.13674340e-02, -1.29925624e-01, -4.38792072e-02,\n",
       "          4.92192470e-02,  1.59737412e-02,  7.20026270e-02,\n",
       "          2.45033130e-02, -3.28366794e-02, -2.22490355e-01,\n",
       "         -1.15221880e-01,  1.00398302e-01,  1.80779785e-01,\n",
       "          5.09561226e-02,  9.82561931e-02, -9.92432237e-03,\n",
       "         -7.13333264e-02,  8.30558017e-02,  1.63030621e-04,\n",
       "         -6.76570982e-02, -9.21228006e-02, -1.04109989e-02,\n",
       "          4.76479456e-02, -1.88754015e-02,  8.88460129e-02,\n",
       "         -8.30373615e-02,  1.19062640e-01,  2.18604356e-02],\n",
       "        [-4.98136431e-02, -8.87682438e-02, -7.82887824e-03,\n",
       "         -4.32454646e-02, -1.08470269e-01,  8.44640750e-03,\n",
       "         -1.35140017e-01,  3.12239379e-02,  1.32862285e-01,\n",
       "         -6.83687627e-03,  7.70023614e-02,  2.54922509e-02,\n",
       "          1.01036772e-01,  1.55526116e-01, -4.72824983e-02,\n",
       "          3.91554832e-02,  4.46943427e-03,  4.47796322e-02,\n",
       "         -1.24175861e-01,  8.98520276e-02, -2.12110430e-02,\n",
       "          6.84041530e-02,  4.63410094e-02,  9.42198001e-03,\n",
       "         -2.80946232e-02, -4.93301153e-02, -8.86608958e-02,\n",
       "         -3.74777662e-03,  1.25726581e-01,  5.93654299e-03],\n",
       "        [ 1.03054494e-01, -8.62585939e-03, -6.73079714e-02,\n",
       "         -7.41970837e-02,  5.56405000e-02, -5.13839275e-02,\n",
       "          1.69466510e-01, -1.22003451e-01, -1.85280219e-01,\n",
       "         -8.00144821e-02,  5.64646944e-02, -5.89752458e-02,\n",
       "          9.22642052e-02, -4.13651429e-02, -1.38214663e-01,\n",
       "          1.09133117e-01, -3.61139476e-02, -1.46164605e-02,\n",
       "          5.68443909e-03,  2.70282179e-02, -4.29622754e-02,\n",
       "         -2.23242259e-03, -9.40308198e-02, -6.19952753e-03,\n",
       "         -3.67310233e-02, -5.70101775e-02, -3.79754007e-02,\n",
       "          8.58223811e-03,  3.16918157e-02,  9.58947837e-02],\n",
       "        [-6.52317703e-01,  8.19128335e-01,  4.82638143e-02,\n",
       "          5.75846076e-01, -3.22507247e-02,  1.19491681e-01,\n",
       "         -8.22731555e-02, -4.47640829e-02,  7.24718124e-02,\n",
       "         -1.55497402e-01, -1.75778246e+00, -6.93246722e-02,\n",
       "          8.01819637e-02, -2.74118924e+00, -2.80064195e-02,\n",
       "          2.95676664e-02, -1.84722602e+00, -2.83176787e-02,\n",
       "         -4.00783084e-02,  7.17178583e-02,  7.23043233e-02,\n",
       "          4.30682302e-02,  2.72926297e-02,  5.90629242e-02,\n",
       "          5.34680635e-02,  1.16411589e-01, -6.25263946e-03,\n",
       "          1.10977912e+00,  1.93124259e+00,  1.41279353e-02],\n",
       "        [-7.17179179e-01,  3.66599113e-01, -8.72439072e-02,\n",
       "         -8.94431770e-01, -5.27348481e-02,  8.34929198e-02,\n",
       "         -4.22628503e-03,  1.37994871e-01, -7.63537437e-02,\n",
       "          6.95629492e-02,  2.35284254e-01, -9.51867253e-02,\n",
       "          1.21845372e-01, -6.04963712e-02,  6.66019395e-02,\n",
       "         -9.30985287e-02,  9.61564660e-01, -4.71860506e-02,\n",
       "         -7.67071992e-02, -3.27813961e-02,  1.53951839e-01,\n",
       "         -1.89657807e-02, -3.96163054e-02,  9.39923376e-02,\n",
       "          7.86723793e-02, -7.41438046e-02, -5.34299463e-02,\n",
       "         -6.70449078e-01, -6.72523856e-01, -3.00011784e-02],\n",
       "        [-1.31010532e+00, -8.68811011e-02, -4.57256436e-02,\n",
       "          6.81999147e-01, -3.91397625e-02,  1.94188934e-02,\n",
       "          9.59244221e-02, -2.05764607e-01, -1.46166027e-01,\n",
       "          1.89062595e-01, -1.66590706e-01, -5.04615232e-02,\n",
       "         -2.08139926e-01,  1.60210162e-01, -5.91006093e-02,\n",
       "         -4.42580291e-04, -9.61963832e-01, -1.70416251e-01,\n",
       "          4.65352014e-02,  1.15024783e-01,  1.08330682e-01,\n",
       "         -1.83744449e-02, -8.06536153e-02, -9.12946016e-02,\n",
       "          6.70775324e-02, -2.51059234e-01, -1.63108762e-02,\n",
       "          8.06956947e-01,  4.91544038e-01,  5.74069805e-02],\n",
       "        [-7.87844479e-01,  1.79886594e-02, -2.99996957e-02,\n",
       "          4.35573786e-01,  8.96924660e-02, -6.62830546e-02,\n",
       "          1.61915049e-01, -8.34866241e-02, -1.11970818e-02,\n",
       "         -3.66357379e-02,  1.00258636e+00, -9.42117870e-02,\n",
       "          7.91477710e-02, -3.16854453e+00, -2.25883797e-01,\n",
       "          1.39924571e-01,  1.68874525e-02,  8.37918296e-02,\n",
       "          5.79656884e-02, -4.09478620e-02,  4.44450788e-03,\n",
       "         -7.52482116e-02, -5.44496775e-02, -1.85566638e-02,\n",
       "          2.79101022e-02, -6.09335937e-02,  8.63481127e-03,\n",
       "         -2.23059077e-02, -7.05886304e-01, -9.32633281e-02]], dtype=float32),\n",
       " array([ 0.2276637 , -0.7398069 ,  0.12140618,  3.7254462 , -0.08631338,\n",
       "        -0.07849813,  0.04598436, -0.14734581,  0.04070014,  0.04828682,\n",
       "         4.351533  , -0.13957685,  0.01523748,  3.7955825 , -0.09790113,\n",
       "         0.04682457,  0.2188434 , -0.0570315 , -0.10606885,  0.14390847,\n",
       "        -0.04232467,  0.17692097, -0.01308262,  0.03896441,  0.06389225,\n",
       "        -0.06651826,  0.13340358, -3.3969858 ,  0.8589382 ,  0.0654908 ],\n",
       "       dtype=float32),\n",
       " array([[ 4.57614869e-01,  2.71769185e-02, -7.45045692e-02,\n",
       "          3.40028591e-02,  1.08969048e-01,  9.44322422e-02,\n",
       "          2.65698612e-01, -1.65819466e-01, -1.84814613e-02,\n",
       "         -1.27946865e-03,  5.27685210e-02, -1.29471570e-01,\n",
       "         -2.64722139e-01,  3.93677205e-01, -7.01202005e-02,\n",
       "         -1.14297070e-01, -3.69924214e-03, -4.63828474e-01,\n",
       "         -1.03584997e-01,  3.60552967e-02, -1.76872790e-01,\n",
       "          1.91130489e-02, -1.30155861e-01,  1.59094736e-01,\n",
       "          9.35547426e-02,  5.72507828e-03, -2.20392197e-02,\n",
       "         -4.30042222e-02,  3.26895178e-03,  1.59830689e-01],\n",
       "        [ 4.24512655e-01,  6.60831785e+00,  3.99448657e+00,\n",
       "          5.59247360e-02, -5.23300111e-01,  6.27443865e-02,\n",
       "         -1.96135259e+00, -8.26674521e-01, -8.06404948e-01,\n",
       "          2.66886890e-01,  4.22660923e+00, -1.27518308e+00,\n",
       "         -1.84494305e+00,  4.29268408e+00,  4.83171549e-04,\n",
       "          7.52300799e-01, -2.58166879e-01, -2.87167907e+00,\n",
       "         -3.83210635e+00,  5.86289644e-01, -4.32090670e-01,\n",
       "         -4.18492332e-02, -1.42697856e-01,  6.70800781e+00,\n",
       "         -1.15665472e+00,  3.89770341e+00, -1.00806877e-01,\n",
       "          3.96208477e+00, -1.40129066e+00, -1.66127294e-01],\n",
       "        [-1.60887808e-01, -7.32383668e-01,  1.66921109e-01,\n",
       "         -4.99803066e+00,  7.29854167e-01,  1.87287152e-01,\n",
       "         -3.77817392e-01,  5.83296418e-01,  5.29739857e-01,\n",
       "         -6.38279319e-02, -1.31800461e+00, -5.68540618e-02,\n",
       "         -1.44364476e+00, -9.59344134e-02,  9.04686190e-03,\n",
       "         -4.05505657e-01,  4.93559614e-02,  2.23623443e+00,\n",
       "          7.29239404e-01, -2.33123340e-02, -2.92557693e+00,\n",
       "         -8.74897763e-02, -1.03663993e+00, -4.71990108e-01,\n",
       "          7.47341692e-01,  2.99082622e-02, -5.79945087e-01,\n",
       "         -5.96216559e-01, -1.06029606e+00, -4.06689286e-01],\n",
       "        [ 1.73583291e-02,  2.53390580e-01,  1.86354446e+00,\n",
       "         -1.10221469e+00, -4.11822271e+00, -3.66257340e-01,\n",
       "         -1.43152201e+00,  8.97043610e+00,  3.83660346e-01,\n",
       "          3.56316984e-01, -3.49054545e-01, -4.61187935e+00,\n",
       "         -5.98138869e-01, -4.63814449e+00,  4.23186837e-04,\n",
       "         -6.39010286e+00, -6.38188076e+00, -2.13266897e+00,\n",
       "          1.08558440e+00, -7.51168585e+00,  1.41237748e+00,\n",
       "         -5.11172153e-02,  4.86604548e+00, -3.28102970e+00,\n",
       "         -9.28525567e-01, -3.04566002e+00,  1.59759486e+00,\n",
       "         -3.49535036e+00, -2.11971402e+00,  4.51976633e+00],\n",
       "        [-8.48092064e-02,  1.58445723e-02,  4.59081858e-01,\n",
       "         -1.59228891e-01,  1.08600283e+00, -3.20462728e+00,\n",
       "          1.02230728e+00,  2.21422926e-01, -5.56207597e-01,\n",
       "          2.85239011e-01,  1.54577637e+00, -5.08232862e-02,\n",
       "          5.64295888e-01,  1.89136758e-01, -6.73064142e-02,\n",
       "          6.13398433e-01, -1.64509147e-01,  7.56287754e-01,\n",
       "          8.10573518e-01, -3.11643511e-01,  8.74336004e-01,\n",
       "         -1.70509353e-01, -1.80742872e+00,  2.25827008e-01,\n",
       "         -2.37388325e+00,  5.35132438e-02,  2.21794238e-03,\n",
       "          5.95818520e-01,  8.17253172e-01, -6.22506917e-01],\n",
       "        [ 1.70476958e-02, -1.13748372e+00,  1.09876186e-01,\n",
       "         -9.39841047e-02,  1.60830438e+00, -7.63037875e-02,\n",
       "          1.84266937e+00,  4.85359251e-01,  2.73314095e+00,\n",
       "         -3.44339824e+00, -1.38621402e+00, -1.12424362e+00,\n",
       "         -2.37903261e+00, -6.83358967e-01,  6.25925958e-02,\n",
       "          2.21798360e-01, -1.08298302e+00,  1.18515348e+00,\n",
       "          1.18518364e+00,  1.49847940e-01, -5.49674630e-01,\n",
       "          5.34542418e+00,  1.55187845e+00, -1.19622779e+00,\n",
       "         -5.77715814e-01, -1.91150522e+00, -1.59838545e+00,\n",
       "         -5.67341089e-01,  9.21440482e-01, -4.73706293e+00]], dtype=float32),\n",
       " array([-0.11283612,  2.7656755 , -3.5675716 , -4.50081   ,  3.0463912 ,\n",
       "        -3.7869084 , -0.57430005,  6.3246403 , -0.6757376 , -1.1627618 ,\n",
       "         0.6673088 , -1.4296408 ,  6.21981   ,  4.2731304 , -0.03364692,\n",
       "        -6.7022486 , -6.258936  , -4.1043997 ,  1.2090886 , -6.9095063 ,\n",
       "         2.3239744 ,  5.031442  ,  0.5897885 ,  5.787109  ,  2.5803514 ,\n",
       "         2.5661013 ,  1.2068876 , -2.4541206 ,  2.5044644 , -3.8028502 ],\n",
       "       dtype=float32),\n",
       " array([[ 7.15301558e-02],\n",
       "        [-8.80574994e-03],\n",
       "        [ 2.33401242e-03],\n",
       "        [-8.09291452e-02],\n",
       "        [ 6.80632191e-04],\n",
       "        [ 7.47922435e-03],\n",
       "        [-5.74591383e-03],\n",
       "        [-3.90501169e-04],\n",
       "        [-2.66240002e-03],\n",
       "        [-1.71907190e-02],\n",
       "        [ 9.41921249e-02],\n",
       "        [ 5.70905069e-03],\n",
       "        [ 9.27095860e-03],\n",
       "        [-8.80541578e-02],\n",
       "        [-4.08833474e-03],\n",
       "        [-7.07022566e-03],\n",
       "        [ 6.38973340e-02],\n",
       "        [ 7.00683659e-03],\n",
       "        [-5.80462115e-03],\n",
       "        [-5.57472013e-05],\n",
       "        [ 1.81044526e-02],\n",
       "        [-9.05218162e-03],\n",
       "        [ 7.64417462e-03],\n",
       "        [ 3.12946853e-03],\n",
       "        [-3.02426936e-03],\n",
       "        [ 1.36967255e-02],\n",
       "        [-1.72119327e-02],\n",
       "        [-9.07662138e-02],\n",
       "        [-6.30042478e-02],\n",
       "        [-7.76550174e-03]], dtype=float32),\n",
       " array([-0.24771932], dtype=float32),\n",
       " array([[-5.68312347e-01,  3.57914299e-01,  1.72880143e-02,\n",
       "         -7.32315928e-02, -3.43781680e-01, -4.43979830e-01,\n",
       "          1.52603075e-01, -1.37115315e-01,  7.06543550e-02,\n",
       "          2.61217833e-01, -2.50337183e-01, -1.54730082e-01,\n",
       "         -4.20347422e-01, -7.93967023e-02, -8.45670938e-01,\n",
       "         -2.87425786e-01,  1.68409094e-01, -2.48109609e-01,\n",
       "         -4.95821595e-01, -5.41172288e-02,  4.97225553e-01,\n",
       "          1.42961085e-01,  2.33626395e-01, -2.51788408e-01,\n",
       "         -2.91717082e-01, -2.03115597e-01,  1.52308598e-01,\n",
       "         -2.96530008e-01,  2.02168107e-01,  3.48472297e-02],\n",
       "        [ 6.21120453e-01, -1.48003399e-01,  2.74883479e-01,\n",
       "          2.00942174e-01,  3.75570580e-02, -8.67186487e-01,\n",
       "          1.49855268e+00, -7.27785170e-01,  8.91684890e-02,\n",
       "          1.10879982e+00,  5.85829318e-01, -6.80518597e-02,\n",
       "         -1.73531830e-01, -1.98359561e+00, -1.75613832e+00,\n",
       "          3.90707374e-01, -1.56149411e+00,  7.54090428e-01,\n",
       "          2.76613379e+00, -1.57372445e-01, -6.87095523e-01,\n",
       "          1.09479845e+00,  7.49468133e-02, -3.93817276e-01,\n",
       "         -3.10406033e-02,  1.40210640e+00, -6.74194023e-02,\n",
       "          8.27223003e-01,  1.42292547e+00,  2.62025803e-01],\n",
       "        [-1.23366547e+00,  2.19113246e-01, -4.01416808e-01,\n",
       "         -3.95716667e-01, -3.99511695e-01, -1.00521542e-01,\n",
       "          1.13152587e+00,  2.49129422e-02,  2.18816306e-02,\n",
       "          1.45411849e+00,  2.21717882e+00, -2.42491913e+00,\n",
       "          7.14414716e-01,  2.88518405e+00, -8.85589659e-01,\n",
       "         -2.38554096e+00,  2.26409122e-01,  1.38982654e+00,\n",
       "          1.10084057e+00,  1.52151155e+00,  1.30889928e+00,\n",
       "          1.67145479e+00, -1.30649567e-01, -8.10731113e-01,\n",
       "          1.67002439e+00, -2.09972277e-01,  6.44074380e-02,\n",
       "         -6.93479955e-01,  9.38145995e-01,  2.79927301e+00],\n",
       "        [ 2.83359313e+00,  6.80701509e-02,  2.63794112e+00,\n",
       "          1.73586100e-01,  1.34822041e-01,  1.98876262e+00,\n",
       "         -3.28120780e+00,  3.52771974e+00,  7.67696574e-02,\n",
       "          5.25507152e-01,  4.76392567e-01, -1.47139156e+00,\n",
       "         -1.22412157e+00, -1.36507106e+00, -5.94824433e-01,\n",
       "         -2.60191679e+00, -4.27414417e+00,  2.67368507e+00,\n",
       "         -3.39211154e+00, -1.52045953e+00,  2.96185446e+00,\n",
       "         -3.70347708e-01, -3.07757705e-01, -2.99292803e+00,\n",
       "         -4.39312845e-01,  1.52593935e+00,  6.19170330e-02,\n",
       "         -2.57150006e+00,  4.55780554e+00, -2.55567670e+00],\n",
       "        [ 8.39271724e-01,  1.66364238e-02,  1.04553390e+00,\n",
       "         -8.37642774e-02,  2.74191070e+00,  2.61006653e-01,\n",
       "         -5.82764268e-01, -6.84737742e-01, -1.51411518e-01,\n",
       "          2.39863944e+00, -8.95474628e-02, -6.52854860e-01,\n",
       "          7.53945932e-02, -1.41209388e+00, -2.56714165e-01,\n",
       "         -7.94564426e-01,  8.44006985e-02,  3.34693611e-01,\n",
       "          2.15475035e+00, -1.22057569e+00,  1.03566158e+00,\n",
       "          8.03599581e-02, -6.68115318e-02, -1.55458379e+00,\n",
       "         -1.29232824e+00, -6.17999583e-02, -1.28908698e-02,\n",
       "         -1.23446763e+00,  1.01474643e+00, -1.04011166e+00],\n",
       "        [ 4.33601141e-01,  6.67258561e-01, -8.65022779e-01,\n",
       "          1.13139153e-01, -1.41869605e+00, -8.17684233e-01,\n",
       "          1.47024512e+00, -4.74145450e-02, -4.43758518e-01,\n",
       "         -6.76547587e-01, -5.28565980e-02,  3.06743115e-01,\n",
       "         -8.00553739e-01,  9.68251050e-01, -9.77024734e-01,\n",
       "          1.43356204e-01,  2.03724504e+00, -9.35019255e-01,\n",
       "          1.82678699e+00,  2.56366551e-01, -2.35170126e+00,\n",
       "          1.98615491e+00,  3.39499831e-01,  1.02436975e-01,\n",
       "          1.55018985e+00, -9.83311892e-01, -7.60067642e-01,\n",
       "          3.43166769e-01, -1.71018755e+00, -3.82371545e-02],\n",
       "        [ 1.63094640e+00,  3.40525776e-01, -9.57561493e-01,\n",
       "          3.78361009e-02,  4.46853727e-01, -1.05890952e-01,\n",
       "         -3.94276351e-01,  1.28059477e-01,  2.86915898e-02,\n",
       "         -2.00511456e+00, -7.85425663e-01,  6.73567414e-01,\n",
       "          6.38464570e-01, -6.47938848e-01,  1.40204132e+00,\n",
       "          6.71743035e-01,  2.21084401e-01, -7.18051970e-01,\n",
       "         -2.01558918e-01, -1.24849252e-01, -9.89858329e-01,\n",
       "          1.35252297e-01,  1.97625402e-02,  1.20926058e+00,\n",
       "          2.16819453e+00, -9.93905604e-01, -1.42393559e-01,\n",
       "          2.26207709e+00, -2.00843215e+00,  3.50619331e-02],\n",
       "        [ 1.38798702e+00, -2.49135688e-01, -1.56712198e+00,\n",
       "          2.14420594e-02, -1.07782102e+00, -1.25484729e+00,\n",
       "          1.19491529e+00, -2.04307422e-01,  3.64789478e-02,\n",
       "         -1.30845532e-01,  5.35273170e+00, -9.74974632e-02,\n",
       "          1.05448258e+00,  2.27270603e-01,  6.11645460e-01,\n",
       "          2.44521856e+00,  9.25361589e-02,  2.26150656e+00,\n",
       "          1.60974070e-01,  7.61596143e-01,  1.74780023e+00,\n",
       "         -7.92780593e-02, -2.72343487e-01,  1.45170689e+00,\n",
       "         -4.41514254e-01,  6.17452562e-01,  5.69072105e-02,\n",
       "          3.91882151e-01, -1.71714962e+00, -2.96623915e-01],\n",
       "        [-4.00997192e-01, -3.53597581e-01, -2.54616797e-01,\n",
       "         -1.51702692e-03, -2.09562922e+00,  2.90202796e-01,\n",
       "         -4.47083294e-01, -8.96752179e-01,  1.99944317e-01,\n",
       "          1.26762235e+00,  4.72663669e-03,  3.45793486e+00,\n",
       "         -5.23599803e-01,  4.17415500e-01,  6.83209360e-01,\n",
       "          1.01323217e-01, -3.20743412e-01, -1.02878618e+00,\n",
       "          5.01970768e-01, -3.82066548e-01, -1.86529949e-01,\n",
       "         -2.58545786e-01,  1.96922362e-01,  9.74302411e-01,\n",
       "          1.75801587e+00, -7.00561941e-01,  1.78836137e-01,\n",
       "         -7.62507737e-01, -4.21305060e-01, -1.81079280e+00],\n",
       "        [ 1.20835960e+00, -6.25199527e-02,  7.84030914e-01,\n",
       "          1.91040233e-01, -1.71677458e+00, -3.46000552e-01,\n",
       "          2.12193385e-01,  1.31367195e+00, -1.66350603e-01,\n",
       "         -3.11453491e-01,  1.39105880e+00, -1.39841783e+00,\n",
       "         -5.65950930e-01, -1.22453594e+00, -6.75835788e-01,\n",
       "          1.65127832e-02, -1.83575428e+00,  1.59373093e+00,\n",
       "         -1.21564102e+00, -2.03514889e-01,  8.90181780e-01,\n",
       "         -2.42804766e+00,  4.09886807e-01, -7.94878125e-01,\n",
       "         -1.41727731e-01,  1.44128942e+00,  1.33763656e-01,\n",
       "         -8.92867625e-01,  8.90806139e-01, -6.37344897e-01],\n",
       "        [ 1.20699868e-01, -2.05211356e-01, -1.92907119e+00,\n",
       "          2.02850670e-01,  2.48565584e-01,  4.52764809e-01,\n",
       "          2.31637537e-01,  1.12102211e+00,  1.63424149e-01,\n",
       "         -4.43779111e-01,  4.90226090e-01,  1.12658754e-01,\n",
       "         -9.98566985e-01, -4.55142818e-02, -1.61368847e-01,\n",
       "          6.45034313e-02, -1.12974012e+00, -5.51666439e-01,\n",
       "          1.96038306e+00, -4.33453888e-01,  1.11409974e+00,\n",
       "          1.65444106e-01,  5.57263076e-01, -3.15733981e+00,\n",
       "         -9.27633166e-01,  2.40065977e-01, -3.84043336e-01,\n",
       "          1.26909411e+00,  8.46179366e-01, -6.41788661e-01],\n",
       "        [-1.10541570e+00, -9.19946581e-02, -1.71890184e-01,\n",
       "         -3.23982030e-01, -6.03886724e-01,  1.50512552e+00,\n",
       "          5.67259729e-01, -1.65616751e+00, -2.73179829e-01,\n",
       "          2.36590624e+00, -1.40133214e+00,  2.23168540e+00,\n",
       "          3.78562540e-01,  1.27710724e+00,  5.24744630e-01,\n",
       "          9.62715924e-01,  9.45796251e-01,  6.14504330e-02,\n",
       "          2.25765333e-01, -1.55781209e-01, -7.41563201e-01,\n",
       "         -4.75954354e-01, -7.75351077e-02,  6.56398833e-01,\n",
       "          7.12308586e-01, -5.77253461e-01,  1.93855673e-01,\n",
       "          4.96543556e-01,  1.68952942e-01,  2.35621381e+00],\n",
       "        [-2.69461215e-01,  1.00132763e-01, -2.91516066e+00,\n",
       "          2.20445722e-01,  4.13661480e-01,  2.41629645e-01,\n",
       "          1.06556582e+00,  1.34114906e-01, -3.40730757e-01,\n",
       "         -1.09190273e+00, -4.38632399e-01,  1.39898562e+00,\n",
       "          9.97592628e-01, -7.16362774e-01,  1.23217501e-01,\n",
       "         -9.11647141e-01,  5.12185931e-01, -4.99174803e-01,\n",
       "         -2.16780424e+00, -3.88486087e-01, -4.48422015e-01,\n",
       "          1.66581929e-01, -1.99481413e-01,  1.17219710e+00,\n",
       "         -4.34845001e-01, -3.49472642e-01, -1.77430771e-02,\n",
       "         -1.35761809e+00, -3.09339643e-01, -6.22109354e-01],\n",
       "        [-9.37035322e-01,  1.47229791e-01,  1.24113810e+00,\n",
       "         -5.84916994e-02,  2.86446303e-01,  6.03644550e-01,\n",
       "         -7.81411350e-01,  1.24623895e+00, -1.44759521e-01,\n",
       "          4.51059714e-02, -9.22696650e-01, -9.80608702e-01,\n",
       "          3.91859524e-02, -1.17725444e+00, -4.98321712e-01,\n",
       "         -6.10577345e-01, -1.65944338e+00,  2.08381796e+00,\n",
       "          1.14538276e+00, -8.27545941e-01,  1.76284349e+00,\n",
       "         -2.25038266e+00,  4.62803431e-02, -5.38560510e-01,\n",
       "         -1.90601277e+00,  1.65384007e+00,  1.23265041e-02,\n",
       "          8.85127246e-01,  1.63260126e+00, -7.49430597e-01],\n",
       "        [-3.78782935e-02, -2.43106097e-01,  4.07202691e-02,\n",
       "         -1.36999205e-01, -1.47161573e-01,  1.14890430e-02,\n",
       "         -4.52470966e-02, -3.54125649e-02,  1.05476215e-01,\n",
       "         -9.71970856e-02,  1.08392186e-01,  2.15622410e-01,\n",
       "         -1.17706843e-02, -3.65713201e-02, -6.64771125e-02,\n",
       "         -1.26928449e-01,  8.46665427e-02, -1.21000208e-01,\n",
       "         -3.52223516e-02, -1.00374352e-02, -5.75796366e-02,\n",
       "         -1.37944100e-02, -1.12078905e-01, -1.04506962e-01,\n",
       "          7.33004138e-03,  7.62583390e-02, -5.88547811e-02,\n",
       "          1.80454940e-01, -6.48861974e-02, -7.10792094e-02],\n",
       "        [-9.44474757e-01, -1.43288478e-01, -2.82161504e-01,\n",
       "          2.04889774e-01, -1.35198057e+00,  4.83885348e-01,\n",
       "         -1.57680655e+00,  1.06055331e+00,  1.29138231e-01,\n",
       "          5.35165071e-02,  2.53223538e+00, -7.64464498e-01,\n",
       "          2.82385886e-01,  2.87315965e+00, -5.03494203e-01,\n",
       "          2.91235948e+00,  9.46619511e-02,  1.54028440e+00,\n",
       "         -2.00520866e-02,  2.07483506e+00,  1.85467756e+00,\n",
       "         -2.53451490e+00,  1.79434285e-01, -1.76669323e+00,\n",
       "          1.37762293e-01,  5.36308885e-01, -3.56995426e-02,\n",
       "          1.86382663e+00,  4.07795429e-01,  3.14996529e+00],\n",
       "        [ 1.41184855e+00, -2.28804782e-01,  6.84606358e-02,\n",
       "          6.00947626e-02,  2.89109230e-01,  1.56333017e+00,\n",
       "         -2.41440105e+00,  7.98420370e-01, -7.50574544e-02,\n",
       "         -7.59521276e-02, -1.30959702e+00, -4.89051372e-01,\n",
       "          1.70876884e+00,  2.54915166e+00,  4.54102755e-02,\n",
       "          2.40892959e+00, -1.54677200e+00,  3.87304932e-01,\n",
       "         -6.09006166e-01, -3.15088034e+00,  7.22610176e-01,\n",
       "          4.35479254e-01,  1.34266719e-01,  2.47503802e-01,\n",
       "          1.38318694e+00, -1.70379341e+00, -2.37201571e-01,\n",
       "         -1.03256762e+00,  6.50425851e-01,  8.40163350e-01],\n",
       "        [ 6.88473582e-01, -3.35501470e-02,  8.32471848e-01,\n",
       "          5.96203327e-01, -1.74395174e-01,  7.77720094e-01,\n",
       "         -5.15947580e-01, -7.92320669e-01,  2.32020944e-01,\n",
       "         -6.65344417e-01, -1.58434540e-01, -3.91649067e-01,\n",
       "          3.05227339e-01, -2.98983514e-01, -2.95841694e-01,\n",
       "          6.53040186e-02,  4.90231961e-01, -6.20804131e-01,\n",
       "         -1.09198737e+00,  2.79771358e-01, -4.00227249e-01,\n",
       "          6.10070407e-01, -1.21155344e-01,  1.31598258e+00,\n",
       "         -1.02250540e+00,  1.83748007e-01, -5.43226540e-01,\n",
       "          1.59172088e-01, -1.31299114e+00,  3.61468554e-01],\n",
       "        [ 4.21383053e-01,  1.61677316e-01, -5.78907728e-01,\n",
       "          3.44854482e-02, -2.15173334e-01, -9.28988159e-01,\n",
       "         -3.65341455e-01, -1.28815448e+00,  1.52519286e-01,\n",
       "          4.32183117e-01, -2.94726205e+00,  3.64038408e-01,\n",
       "          1.37320316e+00, -1.69496119e-01,  6.82776868e-01,\n",
       "         -4.98806573e-02,  3.49783413e-02, -1.00090575e+00,\n",
       "         -2.72959679e-01, -1.46309838e-01,  1.75456494e-01,\n",
       "          1.54484427e+00,  5.91202736e-01, -6.44527316e-01,\n",
       "          8.45952705e-02,  8.13000143e-01, -6.25743270e-01,\n",
       "         -4.65800315e-01, -2.39574522e-01,  1.89800784e-01],\n",
       "        [ 1.92357409e+00,  5.83838411e-02, -5.00138283e-01,\n",
       "          1.28485356e-02, -6.89091384e-02,  2.94634390e+00,\n",
       "         -4.03163481e+00,  1.09300852e+00,  2.11608107e-03,\n",
       "         -7.32365429e-01,  6.59451604e-01, -2.13837504e-01,\n",
       "         -7.63097346e-01,  1.03452945e+00, -1.74517238e+00,\n",
       "         -2.93370199e+00, -6.43893421e-01, -1.05009049e-01,\n",
       "         -1.11831343e+00,  2.81893730e+00, -8.30579251e-02,\n",
       "         -9.18670595e-01, -2.74884216e-02, -2.48313355e+00,\n",
       "          3.77243310e-01,  9.33210075e-01, -2.55110115e-02,\n",
       "         -2.03926861e-02,  1.16227901e+00,  7.37160087e-01],\n",
       "        [ 2.44608355e+00, -1.97830066e-01,  1.14369273e+00,\n",
       "          8.78176913e-02,  1.90183185e-02, -8.78673911e-01,\n",
       "          1.10283053e+00,  5.10029554e-01, -3.26309353e-01,\n",
       "          7.66870752e-02,  1.01672024e-01,  1.43084872e+00,\n",
       "         -1.74444652e+00, -1.48274803e+00,  4.92117882e-01,\n",
       "         -1.88856453e-01, -3.11735702e+00,  4.66533870e-01,\n",
       "         -1.58010030e+00, -3.67355235e-02,  2.05888808e-01,\n",
       "          1.42521143e+00,  7.42396936e-02, -4.96332318e-01,\n",
       "         -5.75249135e-01,  4.08716947e-01, -2.89555192e-01,\n",
       "          1.98359460e-01, -8.02582860e-01, -2.58991718e+00],\n",
       "        [-2.19325995e+00, -8.17859173e-02, -1.46706432e-01,\n",
       "         -9.79493633e-02,  4.87431622e+00, -3.92518044e-01,\n",
       "         -1.04811758e-01, -2.19863439e+00, -2.46912986e-02,\n",
       "         -4.39219952e-01, -9.54012513e-01,  1.42178226e+00,\n",
       "          1.17602181e+00,  4.74842131e-01,  2.58350521e-01,\n",
       "          2.61289269e-01,  3.69367456e+00, -3.53346467e-02,\n",
       "         -2.58988291e-01, -3.48414397e+00,  4.37013209e-01,\n",
       "          1.21439528e-02, -2.20236614e-01,  1.55348802e+00,\n",
       "          2.22325706e+00, -3.06045485e+00, -9.50083509e-02,\n",
       "          2.21426105e+00, -7.49778628e-01,  1.33000815e+00],\n",
       "        [ 4.21519071e-01,  1.94553304e-02,  3.47188354e-01,\n",
       "          1.73807472e-01, -1.22180617e+00, -8.44655573e-01,\n",
       "         -5.62231779e-01, -1.23387285e-01,  1.77212149e-01,\n",
       "         -5.18552840e-01,  2.12253198e-01, -9.56561387e-01,\n",
       "         -9.07188356e-01, -2.02515155e-01,  4.52820182e-01,\n",
       "         -2.32920930e-01, -1.60796487e+00,  9.15684402e-01,\n",
       "         -5.46253502e-01, -4.83438641e-01,  3.93391699e-01,\n",
       "         -6.56761646e-01,  2.83218473e-01,  5.58931768e-01,\n",
       "          1.22891568e-01,  3.82304162e-01, -5.53329550e-02,\n",
       "          2.53795767e+00, -7.91453779e-01,  7.78228864e-02],\n",
       "        [-2.42130399e+00,  1.95161149e-01,  2.17623830e+00,\n",
       "          4.57521193e-02, -2.06043935e+00,  2.10136199e+00,\n",
       "         -1.60382402e+00,  7.79191375e-01, -8.30593631e-02,\n",
       "          2.62128901e+00, -3.05543870e-01, -6.82413042e-01,\n",
       "          3.20251673e-01,  5.48718154e-01, -7.66730309e-01,\n",
       "          1.64284217e+00, -3.77161294e-01,  9.29670930e-01,\n",
       "          5.65603256e-01,  7.29622304e-01,  1.72824717e+00,\n",
       "          1.07808612e-01,  3.28835957e-02,  2.99034655e-01,\n",
       "         -2.73630714e+00,  1.74059856e+00, -1.34364128e-01,\n",
       "          1.58581889e+00,  8.09882641e-01, -8.59865546e-01],\n",
       "        [ 1.29884171e+00, -2.47078091e-01,  1.31934690e+00,\n",
       "         -3.54797095e-01, -8.09643984e-01, -8.03772092e-01,\n",
       "          1.09134746e+00,  4.54697043e-01,  5.77290595e-01,\n",
       "          5.21829963e-01, -9.11693871e-01, -1.55300415e+00,\n",
       "          5.27466297e-01, -6.79422617e-02, -6.03238761e-01,\n",
       "         -8.82018268e-01, -1.94760752e+00,  8.98217976e-01,\n",
       "         -1.95286119e+00, -2.71476269e-01,  1.65397570e-01,\n",
       "         -1.65627325e+00, -1.91565752e-01, -2.81027079e-01,\n",
       "         -4.02249426e-01, -7.82525420e-01,  3.77037019e-01,\n",
       "         -5.40989816e-01, -5.95711827e-01,  1.90368152e+00],\n",
       "        [-2.63020372e+00,  4.31563884e-01,  1.10370636e+00,\n",
       "          2.75330991e-01, -4.50123191e-01,  1.99251473e+00,\n",
       "         -2.63560534e-01,  2.05601883e+00, -2.72685528e-01,\n",
       "          6.71916664e-01,  1.17420888e+00, -2.55082870e+00,\n",
       "         -1.18865557e-01,  7.66772032e-01, -5.67860425e-01,\n",
       "          1.50136662e+00,  5.84600925e-01,  5.36979914e-01,\n",
       "          9.54776108e-01, -4.92656916e-01, -5.22369593e-02,\n",
       "          1.44520628e+00, -3.95068303e-02,  1.75322577e-01,\n",
       "         -7.63920307e-01,  8.41537297e-01,  8.57665837e-02,\n",
       "          1.94962013e+00,  4.14921910e-01, -6.04551375e-01],\n",
       "        [ 1.08156689e-01,  1.64454877e-02, -1.12414706e+00,\n",
       "          1.41025737e-01, -7.34528840e-01, -2.07120091e-01,\n",
       "          1.22658536e-01, -3.01205218e-01,  2.28407130e-01,\n",
       "         -1.08802307e+00, -1.20330863e-01, -3.28700066e-01,\n",
       "         -8.19465637e-01, -4.83857661e-01, -5.96444726e-01,\n",
       "         -2.33568740e+00, -3.29476565e-01,  1.14179673e-02,\n",
       "         -5.14529347e-01,  2.68135548e-01, -7.98396096e-02,\n",
       "          2.76008546e-01, -1.75792146e-02, -1.19208217e+00,\n",
       "          1.58247101e+00, -9.98558700e-01,  1.40728101e-01,\n",
       "         -7.16365635e-01, -1.02103102e+00, -2.06670061e-01],\n",
       "        [-1.30222902e-01,  7.48368502e-02,  2.45326853e+00,\n",
       "          1.65229708e-01,  4.00787219e-02, -9.66977552e-02,\n",
       "         -1.40297437e+00,  1.46773756e+00,  4.40406759e-04,\n",
       "          1.65472925e+00, -2.28487420e+00, -1.79697478e+00,\n",
       "         -9.52055752e-01, -1.39799786e+00, -7.96988487e-01,\n",
       "          1.14261985e+00,  1.04078531e+00,  2.43065143e+00,\n",
       "         -2.67702413e+00,  1.12814158e-01,  9.57067788e-01,\n",
       "          1.57928216e+00,  3.80582325e-02, -4.18738514e-01,\n",
       "         -1.91585743e+00,  1.90812981e+00, -1.27103224e-01,\n",
       "         -2.55346745e-01,  4.32743669e-01, -3.04988652e-01],\n",
       "        [ 1.01314926e+00, -1.73588604e-01,  2.65768862e+00,\n",
       "          1.44833386e-01, -4.49810117e-01, -5.49318314e-01,\n",
       "         -8.07301223e-01, -1.77309644e+00,  2.97118932e-01,\n",
       "         -8.99739146e-01, -2.03496024e-01,  9.25786555e-01,\n",
       "         -8.77203643e-01,  1.56863313e-02,  5.79746366e-01,\n",
       "          5.82583845e-01, -2.68174022e-01, -1.68432379e+00,\n",
       "         -5.86915985e-02,  8.72547701e-02,  1.53647304e-01,\n",
       "          4.05545503e-01,  5.42558253e-01,  1.25870562e+00,\n",
       "         -1.92618525e+00,  5.21049619e-01, -1.76668704e-01,\n",
       "          9.79939401e-02, -3.12854958e+00, -4.14701074e-01],\n",
       "        [-1.84687629e-01, -4.46435511e-02, -2.53765082e+00,\n",
       "          1.37792090e-02, -1.21746528e+00,  1.11203790e+00,\n",
       "          1.81140184e+00,  1.99679089e+00,  7.10570812e-02,\n",
       "         -3.11724335e-01,  3.82392913e-01, -7.21162319e-01,\n",
       "         -1.59498572e-01,  1.27658021e+00, -2.01991871e-01,\n",
       "          2.49815732e-01, -2.37429667e+00, -6.26948893e-01,\n",
       "         -1.70143461e+00,  1.44736516e+00, -2.68503094e+00,\n",
       "          4.39261705e-01, -8.68964046e-02, -5.33058345e-01,\n",
       "          1.44078469e+00,  1.08416879e+00,  3.68433818e-02,\n",
       "         -1.02374628e-01,  1.57912457e+00,  3.11252892e-01]], dtype=float32),\n",
       " array([ 1.7458264e+00,  2.5099747e-02, -1.6059473e+00,  3.8787195e-01,\n",
       "         1.2028016e-03,  8.8174313e-01, -2.1042837e-01,  5.0279565e+00,\n",
       "        -3.5787129e-01,  1.4711546e+00,  6.6103941e-01, -2.1192493e+00,\n",
       "        -7.2762512e-02, -3.9090972e+00, -4.6968192e-01, -5.3100023e+00,\n",
       "         6.7570962e-02,  7.5805564e+00, -6.0054593e+00,  7.5471896e-01,\n",
       "         2.9681661e+00, -6.5580997e+00,  4.6864416e-02, -1.0412152e+00,\n",
       "         1.2014588e+00,  7.2426400e+00, -6.5889102e-01, -2.3510108e+00,\n",
       "         3.5784979e+00, -4.7102752e+00], dtype=float32),\n",
       " array([[1.]], dtype=float32),\n",
       " array([0.], dtype=float32),\n",
       " array([[-0.5257539 ],\n",
       "        [ 0.03538556],\n",
       "        [ 0.80847526],\n",
       "        [ 0.01239955],\n",
       "        [ 1.2951541 ],\n",
       "        [-1.2153449 ],\n",
       "        [ 1.0649427 ],\n",
       "        [-0.672251  ],\n",
       "        [ 0.00926709],\n",
       "        [ 1.4583205 ],\n",
       "        [-0.89926505],\n",
       "        [ 0.36701432],\n",
       "        [ 0.22861706],\n",
       "        [ 2.008877  ],\n",
       "        [ 0.32759303],\n",
       "        [ 0.5079024 ],\n",
       "        [ 0.4284365 ],\n",
       "        [ 1.39715   ],\n",
       "        [ 0.32741064],\n",
       "        [-2.182161  ],\n",
       "        [ 0.9204891 ],\n",
       "        [ 0.6991688 ],\n",
       "        [ 0.01536397],\n",
       "        [ 0.44643167],\n",
       "        [-1.4014419 ],\n",
       "        [ 1.7069051 ],\n",
       "        [-0.04832896],\n",
       "        [ 0.25151935],\n",
       "        [-0.7764358 ],\n",
       "        [ 0.526599  ]], dtype=float32),\n",
       " array([2.6748412], dtype=float32),\n",
       " array([[0.38245952]], dtype=float32),\n",
       " array([-0.2377611], dtype=float32)]"
      ]
     },
     "execution_count": 26,
     "metadata": {},
     "output_type": "execute_result"
    }
   ],
   "source": [
    "new_model.get_weights()"
   ]
  },
  {
   "cell_type": "code",
   "execution_count": 27,
   "metadata": {},
   "outputs": [
    {
     "data": {
      "text/plain": [
       "<keras.optimizers.Adam at 0x24f01cb82b0>"
      ]
     },
     "execution_count": 27,
     "metadata": {},
     "output_type": "execute_result"
    }
   ],
   "source": [
    "new_model.optimizer"
   ]
  },
  {
   "cell_type": "markdown",
   "metadata": {},
   "source": [
    "# Predictions (Global)"
   ]
  },
  {
   "cell_type": "markdown",
   "metadata": {},
   "source": [
    "\"Global\" in this sense means that I've fed model.predict() with all the possible parameters. This gives a good overview of the overall performance of the network. This can be useful to spot large-scale phenomena like network overfitting but is not so great at looking at say individual data slices. This is done later.\n",
    "\n",
    "***Nota Bene: all data here is NORMALIZED at this stage.***"
   ]
  },
  {
   "cell_type": "code",
   "execution_count": 28,
   "metadata": {},
   "outputs": [
    {
     "name": "stdout",
     "output_type": "stream",
     "text": [
      "[-0.24842449 -0.24842449 -0.24842449 ... -0.24842449 -0.08443662\n",
      "  0.22771959]\n",
      "(647914,)\n"
     ]
    }
   ],
   "source": [
    "y_test_np_array = y_test.values\n",
    "print(y_test_np_array)\n",
    "print(y_test_np_array.shape)"
   ]
  },
  {
   "cell_type": "code",
   "execution_count": 29,
   "metadata": {},
   "outputs": [
    {
     "name": "stdout",
     "output_type": "stream",
     "text": [
      "[[-0.79279996  2.68410668 -0.20451694 ...  1.73923903  0.66759452\n",
      "   0.29129499]\n",
      " [ 0.80988254 -1.02146933  0.64372517 ...  1.73923903  0.25300765\n",
      "  -1.23504375]\n",
      " [ 0.12301861 -1.63906533  1.15267045 ...  0.91085251  1.70406169\n",
      "   0.29129499]\n",
      " ...\n",
      " [ 0.12301861 -0.09507533  0.30442833 ...  0.49665925 -1.40533971\n",
      "  -1.23504375]\n",
      " [ 2.64151968 -0.09507533 -0.20451694 ... -0.96682361 -0.16157921\n",
      "  -1.23504375]\n",
      " [-0.56384531  0.83131867 -0.03486852 ... -0.46979169  0.66759452\n",
      "  -0.88172461]]\n"
     ]
    }
   ],
   "source": [
    "x_test_np_array = x_test.values\n",
    "print(x_test_np_array)"
   ]
  },
  {
   "cell_type": "code",
   "execution_count": 30,
   "metadata": {},
   "outputs": [],
   "source": [
    "x_test_1_np_array = x_test_1.values\n",
    "x_test_2_np_array = x_test_2.values"
   ]
  },
  {
   "cell_type": "code",
   "execution_count": 31,
   "metadata": {},
   "outputs": [
    {
     "name": "stdout",
     "output_type": "stream",
     "text": [
      "(647914, 6)\n"
     ]
    }
   ],
   "source": [
    "print(x_test_1_np_array.shape)"
   ]
  },
  {
   "cell_type": "code",
   "execution_count": 32,
   "metadata": {},
   "outputs": [
    {
     "name": "stdout",
     "output_type": "stream",
     "text": [
      "(647914, 1)\n"
     ]
    }
   ],
   "source": [
    "print(x_test_2_np_array.shape)"
   ]
  },
  {
   "cell_type": "code",
   "execution_count": 33,
   "metadata": {},
   "outputs": [
    {
     "name": "stdout",
     "output_type": "stream",
     "text": [
      "(647914, 7)\n"
     ]
    }
   ],
   "source": [
    "print(x_test_np_array.shape)"
   ]
  },
  {
   "cell_type": "code",
   "execution_count": 34,
   "metadata": {},
   "outputs": [
    {
     "name": "stdout",
     "output_type": "stream",
     "text": [
      "<class 'numpy.ndarray'>\n",
      "(647914,)\n",
      "<class 'numpy.ndarray'>\n"
     ]
    }
   ],
   "source": [
    "predictions_global = new_model.predict([x_test_1_np_array, x_test_2_np_array], batch_size = 10, verbose=0)\n",
    "print(type(predictions_global))\n",
    "\n",
    "predictions_global = predictions_global.flatten()\n",
    "print(predictions_global.shape)\n",
    "print(type(predictions_global))"
   ]
  },
  {
   "cell_type": "markdown",
   "metadata": {},
   "source": [
    "### Predictions (Global) review - De-Normalized"
   ]
  },
  {
   "cell_type": "code",
   "execution_count": 35,
   "metadata": {},
   "outputs": [],
   "source": [
    "predictions_global_deNormalized = (predictions_global * joined_dataFrame_original['efeETG_GB'].std()) + joined_dataFrame_original['efeETG_GB'].mean()"
   ]
  },
  {
   "cell_type": "code",
   "execution_count": 36,
   "metadata": {},
   "outputs": [],
   "source": [
    "y_test_deNormalized = (y_test * joined_dataFrame_original['efeETG_GB'].std()) + joined_dataFrame_original['efeETG_GB'].mean()"
   ]
  },
  {
   "cell_type": "code",
   "execution_count": 37,
   "metadata": {},
   "outputs": [],
   "source": [
    "y_test_deNormalized_np_array = y_test_deNormalized.values"
   ]
  },
  {
   "cell_type": "code",
   "execution_count": 38,
   "metadata": {},
   "outputs": [],
   "source": [
    "import matplotlib.pyplot as plt\n",
    "from matplotlib.colors import LogNorm"
   ]
  },
  {
   "cell_type": "code",
   "execution_count": 39,
   "metadata": {},
   "outputs": [
    {
     "data": {
      "image/png": "[encoded data removed]",
      "text/plain": [
       "<Figure size 432x288 with 1 Axes>"
      ]
     },
     "metadata": {
      "needs_background": "light"
     },
     "output_type": "display_data"
    }
   ],
   "source": [
    "plt.hist(predictions_global_deNormalized)\n",
    "plt.title('QuaLiKiz-NN Predictions (De-Normalized) Histogram')\n",
    "plt.xlabel('Values')\n",
    "plt.ylabel('Counts')\n",
    "# plt.savefig('./2018-07-10_Run0050b_DataSlicerPlot/NN_Predictions.png', dpi = 100)\n",
    "plt.show()"
   ]
  },
  {
   "cell_type": "code",
   "execution_count": 40,
   "metadata": {},
   "outputs": [
    {
     "name": "stdout",
     "output_type": "stream",
     "text": [
      "(647914,)\n"
     ]
    }
   ],
   "source": [
    "print(predictions_global.shape)"
   ]
  },
  {
   "cell_type": "code",
   "execution_count": 41,
   "metadata": {},
   "outputs": [
    {
     "data": {
      "image/png": "[encoded data removed]",
      "text/plain": [
       "<Figure size 432x288 with 1 Axes>"
      ]
     },
     "metadata": {
      "needs_background": "light"
     },
     "output_type": "display_data"
    }
   ],
   "source": [
    "plt.plot(y_test_deNormalized_np_array, predictions_global_deNormalized, 'r.', ms = 5, label = 'QuaLiKiz-NN')\n",
    "plt.title('QuaLiKiz-NN predictions (De-Normalized) (efeETG_GB) vs. QuaLiKiz (efeETG_GB)')\n",
    "plt.xlabel('QuaLiKiz')\n",
    "plt.ylabel('Neural Network')\n",
    "plt.show()"
   ]
  },
  {
   "cell_type": "code",
   "execution_count": 42,
   "metadata": {},
   "outputs": [
    {
     "data": {
      "image/png": "[encoded data removed]",
      "text/plain": [
       "<Figure size 432x288 with 2 Axes>"
      ]
     },
     "metadata": {
      "needs_background": "light"
     },
     "output_type": "display_data"
    }
   ],
   "source": [
    "plt.hist2d(y_test_deNormalized_np_array, predictions_global_deNormalized, bins=100, cmin=5)\n",
    "# plt.plot( [0,1],[0,1] )\n",
    "plt.title('QuaLiKiz vs Neural Network (De-Normalized) (non-log scale)')\n",
    "plt.xlabel('QuaLiKiz')\n",
    "plt.ylabel('Neural Network')\n",
    "plt.ylim(0)\n",
    "plt.xlim(0)\n",
    "cbar = plt.colorbar()\n",
    "cbar.ax.set_ylabel('Counts')\n",
    "# plt.savefig('./2018-07-10_Run0050b_DataSlicerPlot/QuaLiKiz-vs-NN_nonLogScale_bins100.png', dpi = 100)\n",
    "plt.show()"
   ]
  },
  {
   "cell_type": "code",
   "execution_count": 113,
   "metadata": {},
   "outputs": [
    {
     "data": {
      "image/png": "[encoded data removed]",
      "text/plain": [
       "<Figure size 432x288 with 2 Axes>"
      ]
     },
     "metadata": {
      "needs_background": "light"
     },
     "output_type": "display_data"
    }
   ],
   "source": [
    "plt.hist2d(y_test_deNormalized_np_array, predictions_global_deNormalized, bins=300, cmin=10, cmax = 1e4, norm=LogNorm(), cmap='plasma_r')\n",
    "plt.plot( [0,40],[0,40],'k--' )\n",
    "#plt.title('QuaLiKiz vs Neural Network (De-Normalized) (log scale)')\n",
    "plt.xlabel('QuaLiKiz')\n",
    "plt.ylabel('Neural Network')\n",
    "plt.ylim(0, 40)\n",
    "plt.xlim(0, 40)\n",
    "cbar = plt.colorbar()\n",
    "cbar.ax.set_ylabel('Counts')\n",
    "#plt.savefig('./2019-02-10_Run0164_DataSlicerPlot/QuaLiKiz-vs-NN.png', dpi = 100)\n",
    "plt.show()"
   ]
  },
  {
   "cell_type": "markdown",
   "metadata": {},
   "source": [
    "### Sigmas (De-Normalized)"
   ]
  },
  {
   "cell_type": "code",
   "execution_count": 82,
   "metadata": {},
   "outputs": [
    {
     "data": {
      "image/png": "[encoded data removed]",
      "text/plain": [
       "<Figure size 432x288 with 1 Axes>"
      ]
     },
     "metadata": {
      "needs_background": "light"
     },
     "output_type": "display_data"
    }
   ],
   "source": [
    "h = plt.hist2d(y_test_np_array, predictions_global,bins = 100)"
   ]
  },
  {
   "cell_type": "code",
   "execution_count": 83,
   "metadata": {},
   "outputs": [
    {
     "data": {
      "image/png": "[encoded data removed]",
      "text/plain": [
       "<Figure size 432x288 with 1 Axes>"
      ]
     },
     "metadata": {
      "needs_background": "light"
     },
     "output_type": "display_data"
    }
   ],
   "source": [
    "h_deNormalized = plt.hist2d(y_test_deNormalized_np_array, predictions_global_deNormalized,bins = 100)"
   ]
  },
  {
   "cell_type": "code",
   "execution_count": 84,
   "metadata": {},
   "outputs": [
    {
     "name": "stderr",
     "output_type": "stream",
     "text": [
      "C:\\Users\\danie\\Anaconda3\\lib\\site-packages\\ipykernel_launcher.py:4: RuntimeWarning: invalid value encountered in true_divide\n",
      "  after removing the cwd from sys.path.\n"
     ]
    }
   ],
   "source": [
    "sigmas_deNormalized = []\n",
    "Qualikiz_deNormalized = y_test_deNormalized_np_array\n",
    "for i in range(len(h[0])):\n",
    "    sigmas_deNormalized.append(numpy.std(h_deNormalized[0][i] / numpy.max(h_deNormalized[0][i])))"
   ]
  },
  {
   "cell_type": "code",
   "execution_count": 85,
   "metadata": {},
   "outputs": [
    {
     "data": {
      "image/png": "[encoded data removed]",
      "text/plain": [
       "<Figure size 432x288 with 1 Axes>"
      ]
     },
     "metadata": {
      "needs_background": "light"
     },
     "output_type": "display_data"
    }
   ],
   "source": [
    "plt.plot((numpy.array(h_deNormalized[1][1:]) + numpy.array(h_deNormalized[1][:-1]))/2.,sigmas_deNormalized)\n",
    "plt.show()"
   ]
  },
  {
   "cell_type": "code",
   "execution_count": 86,
   "metadata": {},
   "outputs": [
    {
     "data": {
      "image/png": "[encoded data removed]",
      "text/plain": [
       "<Figure size 432x288 with 1 Axes>"
      ]
     },
     "metadata": {
      "needs_background": "light"
     },
     "output_type": "display_data"
    }
   ],
   "source": [
    "for i in range(10):\n",
    "    plt.plot((h_deNormalized[1][1:] + h_deNormalized[1][:-1])/2., h_deNormalized[0][i]/numpy.max(h_deNormalized[0][i]) )"
   ]
  },
  {
   "cell_type": "code",
   "execution_count": 87,
   "metadata": {},
   "outputs": [
    {
     "data": {
      "image/png": "[encoded data removed]",
      "text/plain": [
       "<Figure size 432x288 with 1 Axes>"
      ]
     },
     "metadata": {
      "needs_background": "light"
     },
     "output_type": "display_data"
    }
   ],
   "source": [
    "plt.plot(y_test_deNormalized_np_array, predictions_global_deNormalized - y_test_deNormalized_np_array, 'b.', ms = 0.5)\n",
    "plt.title('Neural Network predictions (De-Normalized) vs. QuaLiKiz input')\n",
    "plt.xlabel('QuaLiKiz')\n",
    "plt.ylabel('NN Predictions - QuaLiKiz')\n",
    "plt.show()"
   ]
  },
  {
   "cell_type": "code",
   "execution_count": 88,
   "metadata": {},
   "outputs": [
    {
     "data": {
      "image/png": "[encoded data removed]",
      "text/plain": [
       "<Figure size 432x288 with 1 Axes>"
      ]
     },
     "metadata": {
      "needs_background": "light"
     },
     "output_type": "display_data"
    }
   ],
   "source": [
    "plt.plot(y_test_deNormalized_np_array, predictions_global_deNormalized - y_test_deNormalized_np_array, 'b.', ms = 0.1, alpha=0.5)\n",
    "plt.title('Neural Network predictions vs. QuaLiKiz input (De-Normalized)')\n",
    "plt.xlabel('QuaLiKiz')\n",
    "plt.ylabel('NN Predictions - QuaLiKiz')\n",
    "plt.show()"
   ]
  },
  {
   "cell_type": "markdown",
   "metadata": {},
   "source": [
    "# Predictions (single Data Slice)"
   ]
  },
  {
   "cell_type": "markdown",
   "metadata": {},
   "source": [
    "### Predictions - Initialise table to feed predictions"
   ]
  },
  {
   "cell_type": "code",
   "execution_count": 89,
   "metadata": {},
   "outputs": [
    {
     "data": {
      "text/plain": [
       "array([[ 5.75      ,  2.        ,  3.        , ...,  0.7       ,\n",
       "         0.45      ,  1.33      ],\n",
       "       [ 5.75      ,  2.06030151,  3.        , ...,  0.7       ,\n",
       "         0.45      ,  1.33      ],\n",
       "       [ 5.75      ,  2.12060302,  3.        , ...,  0.7       ,\n",
       "         0.45      ,  1.33      ],\n",
       "       ...,\n",
       "       [ 5.75      , 13.87939698,  3.        , ...,  0.7       ,\n",
       "         0.45      ,  1.33      ],\n",
       "       [ 5.75      , 13.93969849,  3.        , ...,  0.7       ,\n",
       "         0.45      ,  1.33      ],\n",
       "       [ 5.75      , 14.        ,  3.        , ...,  0.7       ,\n",
       "         0.45      ,  1.33      ]])"
      ]
     },
     "execution_count": 89,
     "metadata": {},
     "output_type": "execute_result"
    }
   ],
   "source": [
    "# table (Original values from input file unstable_training_gen2_7D_nions0_flat_filter7.h5)\n",
    "# Hard-coded variables for the data slice\n",
    "\n",
    "table = numpy.zeros((200,7))\n",
    "\n",
    "table[:,0] = 5.75    # Ati\n",
    "table[:,1] = numpy.linspace(2,14,200)   # Ate\n",
    "table[:,2] = 3       # An\n",
    "table[:,3] = 3       # qx\n",
    "table[:,4] = 0.7     # smag\n",
    "table[:,5] = 0.45    # x\n",
    "table[:,6] = 1.33    # Ti_Te\n",
    "\n",
    "table"
   ]
  },
  {
   "cell_type": "code",
   "execution_count": 90,
   "metadata": {},
   "outputs": [],
   "source": [
    "# Normalized table (inputs for model.predict())\n",
    "table_normalized = numpy.zeros((200,7))\n",
    "\n",
    "DataSlice_Ati = 5.75\n",
    "DataSlice_Ate = numpy.linspace(2,14,200)\n",
    "DataSlice_An = 3\n",
    "DataSlice_q = 3\n",
    "DataSlice_smag = 0.7\n",
    "DataSlice_x = 0.45\n",
    "DataSlice_Ti_Te = 1.33\n",
    "\n",
    "# Normalize data by standard deviation and mean-centering the data\n",
    "table_normalized[:,0] = (DataSlice_Ati - joined_dataFrame_original['Ati'].mean()) / joined_dataFrame_original['Ati'].std()\n",
    "table_normalized[:,1] = (DataSlice_Ate - joined_dataFrame_original['Ate'].mean()) / joined_dataFrame_original['Ate'].std()\n",
    "table_normalized[:,2] = (DataSlice_An - joined_dataFrame_original['An'].mean()) / joined_dataFrame_original['An'].std()\n",
    "table_normalized[:,3] = (DataSlice_q - joined_dataFrame_original['q'].mean()) / joined_dataFrame_original['q'].std()\n",
    "table_normalized[:,4] = (DataSlice_smag - joined_dataFrame_original['smag'].mean()) / joined_dataFrame_original['smag'].std()\n",
    "table_normalized[:,5] = (DataSlice_x - joined_dataFrame_original['x'].mean()) / joined_dataFrame_original['x'].std()\n",
    "table_normalized[:,6] = (DataSlice_Ti_Te - joined_dataFrame_original['Ti_Te'].mean()) / joined_dataFrame_original['Ti_Te'].std()"
   ]
  },
  {
   "cell_type": "code",
   "execution_count": 91,
   "metadata": {},
   "outputs": [
    {
     "data": {
      "text/plain": [
       "array([[ 0.12301861, -1.02146933,  0.8133736 , ..., -0.635469  ,\n",
       "        -0.16157917,  0.29129492],\n",
       "       [ 0.12301861, -1.00284834,  0.8133736 , ..., -0.635469  ,\n",
       "        -0.16157917,  0.29129492],\n",
       "       [ 0.12301861, -0.98422736,  0.8133736 , ..., -0.635469  ,\n",
       "        -0.16157917,  0.29129492],\n",
       "       ...,\n",
       "       [ 0.12301861,  2.64686471,  0.8133736 , ..., -0.635469  ,\n",
       "        -0.16157917,  0.29129492],\n",
       "       [ 0.12301861,  2.66548569,  0.8133736 , ..., -0.635469  ,\n",
       "        -0.16157917,  0.29129492],\n",
       "       [ 0.12301861,  2.68410668,  0.8133736 , ..., -0.635469  ,\n",
       "        -0.16157917,  0.29129492]])"
      ]
     },
     "execution_count": 91,
     "metadata": {},
     "output_type": "execute_result"
    }
   ],
   "source": [
    "table_normalized"
   ]
  },
  {
   "cell_type": "code",
   "execution_count": 92,
   "metadata": {},
   "outputs": [],
   "source": [
    "# Normalized table (inputs for model.predict())\n",
    "table_branch1_normalized = numpy.zeros((200,6))\n",
    "\n",
    "DataSlice_Ati = 5.75\n",
    "#DataSlice_Ate = numpy.linspace(2,14,200)\n",
    "DataSlice_An = 3\n",
    "DataSlice_q = 3\n",
    "DataSlice_smag = 0.7\n",
    "DataSlice_x = 0.45\n",
    "DataSlice_Ti_Te = 1.33\n",
    "\n",
    "# Normalize data by standard deviation and mean-centering the data\n",
    "table_branch1_normalized[:,0] = (DataSlice_Ati - joined_dataFrame_original['Ati'].mean()) / joined_dataFrame_original['Ati'].std()\n",
    "#table_normalized[:,1] = (DataSlice_Ate - joined_dataFrame_original['Ate'].mean()) / joined_dataFrame_original['Ate'].std()\n",
    "table_branch1_normalized[:,1] = (DataSlice_An - joined_dataFrame_original['An'].mean()) / joined_dataFrame_original['An'].std()\n",
    "table_branch1_normalized[:,2] = (DataSlice_q - joined_dataFrame_original['q'].mean()) / joined_dataFrame_original['q'].std()\n",
    "table_branch1_normalized[:,3] = (DataSlice_smag - joined_dataFrame_original['smag'].mean()) / joined_dataFrame_original['smag'].std()\n",
    "table_branch1_normalized[:,4] = (DataSlice_x - joined_dataFrame_original['x'].mean()) / joined_dataFrame_original['x'].std()\n",
    "table_branch1_normalized[:,5] = (DataSlice_Ti_Te - joined_dataFrame_original['Ti_Te'].mean()) / joined_dataFrame_original['Ti_Te'].std()"
   ]
  },
  {
   "cell_type": "code",
   "execution_count": 93,
   "metadata": {},
   "outputs": [],
   "source": [
    "# Normalized table (inputs for model.predict())\n",
    "table_branch2_normalized = numpy.zeros((200,1))\n",
    "\n",
    "DataSlice_Ate = numpy.linspace(2,14,200)\n",
    "\n",
    "# Normalize data by standard deviation and mean-centering the data\n",
    "table_branch2_normalized[:,0] = (DataSlice_Ate - joined_dataFrame_original['Ate'].mean()) / joined_dataFrame_original['Ate'].std()"
   ]
  },
  {
   "cell_type": "code",
   "execution_count": 94,
   "metadata": {},
   "outputs": [
    {
     "name": "stdout",
     "output_type": "stream",
     "text": [
      "<class 'numpy.ndarray'>\n",
      "(200,)\n",
      "<class 'numpy.ndarray'>\n"
     ]
    }
   ],
   "source": [
    "predictions = new_model.predict([table_branch1_normalized] + [table_branch2_normalized], batch_size = 10, verbose=0)\n",
    "print(type(predictions))\n",
    "\n",
    "predictions = predictions.flatten()\n",
    "print(predictions.shape)\n",
    "print(type(predictions))"
   ]
  },
  {
   "cell_type": "code",
   "execution_count": 95,
   "metadata": {},
   "outputs": [
    {
     "data": {
      "image/png": "[encoded data removed]",
      "text/plain": [
       "<Figure size 432x288 with 1 Axes>"
      ]
     },
     "metadata": {
      "needs_background": "light"
     },
     "output_type": "display_data"
    }
   ],
   "source": [
    "plt.hist(predictions)\n",
    "plt.show()"
   ]
  },
  {
   "cell_type": "markdown",
   "metadata": {},
   "source": [
    "# Masks"
   ]
  },
  {
   "cell_type": "markdown",
   "metadata": {},
   "source": [
    "These are used to rapidly select which parameters to look at (for a given data slice)."
   ]
  },
  {
   "cell_type": "markdown",
   "metadata": {},
   "source": [
    "#### Ate"
   ]
  },
  {
   "cell_type": "code",
   "execution_count": 96,
   "metadata": {},
   "outputs": [],
   "source": [
    "Ate_mask1 = joined_dataFrame_original.Ate == 2\n",
    "Ate_mask2 = joined_dataFrame_original.Ate == 2.75\n",
    "Ate_mask3 = joined_dataFrame_original.Ate == 3.5\n",
    "Ate_mask4 = joined_dataFrame_original.Ate == 4.25\n",
    "Ate_mask5 = joined_dataFrame_original.Ate == 5\n",
    "Ate_mask6 = joined_dataFrame_original.Ate == 5.75\n",
    "Ate_mask7 = joined_dataFrame_original.Ate == 6.5\n",
    "Ate_mask8 = joined_dataFrame_original.Ate == 7.25\n",
    "Ate_mask9 = joined_dataFrame_original.Ate == 8\n",
    "Ate_mask10 = joined_dataFrame_original.Ate == 10\n",
    "Ate_mask11 = joined_dataFrame_original.Ate == 14\n",
    "\n",
    "Ate_anti_mask1 = joined_dataFrame_original.Ate != 2\n",
    "Ate_anti_mask2 = joined_dataFrame_original.Ate != 2.75\n",
    "Ate_anti_mask3 = joined_dataFrame_original.Ate != 3.5\n",
    "Ate_anti_mask4 = joined_dataFrame_original.Ate != 4.25\n",
    "Ate_anti_mask5 = joined_dataFrame_original.Ate != 5\n",
    "Ate_anti_mask6 = joined_dataFrame_original.Ate != 5.75\n",
    "Ate_anti_mask7 = joined_dataFrame_original.Ate != 6.5\n",
    "Ate_anti_mask8 = joined_dataFrame_original.Ate != 7.25\n",
    "Ate_anti_mask9 = joined_dataFrame_original.Ate != 8\n",
    "Ate_anti_mask10 = joined_dataFrame_original.Ate != 10\n",
    "Ate_anti_mask11 = joined_dataFrame_original.Ate != 14"
   ]
  },
  {
   "cell_type": "markdown",
   "metadata": {},
   "source": [
    "#### An"
   ]
  },
  {
   "cell_type": "code",
   "execution_count": 97,
   "metadata": {},
   "outputs": [],
   "source": [
    "An_mask1 = joined_dataFrame_original.An == -5\n",
    "An_mask2 = joined_dataFrame_original.An == -3\n",
    "An_mask3 = joined_dataFrame_original.An == -1\n",
    "An_mask4 = numpy.array(joined_dataFrame_original.An <= 1.1e-14) * numpy.array(joined_dataFrame_original.An >= 9E-15)\n",
    "An_mask5 = joined_dataFrame_original.An == 0.5\n",
    "An_mask6 = joined_dataFrame_original.An == 1.0\n",
    "An_mask7 = joined_dataFrame_original.An == 1.5\n",
    "An_mask8 = joined_dataFrame_original.An == 2.0\n",
    "An_mask9 = joined_dataFrame_original.An == 2.5\n",
    "An_mask10 = joined_dataFrame_original.An == 3.0\n",
    "An_mask11 = joined_dataFrame_original.An == 4.0\n",
    "An_mask12 = joined_dataFrame_original.An == 6.0\n",
    "\n",
    "An_anti_mask1 = joined_dataFrame_original.An != -5\n",
    "An_anti_mask2 = joined_dataFrame_original.An != -3\n",
    "An_anti_mask3 = joined_dataFrame_original.An != -1\n",
    "An_anti_mask4 = numpy.array(joined_dataFrame_original.An >= 1.1e-14) * numpy.array(joined_dataFrame_original.An <= 9E-15)\n",
    "An_anti_mask5 = joined_dataFrame_original.An != 0.5\n",
    "An_anti_mask6 = joined_dataFrame_original.An != 1.0\n",
    "An_anti_mask7 = joined_dataFrame_original.An != 1.5\n",
    "An_anti_mask8 = joined_dataFrame_original.An != 2.0\n",
    "An_anti_mask9 = joined_dataFrame_original.An != 2.5\n",
    "An_anti_mask10 = joined_dataFrame_original.An != 3.0\n",
    "An_anti_mask11 = joined_dataFrame_original.An != 4.0\n",
    "An_anti_mask12 = joined_dataFrame_original.An != 6.0"
   ]
  },
  {
   "cell_type": "markdown",
   "metadata": {},
   "source": [
    "#### Ati"
   ]
  },
  {
   "cell_type": "code",
   "execution_count": 98,
   "metadata": {},
   "outputs": [],
   "source": [
    "Ati_mask1 = numpy.array(joined_dataFrame_original.Ati <= 1.1e-14) * numpy.array(joined_dataFrame_original.Ati >= 9E-15)\n",
    "Ati_mask2 = joined_dataFrame_original.Ati == 2\n",
    "Ati_mask3 = joined_dataFrame_original.Ati == 2.75\n",
    "Ati_mask4 = joined_dataFrame_original.Ati == 3.5\n",
    "Ati_mask5 = joined_dataFrame_original.Ati == 4.25\n",
    "Ati_mask6 = joined_dataFrame_original.Ati == 5\n",
    "Ati_mask7 = joined_dataFrame_original.Ati == 5.75\n",
    "Ati_mask8 = joined_dataFrame_original.Ati == 6.5\n",
    "Ati_mask9 = joined_dataFrame_original.Ati == 7.25\n",
    "Ati_mask10 = joined_dataFrame_original.Ati == 8\n",
    "Ati_mask11 = joined_dataFrame_original.Ati == 10\n",
    "Ati_mask12 = joined_dataFrame_original.Ati == 14"
   ]
  },
  {
   "cell_type": "markdown",
   "metadata": {},
   "source": [
    "#### qx"
   ]
  },
  {
   "cell_type": "code",
   "execution_count": 99,
   "metadata": {},
   "outputs": [],
   "source": [
    "q_mask0 = numpy.array(joined_dataFrame_original.q <= 0.67) * numpy.array(joined_dataFrame_original.q >= 0.65)  #0.66\n",
    "q_mask1 = joined_dataFrame_original.q == 1.0\n",
    "q_mask2 = joined_dataFrame_original.q == 1.5\n",
    "q_mask3 = joined_dataFrame_original.q == 2.0\n",
    "q_mask4 = joined_dataFrame_original.q == 2.5\n",
    "q_mask5 = joined_dataFrame_original.q == 3.0\n",
    "q_mask6 = joined_dataFrame_original.q == 4.0\n",
    "q_mask7 = joined_dataFrame_original.q == 5.0\n",
    "q_mask8 = joined_dataFrame_original.q == 10.00\n",
    "q_mask9 = joined_dataFrame_original.q == 15.00\n",
    "\n",
    "q_anti_mask0 = numpy.array(joined_dataFrame_original.q >= 0.67) * numpy.array(joined_dataFrame_original.q <= 0.65)  #0.66\n",
    "q_anti_mask1 = joined_dataFrame_original.q != 1.0\n",
    "q_anti_mask2 = joined_dataFrame_original.q != 1.5\n",
    "q_anti_mask3 = joined_dataFrame_original.q != 2.0\n",
    "q_anti_mask4 = joined_dataFrame_original.q != 2.5\n",
    "q_anti_mask5 = joined_dataFrame_original.q != 3.0\n",
    "q_anti_mask6 = joined_dataFrame_original.q != 4.0\n",
    "q_anti_mask7 = joined_dataFrame_original.q != 5.0\n",
    "q_anti_mask8 = joined_dataFrame_original.q != 10.00\n",
    "q_anti_mask9 = joined_dataFrame_original.q != 15.00"
   ]
  },
  {
   "cell_type": "markdown",
   "metadata": {},
   "source": [
    "#### smag"
   ]
  },
  {
   "cell_type": "code",
   "execution_count": 100,
   "metadata": {},
   "outputs": [],
   "source": [
    "smag_mask1 = joined_dataFrame_original.smag == -1.0\n",
    "smag_mask2 = numpy.array(joined_dataFrame_original.smag <= 0.11) * numpy.array(joined_dataFrame_original.smag >= 0.09)   # 0.1\n",
    "smag_mask3 = numpy.array(joined_dataFrame_original.smag <= 0.41) * numpy.array(joined_dataFrame_original.smag >= 0.39)   # 0.4\n",
    "smag_mask4 = numpy.array(joined_dataFrame_original.smag <= 0.71) * numpy.array(joined_dataFrame_original.smag >= 0.68)   # 0.7\n",
    "smag_mask5 = joined_dataFrame_original.smag == 1\n",
    "smag_mask6 = joined_dataFrame_original.smag == 1.5\n",
    "smag_mask7 = joined_dataFrame_original.smag == 2.0\n",
    "smag_mask8 = joined_dataFrame_original.smag == 2.75\n",
    "smag_mask9 = joined_dataFrame_original.smag == 3.5\n",
    "smag_mask10 = joined_dataFrame_original.smag == 5.0\n",
    "\n",
    "smag_anti_mask1 = joined_dataFrame_original.smag != -1.0\n",
    "smag_anti_mask2 = numpy.array(joined_dataFrame_original.smag >= 0.11) * numpy.array(joined_dataFrame_original.smag <= 0.09)   # 0.1\n",
    "smag_anti_mask3 = numpy.array(joined_dataFrame_original.smag >= 0.41) * numpy.array(joined_dataFrame_original.smag <= 0.39)   # 0.4\n",
    "smag_anti_mask4 = numpy.array(joined_dataFrame_original.smag >= 0.71) * numpy.array(joined_dataFrame_original.smag <= 0.68)   # 0.7\n",
    "smag_anti_mask5 = joined_dataFrame_original.smag != 1\n",
    "smag_anti_mask6 = joined_dataFrame_original.smag != 1.5\n",
    "smag_anti_mask7 = joined_dataFrame_original.smag != 2.0\n",
    "smag_anti_mask8 = joined_dataFrame_original.smag != 2.75\n",
    "smag_anti_mask9 = joined_dataFrame_original.smag != 3.5\n",
    "smag_anti_mask10 = joined_dataFrame_original.smag != 5.0"
   ]
  },
  {
   "cell_type": "markdown",
   "metadata": {},
   "source": [
    "#### x"
   ]
  },
  {
   "cell_type": "code",
   "execution_count": 101,
   "metadata": {},
   "outputs": [],
   "source": [
    "x_mask1 = numpy.array(joined_dataFrame_original.x <= 0.10) * numpy.array(joined_dataFrame_original.x >= 0.08)   # 0.09\n",
    "x_mask2 = numpy.array(joined_dataFrame_original.x <= 0.22) * numpy.array(joined_dataFrame_original.x >= 0.20)   # 0.21\n",
    "x_mask3 = numpy.array(joined_dataFrame_original.x <= 0.34) * numpy.array(joined_dataFrame_original.x >= 0.32)   # 0.33\n",
    "x_mask4 = numpy.array(joined_dataFrame_original.x <= 0.46) * numpy.array(joined_dataFrame_original.x >= 0.44)   # 0.45\n",
    "x_mask5 = numpy.array(joined_dataFrame_original.x <= 0.58) * numpy.array(joined_dataFrame_original.x >= 0.56)   # 0.57\n",
    "x_mask6 = numpy.array(joined_dataFrame_original.x <= 0.70) * numpy.array(joined_dataFrame_original.x >= 0.68)   # 0.69\n",
    "x_mask7 = numpy.array(joined_dataFrame_original.x <= 0.85) * numpy.array(joined_dataFrame_original.x >= 0.83)   # 0.84\n",
    "x_mask8 = numpy.array(joined_dataFrame_original.x <= 1.00) * numpy.array(joined_dataFrame_original.x >= 0.98)   # 0.99\n",
    "x_mask = {0.09: x_mask1}\n",
    "\n",
    "x_anti_mask1 = numpy.array(joined_dataFrame_original.x >= 0.10) * numpy.array(joined_dataFrame_original.x <= 0.08)   # 0.09\n",
    "x_anti_mask2 = numpy.array(joined_dataFrame_original.x >= 0.22) * numpy.array(joined_dataFrame_original.x <= 0.20)   # 0.21\n",
    "x_anti_mask3 = numpy.array(joined_dataFrame_original.x >= 0.34) * numpy.array(joined_dataFrame_original.x <= 0.32)   # 0.33\n",
    "x_anti_mask4 = numpy.array(joined_dataFrame_original.x >= 0.46) * numpy.array(joined_dataFrame_original.x <= 0.44)   # 0.45\n",
    "x_anti_mask5 = numpy.array(joined_dataFrame_original.x >= 0.58) * numpy.array(joined_dataFrame_original.x <= 0.56)   # 0.57\n",
    "x_anti_mask6 = numpy.array(joined_dataFrame_original.x >= 0.70) * numpy.array(joined_dataFrame_original.x <= 0.68)   # 0.69\n",
    "x_anti_mask7 = numpy.array(joined_dataFrame_original.x >= 0.85) * numpy.array(joined_dataFrame_original.x <= 0.83)   # 0.84\n",
    "x_anti_mask8 = numpy.array(joined_dataFrame_original.x >= 1.00) * numpy.array(joined_dataFrame_original.x <= 0.98)   # 0.99"
   ]
  },
  {
   "cell_type": "markdown",
   "metadata": {},
   "source": [
    "#### Ti_Te"
   ]
  },
  {
   "cell_type": "code",
   "execution_count": 102,
   "metadata": {},
   "outputs": [],
   "source": [
    "Ti_Te_mask1 = joined_dataFrame_original.Ti_Te == 0.25\n",
    "Ti_Te_mask2 = joined_dataFrame_original.Ti_Te == 0.5\n",
    "Ti_Te_mask3 = joined_dataFrame_original.Ti_Te == 0.75\n",
    "Ti_Te_mask4 = joined_dataFrame_original.Ti_Te == 1\n",
    "Ti_Te_mask5 = numpy.array(joined_dataFrame_original.Ti_Te <= 1.34) * numpy.array(joined_dataFrame_original.Ti_Te >= 1.32)   # 1.33\n",
    "Ti_Te_mask6 = numpy.array(joined_dataFrame_original.Ti_Te <= 1.67) * numpy.array(joined_dataFrame_original.Ti_Te >= 1.65)   # 1.66\n",
    "Ti_Te_mask7 = joined_dataFrame_original.Ti_Te == 2.50"
   ]
  },
  {
   "cell_type": "markdown",
   "metadata": {},
   "source": [
    "# Plots"
   ]
  },
  {
   "cell_type": "markdown",
   "metadata": {},
   "source": [
    "## Slice 1"
   ]
  },
  {
   "cell_type": "code",
   "execution_count": 103,
   "metadata": {},
   "outputs": [
    {
     "name": "stdout",
     "output_type": "stream",
     "text": [
      "          efeETG_GB       Ati       Ate        An         q      smag  \\\n",
      "29753959  -0.248424  0.123019 -1.021469  0.813374 -0.279168 -0.635469   \n",
      "30560359  -0.248424  0.123019 -0.558272  0.813374 -0.279168 -0.635469   \n",
      "30963559   0.465417  0.123019 -0.326674  0.813374 -0.279168 -0.635469   \n",
      "31366759   1.030941  0.123019 -0.095075  0.813374 -0.279168 -0.635469   \n",
      "32576359   5.885274  0.123019  0.599720  0.813374 -0.279168 -0.635469   \n",
      "\n",
      "                 x     Ti_Te  \n",
      "29753959 -0.161579  0.291295  \n",
      "30560359 -0.161579  0.291295  \n",
      "30963559 -0.161579  0.291295  \n",
      "31366759 -0.161579  0.291295  \n",
      "32576359 -0.161579  0.291295  \n",
      "<class 'pandas.core.frame.DataFrame'>\n",
      "          efeETG_GB   Ati   Ate   An    q  smag     x  Ti_Te\n",
      "29753959   0.000000  5.75  2.00  3.0  3.0   0.7  0.45   1.33\n",
      "30560359   0.000000  5.75  3.50  3.0  3.0   0.7  0.45   1.33\n",
      "30963559   7.413384  5.75  4.25  3.0  3.0   0.7  0.45   1.33\n",
      "31366759  13.286460  5.75  5.00  3.0  3.0   0.7  0.45   1.33\n",
      "32576359  63.699650  5.75  7.25  3.0  3.0   0.7  0.45   1.33\n",
      "<class 'pandas.core.frame.DataFrame'>\n"
     ]
    }
   ],
   "source": [
    "'''\n",
    "{'An': 3,\n",
    "'Ati': 5.75,\n",
    "'Ti_Te': 1.33,\n",
    "'q': 3,\n",
    "'smag': 0.7,\n",
    "'x': 0.45}\n",
    "'''\n",
    "newDF = joined_dataFrame[An_mask10 & Ati_mask7 & q_mask5 & smag_mask4 & x_mask4 & Ti_Te_mask5]  # Variable \n",
    "newDF_Mk2 = joined_dataFrame_original[An_mask10 & Ati_mask7 & q_mask5 & smag_mask4 & x_mask4 & Ti_Te_mask5]  # Variable \n",
    "print(newDF)\n",
    "print(type(newDF))\n",
    "\n",
    "print(newDF_Mk2)\n",
    "print(type(newDF_Mk2))"
   ]
  },
  {
   "cell_type": "code",
   "execution_count": 104,
   "metadata": {},
   "outputs": [
    {
     "name": "stdout",
     "output_type": "stream",
     "text": [
      "[-0.24842449 -0.24842449  0.4654171   1.03094101  5.88527364]\n",
      "[-1.02146933 -0.55827233 -0.32667383 -0.09507533  0.59972017]\n"
     ]
    }
   ],
   "source": [
    "efeETG_DF = newDF['efeETG_GB']\n",
    "efeETG_DF_np_array = efeETG_DF.values\n",
    "print(efeETG_DF_np_array)\n",
    "\n",
    "Ate_DF = newDF['Ate']\n",
    "Ate_DF_np_array = Ate_DF.values\n",
    "print(Ate_DF_np_array)"
   ]
  },
  {
   "cell_type": "code",
   "execution_count": 105,
   "metadata": {},
   "outputs": [
    {
     "name": "stdout",
     "output_type": "stream",
     "text": [
      "[ 0.        0.        7.413384 13.28646  63.69965 ]\n",
      "[2.   3.5  4.25 5.   7.25]\n"
     ]
    }
   ],
   "source": [
    "efeETG_DF_Mk2 = newDF_Mk2['efeETG_GB']\n",
    "efeETG_DF_Mk2_np_array = efeETG_DF_Mk2.values\n",
    "print(efeETG_DF_Mk2_np_array)\n",
    "\n",
    "Ate_DF_Mk2 = newDF_Mk2['Ate']\n",
    "Ate_DF_Mk2_np_array = Ate_DF_Mk2.values\n",
    "print(Ate_DF_Mk2_np_array)"
   ]
  },
  {
   "cell_type": "code",
   "execution_count": 106,
   "metadata": {},
   "outputs": [
    {
     "data": {
      "image/png": "[encoded data removed]",
      "text/plain": [
       "<Figure size 432x288 with 1 Axes>"
      ]
     },
     "metadata": {
      "needs_background": "light"
     },
     "output_type": "display_data"
    }
   ],
   "source": [
    "efeETG_DF = newDF['efeETG_GB']\n",
    "Ate_DF = newDF['Ate']\n",
    "plt.plot(table_normalized[:,1], predictions, 'r.', ms = 5, label = 'QuaLiKiz-NN')\n",
    "plt.plot(Ate_DF_np_array, efeETG_DF_np_array, 'b.', ms = 5, label = 'QuaLiKiz')\n",
    "plt.title('Data Slice NN vs. QuaLiKiz (Non-Normalized)')\n",
    "plt.xlabel('Ate')\n",
    "plt.ylabel('efeETG_GB')\n",
    "plt.legend()\n",
    "plt.show()"
   ]
  },
  {
   "cell_type": "code",
   "execution_count": 107,
   "metadata": {},
   "outputs": [
    {
     "name": "stdout",
     "output_type": "stream",
     "text": [
      "(200,)\n"
     ]
    }
   ],
   "source": [
    "predictions_deNormalized = (predictions * joined_dataFrame_original['efeETG_GB'].std()) + joined_dataFrame_original['efeETG_GB'].mean()\n",
    "print(predictions_deNormalized.shape)"
   ]
  },
  {
   "cell_type": "code",
   "execution_count": 108,
   "metadata": {},
   "outputs": [
    {
     "data": {
      "image/png": "[encoded data removed]",
      "text/plain": [
       "<Figure size 432x288 with 1 Axes>"
      ]
     },
     "metadata": {
      "needs_background": "light"
     },
     "output_type": "display_data"
    }
   ],
   "source": [
    "plt.plot(table[:,1], predictions_deNormalized, 'r-', ms = 5, label = 'QuaLiKiz-NN')\n",
    "plt.plot(Ate_DF_Mk2_np_array, efeETG_DF_Mk2_np_array, 'b.', ms = 5, label = 'QuaLiKiz')\n",
    "plt.title('Data Slice NN vs. QuaLiKiz (De-Normalized)')\n",
    "plt.ylim(-15, 110)\n",
    "plt.xlabel('Ate')\n",
    "plt.ylabel('efeETG_GB')\n",
    "plt.legend()\n",
    "# plt.savefig('./2018-07-19_Plotting-Clean-Run0054/NN_Predictions.png', dpi = 100)\n",
    "plt.show()"
   ]
  },
  {
   "cell_type": "code",
   "execution_count": 109,
   "metadata": {},
   "outputs": [
    {
     "data": {
      "image/png": "[encoded data removed]",
      "text/plain": [
       "<Figure size 432x288 with 1 Axes>"
      ]
     },
     "metadata": {
      "needs_background": "light"
     },
     "output_type": "display_data"
    }
   ],
   "source": [
    "plt.plot(table[:,1], predictions_deNormalized, 'r-', ms = 5, label = 'QuaLiKiz-NN')\n",
    "plt.plot(Ate_DF_Mk2_np_array, efeETG_DF_Mk2_np_array, 'b.', ms = 5, label = 'QuaLiKiz')\n",
    "plt.title('Data Slice NN vs. QuaLiKiz (De-Normalized)')\n",
    "#plt.ylim(-15, 110)\n",
    "plt.xlabel('Ate')\n",
    "plt.ylabel('efeETG_GB')\n",
    "plt.legend()\n",
    "# plt.savefig('./2018-07-19_Plotting-Clean-Run0054/NN_Predictions.png', dpi = 100)\n",
    "plt.show()"
   ]
  },
  {
   "cell_type": "markdown",
   "metadata": {},
   "source": [
    "## Slice 2"
   ]
  },
  {
   "cell_type": "code",
   "execution_count": null,
   "metadata": {},
   "outputs": [],
   "source": [
    "# TODO"
   ]
  },
  {
   "cell_type": "code",
   "execution_count": null,
   "metadata": {},
   "outputs": [],
   "source": []
  }
 ],
 "metadata": {
  "kernelspec": {
   "display_name": "Python 3",
   "language": "python",
   "name": "python3"
  },
  "language_info": {
   "codemirror_mode": {
    "name": "ipython",
    "version": 3
   },
   "file_extension": ".py",
   "mimetype": "text/x-python",
   "name": "python",
   "nbconvert_exporter": "python",
   "pygments_lexer": "ipython3",
   "version": "3.6.7"
  }
 },
 "nbformat": 4,
 "nbformat_minor": 2
}
