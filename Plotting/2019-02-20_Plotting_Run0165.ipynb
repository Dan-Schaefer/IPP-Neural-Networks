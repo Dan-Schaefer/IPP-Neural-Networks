{
 "cells": [
  {
   "cell_type": "markdown",
   "metadata": {},
   "source": [
    "# Plotting dataslices for Run0165"
   ]
  },
  {
   "cell_type": "markdown",
   "metadata": {},
   "source": [
    "###### Plotting_Run0165\n",
    "- efiITG_GB"
   ]
  },
  {
   "cell_type": "code",
   "execution_count": null,
   "metadata": {},
   "outputs": [],
   "source": [
    "# DO NOT RUN THIS PART"
   ]
  },
  {
   "cell_type": "code",
   "execution_count": null,
   "metadata": {},
   "outputs": [],
   "source": [
    "import os\n",
    "import sys\n",
    "import time\n",
    "\n",
    "# Gets the current file name. Useful for procedurally generating output/log files.\n",
    "file_name =  os.path.basename(sys.argv[0][:-3])\n",
    "print(file_name)\n",
    "\n",
    "if file_name == \"ipykernel_launcher\":\n",
    "    print(\"This is the Jupyter version.\")\n",
    "    print(\"Now MANUALLY run the next two cells!\")\n",
    "    print(\"STOP! This should not be in your code!!\")\n",
    "    exit(0)\n",
    "    time.sleep(10)\n",
    "    print(\"Testing if script has really stopped.\")\n",
    "else:\n",
    "    print(\"This is the Atom version\")"
   ]
  },
  {
   "cell_type": "code",
   "execution_count": 1,
   "metadata": {},
   "outputs": [],
   "source": [
    "# RUN ONLY IN JUPYTER!!\n",
    "# Start here (manual)"
   ]
  },
  {
   "cell_type": "code",
   "execution_count": 2,
   "metadata": {},
   "outputs": [
    {
     "data": {
      "application/javascript": [
       "IPython.notebook.kernel.execute('file_name = \"' + IPython.notebook.notebook_name + '\"');\n"
      ],
      "text/plain": [
       "<IPython.core.display.Javascript object>"
      ]
     },
     "metadata": {},
     "output_type": "display_data"
    }
   ],
   "source": [
    "%%javascript\n",
    "IPython.notebook.kernel.execute('file_name = \"' + IPython.notebook.notebook_name + '\"');"
   ]
  },
  {
   "cell_type": "code",
   "execution_count": 3,
   "metadata": {},
   "outputs": [
    {
     "name": "stdout",
     "output_type": "stream",
     "text": [
      "2019-02-20_Plotting_Run0165.ipynb\n"
     ]
    }
   ],
   "source": [
    "print(file_name)"
   ]
  },
  {
   "cell_type": "code",
   "execution_count": 4,
   "metadata": {},
   "outputs": [
    {
     "name": "stdout",
     "output_type": "stream",
     "text": [
      "2019-02-20_Plotting_Run0165\n",
      "True\n"
     ]
    }
   ],
   "source": [
    "file_name = file_name[:-6]\n",
    "print(file_name)\n",
    "\n",
    "is_Jupyter = True\n",
    "print(is_Jupyter)"
   ]
  },
  {
   "cell_type": "code",
   "execution_count": null,
   "metadata": {},
   "outputs": [],
   "source": []
  },
  {
   "cell_type": "code",
   "execution_count": 5,
   "metadata": {},
   "outputs": [],
   "source": [
    "# Same code for both ATOM & JUPYTER from now (Run all cells below now)"
   ]
  },
  {
   "cell_type": "code",
   "execution_count": 6,
   "metadata": {},
   "outputs": [
    {
     "name": "stderr",
     "output_type": "stream",
     "text": [
      "Using TensorFlow backend.\n"
     ]
    }
   ],
   "source": [
    "'''\n",
    "Late Fusion Module (test) - Functional API\n",
    "'''\n",
    "\n",
    "# Multiple Inputs\n",
    "import keras\n",
    "from keras.optimizers import RMSprop, adam, Adam\n",
    "from keras.initializers import TruncatedNormal, glorot_normal, Constant\n",
    "from keras.utils import plot_model\n",
    "from keras.models import Model\n",
    "from keras.layers.core import Lambda\n",
    "from keras.layers import Input\n",
    "from keras.layers import Dense\n",
    "from keras.layers import MaxoutDense\n",
    "from keras.layers.merge import concatenate\n",
    "from keras import regularizers\n",
    "from keras import backend as K\n",
    "#from keras.backend import switch\n",
    "import pandas\n",
    "import numpy\n",
    "import sys\n",
    "import os\n",
    "from copy import deepcopy\n",
    "import tensorflow as tf\n",
    "from keras.utils.generic_utils import get_custom_objects\n",
    "from keras.layers.advanced_activations import ThresholdedReLU\n",
    "\n",
    "#keras.backend.clear_session()\n",
    "K.clear_session()"
   ]
  },
  {
   "cell_type": "code",
   "execution_count": 7,
   "metadata": {},
   "outputs": [],
   "source": [
    "# Define new Metric: rmse = Root Mean Square Error\n",
    "def rmse(y_true, y_pred):\n",
    "    return K.sqrt(K.mean(K.square( y_true-y_pred )))"
   ]
  },
  {
   "cell_type": "code",
   "execution_count": null,
   "metadata": {},
   "outputs": [],
   "source": []
  },
  {
   "cell_type": "code",
   "execution_count": 8,
   "metadata": {},
   "outputs": [],
   "source": [
    "# Modify for ATOM use"
   ]
  },
  {
   "cell_type": "code",
   "execution_count": 9,
   "metadata": {},
   "outputs": [],
   "source": [
    "if is_Jupyter == True:\n",
    "    pass\n",
    "else:\n",
    "    # Gets the current file name. Useful for procedurally generating output/log files.\n",
    "    file_name =  os.path.basename(sys.argv[0][:-3])"
   ]
  },
  {
   "cell_type": "code",
   "execution_count": null,
   "metadata": {},
   "outputs": [],
   "source": []
  },
  {
   "cell_type": "code",
   "execution_count": 10,
   "metadata": {},
   "outputs": [],
   "source": [
    "# Define neural network parameters\n",
    "batch_size = 10\n",
    "epochs = 100\n",
    "L2_regularization = 5E-7"
   ]
  },
  {
   "cell_type": "code",
   "execution_count": 11,
   "metadata": {},
   "outputs": [],
   "source": [
    "# Load Data (which is in HDF5 or .h5 format)\n",
    "store = pandas.HDFStore(\"../training_gen3_7D_nions0_flat_filter8.h5\")\n",
    "target_df = store['/output/efiITG_GB'].to_frame()  # This one is relatively easy to train\n",
    "input_df = store['input']\n",
    "\n",
    "# Puts inputs and outputs in the same pandas dataframe.\n",
    "# Also only keeps overlapping entries.\n",
    "joined_dataFrame = target_df.join(input_df)\n",
    "\n",
    "# Make a copy of joined_dataFrame for later use\n",
    "joined_dataFrame_original = deepcopy(joined_dataFrame)\n",
    "\n",
    "\n",
    "# *************************************************************************** #\n",
    "# Normalize data by standard deviation and mean-centering the data\n",
    "# Standard configuration\n",
    "joined_dataFrame['efiITG_GB'] = (joined_dataFrame['efiITG_GB'] - joined_dataFrame['efiITG_GB'].mean()) / joined_dataFrame['efiITG_GB'].std()\n",
    "joined_dataFrame['Ati'] = (joined_dataFrame['Ati'] - joined_dataFrame['Ati'].mean()) / joined_dataFrame['Ati'].std()\n",
    "joined_dataFrame['Ate'] = (joined_dataFrame['Ate'] - joined_dataFrame['Ate'].mean()) / joined_dataFrame['Ate'].std()\n",
    "joined_dataFrame['An'] = (joined_dataFrame['An'] - joined_dataFrame['An'].mean()) / joined_dataFrame['An'].std()\n",
    "joined_dataFrame['q'] = (joined_dataFrame['q'] - joined_dataFrame['q'].mean()) / joined_dataFrame['q'].std()\n",
    "joined_dataFrame['smag'] = (joined_dataFrame['smag'] - joined_dataFrame['smag'].mean()) / joined_dataFrame['smag'].std()\n",
    "joined_dataFrame['x'] = (joined_dataFrame['x'] - joined_dataFrame['x'].mean()) / joined_dataFrame['x'].std()\n",
    "joined_dataFrame['Ti_Te'] = (joined_dataFrame['Ti_Te'] - joined_dataFrame['Ti_Te'].mean()) / joined_dataFrame['Ti_Te'].std()\n",
    "\n",
    "# Shuffles dataset\n",
    "shuffled_joined_dataFrame = joined_dataFrame.reindex(numpy.random.permutation(\n",
    "                                                joined_dataFrame.index))\n",
    "\n",
    "# Creates a pandas dataframe for the outputs\n",
    "shuffled_clean_output_df = shuffled_joined_dataFrame['efiITG_GB']\n",
    "\n",
    "# Make a copy of shuffled_joined_dataFrame for later use\n",
    "shuffled_joined_dataFrame_base = deepcopy(shuffled_joined_dataFrame)\n",
    "\n",
    "\n",
    "\n",
    "# *************************************************************************** #\n",
    "# Creates a pandas dataframe for the inputs (7D)\n",
    "shuffled_clean_input_df_7D = shuffled_joined_dataFrame.drop('efiITG_GB', axis=1)\n",
    "\n",
    "# Creates training dataset (90% of total data) for outputs\n",
    "y_train = shuffled_clean_output_df.iloc[:int(\n",
    "    numpy.round(len(shuffled_clean_output_df)*0.9))]\n",
    "\n",
    "# Creates training dataset (90% of total data) for inputs\n",
    "x_train = shuffled_clean_input_df_7D.iloc[:int(\n",
    "    numpy.round(len(shuffled_clean_input_df_7D)*0.9))]\n",
    "\n",
    "# Creates testing dataset (10% of total data) for outputs\n",
    "y_test = shuffled_clean_output_df.iloc[int(\n",
    "    numpy.round(len(shuffled_clean_output_df)*0.9)):]\n",
    "\n",
    "# Creates testing dataset (10% of total data) for inputs\n",
    "x_test = shuffled_clean_input_df_7D.iloc[int(\n",
    "    numpy.round(len(shuffled_clean_input_df_7D)*0.9)):]\n",
    "# *************************************************************************** #\n",
    "\n",
    "\n",
    "# Deletes pandas dataframes that are no longer needed\n",
    "del target_df, input_df\n",
    "\n",
    "# Closes the HDFStore. This is good practice.\n",
    "store.close()"
   ]
  },
  {
   "cell_type": "code",
   "execution_count": 12,
   "metadata": {},
   "outputs": [
    {
     "data": {
      "text/html": [
       "<div>\n",
       "<style scoped>\n",
       "    .dataframe tbody tr th:only-of-type {\n",
       "        vertical-align: middle;\n",
       "    }\n",
       "\n",
       "    .dataframe tbody tr th {\n",
       "        vertical-align: top;\n",
       "    }\n",
       "\n",
       "    .dataframe thead th {\n",
       "        text-align: right;\n",
       "    }\n",
       "</style>\n",
       "<table border=\"1\" class=\"dataframe\">\n",
       "  <thead>\n",
       "    <tr style=\"text-align: right;\">\n",
       "      <th></th>\n",
       "      <th>Ati</th>\n",
       "      <th>Ate</th>\n",
       "      <th>An</th>\n",
       "      <th>q</th>\n",
       "      <th>smag</th>\n",
       "      <th>x</th>\n",
       "      <th>Ti_Te</th>\n",
       "    </tr>\n",
       "  </thead>\n",
       "  <tbody>\n",
       "    <tr>\n",
       "      <th>count</th>\n",
       "      <td>6.479137e+06</td>\n",
       "      <td>6.479137e+06</td>\n",
       "      <td>6.479137e+06</td>\n",
       "      <td>6.479137e+06</td>\n",
       "      <td>6.479137e+06</td>\n",
       "      <td>6.479137e+06</td>\n",
       "      <td>6.479137e+06</td>\n",
       "    </tr>\n",
       "    <tr>\n",
       "      <th>mean</th>\n",
       "      <td>2.718166e-15</td>\n",
       "      <td>2.280725e-15</td>\n",
       "      <td>3.364466e-15</td>\n",
       "      <td>-2.902235e-15</td>\n",
       "      <td>-3.753538e-15</td>\n",
       "      <td>2.772363e-15</td>\n",
       "      <td>-4.316537e-15</td>\n",
       "    </tr>\n",
       "    <tr>\n",
       "      <th>std</th>\n",
       "      <td>1.000000e+00</td>\n",
       "      <td>1.000000e+00</td>\n",
       "      <td>1.000000e+00</td>\n",
       "      <td>1.000000e+00</td>\n",
       "      <td>1.000000e+00</td>\n",
       "      <td>1.000000e+00</td>\n",
       "      <td>1.000000e+00</td>\n",
       "    </tr>\n",
       "    <tr>\n",
       "      <th>min</th>\n",
       "      <td>-1.632300e+00</td>\n",
       "      <td>-1.639065e+00</td>\n",
       "      <td>-1.901001e+00</td>\n",
       "      <td>-8.370116e-01</td>\n",
       "      <td>-1.574307e+00</td>\n",
       "      <td>-1.405340e+00</td>\n",
       "      <td>-1.235044e+00</td>\n",
       "    </tr>\n",
       "    <tr>\n",
       "      <th>25%</th>\n",
       "      <td>-7.928000e-01</td>\n",
       "      <td>-7.898708e-01</td>\n",
       "      <td>-5.438138e-01</td>\n",
       "      <td>-6.367600e-01</td>\n",
       "      <td>-8.011463e-01</td>\n",
       "      <td>-9.907529e-01</td>\n",
       "      <td>-8.817246e-01</td>\n",
       "    </tr>\n",
       "    <tr>\n",
       "      <th>50%</th>\n",
       "      <td>-1.059360e-01</td>\n",
       "      <td>-9.507533e-02</td>\n",
       "      <td>1.347799e-01</td>\n",
       "      <td>-3.983652e-01</td>\n",
       "      <td>-1.936629e-01</td>\n",
       "      <td>-1.615792e-01</td>\n",
       "      <td>-1.750863e-01</td>\n",
       "    </tr>\n",
       "    <tr>\n",
       "      <th>75%</th>\n",
       "      <td>5.809279e-01</td>\n",
       "      <td>5.997202e-01</td>\n",
       "      <td>6.437252e-01</td>\n",
       "      <td>1.976217e-01</td>\n",
       "      <td>9.108525e-01</td>\n",
       "      <td>6.675945e-01</td>\n",
       "      <td>7.576761e-01</td>\n",
       "    </tr>\n",
       "    <tr>\n",
       "      <th>max</th>\n",
       "      <td>2.641520e+00</td>\n",
       "      <td>2.684107e+00</td>\n",
       "      <td>1.831264e+00</td>\n",
       "      <td>2.581570e+00</td>\n",
       "      <td>1.739239e+00</td>\n",
       "      <td>1.704062e+00</td>\n",
       "      <td>1.944828e+00</td>\n",
       "    </tr>\n",
       "  </tbody>\n",
       "</table>\n",
       "</div>"
      ],
      "text/plain": [
       "                Ati           Ate            An             q          smag  \\\n",
       "count  6.479137e+06  6.479137e+06  6.479137e+06  6.479137e+06  6.479137e+06   \n",
       "mean   2.718166e-15  2.280725e-15  3.364466e-15 -2.902235e-15 -3.753538e-15   \n",
       "std    1.000000e+00  1.000000e+00  1.000000e+00  1.000000e+00  1.000000e+00   \n",
       "min   -1.632300e+00 -1.639065e+00 -1.901001e+00 -8.370116e-01 -1.574307e+00   \n",
       "25%   -7.928000e-01 -7.898708e-01 -5.438138e-01 -6.367600e-01 -8.011463e-01   \n",
       "50%   -1.059360e-01 -9.507533e-02  1.347799e-01 -3.983652e-01 -1.936629e-01   \n",
       "75%    5.809279e-01  5.997202e-01  6.437252e-01  1.976217e-01  9.108525e-01   \n",
       "max    2.641520e+00  2.684107e+00  1.831264e+00  2.581570e+00  1.739239e+00   \n",
       "\n",
       "                  x         Ti_Te  \n",
       "count  6.479137e+06  6.479137e+06  \n",
       "mean   2.772363e-15 -4.316537e-15  \n",
       "std    1.000000e+00  1.000000e+00  \n",
       "min   -1.405340e+00 -1.235044e+00  \n",
       "25%   -9.907529e-01 -8.817246e-01  \n",
       "50%   -1.615792e-01 -1.750863e-01  \n",
       "75%    6.675945e-01  7.576761e-01  \n",
       "max    1.704062e+00  1.944828e+00  "
      ]
     },
     "execution_count": 12,
     "metadata": {},
     "output_type": "execute_result"
    }
   ],
   "source": [
    "shuffled_clean_input_df_7D.describe(include='all')"
   ]
  },
  {
   "cell_type": "code",
   "execution_count": 13,
   "metadata": {},
   "outputs": [],
   "source": [
    "# Creates a pandas dataframe for the inputs\n",
    "shuffled_clean_input_df_1 = shuffled_clean_input_df_7D.drop('Ate', axis=1)"
   ]
  },
  {
   "cell_type": "code",
   "execution_count": 14,
   "metadata": {},
   "outputs": [
    {
     "data": {
      "text/html": [
       "<div>\n",
       "<style scoped>\n",
       "    .dataframe tbody tr th:only-of-type {\n",
       "        vertical-align: middle;\n",
       "    }\n",
       "\n",
       "    .dataframe tbody tr th {\n",
       "        vertical-align: top;\n",
       "    }\n",
       "\n",
       "    .dataframe thead th {\n",
       "        text-align: right;\n",
       "    }\n",
       "</style>\n",
       "<table border=\"1\" class=\"dataframe\">\n",
       "  <thead>\n",
       "    <tr style=\"text-align: right;\">\n",
       "      <th></th>\n",
       "      <th>Ati</th>\n",
       "      <th>An</th>\n",
       "      <th>q</th>\n",
       "      <th>smag</th>\n",
       "      <th>x</th>\n",
       "      <th>Ti_Te</th>\n",
       "    </tr>\n",
       "  </thead>\n",
       "  <tbody>\n",
       "    <tr>\n",
       "      <th>count</th>\n",
       "      <td>6.479137e+06</td>\n",
       "      <td>6.479137e+06</td>\n",
       "      <td>6.479137e+06</td>\n",
       "      <td>6.479137e+06</td>\n",
       "      <td>6.479137e+06</td>\n",
       "      <td>6.479137e+06</td>\n",
       "    </tr>\n",
       "    <tr>\n",
       "      <th>mean</th>\n",
       "      <td>2.718166e-15</td>\n",
       "      <td>3.364466e-15</td>\n",
       "      <td>-2.902235e-15</td>\n",
       "      <td>-3.753538e-15</td>\n",
       "      <td>2.772363e-15</td>\n",
       "      <td>-4.316537e-15</td>\n",
       "    </tr>\n",
       "    <tr>\n",
       "      <th>std</th>\n",
       "      <td>1.000000e+00</td>\n",
       "      <td>1.000000e+00</td>\n",
       "      <td>1.000000e+00</td>\n",
       "      <td>1.000000e+00</td>\n",
       "      <td>1.000000e+00</td>\n",
       "      <td>1.000000e+00</td>\n",
       "    </tr>\n",
       "    <tr>\n",
       "      <th>min</th>\n",
       "      <td>-1.632300e+00</td>\n",
       "      <td>-1.901001e+00</td>\n",
       "      <td>-8.370116e-01</td>\n",
       "      <td>-1.574307e+00</td>\n",
       "      <td>-1.405340e+00</td>\n",
       "      <td>-1.235044e+00</td>\n",
       "    </tr>\n",
       "    <tr>\n",
       "      <th>25%</th>\n",
       "      <td>-7.928000e-01</td>\n",
       "      <td>-5.438138e-01</td>\n",
       "      <td>-6.367600e-01</td>\n",
       "      <td>-8.011463e-01</td>\n",
       "      <td>-9.907529e-01</td>\n",
       "      <td>-8.817246e-01</td>\n",
       "    </tr>\n",
       "    <tr>\n",
       "      <th>50%</th>\n",
       "      <td>-1.059360e-01</td>\n",
       "      <td>1.347799e-01</td>\n",
       "      <td>-3.983652e-01</td>\n",
       "      <td>-1.936629e-01</td>\n",
       "      <td>-1.615792e-01</td>\n",
       "      <td>-1.750863e-01</td>\n",
       "    </tr>\n",
       "    <tr>\n",
       "      <th>75%</th>\n",
       "      <td>5.809279e-01</td>\n",
       "      <td>6.437252e-01</td>\n",
       "      <td>1.976217e-01</td>\n",
       "      <td>9.108525e-01</td>\n",
       "      <td>6.675945e-01</td>\n",
       "      <td>7.576761e-01</td>\n",
       "    </tr>\n",
       "    <tr>\n",
       "      <th>max</th>\n",
       "      <td>2.641520e+00</td>\n",
       "      <td>1.831264e+00</td>\n",
       "      <td>2.581570e+00</td>\n",
       "      <td>1.739239e+00</td>\n",
       "      <td>1.704062e+00</td>\n",
       "      <td>1.944828e+00</td>\n",
       "    </tr>\n",
       "  </tbody>\n",
       "</table>\n",
       "</div>"
      ],
      "text/plain": [
       "                Ati            An             q          smag             x  \\\n",
       "count  6.479137e+06  6.479137e+06  6.479137e+06  6.479137e+06  6.479137e+06   \n",
       "mean   2.718166e-15  3.364466e-15 -2.902235e-15 -3.753538e-15  2.772363e-15   \n",
       "std    1.000000e+00  1.000000e+00  1.000000e+00  1.000000e+00  1.000000e+00   \n",
       "min   -1.632300e+00 -1.901001e+00 -8.370116e-01 -1.574307e+00 -1.405340e+00   \n",
       "25%   -7.928000e-01 -5.438138e-01 -6.367600e-01 -8.011463e-01 -9.907529e-01   \n",
       "50%   -1.059360e-01  1.347799e-01 -3.983652e-01 -1.936629e-01 -1.615792e-01   \n",
       "75%    5.809279e-01  6.437252e-01  1.976217e-01  9.108525e-01  6.675945e-01   \n",
       "max    2.641520e+00  1.831264e+00  2.581570e+00  1.739239e+00  1.704062e+00   \n",
       "\n",
       "              Ti_Te  \n",
       "count  6.479137e+06  \n",
       "mean  -4.316537e-15  \n",
       "std    1.000000e+00  \n",
       "min   -1.235044e+00  \n",
       "25%   -8.817246e-01  \n",
       "50%   -1.750863e-01  \n",
       "75%    7.576761e-01  \n",
       "max    1.944828e+00  "
      ]
     },
     "execution_count": 14,
     "metadata": {},
     "output_type": "execute_result"
    }
   ],
   "source": [
    "shuffled_clean_input_df_1.describe(include='all')"
   ]
  },
  {
   "cell_type": "code",
   "execution_count": 15,
   "metadata": {},
   "outputs": [
    {
     "name": "stdout",
     "output_type": "stream",
     "text": [
      "(6479137, 6)\n"
     ]
    }
   ],
   "source": [
    "print(shuffled_clean_input_df_1.shape)"
   ]
  },
  {
   "cell_type": "code",
   "execution_count": 16,
   "metadata": {},
   "outputs": [],
   "source": [
    "shuffled_clean_input_df_2 = shuffled_clean_input_df_7D.drop('Ati', axis=1)\n",
    "shuffled_clean_input_df_2 = shuffled_clean_input_df_2.drop('An', axis=1)\n",
    "shuffled_clean_input_df_2 = shuffled_clean_input_df_2.drop('q', axis=1)\n",
    "shuffled_clean_input_df_2 = shuffled_clean_input_df_2.drop('smag', axis=1)\n",
    "shuffled_clean_input_df_2 = shuffled_clean_input_df_2.drop('x', axis=1)\n",
    "shuffled_clean_input_df_2 = shuffled_clean_input_df_2.drop('Ti_Te', axis=1)"
   ]
  },
  {
   "cell_type": "code",
   "execution_count": 17,
   "metadata": {},
   "outputs": [
    {
     "data": {
      "text/html": [
       "<div>\n",
       "<style scoped>\n",
       "    .dataframe tbody tr th:only-of-type {\n",
       "        vertical-align: middle;\n",
       "    }\n",
       "\n",
       "    .dataframe tbody tr th {\n",
       "        vertical-align: top;\n",
       "    }\n",
       "\n",
       "    .dataframe thead th {\n",
       "        text-align: right;\n",
       "    }\n",
       "</style>\n",
       "<table border=\"1\" class=\"dataframe\">\n",
       "  <thead>\n",
       "    <tr style=\"text-align: right;\">\n",
       "      <th></th>\n",
       "      <th>Ate</th>\n",
       "    </tr>\n",
       "  </thead>\n",
       "  <tbody>\n",
       "    <tr>\n",
       "      <th>count</th>\n",
       "      <td>6.479137e+06</td>\n",
       "    </tr>\n",
       "    <tr>\n",
       "      <th>mean</th>\n",
       "      <td>2.280725e-15</td>\n",
       "    </tr>\n",
       "    <tr>\n",
       "      <th>std</th>\n",
       "      <td>1.000000e+00</td>\n",
       "    </tr>\n",
       "    <tr>\n",
       "      <th>min</th>\n",
       "      <td>-1.639065e+00</td>\n",
       "    </tr>\n",
       "    <tr>\n",
       "      <th>25%</th>\n",
       "      <td>-7.898708e-01</td>\n",
       "    </tr>\n",
       "    <tr>\n",
       "      <th>50%</th>\n",
       "      <td>-9.507533e-02</td>\n",
       "    </tr>\n",
       "    <tr>\n",
       "      <th>75%</th>\n",
       "      <td>5.997202e-01</td>\n",
       "    </tr>\n",
       "    <tr>\n",
       "      <th>max</th>\n",
       "      <td>2.684107e+00</td>\n",
       "    </tr>\n",
       "  </tbody>\n",
       "</table>\n",
       "</div>"
      ],
      "text/plain": [
       "                Ate\n",
       "count  6.479137e+06\n",
       "mean   2.280725e-15\n",
       "std    1.000000e+00\n",
       "min   -1.639065e+00\n",
       "25%   -7.898708e-01\n",
       "50%   -9.507533e-02\n",
       "75%    5.997202e-01\n",
       "max    2.684107e+00"
      ]
     },
     "execution_count": 17,
     "metadata": {},
     "output_type": "execute_result"
    }
   ],
   "source": [
    "shuffled_clean_input_df_2.describe(include='all')"
   ]
  },
  {
   "cell_type": "code",
   "execution_count": 18,
   "metadata": {},
   "outputs": [
    {
     "name": "stdout",
     "output_type": "stream",
     "text": [
      "(6479137, 1)\n"
     ]
    }
   ],
   "source": [
    "print(shuffled_clean_input_df_2.shape)"
   ]
  },
  {
   "cell_type": "code",
   "execution_count": 19,
   "metadata": {},
   "outputs": [],
   "source": [
    "# *************************************************************************** #\n",
    "# Branch 1\n",
    "\n",
    "# Creates training dataset (90% of total data) for inputs\n",
    "x_train_1 = shuffled_clean_input_df_1.iloc[:int(\n",
    "    numpy.round(len(shuffled_clean_input_df_1)*0.9))]\n",
    "\n",
    "# Creates testing dataset (10% of total data) for inputs\n",
    "x_test_1 = shuffled_clean_input_df_1.iloc[int(\n",
    "    numpy.round(len(shuffled_clean_input_df_1)*0.9)):]\n",
    "# *************************************************************************** #"
   ]
  },
  {
   "cell_type": "code",
   "execution_count": 20,
   "metadata": {},
   "outputs": [],
   "source": [
    "# *************************************************************************** #\n",
    "# Branch 2\n",
    "\n",
    "# Creates training dataset (90% of total data) for inputs\n",
    "x_train_2 = shuffled_clean_input_df_2.iloc[:int(\n",
    "    numpy.round(len(shuffled_clean_input_df_2)*0.9))]\n",
    "\n",
    "# Creates testing dataset (10% of total data) for inputs\n",
    "x_test_2 = shuffled_clean_input_df_2.iloc[int(\n",
    "    numpy.round(len(shuffled_clean_input_df_2)*0.9)):]\n",
    "# *************************************************************************** #"
   ]
  },
  {
   "cell_type": "markdown",
   "metadata": {},
   "source": [
    "# Load Model"
   ]
  },
  {
   "cell_type": "code",
   "execution_count": 21,
   "metadata": {},
   "outputs": [],
   "source": [
    "from keras.models import load_model"
   ]
  },
  {
   "cell_type": "code",
   "execution_count": 22,
   "metadata": {},
   "outputs": [],
   "source": [
    "new_model = load_model('../Saved-Networks/2019-02-20_Run0165.h5', custom_objects={'rmse': rmse})"
   ]
  },
  {
   "cell_type": "markdown",
   "metadata": {},
   "source": [
    "#### Model information"
   ]
  },
  {
   "cell_type": "code",
   "execution_count": 23,
   "metadata": {},
   "outputs": [
    {
     "name": "stdout",
     "output_type": "stream",
     "text": [
      "__________________________________________________________________________________________________\n",
      "Layer (type)                    Output Shape         Param #     Connected to                     \n",
      "==================================================================================================\n",
      "6D_INPUTS (InputLayer)          (None, 6)            0                                            \n",
      "__________________________________________________________________________________________________\n",
      "hidden1_branch1 (Dense)         (None, 30)           210         6D_INPUTS[0][0]                  \n",
      "__________________________________________________________________________________________________\n",
      "hidden2_branch1 (Dense)         (None, 30)           930         hidden1_branch1[0][0]            \n",
      "__________________________________________________________________________________________________\n",
      "theta_branch1 (Dense)           (None, 1)            31          hidden2_branch1[0][0]            \n",
      "__________________________________________________________________________________________________\n",
      "hidden1_branch3 (Dense)         (None, 30)           210         6D_INPUTS[0][0]                  \n",
      "__________________________________________________________________________________________________\n",
      "theta_branch1_feeder (Dense)    (None, 1)            2           theta_branch1[0][0]              \n",
      "__________________________________________________________________________________________________\n",
      "Ate_INPUT (InputLayer)          (None, 1)            0                                            \n",
      "__________________________________________________________________________________________________\n",
      "hidden2_branch3 (Dense)         (None, 30)           930         hidden1_branch3[0][0]            \n",
      "__________________________________________________________________________________________________\n",
      "hidden1_branch4 (Dense)         (None, 30)           210         6D_INPUTS[0][0]                  \n",
      "__________________________________________________________________________________________________\n",
      "Addition_Operator (Add)         (None, 1)            0           theta_branch1_feeder[0][0]       \n",
      "                                                                 Ate_INPUT[0][0]                  \n",
      "__________________________________________________________________________________________________\n",
      "c_3_branch3 (Dense)             (None, 1)            31          hidden2_branch3[0][0]            \n",
      "__________________________________________________________________________________________________\n",
      "hidden2_branch4 (Dense)         (None, 30)           930         hidden1_branch4[0][0]            \n",
      "__________________________________________________________________________________________________\n",
      "TR (Dense)                      (None, 1)            2           Addition_Operator[0][0]          \n",
      "__________________________________________________________________________________________________\n",
      "Power_Operator (Lambda)         (None, 1)            0           Addition_Operator[0][0]          \n",
      "                                                                 c_3_branch3[0][0]                \n",
      "__________________________________________________________________________________________________\n",
      "m_branch4 (Dense)               (None, 1)            31          hidden2_branch4[0][0]            \n",
      "__________________________________________________________________________________________________\n",
      "Multiplication_Operator_1 (Mult (None, 1)            0           TR[0][0]                         \n",
      "                                                                 Power_Operator[0][0]             \n",
      "__________________________________________________________________________________________________\n",
      "Multiplication_Operator_2 (Mult (None, 1)            0           m_branch4[0][0]                  \n",
      "                                                                 Multiplication_Operator_1[0][0]  \n",
      "__________________________________________________________________________________________________\n",
      "Output_Layer (Dense)            (None, 1)            2           Multiplication_Operator_2[0][0]  \n",
      "==================================================================================================\n",
      "Total params: 3,519\n",
      "Trainable params: 3,515\n",
      "Non-trainable params: 4\n",
      "__________________________________________________________________________________________________\n"
     ]
    }
   ],
   "source": [
    "new_model.summary()"
   ]
  },
  {
   "cell_type": "code",
   "execution_count": 24,
   "metadata": {},
   "outputs": [
    {
     "data": {
      "text/plain": [
       "[array([[-0.0128553 ,  0.10865282, -2.5514426 ,  1.0346972 , -0.37742913,\n",
       "          0.10535061, -1.0557122 , -1.3882746 ,  2.3682454 ,  0.41876662,\n",
       "         -1.9423051 , -1.3597388 , -1.0388839 ,  0.60361654, -0.23137008,\n",
       "          1.8934602 ,  0.8634241 ,  3.1700158 , -1.1890099 ,  2.864263  ,\n",
       "          2.9546926 , -1.8734576 , -2.346687  ,  2.4378057 , -1.5020705 ,\n",
       "          1.4410057 , -0.49541005, -0.25200364, -0.7983616 ,  2.061711  ],\n",
       "        [ 1.8002754 , -3.4298277 , -2.132117  , -3.1989202 ,  0.9129164 ,\n",
       "         -0.5375042 , -1.113152  ,  0.48995394,  3.0599887 , -0.44669968,\n",
       "          5.5464964 ,  0.2700259 , -0.52067244, -0.34905472,  2.3182778 ,\n",
       "          0.6188811 , -3.210989  ,  0.2551024 ,  0.6321972 ,  1.1359912 ,\n",
       "         -0.05789331, -0.8464772 ,  1.7951742 , -1.0826461 , -2.1385937 ,\n",
       "          0.7723185 , -0.19609444,  2.1584363 , -0.88583696, -3.646409  ],\n",
       "        [ 0.83644855, -0.02864921,  0.06021408,  0.07179625, -2.0960083 ,\n",
       "          2.8114839 , -0.14501488,  0.51089877, -0.04557136,  0.02969835,\n",
       "         -0.06887734,  0.44047132, -0.37973648,  4.309012  , -0.02786172,\n",
       "          0.52077264, -0.4838655 ,  0.06992801, -0.4075789 ,  0.32625374,\n",
       "         -0.31802016, -2.0237718 , -0.09546047,  0.2918748 ,  0.3309247 ,\n",
       "         -0.16032843, -4.9975414 ,  0.05340894, -0.6266857 , -0.33109242],\n",
       "        [ 1.4894967 ,  1.0285736 , -2.7306666 ,  1.1113197 , -2.7340636 ,\n",
       "         -2.2867799 ,  2.861358  ,  6.532611  , -2.9878778 , -0.18860643,\n",
       "         -3.1344671 ,  4.454683  ,  1.7279669 , -1.268772  , -3.0499046 ,\n",
       "          4.701404  , -0.47853774, -3.4177954 ,  5.936015  ,  2.5398784 ,\n",
       "          3.6568546 , -3.4885375 ,  1.1850064 , -1.6396515 , -3.8239465 ,\n",
       "          1.151747  , -3.1615646 , -3.1892486 , -3.4453893 , -0.6875758 ],\n",
       "        [-4.612098  ,  0.0369675 ,  0.32967368,  0.18755625,  0.09028465,\n",
       "          1.7219049 , -0.5422506 , -3.486711  ,  0.6404866 , -0.02840336,\n",
       "          0.41401425, -0.8409683 ,  1.1414387 ,  0.4605512 ,  0.16355129,\n",
       "          0.6560572 ,  0.13849826,  0.7154149 , -0.16222233,  0.41383716,\n",
       "         -0.15047331, -0.9968928 , -0.76313657,  1.2947567 ,  0.0606747 ,\n",
       "          2.067191  , -0.37794617,  0.39861587, -0.77749944,  0.5681213 ],\n",
       "        [ 1.2369055 , -0.48150504,  0.19787529,  6.663555  , -1.5349746 ,\n",
       "         -1.865797  ,  1.0889672 ,  1.3710753 ,  1.7994823 , -3.8634305 ,\n",
       "         -3.0687075 ,  1.3586704 ,  0.3077353 , -0.21991275, -0.02415719,\n",
       "         -1.007357  ,  3.3670583 , -0.99224865, -2.0696664 , -1.1165159 ,\n",
       "          0.05754948,  0.7135035 , -1.7433534 ,  1.4727091 ,  0.46184903,\n",
       "         -1.7777327 ,  0.12210207,  0.8774309 , -1.1772895 , -0.1410198 ]],\n",
       "       dtype=float32),\n",
       " array([ -9.056549  ,   0.34930602,  -2.3247197 ,  11.648963  ,\n",
       "         -5.8239965 ,   4.314919  ,   0.57909936,  -1.1502377 ,\n",
       "         -5.5466824 ,  -3.8246071 , -10.557232  ,  -1.2730463 ,\n",
       "          4.89466   ,   2.0220623 ,  -3.498404  ,   1.4757729 ,\n",
       "          6.8054576 ,  -1.3914661 ,   7.372582  ,   2.7017572 ,\n",
       "          5.688128  ,  -3.697404  ,  -2.23731   ,  -9.386591  ,\n",
       "         -5.2785068 ,   4.6210947 ,  -6.362896  ,  -5.715841  ,\n",
       "         -1.0862105 ,   5.1628456 ], dtype=float32),\n",
       " array([[-2.97744185e-01,  3.19907188e-01, -1.69793159e-01,\n",
       "         -2.19448581e-01, -2.46081161e+00, -5.75340958e-03,\n",
       "          5.04251838e-01, -6.80718455e-04,  3.14714789e+00,\n",
       "          1.23492587e+00, -4.80682327e-04, -1.19075871e+00,\n",
       "         -1.72259200e+00,  1.94510317e-03,  1.05515289e+00,\n",
       "         -6.23177528e-01,  1.36006165e+00,  9.49119106e-02,\n",
       "          1.18624794e+00,  5.07926047e-01,  5.28605580e-01,\n",
       "          8.09360445e-02,  1.41781473e+00,  6.17190599e-01,\n",
       "          5.25799513e-01, -3.76938224e-01,  1.58577394e+00,\n",
       "          2.29484215e-01,  5.41158020e-04,  1.06091702e+00],\n",
       "        [ 1.17899752e+00,  6.29152060e-02, -7.88722515e-01,\n",
       "         -6.65959358e-01, -1.28098011e-01,  3.82273295e-03,\n",
       "          1.44947127e-01,  1.13920216e-03,  2.39384308e-01,\n",
       "         -2.36363545e-01, -1.39873021e-03, -1.09644704e-01,\n",
       "         -2.05189269e-02, -1.22145948e-03, -1.01229870e+00,\n",
       "          3.38424802e-01, -2.40946603e+00,  1.47433150e+00,\n",
       "         -2.05239624e-01, -5.84088527e-02, -2.51320470e-02,\n",
       "          1.57017693e-01, -9.29139033e-02,  3.18614578e+00,\n",
       "         -1.48915118e-02, -1.01349898e-01, -9.30469513e-01,\n",
       "         -2.04983890e-01, -5.54958067e-04, -3.13974351e-01],\n",
       "        [-6.62924886e-01,  2.60110110e-01,  8.58388562e-03,\n",
       "          1.48673713e+00, -6.83476448e-01, -2.78495601e-03,\n",
       "          4.39336926e-01, -1.21027080e-03,  5.46678364e-01,\n",
       "          2.61010480e+00,  1.44879552e-04, -1.34172022e+00,\n",
       "         -4.19233978e-01,  1.81191589e-03,  4.50909019e-01,\n",
       "          1.59200415e-01,  1.44444299e+00, -5.39383292e-01,\n",
       "          7.62069285e-01,  3.54896873e-01,  3.53082687e-01,\n",
       "          8.95856678e-01,  2.38727883e-01,  2.04807073e-01,\n",
       "          3.55024427e-01, -2.97952235e-01, -3.37644190e-01,\n",
       "          4.59731579e-01,  6.20481733e-04,  7.56874204e-01],\n",
       "        [ 6.12386942e-01, -1.03060639e+00,  3.73073339e-01,\n",
       "          4.92443413e-01,  1.85100067e+00,  6.65697036e-03,\n",
       "         -4.81189877e-01,  1.03295140e-03, -3.51773524e+00,\n",
       "         -4.32910061e+00,  4.00698220e-04,  1.64937222e+00,\n",
       "         -2.70634949e-01, -2.38667475e-03, -8.49422395e-01,\n",
       "         -2.61929899e-01,  3.64500105e-01,  6.79633975e-01,\n",
       "         -1.30579984e+00, -5.80223858e-01, -6.11500323e-01,\n",
       "         -1.13120902e+00, -1.09654582e+00, -2.82129955e+00,\n",
       "         -6.11018658e-01,  5.83337069e-01, -6.02676094e-01,\n",
       "         -1.23507224e-01, -6.56136370e-04,  3.03593993e-01],\n",
       "        [-2.03920794e+00,  4.85266924e-01,  2.51043066e-02,\n",
       "         -8.32856536e-01, -4.13777471e-01, -7.80313648e-03,\n",
       "          4.28047866e-01, -7.63303717e-04,  1.15640557e+00,\n",
       "          6.62537336e-01, -6.10652787e-04, -6.90043271e-02,\n",
       "         -2.46347394e-02,  2.24309275e-03,  8.24426472e-01,\n",
       "          6.66189417e-02,  2.03794956e+00, -1.71256757e+00,\n",
       "          4.38863814e-01,  5.05612195e-01,  5.06452858e-01,\n",
       "          1.11572146e-01,  1.23721993e+00,  9.39285100e-01,\n",
       "          5.07256508e-01, -5.38271308e-01,  9.21774626e-01,\n",
       "          1.90317705e-01,  3.09610448e-04, -3.50595087e-01],\n",
       "        [ 1.18152015e-01, -2.44394049e-01, -1.19476058e-02,\n",
       "         -1.00870359e+00, -4.17814404e-02,  6.51484262e-03,\n",
       "         -3.04181159e-01,  1.16325100e-03, -6.90467179e-01,\n",
       "         -8.62967014e-01,  6.05146750e-04,  1.84587324e+00,\n",
       "          9.75734711e-01, -2.49717990e-03, -1.08530700e+00,\n",
       "          4.90053028e-01,  1.58577502e+00,  1.37706327e+00,\n",
       "         -1.18650854e+00, -2.86898702e-01, -2.96139896e-01,\n",
       "         -4.46729392e-01, -2.06565335e-01, -1.89480677e-01,\n",
       "         -2.86189586e-01,  3.13157141e-01, -2.75936842e+00,\n",
       "         -7.73366839e-02, -8.01956339e-04, -1.60629570e+00],\n",
       "        [-1.67082286e+00,  2.31240273e-01,  5.47955222e-02,\n",
       "          1.65379858e+00,  6.07042313e-01, -7.07244454e-03,\n",
       "          3.34778458e-01, -1.51830574e-03,  3.46519887e-01,\n",
       "         -4.38937157e-01, -3.83443577e-04, -1.45655918e+00,\n",
       "         -1.89613640e+00,  2.86707701e-03,  1.56528342e+00,\n",
       "         -4.83188719e-01,  3.05239081e+00, -1.21569633e+00,\n",
       "          1.21696603e+00,  5.24402022e-01,  5.27478158e-01,\n",
       "          3.42487931e+00,  1.38925940e-01,  1.63004458e+00,\n",
       "          5.23393929e-01, -3.98381293e-01,  3.50869894e+00,\n",
       "          2.90049464e-01,  9.25136614e-04,  1.55163205e+00],\n",
       "        [-6.57721102e-01,  3.37828249e-01, -6.37236908e-02,\n",
       "          7.40653992e-01,  5.58785141e-01, -6.66947803e-03,\n",
       "          3.48336965e-01, -7.54246896e-04, -1.30256546e+00,\n",
       "          2.11713862e+00, -4.44285164e-04, -7.34523118e-01,\n",
       "          4.31324065e-01,  2.08666525e-03,  1.12861979e+00,\n",
       "         -2.77917325e-01, -1.76649702e+00, -3.30312282e-01,\n",
       "          1.54571342e+00,  3.44193935e-01,  3.60767007e-01,\n",
       "          1.92303300e+00, -9.18295458e-02, -9.67839897e-01,\n",
       "          3.45918119e-01, -2.79341191e-01,  1.01082182e+00,\n",
       "          9.56840217e-02,  4.66186495e-04,  6.72849417e-01],\n",
       "        [ 1.25476439e-03,  3.12923521e-01, -2.79934973e-01,\n",
       "         -9.78326499e-01, -1.08163917e+00,  7.17253750e-03,\n",
       "         -9.42579359e-02,  5.78489993e-03, -4.97009516e-01,\n",
       "          7.00749040e-01, -1.41956750e-03,  3.13752115e-01,\n",
       "          6.14735126e-01, -6.34328695e-03,  6.56486511e-01,\n",
       "         -3.77122276e-02,  3.35682482e-01,  4.20631200e-01,\n",
       "          5.92098653e-01, -1.23246729e-01, -1.18435606e-01,\n",
       "         -1.30429089e+00,  2.79547989e-01, -1.27934957e+00,\n",
       "         -1.16307847e-01,  7.97811002e-02,  1.20915785e-01,\n",
       "         -4.32734549e-01, -1.91811507e-03,  6.03677392e-01],\n",
       "        [ 1.49185732e-01,  8.80464256e-01, -3.69688481e-01,\n",
       "         -1.64178348e+00, -7.36874640e-01, -4.79608960e-03,\n",
       "         -8.13378394e-03, -4.72198408e-05, -1.10741949e+00,\n",
       "         -2.31474686e+00, -7.71825260e-04,  2.20653325e-01,\n",
       "          2.56632954e-01,  1.31938199e-03,  1.25916883e-01,\n",
       "          3.31224889e-01,  9.67015982e-01, -1.30922163e+00,\n",
       "         -8.61983001e-01,  7.41147101e-02,  5.46586066e-02,\n",
       "         -1.12368301e-01,  7.12902486e-01, -2.73589015e+00,\n",
       "          7.82738253e-02, -2.91993111e-01,  1.82284760e+00,\n",
       "         -4.68346387e-01, -2.89709977e-04,  2.62860447e-01],\n",
       "        [-7.36736238e-01,  5.26639938e-01, -1.14572294e-01,\n",
       "         -2.04541147e-01,  7.14361966e-01, -6.15166454e-03,\n",
       "          5.33004582e-01, -1.45335041e-03,  4.89264667e-01,\n",
       "          1.19105411e+00,  9.16094112e-04, -1.32691348e+00,\n",
       "          9.71386850e-01,  2.60614371e-03,  2.19004297e+00,\n",
       "          3.68313491e-01, -3.44809949e-01, -1.01794851e+00,\n",
       "          2.27436948e+00,  4.22070295e-01,  4.57351297e-01,\n",
       "          3.03136849e+00, -2.24447995e-01,  1.46654654e+00,\n",
       "          4.48497444e-01, -3.90155792e-01,  2.00164056e+00,\n",
       "          3.11956227e-01,  9.91439680e-04, -9.74025846e-01],\n",
       "        [ 8.30694616e-01,  1.75349981e-01, -3.48721206e-01,\n",
       "          1.99212444e+00,  2.91553922e-02, -7.26172328e-03,\n",
       "          3.74984294e-01, -1.48111826e-03,  2.52839863e-01,\n",
       "          1.07617688e+00, -2.57908221e-04,  6.23728037e-02,\n",
       "         -7.18036532e-01,  2.90233409e-03, -4.03692931e-01,\n",
       "         -2.11107537e-01, -1.26745665e+00,  7.84310997e-02,\n",
       "         -9.67279822e-02,  3.70292425e-01,  3.77825290e-01,\n",
       "          1.53059340e+00,  5.77627607e-02,  7.30834365e-01,\n",
       "          3.74380082e-01, -2.52336025e-01,  6.48606658e-01,\n",
       "         -1.12487875e-01,  9.28277208e-04, -4.19992864e-01],\n",
       "        [-8.02893937e-01, -4.85589832e-01,  7.55390048e-01,\n",
       "         -2.51076192e-01,  7.66978681e-01,  3.93796433e-03,\n",
       "         -1.74484000e-01, -1.70523790e-03,  2.13096237e+00,\n",
       "          1.69295955e+00,  6.48539572e-04, -2.18823805e-01,\n",
       "          3.38401735e-01,  6.71490678e-04,  7.61393368e-01,\n",
       "          4.93786894e-02, -1.61792710e-01,  1.19566965e+00,\n",
       "          1.08561826e+00, -1.13350190e-01, -9.73634571e-02,\n",
       "          1.41151583e+00,  5.31659901e-01,  4.73669708e-01,\n",
       "         -1.01081491e-01,  1.19553559e-01,  6.23934388e-01,\n",
       "          5.76997101e-01,  9.64187435e-04,  8.77409160e-01],\n",
       "        [-6.35194421e-01, -5.66444173e-02, -3.76696050e-01,\n",
       "         -2.09429693e+00,  6.35828674e-02,  8.28664098e-03,\n",
       "         -4.99033779e-01,  2.38436298e-03,  2.44289374e+00,\n",
       "          1.81751513e+00,  3.81691498e-04,  3.61115247e-01,\n",
       "          2.81443000e+00, -3.84801067e-03,  9.11017478e-01,\n",
       "          1.03179264e+00, -8.20259228e-02,  5.58116019e-01,\n",
       "          1.17627025e+00, -4.81466174e-01, -4.78192568e-01,\n",
       "          8.69524598e-01,  2.80755937e-01, -8.52626264e-02,\n",
       "         -4.62697625e-01,  4.09752607e-01,  1.62756824e+00,\n",
       "         -2.09055871e-01, -1.35236385e-03, -2.78182125e+00],\n",
       "        [-5.42741597e-01,  5.65045655e-01,  1.93919435e-01,\n",
       "         -3.74222815e-01,  5.21816850e-01, -2.46360945e-03,\n",
       "          3.02973632e-02, -3.03199806e-04, -3.40045244e-01,\n",
       "          8.82132530e-01,  1.02450408e-03, -4.44514602e-01,\n",
       "          1.65757626e-01,  7.01758545e-04, -7.84155801e-02,\n",
       "          3.31802279e-01,  1.37536779e-01, -2.14615855e-02,\n",
       "          2.73893662e-02,  8.12551379e-03,  2.01790407e-02,\n",
       "          2.14154512e-01,  5.48848748e-01,  1.85328448e+00,\n",
       "          3.00456174e-02,  6.46623736e-03,  2.75635719e+00,\n",
       "         -1.71038702e-01,  2.54530576e-04, -1.24567437e+00],\n",
       "        [ 5.28993249e-01,  4.74344343e-01, -4.72622991e-01,\n",
       "          9.52617645e-01, -2.03263909e-01,  1.53533574e-02,\n",
       "         -1.48133961e-02,  7.18029961e-03,  3.66990805e-01,\n",
       "          1.40778458e+00, -3.07350489e-03, -1.20694304e+00,\n",
       "         -1.05889782e-01, -8.36529117e-03,  1.52954913e-03,\n",
       "          8.12004432e-02, -5.22592306e-01,  5.68399072e-01,\n",
       "          9.76767689e-02,  1.47506684e-01,  1.33637324e-01,\n",
       "          2.07869366e-01,  1.19166583e-01, -1.64125532e-01,\n",
       "          1.35584190e-01, -9.74133089e-02,  5.89726985e-01,\n",
       "         -1.09065972e-01, -2.62057618e-03,  9.17042673e-01],\n",
       "        [ 1.59783568e-03, -6.66820943e-01,  2.46353135e-01,\n",
       "          1.02610230e+00,  2.84562409e-01,  4.98823775e-03,\n",
       "         -5.26479602e-01,  1.25621664e-04, -9.19971168e-01,\n",
       "         -9.97031331e-02,  4.78471979e-04,  3.80734205e-01,\n",
       "         -7.70977497e-01, -1.30885339e-03, -4.89212751e-01,\n",
       "         -3.75150383e-01,  4.54270959e-01,  4.33770061e-01,\n",
       "         -1.15802789e+00, -5.50406277e-01, -5.81508458e-01,\n",
       "          5.02234817e-01, -4.42306042e-01, -1.57201624e+00,\n",
       "         -5.75558245e-01,  5.63141227e-01, -6.18529439e-01,\n",
       "         -8.45683515e-02, -2.60332599e-04, -2.66851932e-01],\n",
       "        [-1.24021375e+00, -2.35289052e-01,  7.66561329e-02,\n",
       "         -4.15027261e-01, -2.25614524e+00,  6.79779565e-03,\n",
       "         -2.27699146e-01,  2.32361932e-03,  1.90389657e+00,\n",
       "          6.00029528e-02,  8.72630262e-05,  2.79420495e+00,\n",
       "          2.08200312e+00, -3.61046079e-03,  2.36299589e-01,\n",
       "         -2.92300805e-02,  5.34538627e-01,  1.62185013e+00,\n",
       "         -6.33152902e-01, -2.87294984e-01, -2.95954764e-01,\n",
       "         -2.03133130e+00,  8.16158116e-01, -2.33657408e+00,\n",
       "         -2.77941734e-01,  1.83892161e-01, -2.82952070e+00,\n",
       "          4.62071836e-01, -1.35895470e-03, -2.14987755e+00],\n",
       "        [-6.35573030e-01,  3.59611124e-01, -4.64067370e-01,\n",
       "         -8.31229210e-01, -4.23631191e-01,  3.37132439e-03,\n",
       "          9.32966694e-02,  4.46430378e-04, -1.21401143e+00,\n",
       "         -9.40466464e-01, -1.03181228e-03,  5.32711446e-01,\n",
       "         -9.00770009e-01, -9.41394013e-04,  1.60037243e+00,\n",
       "          2.28251547e-01,  1.05928004e+00, -1.79147184e+00,\n",
       "          7.39999175e-01,  2.76833512e-02,  4.10571620e-02,\n",
       "          7.94488430e-01, -3.25151205e-01, -1.54345298e+00,\n",
       "          3.45544592e-02,  9.17944163e-02,  1.66922641e+00,\n",
       "         -4.06538397e-01, -5.31981408e-04,  1.13010871e+00],\n",
       "        [ 5.22367477e-01, -7.98841789e-02, -5.92607319e-01,\n",
       "          3.90850097e-01,  1.86562195e-01,  2.77217501e-03,\n",
       "         -2.60504454e-01, -4.83541749e-04, -8.85576785e-01,\n",
       "          6.10651612e-01,  3.69465008e-04,  2.68612951e-01,\n",
       "          8.92018020e-01, -3.90988163e-04, -1.16079962e+00,\n",
       "          3.63554239e-01, -5.02060890e-01, -5.78166306e-01,\n",
       "         -5.47943652e-01, -2.36524358e-01, -2.31397703e-01,\n",
       "          8.23668420e-01, -3.33243646e-02,  1.06124980e-02,\n",
       "         -2.22416624e-01,  2.12948158e-01,  2.82392025e-01,\n",
       "         -1.06907105e+00, -1.19466051e-04,  6.95148110e-01],\n",
       "        [ 3.14373225e-01, -2.36755842e-03,  1.58258900e-01,\n",
       "          4.66422588e-02,  1.65288076e-01,  6.25731284e-03,\n",
       "         -1.27724722e-01,  2.34977482e-03, -1.66557574e+00,\n",
       "         -1.85806885e-01, -1.08315109e-03, -1.65409029e-01,\n",
       "         -8.12479138e-01, -3.41569772e-03, -5.72367609e-01,\n",
       "         -9.91557315e-02,  4.23324466e-01,  2.96650469e-01,\n",
       "          1.17439248e-01, -4.01314870e-02, -4.90907095e-02,\n",
       "          2.26755381e-01, -2.74781257e-01,  8.54409695e-01,\n",
       "         -5.05965054e-02,  8.91740248e-02,  4.75080371e-01,\n",
       "         -1.96515679e-01, -1.42194808e-03, -1.03682235e-01],\n",
       "        [-1.68575668e+00,  1.94200993e-01,  1.03373039e+00,\n",
       "          1.20400488e-01, -9.74487543e-01, -2.85349390e-03,\n",
       "          3.59343171e-01,  5.80628694e-04,  1.08225560e+00,\n",
       "          8.85518372e-01, -7.80422182e-04, -1.07502127e+00,\n",
       "          1.22921526e+00,  3.42953776e-04,  6.42418444e-01,\n",
       "         -6.70808852e-01,  1.40211225e+00,  8.33695054e-01,\n",
       "          5.67295969e-01,  4.66046780e-01,  4.77475613e-01,\n",
       "         -1.35073304e-01,  5.16308427e-01, -1.21373557e-01,\n",
       "          4.61411119e-01, -3.88036311e-01,  2.19873652e-01,\n",
       "          7.11156785e-01, -6.87714710e-05, -7.78575718e-01],\n",
       "        [-6.53315425e-01,  5.34804940e-01, -2.40137503e-01,\n",
       "         -8.08759406e-03, -1.07476926e+00, -6.26722910e-03,\n",
       "          7.49027610e-01, -1.13233784e-03,  6.96205080e-01,\n",
       "          1.73950422e+00, -2.02921568e-04, -7.54103303e-01,\n",
       "          5.33063352e-01,  2.39220145e-03,  3.53224784e-01,\n",
       "          5.35533488e-01,  3.17354500e-01, -7.66159177e-01,\n",
       "          2.40976125e-01,  6.12037778e-01,  6.49744034e-01,\n",
       "          2.24641621e-01,  2.64998257e-01,  1.05848527e+00,\n",
       "          6.36419177e-01, -4.90774065e-01, -1.95911214e-01,\n",
       "          1.38898924e-01,  6.27157686e-04,  1.84593892e+00],\n",
       "        [-5.53528607e-01,  5.33790588e-01,  8.48777369e-02,\n",
       "          4.72432017e-01, -2.71301031e-01,  2.30602524e-03,\n",
       "          5.83260715e-01,  2.70039053e-03, -4.16273803e-01,\n",
       "         -4.53190774e-01, -1.37369859e-03, -2.12992385e-01,\n",
       "         -1.18121684e+00, -2.39912025e-03,  4.57456619e-01,\n",
       "          4.18806672e-01, -9.65926647e-02,  6.85174391e-02,\n",
       "          7.62055591e-02,  4.33589220e-01,  4.39137042e-01,\n",
       "          1.02954268e+00,  2.89738506e-01, -2.65543747e+00,\n",
       "          4.34898049e-01, -2.93483049e-01,  9.24436226e-02,\n",
       "          2.94118613e-01, -7.77890382e-04, -8.15877497e-01],\n",
       "        [-7.00356007e-01,  3.73195440e-01,  2.26856440e-01,\n",
       "          1.78577542e+00, -3.22074026e-01, -1.93549879e-03,\n",
       "          3.47623855e-01,  1.56971300e-03, -2.17762943e-02,\n",
       "          2.89018226e+00, -7.05755549e-04, -1.80184829e+00,\n",
       "         -1.20139563e+00, -6.66749198e-04,  1.52528715e+00,\n",
       "         -9.12682936e-02,  9.54957485e-01,  4.15821195e-01,\n",
       "          5.75866163e-01,  3.99151504e-01,  3.98333728e-01,\n",
       "         -6.27914608e-01,  2.80134678e-01,  2.09481192e+00,\n",
       "          3.93505007e-01, -3.56748879e-01,  2.53054619e-01,\n",
       "          5.12044966e-01, -5.78097533e-04, -1.48115277e-01],\n",
       "        [-7.59582341e-01, -1.16034918e-01, -2.59071290e-01,\n",
       "          4.20855343e-01,  5.09947658e-01,  6.55339146e-03,\n",
       "         -3.42579186e-01, -1.98610032e-05, -1.08876443e+00,\n",
       "          7.56414175e-01,  5.39119355e-04,  4.84715313e-01,\n",
       "          1.52101827e+00, -1.24763732e-03, -7.86864400e-01,\n",
       "          2.69278407e-01, -7.47070372e-01, -8.70074928e-01,\n",
       "         -6.41967118e-01, -3.52377653e-01, -3.53588790e-01,\n",
       "          5.02749324e-01, -6.51184976e-01, -5.25555789e-01,\n",
       "         -3.41449112e-01,  3.69705796e-01, -3.33918750e-01,\n",
       "         -2.42572844e-01, -1.09065048e-04, -2.87923440e-02],\n",
       "        [-2.55293179e+00,  3.34808260e-01,  8.26913953e-01,\n",
       "          3.03559709e+00, -2.53302574e+00, -7.42103439e-03,\n",
       "          5.52496552e-01, -1.69257296e-03,  3.37965751e+00,\n",
       "          1.09837317e+00, -1.95986868e-04, -3.45130026e-01,\n",
       "         -4.82705772e-01,  3.06376605e-03,  5.63185215e-01,\n",
       "         -6.11970186e-01,  2.64207268e+00, -4.33327049e-01,\n",
       "          9.03429568e-01,  5.60523212e-01,  5.58553755e-01,\n",
       "         -9.00775611e-01,  1.58475244e+00,  1.15242958e+00,\n",
       "          5.52843511e-01, -5.09245932e-01,  1.86621535e+00,\n",
       "          3.05458307e-01,  9.77830729e-04,  2.02486128e-01],\n",
       "        [ 1.02320755e+00, -1.03593558e-01, -5.35708010e-01,\n",
       "         -2.72686660e-01, -9.96857643e-01, -4.18948475e-03,\n",
       "         -1.18190087e-01, -2.56366818e-03,  5.02955794e-01,\n",
       "         -2.39345765e+00,  1.91082689e-03,  3.45583558e+00,\n",
       "          8.66119921e-01,  3.23117618e-03, -7.67898798e-01,\n",
       "         -6.26330599e-02,  9.76776704e-03,  7.40059733e-01,\n",
       "         -1.29476082e+00, -1.54760480e-01, -1.55438736e-01,\n",
       "         -2.74930167e+00, -9.80049465e-03, -2.36933780e+00,\n",
       "         -1.49175376e-01,  2.08062697e-02, -5.52105331e+00,\n",
       "         -1.72143459e-01,  2.17086915e-03, -1.62544572e+00],\n",
       "        [-9.28369537e-02, -2.44435985e-02,  3.86511177e-01,\n",
       "          9.90822613e-01, -3.69064897e-01, -7.84953404e-03,\n",
       "          1.46221086e-01, -5.02861012e-03,  1.62331724e+00,\n",
       "          8.91837656e-01,  2.21743924e-03,  1.93469971e-01,\n",
       "          2.36505181e-01,  5.44262724e-03,  1.21778369e+00,\n",
       "         -2.18541268e-02, -3.04701149e-01,  5.65401614e-01,\n",
       "          1.52813971e+00,  2.49793574e-01,  2.60467082e-01,\n",
       "         -4.42488417e-02,  7.17168227e-02, -3.14480036e-01,\n",
       "          2.52370179e-01, -2.12476492e-01,  1.31977752e-01,\n",
       "          7.84346819e-01,  1.41670927e-03,  4.98541864e-04],\n",
       "        [ 1.15783006e-01, -1.24682344e-01,  8.97620320e-02,\n",
       "          1.75118256e+00,  1.66294456e+00,  6.48606056e-03,\n",
       "         -4.19296920e-01,  8.63929221e-04, -7.05907419e-02,\n",
       "         -1.29042459e+00,  5.09107776e-04, -1.35803586e-02,\n",
       "         -3.46210051e+00, -2.27696123e-03,  2.60859668e-01,\n",
       "         -4.81009990e-01, -6.42664194e-01, -1.16783512e+00,\n",
       "          7.02840507e-01, -1.16846301e-01, -1.25772685e-01,\n",
       "         -2.97785461e-01, -2.56862789e-01,  7.54215479e-01,\n",
       "         -1.18375033e-01,  1.15824290e-01, -1.42732799e+00,\n",
       "          2.78258920e-01, -3.42065730e-04, -1.43914387e-01]], dtype=float32),\n",
       " array([-7.6529284 ,  2.3104827 ,  0.10658033,  3.806432  , -5.599218  ,\n",
       "         5.9420376 ,  5.167724  ,  6.0508423 ,  5.023039  ,  6.722027  ,\n",
       "         8.285503  , -8.04176   , -1.4271643 , -6.2362366 ,  7.3385496 ,\n",
       "        -0.86424786,  7.415394  , -3.1696467 ,  5.6340766 ,  4.4836783 ,\n",
       "         4.5606265 ,  2.5969133 ,  4.8920584 ,  4.804546  ,  4.500448  ,\n",
       "        -4.791454  ,  4.3556633 , -0.38760498,  6.740153  , -0.6334822 ],\n",
       "       dtype=float32),\n",
       " array([[ 0.14650097],\n",
       "        [-0.08559049],\n",
       "        [-0.04995244],\n",
       "        [-0.15485862],\n",
       "        [ 0.32201704],\n",
       "        [ 0.08669097],\n",
       "        [-0.04154566],\n",
       "        [ 0.03526279],\n",
       "        [-1.725534  ],\n",
       "        [-1.617955  ],\n",
       "        [-0.45180306],\n",
       "        [ 0.60112405],\n",
       "        [ 0.5404732 ],\n",
       "        [-0.06518117],\n",
       "        [-0.09780598],\n",
       "        [ 0.07530081],\n",
       "        [-0.15059158],\n",
       "        [ 0.1325762 ],\n",
       "        [-0.37834087],\n",
       "        [-0.04693541],\n",
       "        [-0.0531259 ],\n",
       "        [-0.4053214 ],\n",
       "        [-0.07708697],\n",
       "        [-0.44372207],\n",
       "        [-0.04853073],\n",
       "        [ 0.02030806],\n",
       "        [-0.7651603 ],\n",
       "        [-0.0811112 ],\n",
       "        [-0.04027116],\n",
       "        [-0.40833887]], dtype=float32),\n",
       " array([-9.523071], dtype=float32),\n",
       " array([[-6.61581606e-02,  5.85884690e-01, -5.84142171e-02,\n",
       "         -1.84040999e+00, -6.18632615e-01,  7.20991790e-02,\n",
       "          2.30211830e+00,  8.56431305e-01,  1.86480260e+00,\n",
       "          3.93526793e+00, -8.75178203e-02, -1.10906744e+00,\n",
       "         -8.43492806e-01, -2.02876472e+00, -2.12331608e-01,\n",
       "         -1.75220132e+00, -1.53098178e+00, -5.82159162e-01,\n",
       "         -1.37132362e-01,  2.30457735e+00,  2.41598201e+00,\n",
       "         -3.66785787e-02, -3.27598840e-01,  1.15556216e+00,\n",
       "          2.43292999e+00,  6.58792496e-01, -1.25121593e+00,\n",
       "          1.39609945e+00, -2.71851987e-01, -1.49106294e-01],\n",
       "        [-2.08046343e-02, -4.91903216e-01, -1.13502823e-01,\n",
       "          2.18538475e+00,  5.30614436e-01, -7.31371164e-01,\n",
       "          4.17425901e-01,  2.21994847e-01,  1.22547202e-01,\n",
       "          5.49115705e+00,  3.64918351e-01,  1.42310023e+00,\n",
       "          1.98442531e+00, -3.63607717e+00,  2.23894268e-01,\n",
       "         -4.49273729e+00, -6.33391917e-01, -5.54242611e-01,\n",
       "          7.32003117e+00, -1.27382505e+00,  7.30482265e-02,\n",
       "         -6.76579401e-02,  2.56308603e+00, -8.74600947e-01,\n",
       "          2.86336279e+00,  1.21319160e-01, -3.67274970e-01,\n",
       "          2.69622922e-01, -3.11614215e-01,  4.16967154e-01],\n",
       "        [-6.33754814e-03,  6.52283907e-01, -1.05081107e-02,\n",
       "         -2.41876096e-01,  8.75319481e-01, -5.02226889e-01,\n",
       "          2.25919271e+00, -1.40089488e+00,  4.88820486e-02,\n",
       "         -2.95862675e-01, -5.60509749e-02, -3.22465956e-01,\n",
       "         -4.05528128e-01, -3.09538171e-02, -1.71935856e+00,\n",
       "         -4.17538285e-01, -4.07814693e+00, -1.35160834e-01,\n",
       "         -3.50278080e-01, -3.75449024e-02,  1.48667216e-01,\n",
       "          5.50225449e+00, -1.00737900e-01,  7.68623829e-01,\n",
       "         -8.29220638e-02,  4.19113904e-01, -3.97524014e-02,\n",
       "          2.72219032e-01,  2.62555212e-01, -1.32348046e-01],\n",
       "        [-5.59520535e-02,  1.05965149e+00, -6.66474998e-02,\n",
       "          3.77196121e+00,  2.84895957e-01, -1.35486221e+00,\n",
       "         -1.61692071e+00, -4.07308626e+00,  6.65403545e-01,\n",
       "          2.14612007e-01, -2.10512094e-02, -4.20879483e-01,\n",
       "          1.52148628e+00,  3.13307190e+00, -3.67836535e-01,\n",
       "         -8.67149174e-01,  2.45308399e+00, -4.26635981e+00,\n",
       "         -1.18156683e+00, -1.31823742e+00, -8.90093136e+00,\n",
       "         -8.80086869e-02, -2.20665812e+00,  5.76322496e-01,\n",
       "         -3.68212485e+00,  7.06065512e+00,  4.76798296e+00,\n",
       "         -1.82334912e+00, -7.82844639e+00,  3.42930913e-01],\n",
       "        [-9.02342796e-02,  1.71231484e+00, -5.27694263e-02,\n",
       "         -3.31285506e-01, -2.08347797e-01,  3.17138815e+00,\n",
       "          8.87621522e-01,  6.63218439e-01, -2.93689936e-01,\n",
       "         -1.16556451e-01, -6.03225045e-02, -3.29912424e-01,\n",
       "          2.10752392e+00, -1.37143016e-01,  2.17749667e+00,\n",
       "         -6.99477434e-01, -1.17607129e+00,  7.31504932e-02,\n",
       "         -2.83093154e-01,  3.60823065e-01,  2.58233881e+00,\n",
       "          1.13227487e-01,  3.65348101e-01, -1.86453617e+00,\n",
       "          4.98568676e-02,  5.40606230e-02, -1.21773410e+00,\n",
       "          4.32663471e-01, -5.63986003e-01, -2.64391661e-01],\n",
       "        [-4.34850063e-03,  8.51812899e-01,  8.86088833e-02,\n",
       "          1.10277809e-01,  2.04075980e+00, -4.47689265e-01,\n",
       "         -1.53028870e+00,  1.42058223e-01,  1.21077859e+00,\n",
       "          4.36941087e-01,  4.83613634e+00, -2.42587209e+00,\n",
       "         -2.23211408e+00, -4.98050630e-01, -1.07054695e-01,\n",
       "          2.04595137e+00, -3.87259722e-01, -1.44875348e-01,\n",
       "         -1.06534779e-01, -1.08709387e-01, -3.21770835e+00,\n",
       "         -3.06730550e-02, -9.34904516e-01,  2.03970242e+00,\n",
       "         -1.29422534e+00, -1.26635283e-02,  7.50840366e-01,\n",
       "          8.99875700e-01,  2.84794837e-01, -3.09808731e+00]], dtype=float32),\n",
       " array([ 0.02487165, -2.0564275 ,  0.02958603,  6.490468  ,  2.7782974 ,\n",
       "         4.7287755 , -3.6120613 , -5.1257877 , -1.7036848 , -2.355679  ,\n",
       "         4.6282916 , -1.5018389 ,  2.560155  ,  2.7945447 ,  1.6223751 ,\n",
       "        -0.68290645,  6.5194006 , -4.7208667 , -0.863917  ,  0.27673712,\n",
       "         2.2024465 ,  3.625989  , -4.3271155 , -1.7914985 , -1.4748458 ,\n",
       "         5.318344  ,  1.7524934 , -2.2536457 , -7.5898094 , -0.4818216 ],\n",
       "       dtype=float32),\n",
       " array([[-1.]], dtype=float32),\n",
       " array([0.], dtype=float32),\n",
       " array([[-9.63929817e-02, -4.68785986e-02,  2.67342795e-02,\n",
       "          1.04601769e-29,  7.99794421e-02, -1.05402324e-29,\n",
       "         -1.58336446e-01,  1.34444225e-03, -2.16089353e-01,\n",
       "          1.24226753e-02,  1.05222791e-29,  9.86591185e-05,\n",
       "          1.42347638e-03,  1.04604921e-29,  3.22471678e-05,\n",
       "         -8.52547493e-03, -1.16942666e-01,  1.20621733e-01,\n",
       "         -1.55582726e-01, -2.61271149e-01,  8.71810596e-03,\n",
       "          1.03843160e-01,  1.41291264e-02, -6.21781386e-02,\n",
       "          9.09060799e-03,  4.97365743e-02,  7.61339888e-02,\n",
       "          1.20516889e-01,  5.84192388e-02,  4.22283411e-02],\n",
       "        [ 1.17750779e-01, -8.93637955e-01,  6.58596754e-01,\n",
       "         -1.05152909e-29,  3.61240834e-01, -1.04981486e-29,\n",
       "         -1.89382344e-01, -1.16323689e-02,  1.47190958e-01,\n",
       "         -5.96578419e-01, -1.05556128e-29, -9.03085864e-04,\n",
       "         -1.29395258e-02, -1.05332013e-29,  3.49210954e-04,\n",
       "         -3.36735129e-01,  3.05456549e-01, -4.68339831e-01,\n",
       "          3.41087542e-02,  4.01340649e-02, -9.95584950e-02,\n",
       "          9.59152281e-02,  1.25348613e-01,  6.32941127e-01,\n",
       "          1.76920556e-02, -3.56645621e-02,  1.21327601e-01,\n",
       "          1.00250340e+00, -4.24954861e-01,  5.21433413e-01],\n",
       "        [-7.14008063e-02,  1.42204955e-01, -1.00001603e-01,\n",
       "          1.05378679e-29,  7.37995505e-02, -1.05492760e-29,\n",
       "         -3.94458976e-03, -1.12684770e-03, -2.43987311e-02,\n",
       "         -8.17078948e-02, -1.05058523e-29,  5.81633241e-04,\n",
       "         -2.59017735e-03,  1.05625536e-29,  2.57967011e-04,\n",
       "          7.14896098e-02, -2.63839096e-01,  5.23817763e-02,\n",
       "          8.52541178e-02, -2.46458367e-01,  6.02649897e-03,\n",
       "          1.20839655e-01,  1.67184472e-01,  9.25838277e-02,\n",
       "          1.20720007e-02,  4.14057113e-02,  5.52762970e-02,\n",
       "          2.48472691e-01, -1.27003253e-01,  7.39113614e-02],\n",
       "        [ 1.67114094e-01, -1.25257158e+00, -1.18743563e+00,\n",
       "         -1.05218044e-29, -7.47727677e-02,  1.05059531e-29,\n",
       "          9.88967121e-01, -1.14888456e-02, -7.61206150e-01,\n",
       "         -1.43274081e+00, -1.05061954e-29, -9.68906377e-03,\n",
       "         -1.21092005e-02,  1.05580676e-29, -2.95238383e-03,\n",
       "         -5.01384556e-01, -3.19928974e-01,  9.69792545e-01,\n",
       "          8.28303337e-01, -3.76132250e-01,  1.93829313e-01,\n",
       "         -6.58581197e-01,  5.65721214e-01,  9.10867453e-01,\n",
       "          1.69971541e-01, -9.44539189e-01,  5.57441235e-01,\n",
       "         -1.55611232e-01,  4.11746651e-01,  1.23214161e+00],\n",
       "        [ 2.33196640e+00, -7.55345881e-01, -1.64172852e+00,\n",
       "         -1.05267073e-29, -6.85391188e-01, -1.05573995e-29,\n",
       "         -2.08345318e+00, -4.50843573e-03,  1.54017985e+00,\n",
       "         -4.89697635e-01,  1.04726466e-29, -2.84685777e-03,\n",
       "         -5.25466632e-03, -1.05755634e-29, -1.27958751e-03,\n",
       "         -8.00394490e-02,  3.58919948e-01, -8.10340866e-02,\n",
       "         -1.33036256e+00,  7.20062792e-01,  4.36819285e-01,\n",
       "          8.66164505e-01, -7.41342455e-03, -8.24127734e-01,\n",
       "          5.83714783e-01,  4.07051481e-03,  4.98648107e-01,\n",
       "          1.10617006e+00,  3.05340111e-01,  2.55895108e-01],\n",
       "        [ 1.31703186e+00, -3.84096891e-01,  1.92414141e+00,\n",
       "          1.04697659e-29, -1.78823277e-01, -1.05756710e-29,\n",
       "         -3.99155796e-01,  1.47902528e-02, -2.25733757e+00,\n",
       "         -1.49211907e+00,  1.05320713e-29,  4.25370527e-04,\n",
       "          1.85340848e-02, -1.05146153e-29, -6.84873085e-04,\n",
       "         -1.01539373e+00,  9.15648997e-01, -6.75736487e-01,\n",
       "         -1.37366939e+00, -1.73342860e+00, -1.25417042e+00,\n",
       "          6.95556164e-01, -1.63516057e+00, -2.15436101e-01,\n",
       "          1.45621181e+00, -1.59082448e+00,  4.25698996e-01,\n",
       "         -9.02204514e-01, -3.51812989e-01, -1.30333900e-01],\n",
       "        [ 2.48346463e-01,  2.38192659e-02,  1.98803023e-02,\n",
       "          1.05355086e-29,  2.18834221e-01, -1.04933368e-29,\n",
       "         -7.62486041e-01,  3.02835088e-02,  3.36628795e-01,\n",
       "          9.85086024e-01,  1.05389264e-29,  1.63041183e-03,\n",
       "          3.60389911e-02, -1.05591502e-29, -1.42462231e-04,\n",
       "         -9.94561911e-02,  6.26178741e-01, -1.19522333e+00,\n",
       "         -2.24275440e-01,  1.44914114e+00,  1.01550959e-01,\n",
       "          3.69731560e-02, -8.45752239e-01, -9.81734633e-01,\n",
       "          1.41642797e+00,  6.70770183e-02,  3.74177068e-01,\n",
       "          1.46095932e-01,  8.92852917e-02, -8.14372599e-01],\n",
       "        [ 8.91044378e-01,  1.37510657e-01,  6.40719771e-01,\n",
       "         -1.05391521e-29, -1.47689683e-02, -1.04850267e-29,\n",
       "         -2.11527109e+00, -4.65771474e-04, -6.07732654e-01,\n",
       "         -4.32828218e-01, -1.05049879e-29,  6.87493524e-03,\n",
       "         -2.74553848e-03, -1.04699518e-29,  1.98106817e-03,\n",
       "          6.11673594e-01,  3.72602940e-01, -1.45716524e+00,\n",
       "         -7.04868376e-01,  1.79833889e-01,  8.54878247e-01,\n",
       "          2.08394140e-01, -3.63824695e-01,  5.64687967e-01,\n",
       "          1.42921126e+00, -6.86369002e-01, -8.08758318e-01,\n",
       "          1.34393501e+00,  3.31957906e-01,  7.42352962e-01],\n",
       "        [ 4.04352009e-01, -3.98109019e-01,  5.84128737e-01,\n",
       "          1.05049646e-29,  5.19986868e-01,  1.05696818e-29,\n",
       "         -4.36178684e-01, -9.56308097e-03, -5.60909331e-01,\n",
       "         -1.51806676e+00, -1.04976272e-29,  3.47734685e-03,\n",
       "         -1.10689821e-02,  1.05629742e-29,  1.53357757e-03,\n",
       "         -6.75394118e-01, -1.31450519e-01, -7.80495524e-01,\n",
       "          2.47505307e-01,  1.74228713e-01,  8.67808223e-01,\n",
       "          3.39470625e-01, -2.19755948e-01,  1.88994300e+00,\n",
       "          2.32717976e-01,  6.68317020e-01,  5.37042260e-01,\n",
       "          4.37765241e-01,  3.88581306e-02,  1.39444411e-01],\n",
       "        [ 1.03791904e+00, -7.07620263e-01, -5.20239353e-01,\n",
       "          1.04678769e-29, -2.73162156e-01, -1.04791977e-29,\n",
       "         -8.21834385e-01, -5.93667477e-03, -9.18894291e-01,\n",
       "         -1.81624219e-01,  1.05540051e-29,  1.59416348e-03,\n",
       "         -7.38704763e-03, -1.05028649e-29, -2.52959726e-04,\n",
       "         -1.17044613e-01,  3.15012127e-01, -5.18072784e-01,\n",
       "          3.80483210e-01, -3.10259104e-01,  5.02797246e-01,\n",
       "         -1.62239122e+00, -1.95395589e-01,  1.92097628e+00,\n",
       "          4.81760323e-01,  4.03196543e-01,  1.66605070e-01,\n",
       "          1.98785996e+00,  4.43882972e-01,  1.60350394e+00],\n",
       "        [ 1.08410144e+00, -4.77558225e-01, -7.97364652e-01,\n",
       "          1.05599785e-29,  9.25472200e-01,  1.05364197e-29,\n",
       "          1.38087511e-01,  8.01929925e-03,  1.91213429e+00,\n",
       "         -1.48846400e+00,  1.04796093e-29, -9.62967228e-04,\n",
       "          9.38161742e-03, -1.05275860e-29, -5.33323502e-04,\n",
       "         -3.59188747e+00, -1.15855896e+00,  7.93875217e-01,\n",
       "         -1.01202202e+00,  1.41407752e+00,  6.19430125e-01,\n",
       "          4.34142888e-01, -1.42067492e+00, -2.65292454e+00,\n",
       "         -5.15236795e-01,  1.94482410e+00, -5.96181035e-01,\n",
       "         -1.65453541e+00, -1.39369452e+00,  7.01996088e-01],\n",
       "        [ 6.86415374e-01,  4.99724120e-01,  7.04904795e-01,\n",
       "         -1.05730635e-29,  8.83308887e-01,  1.05141910e-29,\n",
       "         -9.49728131e-01,  6.73004519e-03, -4.03342217e-01,\n",
       "          1.62912953e+00, -1.05628425e-29, -2.00591958e-03,\n",
       "          8.78723152e-03,  1.05638393e-29, -5.40134206e-04,\n",
       "          1.35251299e-01, -7.93170556e-02, -3.67625862e-01,\n",
       "          1.41188967e+00, -8.66463065e-01,  1.28747118e+00,\n",
       "         -5.25902629e-01,  1.06810488e-01, -7.49970496e-01,\n",
       "         -1.16994217e-01,  7.58823037e-01, -2.48079710e-02,\n",
       "          3.78203601e-01,  1.57934403e+00, -1.63162982e+00],\n",
       "        [-4.82918561e-01, -8.06796014e-01, -9.54911411e-01,\n",
       "         -1.04999398e-29, -3.00246119e-01, -1.04797582e-29,\n",
       "          2.54406500e+00,  1.44235566e-02,  8.42650115e-01,\n",
       "         -1.20929062e-01, -1.04761509e-29, -3.15872673e-03,\n",
       "          1.88536197e-02, -1.05124907e-29, -1.80560956e-03,\n",
       "         -2.29743332e-01,  7.64744952e-02,  5.32594979e-01,\n",
       "         -8.91524926e-02, -1.11362112e+00,  1.51057139e-01,\n",
       "         -1.52720892e+00,  3.90279680e-01,  2.62675196e-01,\n",
       "          3.87516797e-01,  3.45413351e+00,  4.79247987e-01,\n",
       "         -8.38662386e-01,  3.08324695e+00,  2.28103232e+00],\n",
       "        [-1.20114863e+00,  4.81037021e-01, -1.12775922e+00,\n",
       "         -1.05734201e-29, -1.45647764e+00,  1.05572017e-29,\n",
       "         -2.74764061e-01, -4.56672348e-03, -3.87094110e-01,\n",
       "         -1.01741028e+00, -1.05385562e-29, -3.49241565e-03,\n",
       "         -3.77952703e-03,  1.05169618e-29, -4.61525895e-04,\n",
       "          1.18716824e+00,  1.13456786e+00,  1.80397999e+00,\n",
       "         -2.85572338e+00,  2.08393359e+00, -8.36825252e-01,\n",
       "          1.65291631e+00, -1.69690430e+00, -3.31699896e+00,\n",
       "         -7.36359894e-01,  1.40435660e+00, -6.75064564e-01,\n",
       "         -2.15162015e+00,  6.27763629e-01, -6.83168054e-01],\n",
       "        [ 2.63776451e-01, -4.07116145e-01, -2.96010405e-01,\n",
       "          1.05077812e-29, -1.05348337e+00, -1.05228802e-29,\n",
       "          1.62431633e+00,  2.07929835e-02, -2.65543878e-01,\n",
       "          1.27426609e-01,  1.05408087e-29,  7.40764197e-03,\n",
       "          2.04278715e-02, -1.04897399e-29,  8.77020415e-04,\n",
       "         -8.85460433e-03,  3.50971729e-01,  9.54554200e-01,\n",
       "         -4.17183876e-01,  7.84399211e-01, -2.49506347e-02,\n",
       "          5.88752627e-02,  1.42769969e+00, -3.93465549e-01,\n",
       "         -7.41865575e-01, -4.71698284e-01,  1.81818008e-01,\n",
       "          1.44260108e-01, -1.40969753e-01,  6.38424978e-02],\n",
       "        [ 3.52443993e-01,  7.78276742e-01, -7.39928782e-01,\n",
       "          1.05090361e-29,  6.31140172e-02,  1.04730272e-29,\n",
       "          2.07905865e+00, -3.71170938e-02,  1.54592454e-01,\n",
       "         -2.26847365e-01, -1.05251266e-29, -3.86469765e-03,\n",
       "         -3.95548083e-02,  1.05154105e-29,  8.39304004e-04,\n",
       "         -8.00761759e-01,  9.86765504e-01,  4.79971021e-01,\n",
       "          3.07464064e-03,  1.75126219e+00,  1.30888903e+00,\n",
       "          7.25959659e-01,  8.38921428e-01, -1.14421070e+00,\n",
       "          9.11437795e-02,  1.75696361e+00,  2.25024447e-01,\n",
       "         -1.04161084e-01, -5.26636839e-01, -1.65316033e+00],\n",
       "        [ 6.69440687e-01, -6.45080090e-01, -6.86621666e-01,\n",
       "          1.05530579e-29, -1.13902628e-01,  1.05229171e-29,\n",
       "          1.87151754e+00,  5.10800956e-03,  2.24859849e-01,\n",
       "          5.53860724e-01, -1.04770574e-29,  1.98766217e-03,\n",
       "          5.88832423e-03,  1.05475246e-29,  4.60371346e-04,\n",
       "          6.88514531e-01, -6.84974268e-02,  1.06819618e+00,\n",
       "          2.93478251e-01,  5.77244520e-01,  1.79992259e-01,\n",
       "          1.33346960e-01, -1.62936604e+00, -6.86991751e-01,\n",
       "         -5.87154388e-01, -1.14807203e-01,  2.14755610e-01,\n",
       "         -8.26294005e-01,  1.33482248e-01, -4.22355592e-01],\n",
       "        [-1.34027839e+00,  9.06851888e-01,  2.21141601e+00,\n",
       "         -1.05424254e-29,  3.26148415e+00,  1.05496469e-29,\n",
       "         -2.35278296e+00, -5.15366998e-03,  9.69702005e-03,\n",
       "         -5.84263075e-03,  1.05534484e-29,  3.73054500e-05,\n",
       "         -6.48669852e-03,  1.05393146e-29,  4.05576866e-04,\n",
       "         -1.80089641e+00,  8.77663612e-01, -6.01712763e-01,\n",
       "          1.05530393e+00, -4.61304665e-01,  6.58904791e-01,\n",
       "          2.37994981e+00,  3.49402219e-01, -3.45988584e+00,\n",
       "         -3.20725584e+00,  2.13404179e+00, -1.78130314e-01,\n",
       "          3.95277560e-01, -2.95319408e-01,  8.97164881e-01],\n",
       "        [-2.92573750e-01, -7.82998502e-01,  2.55584478e-01,\n",
       "          1.05554939e-29,  6.35406673e-01, -1.05571039e-29,\n",
       "         -3.74176830e-01, -1.51311820e-02,  3.71368122e+00,\n",
       "          3.73638809e-01,  1.05491601e-29, -8.39443598e-03,\n",
       "         -1.64618455e-02, -1.05359472e-29, -2.58753332e-03,\n",
       "          4.74199980e-01, -2.86688566e+00,  6.05560020e-02,\n",
       "          1.30104351e+00, -1.09788470e-01,  8.43009770e-01,\n",
       "         -1.21163785e+00,  6.99852705e-01,  4.77757931e-01,\n",
       "         -2.09040195e-02, -6.75740480e-01,  1.86453030e-01,\n",
       "         -3.12998915e+00,  6.40518904e-01, -1.29701293e+00],\n",
       "        [-1.33859944e+00, -5.62980115e-01,  3.64871658e-02,\n",
       "          1.05664604e-29, -1.32676214e-01,  1.05058350e-29,\n",
       "          1.34590328e-01,  9.27647669e-03,  1.11612454e-01,\n",
       "         -2.10666895e+00,  1.04769272e-29, -2.25103856e-03,\n",
       "          1.24423131e-02, -1.05012933e-29, -1.22407591e-03,\n",
       "         -1.27464080e+00,  1.33253872e+00, -9.63536918e-01,\n",
       "          1.19781804e+00,  1.95356154e+00, -6.98207676e-01,\n",
       "          6.13626122e-01, -9.93339539e-01,  1.20172954e+00,\n",
       "          1.15097773e+00, -2.87287092e+00,  3.30589771e-01,\n",
       "          1.63923547e-01, -9.69327033e-01,  1.30873621e+00],\n",
       "        [-5.89331925e-01, -2.10755363e-01,  1.54246259e+00,\n",
       "          1.05261099e-29, -1.46798879e-01, -1.05607827e-29,\n",
       "          9.81021643e-01,  5.25575457e-03, -2.12353158e+00,\n",
       "         -6.93119407e-01,  1.05159333e-29, -1.55611022e-03,\n",
       "          6.34142756e-03, -1.05629960e-29, -1.15406595e-03,\n",
       "          8.39616120e-01,  8.31507266e-01,  2.80046988e+00,\n",
       "          9.27350283e-01, -2.43415743e-01,  2.80525351e+00,\n",
       "         -9.99540865e-01,  1.76760566e+00,  9.76155043e-01,\n",
       "          9.36309457e-01, -2.67784452e+00,  6.87924206e-01,\n",
       "         -7.08370864e-01, -1.68547106e+00, -1.03036118e+00],\n",
       "        [-1.10356219e-01,  2.30333492e-01, -1.36524066e-01,\n",
       "          1.05682765e-29,  1.04480171e+00, -1.05814676e-29,\n",
       "         -4.05177027e-01,  6.87284023e-03,  6.08673133e-03,\n",
       "         -1.78754020e+00,  1.04945811e-29, -4.28755971e-04,\n",
       "          9.97023750e-03, -1.05789917e-29, -4.71315376e-04,\n",
       "         -5.81531048e-01,  5.74802577e-01, -3.82062173e+00,\n",
       "          9.93603170e-01,  1.94299138e+00, -1.23379230e+00,\n",
       "          3.22221947e+00, -1.20431864e+00, -9.12575603e-01,\n",
       "          2.95543981e+00,  2.40304843e-02,  4.93723810e-01,\n",
       "          1.79492152e+00, -2.72125136e-02, -1.50772476e+00],\n",
       "        [ 1.96430016e+00,  3.11140627e-01,  2.94117451e+00,\n",
       "         -1.05609678e-29, -7.50611365e-01, -1.05319329e-29,\n",
       "         -3.31312358e-01,  3.68275028e-03, -1.04362512e+00,\n",
       "          8.80240500e-01, -1.04746665e-29,  2.82800384e-03,\n",
       "          1.70876819e-03, -1.05805912e-29,  6.10422285e-04,\n",
       "          4.76347923e+00, -9.66715038e-01, -8.67780983e-01,\n",
       "         -7.76539743e-01, -6.67447567e-01,  8.90638232e-01,\n",
       "         -5.36880255e-01, -7.76331902e-01, -1.83930826e+00,\n",
       "          2.99495995e-01,  6.35097086e-01, -3.73400152e-01,\n",
       "         -1.85313225e-01,  3.27319455e+00, -3.33060741e+00],\n",
       "        [ 3.17935646e-01,  3.84233505e-01, -3.63396883e-01,\n",
       "          1.05326145e-29,  2.58163482e-01,  1.04969780e-29,\n",
       "         -8.78740191e-01, -1.32747758e-02,  3.88166159e-01,\n",
       "          2.67667532e-01, -1.05662580e-29, -1.91956258e-03,\n",
       "         -1.37181925e-02,  1.04859866e-29,  8.41621484e-04,\n",
       "         -2.04630569e-01,  1.77543938e-01, -1.87495279e+00,\n",
       "         -3.79901707e-01, -1.76107240e+00,  4.41371143e-01,\n",
       "          2.55516350e-01,  4.94542062e-01,  7.39362359e-01,\n",
       "         -3.94982360e-02,  9.13338780e-01,  2.17325449e-01,\n",
       "         -2.21096903e-01,  6.14746869e-01,  2.66108066e-01],\n",
       "        [-4.71292526e-01,  1.50259241e-01,  9.74165976e-01,\n",
       "          1.05550583e-29, -1.62357724e+00, -1.05854105e-29,\n",
       "          9.41357136e-01,  7.47381616e-03, -2.22048116e+00,\n",
       "          1.38538289e+00,  1.05147357e-29, -1.58288865e-03,\n",
       "          9.00399033e-03, -1.04877343e-29, -1.21063786e-03,\n",
       "         -1.50397551e+00, -1.37081742e+00,  1.58553195e+00,\n",
       "          7.21834660e-01, -9.11056936e-01, -1.58790493e+00,\n",
       "         -8.50868821e-01, -6.05139509e-02,  3.48727489e+00,\n",
       "          1.65483367e+00, -1.66452074e+00,  8.59534144e-01,\n",
       "         -1.57423770e+00, -2.36712885e+00, -3.09251249e-01],\n",
       "        [ 7.22816169e-01,  1.82696536e-01, -4.05586433e+00,\n",
       "          1.05332765e-29, -1.73348737e+00, -1.05172687e-29,\n",
       "          1.15619123e+00, -3.35474242e-03, -1.91733110e+00,\n",
       "         -2.01712680e+00, -1.05211288e-29, -2.73907790e-04,\n",
       "         -2.74238666e-03, -1.05625371e-29, -1.93471191e-04,\n",
       "          3.18418473e-01,  5.50651431e-01,  3.76543808e+00,\n",
       "          8.27374637e-01,  1.50809216e+00,  6.81439936e-02,\n",
       "          2.51441926e-01, -2.66837835e-01, -2.10211158e+00,\n",
       "         -4.90918249e-01,  3.79192173e-01,  8.41855824e-01,\n",
       "          5.81706345e-01, -4.03606623e-01, -3.17868628e-02],\n",
       "        [-4.71582711e-01, -4.10264254e-01, -1.87334013e+00,\n",
       "         -1.04848604e-29, -4.19275284e+00,  1.05067581e-29,\n",
       "         -8.49545717e-01, -2.43027806e-02,  2.61751652e+00,\n",
       "          2.04863763e+00, -1.05422998e-29, -5.82522387e-03,\n",
       "         -2.54888609e-02,  1.05576433e-29, -6.95059600e-04,\n",
       "          1.02787578e+00, -1.02850354e+00, -2.15312934e+00,\n",
       "          2.87557006e+00,  3.48627090e-01, -1.29959092e-01,\n",
       "          1.28598237e+00,  3.42540598e+00, -1.92739201e+00,\n",
       "         -3.07646632e+00,  1.73251760e+00, -2.71429121e-01,\n",
       "         -1.13586402e+00,  1.32404780e+00, -3.43504488e-01],\n",
       "        [ 1.68549776e+00,  4.34807450e-01, -5.54684043e-01,\n",
       "          1.04843955e-29, -2.91766167e-01, -1.05546596e-29,\n",
       "          6.29269063e-01,  1.10353734e-02, -1.58733916e+00,\n",
       "          6.47402465e-01,  1.04864290e-29,  6.41745003e-03,\n",
       "          1.09330267e-02, -1.05677567e-29,  1.47670496e-03,\n",
       "         -1.14747465e+00, -2.49352980e+00, -6.26318038e-01,\n",
       "         -1.00956190e+00, -7.00513303e-01,  9.40445244e-01,\n",
       "         -2.42134762e+00, -8.71911168e-01, -2.33096376e-01,\n",
       "          1.72258630e-01, -1.63887739e+00,  2.12773010e-01,\n",
       "          3.19498628e-01, -7.78353274e-01,  3.43721628e-01],\n",
       "        [ 1.57250315e-01,  4.32691813e-01,  3.82528043e+00,\n",
       "         -1.04855104e-29,  2.84589601e+00,  1.05395508e-29,\n",
       "         -1.05712676e+00,  2.89301900e-03,  3.31581831e+00,\n",
       "          2.48719382e+00,  1.04931209e-29,  2.42978125e-03,\n",
       "          3.38715245e-03,  1.05567954e-29,  9.45095322e-04,\n",
       "         -1.60124257e-01, -2.85506487e-01, -3.62666774e+00,\n",
       "          9.94051933e-01, -1.71325731e+00, -1.06171988e-01,\n",
       "          1.38183355e-01,  2.68978500e+00, -2.76769304e+00,\n",
       "         -1.55952680e+00, -2.74021745e+00,  5.13134301e-01,\n",
       "         -9.36902940e-01, -5.88969350e-01, -3.28541398e+00],\n",
       "        [-1.28408039e+00,  7.53801838e-02,  3.63819212e-01,\n",
       "         -1.05516887e-29,  2.43615210e-01,  1.04751164e-29,\n",
       "          2.47828677e-01,  1.17830997e-02, -1.05470264e+00,\n",
       "         -1.13348031e+00,  1.05325264e-29, -1.78747554e-03,\n",
       "          1.46577796e-02, -1.04897903e-29, -6.55033335e-04,\n",
       "          2.94830751e+00,  6.35022819e-02, -1.43726957e+00,\n",
       "          3.51905636e-02, -1.03697133e+00, -1.40335226e+00,\n",
       "         -4.04887080e-01,  4.88285899e-01,  2.57624435e+00,\n",
       "          7.41636336e-01, -1.19614697e+00, -5.00941686e-02,\n",
       "         -1.22588897e+00,  6.08612895e-01,  1.32119977e+00]], dtype=float32),\n",
       " array([ 0.94069755, -1.0876514 ,  3.8162868 ,  9.000838  , -2.0149212 ,\n",
       "        -9.000145  ,  6.303992  ,  5.2982564 ,  1.1978946 , 11.801364  ,\n",
       "         9.000508  ,  6.7480907 ,  5.137329  , -9.001138  ,  7.8913345 ,\n",
       "        -0.6848087 , -0.22218353,  8.72448   ,  2.7081087 , -5.2255006 ,\n",
       "         6.7303267 ,  0.313735  ,  6.1199055 , -1.0066233 , -6.472511  ,\n",
       "         3.6885035 , -4.13946   , -5.841598  , -0.510154  , -4.4759254 ],\n",
       "       dtype=float32),\n",
       " array([[ 1.62353837e+00,  1.65039992e+00,  1.73764396e+00,\n",
       "         -2.69766307e+00, -2.41998243e+00, -8.98156315e-02,\n",
       "          1.26765847e+00, -9.68099535e-01,  3.69737953e-01,\n",
       "         -2.35283041e+00, -2.06363201e-01,  4.35163617e-01,\n",
       "          2.21020699e-01, -8.46507132e-01,  1.91064632e+00,\n",
       "         -7.13697225e-02, -2.28548622e+00,  8.41734290e-01,\n",
       "          3.32949460e-02,  1.95958033e-01, -2.30572537e-01,\n",
       "         -2.22256756e+00,  1.36055853e-02, -2.20878959e-01,\n",
       "         -8.41338038e-01, -5.77112675e-01,  7.74309158e-01,\n",
       "         -3.32916498e+00,  4.78230655e-01, -1.80043113e+00],\n",
       "        [ 2.05856657e+00,  1.69766009e-01,  2.85625792e+00,\n",
       "          2.94501007e-01, -4.01260763e-01,  3.84715736e-01,\n",
       "         -1.04126775e+00,  1.55283821e+00,  5.56630455e-02,\n",
       "         -5.41194105e+00, -8.39024353e+00,  1.34930658e+00,\n",
       "         -8.27155292e-01,  2.36897683e+00,  2.89133620e+00,\n",
       "         -3.12991977e-01, -3.38896036e+00,  3.49824399e-01,\n",
       "         -1.71219129e-02,  1.41559407e-01, -2.01481119e-01,\n",
       "          9.96024683e-02, -1.38886034e-01,  2.86063641e-01,\n",
       "          1.42289221e+00, -3.40824481e-03,  5.16264439e-01,\n",
       "         -5.98453045e+00,  1.77155650e+00, -2.16749573e+00],\n",
       "        [ 1.50481641e-01,  2.43549630e-01,  4.55819666e-01,\n",
       "         -8.00807178e-02, -2.46340372e-02, -2.03460008e-02,\n",
       "          8.62226263e-02, -2.02863351e-01, -3.02272420e-02,\n",
       "         -2.27753073e-01,  2.75901854e-01, -1.63516313e-01,\n",
       "          6.31658077e-01, -1.23695873e-01,  3.12033582e+00,\n",
       "         -1.21500216e-01,  1.30884051e-01,  5.38589954e+00,\n",
       "          1.89354513e-02, -7.19237328e+00,  2.03835800e-01,\n",
       "         -6.58447623e-01,  8.62947851e-02, -1.97247982e+00,\n",
       "         -1.09615050e-01, -3.12411642e+00, -8.87687430e-02,\n",
       "          1.90053850e-01,  1.14759231e+00, -2.54147332e-02],\n",
       "        [-3.16079974e+00, -1.66749299e+00,  1.17563343e+00,\n",
       "          3.76300478e+00,  7.61092806e+00, -3.71184975e-01,\n",
       "         -1.79844654e+00, -4.90914583e+00,  1.75276959e+00,\n",
       "          4.07775211e+00,  1.50947833e+00, -1.62888908e+00,\n",
       "         -2.85530418e-01,  5.83859943e-02,  1.41786218e+00,\n",
       "          9.58324790e-01, -9.68949676e-01, -1.61557257e+00,\n",
       "         -3.42137441e-02, -4.41278405e-02, -7.69434023e+00,\n",
       "         -2.04097843e+00,  1.03514013e+01, -4.43812752e+00,\n",
       "          5.70379123e-02,  6.08257890e-01, -3.17053175e+00,\n",
       "          3.43874872e-01, -5.91776311e-01,  2.44426680e+00],\n",
       "        [-3.87703031e-02,  3.73133481e-01,  4.39545125e-01,\n",
       "         -7.90090859e-01, -2.50380921e+00, -2.23621558e-02,\n",
       "          3.61171812e-01,  3.09231758e-01, -1.12389112e+00,\n",
       "          1.40695963e-02,  2.53124714e-01,  5.69706857e-01,\n",
       "         -9.73312795e-01,  6.37746513e-01,  2.56953388e-01,\n",
       "          2.42753935e+00, -2.82770485e-01,  3.77815247e-01,\n",
       "          1.80228800e-01, -1.84094924e-02, -7.13883877e-01,\n",
       "          7.92983100e-02, -9.94350389e-02,  3.48241813e-02,\n",
       "         -1.92388147e-01, -4.28924650e-01,  4.21671391e-01,\n",
       "         -4.56837237e-01,  1.43127191e+00, -1.59190267e-01],\n",
       "        [-6.01162791e-01,  1.16237271e+00, -5.69871962e-01,\n",
       "          7.78147340e-01,  1.43211138e+00,  2.83735466e+00,\n",
       "         -6.76494420e-01,  7.43169844e-01,  1.75511873e+00,\n",
       "         -5.97259164e-01, -1.69739977e-01, -7.51430094e-01,\n",
       "         -3.21115702e-01,  8.01697791e-01,  1.12943664e-01,\n",
       "         -4.00462359e-01,  4.13902819e-01,  2.83102483e-01,\n",
       "          1.56555861e-01,  2.19792239e-02,  3.40772748e-01,\n",
       "         -2.21288055e-01,  3.28035802e-01,  3.16244632e-01,\n",
       "         -3.28973961e+00, -2.23842129e-01,  3.06249261e-01,\n",
       "         -1.20926750e+00, -1.98183075e-01, -2.83918929e+00]], dtype=float32),\n",
       " array([-1.9850466 , -6.27439   , -1.2539281 ,  1.4408394 ,  1.8120204 ,\n",
       "         2.5953112 , -0.80472684, -7.9191456 ,  2.36766   ,  3.5770187 ,\n",
       "         1.2390436 , -1.59447   , -1.0253634 , -5.8908753 ,  3.4945142 ,\n",
       "         4.3467255 , -0.7657615 ,  0.9574229 , -0.06294516, -6.167946  ,\n",
       "        -8.81681   , -1.4873008 ,  8.638768  , -3.932399  , -1.4157172 ,\n",
       "         0.9539386 , -2.7333884 ,  1.5410246 , -3.6619189 ,  1.9675088 ],\n",
       "       dtype=float32),\n",
       " array([[-0.10911471],\n",
       "        [ 0.02844844],\n",
       "        [-0.11009623],\n",
       "        [-0.27743465],\n",
       "        [-0.13140084],\n",
       "        [ 0.60474074],\n",
       "        [-0.10763014],\n",
       "        [-0.02810917],\n",
       "        [-0.11374556],\n",
       "        [-0.07228015],\n",
       "        [-0.48012874],\n",
       "        [-0.05063766],\n",
       "        [-0.02708077],\n",
       "        [ 0.65311664],\n",
       "        [-0.1153519 ],\n",
       "        [-0.15688731],\n",
       "        [ 0.09872518],\n",
       "        [-0.19560125],\n",
       "        [-0.03050666],\n",
       "        [ 0.07964927],\n",
       "        [-0.25708535],\n",
       "        [ 0.09172542],\n",
       "        [-0.05219739],\n",
       "        [ 0.28829983],\n",
       "        [ 0.3879064 ],\n",
       "        [-0.29243678],\n",
       "        [-0.00879087],\n",
       "        [ 0.05007796],\n",
       "        [-0.23476559],\n",
       "        [ 0.08016169]], dtype=float32),\n",
       " array([0.4321052], dtype=float32),\n",
       " array([[ 1.19776797e+00,  1.28188252e+00,  1.12480009e+00,\n",
       "         -1.14538634e+00, -4.07728583e-01, -1.82760394e+00,\n",
       "          1.65740597e+00, -2.02942252e+00,  5.24584889e-01,\n",
       "          2.35235766e-01,  1.29910767e-01,  4.03800726e-01,\n",
       "          2.32711405e-01, -1.21461713e+00, -9.69530463e-01,\n",
       "          2.22462845e+00, -1.09933877e+00, -3.52474481e-01,\n",
       "         -1.19762123e+00,  2.11800247e-01, -6.54200912e-01,\n",
       "          9.98327196e-01,  7.54445493e-01,  3.93025577e-01,\n",
       "          6.54188395e-02, -2.03001246e-01, -3.42075181e+00,\n",
       "         -1.22401929e+00, -1.81607270e+00,  4.79977131e-01],\n",
       "        [-1.91885757e+00,  2.88386077e-01, -3.45548749e+00,\n",
       "          1.65167749e+00,  6.79614544e-01,  2.99506044e+00,\n",
       "         -1.54747498e+00, -5.71254373e-01, -2.74767578e-01,\n",
       "          5.52673817e-01, -2.59671950e+00, -1.52145720e+00,\n",
       "         -1.40798366e+00, -3.29558444e+00, -2.01498032e-01,\n",
       "         -1.78247333e+00,  2.72093773e+00,  9.99915242e-01,\n",
       "         -1.55629051e+00,  7.86753058e-01,  3.16022587e+00,\n",
       "         -1.50065398e+00, -1.57369924e+00,  1.10433805e+00,\n",
       "         -1.45125461e+00,  2.71963656e-01, -1.07626200e-01,\n",
       "         -1.72657979e+00, -1.11209512e+00,  1.99840367e+00],\n",
       "        [ 7.21287072e-01, -2.20612809e-01,  9.83123481e-02,\n",
       "          2.19404742e-01,  3.79115820e-01,  4.69327211e-01,\n",
       "         -1.06864607e+00,  8.28218639e-01, -8.08516145e-01,\n",
       "          6.59559369e-01, -1.17026305e+00, -4.87005293e-01,\n",
       "          6.38237298e-02, -1.42711893e-01,  3.99131775e-01,\n",
       "          7.68306255e-01,  1.05973625e+00, -6.48002997e-02,\n",
       "         -3.69380206e-01, -5.72468974e-02,  1.66484392e+00,\n",
       "         -6.24567926e-01,  1.77763417e-01,  4.53076541e-01,\n",
       "          6.53906986e-02, -1.67715335e+00, -1.24792397e+00,\n",
       "         -8.87617096e-02, -9.40141737e-01,  2.56910771e-01],\n",
       "        [-1.80686116e+00, -1.25036693e+00, -1.89859712e+00,\n",
       "          2.43933058e+00,  1.83192050e+00,  2.23102856e+00,\n",
       "         -3.77773911e-01,  2.27994227e+00, -1.97424680e-01,\n",
       "         -9.76253390e-01, -2.96217412e-01,  9.40713584e-01,\n",
       "         -9.21628714e-01,  1.66549492e+00,  9.38488394e-02,\n",
       "         -3.34106207e-01,  2.97839785e+00,  1.11769140e+00,\n",
       "          2.30816269e+00,  2.30107045e+00,  1.50044703e+00,\n",
       "         -4.16283071e-01, -1.00846529e-01, -1.03963578e+00,\n",
       "         -8.74047101e-01, -6.23649836e-01, -2.01789603e-01,\n",
       "          2.68687248e+00,  1.36416578e+00, -4.95967448e-01],\n",
       "        [-1.46147883e+00, -9.39706683e-01, -2.31145191e+00,\n",
       "          1.16426289e+00,  2.05070043e+00,  2.04188108e+00,\n",
       "          4.17893076e+00,  7.18216479e-01, -1.45671272e+00,\n",
       "         -7.37231493e-01, -1.16797817e+00, -5.63330710e-01,\n",
       "         -2.10761428e+00,  1.84542751e+00,  1.45359755e+00,\n",
       "          4.14491743e-01,  6.30173147e-01,  1.08902228e+00,\n",
       "          5.74608743e-01,  2.53580880e+00,  1.33808911e+00,\n",
       "         -1.83949184e+00, -1.67430866e+00, -1.53881025e+00,\n",
       "         -7.83328474e-01, -1.73459932e-01, -4.25446063e-01,\n",
       "          1.76020682e-01,  1.29589176e+00, -3.74593347e-01],\n",
       "        [-1.48385251e+00,  1.33784854e+00, -1.30918396e+00,\n",
       "          1.89058170e-01, -2.78896213e+00,  5.53472154e-02,\n",
       "          6.14004731e-01, -1.54893291e+00, -1.13723493e+00,\n",
       "          1.93970978e+00, -1.91648901e+00,  1.19471765e+00,\n",
       "         -1.36368752e+00,  1.16669321e+00,  8.20433676e-01,\n",
       "          1.08508721e-01, -4.26781625e-01,  6.72732532e-01,\n",
       "          4.66759086e-01, -2.54127192e+00, -1.41044017e-02,\n",
       "         -1.74293625e+00,  1.69320256e-02,  1.09735894e+00,\n",
       "          3.89154053e+00, -1.74682224e+00, -2.80621600e+00,\n",
       "         -1.65709400e+00, -2.57671028e-01,  1.46501586e-01],\n",
       "        [-2.77351472e-03, -3.38497125e-02,  1.77758551e+00,\n",
       "         -2.90498734e-01,  1.22490358e+00,  1.18135226e+00,\n",
       "         -1.35504711e+00, -9.69674587e-01,  2.54203141e-01,\n",
       "          1.48125136e+00, -8.08160841e-01, -1.11229599e+00,\n",
       "          2.41702318e+00, -1.11262333e+00,  1.91760635e+00,\n",
       "          2.04868942e-01, -1.11277211e+00,  8.72574568e-01,\n",
       "         -3.26706886e-01, -1.01253343e+00, -2.90485054e-01,\n",
       "         -1.13281369e+00, -2.01252842e+00,  4.72837210e-01,\n",
       "          1.37201655e+00, -1.46030533e+00, -2.51695681e+00,\n",
       "         -1.04555464e+00, -1.71899652e+00,  2.81491667e-01],\n",
       "        [-1.56833684e+00,  1.12931395e+00,  2.37387633e+00,\n",
       "         -1.90741301e+00, -1.72646487e+00, -2.00951910e+00,\n",
       "         -5.41325212e-01,  1.28623235e+00,  1.53990400e+00,\n",
       "          2.24906206e+00, -1.10793769e+00, -1.34728026e+00,\n",
       "         -9.36867535e-01,  1.62924385e+00, -6.39755070e-01,\n",
       "         -3.37916017e-01, -2.95777011e+00, -6.72228932e-01,\n",
       "         -1.61382842e+00, -4.06964254e+00, -1.01507306e+00,\n",
       "          1.61136723e+00,  1.30345154e+00,  1.85007322e+00,\n",
       "          1.52177346e+00,  4.92850363e-01, -1.34259760e+00,\n",
       "          1.14962772e-01, -2.61763501e+00, -1.62388951e-01],\n",
       "        [ 5.71521044e-01,  1.01152670e+00,  1.27948627e-01,\n",
       "          3.40612620e-01, -1.08211935e+00,  1.73331216e-01,\n",
       "          6.90270007e-01, -3.63520890e-01, -1.08063924e+00,\n",
       "         -1.79577470e-01, -1.95148319e-01, -2.05170736e-01,\n",
       "          8.81032288e-01, -7.97213793e-01,  1.75917423e+00,\n",
       "         -4.83794779e-01, -1.29024816e+00, -2.61112571e-01,\n",
       "          2.59363025e-01, -8.04676935e-02,  3.83703969e-02,\n",
       "         -7.58118153e-01, -1.41613257e+00,  4.45787162e-01,\n",
       "         -3.50391150e+00,  5.06859273e-02, -6.67174816e-01,\n",
       "          8.91394615e-02,  8.44847023e-01, -1.73981711e-01],\n",
       "        [-1.27449429e+00, -1.71447408e+00, -2.67806125e+00,\n",
       "          2.25098968e+00,  3.04605216e-01,  7.77787864e-01,\n",
       "         -1.46637440e-01, -1.02829444e+00, -2.89053011e+00,\n",
       "         -1.49411750e+00, -8.16163063e-01,  1.04021335e+00,\n",
       "         -2.03109312e+00,  1.45950425e+00,  1.45249271e+00,\n",
       "         -6.15438640e-01,  2.60958433e-01,  1.92012107e+00,\n",
       "          7.40392447e-01,  4.08787489e+00,  3.58574557e+00,\n",
       "         -3.21304107e+00, -5.19665420e-01, -1.83567405e+00,\n",
       "         -1.78152132e+00,  6.07445776e-01,  4.62569714e-01,\n",
       "          4.05065686e-01,  2.10971221e-01, -2.64556743e-02],\n",
       "        [-1.07055292e-01,  2.73229885e+00, -1.19415987e+00,\n",
       "          2.70114875e+00,  1.11605275e+00,  8.06518078e-01,\n",
       "          8.90318155e-01, -5.81856966e-01, -2.04247996e-01,\n",
       "         -8.32819939e-01,  1.06803842e-01, -8.60831022e-01,\n",
       "         -2.00640035e+00,  6.45287812e-01, -4.71247673e+00,\n",
       "         -3.14409304e+00,  5.28587580e-01,  8.09182882e-01,\n",
       "         -3.21393043e-01, -6.71360016e-01,  1.03183746e+00,\n",
       "          2.30975345e-01,  3.11849296e-01, -4.86452770e+00,\n",
       "          4.98542488e-01,  6.62190735e-01, -1.14670742e+00,\n",
       "         -1.33831844e-01,  8.23344886e-01, -4.37523186e-01],\n",
       "        [ 7.64845014e-01, -9.38438833e-01,  1.44059384e+00,\n",
       "         -1.04144025e+00,  2.01389432e+00, -8.27368274e-02,\n",
       "          2.24458313e+00, -6.00878857e-02, -2.74083823e-01,\n",
       "         -2.80331790e-01,  5.59140682e-01, -9.30781126e-01,\n",
       "          2.45309615e+00, -9.43885446e-01,  1.40496314e+00,\n",
       "          5.31320274e-01, -9.71564829e-01,  1.22562683e+00,\n",
       "         -1.87708080e-01, -1.28195167e+00, -1.37027055e-01,\n",
       "         -9.44198430e-01, -8.51794660e-01,  1.26806104e+00,\n",
       "          1.62817895e+00,  4.34483910e+00,  1.04251456e+00,\n",
       "         -1.53366491e-01,  3.47795695e-01,  1.48196429e-01],\n",
       "        [ 4.01343435e-01, -2.32364595e-01,  1.41032934e-01,\n",
       "         -1.61375955e-01,  2.55505964e-02,  7.77532160e-01,\n",
       "          2.51495361e-01,  1.44452727e+00, -2.42093265e-01,\n",
       "          1.60338485e+00,  8.91411662e-01, -9.68439639e-01,\n",
       "         -5.06417751e-01,  4.87103090e-02,  4.53143954e-01,\n",
       "         -1.31478143e+00,  1.04992974e+00, -6.76211476e-01,\n",
       "         -1.17402005e+00,  3.78401935e-01,  6.04946196e-01,\n",
       "         -1.47106278e+00, -1.62879229e-01,  1.08194247e-01,\n",
       "          1.64326251e+00, -2.97281098e+00, -4.07917760e-02,\n",
       "          1.77124918e-01, -7.24780381e-01,  1.16473109e-01],\n",
       "        [ 3.49173665e+00,  4.85564649e-01,  2.26439619e+00,\n",
       "         -4.13259327e-01,  1.50660396e+00, -4.85910773e-01,\n",
       "          1.15056229e+00, -4.58189201e+00, -6.56276703e-01,\n",
       "          3.35478276e-01, -1.08775902e+00, -2.73047894e-01,\n",
       "          2.21781564e+00, -2.92140675e+00,  2.09031272e+00,\n",
       "          3.52662764e-02, -6.97098255e-01,  1.03056145e+00,\n",
       "          1.11166453e+00, -2.98661089e+00, -9.99643564e-01,\n",
       "         -9.69268501e-01, -1.53792727e+00,  6.77943707e-01,\n",
       "          1.03272460e-01, -1.89980435e+00, -1.68754518e+00,\n",
       "         -2.45429707e+00, -9.46729004e-01,  1.23869789e+00],\n",
       "        [ 4.36961383e-01, -1.10015762e+00, -1.45762444e+00,\n",
       "          3.10507083e+00, -4.30799127e-01, -1.16648626e+00,\n",
       "         -8.17194879e-01,  2.72989035e+00,  1.69600844e+00,\n",
       "         -2.05978870e+00,  9.91712332e-01,  4.09412384e+00,\n",
       "         -2.29541636e+00, -2.92086750e-01, -3.07952452e+00,\n",
       "          4.94613469e-01,  3.22735131e-01,  3.65814000e-01,\n",
       "          2.20717669e-01,  3.25849271e+00,  2.02569127e+00,\n",
       "          2.16567802e+00,  1.08202541e+00, -3.65446901e+00,\n",
       "         -9.90676165e-01,  1.01324177e+00,  3.37993407e+00,\n",
       "          1.66132247e+00,  3.09894586e+00, -1.84389174e-01],\n",
       "        [-3.15729082e-01, -7.51948953e-01,  1.00078976e+00,\n",
       "         -1.05791402e+00, -1.83141291e+00, -4.70886588e-01,\n",
       "         -2.27138257e+00,  6.69943392e-01, -5.84117807e-02,\n",
       "          1.99282634e+00, -6.11293674e-01, -2.08241761e-01,\n",
       "          1.08210705e-02,  4.11360711e-01, -5.71099281e-01,\n",
       "          3.34597021e-01, -2.55207539e-01,  1.20359552e+00,\n",
       "         -1.79892361e+00, -3.45345825e-01, -6.42255425e-01,\n",
       "         -7.24914437e-03,  1.16211033e+00,  6.40294015e-01,\n",
       "          1.62965417e+00,  8.46664250e-01, -1.32706964e+00,\n",
       "         -8.15118849e-01, -2.15890813e+00,  1.80195197e-01],\n",
       "        [-4.94966388e-01, -1.33701921e+00, -4.39723462e-01,\n",
       "          4.85141724e-01, -1.48332489e+00,  1.17105091e+00,\n",
       "         -2.59150267e+00,  1.94139647e+00,  1.39363098e+00,\n",
       "         -1.49850214e+00,  1.06929743e+00,  1.80246961e+00,\n",
       "         -3.94495189e-01,  8.49161267e-01, -8.59423578e-01,\n",
       "         -1.16625547e-01,  1.37416279e+00, -5.97756803e-01,\n",
       "          2.07046819e+00,  1.41730356e+00,  8.53812933e-01,\n",
       "          9.63447392e-01,  1.87667263e+00,  1.78998262e-01,\n",
       "          9.91850257e-01, -1.79107666e-01,  1.95456564e+00,\n",
       "          1.67899990e+00,  1.92999685e+00, -6.66269302e-01],\n",
       "        [ 5.43797195e-01,  2.44212556e+00,  2.14617920e+00,\n",
       "         -1.45644844e+00,  2.11544085e+00, -2.29137227e-01,\n",
       "          1.50694326e-01, -1.32943273e+00, -6.27133965e-01,\n",
       "          1.01407170e+00, -5.76281063e-02, -3.52970690e-01,\n",
       "          1.80791306e+00, -8.87990952e-01, -1.65502143e+00,\n",
       "          7.73008406e-01, -3.34658563e-01, -1.44751728e+00,\n",
       "         -7.92285860e-01, -2.71131110e+00, -5.63231885e-01,\n",
       "         -5.06899416e-01,  8.52373719e-01,  1.88125598e+00,\n",
       "          2.01245442e-01, -3.41409951e-01, -1.49349356e+00,\n",
       "         -3.84009898e-01, -1.87509406e+00, -3.72482634e+00],\n",
       "        [-2.58663356e-01,  6.58266842e-02, -1.67223349e-01,\n",
       "         -1.31770566e-01, -1.80764809e-01,  7.82470107e-02,\n",
       "          3.37878257e-01,  5.72103588e-03, -4.24293317e-02,\n",
       "          4.24079448e-02, -4.28397879e-02, -6.59322888e-02,\n",
       "          2.24011406e-01,  1.02293484e-01, -2.41101161e-02,\n",
       "          3.43245775e-01, -5.87946400e-02, -6.35028444e-03,\n",
       "          6.15255050e-02,  3.16511393e-02,  1.24626756e-01,\n",
       "         -1.17102824e-01, -5.80016673e-02, -3.22252102e-02,\n",
       "          1.14575975e-01, -1.61550194e-01,  2.00095445e-01,\n",
       "         -1.63945258e-01,  2.43802182e-02,  2.14878559e-01],\n",
       "        [ 1.27254915e+00, -1.03502059e+00, -9.85248804e-01,\n",
       "          1.58379674e+00, -1.13723159e+00, -2.40037560e+00,\n",
       "         -7.63408244e-01,  8.56199980e-01,  1.85627437e+00,\n",
       "         -2.23573470e+00,  8.60755742e-01,  3.33265567e+00,\n",
       "         -1.36199629e+00,  2.12093145e-01, -2.11037946e+00,\n",
       "         -2.61518598e-01,  1.14905024e+00, -1.08232439e+00,\n",
       "          1.02095711e+00,  3.14216465e-01, -4.12676424e-01,\n",
       "          2.54330969e+00,  3.85530829e+00, -1.72065318e+00,\n",
       "          1.47703302e+00,  1.64131081e+00,  1.93926275e+00,\n",
       "          2.44705057e+00,  1.55476284e+00,  4.09218609e-01],\n",
       "        [-1.88768101e+00,  4.32077551e+00, -2.83732235e-01,\n",
       "          1.11895159e-01,  1.65281057e+00, -3.79502058e+00,\n",
       "         -2.06011581e+00, -3.66979092e-01,  1.53867757e+00,\n",
       "          4.87872744e+00,  4.15717077e+00, -4.63049650e+00,\n",
       "         -1.84362853e+00,  2.37887740e+00,  4.95440483e+00,\n",
       "         -4.42670822e-01,  8.97284091e-01, -3.56928086e+00,\n",
       "         -3.64264774e+00, -3.61525393e+00,  3.86313424e-02,\n",
       "          2.04512477e+00, -5.95879889e+00, -2.36817002e+00,\n",
       "          1.04350537e-01, -2.31296539e+00, -1.90776801e+00,\n",
       "          1.43884671e+00, -3.16821599e+00, -2.45211765e-01],\n",
       "        [-1.33652389e-01, -3.88977408e-01,  3.38435441e-01,\n",
       "         -4.17746454e-01, -7.82631099e-01,  6.10607386e-01,\n",
       "         -6.30031466e-01,  1.79301310e+00,  5.96384108e-01,\n",
       "         -1.03922807e-01,  2.33752221e-01,  1.24775216e-01,\n",
       "         -1.44796026e+00,  9.14295435e-01, -2.70121217e+00,\n",
       "          9.33572948e-01, -1.27463773e-01, -2.49677598e-01,\n",
       "         -3.00955564e-01,  1.64148259e+00, -3.25343281e-01,\n",
       "          1.03013539e+00,  1.39508426e+00, -1.41903567e+00,\n",
       "          1.04815519e+00, -1.02829719e+00, -1.93107581e+00,\n",
       "          1.21701264e+00,  4.42617089e-01, -5.03176153e-01],\n",
       "        [ 1.37005544e+00, -6.78110361e-01,  3.04311991e+00,\n",
       "         -2.65489459e+00, -4.55775690e+00,  4.30624753e-01,\n",
       "         -1.88794112e+00, -2.67576075e+00,  1.61503971e-01,\n",
       "          1.41443837e+00, -9.61601973e-01, -2.83866954e+00,\n",
       "          1.84069085e+00, -1.06030357e+00, -6.32274032e-01,\n",
       "          5.12552917e-01, -3.32509804e+00,  2.62774324e+00,\n",
       "         -1.46857381e+00, -2.28333640e+00, -2.10734582e+00,\n",
       "         -1.10923660e+00,  9.84232128e-01,  2.31297565e+00,\n",
       "          8.60565305e-01,  3.24375570e-01, -2.56572437e+00,\n",
       "         -2.43233657e+00, -3.26503754e+00,  4.17406827e-01],\n",
       "        [ 1.00672352e+00, -2.65009940e-01,  5.68018794e-01,\n",
       "         -2.02530518e-01,  7.00883031e-01, -1.55961955e+00,\n",
       "         -1.76356778e-01, -2.48277057e-02,  1.05594349e+00,\n",
       "          1.43401313e+00,  1.53432423e-02, -2.47493938e-01,\n",
       "          5.61956108e-01,  5.22421241e-01,  9.45294023e-01,\n",
       "          2.08336905e-01, -8.66099238e-01, -4.40000027e-01,\n",
       "         -1.85888278e+00, -1.92937180e-01, -3.33481812e+00,\n",
       "          9.65698659e-01, -6.86189175e-01,  2.10755393e-01,\n",
       "         -3.00934285e-01, -5.56222498e-01, -4.11322474e-01,\n",
       "         -7.49678373e-01, -1.38423777e+00,  6.94483161e-01],\n",
       "        [ 1.18101192e+00,  6.96428001e-01,  1.57116306e+00,\n",
       "          1.03661680e+00,  8.84312809e-01, -9.61722970e-01,\n",
       "          5.95577121e-01,  2.34743953e+00,  7.71429777e-01,\n",
       "         -1.45182341e-01,  6.23598039e-01,  4.74232674e-01,\n",
       "          2.45274067e-01, -1.60041034e+00,  3.24748576e-01,\n",
       "          1.42291069e+00,  2.38632083e-01, -8.31526101e-01,\n",
       "         -1.39169860e+00,  2.05187410e-01, -3.98358136e-01,\n",
       "          8.35481048e-01, -9.73797858e-01, -5.81789374e-01,\n",
       "         -9.42478657e-01,  1.26462448e+00,  4.17170644e-01,\n",
       "         -6.29385591e-01, -1.59537911e+00,  9.44026113e-02],\n",
       "        [ 8.97175893e-02, -5.98919153e-01, -7.56605566e-02,\n",
       "          1.16829777e+00, -6.02440894e-01,  6.95632696e-01,\n",
       "         -1.39172757e+00,  2.26167274e+00,  2.02310157e+00,\n",
       "         -1.53304064e+00,  6.06512964e-01,  1.21528053e+00,\n",
       "         -4.33801472e-01,  1.06570654e-01, -3.10240102e+00,\n",
       "         -2.37430245e-01,  1.25956202e+00,  1.37792540e+00,\n",
       "          7.92784572e-01,  3.66082996e-01,  3.43265355e-01,\n",
       "          3.11160159e+00,  2.86668348e+00, -8.91474962e-01,\n",
       "         -5.97573072e-02,  2.19243988e-01,  9.96774256e-01,\n",
       "          1.53247440e+00,  1.11913896e+00, -1.76277876e-01],\n",
       "        [ 1.03862619e+00,  1.98547912e+00,  6.06809855e-01,\n",
       "         -6.41713083e-01,  1.01633608e+00, -1.05593735e-02,\n",
       "         -5.86855352e-01, -9.85392034e-01, -7.71197140e-01,\n",
       "          2.47190356e+00,  1.81228602e+00, -3.16548419e+00,\n",
       "          3.12675089e-01, -1.69586492e+00, -4.45725977e-01,\n",
       "         -1.83474958e+00,  1.09064460e+00, -8.45784545e-01,\n",
       "         -2.28924561e+00, -9.11940694e-01, -9.06387568e-01,\n",
       "         -1.02181101e+00,  5.28701067e-01,  1.62146318e+00,\n",
       "         -1.45573819e+00, -1.13256729e+00, -2.58363914e+00,\n",
       "         -1.48253095e+00, -1.84382224e+00, -7.97172248e-01],\n",
       "        [-1.76551431e-01, -6.28175557e-01, -1.49615669e+00,\n",
       "          2.11899132e-01, -1.84292853e-01, -2.15444677e-02,\n",
       "          1.37377381e+00, -2.91041471e-03, -9.13410604e-01,\n",
       "         -2.45772314e+00,  1.74726471e-01,  2.41627574e+00,\n",
       "         -5.51228940e-01,  9.08631325e-01, -3.61103773e-01,\n",
       "          4.96383868e-02,  1.62773892e-01,  1.47960567e+00,\n",
       "          1.54744101e+00,  1.33819628e+00,  1.48763239e+00,\n",
       "         -8.05544674e-01,  2.03884435e+00,  6.58787251e-01,\n",
       "          7.06615865e-01,  2.41857910e+00,  2.30597210e+00,\n",
       "          3.75954092e-01,  1.21534303e-01,  1.10116422e-01],\n",
       "        [-7.02810049e-01, -2.07332462e-01, -4.19372767e-02,\n",
       "         -1.04057066e-01, -1.30294859e-01, -5.42075455e-01,\n",
       "          3.15820754e-01, -1.48784554e+00, -2.04373971e-01,\n",
       "         -8.60986292e-01,  4.63650376e-01, -1.50753200e-01,\n",
       "          9.33562666e-02,  1.74515113e-01,  8.75180185e-01,\n",
       "         -1.11478209e-01, -1.65979221e-01,  1.52156785e-01,\n",
       "          1.30543038e-01, -5.82709722e-02, -1.20472193e+00,\n",
       "         -6.58517480e-01, -6.44699514e-01,  2.84270674e-01,\n",
       "         -4.01644140e-01,  1.45100963e+00,  5.17188497e-02,\n",
       "         -8.06557238e-01, -9.75632593e-02, -1.21938244e-01],\n",
       "        [ 4.94086474e-01,  2.83805251e-01, -1.04530919e+00,\n",
       "          1.29698917e-01, -4.53614354e-01,  8.62410963e-01,\n",
       "         -6.69402182e-01, -7.97821045e-01, -6.72795773e-01,\n",
       "         -5.38242795e-02, -3.42772782e-01,  1.83869016e+00,\n",
       "         -1.00806153e+00,  1.49280861e-01,  5.43479145e-01,\n",
       "         -7.80856490e-01, -9.72909331e-01,  6.16175711e-01,\n",
       "          1.98903048e+00,  8.11400235e-01,  1.72749326e-01,\n",
       "         -1.51601866e-01, -1.80757105e+00,  1.56162053e-01,\n",
       "         -4.74844366e-01, -2.00324282e-01,  1.15982008e+00,\n",
       "          3.71680148e-02,  3.52906466e+00, -3.83321911e-01]], dtype=float32),\n",
       " array([ -1.8462045 ,  -5.898667  ,  -5.9556546 ,   7.149279  ,\n",
       "         -5.8112683 ,  -0.95400155,   2.0508082 ,   8.625091  ,\n",
       "         -4.4135413 ,  -1.2911264 ,  -0.38602298,   2.494737  ,\n",
       "         -9.425603  ,   2.1800814 ,  -8.413039  ,  -3.705885  ,\n",
       "          2.5605354 ,   5.605786  ,  -0.4812928 ,   4.334652  ,\n",
       "          4.4493318 ,  -3.6930559 ,   7.6833396 , -10.394445  ,\n",
       "          1.272668  ,   5.3875284 ,   7.3466682 ,   6.2739334 ,\n",
       "          1.3772411 ,  -3.0447807 ], dtype=float32),\n",
       " array([[1.]], dtype=float32),\n",
       " array([0.], dtype=float32),\n",
       " array([[ 0.58107024],\n",
       "        [-1.1029061 ],\n",
       "        [ 0.6916697 ],\n",
       "        [-0.8038379 ],\n",
       "        [ 1.2770619 ],\n",
       "        [-0.38578898],\n",
       "        [ 0.26219863],\n",
       "        [ 0.6165749 ],\n",
       "        [-1.1534786 ],\n",
       "        [ 0.6519029 ],\n",
       "        [-0.4234893 ],\n",
       "        [ 1.337821  ],\n",
       "        [ 0.8394017 ],\n",
       "        [-0.5312225 ],\n",
       "        [ 2.8144794 ],\n",
       "        [ 0.1274305 ],\n",
       "        [ 0.42009878],\n",
       "        [ 1.4458823 ],\n",
       "        [-0.58805275],\n",
       "        [-0.96712965],\n",
       "        [-0.67031515],\n",
       "        [-0.7174645 ],\n",
       "        [-1.2833265 ],\n",
       "        [ 1.6544671 ],\n",
       "        [ 0.28455868],\n",
       "        [-0.62325686],\n",
       "        [-0.82492757],\n",
       "        [-0.6153685 ],\n",
       "        [-0.65510964],\n",
       "        [-1.5257798 ]], dtype=float32),\n",
       " array([9.124812], dtype=float32),\n",
       " array([[0.34029573]], dtype=float32),\n",
       " array([-0.34097752], dtype=float32)]"
      ]
     },
     "execution_count": 24,
     "metadata": {},
     "output_type": "execute_result"
    }
   ],
   "source": [
    "new_model.get_weights()"
   ]
  },
  {
   "cell_type": "code",
   "execution_count": 25,
   "metadata": {},
   "outputs": [
    {
     "data": {
      "text/plain": [
       "<keras.optimizers.Adam at 0x2530039f828>"
      ]
     },
     "execution_count": 25,
     "metadata": {},
     "output_type": "execute_result"
    }
   ],
   "source": [
    "new_model.optimizer"
   ]
  },
  {
   "cell_type": "markdown",
   "metadata": {},
   "source": [
    "# Predictions (Global)"
   ]
  },
  {
   "cell_type": "markdown",
   "metadata": {},
   "source": [
    "\"Global\" in this sense means that I've fed model.predict() with all the possible parameters. This gives a good overview of the overall performance of the network. This can be useful to spot large-scale phenomena like network overfitting but is not so great at looking at say individual data slices. This is done later.\n",
    "\n",
    "***Nota Bene: all data here is NORMALIZED at this stage.***"
   ]
  },
  {
   "cell_type": "code",
   "execution_count": 26,
   "metadata": {},
   "outputs": [
    {
     "name": "stdout",
     "output_type": "stream",
     "text": [
      "[-0.29719886 -0.29719886 -0.29719886 ... -0.29719886 -0.29719886\n",
      " -0.29719886]\n",
      "(647914,)\n"
     ]
    }
   ],
   "source": [
    "y_test_np_array = y_test.values\n",
    "print(y_test_np_array)\n",
    "print(y_test_np_array.shape)"
   ]
  },
  {
   "cell_type": "code",
   "execution_count": 27,
   "metadata": {},
   "outputs": [
    {
     "name": "stdout",
     "output_type": "stream",
     "text": [
      "[[-0.79279996 -1.02146933 -1.22240749 ...  0.49665925  0.25300765\n",
      "  -0.52840548]\n",
      " [ 0.35197326 -0.32667383  0.30442833 ... -1.57430706  1.185828\n",
      "   0.75767614]\n",
      " [ 0.5809279   2.68410668  0.64372517 ... -1.57430706 -0.57616598\n",
      "  -0.52840548]\n",
      " ...\n",
      " [-1.63230031 -1.63906533 -1.22240749 ...  0.49665925  1.70406169\n",
      "  -0.52840548]\n",
      " [-1.63230031 -1.02146933 -0.03486852 ... -0.96682361  1.185828\n",
      "   0.75767614]\n",
      " [ 0.5809279  -0.55827233 -1.22240749 ... -0.46979169  0.66759452\n",
      "   1.94482849]]\n"
     ]
    }
   ],
   "source": [
    "x_test_np_array = x_test.values\n",
    "print(x_test_np_array)"
   ]
  },
  {
   "cell_type": "code",
   "execution_count": 28,
   "metadata": {},
   "outputs": [],
   "source": [
    "x_test_1_np_array = x_test_1.values\n",
    "x_test_2_np_array = x_test_2.values"
   ]
  },
  {
   "cell_type": "code",
   "execution_count": 29,
   "metadata": {},
   "outputs": [
    {
     "name": "stdout",
     "output_type": "stream",
     "text": [
      "(647914, 6)\n"
     ]
    }
   ],
   "source": [
    "print(x_test_1_np_array.shape)"
   ]
  },
  {
   "cell_type": "code",
   "execution_count": 30,
   "metadata": {},
   "outputs": [
    {
     "name": "stdout",
     "output_type": "stream",
     "text": [
      "(647914, 1)\n"
     ]
    }
   ],
   "source": [
    "print(x_test_2_np_array.shape)"
   ]
  },
  {
   "cell_type": "code",
   "execution_count": 31,
   "metadata": {},
   "outputs": [
    {
     "name": "stdout",
     "output_type": "stream",
     "text": [
      "(647914, 7)\n"
     ]
    }
   ],
   "source": [
    "print(x_test_np_array.shape)"
   ]
  },
  {
   "cell_type": "code",
   "execution_count": 32,
   "metadata": {},
   "outputs": [
    {
     "name": "stdout",
     "output_type": "stream",
     "text": [
      "<class 'numpy.ndarray'>\n",
      "(647914,)\n",
      "<class 'numpy.ndarray'>\n"
     ]
    }
   ],
   "source": [
    "predictions_global = new_model.predict([x_test_1_np_array, x_test_2_np_array], batch_size = 10, verbose=0)\n",
    "print(type(predictions_global))\n",
    "\n",
    "predictions_global = predictions_global.flatten()\n",
    "print(predictions_global.shape)\n",
    "print(type(predictions_global))"
   ]
  },
  {
   "cell_type": "markdown",
   "metadata": {},
   "source": [
    "### Predictions (Global) review - De-Normalized"
   ]
  },
  {
   "cell_type": "code",
   "execution_count": 33,
   "metadata": {},
   "outputs": [],
   "source": [
    "predictions_global_deNormalized = (predictions_global * joined_dataFrame_original['efiITG_GB'].std()) + joined_dataFrame_original['efiITG_GB'].mean()"
   ]
  },
  {
   "cell_type": "code",
   "execution_count": 34,
   "metadata": {},
   "outputs": [],
   "source": [
    "y_test_deNormalized = (y_test * joined_dataFrame_original['efiITG_GB'].std()) + joined_dataFrame_original['efiITG_GB'].mean()"
   ]
  },
  {
   "cell_type": "code",
   "execution_count": 35,
   "metadata": {},
   "outputs": [],
   "source": [
    "y_test_deNormalized_np_array = y_test_deNormalized.values"
   ]
  },
  {
   "cell_type": "code",
   "execution_count": 36,
   "metadata": {},
   "outputs": [],
   "source": [
    "import matplotlib.pyplot as plt\n",
    "from matplotlib.colors import LogNorm"
   ]
  },
  {
   "cell_type": "code",
   "execution_count": 37,
   "metadata": {},
   "outputs": [
    {
     "data": {
      "image/png": "[encoded data removed]",
      "text/plain": [
       "<Figure size 432x288 with 1 Axes>"
      ]
     },
     "metadata": {
      "needs_background": "light"
     },
     "output_type": "display_data"
    }
   ],
   "source": [
    "plt.hist(predictions_global_deNormalized)\n",
    "plt.title('QuaLiKiz-NN Predictions (De-Normalized) Histogram')\n",
    "plt.xlabel('Values')\n",
    "plt.ylabel('Counts')\n",
    "# plt.savefig('./2018-07-10_Run0050b_DataSlicerPlot/NN_Predictions.png', dpi = 100)\n",
    "plt.show()"
   ]
  },
  {
   "cell_type": "code",
   "execution_count": 38,
   "metadata": {},
   "outputs": [
    {
     "name": "stdout",
     "output_type": "stream",
     "text": [
      "(647914,)\n"
     ]
    }
   ],
   "source": [
    "print(predictions_global.shape)"
   ]
  },
  {
   "cell_type": "code",
   "execution_count": 39,
   "metadata": {},
   "outputs": [
    {
     "data": {
      "image/png": "[encoded data removed]",
      "text/plain": [
       "<Figure size 432x288 with 1 Axes>"
      ]
     },
     "metadata": {
      "needs_background": "light"
     },
     "output_type": "display_data"
    }
   ],
   "source": [
    "plt.plot(y_test_deNormalized_np_array, predictions_global_deNormalized, 'r.', ms = 5, label = 'QuaLiKiz-NN')\n",
    "plt.title('QuaLiKiz-NN predictions (De-Normalized) (efiITG_GB) vs. QuaLiKiz (efiITG_GB)')\n",
    "plt.xlabel('QuaLiKiz')\n",
    "plt.ylabel('Neural Network')\n",
    "plt.show()"
   ]
  },
  {
   "cell_type": "code",
   "execution_count": 40,
   "metadata": {},
   "outputs": [
    {
     "data": {
      "image/png": "[encoded data removed]",
      "text/plain": [
       "<Figure size 432x288 with 2 Axes>"
      ]
     },
     "metadata": {
      "needs_background": "light"
     },
     "output_type": "display_data"
    }
   ],
   "source": [
    "plt.hist2d(y_test_deNormalized_np_array, predictions_global_deNormalized, bins=100, cmin=5)\n",
    "# plt.plot( [0,1],[0,1] )\n",
    "plt.title('QuaLiKiz vs Neural Network (De-Normalized) (non-log scale)')\n",
    "plt.xlabel('QuaLiKiz')\n",
    "plt.ylabel('Neural Network')\n",
    "plt.ylim(0)\n",
    "plt.xlim(0)\n",
    "cbar = plt.colorbar()\n",
    "cbar.ax.set_ylabel('Counts')\n",
    "# plt.savefig('./2018-07-10_Run0050b_DataSlicerPlot/QuaLiKiz-vs-NN_nonLogScale_bins100.png', dpi = 100)\n",
    "plt.show()"
   ]
  },
  {
   "cell_type": "code",
   "execution_count": 77,
   "metadata": {},
   "outputs": [
    {
     "data": {
      "image/png": "[encoded data removed]",
      "text/plain": [
       "<Figure size 432x288 with 2 Axes>"
      ]
     },
     "metadata": {
      "needs_background": "light"
     },
     "output_type": "display_data"
    }
   ],
   "source": [
    "plt.hist2d(y_test_deNormalized_np_array, predictions_global_deNormalized, bins=300, cmin=10, cmax = 1e4, norm=LogNorm(), cmap='plasma_r')\n",
    "plt.plot( [0,40],[0,40],'k--' )\n",
    "#plt.title('QuaLiKiz vs Neural Network (De-Normalized) (log scale)')\n",
    "plt.xlabel('QuaLiKiz')\n",
    "plt.ylabel('Neural Network')\n",
    "plt.ylim(0, 40)\n",
    "plt.xlim(0, 40)\n",
    "cbar = plt.colorbar()\n",
    "cbar.ax.set_ylabel('Counts')\n",
    "#plt.savefig('./2019-02-20_Run0165_DataSlicerPlot/QuaLiKiz-vs-NN.png', dpi = 100)\n",
    "plt.show()"
   ]
  },
  {
   "cell_type": "markdown",
   "metadata": {},
   "source": [
    "### Sigmas (De-Normalized)"
   ]
  },
  {
   "cell_type": "code",
   "execution_count": 42,
   "metadata": {},
   "outputs": [
    {
     "data": {
      "image/png": "[encoded data removed]",
      "text/plain": [
       "<Figure size 432x288 with 1 Axes>"
      ]
     },
     "metadata": {
      "needs_background": "light"
     },
     "output_type": "display_data"
    }
   ],
   "source": [
    "h = plt.hist2d(y_test_np_array, predictions_global,bins = 100)"
   ]
  },
  {
   "cell_type": "code",
   "execution_count": 43,
   "metadata": {},
   "outputs": [
    {
     "data": {
      "image/png": "[encoded data removed]",
      "text/plain": [
       "<Figure size 432x288 with 1 Axes>"
      ]
     },
     "metadata": {
      "needs_background": "light"
     },
     "output_type": "display_data"
    }
   ],
   "source": [
    "h_deNormalized = plt.hist2d(y_test_deNormalized_np_array, predictions_global_deNormalized,bins = 100)"
   ]
  },
  {
   "cell_type": "code",
   "execution_count": 44,
   "metadata": {},
   "outputs": [
    {
     "name": "stderr",
     "output_type": "stream",
     "text": [
      "C:\\Users\\danie\\Anaconda3\\lib\\site-packages\\ipykernel_launcher.py:4: RuntimeWarning: invalid value encountered in true_divide\n",
      "  after removing the cwd from sys.path.\n"
     ]
    }
   ],
   "source": [
    "sigmas_deNormalized = []\n",
    "Qualikiz_deNormalized = y_test_deNormalized_np_array\n",
    "for i in range(len(h[0])):\n",
    "    sigmas_deNormalized.append(numpy.std(h_deNormalized[0][i] / numpy.max(h_deNormalized[0][i])))"
   ]
  },
  {
   "cell_type": "code",
   "execution_count": 45,
   "metadata": {},
   "outputs": [
    {
     "data": {
      "image/png": "[encoded data removed]",
      "text/plain": [
       "<Figure size 432x288 with 1 Axes>"
      ]
     },
     "metadata": {
      "needs_background": "light"
     },
     "output_type": "display_data"
    }
   ],
   "source": [
    "plt.plot((numpy.array(h_deNormalized[1][1:]) + numpy.array(h_deNormalized[1][:-1]))/2.,sigmas_deNormalized)\n",
    "plt.show()"
   ]
  },
  {
   "cell_type": "code",
   "execution_count": 46,
   "metadata": {},
   "outputs": [
    {
     "data": {
      "image/png": "[encoded data removed]",
      "text/plain": [
       "<Figure size 432x288 with 1 Axes>"
      ]
     },
     "metadata": {
      "needs_background": "light"
     },
     "output_type": "display_data"
    }
   ],
   "source": [
    "for i in range(10):\n",
    "    plt.plot((h_deNormalized[1][1:] + h_deNormalized[1][:-1])/2., h_deNormalized[0][i]/numpy.max(h_deNormalized[0][i]) )"
   ]
  },
  {
   "cell_type": "code",
   "execution_count": 80,
   "metadata": {},
   "outputs": [
    {
     "data": {
      "image/png": "[encoded data removed]",
      "text/plain": [
       "<Figure size 432x288 with 1 Axes>"
      ]
     },
     "metadata": {
      "needs_background": "light"
     },
     "output_type": "display_data"
    }
   ],
   "source": [
    "plt.plot(y_test_deNormalized_np_array, predictions_global_deNormalized - y_test_deNormalized_np_array, 'b.', ms = 0.5)\n",
    "plt.title('Neural Network predictions (De-Normalized) vs. QuaLiKiz input')\n",
    "plt.xlabel('QuaLiKiz')\n",
    "plt.ylabel('NN Predictions - QuaLiKiz')\n",
    "plt.ylim(-100, 150)\n",
    "#plt.savefig('./2019-02-20_Run0165_DataSlicerPlot/Neural-Network-predictions-(De-Normalized)-vs-QuaLiKiz-input_ms0.5.png', dpi = 300)\n",
    "plt.show()"
   ]
  },
  {
   "cell_type": "code",
   "execution_count": 48,
   "metadata": {},
   "outputs": [
    {
     "data": {
      "image/png": "[encoded data removed]",
      "text/plain": [
       "<Figure size 432x288 with 1 Axes>"
      ]
     },
     "metadata": {
      "needs_background": "light"
     },
     "output_type": "display_data"
    }
   ],
   "source": [
    "plt.plot(y_test_deNormalized_np_array, predictions_global_deNormalized - y_test_deNormalized_np_array, 'b.', ms = 0.5)\n",
    "plt.xlabel('QuaLiKiz')\n",
    "plt.ylabel('NN Predictions - QuaLiKiz')\n",
    "#plt.savefig('./2019-02-10_Run0164_DataSlicerPlot/Neural-Network-predictions-(De-Normalized)-vs-QuaLiKiz-input_ms0.5.png', dpi = 300)\n",
    "plt.show()"
   ]
  },
  {
   "cell_type": "code",
   "execution_count": 81,
   "metadata": {},
   "outputs": [
    {
     "data": {
      "image/png": "[encoded data removed]",
      "text/plain": [
       "<Figure size 432x288 with 1 Axes>"
      ]
     },
     "metadata": {
      "needs_background": "light"
     },
     "output_type": "display_data"
    }
   ],
   "source": [
    "plt.plot(y_test_deNormalized_np_array, predictions_global_deNormalized - y_test_deNormalized_np_array, 'b.', ms = 0.1, alpha=0.5)\n",
    "plt.title('Neural Network predictions vs. QuaLiKiz input (De-Normalized)')\n",
    "plt.xlabel('QuaLiKiz')\n",
    "plt.ylabel('NN Predictions - QuaLiKiz')\n",
    "plt.ylim(-100, 150)\n",
    "#plt.savefig('./2019-02-20_Run0165_DataSlicerPlot/Neural-Network-predictions-(De-Normalized)-vs-QuaLiKiz-input_ms0.1.png', dpi = 300)\n",
    "plt.show()"
   ]
  },
  {
   "cell_type": "code",
   "execution_count": 50,
   "metadata": {},
   "outputs": [
    {
     "data": {
      "image/png": "[encoded data removed]",
      "text/plain": [
       "<Figure size 432x288 with 1 Axes>"
      ]
     },
     "metadata": {
      "needs_background": "light"
     },
     "output_type": "display_data"
    }
   ],
   "source": [
    "plt.plot(y_test_deNormalized_np_array, predictions_global_deNormalized - y_test_deNormalized_np_array, 'b.', ms = 0.1, alpha=0.5)\n",
    "plt.xlabel('QuaLiKiz')\n",
    "plt.ylabel('NN Predictions - QuaLiKiz')\n",
    "#plt.savefig('./2019-02-10_Run0164_DataSlicerPlot/Neural-Network-predictions-(De-Normalized)-vs-QuaLiKiz-input_ms0.1.png', dpi = 300)\n",
    "plt.show()"
   ]
  },
  {
   "cell_type": "markdown",
   "metadata": {},
   "source": [
    "# Predictions (single Data Slice)"
   ]
  },
  {
   "cell_type": "markdown",
   "metadata": {},
   "source": [
    "### Predictions - Initialise table to feed predictions"
   ]
  },
  {
   "cell_type": "code",
   "execution_count": 51,
   "metadata": {},
   "outputs": [
    {
     "data": {
      "text/plain": [
       "array([[ 5.75      ,  2.        ,  3.        , ...,  0.7       ,\n",
       "         0.45      ,  1.33      ],\n",
       "       [ 5.75      ,  2.06030151,  3.        , ...,  0.7       ,\n",
       "         0.45      ,  1.33      ],\n",
       "       [ 5.75      ,  2.12060302,  3.        , ...,  0.7       ,\n",
       "         0.45      ,  1.33      ],\n",
       "       ...,\n",
       "       [ 5.75      , 13.87939698,  3.        , ...,  0.7       ,\n",
       "         0.45      ,  1.33      ],\n",
       "       [ 5.75      , 13.93969849,  3.        , ...,  0.7       ,\n",
       "         0.45      ,  1.33      ],\n",
       "       [ 5.75      , 14.        ,  3.        , ...,  0.7       ,\n",
       "         0.45      ,  1.33      ]])"
      ]
     },
     "execution_count": 51,
     "metadata": {},
     "output_type": "execute_result"
    }
   ],
   "source": [
    "# table (Original values from input file unstable_training_gen2_7D_nions0_flat_filter7.h5)\n",
    "# Hard-coded variables for the data slice\n",
    "\n",
    "table = numpy.zeros((200,7))\n",
    "\n",
    "table[:,0] = 5.75    # Ati\n",
    "table[:,1] = numpy.linspace(2,14,200)   # Ate\n",
    "table[:,2] = 3       # An\n",
    "table[:,3] = 3       # qx\n",
    "table[:,4] = 0.7     # smag\n",
    "table[:,5] = 0.45    # x\n",
    "table[:,6] = 1.33    # Ti_Te\n",
    "\n",
    "table"
   ]
  },
  {
   "cell_type": "code",
   "execution_count": 52,
   "metadata": {},
   "outputs": [],
   "source": [
    "# Normalized table (inputs for model.predict())\n",
    "table_normalized = numpy.zeros((200,7))\n",
    "\n",
    "DataSlice_Ati = 5.75\n",
    "DataSlice_Ate = numpy.linspace(2,14,200)\n",
    "DataSlice_An = 3\n",
    "DataSlice_q = 3\n",
    "DataSlice_smag = 0.7\n",
    "DataSlice_x = 0.45\n",
    "DataSlice_Ti_Te = 1.33\n",
    "\n",
    "# Normalize data by standard deviation and mean-centering the data\n",
    "table_normalized[:,0] = (DataSlice_Ati - joined_dataFrame_original['Ati'].mean()) / joined_dataFrame_original['Ati'].std()\n",
    "table_normalized[:,1] = (DataSlice_Ate - joined_dataFrame_original['Ate'].mean()) / joined_dataFrame_original['Ate'].std()\n",
    "table_normalized[:,2] = (DataSlice_An - joined_dataFrame_original['An'].mean()) / joined_dataFrame_original['An'].std()\n",
    "table_normalized[:,3] = (DataSlice_q - joined_dataFrame_original['q'].mean()) / joined_dataFrame_original['q'].std()\n",
    "table_normalized[:,4] = (DataSlice_smag - joined_dataFrame_original['smag'].mean()) / joined_dataFrame_original['smag'].std()\n",
    "table_normalized[:,5] = (DataSlice_x - joined_dataFrame_original['x'].mean()) / joined_dataFrame_original['x'].std()\n",
    "table_normalized[:,6] = (DataSlice_Ti_Te - joined_dataFrame_original['Ti_Te'].mean()) / joined_dataFrame_original['Ti_Te'].std()"
   ]
  },
  {
   "cell_type": "code",
   "execution_count": 53,
   "metadata": {},
   "outputs": [
    {
     "data": {
      "text/plain": [
       "array([[ 0.12301861, -1.02146933,  0.8133736 , ..., -0.635469  ,\n",
       "        -0.16157917,  0.29129492],\n",
       "       [ 0.12301861, -1.00284834,  0.8133736 , ..., -0.635469  ,\n",
       "        -0.16157917,  0.29129492],\n",
       "       [ 0.12301861, -0.98422736,  0.8133736 , ..., -0.635469  ,\n",
       "        -0.16157917,  0.29129492],\n",
       "       ...,\n",
       "       [ 0.12301861,  2.64686471,  0.8133736 , ..., -0.635469  ,\n",
       "        -0.16157917,  0.29129492],\n",
       "       [ 0.12301861,  2.66548569,  0.8133736 , ..., -0.635469  ,\n",
       "        -0.16157917,  0.29129492],\n",
       "       [ 0.12301861,  2.68410668,  0.8133736 , ..., -0.635469  ,\n",
       "        -0.16157917,  0.29129492]])"
      ]
     },
     "execution_count": 53,
     "metadata": {},
     "output_type": "execute_result"
    }
   ],
   "source": [
    "table_normalized"
   ]
  },
  {
   "cell_type": "code",
   "execution_count": 54,
   "metadata": {},
   "outputs": [],
   "source": [
    "# Normalized table (inputs for model.predict())\n",
    "table_branch1_normalized = numpy.zeros((200,6))\n",
    "\n",
    "DataSlice_Ati = 5.75\n",
    "#DataSlice_Ate = numpy.linspace(2,14,200)\n",
    "DataSlice_An = 3\n",
    "DataSlice_q = 3\n",
    "DataSlice_smag = 0.7\n",
    "DataSlice_x = 0.45\n",
    "DataSlice_Ti_Te = 1.33\n",
    "\n",
    "# Normalize data by standard deviation and mean-centering the data\n",
    "table_branch1_normalized[:,0] = (DataSlice_Ati - joined_dataFrame_original['Ati'].mean()) / joined_dataFrame_original['Ati'].std()\n",
    "#table_normalized[:,1] = (DataSlice_Ate - joined_dataFrame_original['Ate'].mean()) / joined_dataFrame_original['Ate'].std()\n",
    "table_branch1_normalized[:,1] = (DataSlice_An - joined_dataFrame_original['An'].mean()) / joined_dataFrame_original['An'].std()\n",
    "table_branch1_normalized[:,2] = (DataSlice_q - joined_dataFrame_original['q'].mean()) / joined_dataFrame_original['q'].std()\n",
    "table_branch1_normalized[:,3] = (DataSlice_smag - joined_dataFrame_original['smag'].mean()) / joined_dataFrame_original['smag'].std()\n",
    "table_branch1_normalized[:,4] = (DataSlice_x - joined_dataFrame_original['x'].mean()) / joined_dataFrame_original['x'].std()\n",
    "table_branch1_normalized[:,5] = (DataSlice_Ti_Te - joined_dataFrame_original['Ti_Te'].mean()) / joined_dataFrame_original['Ti_Te'].std()"
   ]
  },
  {
   "cell_type": "code",
   "execution_count": 55,
   "metadata": {},
   "outputs": [],
   "source": [
    "# Normalized table (inputs for model.predict())\n",
    "table_branch2_normalized = numpy.zeros((200,1))\n",
    "\n",
    "DataSlice_Ate = numpy.linspace(2,14,200)\n",
    "\n",
    "# Normalize data by standard deviation and mean-centering the data\n",
    "table_branch2_normalized[:,0] = (DataSlice_Ate - joined_dataFrame_original['Ate'].mean()) / joined_dataFrame_original['Ate'].std()"
   ]
  },
  {
   "cell_type": "code",
   "execution_count": 56,
   "metadata": {},
   "outputs": [
    {
     "name": "stdout",
     "output_type": "stream",
     "text": [
      "<class 'numpy.ndarray'>\n",
      "(200,)\n",
      "<class 'numpy.ndarray'>\n"
     ]
    }
   ],
   "source": [
    "predictions = new_model.predict([table_branch1_normalized] + [table_branch2_normalized], batch_size = 10, verbose=0)\n",
    "print(type(predictions))\n",
    "\n",
    "predictions = predictions.flatten()\n",
    "print(predictions.shape)\n",
    "print(type(predictions))"
   ]
  },
  {
   "cell_type": "code",
   "execution_count": 57,
   "metadata": {},
   "outputs": [
    {
     "data": {
      "image/png": "[encoded data removed]",
      "text/plain": [
       "<Figure size 432x288 with 1 Axes>"
      ]
     },
     "metadata": {
      "needs_background": "light"
     },
     "output_type": "display_data"
    }
   ],
   "source": [
    "plt.hist(predictions)\n",
    "plt.show()"
   ]
  },
  {
   "cell_type": "markdown",
   "metadata": {},
   "source": [
    "# Masks"
   ]
  },
  {
   "cell_type": "markdown",
   "metadata": {},
   "source": [
    "These are used to rapidly select which parameters to look at (for a given data slice)."
   ]
  },
  {
   "cell_type": "markdown",
   "metadata": {},
   "source": [
    "#### Ate"
   ]
  },
  {
   "cell_type": "code",
   "execution_count": 58,
   "metadata": {},
   "outputs": [],
   "source": [
    "Ate_mask1 = joined_dataFrame_original.Ate == 2\n",
    "Ate_mask2 = joined_dataFrame_original.Ate == 2.75\n",
    "Ate_mask3 = joined_dataFrame_original.Ate == 3.5\n",
    "Ate_mask4 = joined_dataFrame_original.Ate == 4.25\n",
    "Ate_mask5 = joined_dataFrame_original.Ate == 5\n",
    "Ate_mask6 = joined_dataFrame_original.Ate == 5.75\n",
    "Ate_mask7 = joined_dataFrame_original.Ate == 6.5\n",
    "Ate_mask8 = joined_dataFrame_original.Ate == 7.25\n",
    "Ate_mask9 = joined_dataFrame_original.Ate == 8\n",
    "Ate_mask10 = joined_dataFrame_original.Ate == 10\n",
    "Ate_mask11 = joined_dataFrame_original.Ate == 14\n",
    "\n",
    "Ate_anti_mask1 = joined_dataFrame_original.Ate != 2\n",
    "Ate_anti_mask2 = joined_dataFrame_original.Ate != 2.75\n",
    "Ate_anti_mask3 = joined_dataFrame_original.Ate != 3.5\n",
    "Ate_anti_mask4 = joined_dataFrame_original.Ate != 4.25\n",
    "Ate_anti_mask5 = joined_dataFrame_original.Ate != 5\n",
    "Ate_anti_mask6 = joined_dataFrame_original.Ate != 5.75\n",
    "Ate_anti_mask7 = joined_dataFrame_original.Ate != 6.5\n",
    "Ate_anti_mask8 = joined_dataFrame_original.Ate != 7.25\n",
    "Ate_anti_mask9 = joined_dataFrame_original.Ate != 8\n",
    "Ate_anti_mask10 = joined_dataFrame_original.Ate != 10\n",
    "Ate_anti_mask11 = joined_dataFrame_original.Ate != 14"
   ]
  },
  {
   "cell_type": "markdown",
   "metadata": {},
   "source": [
    "#### An"
   ]
  },
  {
   "cell_type": "code",
   "execution_count": 59,
   "metadata": {},
   "outputs": [],
   "source": [
    "An_mask1 = joined_dataFrame_original.An == -5\n",
    "An_mask2 = joined_dataFrame_original.An == -3\n",
    "An_mask3 = joined_dataFrame_original.An == -1\n",
    "An_mask4 = numpy.array(joined_dataFrame_original.An <= 1.1e-14) * numpy.array(joined_dataFrame_original.An >= 9E-15)\n",
    "An_mask5 = joined_dataFrame_original.An == 0.5\n",
    "An_mask6 = joined_dataFrame_original.An == 1.0\n",
    "An_mask7 = joined_dataFrame_original.An == 1.5\n",
    "An_mask8 = joined_dataFrame_original.An == 2.0\n",
    "An_mask9 = joined_dataFrame_original.An == 2.5\n",
    "An_mask10 = joined_dataFrame_original.An == 3.0\n",
    "An_mask11 = joined_dataFrame_original.An == 4.0\n",
    "An_mask12 = joined_dataFrame_original.An == 6.0\n",
    "\n",
    "An_anti_mask1 = joined_dataFrame_original.An != -5\n",
    "An_anti_mask2 = joined_dataFrame_original.An != -3\n",
    "An_anti_mask3 = joined_dataFrame_original.An != -1\n",
    "An_anti_mask4 = numpy.array(joined_dataFrame_original.An >= 1.1e-14) * numpy.array(joined_dataFrame_original.An <= 9E-15)\n",
    "An_anti_mask5 = joined_dataFrame_original.An != 0.5\n",
    "An_anti_mask6 = joined_dataFrame_original.An != 1.0\n",
    "An_anti_mask7 = joined_dataFrame_original.An != 1.5\n",
    "An_anti_mask8 = joined_dataFrame_original.An != 2.0\n",
    "An_anti_mask9 = joined_dataFrame_original.An != 2.5\n",
    "An_anti_mask10 = joined_dataFrame_original.An != 3.0\n",
    "An_anti_mask11 = joined_dataFrame_original.An != 4.0\n",
    "An_anti_mask12 = joined_dataFrame_original.An != 6.0"
   ]
  },
  {
   "cell_type": "markdown",
   "metadata": {},
   "source": [
    "#### Ati"
   ]
  },
  {
   "cell_type": "code",
   "execution_count": 60,
   "metadata": {},
   "outputs": [],
   "source": [
    "Ati_mask1 = numpy.array(joined_dataFrame_original.Ati <= 1.1e-14) * numpy.array(joined_dataFrame_original.Ati >= 9E-15)\n",
    "Ati_mask2 = joined_dataFrame_original.Ati == 2\n",
    "Ati_mask3 = joined_dataFrame_original.Ati == 2.75\n",
    "Ati_mask4 = joined_dataFrame_original.Ati == 3.5\n",
    "Ati_mask5 = joined_dataFrame_original.Ati == 4.25\n",
    "Ati_mask6 = joined_dataFrame_original.Ati == 5\n",
    "Ati_mask7 = joined_dataFrame_original.Ati == 5.75\n",
    "Ati_mask8 = joined_dataFrame_original.Ati == 6.5\n",
    "Ati_mask9 = joined_dataFrame_original.Ati == 7.25\n",
    "Ati_mask10 = joined_dataFrame_original.Ati == 8\n",
    "Ati_mask11 = joined_dataFrame_original.Ati == 10\n",
    "Ati_mask12 = joined_dataFrame_original.Ati == 14"
   ]
  },
  {
   "cell_type": "markdown",
   "metadata": {},
   "source": [
    "#### qx"
   ]
  },
  {
   "cell_type": "code",
   "execution_count": 61,
   "metadata": {},
   "outputs": [],
   "source": [
    "q_mask0 = numpy.array(joined_dataFrame_original.q <= 0.67) * numpy.array(joined_dataFrame_original.q >= 0.65)  #0.66\n",
    "q_mask1 = joined_dataFrame_original.q == 1.0\n",
    "q_mask2 = joined_dataFrame_original.q == 1.5\n",
    "q_mask3 = joined_dataFrame_original.q == 2.0\n",
    "q_mask4 = joined_dataFrame_original.q == 2.5\n",
    "q_mask5 = joined_dataFrame_original.q == 3.0\n",
    "q_mask6 = joined_dataFrame_original.q == 4.0\n",
    "q_mask7 = joined_dataFrame_original.q == 5.0\n",
    "q_mask8 = joined_dataFrame_original.q == 10.00\n",
    "q_mask9 = joined_dataFrame_original.q == 15.00\n",
    "\n",
    "q_anti_mask0 = numpy.array(joined_dataFrame_original.q >= 0.67) * numpy.array(joined_dataFrame_original.q <= 0.65)  #0.66\n",
    "q_anti_mask1 = joined_dataFrame_original.q != 1.0\n",
    "q_anti_mask2 = joined_dataFrame_original.q != 1.5\n",
    "q_anti_mask3 = joined_dataFrame_original.q != 2.0\n",
    "q_anti_mask4 = joined_dataFrame_original.q != 2.5\n",
    "q_anti_mask5 = joined_dataFrame_original.q != 3.0\n",
    "q_anti_mask6 = joined_dataFrame_original.q != 4.0\n",
    "q_anti_mask7 = joined_dataFrame_original.q != 5.0\n",
    "q_anti_mask8 = joined_dataFrame_original.q != 10.00\n",
    "q_anti_mask9 = joined_dataFrame_original.q != 15.00"
   ]
  },
  {
   "cell_type": "markdown",
   "metadata": {},
   "source": [
    "#### smag"
   ]
  },
  {
   "cell_type": "code",
   "execution_count": 62,
   "metadata": {},
   "outputs": [],
   "source": [
    "smag_mask1 = joined_dataFrame_original.smag == -1.0\n",
    "smag_mask2 = numpy.array(joined_dataFrame_original.smag <= 0.11) * numpy.array(joined_dataFrame_original.smag >= 0.09)   # 0.1\n",
    "smag_mask3 = numpy.array(joined_dataFrame_original.smag <= 0.41) * numpy.array(joined_dataFrame_original.smag >= 0.39)   # 0.4\n",
    "smag_mask4 = numpy.array(joined_dataFrame_original.smag <= 0.71) * numpy.array(joined_dataFrame_original.smag >= 0.68)   # 0.7\n",
    "smag_mask5 = joined_dataFrame_original.smag == 1\n",
    "smag_mask6 = joined_dataFrame_original.smag == 1.5\n",
    "smag_mask7 = joined_dataFrame_original.smag == 2.0\n",
    "smag_mask8 = joined_dataFrame_original.smag == 2.75\n",
    "smag_mask9 = joined_dataFrame_original.smag == 3.5\n",
    "smag_mask10 = joined_dataFrame_original.smag == 5.0\n",
    "\n",
    "smag_anti_mask1 = joined_dataFrame_original.smag != -1.0\n",
    "smag_anti_mask2 = numpy.array(joined_dataFrame_original.smag >= 0.11) * numpy.array(joined_dataFrame_original.smag <= 0.09)   # 0.1\n",
    "smag_anti_mask3 = numpy.array(joined_dataFrame_original.smag >= 0.41) * numpy.array(joined_dataFrame_original.smag <= 0.39)   # 0.4\n",
    "smag_anti_mask4 = numpy.array(joined_dataFrame_original.smag >= 0.71) * numpy.array(joined_dataFrame_original.smag <= 0.68)   # 0.7\n",
    "smag_anti_mask5 = joined_dataFrame_original.smag != 1\n",
    "smag_anti_mask6 = joined_dataFrame_original.smag != 1.5\n",
    "smag_anti_mask7 = joined_dataFrame_original.smag != 2.0\n",
    "smag_anti_mask8 = joined_dataFrame_original.smag != 2.75\n",
    "smag_anti_mask9 = joined_dataFrame_original.smag != 3.5\n",
    "smag_anti_mask10 = joined_dataFrame_original.smag != 5.0"
   ]
  },
  {
   "cell_type": "markdown",
   "metadata": {},
   "source": [
    "#### x"
   ]
  },
  {
   "cell_type": "code",
   "execution_count": 63,
   "metadata": {},
   "outputs": [],
   "source": [
    "x_mask1 = numpy.array(joined_dataFrame_original.x <= 0.10) * numpy.array(joined_dataFrame_original.x >= 0.08)   # 0.09\n",
    "x_mask2 = numpy.array(joined_dataFrame_original.x <= 0.22) * numpy.array(joined_dataFrame_original.x >= 0.20)   # 0.21\n",
    "x_mask3 = numpy.array(joined_dataFrame_original.x <= 0.34) * numpy.array(joined_dataFrame_original.x >= 0.32)   # 0.33\n",
    "x_mask4 = numpy.array(joined_dataFrame_original.x <= 0.46) * numpy.array(joined_dataFrame_original.x >= 0.44)   # 0.45\n",
    "x_mask5 = numpy.array(joined_dataFrame_original.x <= 0.58) * numpy.array(joined_dataFrame_original.x >= 0.56)   # 0.57\n",
    "x_mask6 = numpy.array(joined_dataFrame_original.x <= 0.70) * numpy.array(joined_dataFrame_original.x >= 0.68)   # 0.69\n",
    "x_mask7 = numpy.array(joined_dataFrame_original.x <= 0.85) * numpy.array(joined_dataFrame_original.x >= 0.83)   # 0.84\n",
    "x_mask8 = numpy.array(joined_dataFrame_original.x <= 1.00) * numpy.array(joined_dataFrame_original.x >= 0.98)   # 0.99\n",
    "x_mask = {0.09: x_mask1}\n",
    "\n",
    "x_anti_mask1 = numpy.array(joined_dataFrame_original.x >= 0.10) * numpy.array(joined_dataFrame_original.x <= 0.08)   # 0.09\n",
    "x_anti_mask2 = numpy.array(joined_dataFrame_original.x >= 0.22) * numpy.array(joined_dataFrame_original.x <= 0.20)   # 0.21\n",
    "x_anti_mask3 = numpy.array(joined_dataFrame_original.x >= 0.34) * numpy.array(joined_dataFrame_original.x <= 0.32)   # 0.33\n",
    "x_anti_mask4 = numpy.array(joined_dataFrame_original.x >= 0.46) * numpy.array(joined_dataFrame_original.x <= 0.44)   # 0.45\n",
    "x_anti_mask5 = numpy.array(joined_dataFrame_original.x >= 0.58) * numpy.array(joined_dataFrame_original.x <= 0.56)   # 0.57\n",
    "x_anti_mask6 = numpy.array(joined_dataFrame_original.x >= 0.70) * numpy.array(joined_dataFrame_original.x <= 0.68)   # 0.69\n",
    "x_anti_mask7 = numpy.array(joined_dataFrame_original.x >= 0.85) * numpy.array(joined_dataFrame_original.x <= 0.83)   # 0.84\n",
    "x_anti_mask8 = numpy.array(joined_dataFrame_original.x >= 1.00) * numpy.array(joined_dataFrame_original.x <= 0.98)   # 0.99"
   ]
  },
  {
   "cell_type": "markdown",
   "metadata": {},
   "source": [
    "#### Ti_Te"
   ]
  },
  {
   "cell_type": "code",
   "execution_count": 64,
   "metadata": {},
   "outputs": [],
   "source": [
    "Ti_Te_mask1 = joined_dataFrame_original.Ti_Te == 0.25\n",
    "Ti_Te_mask2 = joined_dataFrame_original.Ti_Te == 0.5\n",
    "Ti_Te_mask3 = joined_dataFrame_original.Ti_Te == 0.75\n",
    "Ti_Te_mask4 = joined_dataFrame_original.Ti_Te == 1\n",
    "Ti_Te_mask5 = numpy.array(joined_dataFrame_original.Ti_Te <= 1.34) * numpy.array(joined_dataFrame_original.Ti_Te >= 1.32)   # 1.33\n",
    "Ti_Te_mask6 = numpy.array(joined_dataFrame_original.Ti_Te <= 1.67) * numpy.array(joined_dataFrame_original.Ti_Te >= 1.65)   # 1.66\n",
    "Ti_Te_mask7 = joined_dataFrame_original.Ti_Te == 2.50"
   ]
  },
  {
   "cell_type": "markdown",
   "metadata": {},
   "source": [
    "# Plots"
   ]
  },
  {
   "cell_type": "markdown",
   "metadata": {},
   "source": [
    "## Slice 1"
   ]
  },
  {
   "cell_type": "code",
   "execution_count": 65,
   "metadata": {},
   "outputs": [
    {
     "name": "stdout",
     "output_type": "stream",
     "text": [
      "          efiITG_GB       Ati       Ate        An         q      smag  \\\n",
      "29753959   4.645031  0.123019 -1.021469  0.813374 -0.279168 -0.635469   \n",
      "30560359   4.284026  0.123019 -0.558272  0.813374 -0.279168 -0.635469   \n",
      "30963559   4.104269  0.123019 -0.326674  0.813374 -0.279168 -0.635469   \n",
      "31366759   4.087989  0.123019 -0.095075  0.813374 -0.279168 -0.635469   \n",
      "32576359   3.556175  0.123019  0.599720  0.813374 -0.279168 -0.635469   \n",
      "\n",
      "                 x     Ti_Te  \n",
      "29753959 -0.161579  0.291295  \n",
      "30560359 -0.161579  0.291295  \n",
      "30963559 -0.161579  0.291295  \n",
      "31366759 -0.161579  0.291295  \n",
      "32576359 -0.161579  0.291295  \n",
      "<class 'pandas.core.frame.DataFrame'>\n",
      "          efiITG_GB   Ati   Ate   An    q  smag     x  Ti_Te\n",
      "29753959  73.155357  5.75  2.00  3.0  3.0   0.7  0.45   1.33\n",
      "30560359  67.811722  5.75  3.50  3.0  3.0   0.7  0.45   1.33\n",
      "30963559  65.150940  5.75  4.25  3.0  3.0   0.7  0.45   1.33\n",
      "31366759  64.909958  5.75  5.00  3.0  3.0   0.7  0.45   1.33\n",
      "32576359  57.038010  5.75  7.25  3.0  3.0   0.7  0.45   1.33\n",
      "<class 'pandas.core.frame.DataFrame'>\n"
     ]
    }
   ],
   "source": [
    "'''\n",
    "{'An': 3,\n",
    "'Ati': 5.75,\n",
    "'Ti_Te': 1.33,\n",
    "'q': 3,\n",
    "'smag': 0.7,\n",
    "'x': 0.45}\n",
    "'''\n",
    "newDF = joined_dataFrame[An_mask10 & Ati_mask7 & q_mask5 & smag_mask4 & x_mask4 & Ti_Te_mask5]  # Variable \n",
    "newDF_Mk2 = joined_dataFrame_original[An_mask10 & Ati_mask7 & q_mask5 & smag_mask4 & x_mask4 & Ti_Te_mask5]  # Variable \n",
    "print(newDF)\n",
    "print(type(newDF))\n",
    "\n",
    "print(newDF_Mk2)\n",
    "print(type(newDF_Mk2))"
   ]
  },
  {
   "cell_type": "code",
   "execution_count": 66,
   "metadata": {},
   "outputs": [
    {
     "name": "stdout",
     "output_type": "stream",
     "text": [
      "[4.64503128 4.28402591 4.10426879 4.08798852 3.55617539]\n",
      "[-1.02146933 -0.55827233 -0.32667383 -0.09507533  0.59972017]\n"
     ]
    }
   ],
   "source": [
    "efeETG_DF = newDF['efiITG_GB']\n",
    "efeETG_DF_np_array = efeETG_DF.values\n",
    "print(efeETG_DF_np_array)\n",
    "\n",
    "Ate_DF = newDF['Ate']\n",
    "Ate_DF_np_array = Ate_DF.values\n",
    "print(Ate_DF_np_array)"
   ]
  },
  {
   "cell_type": "code",
   "execution_count": 67,
   "metadata": {},
   "outputs": [
    {
     "name": "stdout",
     "output_type": "stream",
     "text": [
      "[73.15536 67.81172 65.15094 64.90996 57.03801]\n",
      "[2.   3.5  4.25 5.   7.25]\n"
     ]
    }
   ],
   "source": [
    "efeETG_DF_Mk2 = newDF_Mk2['efiITG_GB']\n",
    "efeETG_DF_Mk2_np_array = efeETG_DF_Mk2.values\n",
    "print(efeETG_DF_Mk2_np_array)\n",
    "\n",
    "Ate_DF_Mk2 = newDF_Mk2['Ate']\n",
    "Ate_DF_Mk2_np_array = Ate_DF_Mk2.values\n",
    "print(Ate_DF_Mk2_np_array)"
   ]
  },
  {
   "cell_type": "code",
   "execution_count": 68,
   "metadata": {},
   "outputs": [
    {
     "data": {
      "image/png": "[encoded data removed]",
      "text/plain": [
       "<Figure size 432x288 with 1 Axes>"
      ]
     },
     "metadata": {
      "needs_background": "light"
     },
     "output_type": "display_data"
    }
   ],
   "source": [
    "efeETG_DF = newDF['efiITG_GB']\n",
    "Ate_DF = newDF['Ate']\n",
    "plt.plot(table_normalized[:,1], predictions, 'r.', ms = 5, label = 'QuaLiKiz-NN')\n",
    "plt.plot(Ate_DF_np_array, efeETG_DF_np_array, 'b.', ms = 5, label = 'QuaLiKiz')\n",
    "plt.title('Data Slice NN vs. QuaLiKiz (Non-Normalized)')\n",
    "plt.xlabel('Ate')\n",
    "plt.ylabel('efiITG_GB')\n",
    "plt.legend()\n",
    "plt.show()"
   ]
  },
  {
   "cell_type": "code",
   "execution_count": 69,
   "metadata": {},
   "outputs": [
    {
     "name": "stdout",
     "output_type": "stream",
     "text": [
      "(200,)\n"
     ]
    }
   ],
   "source": [
    "predictions_deNormalized = (predictions * joined_dataFrame_original['efiITG_GB'].std()) + joined_dataFrame_original['efiITG_GB'].mean()\n",
    "print(predictions_deNormalized.shape)"
   ]
  },
  {
   "cell_type": "code",
   "execution_count": 70,
   "metadata": {},
   "outputs": [
    {
     "data": {
      "image/png": "[encoded data removed]",
      "text/plain": [
       "<Figure size 432x288 with 1 Axes>"
      ]
     },
     "metadata": {
      "needs_background": "light"
     },
     "output_type": "display_data"
    }
   ],
   "source": [
    "plt.plot(table[:,1], predictions_deNormalized, 'r-', ms = 5, label = 'QuaLiKiz-NN')\n",
    "plt.plot(Ate_DF_Mk2_np_array, efeETG_DF_Mk2_np_array, 'b.', ms = 5, label = 'QuaLiKiz')\n",
    "plt.title('Data Slice NN vs. QuaLiKiz (De-Normalized)')\n",
    "plt.ylim(-15, 110)\n",
    "plt.xlabel('Ate')\n",
    "plt.ylabel('efiITG_GB')\n",
    "plt.legend()\n",
    "# plt.savefig('./2018-07-19_Plotting-Clean-Run0054/NN_Predictions.png', dpi = 100)\n",
    "plt.show()"
   ]
  },
  {
   "cell_type": "code",
   "execution_count": 71,
   "metadata": {},
   "outputs": [
    {
     "data": {
      "image/png": "[encoded data removed]",
      "text/plain": [
       "<Figure size 432x288 with 1 Axes>"
      ]
     },
     "metadata": {
      "needs_background": "light"
     },
     "output_type": "display_data"
    }
   ],
   "source": [
    "plt.plot(table[:,1], predictions_deNormalized, 'r-', ms = 5, label = 'QuaLiKiz-NN')\n",
    "plt.plot(Ate_DF_Mk2_np_array, efeETG_DF_Mk2_np_array, 'b.', ms = 5, label = 'QuaLiKiz')\n",
    "plt.title('Data Slice NN vs. QuaLiKiz (De-Normalized)')\n",
    "#plt.ylim(-15, 110)\n",
    "plt.xlabel('Ate')\n",
    "plt.ylabel('efiITG_GB')\n",
    "plt.legend()\n",
    "# plt.savefig('./2018-07-19_Plotting-Clean-Run0054/NN_Predictions.png', dpi = 100)\n",
    "plt.show()"
   ]
  },
  {
   "cell_type": "markdown",
   "metadata": {},
   "source": [
    "## Slice 2"
   ]
  },
  {
   "cell_type": "code",
   "execution_count": 72,
   "metadata": {},
   "outputs": [],
   "source": [
    "# TODO"
   ]
  },
  {
   "cell_type": "code",
   "execution_count": null,
   "metadata": {},
   "outputs": [],
   "source": []
  }
 ],
 "metadata": {
  "kernelspec": {
   "display_name": "Python 3",
   "language": "python",
   "name": "python3"
  },
  "language_info": {
   "codemirror_mode": {
    "name": "ipython",
    "version": 3
   },
   "file_extension": ".py",
   "mimetype": "text/x-python",
   "name": "python",
   "nbconvert_exporter": "python",
   "pygments_lexer": "ipython3",
   "version": "3.6.7"
  }
 },
 "nbformat": 4,
 "nbformat_minor": 2
}
