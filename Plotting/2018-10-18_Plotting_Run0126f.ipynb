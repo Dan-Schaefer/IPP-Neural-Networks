{
 "cells": [
  {
   "cell_type": "markdown",
   "metadata": {},
   "source": [
    "# Plotting dataslices for Run0126f"
   ]
  },
  {
   "cell_type": "markdown",
   "metadata": {},
   "source": [
    "###### Plotting_Run0126f\n",
    "-  Experiment: see if cut-off in Bokeh viewer is possible a Bokeh front-end artefact or not."
   ]
  },
  {
   "cell_type": "code",
   "execution_count": null,
   "metadata": {},
   "outputs": [],
   "source": [
    "# DO NOT RUN THIS PART"
   ]
  },
  {
   "cell_type": "code",
   "execution_count": null,
   "metadata": {},
   "outputs": [],
   "source": [
    "import os\n",
    "import sys\n",
    "import time\n",
    "\n",
    "# Gets the current file name. Useful for procedurally generating output/log files.\n",
    "file_name =  os.path.basename(sys.argv[0][:-3])\n",
    "print(file_name)\n",
    "\n",
    "if file_name == \"ipykernel_launcher\":\n",
    "    print(\"This is the Jupyter version.\")\n",
    "    print(\"Now MANUALLY run the next two cells!\")\n",
    "    print(\"STOP! This should not be in your code!!\")\n",
    "    exit(0)\n",
    "    time.sleep(10)\n",
    "    print(\"Testing if script has really stopped.\")\n",
    "else:\n",
    "    print(\"This is the Atom version\")"
   ]
  },
  {
   "cell_type": "code",
   "execution_count": 1,
   "metadata": {},
   "outputs": [],
   "source": [
    "# RUN ONLY IN JUPYTER!!\n",
    "# Start here (manual)"
   ]
  },
  {
   "cell_type": "code",
   "execution_count": 2,
   "metadata": {},
   "outputs": [
    {
     "data": {
      "application/javascript": [
       "IPython.notebook.kernel.execute('file_name = \"' + IPython.notebook.notebook_name + '\"');\n"
      ],
      "text/plain": [
       "<IPython.core.display.Javascript object>"
      ]
     },
     "metadata": {},
     "output_type": "display_data"
    }
   ],
   "source": [
    "%%javascript\n",
    "IPython.notebook.kernel.execute('file_name = \"' + IPython.notebook.notebook_name + '\"');"
   ]
  },
  {
   "cell_type": "code",
   "execution_count": 3,
   "metadata": {},
   "outputs": [
    {
     "name": "stdout",
     "output_type": "stream",
     "text": [
      "2018-10-18_Plotting_Run0126f.ipynb\n"
     ]
    }
   ],
   "source": [
    "print(file_name)"
   ]
  },
  {
   "cell_type": "code",
   "execution_count": 4,
   "metadata": {},
   "outputs": [
    {
     "name": "stdout",
     "output_type": "stream",
     "text": [
      "2018-10-18_Plotting_Run0126f\n",
      "True\n"
     ]
    }
   ],
   "source": [
    "file_name = file_name[:-6]\n",
    "print(file_name)\n",
    "\n",
    "is_Jupyter = True\n",
    "print(is_Jupyter)"
   ]
  },
  {
   "cell_type": "code",
   "execution_count": null,
   "metadata": {},
   "outputs": [],
   "source": []
  },
  {
   "cell_type": "code",
   "execution_count": 5,
   "metadata": {},
   "outputs": [],
   "source": [
    "# Same code for both ATOM & JUPYTER from now (Run all cells below now)"
   ]
  },
  {
   "cell_type": "code",
   "execution_count": 6,
   "metadata": {},
   "outputs": [
    {
     "name": "stderr",
     "output_type": "stream",
     "text": [
      "Using TensorFlow backend.\n"
     ]
    }
   ],
   "source": [
    "'''\n",
    "Late Fusion Module - Functional API\n",
    "'''\n",
    "\n",
    "# Multiple Inputs\n",
    "import keras\n",
    "from keras.optimizers import RMSprop, adam, Adam\n",
    "from keras.initializers import TruncatedNormal, glorot_normal\n",
    "from keras.utils import plot_model\n",
    "from keras.models import Model\n",
    "from keras.layers import Input\n",
    "from keras.layers import Dense\n",
    "from keras.layers.merge import concatenate\n",
    "from keras import regularizers\n",
    "from keras import backend as K\n",
    "from keras.backend import switch\n",
    "import pandas\n",
    "import numpy\n",
    "import sys\n",
    "import os\n",
    "from copy import deepcopy\n",
    "import tensorflow as tf\n",
    "from keras.utils.generic_utils import get_custom_objects\n",
    "from keras.layers.advanced_activations import ThresholdedReLU\n",
    "\n",
    "keras.backend.clear_session()"
   ]
  },
  {
   "cell_type": "code",
   "execution_count": 7,
   "metadata": {},
   "outputs": [],
   "source": [
    "# Define new Metric: rmse = Root Mean Square Error\n",
    "def rmse(y_true, y_pred):\n",
    "    return K.sqrt(K.mean(K.square( y_true-y_pred )))"
   ]
  },
  {
   "cell_type": "code",
   "execution_count": null,
   "metadata": {},
   "outputs": [],
   "source": []
  },
  {
   "cell_type": "code",
   "execution_count": 8,
   "metadata": {},
   "outputs": [],
   "source": [
    "# Modify for ATOM use"
   ]
  },
  {
   "cell_type": "code",
   "execution_count": 9,
   "metadata": {},
   "outputs": [],
   "source": [
    "if is_Jupyter == True:\n",
    "    pass\n",
    "else:\n",
    "    # Gets the current file name. Useful for procedurally generating output/log files.\n",
    "    file_name =  os.path.basename(sys.argv[0][:-3])"
   ]
  },
  {
   "cell_type": "code",
   "execution_count": null,
   "metadata": {},
   "outputs": [],
   "source": []
  },
  {
   "cell_type": "code",
   "execution_count": 10,
   "metadata": {},
   "outputs": [],
   "source": [
    "# Define neural network parameters\n",
    "batch_size = 10\n",
    "#num_classes = 1\n",
    "epochs = 100"
   ]
  },
  {
   "cell_type": "code",
   "execution_count": 11,
   "metadata": {},
   "outputs": [],
   "source": [
    "# Load Data (which is in HDF5 or .h5 format)\n",
    "store = pandas.HDFStore(\"../unstable_training_gen3_7D_nions0_flat_filter8.h5\")\n",
    "target_df = store['/output/efeETG_GB'].to_frame()  # This one is relatively easy to train\n",
    "input_df = store['input']\n",
    "\n",
    "# Puts inputs and outputs in the same pandas dataframe.\n",
    "# Also only keeps overlapping entries.\n",
    "joined_dataFrame = target_df.join(input_df)\n",
    "\n",
    "# Make a copy of joined_dataFrame for later use\n",
    "joined_dataFrame_original = deepcopy(joined_dataFrame)\n",
    "\n",
    "\n",
    "# *************************************************************************** #\n",
    "# Normalize data by standard deviation and mean-centering the data\n",
    "# Standard configuration\n",
    "joined_dataFrame['efeETG_GB'] = (joined_dataFrame['efeETG_GB'] - joined_dataFrame['efeETG_GB'].mean()) / joined_dataFrame['efeETG_GB'].std()\n",
    "joined_dataFrame['Ati'] = (joined_dataFrame['Ati'] - joined_dataFrame['Ati'].mean()) / joined_dataFrame['Ati'].std()\n",
    "joined_dataFrame['Ate'] = (joined_dataFrame['Ate'] - joined_dataFrame['Ate'].mean()) / joined_dataFrame['Ate'].std()\n",
    "joined_dataFrame['An'] = (joined_dataFrame['An'] - joined_dataFrame['An'].mean()) / joined_dataFrame['An'].std()\n",
    "joined_dataFrame['q'] = (joined_dataFrame['q'] - joined_dataFrame['q'].mean()) / joined_dataFrame['q'].std()\n",
    "joined_dataFrame['smag'] = (joined_dataFrame['smag'] - joined_dataFrame['smag'].mean()) / joined_dataFrame['smag'].std()\n",
    "joined_dataFrame['x'] = (joined_dataFrame['x'] - joined_dataFrame['x'].mean()) / joined_dataFrame['x'].std()\n",
    "joined_dataFrame['Ti_Te'] = (joined_dataFrame['Ti_Te'] - joined_dataFrame['Ti_Te'].mean()) / joined_dataFrame['Ti_Te'].std()\n",
    "\n",
    "# Shuffles dataset\n",
    "shuffled_joined_dataFrame = joined_dataFrame.reindex(numpy.random.permutation(\n",
    "                                                joined_dataFrame.index))\n",
    "\n",
    "# Creates a pandas dataframe for the outputs\n",
    "shuffled_clean_output_df = shuffled_joined_dataFrame['efeETG_GB']\n",
    "\n",
    "# Make a copy of shuffled_joined_dataFrame for later use\n",
    "shuffled_joined_dataFrame_base = deepcopy(shuffled_joined_dataFrame)\n",
    "\n",
    "\n",
    "\n",
    "# *************************************************************************** #\n",
    "# Creates a pandas dataframe for the inputs (7D)\n",
    "shuffled_clean_input_df_7D = shuffled_joined_dataFrame.drop('efeETG_GB', axis=1)\n",
    "\n",
    "# Creates training dataset (90% of total data) for outputs\n",
    "y_train = shuffled_clean_output_df.iloc[:int(\n",
    "    numpy.round(len(shuffled_clean_output_df)*0.9))]\n",
    "\n",
    "# Creates training dataset (90% of total data) for inputs\n",
    "x_train = shuffled_clean_input_df_7D.iloc[:int(\n",
    "    numpy.round(len(shuffled_clean_input_df_7D)*0.9))]\n",
    "\n",
    "# Creates testing dataset (10% of total data) for outputs\n",
    "y_test = shuffled_clean_output_df.iloc[int(\n",
    "    numpy.round(len(shuffled_clean_output_df)*0.9)):]\n",
    "\n",
    "# Creates testing dataset (10% of total data) for inputs\n",
    "x_test = shuffled_clean_input_df_7D.iloc[int(\n",
    "    numpy.round(len(shuffled_clean_input_df_7D)*0.9)):]\n",
    "# *************************************************************************** #\n",
    "\n",
    "\n",
    "# Deletes pandas dataframes that are no longer needed\n",
    "del target_df, input_df\n",
    "\n",
    "# Closes the HDFStore. This is good practice.\n",
    "store.close()\n"
   ]
  },
  {
   "cell_type": "code",
   "execution_count": 12,
   "metadata": {},
   "outputs": [
    {
     "data": {
      "text/html": [
       "<div>\n",
       "<style scoped>\n",
       "    .dataframe tbody tr th:only-of-type {\n",
       "        vertical-align: middle;\n",
       "    }\n",
       "\n",
       "    .dataframe tbody tr th {\n",
       "        vertical-align: top;\n",
       "    }\n",
       "\n",
       "    .dataframe thead th {\n",
       "        text-align: right;\n",
       "    }\n",
       "</style>\n",
       "<table border=\"1\" class=\"dataframe\">\n",
       "  <thead>\n",
       "    <tr style=\"text-align: right;\">\n",
       "      <th></th>\n",
       "      <th>Ati</th>\n",
       "      <th>Ate</th>\n",
       "      <th>An</th>\n",
       "      <th>q</th>\n",
       "      <th>smag</th>\n",
       "      <th>x</th>\n",
       "      <th>Ti_Te</th>\n",
       "    </tr>\n",
       "  </thead>\n",
       "  <tbody>\n",
       "    <tr>\n",
       "      <th>count</th>\n",
       "      <td>6.393280e+05</td>\n",
       "      <td>6.393280e+05</td>\n",
       "      <td>6.393280e+05</td>\n",
       "      <td>6.393280e+05</td>\n",
       "      <td>6.393280e+05</td>\n",
       "      <td>6.393280e+05</td>\n",
       "      <td>6.393280e+05</td>\n",
       "    </tr>\n",
       "    <tr>\n",
       "      <th>mean</th>\n",
       "      <td>1.633424e-12</td>\n",
       "      <td>-6.496300e-13</td>\n",
       "      <td>-4.409594e-14</td>\n",
       "      <td>3.983713e-14</td>\n",
       "      <td>-8.762553e-14</td>\n",
       "      <td>2.687112e-14</td>\n",
       "      <td>5.456717e-14</td>\n",
       "    </tr>\n",
       "    <tr>\n",
       "      <th>std</th>\n",
       "      <td>1.000000e+00</td>\n",
       "      <td>1.000000e+00</td>\n",
       "      <td>1.000000e+00</td>\n",
       "      <td>1.000000e+00</td>\n",
       "      <td>1.000000e+00</td>\n",
       "      <td>1.000000e+00</td>\n",
       "      <td>1.000000e+00</td>\n",
       "    </tr>\n",
       "    <tr>\n",
       "      <th>min</th>\n",
       "      <td>-1.848237e+00</td>\n",
       "      <td>-2.151511e+00</td>\n",
       "      <td>-4.175202e+00</td>\n",
       "      <td>-8.733971e-01</td>\n",
       "      <td>-1.264253e+00</td>\n",
       "      <td>-1.375717e+00</td>\n",
       "      <td>-1.667450e+00</td>\n",
       "    </tr>\n",
       "    <tr>\n",
       "      <th>25%</th>\n",
       "      <td>-6.585430e-01</td>\n",
       "      <td>-6.647545e-01</td>\n",
       "      <td>-6.345777e-01</td>\n",
       "      <td>-6.748652e-01</td>\n",
       "      <td>-3.148231e-01</td>\n",
       "      <td>-9.568879e-01</td>\n",
       "      <td>-9.268335e-01</td>\n",
       "    </tr>\n",
       "    <tr>\n",
       "      <th>50%</th>\n",
       "      <td>-1.486741e-01</td>\n",
       "      <td>-1.691691e-01</td>\n",
       "      <td>-4.447369e-02</td>\n",
       "      <td>-4.385177e-01</td>\n",
       "      <td>-5.588771e-02</td>\n",
       "      <td>-1.192290e-01</td>\n",
       "      <td>-6.771858e-02</td>\n",
       "    </tr>\n",
       "    <tr>\n",
       "      <th>75%</th>\n",
       "      <td>6.161291e-01</td>\n",
       "      <td>4.916113e-01</td>\n",
       "      <td>5.456303e-01</td>\n",
       "      <td>1.523511e-01</td>\n",
       "      <td>4.619831e-01</td>\n",
       "      <td>7.184299e-01</td>\n",
       "      <td>4.210880e-01</td>\n",
       "    </tr>\n",
       "    <tr>\n",
       "      <th>max</th>\n",
       "      <td>2.910539e+00</td>\n",
       "      <td>1.813172e+00</td>\n",
       "      <td>2.315942e+00</td>\n",
       "      <td>2.515826e+00</td>\n",
       "      <td>3.914455e+00</td>\n",
       "      <td>1.765503e+00</td>\n",
       "      <td>1.665323e+00</td>\n",
       "    </tr>\n",
       "  </tbody>\n",
       "</table>\n",
       "</div>"
      ],
      "text/plain": [
       "                Ati           Ate            An             q          smag  \\\n",
       "count  6.393280e+05  6.393280e+05  6.393280e+05  6.393280e+05  6.393280e+05   \n",
       "mean   1.633424e-12 -6.496300e-13 -4.409594e-14  3.983713e-14 -8.762553e-14   \n",
       "std    1.000000e+00  1.000000e+00  1.000000e+00  1.000000e+00  1.000000e+00   \n",
       "min   -1.848237e+00 -2.151511e+00 -4.175202e+00 -8.733971e-01 -1.264253e+00   \n",
       "25%   -6.585430e-01 -6.647545e-01 -6.345777e-01 -6.748652e-01 -3.148231e-01   \n",
       "50%   -1.486741e-01 -1.691691e-01 -4.447369e-02 -4.385177e-01 -5.588771e-02   \n",
       "75%    6.161291e-01  4.916113e-01  5.456303e-01  1.523511e-01  4.619831e-01   \n",
       "max    2.910539e+00  1.813172e+00  2.315942e+00  2.515826e+00  3.914455e+00   \n",
       "\n",
       "                  x         Ti_Te  \n",
       "count  6.393280e+05  6.393280e+05  \n",
       "mean   2.687112e-14  5.456717e-14  \n",
       "std    1.000000e+00  1.000000e+00  \n",
       "min   -1.375717e+00 -1.667450e+00  \n",
       "25%   -9.568879e-01 -9.268335e-01  \n",
       "50%   -1.192290e-01 -6.771858e-02  \n",
       "75%    7.184299e-01  4.210880e-01  \n",
       "max    1.765503e+00  1.665323e+00  "
      ]
     },
     "execution_count": 12,
     "metadata": {},
     "output_type": "execute_result"
    }
   ],
   "source": [
    "shuffled_clean_input_df_7D.describe(include='all')"
   ]
  },
  {
   "cell_type": "code",
   "execution_count": 13,
   "metadata": {},
   "outputs": [],
   "source": [
    "# Creates a pandas dataframe for the inputs\n",
    "shuffled_clean_input_df_1 = shuffled_clean_input_df_7D.drop('Ate', axis=1)"
   ]
  },
  {
   "cell_type": "code",
   "execution_count": 14,
   "metadata": {},
   "outputs": [
    {
     "data": {
      "text/html": [
       "<div>\n",
       "<style scoped>\n",
       "    .dataframe tbody tr th:only-of-type {\n",
       "        vertical-align: middle;\n",
       "    }\n",
       "\n",
       "    .dataframe tbody tr th {\n",
       "        vertical-align: top;\n",
       "    }\n",
       "\n",
       "    .dataframe thead th {\n",
       "        text-align: right;\n",
       "    }\n",
       "</style>\n",
       "<table border=\"1\" class=\"dataframe\">\n",
       "  <thead>\n",
       "    <tr style=\"text-align: right;\">\n",
       "      <th></th>\n",
       "      <th>Ati</th>\n",
       "      <th>An</th>\n",
       "      <th>q</th>\n",
       "      <th>smag</th>\n",
       "      <th>x</th>\n",
       "      <th>Ti_Te</th>\n",
       "    </tr>\n",
       "  </thead>\n",
       "  <tbody>\n",
       "    <tr>\n",
       "      <th>count</th>\n",
       "      <td>6.393280e+05</td>\n",
       "      <td>6.393280e+05</td>\n",
       "      <td>6.393280e+05</td>\n",
       "      <td>6.393280e+05</td>\n",
       "      <td>6.393280e+05</td>\n",
       "      <td>6.393280e+05</td>\n",
       "    </tr>\n",
       "    <tr>\n",
       "      <th>mean</th>\n",
       "      <td>1.633424e-12</td>\n",
       "      <td>-4.409594e-14</td>\n",
       "      <td>3.983713e-14</td>\n",
       "      <td>-8.762553e-14</td>\n",
       "      <td>2.687112e-14</td>\n",
       "      <td>5.456717e-14</td>\n",
       "    </tr>\n",
       "    <tr>\n",
       "      <th>std</th>\n",
       "      <td>1.000000e+00</td>\n",
       "      <td>1.000000e+00</td>\n",
       "      <td>1.000000e+00</td>\n",
       "      <td>1.000000e+00</td>\n",
       "      <td>1.000000e+00</td>\n",
       "      <td>1.000000e+00</td>\n",
       "    </tr>\n",
       "    <tr>\n",
       "      <th>min</th>\n",
       "      <td>-1.848237e+00</td>\n",
       "      <td>-4.175202e+00</td>\n",
       "      <td>-8.733971e-01</td>\n",
       "      <td>-1.264253e+00</td>\n",
       "      <td>-1.375717e+00</td>\n",
       "      <td>-1.667450e+00</td>\n",
       "    </tr>\n",
       "    <tr>\n",
       "      <th>25%</th>\n",
       "      <td>-6.585430e-01</td>\n",
       "      <td>-6.345777e-01</td>\n",
       "      <td>-6.748652e-01</td>\n",
       "      <td>-3.148231e-01</td>\n",
       "      <td>-9.568879e-01</td>\n",
       "      <td>-9.268335e-01</td>\n",
       "    </tr>\n",
       "    <tr>\n",
       "      <th>50%</th>\n",
       "      <td>-1.486741e-01</td>\n",
       "      <td>-4.447369e-02</td>\n",
       "      <td>-4.385177e-01</td>\n",
       "      <td>-5.588771e-02</td>\n",
       "      <td>-1.192290e-01</td>\n",
       "      <td>-6.771858e-02</td>\n",
       "    </tr>\n",
       "    <tr>\n",
       "      <th>75%</th>\n",
       "      <td>6.161291e-01</td>\n",
       "      <td>5.456303e-01</td>\n",
       "      <td>1.523511e-01</td>\n",
       "      <td>4.619831e-01</td>\n",
       "      <td>7.184299e-01</td>\n",
       "      <td>4.210880e-01</td>\n",
       "    </tr>\n",
       "    <tr>\n",
       "      <th>max</th>\n",
       "      <td>2.910539e+00</td>\n",
       "      <td>2.315942e+00</td>\n",
       "      <td>2.515826e+00</td>\n",
       "      <td>3.914455e+00</td>\n",
       "      <td>1.765503e+00</td>\n",
       "      <td>1.665323e+00</td>\n",
       "    </tr>\n",
       "  </tbody>\n",
       "</table>\n",
       "</div>"
      ],
      "text/plain": [
       "                Ati            An             q          smag             x  \\\n",
       "count  6.393280e+05  6.393280e+05  6.393280e+05  6.393280e+05  6.393280e+05   \n",
       "mean   1.633424e-12 -4.409594e-14  3.983713e-14 -8.762553e-14  2.687112e-14   \n",
       "std    1.000000e+00  1.000000e+00  1.000000e+00  1.000000e+00  1.000000e+00   \n",
       "min   -1.848237e+00 -4.175202e+00 -8.733971e-01 -1.264253e+00 -1.375717e+00   \n",
       "25%   -6.585430e-01 -6.345777e-01 -6.748652e-01 -3.148231e-01 -9.568879e-01   \n",
       "50%   -1.486741e-01 -4.447369e-02 -4.385177e-01 -5.588771e-02 -1.192290e-01   \n",
       "75%    6.161291e-01  5.456303e-01  1.523511e-01  4.619831e-01  7.184299e-01   \n",
       "max    2.910539e+00  2.315942e+00  2.515826e+00  3.914455e+00  1.765503e+00   \n",
       "\n",
       "              Ti_Te  \n",
       "count  6.393280e+05  \n",
       "mean   5.456717e-14  \n",
       "std    1.000000e+00  \n",
       "min   -1.667450e+00  \n",
       "25%   -9.268335e-01  \n",
       "50%   -6.771858e-02  \n",
       "75%    4.210880e-01  \n",
       "max    1.665323e+00  "
      ]
     },
     "execution_count": 14,
     "metadata": {},
     "output_type": "execute_result"
    }
   ],
   "source": [
    "shuffled_clean_input_df_1.describe(include='all')"
   ]
  },
  {
   "cell_type": "code",
   "execution_count": 15,
   "metadata": {},
   "outputs": [
    {
     "name": "stdout",
     "output_type": "stream",
     "text": [
      "(639328, 6)\n"
     ]
    }
   ],
   "source": [
    "print(shuffled_clean_input_df_1.shape)"
   ]
  },
  {
   "cell_type": "code",
   "execution_count": 16,
   "metadata": {},
   "outputs": [],
   "source": [
    "shuffled_clean_input_df_2 = shuffled_clean_input_df_7D.drop('Ati', axis=1)\n",
    "shuffled_clean_input_df_2 = shuffled_clean_input_df_2.drop('An', axis=1)\n",
    "shuffled_clean_input_df_2 = shuffled_clean_input_df_2.drop('q', axis=1)\n",
    "shuffled_clean_input_df_2 = shuffled_clean_input_df_2.drop('smag', axis=1)\n",
    "shuffled_clean_input_df_2 = shuffled_clean_input_df_2.drop('x', axis=1)\n",
    "shuffled_clean_input_df_2 = shuffled_clean_input_df_2.drop('Ti_Te', axis=1)"
   ]
  },
  {
   "cell_type": "code",
   "execution_count": 17,
   "metadata": {},
   "outputs": [
    {
     "data": {
      "text/html": [
       "<div>\n",
       "<style scoped>\n",
       "    .dataframe tbody tr th:only-of-type {\n",
       "        vertical-align: middle;\n",
       "    }\n",
       "\n",
       "    .dataframe tbody tr th {\n",
       "        vertical-align: top;\n",
       "    }\n",
       "\n",
       "    .dataframe thead th {\n",
       "        text-align: right;\n",
       "    }\n",
       "</style>\n",
       "<table border=\"1\" class=\"dataframe\">\n",
       "  <thead>\n",
       "    <tr style=\"text-align: right;\">\n",
       "      <th></th>\n",
       "      <th>Ate</th>\n",
       "    </tr>\n",
       "  </thead>\n",
       "  <tbody>\n",
       "    <tr>\n",
       "      <th>count</th>\n",
       "      <td>6.393280e+05</td>\n",
       "    </tr>\n",
       "    <tr>\n",
       "      <th>mean</th>\n",
       "      <td>-6.496300e-13</td>\n",
       "    </tr>\n",
       "    <tr>\n",
       "      <th>std</th>\n",
       "      <td>1.000000e+00</td>\n",
       "    </tr>\n",
       "    <tr>\n",
       "      <th>min</th>\n",
       "      <td>-2.151511e+00</td>\n",
       "    </tr>\n",
       "    <tr>\n",
       "      <th>25%</th>\n",
       "      <td>-6.647545e-01</td>\n",
       "    </tr>\n",
       "    <tr>\n",
       "      <th>50%</th>\n",
       "      <td>-1.691691e-01</td>\n",
       "    </tr>\n",
       "    <tr>\n",
       "      <th>75%</th>\n",
       "      <td>4.916113e-01</td>\n",
       "    </tr>\n",
       "    <tr>\n",
       "      <th>max</th>\n",
       "      <td>1.813172e+00</td>\n",
       "    </tr>\n",
       "  </tbody>\n",
       "</table>\n",
       "</div>"
      ],
      "text/plain": [
       "                Ate\n",
       "count  6.393280e+05\n",
       "mean  -6.496300e-13\n",
       "std    1.000000e+00\n",
       "min   -2.151511e+00\n",
       "25%   -6.647545e-01\n",
       "50%   -1.691691e-01\n",
       "75%    4.916113e-01\n",
       "max    1.813172e+00"
      ]
     },
     "execution_count": 17,
     "metadata": {},
     "output_type": "execute_result"
    }
   ],
   "source": [
    "shuffled_clean_input_df_2.describe(include='all')"
   ]
  },
  {
   "cell_type": "code",
   "execution_count": 19,
   "metadata": {},
   "outputs": [
    {
     "name": "stdout",
     "output_type": "stream",
     "text": [
      "(639328, 1)\n"
     ]
    }
   ],
   "source": [
    "print(shuffled_clean_input_df_2.shape)"
   ]
  },
  {
   "cell_type": "code",
   "execution_count": 18,
   "metadata": {},
   "outputs": [],
   "source": [
    "# *************************************************************************** #\n",
    "# Branch 1\n",
    "\n",
    "# Creates training dataset (90% of total data) for inputs\n",
    "x_train_1 = shuffled_clean_input_df_1.iloc[:int(\n",
    "    numpy.round(len(shuffled_clean_input_df_1)*0.9))]\n",
    "\n",
    "# Creates testing dataset (10% of total data) for inputs\n",
    "x_test_1 = shuffled_clean_input_df_1.iloc[int(\n",
    "    numpy.round(len(shuffled_clean_input_df_1)*0.9)):]\n",
    "# *************************************************************************** #"
   ]
  },
  {
   "cell_type": "code",
   "execution_count": 20,
   "metadata": {},
   "outputs": [],
   "source": [
    "# *************************************************************************** #\n",
    "# Branch 2\n",
    "\n",
    "# Creates training dataset (90% of total data) for inputs\n",
    "x_train_2 = shuffled_clean_input_df_2.iloc[:int(\n",
    "    numpy.round(len(shuffled_clean_input_df_2)*0.9))]\n",
    "\n",
    "# Creates testing dataset (10% of total data) for inputs\n",
    "x_test_2 = shuffled_clean_input_df_2.iloc[int(\n",
    "    numpy.round(len(shuffled_clean_input_df_2)*0.9)):]\n",
    "# *************************************************************************** #"
   ]
  },
  {
   "cell_type": "markdown",
   "metadata": {},
   "source": [
    "# Load Model"
   ]
  },
  {
   "cell_type": "code",
   "execution_count": 21,
   "metadata": {},
   "outputs": [],
   "source": [
    "from keras.models import load_model"
   ]
  },
  {
   "cell_type": "code",
   "execution_count": 22,
   "metadata": {},
   "outputs": [],
   "source": [
    "new_model = load_model('../Saved-Networks/2018-10-18_Run0126f.h5', custom_objects={'rmse': rmse})"
   ]
  },
  {
   "cell_type": "markdown",
   "metadata": {},
   "source": [
    "#### Model information"
   ]
  },
  {
   "cell_type": "code",
   "execution_count": 23,
   "metadata": {},
   "outputs": [
    {
     "name": "stdout",
     "output_type": "stream",
     "text": [
      "__________________________________________________________________________________________________\n",
      "Layer (type)                    Output Shape         Param #     Connected to                     \n",
      "==================================================================================================\n",
      "input_1 (InputLayer)            (None, 6)            0                                            \n",
      "__________________________________________________________________________________________________\n",
      "dense_1 (Dense)                 (None, 30)           210         input_1[0][0]                    \n",
      "__________________________________________________________________________________________________\n",
      "dense_2 (Dense)                 (None, 30)           930         dense_1[0][0]                    \n",
      "__________________________________________________________________________________________________\n",
      "dense_3 (Dense)                 (None, 1)            31          dense_2[0][0]                    \n",
      "__________________________________________________________________________________________________\n",
      "input_2 (InputLayer)            (None, 1)            0                                            \n",
      "__________________________________________________________________________________________________\n",
      "dense_4 (Dense)                 (None, 1)            2           dense_3[0][0]                    \n",
      "__________________________________________________________________________________________________\n",
      "dense_5 (Dense)                 (None, 1)            2           input_2[0][0]                    \n",
      "__________________________________________________________________________________________________\n",
      "add_1 (Add)                     (None, 1)            0           dense_4[0][0]                    \n",
      "                                                                 dense_5[0][0]                    \n",
      "__________________________________________________________________________________________________\n",
      "dense_6 (Dense)                 (None, 1)            2           add_1[0][0]                      \n",
      "__________________________________________________________________________________________________\n",
      "dense_7 (Dense)                 (None, 1)            2           dense_6[0][0]                    \n",
      "==================================================================================================\n",
      "Total params: 1,179\n",
      "Trainable params: 1,173\n",
      "Non-trainable params: 6\n",
      "__________________________________________________________________________________________________\n"
     ]
    }
   ],
   "source": [
    "new_model.summary()"
   ]
  },
  {
   "cell_type": "code",
   "execution_count": 24,
   "metadata": {},
   "outputs": [
    {
     "data": {
      "text/plain": [
       "[array([[ 9.20827538e-02,  7.44969537e-03, -1.27615286e-02,\n",
       "         -4.49762121e-03, -8.18820745e-02, -9.08243284e-02,\n",
       "         -1.01189330e-01, -2.74339281e-02, -3.73032801e-02,\n",
       "          1.08491354e-01,  5.59637621e-02,  4.41804789e-02,\n",
       "         -4.14442979e-02,  2.97600473e-03,  1.59925908e-01,\n",
       "          2.45702639e-03, -1.04781486e-01, -7.59313777e-02,\n",
       "         -1.87419681e-03, -6.75688565e-01, -8.78964663e-02,\n",
       "         -3.17187190e-01,  7.95087740e-02,  5.17779291e-02,\n",
       "         -5.41160591e-02, -6.20718254e-03, -5.53817265e-02,\n",
       "         -2.48101028e-03, -9.22650099e-03, -4.45438810e-02],\n",
       "        [-5.30187011e-01,  5.79828862e-03, -1.44191146e+00,\n",
       "         -9.89500880e-01, -5.31704783e-01,  4.72524226e-01,\n",
       "          9.96106744e-01, -1.30063727e-01, -2.38405123e-01,\n",
       "         -7.12296963e-02,  1.77768543e-01,  1.18307781e+00,\n",
       "         -3.99106950e-01,  1.61836073e-01,  4.96063113e-01,\n",
       "         -1.37916775e-02, -1.80234641e-01,  1.76541758e+00,\n",
       "         -6.67330530e-03, -3.08286399e-01, -8.87343168e-01,\n",
       "         -2.30456844e-01,  1.12336624e+00,  1.12460412e-01,\n",
       "          2.47172676e-02, -1.59573015e-02,  3.52762640e-01,\n",
       "         -1.87610777e-03,  1.84640408e-01, -4.18524265e-01],\n",
       "        [-2.55979210e-01, -3.54580432e-02,  8.90871286e-02,\n",
       "          1.30392909e-01,  1.98794425e-01, -4.47724313e-01,\n",
       "         -1.57373667e-01,  4.54806149e-01, -1.81637847e+00,\n",
       "         -1.76905598e-02,  1.01011086e+00, -3.29968892e-02,\n",
       "         -9.68522131e-01, -8.79166052e-02, -3.61434035e-02,\n",
       "          3.30254626e+00, -9.90002900e-02, -6.50686845e-02,\n",
       "          2.14249697e-02, -1.99243352e-02,  3.11595291e-01,\n",
       "         -7.10247643e-03,  7.90424496e-02,  4.26462442e-01,\n",
       "          1.40066054e-02, -6.07629828e-02,  2.45055139e-01,\n",
       "         -4.93825274e-03, -1.58073199e+00, -4.27536190e-01],\n",
       "        [-4.27345276e-01, -7.58242747e-03,  1.96729675e-01,\n",
       "          1.14223421e+00, -1.57639474e-01,  5.55235565e-01,\n",
       "          7.03063548e-01,  1.79696572e+00, -6.44954085e-01,\n",
       "         -1.88102946e-01,  1.67278573e-01, -3.24622616e-02,\n",
       "          8.55461061e-01,  1.04436898e+00,  6.61917865e-01,\n",
       "         -1.35490999e-01,  2.72715425e+00, -3.04937154e-01,\n",
       "          1.49030127e-02, -3.15696716e-01,  1.82923865e+00,\n",
       "          8.15567732e-01, -7.33571231e-01, -2.85895973e-01,\n",
       "         -2.28062630e+00,  1.66678816e-01,  1.17920327e+00,\n",
       "          4.36452776e-03, -4.57985997e-02,  1.52470958e+00],\n",
       "        [ 2.46622980e-01,  2.63056718e-03, -4.05597806e-01,\n",
       "          2.12395892e-01, -3.84673089e-01,  4.50643629e-01,\n",
       "         -1.76443145e-01, -2.39283472e-01, -2.14551300e-01,\n",
       "         -6.68941438e-02, -6.33263469e-01,  3.81278008e-01,\n",
       "         -5.93926728e-01, -3.82373124e-01, -2.24234119e-01,\n",
       "          1.46115795e-01,  2.83090789e-02, -2.17726603e-01,\n",
       "         -9.62388515e-03,  1.51639044e-01, -4.81307209e-01,\n",
       "         -1.46416485e-01, -3.86636347e-01, -1.59064460e+00,\n",
       "         -5.65928936e-01,  2.19443768e-01,  2.85049140e-01,\n",
       "         -7.74382497e-04, -1.37017563e-01, -4.51607794e-01],\n",
       "        [ 6.78392708e-01,  1.51722366e-02, -2.38438368e-01,\n",
       "          4.41684097e-01,  9.42775011e-01, -3.53861183e-01,\n",
       "          4.71913181e-02,  8.27457011e-02,  2.79004928e-02,\n",
       "          1.52169704e+00, -1.15758918e-01,  8.12651575e-01,\n",
       "         -1.92348078e-01, -9.09709156e-01,  2.34044462e-01,\n",
       "         -1.09195314e-01, -1.83399945e-01, -2.85603017e-01,\n",
       "         -1.69587731e-02,  6.94455922e-01,  1.19649194e-01,\n",
       "         -5.52314818e-01, -3.59513819e-01,  1.17263906e-01,\n",
       "         -2.36509919e-01, -2.31737208e+00,  2.23336518e-01,\n",
       "         -4.66934592e-03, -4.98843580e-01,  4.63132709e-02]], dtype=float32),\n",
       " array([ 4.0372688e-01,  4.3873340e-03, -8.1976879e-01,  1.3284028e-01,\n",
       "        -3.6367416e-01,  1.5230516e+00, -1.8020953e+00,  3.0553320e-01,\n",
       "        -1.5053399e+00,  1.3313767e+00,  4.0108055e-01, -2.3733351e+00,\n",
       "        -1.7165221e+00, -2.5621696e+00, -4.8627846e-02,  2.7584372e+00,\n",
       "         4.3463343e-01,  1.4804069e+00, -6.7116851e-03,  8.1460106e-01,\n",
       "        -8.6838788e-01, -5.5171752e-01,  2.7941389e+00, -1.8761233e+00,\n",
       "        -1.1863422e+00, -3.0747902e+00, -1.7242487e-01,  3.5832392e-04,\n",
       "        -9.2983294e-01, -2.3875413e+00], dtype=float32),\n",
       " array([[ 3.51066649e-01, -3.02567601e-01,  4.07510221e-01,\n",
       "         -6.11353278e-01,  1.78911537e-01,  1.78991240e-02,\n",
       "          2.73429025e-02, -3.45907931e-04,  4.66741796e-04,\n",
       "         -4.21456248e-01,  3.22280042e-02, -3.14744376e-02,\n",
       "         -5.19454300e-01, -9.89044365e-03, -1.19154332e-02,\n",
       "         -1.48495417e-02,  8.74685794e-02, -6.90140724e-02,\n",
       "          4.47707542e-04,  2.36983091e-01, -2.97721237e-01,\n",
       "          1.70425549e-02, -2.37271950e-01, -8.66005942e-03,\n",
       "         -3.86194021e-01, -2.21314907e-01, -1.16367437e-01,\n",
       "          7.54496574e-01,  2.22167417e-01, -2.65819728e-01],\n",
       "        [-1.15812775e-02,  2.64975533e-04, -3.10163926e-02,\n",
       "          2.33486965e-02, -3.00606582e-02, -3.33783519e-03,\n",
       "         -1.25424890e-02, -2.00321410e-05,  2.82272449e-05,\n",
       "         -1.55875599e-02, -1.15681496e-02, -7.29891192e-03,\n",
       "          1.31868161e-02, -1.85922848e-03,  7.75492052e-03,\n",
       "          6.70638820e-03, -2.19007824e-02,  1.50784720e-02,\n",
       "          2.33795017e-05,  2.81165782e-02,  1.42236026e-02,\n",
       "         -5.40138397e-04,  2.93369051e-02,  6.53992733e-03,\n",
       "          5.48262335e-03, -8.74118134e-03,  1.39303133e-02,\n",
       "          2.81381980e-02, -3.87565531e-02,  2.23768204e-02],\n",
       "        [-2.77052104e-01,  2.12465614e-01,  5.19115448e-01,\n",
       "          2.04600096e-01,  1.46950781e-01,  2.48218235e-02,\n",
       "          6.43469170e-02, -7.93049985e-05,  2.26680539e-04,\n",
       "         -6.83566213e-01,  4.53616567e-02, -2.49972284e-01,\n",
       "          2.61620671e-01,  1.72933564e-02, -2.70929523e-02,\n",
       "         -3.82043794e-02,  4.10740465e-01,  1.29368231e-01,\n",
       "          1.66681712e-04, -6.17588103e-01, -3.29718515e-02,\n",
       "          1.70133561e-02, -1.28030656e-02, -1.12709135e-01,\n",
       "         -4.98031914e-01,  2.13955566e-01, -2.08049864e-01,\n",
       "          5.81635594e-01, -1.04117040e-02, -2.39083305e-01],\n",
       "        [ 3.12865645e-01, -4.13961679e-01, -2.17837870e-01,\n",
       "         -3.68910208e-02, -2.90900618e-01,  9.62272380e-03,\n",
       "          2.53641475e-02,  5.41358138e-04, -6.11770549e-04,\n",
       "          7.12008595e-01,  1.96400527e-02,  2.62180716e-01,\n",
       "         -1.71326816e-01,  1.21060563e-02, -1.04495902e-02,\n",
       "         -1.01557914e-02, -6.25356138e-01,  5.26132174e-02,\n",
       "         -5.97285340e-04,  7.86231637e-01, -3.07985157e-01,\n",
       "          4.68503824e-03, -1.37517363e-01, -1.72617212e-01,\n",
       "         -1.06358238e-01, -1.67309374e-01, -3.00682455e-01,\n",
       "          2.22966149e-01,  2.84229755e-01, -9.77227613e-02],\n",
       "        [ 1.89129367e-01, -2.22828656e-01,  5.06003380e-01,\n",
       "          3.52821738e-01,  3.67595643e-01,  2.16156021e-02,\n",
       "          1.68924872e-02,  3.50035436e-04, -5.71064244e-04,\n",
       "         -4.57345583e-02,  4.96504270e-02,  1.66854843e-01,\n",
       "         -2.74438381e-01,  3.10500432e-02, -1.06087625e-02,\n",
       "         -1.88483652e-02,  1.03733823e-01,  6.68376684e-02,\n",
       "         -4.69545601e-04,  4.82839435e-01, -2.34154542e-03,\n",
       "         -1.23511571e-02, -8.43493491e-02, -5.64586371e-02,\n",
       "         -4.29420143e-01,  3.56668383e-02, -3.30372691e-01,\n",
       "         -1.26482397e-01, -1.26705065e-01, -4.84118670e-01],\n",
       "        [-2.32239619e-01, -1.73117191e-01, -1.30896166e-01,\n",
       "          7.95254707e-02, -1.98991865e-01, -4.32819407e-03,\n",
       "         -5.69161307e-03,  1.17878240e-04,  3.43938009e-05,\n",
       "          3.59678835e-01, -4.75886185e-03, -2.56752074e-02,\n",
       "          2.26900369e-01,  2.35747721e-05,  6.28297450e-04,\n",
       "          4.71587526e-03, -2.82567084e-01, -8.93749371e-02,\n",
       "         -2.19417998e-05, -6.18562937e-01, -1.06207617e-01,\n",
       "          8.52806214e-03, -1.06189199e-01,  3.93436164e-01,\n",
       "          2.82882988e-01,  8.72651339e-02,  1.29272416e-01,\n",
       "         -2.03797832e-01,  6.30186871e-02,  6.69251382e-01],\n",
       "        [-1.60926208e-01,  1.79957803e-02, -9.66006935e-01,\n",
       "          5.70809901e-01, -1.12841740e-01, -1.38515979e-03,\n",
       "         -1.67242102e-02,  2.76705541e-04, -5.13120205e-04,\n",
       "          1.54343963e-01, -1.38414251e-02,  1.36312813e-01,\n",
       "          9.79480222e-02,  3.93530866e-03,  6.28142152e-04,\n",
       "          5.33109298e-03, -1.52848244e-01,  5.00932820e-02,\n",
       "         -4.58060880e-04, -7.29169428e-01,  5.98578691e-01,\n",
       "         -1.48056243e-02,  1.88640416e-01,  1.05006307e-01,\n",
       "          2.95309544e-01,  1.95949242e-01, -1.56684607e-01,\n",
       "         -2.33756267e-02,  4.84373942e-02,  2.02257261e-01],\n",
       "        [ 5.58992803e-01,  4.14424092e-02, -2.34846577e-01,\n",
       "         -4.80112225e-01, -4.60035294e-01,  1.75197124e-02,\n",
       "          1.81182381e-02,  8.20034184e-04, -7.19436677e-04,\n",
       "          5.48398376e-01,  1.41067104e-02,  4.63169396e-01,\n",
       "         -1.85855210e-01, -1.30320508e-02, -1.53751187e-02,\n",
       "         -2.38741487e-02, -8.73160303e-01,  3.92883986e-01,\n",
       "         -7.92057253e-04, -6.24197721e-01, -9.35964137e-02,\n",
       "          1.27290525e-02,  3.59239802e-02,  6.05637245e-02,\n",
       "          1.72855239e-02, -4.55340594e-01, -4.35779452e-01,\n",
       "          9.88445759e-01,  3.31146628e-01, -2.61259321e-02],\n",
       "        [-1.80358946e-01, -6.05229437e-01,  1.05455786e-01,\n",
       "         -1.34917900e-01, -1.25252545e-01,  3.34131939e-04,\n",
       "          2.26530675e-02, -1.75777037e-04, -4.16911498e-05,\n",
       "          4.31676179e-01,  5.14343788e-04, -5.32414794e-01,\n",
       "          7.49902129e-01,  1.84894074e-02,  1.31599866e-02,\n",
       "          1.64749287e-03,  6.14742795e-03, -5.63500345e-01,\n",
       "          1.07555068e-04, -7.64261782e-01, -2.35259756e-01,\n",
       "          4.29914799e-03,  1.92569524e-01,  1.98582262e-01,\n",
       "          1.99013412e-01, -2.77585387e-01,  6.01623841e-02,\n",
       "         -3.06638062e-01, -1.64093912e-01, -2.02750951e-01],\n",
       "        [ 5.04872203e-01,  1.33263230e-01,  8.78356993e-02,\n",
       "         -4.15840060e-01,  4.57540005e-01,  5.83873037e-03,\n",
       "         -3.70902233e-02,  1.65835067e-04, -1.91448082e-04,\n",
       "         -3.98036987e-01, -3.28683257e-02,  3.94580483e-01,\n",
       "         -6.27793908e-01, -2.15190016e-02,  1.76064286e-03,\n",
       "         -3.98375001e-03,  1.47568762e-01, -9.89244580e-02,\n",
       "         -1.86028657e-04,  5.67282975e-01,  1.83969177e-02,\n",
       "          8.40114662e-04, -2.79605240e-01, -7.17110753e-01,\n",
       "         -2.05936775e-01,  5.18265843e-01, -3.53465140e-01,\n",
       "          6.01375401e-01, -1.82658210e-01, -3.19513500e-01],\n",
       "        [ 5.13563871e-01, -2.09773377e-01,  5.13528697e-02,\n",
       "         -1.06147036e-01, -6.04459830e-02, -8.39392934e-03,\n",
       "         -2.57089846e-02,  5.80947613e-04, -3.95275740e-04,\n",
       "         -3.77626300e-01, -2.00445540e-02, -1.48680195e-01,\n",
       "          4.56525534e-02, -3.59397207e-04, -4.90976078e-03,\n",
       "          1.24231363e-02,  5.08088581e-02,  3.85103464e-01,\n",
       "         -5.51273464e-04,  4.63134617e-01,  4.44478780e-01,\n",
       "         -2.27546822e-02,  4.71254997e-02, -1.07961498e-01,\n",
       "          1.52762562e-01,  3.70680869e-01,  2.00568885e-01,\n",
       "         -4.58571225e-01, -3.31784129e-01,  1.59681574e-01],\n",
       "        [-8.27437490e-02,  2.97942758e-01, -6.16868913e-01,\n",
       "          1.94975421e-01,  6.32106781e-01, -8.76383390e-03,\n",
       "          2.28325706e-02, -2.18691275e-04,  1.83313241e-05,\n",
       "         -7.59639978e-01, -1.73536188e-03, -4.57984507e-02,\n",
       "          6.53024793e-01,  2.62209382e-02, -2.67453562e-03,\n",
       "          9.11015458e-03,  3.34182590e-01,  3.64483178e-01,\n",
       "          1.14905139e-04, -2.50825644e-01,  6.04580760e-01,\n",
       "          1.83773525e-02,  5.25948294e-02,  4.61476892e-01,\n",
       "          1.13079198e-01,  4.52066541e-01, -1.06382184e-02,\n",
       "          1.63892470e-02, -4.15149331e-01,  5.23836836e-02],\n",
       "        [-8.23996902e-01, -4.86099347e-02,  4.31274146e-01,\n",
       "          2.52270967e-01, -4.09923196e-01, -2.34169327e-02,\n",
       "          6.84139598e-03,  2.48057564e-04, -1.24935730e-04,\n",
       "          2.34758601e-01, -6.22535916e-03, -6.46891892e-01,\n",
       "          3.19202781e-01,  6.10666536e-03, -2.45766751e-02,\n",
       "          1.46482792e-02, -3.31119657e-01,  2.53532112e-01,\n",
       "         -2.07265897e-04,  2.13683024e-01, -1.04226939e-01,\n",
       "         -1.98081341e-02, -3.41711529e-02,  5.29325977e-02,\n",
       "          1.13472670e-01,  3.99142325e-01,  4.68103774e-02,\n",
       "         -1.48726225e-01,  5.58275521e-01, -1.10401191e-01],\n",
       "        [-1.00898969e+00,  6.81067407e-02, -2.01233868e-02,\n",
       "          1.38185799e+00, -1.99727789e-01, -9.01930220e-03,\n",
       "         -2.67124139e-02,  2.19601337e-04, -3.96344753e-04,\n",
       "          1.28626391e-01, -3.36324014e-02,  3.88026685e-01,\n",
       "         -1.75565295e-02, -6.77976385e-03,  1.27362637e-02,\n",
       "          1.42046716e-02, -1.17514290e-01,  1.94345057e-01,\n",
       "         -3.15413694e-04,  1.06803529e-01,  6.91819414e-02,\n",
       "         -1.31889852e-03,  2.56904542e-01, -1.52864844e-01,\n",
       "          4.23688591e-02, -6.95989057e-02, -1.15955755e-01,\n",
       "          3.63619626e-02,  2.05926061e-01,  6.00022674e-02],\n",
       "        [-2.52310008e-01, -6.00705668e-02, -1.82045117e-01,\n",
       "         -2.19854623e-01,  1.57294109e-01,  5.80194872e-03,\n",
       "         -1.48532065e-02,  5.78945619e-04, -6.97650306e-04,\n",
       "          2.46693879e-01,  1.35291135e-03,  2.15085566e-01,\n",
       "          3.81448805e-01, -5.59577765e-03,  9.05895606e-03,\n",
       "          4.71696141e-04, -8.58111829e-02,  3.17162544e-01,\n",
       "         -6.77328557e-04, -3.95262092e-01,  2.66774863e-01,\n",
       "         -1.27647957e-02,  4.12644893e-02,  1.39124721e-01,\n",
       "          2.96669662e-01,  2.76027024e-01, -1.05553726e-02,\n",
       "         -5.60527146e-01, -4.75848876e-02,  2.96784401e-01],\n",
       "        [ 2.14150023e+00,  1.41286516e+00,  1.80350780e-01,\n",
       "         -1.53496087e-01,  6.77149832e-01,  4.24242765e-03,\n",
       "          1.27942569e-03,  5.85541202e-05, -1.91744548e-05,\n",
       "         -1.03745449e+00, -6.40733819e-03,  7.79227316e-01,\n",
       "         -5.90911627e-01,  1.44942645e-02, -1.98477972e-02,\n",
       "         -6.08181441e-03, -1.95485294e-01,  6.86318636e-01,\n",
       "         -3.10619071e-05,  5.42341232e-01,  9.49050188e-02,\n",
       "          1.88520527e-04,  1.01484451e-02, -7.31376052e-01,\n",
       "         -5.20405889e-01,  7.14354038e-01, -2.49102920e-01,\n",
       "          2.73029864e-01, -1.54684916e-01, -4.68298137e-01],\n",
       "        [ 1.39277935e+00, -3.20487976e-01, -1.58180371e-01,\n",
       "         -2.80010462e-01, -6.58968151e-01, -1.80847674e-05,\n",
       "          1.93204228e-02,  7.31550623e-04, -5.19388239e-04,\n",
       "          3.32572371e-01,  1.55958561e-02,  4.06754822e-01,\n",
       "         -6.42106473e-01,  1.05871316e-02, -1.82474754e-03,\n",
       "         -6.30295603e-03, -7.71244049e-01, -4.15741093e-02,\n",
       "         -6.38947939e-04,  1.54814470e+00, -3.97673488e-01,\n",
       "          2.93330774e-02, -7.77507350e-02, -2.68924832e-01,\n",
       "         -5.14467180e-01, -3.67142081e-01,  9.62651595e-02,\n",
       "          3.19521815e-01,  4.31087673e-01, -1.60288403e-03],\n",
       "        [ 3.58330876e-01, -2.56800801e-01, -5.14539480e-01,\n",
       "         -1.33824527e-01,  2.59125203e-01, -1.41118886e-02,\n",
       "         -1.73683427e-02,  8.64045069e-05,  1.92699983e-04,\n",
       "          3.65565091e-01, -1.27061019e-02, -6.69678211e-01,\n",
       "          4.73868549e-01, -1.12170156e-03,  2.69528981e-02,\n",
       "          2.22351532e-02, -1.95407253e-02, -5.46393618e-02,\n",
       "          3.62139690e-05,  6.62464380e-01,  1.20341023e-02,\n",
       "         -1.96587536e-02, -6.22782633e-02,  2.84578323e-01,\n",
       "          5.15112638e-01,  5.24036527e-01,  6.33450374e-02,\n",
       "         -6.00169241e-01, -6.94967866e-01,  1.47856101e-01],\n",
       "        [ 8.72888137e-03, -4.96349967e-05,  3.41723859e-02,\n",
       "         -2.38618534e-02, -4.37452318e-03,  1.42508131e-02,\n",
       "          1.34115806e-02,  1.09378161e-05, -1.33030835e-05,\n",
       "          3.38835758e-03,  2.00110544e-02,  5.00382390e-03,\n",
       "          1.38400160e-02,  1.09767017e-03, -1.09584201e-02,\n",
       "         -1.47980629e-02,  1.68916056e-04,  8.31722189e-03,\n",
       "         -1.14372597e-05, -1.80300716e-02, -4.00998704e-02,\n",
       "          8.78670719e-03,  3.06183030e-03, -1.76365823e-02,\n",
       "         -4.97718947e-03,  8.04792438e-03, -3.36510921e-03,\n",
       "         -1.74252354e-02,  1.08108250e-02, -5.82612213e-03],\n",
       "        [ 1.71998248e-01, -2.06155211e-01,  4.29983407e-01,\n",
       "         -2.46419922e-01,  1.38991818e-01, -1.43179134e-03,\n",
       "          2.79450603e-02,  1.81738171e-04, -1.69726860e-04,\n",
       "         -2.60901958e-01,  1.13566509e-02, -1.45403877e-01,\n",
       "         -2.13541724e-02,  1.77291874e-02,  5.19910036e-03,\n",
       "         -1.30557576e-02,  6.89667538e-02,  4.18483699e-03,\n",
       "         -1.98911788e-04,  1.43971011e-01,  2.45127305e-01,\n",
       "          5.95103996e-03, -6.31481502e-03, -9.59761813e-02,\n",
       "         -4.76604998e-01,  1.99648112e-01, -1.18738636e-01,\n",
       "         -2.79622346e-01, -7.10059470e-03, -8.10131803e-03],\n",
       "        [ 1.73241775e-02,  3.60100269e-01,  3.21787782e-02,\n",
       "         -6.24660812e-02, -3.53122115e-01, -1.96152944e-02,\n",
       "          1.11567667e-02,  9.23626940e-04, -9.45320236e-04,\n",
       "         -1.55098230e-01, -3.20444047e-03,  6.14263475e-01,\n",
       "         -1.55847818e-01,  6.60689780e-03, -9.13310389e-04,\n",
       "          1.40661662e-02, -3.21470201e-01,  9.45134819e-01,\n",
       "         -9.29756090e-04, -1.18829477e+00, -3.98027360e-01,\n",
       "          3.36053455e-03,  7.80378701e-03, -5.45452647e-02,\n",
       "          1.55753121e-01, -1.75349012e-01, -2.33651504e-01,\n",
       "          3.80141795e-01,  5.42631269e-01, -4.58386093e-01],\n",
       "        [-2.50214897e-02,  1.97949037e-01, -4.20695543e-01,\n",
       "          4.52077925e-01, -3.45973611e-01,  3.67895118e-03,\n",
       "         -8.28441512e-03,  6.34878816e-04, -7.98018882e-04,\n",
       "          2.82433867e-01, -7.36085558e-03,  4.16540593e-01,\n",
       "         -9.60786417e-02,  2.90672644e-03,  5.57485782e-03,\n",
       "         -1.10525964e-02, -9.81842652e-02,  3.49485695e-01,\n",
       "         -7.41559605e-04, -4.32479203e-01, -2.65219122e-01,\n",
       "          4.07082867e-03,  1.91832960e-01,  3.18487257e-01,\n",
       "          2.22407639e-01,  1.24194520e-03,  3.26565616e-02,\n",
       "         -6.32392466e-01,  1.11318864e-01, -3.90160739e-01],\n",
       "        [ 1.00264359e+00, -3.88497412e-01, -2.94987351e-01,\n",
       "         -1.91469446e-01,  3.58957618e-01,  1.37658799e-02,\n",
       "          1.17879817e-02,  7.44728604e-05,  5.14462299e-05,\n",
       "          5.08342922e-01,  1.69083141e-02,  2.52771061e-02,\n",
       "          5.23002863e-01,  1.38728945e-02, -4.84664505e-03,\n",
       "         -6.92610862e-04, -2.61770129e-01,  4.85724211e-02,\n",
       "         -4.90561069e-06,  2.63105839e-01, -3.21480189e-03,\n",
       "         -1.74767151e-02, -1.59392189e-02,  5.11819303e-01,\n",
       "          2.07321554e-01,  5.70308045e-02,  1.92150608e-01,\n",
       "         -3.53515446e-01, -3.49367321e-01,  1.34417784e+00],\n",
       "        [ 6.47683084e-01,  1.75362334e-01, -1.36220440e-01,\n",
       "          7.26971865e-01,  2.28190154e-01,  8.39922950e-03,\n",
       "          2.87043303e-02, -1.06397172e-04,  2.07098201e-04,\n",
       "          3.26139838e-01, -4.34149848e-03,  7.33156085e-01,\n",
       "         -4.10858959e-01, -4.86215856e-03,  1.14283012e-02,\n",
       "          1.02833621e-02, -1.68450698e-01, -9.64755267e-02,\n",
       "          1.32662288e-04,  4.40105826e-01, -3.98052596e-02,\n",
       "         -8.31597764e-03, -3.33614945e-01,  2.66706765e-01,\n",
       "          1.00071512e-01,  1.02801472e-01, -9.18229520e-01,\n",
       "          2.97929883e-01, -3.40155572e-01, -2.41614103e-01],\n",
       "        [-1.24472928e+00,  2.59696990e-01,  6.60196066e-01,\n",
       "          3.34246755e-01,  5.75142093e-02, -2.16767266e-02,\n",
       "         -1.36982687e-02, -6.20776380e-04,  4.82407224e-04,\n",
       "         -9.08143222e-01, -1.96003709e-02,  1.12324163e-01,\n",
       "          3.06081325e-01, -3.38731334e-03,  1.03631793e-02,\n",
       "          1.31005039e-02,  8.66736054e-01, -6.36144042e-01,\n",
       "          5.42397727e-04, -2.58291572e-01, -8.46903682e-01,\n",
       "         -1.06449416e-02,  8.97895917e-02, -1.19139326e+00,\n",
       "          9.03303400e-02, -5.64212203e-01, -2.73905307e-01,\n",
       "         -5.98068573e-02, -3.10672432e-01, -3.27346742e-01],\n",
       "        [-7.71279991e-01, -1.86239015e-02, -3.26874286e-01,\n",
       "          2.46162558e+00, -1.71413347e-01, -2.00396255e-02,\n",
       "          1.70552246e-02, -3.45220906e-05, -8.97350546e-05,\n",
       "          1.84670031e-01,  1.15462020e-02, -1.96246222e-01,\n",
       "          2.46808678e-01,  2.16115844e-02,  5.48534701e-03,\n",
       "          1.38829732e-02, -2.09382951e-01,  1.63294747e-01,\n",
       "         -2.17904599e-05, -2.08942473e-01,  1.64582521e-01,\n",
       "         -6.53985748e-03,  5.41442633e-01,  6.78263485e-01,\n",
       "          1.40765235e-01, -5.04437745e-01,  1.72417134e-01,\n",
       "         -3.37797314e-01, -6.88274354e-02,  2.97331035e-01],\n",
       "        [-5.87622225e-01,  3.13190788e-01, -8.65447670e-02,\n",
       "          2.24803329e-01, -4.42833900e-01,  1.23142758e-02,\n",
       "          1.08091235e-02,  8.43791116e-04, -1.06913527e-03,\n",
       "          7.36830831e-02,  2.86153704e-02,  2.04493150e-01,\n",
       "         -2.19827369e-01,  1.05369592e-03,  3.21483985e-03,\n",
       "         -3.54519463e-03, -7.70425200e-01,  3.83068234e-01,\n",
       "         -9.91212437e-04, -3.31597537e-01,  2.94568509e-01,\n",
       "          6.96959533e-03, -2.16724910e-02,  1.73581704e-01,\n",
       "         -3.15683305e-01,  1.95202734e-02,  6.80072159e-02,\n",
       "         -4.50976081e-02,  2.34175578e-01, -5.99259771e-02],\n",
       "        [-2.70005921e-03,  2.90812692e-03,  8.60738847e-03,\n",
       "         -2.29106005e-03, -1.66189373e-02,  8.49890430e-03,\n",
       "          2.77679903e-03,  2.00605245e-06, -1.73228557e-06,\n",
       "         -2.53760070e-03,  7.39520323e-03,  5.16903645e-04,\n",
       "          1.37256803e-02, -1.62924221e-03, -3.49789020e-03,\n",
       "         -6.99145673e-03, -7.68985460e-03,  1.15834204e-02,\n",
       "         -1.70810961e-06,  1.75990688e-03, -1.78089719e-02,\n",
       "          5.97155793e-03,  1.31876664e-02, -9.67818720e-04,\n",
       "         -3.98903945e-03,  4.76250565e-03,  1.64278026e-03,\n",
       "          1.12839630e-02, -1.55781936e-02,  4.75812610e-03],\n",
       "        [-9.64298308e-01, -4.10710961e-01, -1.27936259e-01,\n",
       "          1.42096192e-01, -9.80939623e-03, -2.80171353e-02,\n",
       "          5.67942904e-03, -2.90274882e-04,  3.88439803e-04,\n",
       "         -2.51074880e-01, -1.02976207e-02, -6.73386216e-01,\n",
       "          2.32643321e-01,  3.74338366e-02,  3.76867200e-03,\n",
       "          2.30231714e-02,  5.78097142e-02, -2.93330997e-01,\n",
       "          3.32239782e-04,  2.08539125e-02,  4.15620774e-01,\n",
       "          3.70391342e-03,  2.32772753e-01,  5.59870303e-01,\n",
       "          2.01650992e-01, -3.66679192e-01,  2.00857788e-01,\n",
       "         -1.00771338e-01,  1.30019978e-01,  2.50023335e-01],\n",
       "        [-1.50314295e+00, -1.34434298e-01,  9.89122018e-02,\n",
       "          8.98012459e-01, -3.47450793e-01, -4.52826405e-03,\n",
       "         -2.78089829e-02,  5.64776652e-04, -7.21956138e-04,\n",
       "          3.00292522e-01, -7.80163519e-03,  2.13194713e-02,\n",
       "         -2.42498934e-01, -1.30001092e-02, -2.39767745e-04,\n",
       "         -3.16803902e-03, -2.13677615e-01,  2.46197894e-01,\n",
       "         -6.74974464e-04, -9.77061242e-02, -3.45786959e-01,\n",
       "         -2.09634211e-02, -3.78062502e-02,  1.47283867e-01,\n",
       "          2.22005695e-01,  4.26165491e-01,  1.94880720e-02,\n",
       "         -5.00440598e-01,  6.71496451e-01, -4.32330221e-01]], dtype=float32),\n",
       " array([-3.3582544e+00,  2.4532549e+00,  3.7548259e-01,  1.8587415e+00,\n",
       "        -6.6114336e-01, -1.2650768e-02,  4.4753209e-02,  7.6980853e+00,\n",
       "        -7.4636803e+00,  8.4029901e-01,  1.1739668e-02, -1.8283918e+00,\n",
       "         1.4162809e+00,  2.4527907e-02,  6.7685475e-03,  2.0622009e-02,\n",
       "         4.5628223e-01,  3.7213004e-01, -7.6010995e+00, -4.8687487e+00,\n",
       "        -2.0818927e+00,  1.6302772e-02, -1.4519936e+00,  1.0294361e+00,\n",
       "         1.8689195e+00, -5.7744253e-01,  2.1697888e+00, -3.0525508e+00,\n",
       "        -6.4949375e-01,  2.7885525e+00], dtype=float32),\n",
       " array([[-2.0156298e+00],\n",
       "        [-5.4180920e-01],\n",
       "        [-3.0077520e-01],\n",
       "        [ 1.7667055e+00],\n",
       "        [-3.5083348e-01],\n",
       "        [-3.0069207e-03],\n",
       "        [-3.6237400e-03],\n",
       "        [ 7.8043711e-01],\n",
       "        [-7.2412562e-01],\n",
       "        [-5.6446743e-01],\n",
       "        [-4.9298126e-03],\n",
       "        [ 3.3675396e-01],\n",
       "        [ 3.0303094e-01],\n",
       "        [ 2.7727173e-03],\n",
       "        [ 3.3510330e-03],\n",
       "        [ 3.3222300e-03],\n",
       "        [ 6.4542902e-01],\n",
       "        [ 2.8227758e-01],\n",
       "        [-7.5777119e-01],\n",
       "        [-1.7377088e+00],\n",
       "        [ 3.9705122e-01],\n",
       "        [-9.7135548e-05],\n",
       "        [ 5.0078815e-01],\n",
       "        [ 3.4177285e-01],\n",
       "        [ 1.7992976e-01],\n",
       "        [-1.9571851e-01],\n",
       "        [-2.4225585e-01],\n",
       "        [ 5.0709647e-01],\n",
       "        [ 1.8480863e-01],\n",
       "        [-9.6492356e-01]], dtype=float32),\n",
       " array([2.9127536], dtype=float32),\n",
       " array([[-1.]], dtype=float32),\n",
       " array([0.], dtype=float32),\n",
       " array([[0.79621875]], dtype=float32),\n",
       " array([-0.06125937], dtype=float32),\n",
       " array([[1.]], dtype=float32),\n",
       " array([0.], dtype=float32),\n",
       " array([[1.]], dtype=float32),\n",
       " array([0.], dtype=float32)]"
      ]
     },
     "execution_count": 24,
     "metadata": {},
     "output_type": "execute_result"
    }
   ],
   "source": [
    "new_model.get_weights()"
   ]
  },
  {
   "cell_type": "code",
   "execution_count": 27,
   "metadata": {},
   "outputs": [
    {
     "data": {
      "text/plain": [
       "<keras.optimizers.Adam at 0x2c227301b38>"
      ]
     },
     "execution_count": 27,
     "metadata": {},
     "output_type": "execute_result"
    }
   ],
   "source": [
    "new_model.optimizer"
   ]
  },
  {
   "cell_type": "markdown",
   "metadata": {},
   "source": [
    "# Predictions (Global)"
   ]
  },
  {
   "cell_type": "markdown",
   "metadata": {},
   "source": [
    "\"Global\" in this sense means that I've fed model.predict() with all the possible parameters. This gives a good overview of the overall performance of the network. This can be useful to spot large-scale phenomena like network overfitting but is not so great at looking at say individual data slices. This is done later.\n",
    "\n",
    "***Nota Bene: all data here is NORMALIZED at this stage.***"
   ]
  },
  {
   "cell_type": "code",
   "execution_count": 26,
   "metadata": {},
   "outputs": [
    {
     "name": "stdout",
     "output_type": "stream",
     "text": [
      "[-1.00778849 -0.90798589 -0.74548873 ... -0.36189134 -1.04351651\n",
      "  0.85297783]\n",
      "(63933,)\n"
     ]
    }
   ],
   "source": [
    "y_test_np_array = y_test.values\n",
    "print(y_test_np_array)\n",
    "print(y_test_np_array.shape)"
   ]
  },
  {
   "cell_type": "code",
   "execution_count": 25,
   "metadata": {},
   "outputs": [
    {
     "name": "stdout",
     "output_type": "stream",
     "text": [
      "[[ 1.55088864 -0.91254716  0.25057832 ... -0.31482312  0.29960042\n",
      "  -0.06771858]\n",
      " [ 1.55088864 -0.91254716  0.25057832 ... -0.31482312  0.29960042\n",
      "   0.42108802]\n",
      " [ 1.55088864 -0.91254716  0.25057832 ... -0.31482312  0.29960042\n",
      "   1.66532336]\n",
      " ...\n",
      " [ 2.91053885  1.81317227  2.31594238 ...  3.91445512  1.76550348\n",
      "  -0.55652537]\n",
      " [ 2.91053885  1.81317227  2.31594238 ...  3.91445512  1.76550348\n",
      "   0.42108802]\n",
      " [ 2.91053885  1.81317227  2.31594238 ...  3.91445512  1.76550348\n",
      "   1.66532336]]\n"
     ]
    }
   ],
   "source": [
    "x_test_np_array = x_test.values\n",
    "print(x_test_np_array)"
   ]
  },
  {
   "cell_type": "code",
   "execution_count": 28,
   "metadata": {},
   "outputs": [],
   "source": [
    "x_test_1_np_array = x_test_1.values\n",
    "x_test_2_np_array = x_test_2.values"
   ]
  },
  {
   "cell_type": "code",
   "execution_count": 45,
   "metadata": {},
   "outputs": [
    {
     "name": "stdout",
     "output_type": "stream",
     "text": [
      "(63933, 6)\n"
     ]
    }
   ],
   "source": [
    "print(x_test_1_np_array.shape)"
   ]
  },
  {
   "cell_type": "code",
   "execution_count": 46,
   "metadata": {},
   "outputs": [
    {
     "name": "stdout",
     "output_type": "stream",
     "text": [
      "(63933, 1)\n"
     ]
    }
   ],
   "source": [
    "print(x_test_2_np_array.shape)"
   ]
  },
  {
   "cell_type": "code",
   "execution_count": 47,
   "metadata": {},
   "outputs": [
    {
     "name": "stdout",
     "output_type": "stream",
     "text": [
      "(63933, 7)\n"
     ]
    }
   ],
   "source": [
    "print(x_test_np_array.shape)"
   ]
  },
  {
   "cell_type": "code",
   "execution_count": 48,
   "metadata": {},
   "outputs": [
    {
     "name": "stdout",
     "output_type": "stream",
     "text": [
      "<class 'numpy.ndarray'>\n",
      "(63933,)\n",
      "<class 'numpy.ndarray'>\n"
     ]
    }
   ],
   "source": [
    "predictions_global = new_model.predict([x_test_1_np_array, x_test_2_np_array], batch_size = 10, verbose=0)\n",
    "print(type(predictions_global))\n",
    "\n",
    "predictions_global = predictions_global.flatten()\n",
    "print(predictions_global.shape)\n",
    "print(type(predictions_global))"
   ]
  },
  {
   "cell_type": "markdown",
   "metadata": {},
   "source": [
    "### Predictions (Global) review - De-Normalized"
   ]
  },
  {
   "cell_type": "code",
   "execution_count": 49,
   "metadata": {},
   "outputs": [],
   "source": [
    "predictions_global_deNormalized = (predictions_global * joined_dataFrame_original['efeETG_GB'].std()) + joined_dataFrame_original['efeETG_GB'].mean()"
   ]
  },
  {
   "cell_type": "code",
   "execution_count": 50,
   "metadata": {},
   "outputs": [],
   "source": [
    "y_test_deNormalized = (y_test * joined_dataFrame_original['efeETG_GB'].std()) + joined_dataFrame_original['efeETG_GB'].mean()"
   ]
  },
  {
   "cell_type": "code",
   "execution_count": 51,
   "metadata": {},
   "outputs": [],
   "source": [
    "y_test_deNormalized_np_array = y_test_deNormalized.values"
   ]
  },
  {
   "cell_type": "code",
   "execution_count": 52,
   "metadata": {},
   "outputs": [],
   "source": [
    "import matplotlib.pyplot as plt\n",
    "from matplotlib.colors import LogNorm"
   ]
  },
  {
   "cell_type": "code",
   "execution_count": 53,
   "metadata": {},
   "outputs": [
    {
     "data": {
      "image/png": "[encoded data removed]",
      "text/plain": [
       "<Figure size 432x288 with 1 Axes>"
      ]
     },
     "metadata": {
      "needs_background": "light"
     },
     "output_type": "display_data"
    }
   ],
   "source": [
    "plt.hist(predictions_global_deNormalized)\n",
    "plt.title('QuaLiKiz-NN Predictions (De-Normalized) Histogram')\n",
    "plt.xlabel('Values')\n",
    "plt.ylabel('Counts')\n",
    "# plt.savefig('./2018-07-10_Run0050b_DataSlicerPlot/NN_Predictions.png', dpi = 100)\n",
    "plt.show()"
   ]
  },
  {
   "cell_type": "code",
   "execution_count": 54,
   "metadata": {},
   "outputs": [
    {
     "name": "stdout",
     "output_type": "stream",
     "text": [
      "(63933,)\n"
     ]
    }
   ],
   "source": [
    "print(predictions_global.shape)"
   ]
  },
  {
   "cell_type": "code",
   "execution_count": 55,
   "metadata": {},
   "outputs": [
    {
     "data": {
      "image/png": "[encoded data removed]",
      "text/plain": [
       "<Figure size 432x288 with 1 Axes>"
      ]
     },
     "metadata": {
      "needs_background": "light"
     },
     "output_type": "display_data"
    }
   ],
   "source": [
    "plt.plot(y_test_deNormalized_np_array, predictions_global_deNormalized, 'r.', ms = 5, label = 'QuaLiKiz-NN')\n",
    "plt.title('QuaLiKiz-NN predictions (De-Normalized) (efeETG_GB) vs. QuaLiKiz (efeETG_GB)')\n",
    "plt.xlabel('QuaLiKiz')\n",
    "plt.ylabel('Neural Network')\n",
    "plt.show()"
   ]
  },
  {
   "cell_type": "code",
   "execution_count": 56,
   "metadata": {},
   "outputs": [
    {
     "data": {
      "image/png": "[encoded data removed]",
      "text/plain": [
       "<Figure size 432x288 with 2 Axes>"
      ]
     },
     "metadata": {
      "needs_background": "light"
     },
     "output_type": "display_data"
    }
   ],
   "source": [
    "plt.hist2d(y_test_deNormalized_np_array, predictions_global_deNormalized, bins=100, cmin=5)\n",
    "# plt.plot( [0,1],[0,1] )\n",
    "plt.title('QuaLiKiz vs Neural Network (De-Normalized) (non-log scale)')\n",
    "plt.xlabel('QuaLiKiz')\n",
    "plt.ylabel('Neural Network')\n",
    "plt.ylim(0)\n",
    "plt.xlim(0)\n",
    "cbar = plt.colorbar()\n",
    "cbar.ax.set_ylabel('Counts')\n",
    "# plt.savefig('./2018-07-10_Run0050b_DataSlicerPlot/QuaLiKiz-vs-NN_nonLogScale_bins100.png', dpi = 100)\n",
    "plt.show()"
   ]
  },
  {
   "cell_type": "markdown",
   "metadata": {},
   "source": [
    "### Sigmas (De-Normalized)"
   ]
  },
  {
   "cell_type": "code",
   "execution_count": 57,
   "metadata": {},
   "outputs": [
    {
     "data": {
      "image/png": "[encoded data removed]",
      "text/plain": [
       "<Figure size 432x288 with 1 Axes>"
      ]
     },
     "metadata": {
      "needs_background": "light"
     },
     "output_type": "display_data"
    }
   ],
   "source": [
    "h = plt.hist2d(y_test_np_array, predictions_global,bins = 100)"
   ]
  },
  {
   "cell_type": "code",
   "execution_count": 58,
   "metadata": {},
   "outputs": [
    {
     "data": {
      "image/png": "[encoded data removed]",
      "text/plain": [
       "<Figure size 432x288 with 1 Axes>"
      ]
     },
     "metadata": {
      "needs_background": "light"
     },
     "output_type": "display_data"
    }
   ],
   "source": [
    "h_deNormalized = plt.hist2d(y_test_deNormalized_np_array, predictions_global_deNormalized,bins = 100)"
   ]
  },
  {
   "cell_type": "code",
   "execution_count": 59,
   "metadata": {},
   "outputs": [
    {
     "name": "stderr",
     "output_type": "stream",
     "text": [
      "C:\\Users\\danie\\Anaconda3\\lib\\site-packages\\ipykernel_launcher.py:4: RuntimeWarning: invalid value encountered in true_divide\n",
      "  after removing the cwd from sys.path.\n"
     ]
    }
   ],
   "source": [
    "sigmas_deNormalized = []\n",
    "Qualikiz_deNormalized = y_test_deNormalized_np_array\n",
    "for i in range(len(h[0])):\n",
    "    sigmas_deNormalized.append(numpy.std(h_deNormalized[0][i] / numpy.max(h_deNormalized[0][i])))"
   ]
  },
  {
   "cell_type": "code",
   "execution_count": 60,
   "metadata": {},
   "outputs": [
    {
     "data": {
      "image/png": "[encoded data removed]",
      "text/plain": [
       "<Figure size 432x288 with 1 Axes>"
      ]
     },
     "metadata": {
      "needs_background": "light"
     },
     "output_type": "display_data"
    }
   ],
   "source": [
    "plt.plot((numpy.array(h_deNormalized[1][1:]) + numpy.array(h_deNormalized[1][:-1]))/2.,sigmas_deNormalized)\n",
    "plt.show()"
   ]
  },
  {
   "cell_type": "code",
   "execution_count": 61,
   "metadata": {},
   "outputs": [
    {
     "data": {
      "image/png": "[encoded data removed]",
      "text/plain": [
       "<Figure size 432x288 with 1 Axes>"
      ]
     },
     "metadata": {
      "needs_background": "light"
     },
     "output_type": "display_data"
    }
   ],
   "source": [
    "for i in range(10):\n",
    "    plt.plot((h_deNormalized[1][1:] + h_deNormalized[1][:-1])/2., h_deNormalized[0][i]/numpy.max(h_deNormalized[0][i]) )"
   ]
  },
  {
   "cell_type": "code",
   "execution_count": 62,
   "metadata": {},
   "outputs": [
    {
     "data": {
      "image/png": "[encoded data removed]",
      "text/plain": [
       "<Figure size 432x288 with 1 Axes>"
      ]
     },
     "metadata": {
      "needs_background": "light"
     },
     "output_type": "display_data"
    }
   ],
   "source": [
    "plt.plot(y_test_deNormalized_np_array, predictions_global_deNormalized - y_test_deNormalized_np_array, 'b.', ms = 0.5)\n",
    "plt.title('Neural Network predictions (De-Normalized) vs. QuaLiKiz input')\n",
    "plt.xlabel('QuaLiKiz')\n",
    "plt.ylabel('NN Predictions - QuaLiKiz')\n",
    "plt.show()"
   ]
  },
  {
   "cell_type": "code",
   "execution_count": 63,
   "metadata": {},
   "outputs": [
    {
     "data": {
      "image/png": "[encoded data removed]",
      "text/plain": [
       "<Figure size 432x288 with 1 Axes>"
      ]
     },
     "metadata": {
      "needs_background": "light"
     },
     "output_type": "display_data"
    }
   ],
   "source": [
    "plt.plot(y_test_deNormalized_np_array, predictions_global_deNormalized - y_test_deNormalized_np_array, 'b.', ms = 0.1, alpha=0.5)\n",
    "plt.title('Neural Network predictions vs. QuaLiKiz input (De-Normalized)')\n",
    "plt.xlabel('QuaLiKiz')\n",
    "plt.ylabel('NN Predictions - QuaLiKiz')\n",
    "plt.show()"
   ]
  },
  {
   "cell_type": "markdown",
   "metadata": {},
   "source": [
    "# Predictions (single Data Slice)"
   ]
  },
  {
   "cell_type": "markdown",
   "metadata": {},
   "source": [
    "### Predictions - Initialise table to feed predictions"
   ]
  },
  {
   "cell_type": "code",
   "execution_count": 64,
   "metadata": {},
   "outputs": [
    {
     "data": {
      "text/plain": [
       "array([[ 5.75      ,  2.        ,  3.        , ...,  0.7       ,\n",
       "         0.45      ,  1.33      ],\n",
       "       [ 5.75      ,  2.06030151,  3.        , ...,  0.7       ,\n",
       "         0.45      ,  1.33      ],\n",
       "       [ 5.75      ,  2.12060302,  3.        , ...,  0.7       ,\n",
       "         0.45      ,  1.33      ],\n",
       "       ...,\n",
       "       [ 5.75      , 13.87939698,  3.        , ...,  0.7       ,\n",
       "         0.45      ,  1.33      ],\n",
       "       [ 5.75      , 13.93969849,  3.        , ...,  0.7       ,\n",
       "         0.45      ,  1.33      ],\n",
       "       [ 5.75      , 14.        ,  3.        , ...,  0.7       ,\n",
       "         0.45      ,  1.33      ]])"
      ]
     },
     "execution_count": 64,
     "metadata": {},
     "output_type": "execute_result"
    }
   ],
   "source": [
    "# table (Original values from input file unstable_training_gen2_7D_nions0_flat_filter7.h5)\n",
    "# Hard-coded variables for the data slice\n",
    "\n",
    "table = numpy.zeros((200,7))\n",
    "\n",
    "table[:,0] = 5.75    # Ati\n",
    "table[:,1] = numpy.linspace(2,14,200)   # Ate\n",
    "table[:,2] = 3       # An\n",
    "table[:,3] = 3       # qx\n",
    "table[:,4] = 0.7     # smag\n",
    "table[:,5] = 0.45    # x\n",
    "table[:,6] = 1.33    # Ti_Te\n",
    "\n",
    "table"
   ]
  },
  {
   "cell_type": "code",
   "execution_count": 65,
   "metadata": {},
   "outputs": [],
   "source": [
    "# Normalized table (inputs for model.predict())\n",
    "table_normalized = numpy.zeros((200,7))\n",
    "\n",
    "DataSlice_Ati = 5.75\n",
    "DataSlice_Ate = numpy.linspace(2,14,200)\n",
    "DataSlice_An = 3\n",
    "DataSlice_q = 3\n",
    "DataSlice_smag = 0.7\n",
    "DataSlice_x = 0.45\n",
    "DataSlice_Ti_Te = 1.33\n",
    "\n",
    "# Normalize data by standard deviation and mean-centering the data\n",
    "table_normalized[:,0] = (DataSlice_Ati - joined_dataFrame_original['Ati'].mean()) / joined_dataFrame_original['Ati'].std()\n",
    "table_normalized[:,1] = (DataSlice_Ate - joined_dataFrame_original['Ate'].mean()) / joined_dataFrame_original['Ate'].std()\n",
    "table_normalized[:,2] = (DataSlice_An - joined_dataFrame_original['An'].mean()) / joined_dataFrame_original['An'].std()\n",
    "table_normalized[:,3] = (DataSlice_q - joined_dataFrame_original['q'].mean()) / joined_dataFrame_original['q'].std()\n",
    "table_normalized[:,4] = (DataSlice_smag - joined_dataFrame_original['smag'].mean()) / joined_dataFrame_original['smag'].std()\n",
    "table_normalized[:,5] = (DataSlice_x - joined_dataFrame_original['x'].mean()) / joined_dataFrame_original['x'].std()\n",
    "table_normalized[:,6] = (DataSlice_Ti_Te - joined_dataFrame_original['Ti_Te'].mean()) / joined_dataFrame_original['Ti_Te'].std()"
   ]
  },
  {
   "cell_type": "code",
   "execution_count": 66,
   "metadata": {},
   "outputs": [
    {
     "data": {
      "text/plain": [
       "array([[ 0.10626029, -2.15151054,  0.54563033, ...,  0.20304769,\n",
       "        -0.11922898, -0.06771865],\n",
       "       [ 0.10626029, -2.13158751,  0.54563033, ...,  0.20304769,\n",
       "        -0.11922898, -0.06771865],\n",
       "       [ 0.10626029, -2.11166448,  0.54563033, ...,  0.20304769,\n",
       "        -0.11922898, -0.06771865],\n",
       "       ...,\n",
       "       [ 0.10626029,  1.77332621,  0.54563033, ...,  0.20304769,\n",
       "        -0.11922898, -0.06771865],\n",
       "       [ 0.10626029,  1.79324924,  0.54563033, ...,  0.20304769,\n",
       "        -0.11922898, -0.06771865],\n",
       "       [ 0.10626029,  1.81317227,  0.54563033, ...,  0.20304769,\n",
       "        -0.11922898, -0.06771865]])"
      ]
     },
     "execution_count": 66,
     "metadata": {},
     "output_type": "execute_result"
    }
   ],
   "source": [
    "table_normalized"
   ]
  },
  {
   "cell_type": "code",
   "execution_count": 67,
   "metadata": {},
   "outputs": [],
   "source": [
    "# Normalized table (inputs for model.predict())\n",
    "table_branch1_normalized = numpy.zeros((200,6))\n",
    "\n",
    "DataSlice_Ati = 5.75\n",
    "#DataSlice_Ate = numpy.linspace(2,14,200)\n",
    "DataSlice_An = 3\n",
    "DataSlice_q = 3\n",
    "DataSlice_smag = 0.7\n",
    "DataSlice_x = 0.45\n",
    "DataSlice_Ti_Te = 1.33\n",
    "\n",
    "# Normalize data by standard deviation and mean-centering the data\n",
    "table_branch1_normalized[:,0] = (DataSlice_Ati - joined_dataFrame_original['Ati'].mean()) / joined_dataFrame_original['Ati'].std()\n",
    "#table_normalized[:,1] = (DataSlice_Ate - joined_dataFrame_original['Ate'].mean()) / joined_dataFrame_original['Ate'].std()\n",
    "table_branch1_normalized[:,1] = (DataSlice_An - joined_dataFrame_original['An'].mean()) / joined_dataFrame_original['An'].std()\n",
    "table_branch1_normalized[:,2] = (DataSlice_q - joined_dataFrame_original['q'].mean()) / joined_dataFrame_original['q'].std()\n",
    "table_branch1_normalized[:,3] = (DataSlice_smag - joined_dataFrame_original['smag'].mean()) / joined_dataFrame_original['smag'].std()\n",
    "table_branch1_normalized[:,4] = (DataSlice_x - joined_dataFrame_original['x'].mean()) / joined_dataFrame_original['x'].std()\n",
    "table_branch1_normalized[:,5] = (DataSlice_Ti_Te - joined_dataFrame_original['Ti_Te'].mean()) / joined_dataFrame_original['Ti_Te'].std()"
   ]
  },
  {
   "cell_type": "code",
   "execution_count": 68,
   "metadata": {},
   "outputs": [],
   "source": [
    "# Normalized table (inputs for model.predict())\n",
    "table_branch2_normalized = numpy.zeros((200,1))\n",
    "\n",
    "DataSlice_Ate = numpy.linspace(2,14,200)\n",
    "\n",
    "# Normalize data by standard deviation and mean-centering the data\n",
    "table_branch2_normalized[:,0] = (DataSlice_Ate - joined_dataFrame_original['Ate'].mean()) / joined_dataFrame_original['Ate'].std()"
   ]
  },
  {
   "cell_type": "code",
   "execution_count": 69,
   "metadata": {},
   "outputs": [
    {
     "name": "stdout",
     "output_type": "stream",
     "text": [
      "<class 'numpy.ndarray'>\n",
      "(200,)\n",
      "<class 'numpy.ndarray'>\n"
     ]
    }
   ],
   "source": [
    "predictions = new_model.predict([table_branch1_normalized] + [table_branch2_normalized], batch_size = 10, verbose=0)\n",
    "print(type(predictions))\n",
    "\n",
    "predictions = predictions.flatten()\n",
    "print(predictions.shape)\n",
    "print(type(predictions))"
   ]
  },
  {
   "cell_type": "code",
   "execution_count": 70,
   "metadata": {},
   "outputs": [
    {
     "data": {
      "image/png": "[encoded data removed]",
      "text/plain": [
       "<Figure size 432x288 with 1 Axes>"
      ]
     },
     "metadata": {
      "needs_background": "light"
     },
     "output_type": "display_data"
    }
   ],
   "source": [
    "plt.hist(predictions)\n",
    "plt.show()"
   ]
  },
  {
   "cell_type": "markdown",
   "metadata": {},
   "source": [
    "# Masks"
   ]
  },
  {
   "cell_type": "markdown",
   "metadata": {},
   "source": [
    "These are used to rapidly select which parameters to look at (for a given data slice)."
   ]
  },
  {
   "cell_type": "markdown",
   "metadata": {},
   "source": [
    "#### Ate"
   ]
  },
  {
   "cell_type": "code",
   "execution_count": 71,
   "metadata": {},
   "outputs": [],
   "source": [
    "Ate_mask1 = joined_dataFrame_original.Ate == 2\n",
    "Ate_mask2 = joined_dataFrame_original.Ate == 2.75\n",
    "Ate_mask3 = joined_dataFrame_original.Ate == 3.5\n",
    "Ate_mask4 = joined_dataFrame_original.Ate == 4.25\n",
    "Ate_mask5 = joined_dataFrame_original.Ate == 5\n",
    "Ate_mask6 = joined_dataFrame_original.Ate == 5.75\n",
    "Ate_mask7 = joined_dataFrame_original.Ate == 6.5\n",
    "Ate_mask8 = joined_dataFrame_original.Ate == 7.25\n",
    "Ate_mask9 = joined_dataFrame_original.Ate == 8\n",
    "Ate_mask10 = joined_dataFrame_original.Ate == 10\n",
    "Ate_mask11 = joined_dataFrame_original.Ate == 14\n",
    "\n",
    "Ate_anti_mask1 = joined_dataFrame_original.Ate != 2\n",
    "Ate_anti_mask2 = joined_dataFrame_original.Ate != 2.75\n",
    "Ate_anti_mask3 = joined_dataFrame_original.Ate != 3.5\n",
    "Ate_anti_mask4 = joined_dataFrame_original.Ate != 4.25\n",
    "Ate_anti_mask5 = joined_dataFrame_original.Ate != 5\n",
    "Ate_anti_mask6 = joined_dataFrame_original.Ate != 5.75\n",
    "Ate_anti_mask7 = joined_dataFrame_original.Ate != 6.5\n",
    "Ate_anti_mask8 = joined_dataFrame_original.Ate != 7.25\n",
    "Ate_anti_mask9 = joined_dataFrame_original.Ate != 8\n",
    "Ate_anti_mask10 = joined_dataFrame_original.Ate != 10\n",
    "Ate_anti_mask11 = joined_dataFrame_original.Ate != 14"
   ]
  },
  {
   "cell_type": "markdown",
   "metadata": {},
   "source": [
    "#### An"
   ]
  },
  {
   "cell_type": "code",
   "execution_count": 72,
   "metadata": {},
   "outputs": [],
   "source": [
    "An_mask1 = joined_dataFrame_original.An == -5\n",
    "An_mask2 = joined_dataFrame_original.An == -3\n",
    "An_mask3 = joined_dataFrame_original.An == -1\n",
    "An_mask4 = numpy.array(joined_dataFrame_original.An <= 1.1e-14) * numpy.array(joined_dataFrame_original.An >= 9E-15)\n",
    "An_mask5 = joined_dataFrame_original.An == 0.5\n",
    "An_mask6 = joined_dataFrame_original.An == 1.0\n",
    "An_mask7 = joined_dataFrame_original.An == 1.5\n",
    "An_mask8 = joined_dataFrame_original.An == 2.0\n",
    "An_mask9 = joined_dataFrame_original.An == 2.5\n",
    "An_mask10 = joined_dataFrame_original.An == 3.0\n",
    "An_mask11 = joined_dataFrame_original.An == 4.0\n",
    "An_mask12 = joined_dataFrame_original.An == 6.0\n",
    "\n",
    "An_anti_mask1 = joined_dataFrame_original.An != -5\n",
    "An_anti_mask2 = joined_dataFrame_original.An != -3\n",
    "An_anti_mask3 = joined_dataFrame_original.An != -1\n",
    "An_anti_mask4 = numpy.array(joined_dataFrame_original.An >= 1.1e-14) * numpy.array(joined_dataFrame_original.An <= 9E-15)\n",
    "An_anti_mask5 = joined_dataFrame_original.An != 0.5\n",
    "An_anti_mask6 = joined_dataFrame_original.An != 1.0\n",
    "An_anti_mask7 = joined_dataFrame_original.An != 1.5\n",
    "An_anti_mask8 = joined_dataFrame_original.An != 2.0\n",
    "An_anti_mask9 = joined_dataFrame_original.An != 2.5\n",
    "An_anti_mask10 = joined_dataFrame_original.An != 3.0\n",
    "An_anti_mask11 = joined_dataFrame_original.An != 4.0\n",
    "An_anti_mask12 = joined_dataFrame_original.An != 6.0"
   ]
  },
  {
   "cell_type": "markdown",
   "metadata": {},
   "source": [
    "#### Ati"
   ]
  },
  {
   "cell_type": "code",
   "execution_count": 73,
   "metadata": {},
   "outputs": [],
   "source": [
    "Ati_mask1 = numpy.array(joined_dataFrame_original.Ati <= 1.1e-14) * numpy.array(joined_dataFrame_original.Ati >= 9E-15)\n",
    "Ati_mask2 = joined_dataFrame_original.Ati == 2\n",
    "Ati_mask3 = joined_dataFrame_original.Ati == 2.75\n",
    "Ati_mask4 = joined_dataFrame_original.Ati == 3.5\n",
    "Ati_mask5 = joined_dataFrame_original.Ati == 4.25\n",
    "Ati_mask6 = joined_dataFrame_original.Ati == 5\n",
    "Ati_mask7 = joined_dataFrame_original.Ati == 5.75\n",
    "Ati_mask8 = joined_dataFrame_original.Ati == 6.5\n",
    "Ati_mask9 = joined_dataFrame_original.Ati == 7.25\n",
    "Ati_mask10 = joined_dataFrame_original.Ati == 8\n",
    "Ati_mask11 = joined_dataFrame_original.Ati == 10\n",
    "Ati_mask12 = joined_dataFrame_original.Ati == 14"
   ]
  },
  {
   "cell_type": "markdown",
   "metadata": {},
   "source": [
    "#### qx"
   ]
  },
  {
   "cell_type": "code",
   "execution_count": 74,
   "metadata": {},
   "outputs": [],
   "source": [
    "q_mask0 = numpy.array(joined_dataFrame_original.q <= 0.67) * numpy.array(joined_dataFrame_original.q >= 0.65)  #0.66\n",
    "q_mask1 = joined_dataFrame_original.q == 1.0\n",
    "q_mask2 = joined_dataFrame_original.q == 1.5\n",
    "q_mask3 = joined_dataFrame_original.q == 2.0\n",
    "q_mask4 = joined_dataFrame_original.q == 2.5\n",
    "q_mask5 = joined_dataFrame_original.q == 3.0\n",
    "q_mask6 = joined_dataFrame_original.q == 4.0\n",
    "q_mask7 = joined_dataFrame_original.q == 5.0\n",
    "q_mask8 = joined_dataFrame_original.q == 10.00\n",
    "q_mask9 = joined_dataFrame_original.q == 15.00\n",
    "\n",
    "q_anti_mask0 = numpy.array(joined_dataFrame_original.q >= 0.67) * numpy.array(joined_dataFrame_original.q <= 0.65)  #0.66\n",
    "q_anti_mask1 = joined_dataFrame_original.q != 1.0\n",
    "q_anti_mask2 = joined_dataFrame_original.q != 1.5\n",
    "q_anti_mask3 = joined_dataFrame_original.q != 2.0\n",
    "q_anti_mask4 = joined_dataFrame_original.q != 2.5\n",
    "q_anti_mask5 = joined_dataFrame_original.q != 3.0\n",
    "q_anti_mask6 = joined_dataFrame_original.q != 4.0\n",
    "q_anti_mask7 = joined_dataFrame_original.q != 5.0\n",
    "q_anti_mask8 = joined_dataFrame_original.q != 10.00\n",
    "q_anti_mask9 = joined_dataFrame_original.q != 15.00"
   ]
  },
  {
   "cell_type": "markdown",
   "metadata": {},
   "source": [
    "#### smag"
   ]
  },
  {
   "cell_type": "code",
   "execution_count": 75,
   "metadata": {},
   "outputs": [],
   "source": [
    "smag_mask1 = joined_dataFrame_original.smag == -1.0\n",
    "smag_mask2 = numpy.array(joined_dataFrame_original.smag <= 0.11) * numpy.array(joined_dataFrame_original.smag >= 0.09)   # 0.1\n",
    "smag_mask3 = numpy.array(joined_dataFrame_original.smag <= 0.41) * numpy.array(joined_dataFrame_original.smag >= 0.39)   # 0.4\n",
    "smag_mask4 = numpy.array(joined_dataFrame_original.smag <= 0.71) * numpy.array(joined_dataFrame_original.smag >= 0.68)   # 0.7\n",
    "smag_mask5 = joined_dataFrame_original.smag == 1\n",
    "smag_mask6 = joined_dataFrame_original.smag == 1.5\n",
    "smag_mask7 = joined_dataFrame_original.smag == 2.0\n",
    "smag_mask8 = joined_dataFrame_original.smag == 2.75\n",
    "smag_mask9 = joined_dataFrame_original.smag == 3.5\n",
    "smag_mask10 = joined_dataFrame_original.smag == 5.0\n",
    "\n",
    "smag_anti_mask1 = joined_dataFrame_original.smag != -1.0\n",
    "smag_anti_mask2 = numpy.array(joined_dataFrame_original.smag >= 0.11) * numpy.array(joined_dataFrame_original.smag <= 0.09)   # 0.1\n",
    "smag_anti_mask3 = numpy.array(joined_dataFrame_original.smag >= 0.41) * numpy.array(joined_dataFrame_original.smag <= 0.39)   # 0.4\n",
    "smag_anti_mask4 = numpy.array(joined_dataFrame_original.smag >= 0.71) * numpy.array(joined_dataFrame_original.smag <= 0.68)   # 0.7\n",
    "smag_anti_mask5 = joined_dataFrame_original.smag != 1\n",
    "smag_anti_mask6 = joined_dataFrame_original.smag != 1.5\n",
    "smag_anti_mask7 = joined_dataFrame_original.smag != 2.0\n",
    "smag_anti_mask8 = joined_dataFrame_original.smag != 2.75\n",
    "smag_anti_mask9 = joined_dataFrame_original.smag != 3.5\n",
    "smag_anti_mask10 = joined_dataFrame_original.smag != 5.0"
   ]
  },
  {
   "cell_type": "markdown",
   "metadata": {},
   "source": [
    "#### x"
   ]
  },
  {
   "cell_type": "code",
   "execution_count": 76,
   "metadata": {},
   "outputs": [],
   "source": [
    "x_mask1 = numpy.array(joined_dataFrame_original.x <= 0.10) * numpy.array(joined_dataFrame_original.x >= 0.08)   # 0.09\n",
    "x_mask2 = numpy.array(joined_dataFrame_original.x <= 0.22) * numpy.array(joined_dataFrame_original.x >= 0.20)   # 0.21\n",
    "x_mask3 = numpy.array(joined_dataFrame_original.x <= 0.34) * numpy.array(joined_dataFrame_original.x >= 0.32)   # 0.33\n",
    "x_mask4 = numpy.array(joined_dataFrame_original.x <= 0.46) * numpy.array(joined_dataFrame_original.x >= 0.44)   # 0.45\n",
    "x_mask5 = numpy.array(joined_dataFrame_original.x <= 0.58) * numpy.array(joined_dataFrame_original.x >= 0.56)   # 0.57\n",
    "x_mask6 = numpy.array(joined_dataFrame_original.x <= 0.70) * numpy.array(joined_dataFrame_original.x >= 0.68)   # 0.69\n",
    "x_mask7 = numpy.array(joined_dataFrame_original.x <= 0.85) * numpy.array(joined_dataFrame_original.x >= 0.83)   # 0.84\n",
    "x_mask8 = numpy.array(joined_dataFrame_original.x <= 1.00) * numpy.array(joined_dataFrame_original.x >= 0.98)   # 0.99\n",
    "x_mask = {0.09: x_mask1}\n",
    "\n",
    "x_anti_mask1 = numpy.array(joined_dataFrame_original.x >= 0.10) * numpy.array(joined_dataFrame_original.x <= 0.08)   # 0.09\n",
    "x_anti_mask2 = numpy.array(joined_dataFrame_original.x >= 0.22) * numpy.array(joined_dataFrame_original.x <= 0.20)   # 0.21\n",
    "x_anti_mask3 = numpy.array(joined_dataFrame_original.x >= 0.34) * numpy.array(joined_dataFrame_original.x <= 0.32)   # 0.33\n",
    "x_anti_mask4 = numpy.array(joined_dataFrame_original.x >= 0.46) * numpy.array(joined_dataFrame_original.x <= 0.44)   # 0.45\n",
    "x_anti_mask5 = numpy.array(joined_dataFrame_original.x >= 0.58) * numpy.array(joined_dataFrame_original.x <= 0.56)   # 0.57\n",
    "x_anti_mask6 = numpy.array(joined_dataFrame_original.x >= 0.70) * numpy.array(joined_dataFrame_original.x <= 0.68)   # 0.69\n",
    "x_anti_mask7 = numpy.array(joined_dataFrame_original.x >= 0.85) * numpy.array(joined_dataFrame_original.x <= 0.83)   # 0.84\n",
    "x_anti_mask8 = numpy.array(joined_dataFrame_original.x >= 1.00) * numpy.array(joined_dataFrame_original.x <= 0.98)   # 0.99"
   ]
  },
  {
   "cell_type": "markdown",
   "metadata": {},
   "source": [
    "#### Ti_Te"
   ]
  },
  {
   "cell_type": "code",
   "execution_count": 77,
   "metadata": {},
   "outputs": [],
   "source": [
    "Ti_Te_mask1 = joined_dataFrame_original.Ti_Te == 0.25\n",
    "Ti_Te_mask2 = joined_dataFrame_original.Ti_Te == 0.5\n",
    "Ti_Te_mask3 = joined_dataFrame_original.Ti_Te == 0.75\n",
    "Ti_Te_mask4 = joined_dataFrame_original.Ti_Te == 1\n",
    "Ti_Te_mask5 = numpy.array(joined_dataFrame_original.Ti_Te <= 1.34) * numpy.array(joined_dataFrame_original.Ti_Te >= 1.32)   # 1.33\n",
    "Ti_Te_mask6 = numpy.array(joined_dataFrame_original.Ti_Te <= 1.67) * numpy.array(joined_dataFrame_original.Ti_Te >= 1.65)   # 1.66\n",
    "Ti_Te_mask7 = joined_dataFrame_original.Ti_Te == 2.50"
   ]
  },
  {
   "cell_type": "markdown",
   "metadata": {},
   "source": [
    "# Plots"
   ]
  },
  {
   "cell_type": "markdown",
   "metadata": {},
   "source": [
    "## Slice 1"
   ]
  },
  {
   "cell_type": "code",
   "execution_count": 78,
   "metadata": {},
   "outputs": [
    {
     "name": "stdout",
     "output_type": "stream",
     "text": [
      "          efeETG_GB      Ati       Ate       An         q      smag         x  \\\n",
      "38605537  -0.813469  0.10626 -1.408133  0.54563 -0.320344  0.203048 -0.119229   \n",
      "48067081  -0.557189  0.10626 -1.160340  0.54563 -0.320344  0.203048 -0.119229   \n",
      "33674185   1.642665  0.10626 -0.416962  0.54563 -0.320344  0.203048 -0.119229   \n",
      "\n",
      "             Ti_Te  \n",
      "38605537 -0.067719  \n",
      "48067081 -0.067719  \n",
      "33674185 -0.067719  \n",
      "<class 'pandas.core.frame.DataFrame'>\n",
      "          efeETG_GB   Ati   Ate   An    q  smag     x  Ti_Te\n",
      "38605537   7.413384  5.75  4.25  3.0  3.0   0.7  0.45   1.33\n",
      "48067081  13.286460  5.75  5.00  3.0  3.0   0.7  0.45   1.33\n",
      "33674185  63.699650  5.75  7.25  3.0  3.0   0.7  0.45   1.33\n",
      "<class 'pandas.core.frame.DataFrame'>\n"
     ]
    }
   ],
   "source": [
    "'''\n",
    "{'An': 3,\n",
    "'Ati': 5.75,\n",
    "'Ti_Te': 1.33,\n",
    "'q': 3,\n",
    "'smag': 0.7,\n",
    "'x': 0.45}\n",
    "'''\n",
    "newDF = joined_dataFrame[An_mask10 & Ati_mask7 & q_mask5 & smag_mask4 & x_mask4 & Ti_Te_mask5]  # Variable \n",
    "newDF_Mk2 = joined_dataFrame_original[An_mask10 & Ati_mask7 & q_mask5 & smag_mask4 & x_mask4 & Ti_Te_mask5]  # Variable \n",
    "print(newDF)\n",
    "print(type(newDF))\n",
    "\n",
    "print(newDF_Mk2)\n",
    "print(type(newDF_Mk2))"
   ]
  },
  {
   "cell_type": "code",
   "execution_count": 79,
   "metadata": {},
   "outputs": [
    {
     "name": "stdout",
     "output_type": "stream",
     "text": [
      "[-0.81346937 -0.55718902  1.642665  ]\n",
      "[-1.40813251 -1.16033984 -0.41696181]\n"
     ]
    }
   ],
   "source": [
    "efeETG_DF = newDF['efeETG_GB']\n",
    "efeETG_DF_np_array = efeETG_DF.values\n",
    "print(efeETG_DF_np_array)\n",
    "\n",
    "Ate_DF = newDF['Ate']\n",
    "Ate_DF_np_array = Ate_DF.values\n",
    "print(Ate_DF_np_array)"
   ]
  },
  {
   "cell_type": "code",
   "execution_count": 80,
   "metadata": {},
   "outputs": [
    {
     "name": "stdout",
     "output_type": "stream",
     "text": [
      "[ 7.413384 13.28646  63.69965 ]\n",
      "[4.25 5.   7.25]\n"
     ]
    }
   ],
   "source": [
    "efeETG_DF_Mk2 = newDF_Mk2['efeETG_GB']\n",
    "efeETG_DF_Mk2_np_array = efeETG_DF_Mk2.values\n",
    "print(efeETG_DF_Mk2_np_array)\n",
    "\n",
    "Ate_DF_Mk2 = newDF_Mk2['Ate']\n",
    "Ate_DF_Mk2_np_array = Ate_DF_Mk2.values\n",
    "print(Ate_DF_Mk2_np_array)"
   ]
  },
  {
   "cell_type": "code",
   "execution_count": 81,
   "metadata": {},
   "outputs": [
    {
     "data": {
      "image/png": "[encoded data removed]",
      "text/plain": [
       "<Figure size 432x288 with 1 Axes>"
      ]
     },
     "metadata": {
      "needs_background": "light"
     },
     "output_type": "display_data"
    }
   ],
   "source": [
    "efeETG_DF = newDF['efeETG_GB']\n",
    "Ate_DF = newDF['Ate']\n",
    "plt.plot(table_normalized[:,1], predictions, 'r.', ms = 5, label = 'QuaLiKiz-NN')\n",
    "plt.plot(Ate_DF_np_array, efeETG_DF_np_array, 'b.', ms = 5, label = 'QuaLiKiz')\n",
    "plt.title('Data Slice NN vs. QuaLiKiz (Non-Normalized)')\n",
    "plt.xlabel('Ate')\n",
    "plt.ylabel('efeETG_GB')\n",
    "plt.legend()\n",
    "plt.show()"
   ]
  },
  {
   "cell_type": "code",
   "execution_count": 82,
   "metadata": {},
   "outputs": [
    {
     "name": "stdout",
     "output_type": "stream",
     "text": [
      "(200,)\n"
     ]
    }
   ],
   "source": [
    "predictions_deNormalized = (predictions * joined_dataFrame_original['efeETG_GB'].std()) + joined_dataFrame_original['efeETG_GB'].mean()\n",
    "print(predictions_deNormalized.shape)"
   ]
  },
  {
   "cell_type": "code",
   "execution_count": 83,
   "metadata": {},
   "outputs": [
    {
     "data": {
      "image/png": "[encoded data removed]",
      "text/plain": [
       "<Figure size 432x288 with 1 Axes>"
      ]
     },
     "metadata": {
      "needs_background": "light"
     },
     "output_type": "display_data"
    }
   ],
   "source": [
    "plt.plot(table[:,1], predictions_deNormalized, 'r-', ms = 5, label = 'QuaLiKiz-NN')\n",
    "plt.plot(Ate_DF_Mk2_np_array, efeETG_DF_Mk2_np_array, 'b.', ms = 5, label = 'QuaLiKiz')\n",
    "plt.title('Data Slice NN vs. QuaLiKiz (De-Normalized)')\n",
    "plt.ylim(-15, 110)\n",
    "plt.xlabel('Ate')\n",
    "plt.ylabel('efeETG_GB')\n",
    "plt.legend()\n",
    "# plt.savefig('./2018-07-19_Plotting-Clean-Run0054/NN_Predictions.png', dpi = 100)\n",
    "plt.show()"
   ]
  },
  {
   "cell_type": "code",
   "execution_count": null,
   "metadata": {},
   "outputs": [],
   "source": [
    "plt.plot(table[:,1], predictions_deNormalized, 'r-', ms = 5, label = 'QuaLiKiz-NN')\n",
    "plt.plot(Ate_DF_Mk2_np_array, efeETG_DF_Mk2_np_array, 'b.', ms = 5, label = 'QuaLiKiz')\n",
    "plt.title('Data Slice NN vs. QuaLiKiz (De-Normalized)')\n",
    "#plt.ylim(-15, 110)\n",
    "plt.xlabel('Ate')\n",
    "plt.ylabel('efeETG_GB')\n",
    "plt.legend()\n",
    "# plt.savefig('./2018-07-19_Plotting-Clean-Run0054/NN_Predictions.png', dpi = 100)\n",
    "plt.show()"
   ]
  },
  {
   "cell_type": "markdown",
   "metadata": {},
   "source": [
    "## Slice 2"
   ]
  },
  {
   "cell_type": "code",
   "execution_count": null,
   "metadata": {},
   "outputs": [],
   "source": [
    "# TODO"
   ]
  },
  {
   "cell_type": "code",
   "execution_count": null,
   "metadata": {},
   "outputs": [],
   "source": []
  }
 ],
 "metadata": {
  "kernelspec": {
   "display_name": "Python 3",
   "language": "python",
   "name": "python3"
  },
  "language_info": {
   "codemirror_mode": {
    "name": "ipython",
    "version": 3
   },
   "file_extension": ".py",
   "mimetype": "text/x-python",
   "name": "python",
   "nbconvert_exporter": "python",
   "pygments_lexer": "ipython3",
   "version": "3.6.6"
  }
 },
 "nbformat": 4,
 "nbformat_minor": 2
}
