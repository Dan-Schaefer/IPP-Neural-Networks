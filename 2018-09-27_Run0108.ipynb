{
 "cells": [
  {
   "cell_type": "markdown",
   "metadata": {},
   "source": [
    "# Run Objective:"
   ]
  },
  {
   "cell_type": "markdown",
   "metadata": {},
   "source": [
    "Added the following:\n",
    "-  Run0104 based model\n",
    "\n",
    "-  theta = 0.3"
   ]
  },
  {
   "cell_type": "code",
   "execution_count": null,
   "metadata": {},
   "outputs": [],
   "source": [
    "# DO NOT RUN THIS PART"
   ]
  },
  {
   "cell_type": "code",
   "execution_count": null,
   "metadata": {},
   "outputs": [],
   "source": [
    "import os\n",
    "import sys\n",
    "import time\n",
    "\n",
    "# Gets the current file name. Useful for procedurally generating output/log files.\n",
    "file_name =  os.path.basename(sys.argv[0][:-3])\n",
    "print(file_name)\n",
    "\n",
    "if file_name == \"ipykernel_launcher\":\n",
    "    print(\"This is the Jupyter version.\")\n",
    "    print(\"Now MANUALLY run the next two cells!\")\n",
    "    print(\"STOP! This should not be in your code!!\")\n",
    "    exit(0)\n",
    "    time.sleep(10)\n",
    "    print(\"Testing if script has really stopped.\")\n",
    "else:\n",
    "    print(\"This is the Atom version\")"
   ]
  },
  {
   "cell_type": "code",
   "execution_count": 1,
   "metadata": {},
   "outputs": [],
   "source": [
    "# RUN ONLY IN JUPYTER!!\n",
    "# Start here (manual)"
   ]
  },
  {
   "cell_type": "code",
   "execution_count": 2,
   "metadata": {},
   "outputs": [
    {
     "data": {
      "application/javascript": [
       "IPython.notebook.kernel.execute('file_name = \"' + IPython.notebook.notebook_name + '\"');"
      ],
      "text/plain": [
       "<IPython.core.display.Javascript object>"
      ]
     },
     "metadata": {},
     "output_type": "display_data"
    }
   ],
   "source": [
    "%%javascript\n",
    "IPython.notebook.kernel.execute('file_name = \"' + IPython.notebook.notebook_name + '\"');"
   ]
  },
  {
   "cell_type": "code",
   "execution_count": 3,
   "metadata": {},
   "outputs": [
    {
     "name": "stdout",
     "output_type": "stream",
     "text": [
      "2018-09-27_Run0108.ipynb\n"
     ]
    }
   ],
   "source": [
    "print(file_name)"
   ]
  },
  {
   "cell_type": "code",
   "execution_count": 4,
   "metadata": {},
   "outputs": [
    {
     "name": "stdout",
     "output_type": "stream",
     "text": [
      "2018-09-27_Run0108\n",
      "True\n"
     ]
    }
   ],
   "source": [
    "file_name = file_name[:-6]\n",
    "print(file_name)\n",
    "\n",
    "is_Jupyter = True\n",
    "print(is_Jupyter)"
   ]
  },
  {
   "cell_type": "code",
   "execution_count": null,
   "metadata": {},
   "outputs": [],
   "source": []
  },
  {
   "cell_type": "code",
   "execution_count": 5,
   "metadata": {},
   "outputs": [],
   "source": [
    "# Same code for both ATOM & JUPYTER from now (Run all cells below now)"
   ]
  },
  {
   "cell_type": "code",
   "execution_count": 6,
   "metadata": {},
   "outputs": [
    {
     "name": "stderr",
     "output_type": "stream",
     "text": [
      "Using TensorFlow backend.\n"
     ]
    }
   ],
   "source": [
    "'''\n",
    "Late Fusion Module (test) - Functional API\n",
    "'''\n",
    "\n",
    "# Multiple Inputs\n",
    "import keras\n",
    "from keras.optimizers import RMSprop, adam, Adam\n",
    "from keras.initializers import TruncatedNormal, glorot_normal\n",
    "from keras.utils import plot_model\n",
    "from keras.models import Model\n",
    "from keras.layers import Input\n",
    "from keras.layers import Dense\n",
    "from keras.layers.merge import concatenate\n",
    "from keras import regularizers\n",
    "from keras import backend as K\n",
    "from keras.backend import switch\n",
    "import pandas\n",
    "import numpy\n",
    "import sys\n",
    "import os\n",
    "from copy import deepcopy\n",
    "import tensorflow as tf\n",
    "from keras.utils.generic_utils import get_custom_objects\n",
    "from keras.layers.advanced_activations import ThresholdedReLU\n",
    "\n",
    "keras.backend.clear_session()"
   ]
  },
  {
   "cell_type": "code",
   "execution_count": 7,
   "metadata": {},
   "outputs": [],
   "source": [
    "# Define new Metric: rmse = Root Mean Square Error\n",
    "def rmse(y_true, y_pred):\n",
    "    return K.sqrt(K.mean(K.square( y_true-y_pred )))"
   ]
  },
  {
   "cell_type": "code",
   "execution_count": null,
   "metadata": {},
   "outputs": [],
   "source": []
  },
  {
   "cell_type": "code",
   "execution_count": 8,
   "metadata": {},
   "outputs": [],
   "source": [
    "# Modify for ATOM use"
   ]
  },
  {
   "cell_type": "code",
   "execution_count": 9,
   "metadata": {},
   "outputs": [],
   "source": [
    "if is_Jupyter == True:\n",
    "    pass\n",
    "else:\n",
    "    # Gets the current file name. Useful for procedurally generating output/log files.\n",
    "    file_name =  os.path.basename(sys.argv[0][:-3])"
   ]
  },
  {
   "cell_type": "code",
   "execution_count": null,
   "metadata": {},
   "outputs": [],
   "source": []
  },
  {
   "cell_type": "code",
   "execution_count": 10,
   "metadata": {},
   "outputs": [],
   "source": [
    "# Define neural network parameters\n",
    "batch_size = 10\n",
    "#num_classes = 1\n",
    "epochs = 100"
   ]
  },
  {
   "cell_type": "code",
   "execution_count": 11,
   "metadata": {},
   "outputs": [],
   "source": [
    "# Load Data (which is in HDF5 or .h5 format)\n",
    "store = pandas.HDFStore(\"unstable_training_gen3_7D_nions0_flat_filter8.h5\")\n",
    "target_df = store['/output/efeETG_GB'].to_frame()  # This one is relatively easy to train\n",
    "input_df = store['input']\n",
    "\n",
    "# Puts inputs and outputs in the same pandas dataframe.\n",
    "# Also only keeps overlapping entries.\n",
    "joined_dataFrame = target_df.join(input_df)\n",
    "\n",
    "# Make a copy of joined_dataFrame for later use\n",
    "joined_dataFrame_original = deepcopy(joined_dataFrame)\n",
    "\n",
    "\n",
    "# *************************************************************************** #\n",
    "# Normalize data by standard deviation and mean-centering the data\n",
    "# Standard configuration\n",
    "joined_dataFrame['efeETG_GB'] = (joined_dataFrame['efeETG_GB'] - joined_dataFrame['efeETG_GB'].mean()) / joined_dataFrame['efeETG_GB'].std()\n",
    "joined_dataFrame['Ati'] = (joined_dataFrame['Ati'] - joined_dataFrame['Ati'].mean()) / joined_dataFrame['Ati'].std()\n",
    "joined_dataFrame['Ate'] = (joined_dataFrame['Ate'] - joined_dataFrame['Ate'].mean()) / joined_dataFrame['Ate'].std()\n",
    "joined_dataFrame['An'] = (joined_dataFrame['An'] - joined_dataFrame['An'].mean()) / joined_dataFrame['An'].std()\n",
    "joined_dataFrame['q'] = (joined_dataFrame['q'] - joined_dataFrame['q'].mean()) / joined_dataFrame['q'].std()\n",
    "joined_dataFrame['smag'] = (joined_dataFrame['smag'] - joined_dataFrame['smag'].mean()) / joined_dataFrame['smag'].std()\n",
    "joined_dataFrame['x'] = (joined_dataFrame['x'] - joined_dataFrame['x'].mean()) / joined_dataFrame['x'].std()\n",
    "joined_dataFrame['Ti_Te'] = (joined_dataFrame['Ti_Te'] - joined_dataFrame['Ti_Te'].mean()) / joined_dataFrame['Ti_Te'].std()\n",
    "\n",
    "# Shuffles dataset\n",
    "shuffled_joined_dataFrame = joined_dataFrame.reindex(numpy.random.permutation(\n",
    "                                                joined_dataFrame.index))\n",
    "\n",
    "# Creates a pandas dataframe for the outputs\n",
    "shuffled_clean_output_df = shuffled_joined_dataFrame['efeETG_GB']\n",
    "\n",
    "# Make a copy of shuffled_joined_dataFrame for later use\n",
    "shuffled_joined_dataFrame_base = deepcopy(shuffled_joined_dataFrame)\n",
    "\n",
    "\n",
    "\n",
    "# *************************************************************************** #\n",
    "# Creates a pandas dataframe for the inputs (7D)\n",
    "shuffled_clean_input_df_7D = shuffled_joined_dataFrame.drop('efeETG_GB', axis=1)\n",
    "\n",
    "# Creates training dataset (90% of total data) for outputs\n",
    "y_train = shuffled_clean_output_df.iloc[:int(\n",
    "    numpy.round(len(shuffled_clean_output_df)*0.9))]\n",
    "\n",
    "# Creates training dataset (90% of total data) for inputs\n",
    "x_train = shuffled_clean_input_df_7D.iloc[:int(\n",
    "    numpy.round(len(shuffled_clean_input_df_7D)*0.9))]\n",
    "\n",
    "# Creates testing dataset (10% of total data) for outputs\n",
    "y_test = shuffled_clean_output_df.iloc[int(\n",
    "    numpy.round(len(shuffled_clean_output_df)*0.9)):]\n",
    "\n",
    "# Creates testing dataset (10% of total data) for inputs\n",
    "x_test = shuffled_clean_input_df_7D.iloc[int(\n",
    "    numpy.round(len(shuffled_clean_input_df_7D)*0.9)):]\n",
    "# *************************************************************************** #\n",
    "\n",
    "\n",
    "# Deletes pandas dataframes that are no longer needed\n",
    "del target_df, input_df\n",
    "\n",
    "# Closes the HDFStore. This is good practice.\n",
    "store.close()\n"
   ]
  },
  {
   "cell_type": "code",
   "execution_count": 12,
   "metadata": {},
   "outputs": [
    {
     "data": {
      "text/html": [
       "<div>\n",
       "<style scoped>\n",
       "    .dataframe tbody tr th:only-of-type {\n",
       "        vertical-align: middle;\n",
       "    }\n",
       "\n",
       "    .dataframe tbody tr th {\n",
       "        vertical-align: top;\n",
       "    }\n",
       "\n",
       "    .dataframe thead th {\n",
       "        text-align: right;\n",
       "    }\n",
       "</style>\n",
       "<table border=\"1\" class=\"dataframe\">\n",
       "  <thead>\n",
       "    <tr style=\"text-align: right;\">\n",
       "      <th></th>\n",
       "      <th>Ati</th>\n",
       "      <th>Ate</th>\n",
       "      <th>An</th>\n",
       "      <th>q</th>\n",
       "      <th>smag</th>\n",
       "      <th>x</th>\n",
       "      <th>Ti_Te</th>\n",
       "    </tr>\n",
       "  </thead>\n",
       "  <tbody>\n",
       "    <tr>\n",
       "      <th>count</th>\n",
       "      <td>6.393280e+05</td>\n",
       "      <td>6.393280e+05</td>\n",
       "      <td>6.393280e+05</td>\n",
       "      <td>6.393280e+05</td>\n",
       "      <td>6.393280e+05</td>\n",
       "      <td>6.393280e+05</td>\n",
       "      <td>6.393280e+05</td>\n",
       "    </tr>\n",
       "    <tr>\n",
       "      <th>mean</th>\n",
       "      <td>1.633424e-12</td>\n",
       "      <td>-6.496300e-13</td>\n",
       "      <td>-4.409594e-14</td>\n",
       "      <td>3.983713e-14</td>\n",
       "      <td>-8.762553e-14</td>\n",
       "      <td>2.687112e-14</td>\n",
       "      <td>5.456717e-14</td>\n",
       "    </tr>\n",
       "    <tr>\n",
       "      <th>std</th>\n",
       "      <td>1.000000e+00</td>\n",
       "      <td>1.000000e+00</td>\n",
       "      <td>1.000000e+00</td>\n",
       "      <td>1.000000e+00</td>\n",
       "      <td>1.000000e+00</td>\n",
       "      <td>1.000000e+00</td>\n",
       "      <td>1.000000e+00</td>\n",
       "    </tr>\n",
       "    <tr>\n",
       "      <th>min</th>\n",
       "      <td>-1.848237e+00</td>\n",
       "      <td>-2.151511e+00</td>\n",
       "      <td>-4.175202e+00</td>\n",
       "      <td>-8.733971e-01</td>\n",
       "      <td>-1.264253e+00</td>\n",
       "      <td>-1.375717e+00</td>\n",
       "      <td>-1.667450e+00</td>\n",
       "    </tr>\n",
       "    <tr>\n",
       "      <th>25%</th>\n",
       "      <td>-6.585430e-01</td>\n",
       "      <td>-6.647545e-01</td>\n",
       "      <td>-6.345777e-01</td>\n",
       "      <td>-6.748652e-01</td>\n",
       "      <td>-3.148231e-01</td>\n",
       "      <td>-9.568879e-01</td>\n",
       "      <td>-9.268335e-01</td>\n",
       "    </tr>\n",
       "    <tr>\n",
       "      <th>50%</th>\n",
       "      <td>-1.486741e-01</td>\n",
       "      <td>-1.691691e-01</td>\n",
       "      <td>-4.447369e-02</td>\n",
       "      <td>-4.385177e-01</td>\n",
       "      <td>-5.588771e-02</td>\n",
       "      <td>-1.192290e-01</td>\n",
       "      <td>-6.771858e-02</td>\n",
       "    </tr>\n",
       "    <tr>\n",
       "      <th>75%</th>\n",
       "      <td>6.161291e-01</td>\n",
       "      <td>4.916113e-01</td>\n",
       "      <td>5.456303e-01</td>\n",
       "      <td>1.523511e-01</td>\n",
       "      <td>4.619831e-01</td>\n",
       "      <td>7.184299e-01</td>\n",
       "      <td>4.210880e-01</td>\n",
       "    </tr>\n",
       "    <tr>\n",
       "      <th>max</th>\n",
       "      <td>2.910539e+00</td>\n",
       "      <td>1.813172e+00</td>\n",
       "      <td>2.315942e+00</td>\n",
       "      <td>2.515826e+00</td>\n",
       "      <td>3.914455e+00</td>\n",
       "      <td>1.765503e+00</td>\n",
       "      <td>1.665323e+00</td>\n",
       "    </tr>\n",
       "  </tbody>\n",
       "</table>\n",
       "</div>"
      ],
      "text/plain": [
       "                Ati           Ate            An             q          smag  \\\n",
       "count  6.393280e+05  6.393280e+05  6.393280e+05  6.393280e+05  6.393280e+05   \n",
       "mean   1.633424e-12 -6.496300e-13 -4.409594e-14  3.983713e-14 -8.762553e-14   \n",
       "std    1.000000e+00  1.000000e+00  1.000000e+00  1.000000e+00  1.000000e+00   \n",
       "min   -1.848237e+00 -2.151511e+00 -4.175202e+00 -8.733971e-01 -1.264253e+00   \n",
       "25%   -6.585430e-01 -6.647545e-01 -6.345777e-01 -6.748652e-01 -3.148231e-01   \n",
       "50%   -1.486741e-01 -1.691691e-01 -4.447369e-02 -4.385177e-01 -5.588771e-02   \n",
       "75%    6.161291e-01  4.916113e-01  5.456303e-01  1.523511e-01  4.619831e-01   \n",
       "max    2.910539e+00  1.813172e+00  2.315942e+00  2.515826e+00  3.914455e+00   \n",
       "\n",
       "                  x         Ti_Te  \n",
       "count  6.393280e+05  6.393280e+05  \n",
       "mean   2.687112e-14  5.456717e-14  \n",
       "std    1.000000e+00  1.000000e+00  \n",
       "min   -1.375717e+00 -1.667450e+00  \n",
       "25%   -9.568879e-01 -9.268335e-01  \n",
       "50%   -1.192290e-01 -6.771858e-02  \n",
       "75%    7.184299e-01  4.210880e-01  \n",
       "max    1.765503e+00  1.665323e+00  "
      ]
     },
     "execution_count": 12,
     "metadata": {},
     "output_type": "execute_result"
    }
   ],
   "source": [
    "shuffled_clean_input_df_7D.describe(include='all')"
   ]
  },
  {
   "cell_type": "code",
   "execution_count": 13,
   "metadata": {},
   "outputs": [],
   "source": [
    "# Creates a pandas dataframe for the inputs\n",
    "shuffled_clean_input_df_1 = shuffled_clean_input_df_7D.drop('Ate', axis=1)"
   ]
  },
  {
   "cell_type": "code",
   "execution_count": 14,
   "metadata": {},
   "outputs": [
    {
     "data": {
      "text/html": [
       "<div>\n",
       "<style scoped>\n",
       "    .dataframe tbody tr th:only-of-type {\n",
       "        vertical-align: middle;\n",
       "    }\n",
       "\n",
       "    .dataframe tbody tr th {\n",
       "        vertical-align: top;\n",
       "    }\n",
       "\n",
       "    .dataframe thead th {\n",
       "        text-align: right;\n",
       "    }\n",
       "</style>\n",
       "<table border=\"1\" class=\"dataframe\">\n",
       "  <thead>\n",
       "    <tr style=\"text-align: right;\">\n",
       "      <th></th>\n",
       "      <th>Ati</th>\n",
       "      <th>An</th>\n",
       "      <th>q</th>\n",
       "      <th>smag</th>\n",
       "      <th>x</th>\n",
       "      <th>Ti_Te</th>\n",
       "    </tr>\n",
       "  </thead>\n",
       "  <tbody>\n",
       "    <tr>\n",
       "      <th>count</th>\n",
       "      <td>6.393280e+05</td>\n",
       "      <td>6.393280e+05</td>\n",
       "      <td>6.393280e+05</td>\n",
       "      <td>6.393280e+05</td>\n",
       "      <td>6.393280e+05</td>\n",
       "      <td>6.393280e+05</td>\n",
       "    </tr>\n",
       "    <tr>\n",
       "      <th>mean</th>\n",
       "      <td>1.633424e-12</td>\n",
       "      <td>-4.409594e-14</td>\n",
       "      <td>3.983713e-14</td>\n",
       "      <td>-8.762553e-14</td>\n",
       "      <td>2.687112e-14</td>\n",
       "      <td>5.456717e-14</td>\n",
       "    </tr>\n",
       "    <tr>\n",
       "      <th>std</th>\n",
       "      <td>1.000000e+00</td>\n",
       "      <td>1.000000e+00</td>\n",
       "      <td>1.000000e+00</td>\n",
       "      <td>1.000000e+00</td>\n",
       "      <td>1.000000e+00</td>\n",
       "      <td>1.000000e+00</td>\n",
       "    </tr>\n",
       "    <tr>\n",
       "      <th>min</th>\n",
       "      <td>-1.848237e+00</td>\n",
       "      <td>-4.175202e+00</td>\n",
       "      <td>-8.733971e-01</td>\n",
       "      <td>-1.264253e+00</td>\n",
       "      <td>-1.375717e+00</td>\n",
       "      <td>-1.667450e+00</td>\n",
       "    </tr>\n",
       "    <tr>\n",
       "      <th>25%</th>\n",
       "      <td>-6.585430e-01</td>\n",
       "      <td>-6.345777e-01</td>\n",
       "      <td>-6.748652e-01</td>\n",
       "      <td>-3.148231e-01</td>\n",
       "      <td>-9.568879e-01</td>\n",
       "      <td>-9.268335e-01</td>\n",
       "    </tr>\n",
       "    <tr>\n",
       "      <th>50%</th>\n",
       "      <td>-1.486741e-01</td>\n",
       "      <td>-4.447369e-02</td>\n",
       "      <td>-4.385177e-01</td>\n",
       "      <td>-5.588771e-02</td>\n",
       "      <td>-1.192290e-01</td>\n",
       "      <td>-6.771858e-02</td>\n",
       "    </tr>\n",
       "    <tr>\n",
       "      <th>75%</th>\n",
       "      <td>6.161291e-01</td>\n",
       "      <td>5.456303e-01</td>\n",
       "      <td>1.523511e-01</td>\n",
       "      <td>4.619831e-01</td>\n",
       "      <td>7.184299e-01</td>\n",
       "      <td>4.210880e-01</td>\n",
       "    </tr>\n",
       "    <tr>\n",
       "      <th>max</th>\n",
       "      <td>2.910539e+00</td>\n",
       "      <td>2.315942e+00</td>\n",
       "      <td>2.515826e+00</td>\n",
       "      <td>3.914455e+00</td>\n",
       "      <td>1.765503e+00</td>\n",
       "      <td>1.665323e+00</td>\n",
       "    </tr>\n",
       "  </tbody>\n",
       "</table>\n",
       "</div>"
      ],
      "text/plain": [
       "                Ati            An             q          smag             x  \\\n",
       "count  6.393280e+05  6.393280e+05  6.393280e+05  6.393280e+05  6.393280e+05   \n",
       "mean   1.633424e-12 -4.409594e-14  3.983713e-14 -8.762553e-14  2.687112e-14   \n",
       "std    1.000000e+00  1.000000e+00  1.000000e+00  1.000000e+00  1.000000e+00   \n",
       "min   -1.848237e+00 -4.175202e+00 -8.733971e-01 -1.264253e+00 -1.375717e+00   \n",
       "25%   -6.585430e-01 -6.345777e-01 -6.748652e-01 -3.148231e-01 -9.568879e-01   \n",
       "50%   -1.486741e-01 -4.447369e-02 -4.385177e-01 -5.588771e-02 -1.192290e-01   \n",
       "75%    6.161291e-01  5.456303e-01  1.523511e-01  4.619831e-01  7.184299e-01   \n",
       "max    2.910539e+00  2.315942e+00  2.515826e+00  3.914455e+00  1.765503e+00   \n",
       "\n",
       "              Ti_Te  \n",
       "count  6.393280e+05  \n",
       "mean   5.456717e-14  \n",
       "std    1.000000e+00  \n",
       "min   -1.667450e+00  \n",
       "25%   -9.268335e-01  \n",
       "50%   -6.771858e-02  \n",
       "75%    4.210880e-01  \n",
       "max    1.665323e+00  "
      ]
     },
     "execution_count": 14,
     "metadata": {},
     "output_type": "execute_result"
    }
   ],
   "source": [
    "shuffled_clean_input_df_1.describe(include='all')"
   ]
  },
  {
   "cell_type": "code",
   "execution_count": 15,
   "metadata": {},
   "outputs": [
    {
     "name": "stdout",
     "output_type": "stream",
     "text": [
      "(639328, 6)\n"
     ]
    }
   ],
   "source": [
    "print(shuffled_clean_input_df_1.shape)"
   ]
  },
  {
   "cell_type": "code",
   "execution_count": 16,
   "metadata": {},
   "outputs": [],
   "source": [
    "shuffled_clean_input_df_2 = shuffled_clean_input_df_7D.drop('Ati', axis=1)\n",
    "shuffled_clean_input_df_2 = shuffled_clean_input_df_2.drop('An', axis=1)\n",
    "shuffled_clean_input_df_2 = shuffled_clean_input_df_2.drop('q', axis=1)\n",
    "shuffled_clean_input_df_2 = shuffled_clean_input_df_2.drop('smag', axis=1)\n",
    "shuffled_clean_input_df_2 = shuffled_clean_input_df_2.drop('x', axis=1)\n",
    "shuffled_clean_input_df_2 = shuffled_clean_input_df_2.drop('Ti_Te', axis=1)"
   ]
  },
  {
   "cell_type": "code",
   "execution_count": 17,
   "metadata": {},
   "outputs": [
    {
     "data": {
      "text/html": [
       "<div>\n",
       "<style scoped>\n",
       "    .dataframe tbody tr th:only-of-type {\n",
       "        vertical-align: middle;\n",
       "    }\n",
       "\n",
       "    .dataframe tbody tr th {\n",
       "        vertical-align: top;\n",
       "    }\n",
       "\n",
       "    .dataframe thead th {\n",
       "        text-align: right;\n",
       "    }\n",
       "</style>\n",
       "<table border=\"1\" class=\"dataframe\">\n",
       "  <thead>\n",
       "    <tr style=\"text-align: right;\">\n",
       "      <th></th>\n",
       "      <th>Ate</th>\n",
       "    </tr>\n",
       "  </thead>\n",
       "  <tbody>\n",
       "    <tr>\n",
       "      <th>count</th>\n",
       "      <td>6.393280e+05</td>\n",
       "    </tr>\n",
       "    <tr>\n",
       "      <th>mean</th>\n",
       "      <td>-6.496300e-13</td>\n",
       "    </tr>\n",
       "    <tr>\n",
       "      <th>std</th>\n",
       "      <td>1.000000e+00</td>\n",
       "    </tr>\n",
       "    <tr>\n",
       "      <th>min</th>\n",
       "      <td>-2.151511e+00</td>\n",
       "    </tr>\n",
       "    <tr>\n",
       "      <th>25%</th>\n",
       "      <td>-6.647545e-01</td>\n",
       "    </tr>\n",
       "    <tr>\n",
       "      <th>50%</th>\n",
       "      <td>-1.691691e-01</td>\n",
       "    </tr>\n",
       "    <tr>\n",
       "      <th>75%</th>\n",
       "      <td>4.916113e-01</td>\n",
       "    </tr>\n",
       "    <tr>\n",
       "      <th>max</th>\n",
       "      <td>1.813172e+00</td>\n",
       "    </tr>\n",
       "  </tbody>\n",
       "</table>\n",
       "</div>"
      ],
      "text/plain": [
       "                Ate\n",
       "count  6.393280e+05\n",
       "mean  -6.496300e-13\n",
       "std    1.000000e+00\n",
       "min   -2.151511e+00\n",
       "25%   -6.647545e-01\n",
       "50%   -1.691691e-01\n",
       "75%    4.916113e-01\n",
       "max    1.813172e+00"
      ]
     },
     "execution_count": 17,
     "metadata": {},
     "output_type": "execute_result"
    }
   ],
   "source": [
    "shuffled_clean_input_df_2.describe(include='all')"
   ]
  },
  {
   "cell_type": "code",
   "execution_count": 18,
   "metadata": {},
   "outputs": [
    {
     "name": "stdout",
     "output_type": "stream",
     "text": [
      "(639328, 1)\n"
     ]
    }
   ],
   "source": [
    "print(shuffled_clean_input_df_2.shape)"
   ]
  },
  {
   "cell_type": "code",
   "execution_count": 19,
   "metadata": {},
   "outputs": [],
   "source": [
    "# *************************************************************************** #\n",
    "# Branch 1\n",
    "\n",
    "# Creates training dataset (90% of total data) for inputs\n",
    "x_train_1 = shuffled_clean_input_df_1.iloc[:int(\n",
    "    numpy.round(len(shuffled_clean_input_df_1)*0.9))]\n",
    "\n",
    "# Creates testing dataset (10% of total data) for inputs\n",
    "x_test_1 = shuffled_clean_input_df_1.iloc[int(\n",
    "    numpy.round(len(shuffled_clean_input_df_1)*0.9)):]\n",
    "# *************************************************************************** #"
   ]
  },
  {
   "cell_type": "code",
   "execution_count": 20,
   "metadata": {},
   "outputs": [],
   "source": [
    "# *************************************************************************** #\n",
    "# Branch 2\n",
    "\n",
    "# Creates training dataset (90% of total data) for inputs\n",
    "x_train_2 = shuffled_clean_input_df_2.iloc[:int(\n",
    "    numpy.round(len(shuffled_clean_input_df_2)*0.9))]\n",
    "\n",
    "# Creates testing dataset (10% of total data) for inputs\n",
    "x_test_2 = shuffled_clean_input_df_2.iloc[int(\n",
    "    numpy.round(len(shuffled_clean_input_df_2)*0.9)):]\n",
    "# *************************************************************************** #"
   ]
  },
  {
   "cell_type": "code",
   "execution_count": 21,
   "metadata": {},
   "outputs": [
    {
     "name": "stdout",
     "output_type": "stream",
     "text": [
      "__________________________________________________________________________________________________\n",
      "Layer (type)                    Output Shape         Param #     Connected to                     \n",
      "==================================================================================================\n",
      "input_1 (InputLayer)            (None, 6)            0                                            \n",
      "__________________________________________________________________________________________________\n",
      "input_2 (InputLayer)            (None, 1)            0                                            \n",
      "__________________________________________________________________________________________________\n",
      "dense_1 (Dense)                 (None, 30)           210         input_1[0][0]                    \n",
      "__________________________________________________________________________________________________\n",
      "dense_3 (Dense)                 (None, 1)            2           input_2[0][0]                    \n",
      "__________________________________________________________________________________________________\n",
      "dense_2 (Dense)                 (None, 30)           930         dense_1[0][0]                    \n",
      "__________________________________________________________________________________________________\n",
      "thresholded_re_lu_1 (Thresholde (None, 1)            0           dense_3[0][0]                    \n",
      "__________________________________________________________________________________________________\n",
      "concatenate_1 (Concatenate)     (None, 31)           0           dense_2[0][0]                    \n",
      "                                                                 thresholded_re_lu_1[0][0]        \n",
      "__________________________________________________________________________________________________\n",
      "dense_4 (Dense)                 (None, 1)            32          concatenate_1[0][0]              \n",
      "==================================================================================================\n",
      "Total params: 1,174\n",
      "Trainable params: 1,174\n",
      "Non-trainable params: 0\n",
      "__________________________________________________________________________________________________\n",
      "None\n"
     ]
    }
   ],
   "source": [
    "# branch1\n",
    "visible_branch1 = Input(shape=(6,))\n",
    "hidden1_branch1 = Dense(30,\n",
    "        activation='tanh',\n",
    "        kernel_initializer='glorot_normal',\n",
    "        kernel_regularizer=regularizers.l2(0.00005),\n",
    "        use_bias=True, bias_initializer='glorot_normal')(visible_branch1)\n",
    "hidden2_branch1 = Dense(30,\n",
    "        activation='tanh',\n",
    "        kernel_initializer='glorot_normal',\n",
    "        kernel_regularizer=regularizers.l2(0.00005),\n",
    "        use_bias=True, bias_initializer='glorot_normal')(hidden1_branch1)\n",
    "\n",
    "# branch2 (Ate input)\n",
    "visible_branch2 = Input(shape=(1,))\n",
    "visible_branch2_feeder = Dense(1,\n",
    "                activation='relu')(visible_branch2)\n",
    "#TR = Dense(1, activation='relu')(visible_branch2_feeder)\n",
    "#TR = Dense(1, activation=ThresholdedReLU(theta=0.8))(visible_branch2_feeder)\n",
    "TR = ThresholdedReLU(theta=0.3)(visible_branch2_feeder)\n",
    "\n",
    "# merge input models\n",
    "merge = concatenate([hidden2_branch1, TR])\n",
    "\n",
    "# interpretation model\n",
    "output = Dense(1, activation='linear')(merge)\n",
    "\n",
    "model = Model(inputs=[visible_branch1, visible_branch2], outputs=output)\n",
    "\n",
    "# summarize layers\n",
    "print(model.summary())\n",
    "\n",
    "# plot graph\n",
    "plot_model(model, 'ModelPlots/' + str(file_name) + '_model_plot.png')"
   ]
  },
  {
   "cell_type": "code",
   "execution_count": 22,
   "metadata": {},
   "outputs": [
    {
     "name": "stdout",
     "output_type": "stream",
     "text": [
      "Train on 575395 samples, validate on 63933 samples\n",
      "Epoch 1/100\n",
      " - 98s - loss: 0.2665 - mean_absolute_error: 0.3692 - mean_squared_error: 0.2620 - rmse: 0.4815 - val_loss: 0.2769 - val_mean_absolute_error: 0.3795 - val_mean_squared_error: 0.2717 - val_rmse: 0.4600\n",
      "Epoch 2/100\n",
      " - 98s - loss: 0.2125 - mean_absolute_error: 0.3276 - mean_squared_error: 0.2069 - rmse: 0.4313 - val_loss: 0.2706 - val_mean_absolute_error: 0.3647 - val_mean_squared_error: 0.2647 - val_rmse: 0.4486\n",
      "Epoch 3/100\n",
      " - 110s - loss: 0.2083 - mean_absolute_error: 0.3234 - mean_squared_error: 0.2021 - rmse: 0.4259 - val_loss: 0.2619 - val_mean_absolute_error: 0.3648 - val_mean_squared_error: 0.2554 - val_rmse: 0.4466\n",
      "Epoch 4/100\n",
      " - 111s - loss: 0.2065 - mean_absolute_error: 0.3213 - mean_squared_error: 0.1998 - rmse: 0.4235 - val_loss: 0.2642 - val_mean_absolute_error: 0.3651 - val_mean_squared_error: 0.2573 - val_rmse: 0.4464\n",
      "Epoch 5/100\n",
      " - 93s - loss: 0.2052 - mean_absolute_error: 0.3198 - mean_squared_error: 0.1981 - rmse: 0.4216 - val_loss: 0.2583 - val_mean_absolute_error: 0.3545 - val_mean_squared_error: 0.2510 - val_rmse: 0.4362\n",
      "Epoch 6/100\n",
      " - 95s - loss: 0.2046 - mean_absolute_error: 0.3189 - mean_squared_error: 0.1973 - rmse: 0.4208 - val_loss: 0.2699 - val_mean_absolute_error: 0.3705 - val_mean_squared_error: 0.2624 - val_rmse: 0.4542\n",
      "Epoch 7/100\n",
      " - 102s - loss: 0.2039 - mean_absolute_error: 0.3180 - mean_squared_error: 0.1964 - rmse: 0.4198 - val_loss: 0.2442 - val_mean_absolute_error: 0.3523 - val_mean_squared_error: 0.2365 - val_rmse: 0.4327\n",
      "Epoch 8/100\n",
      " - 107s - loss: 0.2035 - mean_absolute_error: 0.3173 - mean_squared_error: 0.1958 - rmse: 0.4188 - val_loss: 0.2480 - val_mean_absolute_error: 0.3501 - val_mean_squared_error: 0.2403 - val_rmse: 0.4317\n",
      "Epoch 9/100\n",
      " - 109s - loss: 0.2030 - mean_absolute_error: 0.3168 - mean_squared_error: 0.1952 - rmse: 0.4183 - val_loss: 0.2596 - val_mean_absolute_error: 0.3570 - val_mean_squared_error: 0.2517 - val_rmse: 0.4395\n",
      "Epoch 10/100\n",
      " - 107s - loss: 0.2028 - mean_absolute_error: 0.3165 - mean_squared_error: 0.1949 - rmse: 0.4178 - val_loss: 0.2608 - val_mean_absolute_error: 0.3561 - val_mean_squared_error: 0.2529 - val_rmse: 0.4396\n",
      "Epoch 11/100\n",
      " - 101s - loss: 0.2026 - mean_absolute_error: 0.3161 - mean_squared_error: 0.1946 - rmse: 0.4175 - val_loss: 0.2867 - val_mean_absolute_error: 0.3731 - val_mean_squared_error: 0.2786 - val_rmse: 0.4566\n",
      "Epoch 12/100\n",
      " - 97s - loss: 0.2024 - mean_absolute_error: 0.3158 - mean_squared_error: 0.1942 - rmse: 0.4172 - val_loss: 0.2494 - val_mean_absolute_error: 0.3522 - val_mean_squared_error: 0.2412 - val_rmse: 0.4354\n",
      "Epoch 13/100\n",
      " - 104s - loss: 0.2024 - mean_absolute_error: 0.3158 - mean_squared_error: 0.1942 - rmse: 0.4171 - val_loss: 0.2489 - val_mean_absolute_error: 0.3554 - val_mean_squared_error: 0.2407 - val_rmse: 0.4366\n",
      "Epoch 14/100\n",
      " - 107s - loss: 0.2021 - mean_absolute_error: 0.3154 - mean_squared_error: 0.1938 - rmse: 0.4166 - val_loss: 0.2497 - val_mean_absolute_error: 0.3541 - val_mean_squared_error: 0.2413 - val_rmse: 0.4344\n",
      "Epoch 15/100\n",
      " - 101s - loss: 0.2019 - mean_absolute_error: 0.3152 - mean_squared_error: 0.1935 - rmse: 0.4163 - val_loss: 0.2499 - val_mean_absolute_error: 0.3486 - val_mean_squared_error: 0.2415 - val_rmse: 0.4321\n",
      "Epoch 16/100\n",
      " - 101s - loss: 0.2017 - mean_absolute_error: 0.3149 - mean_squared_error: 0.1932 - rmse: 0.4160 - val_loss: 0.2725 - val_mean_absolute_error: 0.3685 - val_mean_squared_error: 0.2641 - val_rmse: 0.4458\n",
      "Epoch 17/100\n",
      " - 103s - loss: 0.2016 - mean_absolute_error: 0.3147 - mean_squared_error: 0.1931 - rmse: 0.4159 - val_loss: 0.2573 - val_mean_absolute_error: 0.3617 - val_mean_squared_error: 0.2488 - val_rmse: 0.4425\n",
      "Epoch 18/100\n",
      " - 103s - loss: 0.2013 - mean_absolute_error: 0.3144 - mean_squared_error: 0.1928 - rmse: 0.4155 - val_loss: 0.2422 - val_mean_absolute_error: 0.3456 - val_mean_squared_error: 0.2336 - val_rmse: 0.4279\n",
      "Epoch 19/100\n",
      " - 100s - loss: 0.2013 - mean_absolute_error: 0.3144 - mean_squared_error: 0.1927 - rmse: 0.4154 - val_loss: 0.2453 - val_mean_absolute_error: 0.3495 - val_mean_squared_error: 0.2367 - val_rmse: 0.4289\n",
      "Epoch 20/100\n",
      " - 103s - loss: 0.2011 - mean_absolute_error: 0.3141 - mean_squared_error: 0.1925 - rmse: 0.4151 - val_loss: 0.2519 - val_mean_absolute_error: 0.3515 - val_mean_squared_error: 0.2433 - val_rmse: 0.4307\n",
      "Epoch 21/100\n",
      " - 102s - loss: 0.2011 - mean_absolute_error: 0.3142 - mean_squared_error: 0.1925 - rmse: 0.4153 - val_loss: 0.2522 - val_mean_absolute_error: 0.3546 - val_mean_squared_error: 0.2436 - val_rmse: 0.4354\n",
      "Epoch 22/100\n",
      " - 106s - loss: 0.2010 - mean_absolute_error: 0.3142 - mean_squared_error: 0.1924 - rmse: 0.4151 - val_loss: 0.2478 - val_mean_absolute_error: 0.3518 - val_mean_squared_error: 0.2392 - val_rmse: 0.4354\n",
      "Epoch 23/100\n",
      " - 102s - loss: 0.2009 - mean_absolute_error: 0.3141 - mean_squared_error: 0.1922 - rmse: 0.4149 - val_loss: 0.2516 - val_mean_absolute_error: 0.3577 - val_mean_squared_error: 0.2430 - val_rmse: 0.4412\n",
      "Epoch 24/100\n",
      " - 104s - loss: 0.2008 - mean_absolute_error: 0.3139 - mean_squared_error: 0.1921 - rmse: 0.4148 - val_loss: 0.2514 - val_mean_absolute_error: 0.3518 - val_mean_squared_error: 0.2427 - val_rmse: 0.4312\n",
      "Epoch 25/100\n",
      " - 103s - loss: 0.2008 - mean_absolute_error: 0.3139 - mean_squared_error: 0.1921 - rmse: 0.4147 - val_loss: 0.2601 - val_mean_absolute_error: 0.3622 - val_mean_squared_error: 0.2514 - val_rmse: 0.4419\n",
      "Epoch 26/100\n",
      " - 96s - loss: 0.2006 - mean_absolute_error: 0.3137 - mean_squared_error: 0.1919 - rmse: 0.4146 - val_loss: 0.2488 - val_mean_absolute_error: 0.3581 - val_mean_squared_error: 0.2401 - val_rmse: 0.4390\n",
      "Epoch 27/100\n",
      " - 98s - loss: 0.2006 - mean_absolute_error: 0.3136 - mean_squared_error: 0.1919 - rmse: 0.4146 - val_loss: 0.2396 - val_mean_absolute_error: 0.3447 - val_mean_squared_error: 0.2309 - val_rmse: 0.4279\n",
      "Epoch 28/100\n",
      " - 100s - loss: 0.2004 - mean_absolute_error: 0.3134 - mean_squared_error: 0.1916 - rmse: 0.4141 - val_loss: 0.2638 - val_mean_absolute_error: 0.3594 - val_mean_squared_error: 0.2550 - val_rmse: 0.4389\n",
      "Epoch 29/100\n",
      " - 104s - loss: 0.2003 - mean_absolute_error: 0.3135 - mean_squared_error: 0.1915 - rmse: 0.4140 - val_loss: 0.2826 - val_mean_absolute_error: 0.3803 - val_mean_squared_error: 0.2738 - val_rmse: 0.4580\n",
      "Epoch 30/100\n",
      " - 101s - loss: 0.2003 - mean_absolute_error: 0.3134 - mean_squared_error: 0.1915 - rmse: 0.4143 - val_loss: 0.2553 - val_mean_absolute_error: 0.3486 - val_mean_squared_error: 0.2466 - val_rmse: 0.4279\n",
      "Epoch 31/100\n",
      " - 98s - loss: 0.2001 - mean_absolute_error: 0.3132 - mean_squared_error: 0.1913 - rmse: 0.4140 - val_loss: 0.2455 - val_mean_absolute_error: 0.3480 - val_mean_squared_error: 0.2367 - val_rmse: 0.4284\n",
      "Epoch 32/100\n",
      " - 101s - loss: 0.2000 - mean_absolute_error: 0.3133 - mean_squared_error: 0.1912 - rmse: 0.4140 - val_loss: 0.2400 - val_mean_absolute_error: 0.3462 - val_mean_squared_error: 0.2312 - val_rmse: 0.4279\n",
      "Epoch 33/100\n",
      " - 100s - loss: 0.1999 - mean_absolute_error: 0.3132 - mean_squared_error: 0.1911 - rmse: 0.4138 - val_loss: 0.2485 - val_mean_absolute_error: 0.3494 - val_mean_squared_error: 0.2397 - val_rmse: 0.4298\n",
      "Epoch 34/100\n",
      " - 103s - loss: 0.1999 - mean_absolute_error: 0.3131 - mean_squared_error: 0.1911 - rmse: 0.4137 - val_loss: 0.2622 - val_mean_absolute_error: 0.3625 - val_mean_squared_error: 0.2534 - val_rmse: 0.4428\n",
      "Epoch 35/100\n",
      " - 106s - loss: 0.1998 - mean_absolute_error: 0.3131 - mean_squared_error: 0.1909 - rmse: 0.4136 - val_loss: 0.2554 - val_mean_absolute_error: 0.3502 - val_mean_squared_error: 0.2466 - val_rmse: 0.4308\n",
      "Epoch 36/100\n",
      " - 107s - loss: 0.1998 - mean_absolute_error: 0.3130 - mean_squared_error: 0.1910 - rmse: 0.4136 - val_loss: 0.2903 - val_mean_absolute_error: 0.3853 - val_mean_squared_error: 0.2815 - val_rmse: 0.4636\n",
      "Epoch 37/100\n",
      " - 104s - loss: 0.1997 - mean_absolute_error: 0.3130 - mean_squared_error: 0.1908 - rmse: 0.4136 - val_loss: 0.2577 - val_mean_absolute_error: 0.3577 - val_mean_squared_error: 0.2488 - val_rmse: 0.4348\n",
      "Epoch 38/100\n",
      " - 104s - loss: 0.1997 - mean_absolute_error: 0.3129 - mean_squared_error: 0.1909 - rmse: 0.4135 - val_loss: 0.2514 - val_mean_absolute_error: 0.3476 - val_mean_squared_error: 0.2426 - val_rmse: 0.4315\n"
     ]
    },
    {
     "name": "stdout",
     "output_type": "stream",
     "text": [
      "Epoch 39/100\n",
      " - 100s - loss: 0.1996 - mean_absolute_error: 0.3129 - mean_squared_error: 0.1907 - rmse: 0.4134 - val_loss: 0.2428 - val_mean_absolute_error: 0.3476 - val_mean_squared_error: 0.2340 - val_rmse: 0.4317\n",
      "Epoch 40/100\n",
      " - 101s - loss: 0.1994 - mean_absolute_error: 0.3129 - mean_squared_error: 0.1906 - rmse: 0.4133 - val_loss: 0.2515 - val_mean_absolute_error: 0.3501 - val_mean_squared_error: 0.2427 - val_rmse: 0.4340\n",
      "Epoch 41/100\n",
      " - 107s - loss: 0.1996 - mean_absolute_error: 0.3128 - mean_squared_error: 0.1907 - rmse: 0.4133 - val_loss: 0.2919 - val_mean_absolute_error: 0.3814 - val_mean_squared_error: 0.2830 - val_rmse: 0.4631\n",
      "Epoch 42/100\n",
      " - 106s - loss: 0.1994 - mean_absolute_error: 0.3129 - mean_squared_error: 0.1906 - rmse: 0.4130 - val_loss: 0.2681 - val_mean_absolute_error: 0.3616 - val_mean_squared_error: 0.2593 - val_rmse: 0.4423\n",
      "Epoch 43/100\n",
      " - 104s - loss: 0.1994 - mean_absolute_error: 0.3129 - mean_squared_error: 0.1906 - rmse: 0.4132 - val_loss: 0.2649 - val_mean_absolute_error: 0.3623 - val_mean_squared_error: 0.2561 - val_rmse: 0.4453\n",
      "Epoch 44/100\n",
      " - 104s - loss: 0.1993 - mean_absolute_error: 0.3128 - mean_squared_error: 0.1905 - rmse: 0.4132 - val_loss: 0.2513 - val_mean_absolute_error: 0.3544 - val_mean_squared_error: 0.2425 - val_rmse: 0.4374\n",
      "Epoch 45/100\n",
      " - 105s - loss: 0.1993 - mean_absolute_error: 0.3128 - mean_squared_error: 0.1905 - rmse: 0.4131 - val_loss: 0.2961 - val_mean_absolute_error: 0.3819 - val_mean_squared_error: 0.2872 - val_rmse: 0.4640\n",
      "Test loss: 0.2960745579407693\n",
      "val_mean_absolute_error: 0.38189081623100274\n",
      "score\n",
      "[0.2960745579407693, 0.38189081623100274, 0.28719825099655427, 0.48401684997515576]\n",
      "model.metrics_names\n",
      "['loss', 'mean_absolute_error', 'mean_squared_error', 'rmse']\n"
     ]
    }
   ],
   "source": [
    "model.compile(loss='mean_squared_error',   #categorical_crossentropy\n",
    "              optimizer=Adam(lr=0.001, beta_1=0.9, beta_2=0.999),\n",
    "              metrics=[\"mae\", \"mean_squared_error\", rmse])\n",
    "\n",
    "# Add CallBacks (including TensorBoard)\n",
    "tbCallBack = keras.callbacks.TensorBoard(\n",
    "        log_dir='TensorBoard_logs/' + str(file_name), write_graph = False, write_images=False, write_grads=False)\n",
    "EarlyStoppingCallBack = keras.callbacks.EarlyStopping(\n",
    "        monitor='val_rmse', min_delta=0, patience=15, verbose=0, mode='auto')\n",
    "\n",
    "history = model.fit([x_train_1, x_train_2],\n",
    "                    y = y_train,\n",
    "                    batch_size=batch_size,\n",
    "                    epochs=epochs,\n",
    "                    shuffle=True,\n",
    "                    verbose=2,\n",
    "                    # validation_data=(x_test, y_test),\n",
    "                    validation_data=([x_test_1, x_test_2], y_test),\n",
    "                    callbacks=[tbCallBack, EarlyStoppingCallBack])\n",
    "\n",
    "# score = model.evaluate(x_test, y_test, verbose=0)\n",
    "score = model.evaluate([x_test_1, x_test_2], y_test, verbose=0)\n",
    "\n",
    "print('Test loss:', score[0])\n",
    "print('val_mean_absolute_error:', score[1])\n",
    "\n",
    "print(\"score\")\n",
    "print(score)\n",
    "\n",
    "print(\"model.metrics_names\")\n",
    "print(model.metrics_names)\n",
    "\n",
    "# creates a HDF5 file 'my_model.h5'\n",
    "model.save(\"./Saved-Networks/\" + str(file_name) +\".h5\")\n",
    "\n",
    "# Create output file\n",
    "OutputFile = open(\"./Loss-Values/\" +str(file_name) +\".txt\", \"w+\")\n",
    "OutputFile.write(\"Test loss: \" + str(score[0]) + \"\\n\")\n",
    "OutputFile.write(\"val_mean_absolute_error: \" +str(score[1]) + \"\\n\")\n",
    "OutputFile.write(\"val_mean_squared_error: \" +str(score[2]) + \"\\n\")\n",
    "OutputFile.write(\"RMSE: \" +str(score[3]) + \"\\n\")\n",
    "OutputFile.close()\n",
    "\n",
    "del history\n",
    "del model\n"
   ]
  },
  {
   "cell_type": "code",
   "execution_count": null,
   "metadata": {},
   "outputs": [],
   "source": []
  }
 ],
 "metadata": {
  "kernelspec": {
   "display_name": "Python 3",
   "language": "python",
   "name": "python3"
  },
  "language_info": {
   "codemirror_mode": {
    "name": "ipython",
    "version": 3
   },
   "file_extension": ".py",
   "mimetype": "text/x-python",
   "name": "python",
   "nbconvert_exporter": "python",
   "pygments_lexer": "ipython3",
   "version": "3.6.6"
  }
 },
 "nbformat": 4,
 "nbformat_minor": 2
}
