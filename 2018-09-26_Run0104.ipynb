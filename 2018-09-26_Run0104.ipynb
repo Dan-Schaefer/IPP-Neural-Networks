{
 "cells": [
  {
   "cell_type": "markdown",
   "metadata": {},
   "source": [
    "# Run Objective:"
   ]
  },
  {
   "cell_type": "markdown",
   "metadata": {},
   "source": [
    "Added the following:\n",
    "-  Based on Run0101c\n",
    "\n",
    "-  Added EarlyStoppingCallback\n",
    "\n",
    "-  Starting to implement LateFusionActivationFunction"
   ]
  },
  {
   "cell_type": "code",
   "execution_count": null,
   "metadata": {},
   "outputs": [],
   "source": [
    "# DO NOT RUN THIS PART"
   ]
  },
  {
   "cell_type": "code",
   "execution_count": null,
   "metadata": {},
   "outputs": [],
   "source": [
    "import os\n",
    "import sys\n",
    "import time\n",
    "\n",
    "# Gets the current file name. Useful for procedurally generating output/log files.\n",
    "file_name =  os.path.basename(sys.argv[0][:-3])\n",
    "print(file_name)\n",
    "\n",
    "if file_name == \"ipykernel_launcher\":\n",
    "    print(\"This is the Jupyter version.\")\n",
    "    print(\"Now MANUALLY run the next two cells!\")\n",
    "    print(\"STOP! This should not be in your code!!\")\n",
    "    exit(0)\n",
    "    time.sleep(10)\n",
    "    print(\"Testing if script has really stopped.\")\n",
    "else:\n",
    "    print(\"This is the Atom version\")"
   ]
  },
  {
   "cell_type": "code",
   "execution_count": 1,
   "metadata": {},
   "outputs": [],
   "source": [
    "# RUN ONLY IN JUPYTER!!\n",
    "# Start here (manual)"
   ]
  },
  {
   "cell_type": "code",
   "execution_count": 2,
   "metadata": {},
   "outputs": [
    {
     "data": {
      "application/javascript": [
       "IPython.notebook.kernel.execute('file_name = \"' + IPython.notebook.notebook_name + '\"');"
      ],
      "text/plain": [
       "<IPython.core.display.Javascript object>"
      ]
     },
     "metadata": {},
     "output_type": "display_data"
    }
   ],
   "source": [
    "%%javascript\n",
    "IPython.notebook.kernel.execute('file_name = \"' + IPython.notebook.notebook_name + '\"');"
   ]
  },
  {
   "cell_type": "code",
   "execution_count": 3,
   "metadata": {},
   "outputs": [
    {
     "name": "stdout",
     "output_type": "stream",
     "text": [
      "2018-09-26_Run0104.ipynb\n"
     ]
    }
   ],
   "source": [
    "print(file_name)"
   ]
  },
  {
   "cell_type": "code",
   "execution_count": 4,
   "metadata": {},
   "outputs": [
    {
     "name": "stdout",
     "output_type": "stream",
     "text": [
      "2018-09-26_Run0104\n",
      "True\n"
     ]
    }
   ],
   "source": [
    "file_name = file_name[:-6]\n",
    "print(file_name)\n",
    "\n",
    "is_Jupyter = True\n",
    "print(is_Jupyter)"
   ]
  },
  {
   "cell_type": "code",
   "execution_count": null,
   "metadata": {},
   "outputs": [],
   "source": []
  },
  {
   "cell_type": "code",
   "execution_count": 5,
   "metadata": {},
   "outputs": [],
   "source": [
    "# Same code for both ATOM & JUPYTER from now (Run all cells below now)"
   ]
  },
  {
   "cell_type": "code",
   "execution_count": 6,
   "metadata": {},
   "outputs": [
    {
     "name": "stderr",
     "output_type": "stream",
     "text": [
      "Using TensorFlow backend.\n"
     ]
    }
   ],
   "source": [
    "'''\n",
    "Late Fusion Module (test) - Functional API\n",
    "'''\n",
    "\n",
    "# Multiple Inputs\n",
    "import keras\n",
    "from keras.optimizers import RMSprop, adam, Adam\n",
    "from keras.initializers import TruncatedNormal, glorot_normal\n",
    "from keras.utils import plot_model\n",
    "from keras.models import Model\n",
    "from keras.layers import Input\n",
    "from keras.layers import Dense\n",
    "from keras.layers.merge import concatenate\n",
    "from keras import regularizers\n",
    "from keras import backend as K\n",
    "from keras.backend import switch\n",
    "import pandas\n",
    "import numpy\n",
    "import sys\n",
    "import os\n",
    "from copy import deepcopy\n",
    "import tensorflow as tf\n",
    "from keras.utils.generic_utils import get_custom_objects\n",
    "from keras.layers.advanced_activations import ThresholdedReLU\n",
    "\n",
    "keras.backend.clear_session()"
   ]
  },
  {
   "cell_type": "code",
   "execution_count": 7,
   "metadata": {},
   "outputs": [],
   "source": [
    "# Define new Metric: rmse = Root Mean Square Error\n",
    "def rmse(y_true, y_pred):\n",
    "    return K.sqrt(K.mean(K.square( y_true-y_pred )))"
   ]
  },
  {
   "cell_type": "code",
   "execution_count": null,
   "metadata": {},
   "outputs": [],
   "source": []
  },
  {
   "cell_type": "code",
   "execution_count": 8,
   "metadata": {},
   "outputs": [],
   "source": [
    "# Modify for ATOM use"
   ]
  },
  {
   "cell_type": "code",
   "execution_count": 9,
   "metadata": {},
   "outputs": [],
   "source": [
    "if is_Jupyter == True:\n",
    "    pass\n",
    "else:\n",
    "    # Gets the current file name. Useful for procedurally generating output/log files.\n",
    "    file_name =  os.path.basename(sys.argv[0][:-3])"
   ]
  },
  {
   "cell_type": "code",
   "execution_count": null,
   "metadata": {},
   "outputs": [],
   "source": []
  },
  {
   "cell_type": "code",
   "execution_count": 10,
   "metadata": {},
   "outputs": [],
   "source": [
    "# Define neural network parameters\n",
    "batch_size = 10\n",
    "#num_classes = 1\n",
    "epochs = 100"
   ]
  },
  {
   "cell_type": "code",
   "execution_count": 1,
   "metadata": {},
   "outputs": [
    {
     "ename": "NameError",
     "evalue": "name 'pandas' is not defined",
     "output_type": "error",
     "traceback": [
      "\u001b[1;31m---------------------------------------------------------------------------\u001b[0m",
      "\u001b[1;31mNameError\u001b[0m                                 Traceback (most recent call last)",
      "\u001b[1;32m<ipython-input-1-c9c767a67a1f>\u001b[0m in \u001b[0;36m<module>\u001b[1;34m()\u001b[0m\n\u001b[0;32m      1\u001b[0m \u001b[1;31m# Load Data (which is in HDF5 or .h5 format)\u001b[0m\u001b[1;33m\u001b[0m\u001b[1;33m\u001b[0m\u001b[0m\n\u001b[1;32m----> 2\u001b[1;33m \u001b[0mstore\u001b[0m \u001b[1;33m=\u001b[0m \u001b[0mpandas\u001b[0m\u001b[1;33m.\u001b[0m\u001b[0mHDFStore\u001b[0m\u001b[1;33m(\u001b[0m\u001b[1;34m\"unstable_training_gen3_7D_nions0_flat_filter8.h5\"\u001b[0m\u001b[1;33m)\u001b[0m\u001b[1;33m\u001b[0m\u001b[0m\n\u001b[0m\u001b[0;32m      3\u001b[0m \u001b[0mtarget_df\u001b[0m \u001b[1;33m=\u001b[0m \u001b[0mstore\u001b[0m\u001b[1;33m[\u001b[0m\u001b[1;34m'/output/efeETG_GB'\u001b[0m\u001b[1;33m]\u001b[0m\u001b[1;33m.\u001b[0m\u001b[0mto_frame\u001b[0m\u001b[1;33m(\u001b[0m\u001b[1;33m)\u001b[0m  \u001b[1;31m# This one is relatively easy to train\u001b[0m\u001b[1;33m\u001b[0m\u001b[0m\n\u001b[0;32m      4\u001b[0m \u001b[0minput_df\u001b[0m \u001b[1;33m=\u001b[0m \u001b[0mstore\u001b[0m\u001b[1;33m[\u001b[0m\u001b[1;34m'input'\u001b[0m\u001b[1;33m]\u001b[0m\u001b[1;33m\u001b[0m\u001b[0m\n\u001b[0;32m      5\u001b[0m \u001b[1;33m\u001b[0m\u001b[0m\n",
      "\u001b[1;31mNameError\u001b[0m: name 'pandas' is not defined"
     ]
    }
   ],
   "source": [
    "# Load Data (which is in HDF5 or .h5 format)\n",
    "store = pandas.HDFStore(\"unstable_training_gen3_7D_nions0_flat_filter8.h5\")\n",
    "target_df = store['/output/efeETG_GB'].to_frame()  # This one is relatively easy to train\n",
    "input_df = store['input']\n",
    "\n",
    "# Puts inputs and outputs in the same pandas dataframe.\n",
    "# Also only keeps overlapping entries.\n",
    "joined_dataFrame = target_df.join(input_df)\n",
    "\n",
    "# Make a copy of joined_dataFrame for later use\n",
    "joined_dataFrame_original = deepcopy(joined_dataFrame)\n",
    "\n",
    "\n",
    "# *************************************************************************** #\n",
    "# Normalize data by standard deviation and mean-centering the data\n",
    "# Standard configuration\n",
    "joined_dataFrame['efeETG_GB'] = (joined_dataFrame['efeETG_GB'] - joined_dataFrame['efeETG_GB'].mean()) / joined_dataFrame['efeETG_GB'].std()\n",
    "joined_dataFrame['Ati'] = (joined_dataFrame['Ati'] - joined_dataFrame['Ati'].mean()) / joined_dataFrame['Ati'].std()\n",
    "joined_dataFrame['Ate'] = (joined_dataFrame['Ate'] - joined_dataFrame['Ate'].mean()) / joined_dataFrame['Ate'].std()\n",
    "joined_dataFrame['An'] = (joined_dataFrame['An'] - joined_dataFrame['An'].mean()) / joined_dataFrame['An'].std()\n",
    "joined_dataFrame['q'] = (joined_dataFrame['q'] - joined_dataFrame['q'].mean()) / joined_dataFrame['q'].std()\n",
    "joined_dataFrame['smag'] = (joined_dataFrame['smag'] - joined_dataFrame['smag'].mean()) / joined_dataFrame['smag'].std()\n",
    "joined_dataFrame['x'] = (joined_dataFrame['x'] - joined_dataFrame['x'].mean()) / joined_dataFrame['x'].std()\n",
    "joined_dataFrame['Ti_Te'] = (joined_dataFrame['Ti_Te'] - joined_dataFrame['Ti_Te'].mean()) / joined_dataFrame['Ti_Te'].std()\n",
    "\n",
    "# Shuffles dataset\n",
    "shuffled_joined_dataFrame = joined_dataFrame.reindex(numpy.random.permutation(\n",
    "                                                joined_dataFrame.index))\n",
    "\n",
    "# Creates a pandas dataframe for the outputs\n",
    "shuffled_clean_output_df = shuffled_joined_dataFrame['efeETG_GB']\n",
    "\n",
    "# Make a copy of shuffled_joined_dataFrame for later use\n",
    "shuffled_joined_dataFrame_base = deepcopy(shuffled_joined_dataFrame)\n",
    "\n",
    "\n",
    "\n",
    "# *************************************************************************** #\n",
    "# Creates a pandas dataframe for the inputs (7D)\n",
    "shuffled_clean_input_df_7D = shuffled_joined_dataFrame.drop('efeETG_GB', axis=1)\n",
    "\n",
    "# Creates training dataset (90% of total data) for outputs\n",
    "y_train = shuffled_clean_output_df.iloc[:int(\n",
    "    numpy.round(len(shuffled_clean_output_df)*0.9))]\n",
    "\n",
    "# Creates training dataset (90% of total data) for inputs\n",
    "x_train = shuffled_clean_input_df_7D.iloc[:int(\n",
    "    numpy.round(len(shuffled_clean_input_df_7D)*0.9))]\n",
    "\n",
    "# Creates testing dataset (10% of total data) for outputs\n",
    "y_test = shuffled_clean_output_df.iloc[int(\n",
    "    numpy.round(len(shuffled_clean_output_df)*0.9)):]\n",
    "\n",
    "# Creates testing dataset (10% of total data) for inputs\n",
    "x_test = shuffled_clean_input_df_7D.iloc[int(\n",
    "    numpy.round(len(shuffled_clean_input_df_7D)*0.9)):]\n",
    "# *************************************************************************** #\n",
    "\n",
    "\n",
    "# Deletes pandas dataframes that are no longer needed\n",
    "del target_df, input_df\n",
    "\n",
    "# Closes the HDFStore. This is good practice.\n",
    "store.close()\n"
   ]
  },
  {
   "cell_type": "code",
   "execution_count": 12,
   "metadata": {},
   "outputs": [
    {
     "data": {
      "text/html": [
       "<div>\n",
       "<style scoped>\n",
       "    .dataframe tbody tr th:only-of-type {\n",
       "        vertical-align: middle;\n",
       "    }\n",
       "\n",
       "    .dataframe tbody tr th {\n",
       "        vertical-align: top;\n",
       "    }\n",
       "\n",
       "    .dataframe thead th {\n",
       "        text-align: right;\n",
       "    }\n",
       "</style>\n",
       "<table border=\"1\" class=\"dataframe\">\n",
       "  <thead>\n",
       "    <tr style=\"text-align: right;\">\n",
       "      <th></th>\n",
       "      <th>Ati</th>\n",
       "      <th>Ate</th>\n",
       "      <th>An</th>\n",
       "      <th>q</th>\n",
       "      <th>smag</th>\n",
       "      <th>x</th>\n",
       "      <th>Ti_Te</th>\n",
       "    </tr>\n",
       "  </thead>\n",
       "  <tbody>\n",
       "    <tr>\n",
       "      <th>count</th>\n",
       "      <td>6.393280e+05</td>\n",
       "      <td>6.393280e+05</td>\n",
       "      <td>6.393280e+05</td>\n",
       "      <td>6.393280e+05</td>\n",
       "      <td>6.393280e+05</td>\n",
       "      <td>6.393280e+05</td>\n",
       "      <td>6.393280e+05</td>\n",
       "    </tr>\n",
       "    <tr>\n",
       "      <th>mean</th>\n",
       "      <td>1.633424e-12</td>\n",
       "      <td>-6.496300e-13</td>\n",
       "      <td>-4.409594e-14</td>\n",
       "      <td>3.983713e-14</td>\n",
       "      <td>-8.762553e-14</td>\n",
       "      <td>2.687112e-14</td>\n",
       "      <td>5.456717e-14</td>\n",
       "    </tr>\n",
       "    <tr>\n",
       "      <th>std</th>\n",
       "      <td>1.000000e+00</td>\n",
       "      <td>1.000000e+00</td>\n",
       "      <td>1.000000e+00</td>\n",
       "      <td>1.000000e+00</td>\n",
       "      <td>1.000000e+00</td>\n",
       "      <td>1.000000e+00</td>\n",
       "      <td>1.000000e+00</td>\n",
       "    </tr>\n",
       "    <tr>\n",
       "      <th>min</th>\n",
       "      <td>-1.848237e+00</td>\n",
       "      <td>-2.151511e+00</td>\n",
       "      <td>-4.175202e+00</td>\n",
       "      <td>-8.733971e-01</td>\n",
       "      <td>-1.264253e+00</td>\n",
       "      <td>-1.375717e+00</td>\n",
       "      <td>-1.667450e+00</td>\n",
       "    </tr>\n",
       "    <tr>\n",
       "      <th>25%</th>\n",
       "      <td>-6.585430e-01</td>\n",
       "      <td>-6.647545e-01</td>\n",
       "      <td>-6.345777e-01</td>\n",
       "      <td>-6.748652e-01</td>\n",
       "      <td>-3.148231e-01</td>\n",
       "      <td>-9.568879e-01</td>\n",
       "      <td>-9.268335e-01</td>\n",
       "    </tr>\n",
       "    <tr>\n",
       "      <th>50%</th>\n",
       "      <td>-1.486741e-01</td>\n",
       "      <td>-1.691691e-01</td>\n",
       "      <td>-4.447369e-02</td>\n",
       "      <td>-4.385177e-01</td>\n",
       "      <td>-5.588771e-02</td>\n",
       "      <td>-1.192290e-01</td>\n",
       "      <td>-6.771858e-02</td>\n",
       "    </tr>\n",
       "    <tr>\n",
       "      <th>75%</th>\n",
       "      <td>6.161291e-01</td>\n",
       "      <td>4.916113e-01</td>\n",
       "      <td>5.456303e-01</td>\n",
       "      <td>1.523511e-01</td>\n",
       "      <td>4.619831e-01</td>\n",
       "      <td>7.184299e-01</td>\n",
       "      <td>4.210880e-01</td>\n",
       "    </tr>\n",
       "    <tr>\n",
       "      <th>max</th>\n",
       "      <td>2.910539e+00</td>\n",
       "      <td>1.813172e+00</td>\n",
       "      <td>2.315942e+00</td>\n",
       "      <td>2.515826e+00</td>\n",
       "      <td>3.914455e+00</td>\n",
       "      <td>1.765503e+00</td>\n",
       "      <td>1.665323e+00</td>\n",
       "    </tr>\n",
       "  </tbody>\n",
       "</table>\n",
       "</div>"
      ],
      "text/plain": [
       "                Ati           Ate            An             q          smag  \\\n",
       "count  6.393280e+05  6.393280e+05  6.393280e+05  6.393280e+05  6.393280e+05   \n",
       "mean   1.633424e-12 -6.496300e-13 -4.409594e-14  3.983713e-14 -8.762553e-14   \n",
       "std    1.000000e+00  1.000000e+00  1.000000e+00  1.000000e+00  1.000000e+00   \n",
       "min   -1.848237e+00 -2.151511e+00 -4.175202e+00 -8.733971e-01 -1.264253e+00   \n",
       "25%   -6.585430e-01 -6.647545e-01 -6.345777e-01 -6.748652e-01 -3.148231e-01   \n",
       "50%   -1.486741e-01 -1.691691e-01 -4.447369e-02 -4.385177e-01 -5.588771e-02   \n",
       "75%    6.161291e-01  4.916113e-01  5.456303e-01  1.523511e-01  4.619831e-01   \n",
       "max    2.910539e+00  1.813172e+00  2.315942e+00  2.515826e+00  3.914455e+00   \n",
       "\n",
       "                  x         Ti_Te  \n",
       "count  6.393280e+05  6.393280e+05  \n",
       "mean   2.687112e-14  5.456717e-14  \n",
       "std    1.000000e+00  1.000000e+00  \n",
       "min   -1.375717e+00 -1.667450e+00  \n",
       "25%   -9.568879e-01 -9.268335e-01  \n",
       "50%   -1.192290e-01 -6.771858e-02  \n",
       "75%    7.184299e-01  4.210880e-01  \n",
       "max    1.765503e+00  1.665323e+00  "
      ]
     },
     "execution_count": 12,
     "metadata": {},
     "output_type": "execute_result"
    }
   ],
   "source": [
    "shuffled_clean_input_df_7D.describe(include='all')"
   ]
  },
  {
   "cell_type": "code",
   "execution_count": 13,
   "metadata": {},
   "outputs": [],
   "source": [
    "# Creates a pandas dataframe for the inputs\n",
    "shuffled_clean_input_df_1 = shuffled_clean_input_df_7D.drop('Ate', axis=1)"
   ]
  },
  {
   "cell_type": "code",
   "execution_count": 14,
   "metadata": {},
   "outputs": [
    {
     "data": {
      "text/html": [
       "<div>\n",
       "<style scoped>\n",
       "    .dataframe tbody tr th:only-of-type {\n",
       "        vertical-align: middle;\n",
       "    }\n",
       "\n",
       "    .dataframe tbody tr th {\n",
       "        vertical-align: top;\n",
       "    }\n",
       "\n",
       "    .dataframe thead th {\n",
       "        text-align: right;\n",
       "    }\n",
       "</style>\n",
       "<table border=\"1\" class=\"dataframe\">\n",
       "  <thead>\n",
       "    <tr style=\"text-align: right;\">\n",
       "      <th></th>\n",
       "      <th>Ati</th>\n",
       "      <th>An</th>\n",
       "      <th>q</th>\n",
       "      <th>smag</th>\n",
       "      <th>x</th>\n",
       "      <th>Ti_Te</th>\n",
       "    </tr>\n",
       "  </thead>\n",
       "  <tbody>\n",
       "    <tr>\n",
       "      <th>count</th>\n",
       "      <td>6.393280e+05</td>\n",
       "      <td>6.393280e+05</td>\n",
       "      <td>6.393280e+05</td>\n",
       "      <td>6.393280e+05</td>\n",
       "      <td>6.393280e+05</td>\n",
       "      <td>6.393280e+05</td>\n",
       "    </tr>\n",
       "    <tr>\n",
       "      <th>mean</th>\n",
       "      <td>1.633424e-12</td>\n",
       "      <td>-4.409594e-14</td>\n",
       "      <td>3.983713e-14</td>\n",
       "      <td>-8.762553e-14</td>\n",
       "      <td>2.687112e-14</td>\n",
       "      <td>5.456717e-14</td>\n",
       "    </tr>\n",
       "    <tr>\n",
       "      <th>std</th>\n",
       "      <td>1.000000e+00</td>\n",
       "      <td>1.000000e+00</td>\n",
       "      <td>1.000000e+00</td>\n",
       "      <td>1.000000e+00</td>\n",
       "      <td>1.000000e+00</td>\n",
       "      <td>1.000000e+00</td>\n",
       "    </tr>\n",
       "    <tr>\n",
       "      <th>min</th>\n",
       "      <td>-1.848237e+00</td>\n",
       "      <td>-4.175202e+00</td>\n",
       "      <td>-8.733971e-01</td>\n",
       "      <td>-1.264253e+00</td>\n",
       "      <td>-1.375717e+00</td>\n",
       "      <td>-1.667450e+00</td>\n",
       "    </tr>\n",
       "    <tr>\n",
       "      <th>25%</th>\n",
       "      <td>-6.585430e-01</td>\n",
       "      <td>-6.345777e-01</td>\n",
       "      <td>-6.748652e-01</td>\n",
       "      <td>-3.148231e-01</td>\n",
       "      <td>-9.568879e-01</td>\n",
       "      <td>-9.268335e-01</td>\n",
       "    </tr>\n",
       "    <tr>\n",
       "      <th>50%</th>\n",
       "      <td>-1.486741e-01</td>\n",
       "      <td>-4.447369e-02</td>\n",
       "      <td>-4.385177e-01</td>\n",
       "      <td>-5.588771e-02</td>\n",
       "      <td>-1.192290e-01</td>\n",
       "      <td>-6.771858e-02</td>\n",
       "    </tr>\n",
       "    <tr>\n",
       "      <th>75%</th>\n",
       "      <td>6.161291e-01</td>\n",
       "      <td>5.456303e-01</td>\n",
       "      <td>1.523511e-01</td>\n",
       "      <td>4.619831e-01</td>\n",
       "      <td>7.184299e-01</td>\n",
       "      <td>4.210880e-01</td>\n",
       "    </tr>\n",
       "    <tr>\n",
       "      <th>max</th>\n",
       "      <td>2.910539e+00</td>\n",
       "      <td>2.315942e+00</td>\n",
       "      <td>2.515826e+00</td>\n",
       "      <td>3.914455e+00</td>\n",
       "      <td>1.765503e+00</td>\n",
       "      <td>1.665323e+00</td>\n",
       "    </tr>\n",
       "  </tbody>\n",
       "</table>\n",
       "</div>"
      ],
      "text/plain": [
       "                Ati            An             q          smag             x  \\\n",
       "count  6.393280e+05  6.393280e+05  6.393280e+05  6.393280e+05  6.393280e+05   \n",
       "mean   1.633424e-12 -4.409594e-14  3.983713e-14 -8.762553e-14  2.687112e-14   \n",
       "std    1.000000e+00  1.000000e+00  1.000000e+00  1.000000e+00  1.000000e+00   \n",
       "min   -1.848237e+00 -4.175202e+00 -8.733971e-01 -1.264253e+00 -1.375717e+00   \n",
       "25%   -6.585430e-01 -6.345777e-01 -6.748652e-01 -3.148231e-01 -9.568879e-01   \n",
       "50%   -1.486741e-01 -4.447369e-02 -4.385177e-01 -5.588771e-02 -1.192290e-01   \n",
       "75%    6.161291e-01  5.456303e-01  1.523511e-01  4.619831e-01  7.184299e-01   \n",
       "max    2.910539e+00  2.315942e+00  2.515826e+00  3.914455e+00  1.765503e+00   \n",
       "\n",
       "              Ti_Te  \n",
       "count  6.393280e+05  \n",
       "mean   5.456717e-14  \n",
       "std    1.000000e+00  \n",
       "min   -1.667450e+00  \n",
       "25%   -9.268335e-01  \n",
       "50%   -6.771858e-02  \n",
       "75%    4.210880e-01  \n",
       "max    1.665323e+00  "
      ]
     },
     "execution_count": 14,
     "metadata": {},
     "output_type": "execute_result"
    }
   ],
   "source": [
    "shuffled_clean_input_df_1.describe(include='all')"
   ]
  },
  {
   "cell_type": "code",
   "execution_count": 15,
   "metadata": {},
   "outputs": [
    {
     "name": "stdout",
     "output_type": "stream",
     "text": [
      "(639328, 6)\n"
     ]
    }
   ],
   "source": [
    "print(shuffled_clean_input_df_1.shape)"
   ]
  },
  {
   "cell_type": "code",
   "execution_count": 16,
   "metadata": {},
   "outputs": [],
   "source": [
    "shuffled_clean_input_df_2 = shuffled_clean_input_df_7D.drop('Ati', axis=1)\n",
    "shuffled_clean_input_df_2 = shuffled_clean_input_df_2.drop('An', axis=1)\n",
    "shuffled_clean_input_df_2 = shuffled_clean_input_df_2.drop('q', axis=1)\n",
    "shuffled_clean_input_df_2 = shuffled_clean_input_df_2.drop('smag', axis=1)\n",
    "shuffled_clean_input_df_2 = shuffled_clean_input_df_2.drop('x', axis=1)\n",
    "shuffled_clean_input_df_2 = shuffled_clean_input_df_2.drop('Ti_Te', axis=1)"
   ]
  },
  {
   "cell_type": "code",
   "execution_count": 17,
   "metadata": {},
   "outputs": [
    {
     "data": {
      "text/html": [
       "<div>\n",
       "<style scoped>\n",
       "    .dataframe tbody tr th:only-of-type {\n",
       "        vertical-align: middle;\n",
       "    }\n",
       "\n",
       "    .dataframe tbody tr th {\n",
       "        vertical-align: top;\n",
       "    }\n",
       "\n",
       "    .dataframe thead th {\n",
       "        text-align: right;\n",
       "    }\n",
       "</style>\n",
       "<table border=\"1\" class=\"dataframe\">\n",
       "  <thead>\n",
       "    <tr style=\"text-align: right;\">\n",
       "      <th></th>\n",
       "      <th>Ate</th>\n",
       "    </tr>\n",
       "  </thead>\n",
       "  <tbody>\n",
       "    <tr>\n",
       "      <th>count</th>\n",
       "      <td>6.393280e+05</td>\n",
       "    </tr>\n",
       "    <tr>\n",
       "      <th>mean</th>\n",
       "      <td>-6.496300e-13</td>\n",
       "    </tr>\n",
       "    <tr>\n",
       "      <th>std</th>\n",
       "      <td>1.000000e+00</td>\n",
       "    </tr>\n",
       "    <tr>\n",
       "      <th>min</th>\n",
       "      <td>-2.151511e+00</td>\n",
       "    </tr>\n",
       "    <tr>\n",
       "      <th>25%</th>\n",
       "      <td>-6.647545e-01</td>\n",
       "    </tr>\n",
       "    <tr>\n",
       "      <th>50%</th>\n",
       "      <td>-1.691691e-01</td>\n",
       "    </tr>\n",
       "    <tr>\n",
       "      <th>75%</th>\n",
       "      <td>4.916113e-01</td>\n",
       "    </tr>\n",
       "    <tr>\n",
       "      <th>max</th>\n",
       "      <td>1.813172e+00</td>\n",
       "    </tr>\n",
       "  </tbody>\n",
       "</table>\n",
       "</div>"
      ],
      "text/plain": [
       "                Ate\n",
       "count  6.393280e+05\n",
       "mean  -6.496300e-13\n",
       "std    1.000000e+00\n",
       "min   -2.151511e+00\n",
       "25%   -6.647545e-01\n",
       "50%   -1.691691e-01\n",
       "75%    4.916113e-01\n",
       "max    1.813172e+00"
      ]
     },
     "execution_count": 17,
     "metadata": {},
     "output_type": "execute_result"
    }
   ],
   "source": [
    "shuffled_clean_input_df_2.describe(include='all')"
   ]
  },
  {
   "cell_type": "code",
   "execution_count": 18,
   "metadata": {},
   "outputs": [
    {
     "name": "stdout",
     "output_type": "stream",
     "text": [
      "(639328, 1)\n"
     ]
    }
   ],
   "source": [
    "print(shuffled_clean_input_df_2.shape)"
   ]
  },
  {
   "cell_type": "code",
   "execution_count": 19,
   "metadata": {},
   "outputs": [],
   "source": [
    "# *************************************************************************** #\n",
    "# Branch 1\n",
    "\n",
    "# Creates training dataset (90% of total data) for inputs\n",
    "x_train_1 = shuffled_clean_input_df_1.iloc[:int(\n",
    "    numpy.round(len(shuffled_clean_input_df_1)*0.9))]\n",
    "\n",
    "# Creates testing dataset (10% of total data) for inputs\n",
    "x_test_1 = shuffled_clean_input_df_1.iloc[int(\n",
    "    numpy.round(len(shuffled_clean_input_df_1)*0.9)):]\n",
    "# *************************************************************************** #"
   ]
  },
  {
   "cell_type": "code",
   "execution_count": 20,
   "metadata": {},
   "outputs": [],
   "source": [
    "# *************************************************************************** #\n",
    "# Branch 2\n",
    "\n",
    "# Creates training dataset (90% of total data) for inputs\n",
    "x_train_2 = shuffled_clean_input_df_2.iloc[:int(\n",
    "    numpy.round(len(shuffled_clean_input_df_2)*0.9))]\n",
    "\n",
    "# Creates testing dataset (10% of total data) for inputs\n",
    "x_test_2 = shuffled_clean_input_df_2.iloc[int(\n",
    "    numpy.round(len(shuffled_clean_input_df_2)*0.9)):]\n",
    "# *************************************************************************** #"
   ]
  },
  {
   "cell_type": "code",
   "execution_count": 21,
   "metadata": {},
   "outputs": [
    {
     "name": "stdout",
     "output_type": "stream",
     "text": [
      "__________________________________________________________________________________________________\n",
      "Layer (type)                    Output Shape         Param #     Connected to                     \n",
      "==================================================================================================\n",
      "input_1 (InputLayer)            (None, 6)            0                                            \n",
      "__________________________________________________________________________________________________\n",
      "input_2 (InputLayer)            (None, 1)            0                                            \n",
      "__________________________________________________________________________________________________\n",
      "dense_1 (Dense)                 (None, 30)           210         input_1[0][0]                    \n",
      "__________________________________________________________________________________________________\n",
      "dense_3 (Dense)                 (None, 1)            2           input_2[0][0]                    \n",
      "__________________________________________________________________________________________________\n",
      "dense_2 (Dense)                 (None, 30)           930         dense_1[0][0]                    \n",
      "__________________________________________________________________________________________________\n",
      "thresholded_re_lu_1 (Thresholde (None, 1)            0           dense_3[0][0]                    \n",
      "__________________________________________________________________________________________________\n",
      "concatenate_1 (Concatenate)     (None, 31)           0           dense_2[0][0]                    \n",
      "                                                                 thresholded_re_lu_1[0][0]        \n",
      "__________________________________________________________________________________________________\n",
      "dense_4 (Dense)                 (None, 1)            32          concatenate_1[0][0]              \n",
      "==================================================================================================\n",
      "Total params: 1,174\n",
      "Trainable params: 1,174\n",
      "Non-trainable params: 0\n",
      "__________________________________________________________________________________________________\n",
      "None\n"
     ]
    }
   ],
   "source": [
    "# branch1\n",
    "visible_branch1 = Input(shape=(6,))\n",
    "hidden1_branch1 = Dense(30,\n",
    "        activation='tanh',\n",
    "        kernel_initializer='glorot_normal',\n",
    "        kernel_regularizer=regularizers.l2(0.00005),\n",
    "        use_bias=True, bias_initializer='glorot_normal')(visible_branch1)\n",
    "hidden2_branch1 = Dense(30,\n",
    "        activation='tanh',\n",
    "        kernel_initializer='glorot_normal',\n",
    "        kernel_regularizer=regularizers.l2(0.00005),\n",
    "        use_bias=True, bias_initializer='glorot_normal')(hidden1_branch1)\n",
    "\n",
    "# branch2 (Ate input)\n",
    "visible_branch2 = Input(shape=(1,))\n",
    "visible_branch2_feeder = Dense(1,\n",
    "                activation='relu')(visible_branch2)\n",
    "#TR = Dense(1, activation='relu')(visible_branch2_feeder)\n",
    "#TR = Dense(1, activation=ThresholdedReLU(theta=0.8))(visible_branch2_feeder)\n",
    "TR = ThresholdedReLU(theta=0.8)(visible_branch2_feeder)\n",
    "\n",
    "# merge input models\n",
    "merge = concatenate([hidden2_branch1, TR])\n",
    "\n",
    "# interpretation model\n",
    "output = Dense(1, activation='linear')(merge)\n",
    "\n",
    "model = Model(inputs=[visible_branch1, visible_branch2], outputs=output)\n",
    "\n",
    "# summarize layers\n",
    "print(model.summary())\n",
    "\n",
    "# plot graph\n",
    "plot_model(model, 'ModelPlots/' + str(file_name) + '_model_plot.png')"
   ]
  },
  {
   "cell_type": "code",
   "execution_count": 22,
   "metadata": {},
   "outputs": [
    {
     "name": "stdout",
     "output_type": "stream",
     "text": [
      "Train on 575395 samples, validate on 63933 samples\n",
      "Epoch 1/100\n",
      " - 100s - loss: 0.5041 - mean_absolute_error: 0.5088 - mean_squared_error: 0.5000 - rmse: 0.6750 - val_loss: 0.6568 - val_mean_absolute_error: 0.6102 - val_mean_squared_error: 0.6516 - val_rmse: 0.7121\n",
      "Epoch 2/100\n",
      " - 98s - loss: 0.4691 - mean_absolute_error: 0.4844 - mean_squared_error: 0.4632 - rmse: 0.6491 - val_loss: 0.6773 - val_mean_absolute_error: 0.6378 - val_mean_squared_error: 0.6709 - val_rmse: 0.7330\n",
      "Epoch 3/100\n",
      " - 93s - loss: 0.4615 - mean_absolute_error: 0.4790 - mean_squared_error: 0.4547 - rmse: 0.6424 - val_loss: 0.6774 - val_mean_absolute_error: 0.6243 - val_mean_squared_error: 0.6702 - val_rmse: 0.7246\n",
      "Epoch 4/100\n",
      " - 89s - loss: 0.4567 - mean_absolute_error: 0.4752 - mean_squared_error: 0.4492 - rmse: 0.6380 - val_loss: 0.6499 - val_mean_absolute_error: 0.6041 - val_mean_squared_error: 0.6421 - val_rmse: 0.7073\n",
      "Epoch 5/100\n",
      " - 93s - loss: 0.4540 - mean_absolute_error: 0.4731 - mean_squared_error: 0.4459 - rmse: 0.6357 - val_loss: 0.6440 - val_mean_absolute_error: 0.5981 - val_mean_squared_error: 0.6357 - val_rmse: 0.7028\n",
      "Epoch 6/100\n",
      " - 98s - loss: 0.4520 - mean_absolute_error: 0.4715 - mean_squared_error: 0.4436 - rmse: 0.6337 - val_loss: 0.6342 - val_mean_absolute_error: 0.5943 - val_mean_squared_error: 0.6256 - val_rmse: 0.6990\n",
      "Epoch 7/100\n",
      " - 94s - loss: 0.4512 - mean_absolute_error: 0.4706 - mean_squared_error: 0.4424 - rmse: 0.6327 - val_loss: 0.6400 - val_mean_absolute_error: 0.6009 - val_mean_squared_error: 0.6311 - val_rmse: 0.7051\n",
      "Epoch 8/100\n",
      " - 91s - loss: 0.4503 - mean_absolute_error: 0.4699 - mean_squared_error: 0.4412 - rmse: 0.6320 - val_loss: 0.6559 - val_mean_absolute_error: 0.6011 - val_mean_squared_error: 0.6466 - val_rmse: 0.7059\n",
      "Epoch 9/100\n",
      " - 94s - loss: 0.4495 - mean_absolute_error: 0.4693 - mean_squared_error: 0.4401 - rmse: 0.6313 - val_loss: 0.6419 - val_mean_absolute_error: 0.6011 - val_mean_squared_error: 0.6323 - val_rmse: 0.7031\n",
      "Epoch 10/100\n",
      " - 100s - loss: 0.4490 - mean_absolute_error: 0.4688 - mean_squared_error: 0.4394 - rmse: 0.6305 - val_loss: 0.6403 - val_mean_absolute_error: 0.5992 - val_mean_squared_error: 0.6306 - val_rmse: 0.7052\n",
      "Epoch 11/100\n",
      " - 98s - loss: 0.4486 - mean_absolute_error: 0.4684 - mean_squared_error: 0.4388 - rmse: 0.6301 - val_loss: 0.6294 - val_mean_absolute_error: 0.5873 - val_mean_squared_error: 0.6195 - val_rmse: 0.6912\n",
      "Epoch 12/100\n",
      " - 93s - loss: 0.4481 - mean_absolute_error: 0.4680 - mean_squared_error: 0.4382 - rmse: 0.6298 - val_loss: 0.6392 - val_mean_absolute_error: 0.5969 - val_mean_squared_error: 0.6293 - val_rmse: 0.7025\n",
      "Epoch 13/100\n",
      " - 90s - loss: 0.4479 - mean_absolute_error: 0.4676 - mean_squared_error: 0.4379 - rmse: 0.6292 - val_loss: 0.6390 - val_mean_absolute_error: 0.5921 - val_mean_squared_error: 0.6289 - val_rmse: 0.6956\n",
      "Epoch 14/100\n",
      " - 93s - loss: 0.4475 - mean_absolute_error: 0.4672 - mean_squared_error: 0.4374 - rmse: 0.6291 - val_loss: 0.6407 - val_mean_absolute_error: 0.6048 - val_mean_squared_error: 0.6305 - val_rmse: 0.7073\n",
      "Epoch 15/100\n",
      " - 97s - loss: 0.4477 - mean_absolute_error: 0.4673 - mean_squared_error: 0.4375 - rmse: 0.6292 - val_loss: 0.6274 - val_mean_absolute_error: 0.5856 - val_mean_squared_error: 0.6172 - val_rmse: 0.6911\n",
      "Epoch 16/100\n",
      " - 98s - loss: 0.4472 - mean_absolute_error: 0.4669 - mean_squared_error: 0.4369 - rmse: 0.6288 - val_loss: 0.6335 - val_mean_absolute_error: 0.5955 - val_mean_squared_error: 0.6232 - val_rmse: 0.6976\n",
      "Epoch 17/100\n",
      " - 92s - loss: 0.4471 - mean_absolute_error: 0.4668 - mean_squared_error: 0.4367 - rmse: 0.6285 - val_loss: 0.6404 - val_mean_absolute_error: 0.5906 - val_mean_squared_error: 0.6300 - val_rmse: 0.6978\n",
      "Epoch 18/100\n",
      " - 93s - loss: 0.4471 - mean_absolute_error: 0.4668 - mean_squared_error: 0.4367 - rmse: 0.6282 - val_loss: 0.6410 - val_mean_absolute_error: 0.5995 - val_mean_squared_error: 0.6305 - val_rmse: 0.7020\n",
      "Epoch 19/100\n",
      " - 100s - loss: 0.4467 - mean_absolute_error: 0.4665 - mean_squared_error: 0.4362 - rmse: 0.6279 - val_loss: 0.6367 - val_mean_absolute_error: 0.5925 - val_mean_squared_error: 0.6262 - val_rmse: 0.6972\n",
      "Epoch 20/100\n",
      " - 103s - loss: 0.4466 - mean_absolute_error: 0.4663 - mean_squared_error: 0.4360 - rmse: 0.6278 - val_loss: 0.6213 - val_mean_absolute_error: 0.5739 - val_mean_squared_error: 0.6107 - val_rmse: 0.6826\n",
      "Epoch 21/100\n",
      " - 99s - loss: 0.4463 - mean_absolute_error: 0.4659 - mean_squared_error: 0.4356 - rmse: 0.6274 - val_loss: 0.6228 - val_mean_absolute_error: 0.5758 - val_mean_squared_error: 0.6121 - val_rmse: 0.6821\n",
      "Epoch 22/100\n",
      " - 94s - loss: 0.4459 - mean_absolute_error: 0.4657 - mean_squared_error: 0.4351 - rmse: 0.6273 - val_loss: 0.6220 - val_mean_absolute_error: 0.5772 - val_mean_squared_error: 0.6112 - val_rmse: 0.6838\n",
      "Epoch 23/100\n",
      " - 91s - loss: 0.4460 - mean_absolute_error: 0.4656 - mean_squared_error: 0.4351 - rmse: 0.6273 - val_loss: 0.6238 - val_mean_absolute_error: 0.5785 - val_mean_squared_error: 0.6129 - val_rmse: 0.6850\n",
      "Epoch 24/100\n",
      " - 93s - loss: 0.4459 - mean_absolute_error: 0.4655 - mean_squared_error: 0.4350 - rmse: 0.6270 - val_loss: 0.6217 - val_mean_absolute_error: 0.5782 - val_mean_squared_error: 0.6106 - val_rmse: 0.6841\n",
      "Epoch 25/100\n",
      " - 98s - loss: 0.4458 - mean_absolute_error: 0.4654 - mean_squared_error: 0.4348 - rmse: 0.6268 - val_loss: 0.6448 - val_mean_absolute_error: 0.6039 - val_mean_squared_error: 0.6338 - val_rmse: 0.7092\n",
      "Epoch 26/100\n",
      " - 99s - loss: 0.4457 - mean_absolute_error: 0.4654 - mean_squared_error: 0.4346 - rmse: 0.6268 - val_loss: 0.6213 - val_mean_absolute_error: 0.5718 - val_mean_squared_error: 0.6101 - val_rmse: 0.6791\n",
      "Epoch 27/100\n",
      " - 92s - loss: 0.4456 - mean_absolute_error: 0.4652 - mean_squared_error: 0.4344 - rmse: 0.6264 - val_loss: 0.6213 - val_mean_absolute_error: 0.5820 - val_mean_squared_error: 0.6100 - val_rmse: 0.6860\n",
      "Epoch 28/100\n",
      " - 101s - loss: 0.4456 - mean_absolute_error: 0.4650 - mean_squared_error: 0.4343 - rmse: 0.6266 - val_loss: 0.6309 - val_mean_absolute_error: 0.5915 - val_mean_squared_error: 0.6196 - val_rmse: 0.6960\n",
      "Epoch 29/100\n",
      " - 92s - loss: 0.4453 - mean_absolute_error: 0.4648 - mean_squared_error: 0.4340 - rmse: 0.6265 - val_loss: 0.6309 - val_mean_absolute_error: 0.5846 - val_mean_squared_error: 0.6196 - val_rmse: 0.6934\n",
      "Epoch 30/100\n",
      " - 95s - loss: 0.4454 - mean_absolute_error: 0.4648 - mean_squared_error: 0.4340 - rmse: 0.6265 - val_loss: 0.6238 - val_mean_absolute_error: 0.5805 - val_mean_squared_error: 0.6124 - val_rmse: 0.6875\n",
      "Epoch 31/100\n",
      " - 100s - loss: 0.4454 - mean_absolute_error: 0.4647 - mean_squared_error: 0.4340 - rmse: 0.6261 - val_loss: 0.6264 - val_mean_absolute_error: 0.5823 - val_mean_squared_error: 0.6150 - val_rmse: 0.6879\n",
      "Epoch 32/100\n",
      " - 93s - loss: 0.4453 - mean_absolute_error: 0.4646 - mean_squared_error: 0.4339 - rmse: 0.6261 - val_loss: 0.6257 - val_mean_absolute_error: 0.5900 - val_mean_squared_error: 0.6143 - val_rmse: 0.6925\n",
      "Epoch 33/100\n",
      " - 93s - loss: 0.4452 - mean_absolute_error: 0.4648 - mean_squared_error: 0.4338 - rmse: 0.6260 - val_loss: 0.6246 - val_mean_absolute_error: 0.5847 - val_mean_squared_error: 0.6132 - val_rmse: 0.6895\n",
      "Epoch 34/100\n",
      " - 94s - loss: 0.4454 - mean_absolute_error: 0.4648 - mean_squared_error: 0.4339 - rmse: 0.6262 - val_loss: 0.6273 - val_mean_absolute_error: 0.5812 - val_mean_squared_error: 0.6158 - val_rmse: 0.6874\n",
      "Epoch 35/100\n",
      " - 97s - loss: 0.4453 - mean_absolute_error: 0.4646 - mean_squared_error: 0.4337 - rmse: 0.6259 - val_loss: 0.6333 - val_mean_absolute_error: 0.5970 - val_mean_squared_error: 0.6218 - val_rmse: 0.6995\n",
      "Epoch 36/100\n",
      " - 99s - loss: 0.4453 - mean_absolute_error: 0.4646 - mean_squared_error: 0.4337 - rmse: 0.6260 - val_loss: 0.6173 - val_mean_absolute_error: 0.5766 - val_mean_squared_error: 0.6058 - val_rmse: 0.6834\n",
      "Epoch 37/100\n",
      " - 127s - loss: 0.4453 - mean_absolute_error: 0.4646 - mean_squared_error: 0.4337 - rmse: 0.6260 - val_loss: 0.6160 - val_mean_absolute_error: 0.5797 - val_mean_squared_error: 0.6044 - val_rmse: 0.6838\n",
      "Epoch 38/100\n",
      " - 97s - loss: 0.4449 - mean_absolute_error: 0.4644 - mean_squared_error: 0.4333 - rmse: 0.6256 - val_loss: 0.6175 - val_mean_absolute_error: 0.5761 - val_mean_squared_error: 0.6059 - val_rmse: 0.6830\n",
      "Epoch 39/100\n"
     ]
    },
    {
     "name": "stdout",
     "output_type": "stream",
     "text": [
      " - 110s - loss: 0.4450 - mean_absolute_error: 0.4645 - mean_squared_error: 0.4334 - rmse: 0.6258 - val_loss: 0.6203 - val_mean_absolute_error: 0.5786 - val_mean_squared_error: 0.6086 - val_rmse: 0.6855\n",
      "Epoch 40/100\n",
      " - 92s - loss: 0.4450 - mean_absolute_error: 0.4645 - mean_squared_error: 0.4334 - rmse: 0.6257 - val_loss: 0.6188 - val_mean_absolute_error: 0.5782 - val_mean_squared_error: 0.6071 - val_rmse: 0.6839\n",
      "Epoch 41/100\n",
      " - 97s - loss: 0.4450 - mean_absolute_error: 0.4645 - mean_squared_error: 0.4334 - rmse: 0.6256 - val_loss: 0.6361 - val_mean_absolute_error: 0.5974 - val_mean_squared_error: 0.6244 - val_rmse: 0.7004\n",
      "Test loss: 0.6360715072374611\n",
      "val_mean_absolute_error: 0.5974207593399996\n",
      "score\n",
      "[0.6360715072374611, 0.5974207593399996, 0.6244237965032783, 0.7219212224977869]\n",
      "model.metrics_names\n",
      "['loss', 'mean_absolute_error', 'mean_squared_error', 'rmse']\n"
     ]
    }
   ],
   "source": [
    "model.compile(loss='mean_squared_error',   #categorical_crossentropy\n",
    "              optimizer=Adam(lr=0.001, beta_1=0.9, beta_2=0.999),\n",
    "              metrics=[\"mae\", \"mean_squared_error\", rmse])\n",
    "\n",
    "# Add CallBacks (including TensorBoard)\n",
    "tbCallBack = keras.callbacks.TensorBoard(\n",
    "        log_dir='TensorBoard_logs/' + str(file_name), write_graph = False, write_images=False, write_grads=False)\n",
    "EarlyStoppingCallBack = keras.callbacks.EarlyStopping(\n",
    "        monitor='val_rmse', min_delta=0, patience=15, verbose=0, mode='auto')\n",
    "\n",
    "history = model.fit([x_train_1, x_train_2],\n",
    "                    y = y_train,\n",
    "                    batch_size=batch_size,\n",
    "                    epochs=epochs,\n",
    "                    shuffle=True,\n",
    "                    verbose=2,\n",
    "                    # validation_data=(x_test, y_test),\n",
    "                    validation_data=([x_test_1, x_test_2], y_test),\n",
    "                    callbacks=[tbCallBack, EarlyStoppingCallBack])\n",
    "\n",
    "# score = model.evaluate(x_test, y_test, verbose=0)\n",
    "score = model.evaluate([x_test_1, x_test_2], y_test, verbose=0)\n",
    "\n",
    "print('Test loss:', score[0])\n",
    "print('val_mean_absolute_error:', score[1])\n",
    "\n",
    "print(\"score\")\n",
    "print(score)\n",
    "\n",
    "print(\"model.metrics_names\")\n",
    "print(model.metrics_names)\n",
    "\n",
    "# creates a HDF5 file 'my_model.h5'\n",
    "model.save(\"./Saved-Networks/\" + str(file_name) +\".h5\")\n",
    "\n",
    "# Create output file\n",
    "OutputFile = open(\"./Loss-Values/\" +str(file_name) +\".txt\", \"w+\")\n",
    "OutputFile.write(\"Test loss: \" + str(score[0]) + \"\\n\")\n",
    "OutputFile.write(\"val_mean_absolute_error: \" +str(score[1]) + \"\\n\")\n",
    "OutputFile.write(\"val_mean_squared_error: \" +str(score[2]) + \"\\n\")\n",
    "OutputFile.write(\"RMSE: \" +str(score[3]) + \"\\n\")\n",
    "OutputFile.close()\n",
    "\n",
    "del history\n",
    "del model\n"
   ]
  },
  {
   "cell_type": "code",
   "execution_count": null,
   "metadata": {},
   "outputs": [],
   "source": []
  }
 ],
 "metadata": {
  "kernelspec": {
   "display_name": "Python 3",
   "language": "python",
   "name": "python3"
  },
  "language_info": {
   "codemirror_mode": {
    "name": "ipython",
    "version": 3
   },
   "file_extension": ".py",
   "mimetype": "text/x-python",
   "name": "python",
   "nbconvert_exporter": "python",
   "pygments_lexer": "ipython3",
   "version": "3.6.6"
  }
 },
 "nbformat": 4,
 "nbformat_minor": 2
}
