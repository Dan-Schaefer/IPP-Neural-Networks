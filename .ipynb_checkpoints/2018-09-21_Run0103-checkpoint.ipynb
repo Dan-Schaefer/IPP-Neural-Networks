{
 "cells": [
  {
   "cell_type": "code",
   "execution_count": 19,
   "metadata": {},
   "outputs": [
    {
     "name": "stdout",
     "output_type": "stream",
     "text": [
      "s_1:  1.2\n",
      "s_2 1.2\n",
      "v_y_Stage3:  3.0\n",
      "-0.6\n",
      "s_3: -2.4\n"
     ]
    }
   ],
   "source": [
    "import numpy\n",
    "import math\n",
    "\n",
    "title = \"BallSimulationDatabase.txt\"\n",
    "\n",
    "file = open(title, 'ab')\n",
    "\n",
    "'''\n",
    "for x in range(0,20):\n",
    "    print(x)\n",
    "    for y in range(0,20):\n",
    "        for g in range(0,21):\n",
    "            a = 0.2i+7\n",
    "            for u_x in range(0,20):\n",
    "                for u_y in range(0,20):\n",
    "                    DO SUVAT CALCULATIONS\n",
    "                    print(x, y, a, u_x, u_y)\n",
    "                    \n",
    "                    # SAVE TO FILE\n",
    "                    data = numpy.array([x, y, a, u_x, u_y])\n",
    "                    numpy.savetxt(file, data)\n",
    "                    \n",
    "file.close()\n",
    "'''\n",
    "\n",
    "'''\n",
    "for u_y in range(0,20):\n",
    "    out = u_y +5\n",
    "                    \n",
    "    # SAVE TO FILE\n",
    "    data = numpy.array([out])\n",
    "    numpy.savetxt(file, data)\n",
    "\n",
    "file.close()\n",
    "'''\n",
    "\n",
    "x = 0\n",
    "y = 0\n",
    "a = -10\n",
    "u_x = 4\n",
    "u_y = 3\n",
    "\n",
    "# Stage 1\n",
    "s_1 = (u_x*(-u_y/a))\n",
    "print(\"s_1: \", s_1)\n",
    "\n",
    "# Stage 2\n",
    "s_2 = s_1\n",
    "print(\"s_2\", s_2)\n",
    "\n",
    "\n",
    "\n",
    "\n",
    "\n",
    "\n",
    "\n",
    "\n",
    "\n",
    "# Stage 3\n",
    "# Vertical component\n",
    "v_y_Stage3 = math.sqrt(((-u_y)*(-u_y)) + (2*a*-y))    # PROBLEM (Complex or not?)\n",
    "print(\"v_y_Stage3: \", v_y_Stage3)\n",
    "t_Stage3 = (v_y_Stage3 - (-u_y))/a\n",
    "print(t_Stage3)\n",
    "\n",
    "# Horizontal component\n",
    "s_3 = u_x * t_Stage3\n",
    "print(\"s_3:\", s_3)\n",
    "\n",
    "s_x_final = x + s_1 + s_2 + s_3\n",
    "\n",
    "\n",
    "\n",
    "\n",
    "# SAVE TO FILE\n",
    "data = numpy.array([x, y, a, u_x, u_y, s_x_final])\n",
    "numpy.savetxt(file, data)\n",
    "                        \n",
    "file.close()"
   ]
  },
  {
   "cell_type": "code",
   "execution_count": null,
   "metadata": {},
   "outputs": [],
   "source": [
    "variables = x, y, a=g, u_x, u_y"
   ]
  }
 ],
 "metadata": {
  "kernelspec": {
   "display_name": "Python 3",
   "language": "python",
   "name": "python3"
  },
  "language_info": {
   "codemirror_mode": {
    "name": "ipython",
    "version": 3
   },
   "file_extension": ".py",
   "mimetype": "text/x-python",
   "name": "python",
   "nbconvert_exporter": "python",
   "pygments_lexer": "ipython3",
   "version": "3.6.6"
  }
 },
 "nbformat": 4,
 "nbformat_minor": 2
}
