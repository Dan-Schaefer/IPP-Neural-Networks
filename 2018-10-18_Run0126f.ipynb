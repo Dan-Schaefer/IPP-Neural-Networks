{
 "cells": [
  {
   "cell_type": "markdown",
   "metadata": {},
   "source": [
    "# Run Objective:"
   ]
  },
  {
   "cell_type": "markdown",
   "metadata": {},
   "source": [
    "Added the following:\n",
    "-  Same as Run0126e but with the last to layers now reverting back to `trainable=False`.\n"
   ]
  },
  {
   "cell_type": "code",
   "execution_count": null,
   "metadata": {},
   "outputs": [],
   "source": [
    "# DO NOT RUN THIS PART"
   ]
  },
  {
   "cell_type": "code",
   "execution_count": null,
   "metadata": {},
   "outputs": [],
   "source": [
    "import os\n",
    "import sys\n",
    "import time\n",
    "\n",
    "# Gets the current file name. Useful for procedurally generating output/log files.\n",
    "file_name =  os.path.basename(sys.argv[0][:-3])\n",
    "print(file_name)\n",
    "\n",
    "if file_name == \"ipykernel_launcher\":\n",
    "    print(\"This is the Jupyter version.\")\n",
    "    print(\"Now MANUALLY run the next two cells!\")\n",
    "    print(\"STOP! This should not be in your code!!\")\n",
    "    exit(0)\n",
    "    time.sleep(10)\n",
    "    print(\"Testing if script has really stopped.\")\n",
    "else:\n",
    "    print(\"This is the Atom version\")"
   ]
  },
  {
   "cell_type": "code",
   "execution_count": 1,
   "metadata": {},
   "outputs": [],
   "source": [
    "# RUN ONLY IN JUPYTER!!\n",
    "# Start here (manual)"
   ]
  },
  {
   "cell_type": "code",
   "execution_count": 2,
   "metadata": {},
   "outputs": [
    {
     "data": {
      "application/javascript": [
       "IPython.notebook.kernel.execute('file_name = \"' + IPython.notebook.notebook_name + '\"');\n"
      ],
      "text/plain": [
       "<IPython.core.display.Javascript object>"
      ]
     },
     "metadata": {},
     "output_type": "display_data"
    }
   ],
   "source": [
    "%%javascript\n",
    "IPython.notebook.kernel.execute('file_name = \"' + IPython.notebook.notebook_name + '\"');"
   ]
  },
  {
   "cell_type": "code",
   "execution_count": 3,
   "metadata": {},
   "outputs": [
    {
     "name": "stdout",
     "output_type": "stream",
     "text": [
      "2018-10-18_Run0126f.ipynb\n"
     ]
    }
   ],
   "source": [
    "print(file_name)"
   ]
  },
  {
   "cell_type": "code",
   "execution_count": 4,
   "metadata": {},
   "outputs": [
    {
     "name": "stdout",
     "output_type": "stream",
     "text": [
      "2018-10-18_Run0126f\n",
      "True\n"
     ]
    }
   ],
   "source": [
    "file_name = file_name[:-6]\n",
    "print(file_name)\n",
    "\n",
    "is_Jupyter = True\n",
    "print(is_Jupyter)"
   ]
  },
  {
   "cell_type": "code",
   "execution_count": null,
   "metadata": {},
   "outputs": [],
   "source": []
  },
  {
   "cell_type": "code",
   "execution_count": 5,
   "metadata": {},
   "outputs": [],
   "source": [
    "# Same code for both ATOM & JUPYTER from now (Run all cells below now)"
   ]
  },
  {
   "cell_type": "code",
   "execution_count": 6,
   "metadata": {},
   "outputs": [
    {
     "name": "stderr",
     "output_type": "stream",
     "text": [
      "Using TensorFlow backend.\n"
     ]
    }
   ],
   "source": [
    "'''\n",
    "Late Fusion Module (test) - Functional API\n",
    "'''\n",
    "\n",
    "# Multiple Inputs\n",
    "import keras\n",
    "from keras.optimizers import RMSprop, adam, Adam\n",
    "from keras.initializers import TruncatedNormal, glorot_normal, Constant\n",
    "from keras.utils import plot_model\n",
    "from keras.models import Model\n",
    "from keras.layers import Input\n",
    "from keras.layers import Dense\n",
    "from keras.layers.merge import concatenate\n",
    "from keras import regularizers\n",
    "from keras import backend as K\n",
    "from keras.backend import switch\n",
    "import pandas\n",
    "import numpy\n",
    "import sys\n",
    "import os\n",
    "from copy import deepcopy\n",
    "import tensorflow as tf\n",
    "from keras.utils.generic_utils import get_custom_objects\n",
    "from keras.layers.advanced_activations import ThresholdedReLU\n",
    "\n",
    "keras.backend.clear_session()"
   ]
  },
  {
   "cell_type": "code",
   "execution_count": 7,
   "metadata": {},
   "outputs": [],
   "source": [
    "# Define new Metric: rmse = Root Mean Square Error\n",
    "def rmse(y_true, y_pred):\n",
    "    return K.sqrt(K.mean(K.square( y_true-y_pred )))"
   ]
  },
  {
   "cell_type": "code",
   "execution_count": null,
   "metadata": {},
   "outputs": [],
   "source": []
  },
  {
   "cell_type": "code",
   "execution_count": 8,
   "metadata": {},
   "outputs": [],
   "source": [
    "# Modify for ATOM use"
   ]
  },
  {
   "cell_type": "code",
   "execution_count": 9,
   "metadata": {},
   "outputs": [],
   "source": [
    "if is_Jupyter == True:\n",
    "    pass\n",
    "else:\n",
    "    # Gets the current file name. Useful for procedurally generating output/log files.\n",
    "    file_name =  os.path.basename(sys.argv[0][:-3])"
   ]
  },
  {
   "cell_type": "code",
   "execution_count": null,
   "metadata": {},
   "outputs": [],
   "source": []
  },
  {
   "cell_type": "code",
   "execution_count": 10,
   "metadata": {},
   "outputs": [],
   "source": [
    "# Define neural network parameters\n",
    "batch_size = 10\n",
    "#num_classes = 1\n",
    "epochs = 100"
   ]
  },
  {
   "cell_type": "code",
   "execution_count": 11,
   "metadata": {},
   "outputs": [],
   "source": [
    "# Load Data (which is in HDF5 or .h5 format)\n",
    "store = pandas.HDFStore(\"unstable_training_gen3_7D_nions0_flat_filter8.h5\")\n",
    "target_df = store['/output/efeETG_GB'].to_frame()  # This one is relatively easy to train\n",
    "input_df = store['input']\n",
    "\n",
    "# Puts inputs and outputs in the same pandas dataframe.\n",
    "# Also only keeps overlapping entries.\n",
    "joined_dataFrame = target_df.join(input_df)\n",
    "\n",
    "# Make a copy of joined_dataFrame for later use\n",
    "joined_dataFrame_original = deepcopy(joined_dataFrame)\n",
    "\n",
    "\n",
    "# *************************************************************************** #\n",
    "# Normalize data by standard deviation and mean-centering the data\n",
    "# Standard configuration\n",
    "joined_dataFrame['efeETG_GB'] = (joined_dataFrame['efeETG_GB'] - joined_dataFrame['efeETG_GB'].mean()) / joined_dataFrame['efeETG_GB'].std()\n",
    "joined_dataFrame['Ati'] = (joined_dataFrame['Ati'] - joined_dataFrame['Ati'].mean()) / joined_dataFrame['Ati'].std()\n",
    "joined_dataFrame['Ate'] = (joined_dataFrame['Ate'] - joined_dataFrame['Ate'].mean()) / joined_dataFrame['Ate'].std()\n",
    "joined_dataFrame['An'] = (joined_dataFrame['An'] - joined_dataFrame['An'].mean()) / joined_dataFrame['An'].std()\n",
    "joined_dataFrame['q'] = (joined_dataFrame['q'] - joined_dataFrame['q'].mean()) / joined_dataFrame['q'].std()\n",
    "joined_dataFrame['smag'] = (joined_dataFrame['smag'] - joined_dataFrame['smag'].mean()) / joined_dataFrame['smag'].std()\n",
    "joined_dataFrame['x'] = (joined_dataFrame['x'] - joined_dataFrame['x'].mean()) / joined_dataFrame['x'].std()\n",
    "joined_dataFrame['Ti_Te'] = (joined_dataFrame['Ti_Te'] - joined_dataFrame['Ti_Te'].mean()) / joined_dataFrame['Ti_Te'].std()\n",
    "\n",
    "# Shuffles dataset\n",
    "shuffled_joined_dataFrame = joined_dataFrame.reindex(numpy.random.permutation(\n",
    "                                                joined_dataFrame.index))\n",
    "\n",
    "# Creates a pandas dataframe for the outputs\n",
    "shuffled_clean_output_df = shuffled_joined_dataFrame['efeETG_GB']\n",
    "\n",
    "# Make a copy of shuffled_joined_dataFrame for later use\n",
    "shuffled_joined_dataFrame_base = deepcopy(shuffled_joined_dataFrame)\n",
    "\n",
    "\n",
    "\n",
    "# *************************************************************************** #\n",
    "# Creates a pandas dataframe for the inputs (7D)\n",
    "shuffled_clean_input_df_7D = shuffled_joined_dataFrame.drop('efeETG_GB', axis=1)\n",
    "\n",
    "# Creates training dataset (90% of total data) for outputs\n",
    "y_train = shuffled_clean_output_df.iloc[:int(\n",
    "    numpy.round(len(shuffled_clean_output_df)*0.9))]\n",
    "\n",
    "# Creates training dataset (90% of total data) for inputs\n",
    "x_train = shuffled_clean_input_df_7D.iloc[:int(\n",
    "    numpy.round(len(shuffled_clean_input_df_7D)*0.9))]\n",
    "\n",
    "# Creates testing dataset (10% of total data) for outputs\n",
    "y_test = shuffled_clean_output_df.iloc[int(\n",
    "    numpy.round(len(shuffled_clean_output_df)*0.9)):]\n",
    "\n",
    "# Creates testing dataset (10% of total data) for inputs\n",
    "x_test = shuffled_clean_input_df_7D.iloc[int(\n",
    "    numpy.round(len(shuffled_clean_input_df_7D)*0.9)):]\n",
    "# *************************************************************************** #\n",
    "\n",
    "\n",
    "# Deletes pandas dataframes that are no longer needed\n",
    "del target_df, input_df\n",
    "\n",
    "# Closes the HDFStore. This is good practice.\n",
    "store.close()\n"
   ]
  },
  {
   "cell_type": "code",
   "execution_count": 12,
   "metadata": {},
   "outputs": [
    {
     "data": {
      "text/html": [
       "<div>\n",
       "<table border=\"1\" class=\"dataframe\">\n",
       "  <thead>\n",
       "    <tr style=\"text-align: right;\">\n",
       "      <th></th>\n",
       "      <th>Ati</th>\n",
       "      <th>Ate</th>\n",
       "      <th>An</th>\n",
       "      <th>q</th>\n",
       "      <th>smag</th>\n",
       "      <th>x</th>\n",
       "      <th>Ti_Te</th>\n",
       "    </tr>\n",
       "  </thead>\n",
       "  <tbody>\n",
       "    <tr>\n",
       "      <th>count</th>\n",
       "      <td>6.393280e+05</td>\n",
       "      <td>6.393280e+05</td>\n",
       "      <td>6.393280e+05</td>\n",
       "      <td>6.393280e+05</td>\n",
       "      <td>6.393280e+05</td>\n",
       "      <td>6.393280e+05</td>\n",
       "      <td>6.393280e+05</td>\n",
       "    </tr>\n",
       "    <tr>\n",
       "      <th>mean</th>\n",
       "      <td>1.180741e-16</td>\n",
       "      <td>1.298104e-17</td>\n",
       "      <td>2.642441e-16</td>\n",
       "      <td>-2.187215e-17</td>\n",
       "      <td>-5.459148e-17</td>\n",
       "      <td>9.455706e-17</td>\n",
       "      <td>-1.527494e-16</td>\n",
       "    </tr>\n",
       "    <tr>\n",
       "      <th>std</th>\n",
       "      <td>1.000000e+00</td>\n",
       "      <td>1.000000e+00</td>\n",
       "      <td>1.000000e+00</td>\n",
       "      <td>1.000000e+00</td>\n",
       "      <td>1.000000e+00</td>\n",
       "      <td>1.000000e+00</td>\n",
       "      <td>1.000000e+00</td>\n",
       "    </tr>\n",
       "    <tr>\n",
       "      <th>min</th>\n",
       "      <td>-1.848237e+00</td>\n",
       "      <td>-2.151511e+00</td>\n",
       "      <td>-4.175202e+00</td>\n",
       "      <td>-8.733971e-01</td>\n",
       "      <td>-1.264253e+00</td>\n",
       "      <td>-1.375717e+00</td>\n",
       "      <td>-1.667450e+00</td>\n",
       "    </tr>\n",
       "    <tr>\n",
       "      <th>25%</th>\n",
       "      <td>-6.585430e-01</td>\n",
       "      <td>-6.647545e-01</td>\n",
       "      <td>-6.345777e-01</td>\n",
       "      <td>-6.748652e-01</td>\n",
       "      <td>-3.148231e-01</td>\n",
       "      <td>-9.568879e-01</td>\n",
       "      <td>-9.268335e-01</td>\n",
       "    </tr>\n",
       "    <tr>\n",
       "      <th>50%</th>\n",
       "      <td>-1.486741e-01</td>\n",
       "      <td>-1.691691e-01</td>\n",
       "      <td>-4.447369e-02</td>\n",
       "      <td>-4.385177e-01</td>\n",
       "      <td>-5.588771e-02</td>\n",
       "      <td>-1.192290e-01</td>\n",
       "      <td>-6.771858e-02</td>\n",
       "    </tr>\n",
       "    <tr>\n",
       "      <th>75%</th>\n",
       "      <td>6.161291e-01</td>\n",
       "      <td>4.916113e-01</td>\n",
       "      <td>5.456303e-01</td>\n",
       "      <td>1.523511e-01</td>\n",
       "      <td>4.619831e-01</td>\n",
       "      <td>7.184299e-01</td>\n",
       "      <td>4.210880e-01</td>\n",
       "    </tr>\n",
       "    <tr>\n",
       "      <th>max</th>\n",
       "      <td>2.910539e+00</td>\n",
       "      <td>1.813172e+00</td>\n",
       "      <td>2.315942e+00</td>\n",
       "      <td>2.515826e+00</td>\n",
       "      <td>3.914455e+00</td>\n",
       "      <td>1.765503e+00</td>\n",
       "      <td>1.665323e+00</td>\n",
       "    </tr>\n",
       "  </tbody>\n",
       "</table>\n",
       "</div>"
      ],
      "text/plain": [
       "                Ati           Ate            An             q          smag  \\\n",
       "count  6.393280e+05  6.393280e+05  6.393280e+05  6.393280e+05  6.393280e+05   \n",
       "mean   1.180741e-16  1.298104e-17  2.642441e-16 -2.187215e-17 -5.459148e-17   \n",
       "std    1.000000e+00  1.000000e+00  1.000000e+00  1.000000e+00  1.000000e+00   \n",
       "min   -1.848237e+00 -2.151511e+00 -4.175202e+00 -8.733971e-01 -1.264253e+00   \n",
       "25%   -6.585430e-01 -6.647545e-01 -6.345777e-01 -6.748652e-01 -3.148231e-01   \n",
       "50%   -1.486741e-01 -1.691691e-01 -4.447369e-02 -4.385177e-01 -5.588771e-02   \n",
       "75%    6.161291e-01  4.916113e-01  5.456303e-01  1.523511e-01  4.619831e-01   \n",
       "max    2.910539e+00  1.813172e+00  2.315942e+00  2.515826e+00  3.914455e+00   \n",
       "\n",
       "                  x         Ti_Te  \n",
       "count  6.393280e+05  6.393280e+05  \n",
       "mean   9.455706e-17 -1.527494e-16  \n",
       "std    1.000000e+00  1.000000e+00  \n",
       "min   -1.375717e+00 -1.667450e+00  \n",
       "25%   -9.568879e-01 -9.268335e-01  \n",
       "50%   -1.192290e-01 -6.771858e-02  \n",
       "75%    7.184299e-01  4.210880e-01  \n",
       "max    1.765503e+00  1.665323e+00  "
      ]
     },
     "execution_count": 12,
     "metadata": {},
     "output_type": "execute_result"
    }
   ],
   "source": [
    "shuffled_clean_input_df_7D.describe(include='all')"
   ]
  },
  {
   "cell_type": "code",
   "execution_count": 13,
   "metadata": {},
   "outputs": [],
   "source": [
    "# Creates a pandas dataframe for the inputs\n",
    "shuffled_clean_input_df_1 = shuffled_clean_input_df_7D.drop('Ate', axis=1)"
   ]
  },
  {
   "cell_type": "code",
   "execution_count": 14,
   "metadata": {},
   "outputs": [
    {
     "data": {
      "text/html": [
       "<div>\n",
       "<table border=\"1\" class=\"dataframe\">\n",
       "  <thead>\n",
       "    <tr style=\"text-align: right;\">\n",
       "      <th></th>\n",
       "      <th>Ati</th>\n",
       "      <th>An</th>\n",
       "      <th>q</th>\n",
       "      <th>smag</th>\n",
       "      <th>x</th>\n",
       "      <th>Ti_Te</th>\n",
       "    </tr>\n",
       "  </thead>\n",
       "  <tbody>\n",
       "    <tr>\n",
       "      <th>count</th>\n",
       "      <td>6.393280e+05</td>\n",
       "      <td>6.393280e+05</td>\n",
       "      <td>6.393280e+05</td>\n",
       "      <td>6.393280e+05</td>\n",
       "      <td>6.393280e+05</td>\n",
       "      <td>6.393280e+05</td>\n",
       "    </tr>\n",
       "    <tr>\n",
       "      <th>mean</th>\n",
       "      <td>1.180741e-16</td>\n",
       "      <td>2.642441e-16</td>\n",
       "      <td>-2.187215e-17</td>\n",
       "      <td>-5.459148e-17</td>\n",
       "      <td>9.455706e-17</td>\n",
       "      <td>-1.527494e-16</td>\n",
       "    </tr>\n",
       "    <tr>\n",
       "      <th>std</th>\n",
       "      <td>1.000000e+00</td>\n",
       "      <td>1.000000e+00</td>\n",
       "      <td>1.000000e+00</td>\n",
       "      <td>1.000000e+00</td>\n",
       "      <td>1.000000e+00</td>\n",
       "      <td>1.000000e+00</td>\n",
       "    </tr>\n",
       "    <tr>\n",
       "      <th>min</th>\n",
       "      <td>-1.848237e+00</td>\n",
       "      <td>-4.175202e+00</td>\n",
       "      <td>-8.733971e-01</td>\n",
       "      <td>-1.264253e+00</td>\n",
       "      <td>-1.375717e+00</td>\n",
       "      <td>-1.667450e+00</td>\n",
       "    </tr>\n",
       "    <tr>\n",
       "      <th>25%</th>\n",
       "      <td>-6.585430e-01</td>\n",
       "      <td>-6.345777e-01</td>\n",
       "      <td>-6.748652e-01</td>\n",
       "      <td>-3.148231e-01</td>\n",
       "      <td>-9.568879e-01</td>\n",
       "      <td>-9.268335e-01</td>\n",
       "    </tr>\n",
       "    <tr>\n",
       "      <th>50%</th>\n",
       "      <td>-1.486741e-01</td>\n",
       "      <td>-4.447369e-02</td>\n",
       "      <td>-4.385177e-01</td>\n",
       "      <td>-5.588771e-02</td>\n",
       "      <td>-1.192290e-01</td>\n",
       "      <td>-6.771858e-02</td>\n",
       "    </tr>\n",
       "    <tr>\n",
       "      <th>75%</th>\n",
       "      <td>6.161291e-01</td>\n",
       "      <td>5.456303e-01</td>\n",
       "      <td>1.523511e-01</td>\n",
       "      <td>4.619831e-01</td>\n",
       "      <td>7.184299e-01</td>\n",
       "      <td>4.210880e-01</td>\n",
       "    </tr>\n",
       "    <tr>\n",
       "      <th>max</th>\n",
       "      <td>2.910539e+00</td>\n",
       "      <td>2.315942e+00</td>\n",
       "      <td>2.515826e+00</td>\n",
       "      <td>3.914455e+00</td>\n",
       "      <td>1.765503e+00</td>\n",
       "      <td>1.665323e+00</td>\n",
       "    </tr>\n",
       "  </tbody>\n",
       "</table>\n",
       "</div>"
      ],
      "text/plain": [
       "                Ati            An             q          smag             x  \\\n",
       "count  6.393280e+05  6.393280e+05  6.393280e+05  6.393280e+05  6.393280e+05   \n",
       "mean   1.180741e-16  2.642441e-16 -2.187215e-17 -5.459148e-17  9.455706e-17   \n",
       "std    1.000000e+00  1.000000e+00  1.000000e+00  1.000000e+00  1.000000e+00   \n",
       "min   -1.848237e+00 -4.175202e+00 -8.733971e-01 -1.264253e+00 -1.375717e+00   \n",
       "25%   -6.585430e-01 -6.345777e-01 -6.748652e-01 -3.148231e-01 -9.568879e-01   \n",
       "50%   -1.486741e-01 -4.447369e-02 -4.385177e-01 -5.588771e-02 -1.192290e-01   \n",
       "75%    6.161291e-01  5.456303e-01  1.523511e-01  4.619831e-01  7.184299e-01   \n",
       "max    2.910539e+00  2.315942e+00  2.515826e+00  3.914455e+00  1.765503e+00   \n",
       "\n",
       "              Ti_Te  \n",
       "count  6.393280e+05  \n",
       "mean  -1.527494e-16  \n",
       "std    1.000000e+00  \n",
       "min   -1.667450e+00  \n",
       "25%   -9.268335e-01  \n",
       "50%   -6.771858e-02  \n",
       "75%    4.210880e-01  \n",
       "max    1.665323e+00  "
      ]
     },
     "execution_count": 14,
     "metadata": {},
     "output_type": "execute_result"
    }
   ],
   "source": [
    "shuffled_clean_input_df_1.describe(include='all')"
   ]
  },
  {
   "cell_type": "code",
   "execution_count": 15,
   "metadata": {},
   "outputs": [
    {
     "name": "stdout",
     "output_type": "stream",
     "text": [
      "(639328, 6)\n"
     ]
    }
   ],
   "source": [
    "print(shuffled_clean_input_df_1.shape)"
   ]
  },
  {
   "cell_type": "code",
   "execution_count": 16,
   "metadata": {},
   "outputs": [],
   "source": [
    "shuffled_clean_input_df_2 = shuffled_clean_input_df_7D.drop('Ati', axis=1)\n",
    "shuffled_clean_input_df_2 = shuffled_clean_input_df_2.drop('An', axis=1)\n",
    "shuffled_clean_input_df_2 = shuffled_clean_input_df_2.drop('q', axis=1)\n",
    "shuffled_clean_input_df_2 = shuffled_clean_input_df_2.drop('smag', axis=1)\n",
    "shuffled_clean_input_df_2 = shuffled_clean_input_df_2.drop('x', axis=1)\n",
    "shuffled_clean_input_df_2 = shuffled_clean_input_df_2.drop('Ti_Te', axis=1)"
   ]
  },
  {
   "cell_type": "code",
   "execution_count": 17,
   "metadata": {},
   "outputs": [
    {
     "data": {
      "text/html": [
       "<div>\n",
       "<table border=\"1\" class=\"dataframe\">\n",
       "  <thead>\n",
       "    <tr style=\"text-align: right;\">\n",
       "      <th></th>\n",
       "      <th>Ate</th>\n",
       "    </tr>\n",
       "  </thead>\n",
       "  <tbody>\n",
       "    <tr>\n",
       "      <th>count</th>\n",
       "      <td>6.393280e+05</td>\n",
       "    </tr>\n",
       "    <tr>\n",
       "      <th>mean</th>\n",
       "      <td>1.298104e-17</td>\n",
       "    </tr>\n",
       "    <tr>\n",
       "      <th>std</th>\n",
       "      <td>1.000000e+00</td>\n",
       "    </tr>\n",
       "    <tr>\n",
       "      <th>min</th>\n",
       "      <td>-2.151511e+00</td>\n",
       "    </tr>\n",
       "    <tr>\n",
       "      <th>25%</th>\n",
       "      <td>-6.647545e-01</td>\n",
       "    </tr>\n",
       "    <tr>\n",
       "      <th>50%</th>\n",
       "      <td>-1.691691e-01</td>\n",
       "    </tr>\n",
       "    <tr>\n",
       "      <th>75%</th>\n",
       "      <td>4.916113e-01</td>\n",
       "    </tr>\n",
       "    <tr>\n",
       "      <th>max</th>\n",
       "      <td>1.813172e+00</td>\n",
       "    </tr>\n",
       "  </tbody>\n",
       "</table>\n",
       "</div>"
      ],
      "text/plain": [
       "                Ate\n",
       "count  6.393280e+05\n",
       "mean   1.298104e-17\n",
       "std    1.000000e+00\n",
       "min   -2.151511e+00\n",
       "25%   -6.647545e-01\n",
       "50%   -1.691691e-01\n",
       "75%    4.916113e-01\n",
       "max    1.813172e+00"
      ]
     },
     "execution_count": 17,
     "metadata": {},
     "output_type": "execute_result"
    }
   ],
   "source": [
    "shuffled_clean_input_df_2.describe(include='all')"
   ]
  },
  {
   "cell_type": "code",
   "execution_count": 18,
   "metadata": {},
   "outputs": [
    {
     "name": "stdout",
     "output_type": "stream",
     "text": [
      "(639328, 1)\n"
     ]
    }
   ],
   "source": [
    "print(shuffled_clean_input_df_2.shape)"
   ]
  },
  {
   "cell_type": "code",
   "execution_count": 19,
   "metadata": {},
   "outputs": [],
   "source": [
    "# *************************************************************************** #\n",
    "# Branch 1\n",
    "\n",
    "# Creates training dataset (90% of total data) for inputs\n",
    "x_train_1 = shuffled_clean_input_df_1.iloc[:int(\n",
    "    numpy.round(len(shuffled_clean_input_df_1)*0.9))]\n",
    "\n",
    "# Creates testing dataset (10% of total data) for inputs\n",
    "x_test_1 = shuffled_clean_input_df_1.iloc[int(\n",
    "    numpy.round(len(shuffled_clean_input_df_1)*0.9)):]\n",
    "# *************************************************************************** #"
   ]
  },
  {
   "cell_type": "code",
   "execution_count": 20,
   "metadata": {},
   "outputs": [],
   "source": [
    "# *************************************************************************** #\n",
    "# Branch 2\n",
    "\n",
    "# Creates training dataset (90% of total data) for inputs\n",
    "x_train_2 = shuffled_clean_input_df_2.iloc[:int(\n",
    "    numpy.round(len(shuffled_clean_input_df_2)*0.9))]\n",
    "\n",
    "# Creates testing dataset (10% of total data) for inputs\n",
    "x_test_2 = shuffled_clean_input_df_2.iloc[int(\n",
    "    numpy.round(len(shuffled_clean_input_df_2)*0.9)):]\n",
    "# *************************************************************************** #"
   ]
  },
  {
   "cell_type": "code",
   "execution_count": 21,
   "metadata": {},
   "outputs": [
    {
     "name": "stdout",
     "output_type": "stream",
     "text": [
      "__________________________________________________________________________________________________\n",
      "Layer (type)                    Output Shape         Param #     Connected to                     \n",
      "==================================================================================================\n",
      "input_1 (InputLayer)            (None, 6)            0                                            \n",
      "__________________________________________________________________________________________________\n",
      "dense_1 (Dense)                 (None, 30)           210         input_1[0][0]                    \n",
      "__________________________________________________________________________________________________\n",
      "dense_2 (Dense)                 (None, 30)           930         dense_1[0][0]                    \n",
      "__________________________________________________________________________________________________\n",
      "dense_3 (Dense)                 (None, 1)            31          dense_2[0][0]                    \n",
      "__________________________________________________________________________________________________\n",
      "input_2 (InputLayer)            (None, 1)            0                                            \n",
      "__________________________________________________________________________________________________\n",
      "dense_4 (Dense)                 (None, 1)            2           dense_3[0][0]                    \n",
      "__________________________________________________________________________________________________\n",
      "dense_5 (Dense)                 (None, 1)            2           input_2[0][0]                    \n",
      "__________________________________________________________________________________________________\n",
      "add_1 (Add)                     (None, 1)            0           dense_4[0][0]                    \n",
      "                                                                 dense_5[0][0]                    \n",
      "__________________________________________________________________________________________________\n",
      "dense_6 (Dense)                 (None, 1)            2           add_1[0][0]                      \n",
      "__________________________________________________________________________________________________\n",
      "dense_7 (Dense)                 (None, 1)            2           dense_6[0][0]                    \n",
      "==================================================================================================\n",
      "Total params: 1,179\n",
      "Trainable params: 1,173\n",
      "Non-trainable params: 6\n",
      "__________________________________________________________________________________________________\n",
      "None\n"
     ]
    },
    {
     "ename": "OSError",
     "evalue": "`pydot` failed to call GraphViz.Please install GraphViz (https://www.graphviz.org/) and ensure that its executables are in the $PATH.",
     "output_type": "error",
     "traceback": [
      "\u001b[0;31m---------------------------------------------------------------------------\u001b[0m",
      "\u001b[0;31mFileNotFoundError\u001b[0m                         Traceback (most recent call last)",
      "\u001b[0;32m/usr/local/lib/python3.5/dist-packages/pydot.py\u001b[0m in \u001b[0;36mcreate\u001b[0;34m(self, prog, format, encoding)\u001b[0m\n\u001b[1;32m   1860\u001b[0m                 \u001b[0mshell\u001b[0m\u001b[0;34m=\u001b[0m\u001b[0;32mFalse\u001b[0m\u001b[0;34m,\u001b[0m\u001b[0;34m\u001b[0m\u001b[0m\n\u001b[0;32m-> 1861\u001b[0;31m                 stderr=subprocess.PIPE, stdout=subprocess.PIPE)\n\u001b[0m\u001b[1;32m   1862\u001b[0m         \u001b[0;32mexcept\u001b[0m \u001b[0mOSError\u001b[0m \u001b[0;32mas\u001b[0m \u001b[0me\u001b[0m\u001b[0;34m:\u001b[0m\u001b[0;34m\u001b[0m\u001b[0m\n",
      "\u001b[0;32m/usr/lib/python3.5/subprocess.py\u001b[0m in \u001b[0;36m__init__\u001b[0;34m(self, args, bufsize, executable, stdin, stdout, stderr, preexec_fn, close_fds, shell, cwd, env, universal_newlines, startupinfo, creationflags, restore_signals, start_new_session, pass_fds)\u001b[0m\n\u001b[1;32m    946\u001b[0m                                 \u001b[0merrread\u001b[0m\u001b[0;34m,\u001b[0m \u001b[0merrwrite\u001b[0m\u001b[0;34m,\u001b[0m\u001b[0;34m\u001b[0m\u001b[0m\n\u001b[0;32m--> 947\u001b[0;31m                                 restore_signals, start_new_session)\n\u001b[0m\u001b[1;32m    948\u001b[0m         \u001b[0;32mexcept\u001b[0m\u001b[0;34m:\u001b[0m\u001b[0;34m\u001b[0m\u001b[0m\n",
      "\u001b[0;32m/usr/lib/python3.5/subprocess.py\u001b[0m in \u001b[0;36m_execute_child\u001b[0;34m(self, args, executable, preexec_fn, close_fds, pass_fds, cwd, env, startupinfo, creationflags, shell, p2cread, p2cwrite, c2pread, c2pwrite, errread, errwrite, restore_signals, start_new_session)\u001b[0m\n\u001b[1;32m   1550\u001b[0m                                 \u001b[0merr_msg\u001b[0m \u001b[0;34m+=\u001b[0m \u001b[0;34m': '\u001b[0m \u001b[0;34m+\u001b[0m \u001b[0mrepr\u001b[0m\u001b[0;34m(\u001b[0m\u001b[0morig_executable\u001b[0m\u001b[0;34m)\u001b[0m\u001b[0;34m\u001b[0m\u001b[0m\n\u001b[0;32m-> 1551\u001b[0;31m                     \u001b[0;32mraise\u001b[0m \u001b[0mchild_exception_type\u001b[0m\u001b[0;34m(\u001b[0m\u001b[0merrno_num\u001b[0m\u001b[0;34m,\u001b[0m \u001b[0merr_msg\u001b[0m\u001b[0;34m)\u001b[0m\u001b[0;34m\u001b[0m\u001b[0m\n\u001b[0m\u001b[1;32m   1552\u001b[0m                 \u001b[0;32mraise\u001b[0m \u001b[0mchild_exception_type\u001b[0m\u001b[0;34m(\u001b[0m\u001b[0merr_msg\u001b[0m\u001b[0;34m)\u001b[0m\u001b[0;34m\u001b[0m\u001b[0m\n",
      "\u001b[0;31mFileNotFoundError\u001b[0m: [Errno 2] No such file or directory: 'dot'",
      "\nDuring handling of the above exception, another exception occurred:\n",
      "\u001b[0;31mFileNotFoundError\u001b[0m                         Traceback (most recent call last)",
      "\u001b[0;32m/usr/local/lib/python3.5/dist-packages/keras/utils/vis_utils.py\u001b[0m in \u001b[0;36m_check_pydot\u001b[0;34m()\u001b[0m\n\u001b[1;32m     25\u001b[0m         \u001b[0;31m# to check the pydot/graphviz installation.\u001b[0m\u001b[0;34m\u001b[0m\u001b[0;34m\u001b[0m\u001b[0m\n\u001b[0;32m---> 26\u001b[0;31m         \u001b[0mpydot\u001b[0m\u001b[0;34m.\u001b[0m\u001b[0mDot\u001b[0m\u001b[0;34m.\u001b[0m\u001b[0mcreate\u001b[0m\u001b[0;34m(\u001b[0m\u001b[0mpydot\u001b[0m\u001b[0;34m.\u001b[0m\u001b[0mDot\u001b[0m\u001b[0;34m(\u001b[0m\u001b[0;34m)\u001b[0m\u001b[0;34m)\u001b[0m\u001b[0;34m\u001b[0m\u001b[0m\n\u001b[0m\u001b[1;32m     27\u001b[0m     \u001b[0;32mexcept\u001b[0m \u001b[0mOSError\u001b[0m\u001b[0;34m:\u001b[0m\u001b[0;34m\u001b[0m\u001b[0m\n",
      "\u001b[0;32m/usr/local/lib/python3.5/dist-packages/pydot.py\u001b[0m in \u001b[0;36mcreate\u001b[0;34m(self, prog, format, encoding)\u001b[0m\n\u001b[1;32m   1866\u001b[0m                     prog=prog)\n\u001b[0;32m-> 1867\u001b[0;31m                 \u001b[0;32mraise\u001b[0m \u001b[0mOSError\u001b[0m\u001b[0;34m(\u001b[0m\u001b[0;34m*\u001b[0m\u001b[0margs\u001b[0m\u001b[0;34m)\u001b[0m\u001b[0;34m\u001b[0m\u001b[0m\n\u001b[0m\u001b[1;32m   1868\u001b[0m             \u001b[0;32melse\u001b[0m\u001b[0;34m:\u001b[0m\u001b[0;34m\u001b[0m\u001b[0m\n",
      "\u001b[0;31mFileNotFoundError\u001b[0m: [Errno 2] \"dot\" not found in path.",
      "\nDuring handling of the above exception, another exception occurred:\n",
      "\u001b[0;31mOSError\u001b[0m                                   Traceback (most recent call last)",
      "\u001b[0;32m<ipython-input-21-5a4b9b90e3cd>\u001b[0m in \u001b[0;36m<module>\u001b[0;34m\u001b[0m\n\u001b[1;32m     51\u001b[0m \u001b[0;34m\u001b[0m\u001b[0m\n\u001b[1;32m     52\u001b[0m \u001b[0;31m# plot graph\u001b[0m\u001b[0;34m\u001b[0m\u001b[0;34m\u001b[0m\u001b[0m\n\u001b[0;32m---> 53\u001b[0;31m \u001b[0mplot_model\u001b[0m\u001b[0;34m(\u001b[0m\u001b[0mmodel\u001b[0m\u001b[0;34m,\u001b[0m \u001b[0;34m'ModelPlots/'\u001b[0m \u001b[0;34m+\u001b[0m \u001b[0mstr\u001b[0m\u001b[0;34m(\u001b[0m\u001b[0mfile_name\u001b[0m\u001b[0;34m)\u001b[0m \u001b[0;34m+\u001b[0m \u001b[0;34m'_model_plot.png'\u001b[0m\u001b[0;34m)\u001b[0m\u001b[0;34m\u001b[0m\u001b[0m\n\u001b[0m",
      "\u001b[0;32m/usr/local/lib/python3.5/dist-packages/keras/utils/vis_utils.py\u001b[0m in \u001b[0;36mplot_model\u001b[0;34m(model, to_file, show_shapes, show_layer_names, rankdir)\u001b[0m\n\u001b[1;32m    130\u001b[0m             \u001b[0;34m'LR'\u001b[0m \u001b[0mcreates\u001b[0m \u001b[0ma\u001b[0m \u001b[0mhorizontal\u001b[0m \u001b[0mplot\u001b[0m\u001b[0;34m.\u001b[0m\u001b[0;34m\u001b[0m\u001b[0m\n\u001b[1;32m    131\u001b[0m     \"\"\"\n\u001b[0;32m--> 132\u001b[0;31m     \u001b[0mdot\u001b[0m \u001b[0;34m=\u001b[0m \u001b[0mmodel_to_dot\u001b[0m\u001b[0;34m(\u001b[0m\u001b[0mmodel\u001b[0m\u001b[0;34m,\u001b[0m \u001b[0mshow_shapes\u001b[0m\u001b[0;34m,\u001b[0m \u001b[0mshow_layer_names\u001b[0m\u001b[0;34m,\u001b[0m \u001b[0mrankdir\u001b[0m\u001b[0;34m)\u001b[0m\u001b[0;34m\u001b[0m\u001b[0m\n\u001b[0m\u001b[1;32m    133\u001b[0m     \u001b[0m_\u001b[0m\u001b[0;34m,\u001b[0m \u001b[0mextension\u001b[0m \u001b[0;34m=\u001b[0m \u001b[0mos\u001b[0m\u001b[0;34m.\u001b[0m\u001b[0mpath\u001b[0m\u001b[0;34m.\u001b[0m\u001b[0msplitext\u001b[0m\u001b[0;34m(\u001b[0m\u001b[0mto_file\u001b[0m\u001b[0;34m)\u001b[0m\u001b[0;34m\u001b[0m\u001b[0m\n\u001b[1;32m    134\u001b[0m     \u001b[0;32mif\u001b[0m \u001b[0;32mnot\u001b[0m \u001b[0mextension\u001b[0m\u001b[0;34m:\u001b[0m\u001b[0;34m\u001b[0m\u001b[0m\n",
      "\u001b[0;32m/usr/local/lib/python3.5/dist-packages/keras/utils/vis_utils.py\u001b[0m in \u001b[0;36mmodel_to_dot\u001b[0;34m(model, show_shapes, show_layer_names, rankdir)\u001b[0m\n\u001b[1;32m     53\u001b[0m     \u001b[0;32mfrom\u001b[0m \u001b[0;34m.\u001b[0m\u001b[0;34m.\u001b[0m\u001b[0mmodels\u001b[0m \u001b[0;32mimport\u001b[0m \u001b[0mSequential\u001b[0m\u001b[0;34m\u001b[0m\u001b[0m\n\u001b[1;32m     54\u001b[0m \u001b[0;34m\u001b[0m\u001b[0m\n\u001b[0;32m---> 55\u001b[0;31m     \u001b[0m_check_pydot\u001b[0m\u001b[0;34m(\u001b[0m\u001b[0;34m)\u001b[0m\u001b[0;34m\u001b[0m\u001b[0m\n\u001b[0m\u001b[1;32m     56\u001b[0m     \u001b[0mdot\u001b[0m \u001b[0;34m=\u001b[0m \u001b[0mpydot\u001b[0m\u001b[0;34m.\u001b[0m\u001b[0mDot\u001b[0m\u001b[0;34m(\u001b[0m\u001b[0;34m)\u001b[0m\u001b[0;34m\u001b[0m\u001b[0m\n\u001b[1;32m     57\u001b[0m     \u001b[0mdot\u001b[0m\u001b[0;34m.\u001b[0m\u001b[0mset\u001b[0m\u001b[0;34m(\u001b[0m\u001b[0;34m'rankdir'\u001b[0m\u001b[0;34m,\u001b[0m \u001b[0mrankdir\u001b[0m\u001b[0;34m)\u001b[0m\u001b[0;34m\u001b[0m\u001b[0m\n",
      "\u001b[0;32m/usr/local/lib/python3.5/dist-packages/keras/utils/vis_utils.py\u001b[0m in \u001b[0;36m_check_pydot\u001b[0;34m()\u001b[0m\n\u001b[1;32m     27\u001b[0m     \u001b[0;32mexcept\u001b[0m \u001b[0mOSError\u001b[0m\u001b[0;34m:\u001b[0m\u001b[0;34m\u001b[0m\u001b[0m\n\u001b[1;32m     28\u001b[0m         raise OSError(\n\u001b[0;32m---> 29\u001b[0;31m             \u001b[0;34m'`pydot` failed to call GraphViz.'\u001b[0m\u001b[0;34m\u001b[0m\u001b[0m\n\u001b[0m\u001b[1;32m     30\u001b[0m             \u001b[0;34m'Please install GraphViz (https://www.graphviz.org/) '\u001b[0m\u001b[0;34m\u001b[0m\u001b[0m\n\u001b[1;32m     31\u001b[0m             'and ensure that its executables are in the $PATH.')\n",
      "\u001b[0;31mOSError\u001b[0m: `pydot` failed to call GraphViz.Please install GraphViz (https://www.graphviz.org/) and ensure that its executables are in the $PATH."
     ]
    }
   ],
   "source": [
    "# branch1\n",
    "visible_branch1 = Input(shape=(6,))\n",
    "hidden1_branch1 = Dense(30,\n",
    "        activation='tanh',\n",
    "        kernel_initializer='glorot_normal',\n",
    "        kernel_regularizer=regularizers.l2(0.00005),\n",
    "        use_bias=True, bias_initializer='glorot_normal')(visible_branch1)\n",
    "hidden2_branch1 = Dense(30,\n",
    "        activation='tanh',\n",
    "        kernel_initializer='glorot_normal',\n",
    "        kernel_regularizer=regularizers.l2(0.00005),\n",
    "        use_bias=True, bias_initializer='glorot_normal')(hidden1_branch1)\n",
    "theta_branch1 = Dense(1,\n",
    "        activation='tanh',\n",
    "        kernel_initializer='glorot_normal',\n",
    "        kernel_regularizer=regularizers.l2(0.00005),\n",
    "        use_bias=True, bias_initializer='glorot_normal')(hidden2_branch1)\n",
    "theta_branch1_feeder = Dense(1,\n",
    "        activation='linear',\n",
    "        kernel_initializer=Constant(value=-1),\n",
    "        bias_initializer='Zeros',\n",
    "        trainable=False)(theta_branch1)\n",
    "\n",
    "# branch2 (Ate input)\n",
    "visible_branch2 = Input(shape=(1,))\n",
    "visible_branch2_feeder = Dense(1,\n",
    "                activation='linear')(visible_branch2)\n",
    "\n",
    "# addition_pooling (effectively subtraction though...)\n",
    "addition_pooling = keras.layers.Add()([theta_branch1_feeder, visible_branch2_feeder])\n",
    "\n",
    "\n",
    "TR = Dense(1, activation='relu',\n",
    "           kernel_initializer='Ones',\n",
    "           bias_initializer='Zeros',\n",
    "           trainable=False)(addition_pooling)\n",
    "\n",
    "# merge input models\n",
    "#merge = concatenate([hidden2_branch1, TR])\n",
    "\n",
    "# interpretation model\n",
    "output = Dense(1, activation='linear',\n",
    "           kernel_initializer='Ones',\n",
    "           bias_initializer='Zeros',\n",
    "           trainable=False)(TR)\n",
    "\n",
    "model = Model(inputs=[visible_branch1, visible_branch2], outputs=output)\n",
    "\n",
    "# summarize layers\n",
    "print(model.summary())\n",
    "\n",
    "# plot graph\n",
    "plot_model(model, 'ModelPlots/' + str(file_name) + '_model_plot.png')"
   ]
  },
  {
   "cell_type": "code",
   "execution_count": 22,
   "metadata": {},
   "outputs": [
    {
     "name": "stdout",
     "output_type": "stream",
     "text": [
      "Train on 575395 samples, validate on 63933 samples\n",
      "Epoch 1/100\n",
      " - 29s - loss: 0.6025 - mean_absolute_error: 0.6636 - mean_squared_error: 0.5975 - rmse: 0.7621 - val_loss: 0.6151 - val_mean_absolute_error: 0.6678 - val_mean_squared_error: 0.6088 - val_rmse: 0.7533\n",
      "Epoch 2/100\n",
      " - 29s - loss: 0.5804 - mean_absolute_error: 0.6510 - mean_squared_error: 0.5735 - rmse: 0.7470 - val_loss: 0.5989 - val_mean_absolute_error: 0.6607 - val_mean_squared_error: 0.5915 - val_rmse: 0.7437\n",
      "Epoch 3/100\n",
      " - 29s - loss: 0.5765 - mean_absolute_error: 0.6483 - mean_squared_error: 0.5688 - rmse: 0.7441 - val_loss: 0.6000 - val_mean_absolute_error: 0.6590 - val_mean_squared_error: 0.5920 - val_rmse: 0.7442\n",
      "Epoch 4/100\n",
      " - 29s - loss: 0.5746 - mean_absolute_error: 0.6468 - mean_squared_error: 0.5664 - rmse: 0.7425 - val_loss: 0.5921 - val_mean_absolute_error: 0.6537 - val_mean_squared_error: 0.5838 - val_rmse: 0.7385\n",
      "Epoch 5/100\n",
      " - 29s - loss: 0.5734 - mean_absolute_error: 0.6459 - mean_squared_error: 0.5649 - rmse: 0.7415 - val_loss: 0.6065 - val_mean_absolute_error: 0.6643 - val_mean_squared_error: 0.5980 - val_rmse: 0.7478\n",
      "Epoch 6/100\n",
      " - 29s - loss: 0.5725 - mean_absolute_error: 0.6453 - mean_squared_error: 0.5639 - rmse: 0.7408 - val_loss: 0.6116 - val_mean_absolute_error: 0.6627 - val_mean_squared_error: 0.6030 - val_rmse: 0.7488\n",
      "Epoch 7/100\n",
      " - 29s - loss: 0.5719 - mean_absolute_error: 0.6449 - mean_squared_error: 0.5631 - rmse: 0.7404 - val_loss: 0.5965 - val_mean_absolute_error: 0.6576 - val_mean_squared_error: 0.5878 - val_rmse: 0.7410\n",
      "Epoch 8/100\n",
      " - 29s - loss: 0.5715 - mean_absolute_error: 0.6445 - mean_squared_error: 0.5626 - rmse: 0.7401 - val_loss: 0.5930 - val_mean_absolute_error: 0.6537 - val_mean_squared_error: 0.5842 - val_rmse: 0.7389\n",
      "Epoch 9/100\n",
      " - 29s - loss: 0.5710 - mean_absolute_error: 0.6442 - mean_squared_error: 0.5621 - rmse: 0.7397 - val_loss: 0.5980 - val_mean_absolute_error: 0.6554 - val_mean_squared_error: 0.5890 - val_rmse: 0.7415\n",
      "Epoch 10/100\n",
      " - 29s - loss: 0.5710 - mean_absolute_error: 0.6440 - mean_squared_error: 0.5619 - rmse: 0.7396 - val_loss: 0.5924 - val_mean_absolute_error: 0.6551 - val_mean_squared_error: 0.5834 - val_rmse: 0.7390\n",
      "Epoch 11/100\n",
      " - 29s - loss: 0.5707 - mean_absolute_error: 0.6439 - mean_squared_error: 0.5616 - rmse: 0.7394 - val_loss: 0.5909 - val_mean_absolute_error: 0.6516 - val_mean_squared_error: 0.5818 - val_rmse: 0.7381\n",
      "Epoch 12/100\n",
      " - 29s - loss: 0.5705 - mean_absolute_error: 0.6436 - mean_squared_error: 0.5614 - rmse: 0.7392 - val_loss: 0.6187 - val_mean_absolute_error: 0.6724 - val_mean_squared_error: 0.6096 - val_rmse: 0.7546\n",
      "Epoch 13/100\n",
      " - 29s - loss: 0.5704 - mean_absolute_error: 0.6436 - mean_squared_error: 0.5612 - rmse: 0.7391 - val_loss: 0.5936 - val_mean_absolute_error: 0.6577 - val_mean_squared_error: 0.5845 - val_rmse: 0.7406\n",
      "Epoch 14/100\n",
      " - 29s - loss: 0.5703 - mean_absolute_error: 0.6436 - mean_squared_error: 0.5611 - rmse: 0.7390 - val_loss: 0.5966 - val_mean_absolute_error: 0.6562 - val_mean_squared_error: 0.5874 - val_rmse: 0.7417\n",
      "Epoch 15/100\n",
      " - 29s - loss: 0.5700 - mean_absolute_error: 0.6434 - mean_squared_error: 0.5608 - rmse: 0.7389 - val_loss: 0.5930 - val_mean_absolute_error: 0.6547 - val_mean_squared_error: 0.5838 - val_rmse: 0.7392\n",
      "Epoch 16/100\n",
      " - 29s - loss: 0.5700 - mean_absolute_error: 0.6433 - mean_squared_error: 0.5607 - rmse: 0.7388 - val_loss: 0.6052 - val_mean_absolute_error: 0.6627 - val_mean_squared_error: 0.5959 - val_rmse: 0.7466\n",
      "Epoch 17/100\n",
      " - 29s - loss: 0.5698 - mean_absolute_error: 0.6431 - mean_squared_error: 0.5605 - rmse: 0.7386 - val_loss: 0.6088 - val_mean_absolute_error: 0.6659 - val_mean_squared_error: 0.5995 - val_rmse: 0.7493\n",
      "Epoch 18/100\n",
      " - 29s - loss: 0.5698 - mean_absolute_error: 0.6431 - mean_squared_error: 0.5604 - rmse: 0.7386 - val_loss: 0.5949 - val_mean_absolute_error: 0.6560 - val_mean_squared_error: 0.5855 - val_rmse: 0.7414\n",
      "Epoch 19/100\n",
      " - 29s - loss: 0.5696 - mean_absolute_error: 0.6429 - mean_squared_error: 0.5602 - rmse: 0.7385 - val_loss: 0.5858 - val_mean_absolute_error: 0.6502 - val_mean_squared_error: 0.5764 - val_rmse: 0.7351\n",
      "Epoch 20/100\n",
      " - 29s - loss: 0.5695 - mean_absolute_error: 0.6429 - mean_squared_error: 0.5602 - rmse: 0.7384 - val_loss: 0.5802 - val_mean_absolute_error: 0.6490 - val_mean_squared_error: 0.5708 - val_rmse: 0.7320\n",
      "Epoch 21/100\n",
      " - 29s - loss: 0.5695 - mean_absolute_error: 0.6429 - mean_squared_error: 0.5601 - rmse: 0.7383 - val_loss: 0.5953 - val_mean_absolute_error: 0.6576 - val_mean_squared_error: 0.5859 - val_rmse: 0.7418\n",
      "Epoch 22/100\n",
      " - 29s - loss: 0.5695 - mean_absolute_error: 0.6429 - mean_squared_error: 0.5601 - rmse: 0.7383 - val_loss: 0.5927 - val_mean_absolute_error: 0.6543 - val_mean_squared_error: 0.5832 - val_rmse: 0.7392\n",
      "Epoch 23/100\n",
      " - 29s - loss: 0.5694 - mean_absolute_error: 0.6427 - mean_squared_error: 0.5599 - rmse: 0.7382 - val_loss: 0.5895 - val_mean_absolute_error: 0.6535 - val_mean_squared_error: 0.5801 - val_rmse: 0.7371\n",
      "Epoch 24/100\n",
      " - 29s - loss: 0.5694 - mean_absolute_error: 0.6427 - mean_squared_error: 0.5599 - rmse: 0.7382 - val_loss: 0.5897 - val_mean_absolute_error: 0.6542 - val_mean_squared_error: 0.5802 - val_rmse: 0.7377\n",
      "Epoch 25/100\n",
      " - 29s - loss: 0.5693 - mean_absolute_error: 0.6426 - mean_squared_error: 0.5598 - rmse: 0.7381 - val_loss: 0.5914 - val_mean_absolute_error: 0.6536 - val_mean_squared_error: 0.5819 - val_rmse: 0.7388\n",
      "Epoch 26/100\n",
      " - 29s - loss: 0.5691 - mean_absolute_error: 0.6425 - mean_squared_error: 0.5596 - rmse: 0.7380 - val_loss: 0.5969 - val_mean_absolute_error: 0.6574 - val_mean_squared_error: 0.5874 - val_rmse: 0.7420\n",
      "Epoch 27/100\n",
      " - 29s - loss: 0.5691 - mean_absolute_error: 0.6425 - mean_squared_error: 0.5596 - rmse: 0.7379 - val_loss: 0.5959 - val_mean_absolute_error: 0.6544 - val_mean_squared_error: 0.5864 - val_rmse: 0.7404\n",
      "Epoch 28/100\n",
      " - 29s - loss: 0.5690 - mean_absolute_error: 0.6424 - mean_squared_error: 0.5595 - rmse: 0.7380 - val_loss: 0.5855 - val_mean_absolute_error: 0.6527 - val_mean_squared_error: 0.5759 - val_rmse: 0.7352\n",
      "Epoch 29/100\n",
      " - 29s - loss: 0.5691 - mean_absolute_error: 0.6424 - mean_squared_error: 0.5595 - rmse: 0.7380 - val_loss: 0.5845 - val_mean_absolute_error: 0.6496 - val_mean_squared_error: 0.5749 - val_rmse: 0.7350\n",
      "Epoch 30/100\n",
      " - 29s - loss: 0.5689 - mean_absolute_error: 0.6423 - mean_squared_error: 0.5592 - rmse: 0.7378 - val_loss: 0.5924 - val_mean_absolute_error: 0.6538 - val_mean_squared_error: 0.5828 - val_rmse: 0.7386\n",
      "Epoch 31/100\n",
      " - 29s - loss: 0.5689 - mean_absolute_error: 0.6423 - mean_squared_error: 0.5592 - rmse: 0.7379 - val_loss: 0.5973 - val_mean_absolute_error: 0.6566 - val_mean_squared_error: 0.5877 - val_rmse: 0.7404\n",
      "Epoch 32/100\n",
      " - 29s - loss: 0.5688 - mean_absolute_error: 0.6422 - mean_squared_error: 0.5591 - rmse: 0.7378 - val_loss: 0.5950 - val_mean_absolute_error: 0.6560 - val_mean_squared_error: 0.5854 - val_rmse: 0.7414\n",
      "Epoch 33/100\n",
      " - 29s - loss: 0.5688 - mean_absolute_error: 0.6421 - mean_squared_error: 0.5591 - rmse: 0.7377 - val_loss: 0.6010 - val_mean_absolute_error: 0.6601 - val_mean_squared_error: 0.5914 - val_rmse: 0.7439\n",
      "Epoch 34/100\n",
      " - 29s - loss: 0.5688 - mean_absolute_error: 0.6423 - mean_squared_error: 0.5591 - rmse: 0.7378 - val_loss: 0.5849 - val_mean_absolute_error: 0.6503 - val_mean_squared_error: 0.5753 - val_rmse: 0.7351\n",
      "Epoch 35/100\n",
      " - 29s - loss: 0.5688 - mean_absolute_error: 0.6422 - mean_squared_error: 0.5591 - rmse: 0.7377 - val_loss: 0.6009 - val_mean_absolute_error: 0.6595 - val_mean_squared_error: 0.5913 - val_rmse: 0.7436\n",
      "Test loss: 0.6008931157308636\n",
      "val_mean_absolute_error: 0.6595331750232237\n",
      "score\n",
      "[0.6008931157308636, 0.6595331750232237, 0.591275403283049, 0.7549988189812826]\n",
      "model.metrics_names\n",
      "['loss', 'mean_absolute_error', 'mean_squared_error', 'rmse']\n"
     ]
    }
   ],
   "source": [
    "model.compile(loss='mean_squared_error',   #categorical_crossentropy\n",
    "              optimizer=Adam(lr=0.001, beta_1=0.9, beta_2=0.999),\n",
    "              metrics=[\"mae\", \"mean_squared_error\", rmse])\n",
    "\n",
    "# Add CallBacks (including TensorBoard)\n",
    "tbCallBack = keras.callbacks.TensorBoard(\n",
    "        log_dir='TensorBoard_logs/' + str(file_name), write_graph = False, write_images=False, write_grads=False)\n",
    "EarlyStoppingCallBack = keras.callbacks.EarlyStopping(\n",
    "        monitor='val_rmse', min_delta=0, patience=15, verbose=0, mode='auto')\n",
    "\n",
    "history = model.fit([x_train_1, x_train_2],\n",
    "                    y = y_train,\n",
    "                    batch_size=batch_size,\n",
    "                    epochs=epochs,\n",
    "                    shuffle=True,\n",
    "                    verbose=2,\n",
    "                    # validation_data=(x_test, y_test),\n",
    "                    validation_data=([x_test_1, x_test_2], y_test),\n",
    "                    callbacks=[tbCallBack, EarlyStoppingCallBack])\n",
    "\n",
    "# score = model.evaluate(x_test, y_test, verbose=0)\n",
    "score = model.evaluate([x_test_1, x_test_2], y_test, verbose=0)\n",
    "\n",
    "print('Test loss:', score[0])\n",
    "print('val_mean_absolute_error:', score[1])\n",
    "\n",
    "print(\"score\")\n",
    "print(score)\n",
    "\n",
    "print(\"model.metrics_names\")\n",
    "print(model.metrics_names)\n",
    "\n",
    "# creates a HDF5 file 'my_model.h5'\n",
    "model.save(\"./Saved-Networks/\" + str(file_name) +\".h5\")\n",
    "\n",
    "# Create output file\n",
    "OutputFile = open(\"./Loss-Values/\" +str(file_name) +\".txt\", \"w+\")\n",
    "OutputFile.write(\"Test loss: \" + str(score[0]) + \"\\n\")\n",
    "OutputFile.write(\"val_mean_absolute_error: \" +str(score[1]) + \"\\n\")\n",
    "OutputFile.write(\"val_mean_squared_error: \" +str(score[2]) + \"\\n\")\n",
    "OutputFile.write(\"RMSE: \" +str(score[3]) + \"\\n\")\n",
    "OutputFile.close()\n",
    "\n",
    "del history\n",
    "del model\n"
   ]
  },
  {
   "cell_type": "code",
   "execution_count": null,
   "metadata": {},
   "outputs": [],
   "source": []
  }
 ],
 "metadata": {
  "kernelspec": {
   "display_name": "Python 3",
   "language": "python",
   "name": "python3"
  },
  "language_info": {
   "codemirror_mode": {
    "name": "ipython",
    "version": 3
   },
   "file_extension": ".py",
   "mimetype": "text/x-python",
   "name": "python",
   "nbconvert_exporter": "python",
   "pygments_lexer": "ipython3",
   "version": "3.5.2"
  }
 },
 "nbformat": 4,
 "nbformat_minor": 2
}
